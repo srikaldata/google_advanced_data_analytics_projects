{
 "cells": [
  {
   "cell_type": "markdown",
   "id": "9ce51b69",
   "metadata": {
    "papermill": {
     "duration": 0.002596,
     "end_time": "2025-02-03T01:22:25.861904",
     "exception": false,
     "start_time": "2025-02-03T01:22:25.859308",
     "status": "completed"
    },
    "tags": []
   },
   "source": [
    "# Tiktok claim classification project proposal"
   ]
  },
  {
   "cell_type": "markdown",
   "id": "dec4871b",
   "metadata": {
    "papermill": {
     "duration": 0.001525,
     "end_time": "2025-02-03T01:22:25.865845",
     "exception": false,
     "start_time": "2025-02-03T01:22:25.864320",
     "status": "completed"
    },
    "tags": []
   },
   "source": [
    "# **Plan (1-2 days)**\n",
    "1. Understand how claim submission works\n",
    "2. Identify existing KPIs and their performance\n",
    "3. Identify relevant datasets and sources\n",
    "## Project scope:\n",
    "* Build a classification model\n",
    "* Primary tool: python\n",
    "> Project estimate: **~ 10-12 days**\n",
    "## Stakeholder needs:\n",
    "* **Users**: Better processing of claims\n",
    "* **Data team**: Data cleaning (accurate and timely data), stat testing \n",
    "* **PMO**: Project plan, deliverables list, milestones, regular updates\n",
    "* **Finance lead**: Budgetary info, cost saving info\n",
    "* **Ops lead**: Smooth integration of model into production\n",
    "* Clear and direct communication"
   ]
  },
  {
   "cell_type": "markdown",
   "id": "324dd112",
   "metadata": {
    "papermill": {
     "duration": 0.00145,
     "end_time": "2025-02-03T01:22:25.869035",
     "exception": false,
     "start_time": "2025-02-03T01:22:25.867585",
     "status": "completed"
    },
    "tags": []
   },
   "source": [
    "# **Analyze (2-4 days):**\n",
    "* Understand the data engineer’s existing pipeline \n",
    "* Prepare analysis setup using sample data\n",
    "* Perform EDA \n",
    "* Find inconsistencies\n",
    "* Find outliers and the reasons behind\n",
    "* Find the feature set consulting with SMEs\n",
    "* Tokenize and get the data ready for classification"
   ]
  },
  {
   "cell_type": "markdown",
   "id": "850b5239",
   "metadata": {
    "papermill": {
     "duration": 0.001404,
     "end_time": "2025-02-03T01:22:25.872117",
     "exception": false,
     "start_time": "2025-02-03T01:22:25.870713",
     "status": "completed"
    },
    "tags": []
   },
   "source": [
    "# **Construct (2-3 days)**\n",
    "* Classification models\n",
    "* Building a set of models and comparing performances\n",
    "* Evaluate models → CV, Precision, Recall, Accuracy, F1 score"
   ]
  },
  {
   "cell_type": "markdown",
   "id": "8e494d63",
   "metadata": {
    "papermill": {
     "duration": 0.001365,
     "end_time": "2025-02-03T01:22:25.875093",
     "exception": false,
     "start_time": "2025-02-03T01:22:25.873728",
     "status": "completed"
    },
    "tags": []
   },
   "source": [
    "# **Execute (1-2 days)**\n",
    "* Share the improved KPIs → visualizations, comparisons\n",
    "* Generate required reports → executive report, recommendations\n",
    "* Feedback and make changes throughout the PACE pipeline"
   ]
  }
 ],
 "metadata": {
  "kaggle": {
   "accelerator": "none",
   "dataSources": [],
   "dockerImageVersionId": 30839,
   "isGpuEnabled": false,
   "isInternetEnabled": true,
   "language": "python",
   "sourceType": "notebook"
  },
  "kernelspec": {
   "display_name": "Python 3",
   "language": "python",
   "name": "python3"
  },
  "language_info": {
   "codemirror_mode": {
    "name": "ipython",
    "version": 3
   },
   "file_extension": ".py",
   "mimetype": "text/x-python",
   "name": "python",
   "nbconvert_exporter": "python",
   "pygments_lexer": "ipython3",
   "version": "3.10.12"
  },
  "papermill": {
   "default_parameters": {},
   "duration": 3.424938,
   "end_time": "2025-02-03T01:22:26.497422",
   "environment_variables": {},
   "exception": null,
   "input_path": "__notebook__.ipynb",
   "output_path": "__notebook__.ipynb",
   "parameters": {},
   "start_time": "2025-02-03T01:22:23.072484",
   "version": "2.6.0"
  }
 },
 "nbformat": 4,
 "nbformat_minor": 5
}
