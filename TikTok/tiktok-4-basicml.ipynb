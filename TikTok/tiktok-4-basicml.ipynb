{
 "cells": [
  {
   "cell_type": "markdown",
   "id": "db116fd2",
   "metadata": {
    "id": "DtNBZFHO3M7n",
    "papermill": {
     "duration": 0.019702,
     "end_time": "2025-02-12T04:35:30.234027",
     "exception": false,
     "start_time": "2025-02-12T04:35:30.214325",
     "status": "completed"
    },
    "tags": []
   },
   "source": [
    "# **TikTok Project**\n",
    "**Course 5 - Regression Analysis: Simplify complex data relationships**"
   ]
  },
  {
   "cell_type": "code",
   "execution_count": 1,
   "id": "5a6847e1",
   "metadata": {
    "execution": {
     "iopub.execute_input": "2025-02-12T04:35:30.272269Z",
     "iopub.status.busy": "2025-02-12T04:35:30.271798Z",
     "iopub.status.idle": "2025-02-12T04:35:31.731318Z",
     "shell.execute_reply": "2025-02-12T04:35:31.730114Z"
    },
    "papermill": {
     "duration": 1.480788,
     "end_time": "2025-02-12T04:35:31.733069",
     "exception": false,
     "start_time": "2025-02-12T04:35:30.252281",
     "status": "completed"
    },
    "tags": []
   },
   "outputs": [
    {
     "name": "stdout",
     "output_type": "stream",
     "text": [
      "Python version:  3.10.12\n",
      "numpy version:  1.26.4\n",
      "pandas version:  2.2.3\n",
      "statsmodels version:  0.14.4\n"
     ]
    }
   ],
   "source": [
    "import numpy as np\n",
    "import pandas as pd\n",
    "import platform\n",
    "import statsmodels\n",
    "print('Python version: ', platform.python_version())\n",
    "print('numpy version: ', np.__version__)\n",
    "print('pandas version: ', pd.__version__)\n",
    "print('statsmodels version: ', statsmodels.__version__)"
   ]
  },
  {
   "cell_type": "markdown",
   "id": "9875c503",
   "metadata": {
    "id": "Gd59VyT2NhgK",
    "papermill": {
     "duration": 0.017677,
     "end_time": "2025-02-12T04:35:31.770318",
     "exception": false,
     "start_time": "2025-02-12T04:35:31.752641",
     "status": "completed"
    },
    "tags": []
   },
   "source": [
    "You are a data professional at TikTok. The data team is working towards building a machine learning model that can be used to determine whether a video contains a claim or whether it offers an opinion. With a successful prediction model, TikTok can reduce the backlog of user reports and prioritize them more efficiently.\n",
    "\n",
    "The team is getting closer to completing the project, having completed an initial plan of action, initial Python coding work, EDA, and hypothesis testing.\n",
    "\n",
    "The TikTok team has reviewed the results of the hypothesis testing. TikTok’s Operations Lead, Maika Abadi, is interested in how different variables are associated with whether a user is verified. Earlier, the data team observed that if a user is verified, they are much more likely to post opinions. Now, the data team has decided to explore how to predict verified status to help them understand how video characteristics relate to verified users. Therefore, you have been asked to conduct a logistic regression using verified status as the outcome variable. The results may be used to inform the final model related to predicting whether a video is a claim vs an opinion.\n",
    "\n",
    "A notebook was structured and prepared to help you in this project. Please complete the following questions."
   ]
  },
  {
   "cell_type": "markdown",
   "id": "3bdffa16",
   "metadata": {
    "id": "rgSbVJvomcVa",
    "papermill": {
     "duration": 0.017339,
     "end_time": "2025-02-12T04:35:31.805119",
     "exception": false,
     "start_time": "2025-02-12T04:35:31.787780",
     "status": "completed"
    },
    "tags": []
   },
   "source": [
    "# **Course 5 End-of-course project: Regression modeling**\n",
    "\n",
    "\n",
    "In this activity, you will build a logistic regression model in Python. As you have learned, logistic regression helps you estimate the probability of an outcome. For data science professionals, this is a useful skill because it allows you to consider more than one variable against the variable you're measuring against. This opens the door for much more thorough and flexible analysis to be completed.\n",
    "\n",
    "<br/>\n",
    "\n",
    "**The purpose** of this project is to demostrate knowledge of EDA and regression models.\n",
    "\n",
    "**The goal** is to build a logistic regression model and evaluate the model.\n",
    "<br/>\n",
    "*This activity has three parts:*\n",
    "\n",
    "**Part 1:** EDA & Checking Model Assumptions\n",
    "* What are some purposes of EDA before constructing a logistic regression model?\n",
    "\n",
    "**Part 2:** Model Building and Evaluation\n",
    "* What resources do you find yourself using as you complete this stage?\n",
    "\n",
    "**Part 3:** Interpreting Model Results\n",
    "\n",
    "* What key insights emerged from your model(s)?\n",
    "\n",
    "* What business recommendations do you propose based on the models built?\n",
    "\n",
    "Follow the instructions and answer the question below to complete the activity. Then, you will complete an executive summary using the questions listed on the PACE Strategy Document.\n",
    "\n",
    "Be sure to complete this activity before moving on. The next course item will provide you with a completed exemplar to compare to your own work.\n"
   ]
  },
  {
   "cell_type": "markdown",
   "id": "5fa49fe9",
   "metadata": {
    "id": "7KFOyc3JPSiN",
    "papermill": {
     "duration": 0.017019,
     "end_time": "2025-02-12T04:35:31.839629",
     "exception": false,
     "start_time": "2025-02-12T04:35:31.822610",
     "status": "completed"
    },
    "tags": []
   },
   "source": [
    "# **Build a regression model**"
   ]
  },
  {
   "cell_type": "markdown",
   "id": "ce286e2a",
   "metadata": {
    "id": "3UCHQclzQDUL",
    "papermill": {
     "duration": 0.0171,
     "end_time": "2025-02-12T04:35:31.875431",
     "exception": false,
     "start_time": "2025-02-12T04:35:31.858331",
     "status": "completed"
    },
    "tags": []
   },
   "source": [
    "<img src=\"images/Pace.png\" width=\"100\" height=\"100\" align=left>\n",
    "\n",
    "# **PACE stages**"
   ]
  },
  {
   "cell_type": "markdown",
   "id": "fc8a7c59",
   "metadata": {
    "id": "VJfAWkcilRVx",
    "papermill": {
     "duration": 0.017251,
     "end_time": "2025-02-12T04:35:31.910078",
     "exception": false,
     "start_time": "2025-02-12T04:35:31.892827",
     "status": "completed"
    },
    "tags": []
   },
   "source": [
    "Throughout these project notebooks, you'll see references to the problem-solving framework PACE. The following notebook components are labeled with the respective PACE stage: Plan, Analyze, Construct, and Execute."
   ]
  },
  {
   "cell_type": "markdown",
   "id": "d6e7fd89",
   "metadata": {
    "id": "F5O5cx_qQJmX",
    "papermill": {
     "duration": 0.018091,
     "end_time": "2025-02-12T04:35:31.945762",
     "exception": false,
     "start_time": "2025-02-12T04:35:31.927671",
     "status": "completed"
    },
    "tags": []
   },
   "source": [
    "<img src=\"images/Plan.png\" width=\"100\" height=\"100\" align=left>\n",
    "\n",
    "\n",
    "## **PACE: Plan**\n",
    "Consider the questions in your PACE Strategy Document to reflect on the Plan stage."
   ]
  },
  {
   "cell_type": "markdown",
   "id": "faadf518",
   "metadata": {
    "id": "D8qYlvkLQsf2",
    "papermill": {
     "duration": 0.017248,
     "end_time": "2025-02-12T04:35:31.980799",
     "exception": false,
     "start_time": "2025-02-12T04:35:31.963551",
     "status": "completed"
    },
    "tags": []
   },
   "source": [
    "### **Task 1. Imports and loading**\n",
    "Import the data and packages that you've learned are needed for building regression models."
   ]
  },
  {
   "cell_type": "code",
   "execution_count": 2,
   "id": "4ddcd1f4",
   "metadata": {
    "execution": {
     "iopub.execute_input": "2025-02-12T04:35:32.017143Z",
     "iopub.status.busy": "2025-02-12T04:35:32.016643Z",
     "iopub.status.idle": "2025-02-12T04:35:33.684108Z",
     "shell.execute_reply": "2025-02-12T04:35:33.683260Z"
    },
    "id": "tCni9wAGphb0",
    "papermill": {
     "duration": 1.687817,
     "end_time": "2025-02-12T04:35:33.685997",
     "exception": false,
     "start_time": "2025-02-12T04:35:31.998180",
     "status": "completed"
    },
    "tags": []
   },
   "outputs": [],
   "source": [
    "# Import packages for data manipulation\n",
    "### YOUR CODE HERE ###\n",
    "import numpy as np\n",
    "import pandas as pd\n",
    "\n",
    "# Import packages for data visualization\n",
    "### YOUR CODE HERE ###\n",
    "import matplotlib.pyplot as plt\n",
    "import seaborn as sns\n",
    "\n",
    "# Import packages for data preprocessing\n",
    "### YOUR CODE HERE ###\n",
    "from sklearn.preprocessing import OneHotEncoder\n",
    "from sklearn.feature_extraction.text import CountVectorizer, TfidfVectorizer\n",
    "from sklearn.utils import resample\n",
    "\n",
    "# Import packages for data modeling\n",
    "### YOUR CODE HERE ###\n",
    "from sklearn.model_selection import train_test_split\n",
    "from sklearn.linear_model import LogisticRegression\n",
    "from sklearn.metrics import classification_report\n",
    "from sklearn.metrics import confusion_matrix, ConfusionMatrixDisplay\n"
   ]
  },
  {
   "cell_type": "markdown",
   "id": "bb69a0df",
   "metadata": {
    "id": "LjljvyG32kqe",
    "papermill": {
     "duration": 0.019654,
     "end_time": "2025-02-12T04:35:33.724844",
     "exception": false,
     "start_time": "2025-02-12T04:35:33.705190",
     "status": "completed"
    },
    "tags": []
   },
   "source": [
    "Load the TikTok dataset.\n",
    "\n",
    "**Note:** As shown in this cell, the dataset has been automatically loaded in for you. You do not need to download the .csv file, or provide more code, in order to access the dataset and proceed with this lab. Please continue with this activity by completing the following instructions."
   ]
  },
  {
   "cell_type": "code",
   "execution_count": 3,
   "id": "5745646c",
   "metadata": {
    "execution": {
     "iopub.execute_input": "2025-02-12T04:35:33.766850Z",
     "iopub.status.busy": "2025-02-12T04:35:33.766281Z",
     "iopub.status.idle": "2025-02-12T04:35:33.913801Z",
     "shell.execute_reply": "2025-02-12T04:35:33.912435Z"
    },
    "id": "C9ODhaOppqlw",
    "papermill": {
     "duration": 0.171086,
     "end_time": "2025-02-12T04:35:33.916643",
     "exception": false,
     "start_time": "2025-02-12T04:35:33.745557",
     "status": "completed"
    },
    "tags": []
   },
   "outputs": [],
   "source": [
    "# Load dataset into dataframe\n",
    "data = pd.read_csv('/kaggle/input/tiktok-dataset-1/tiktok_dataset.csv')"
   ]
  },
  {
   "cell_type": "markdown",
   "id": "02f4321b",
   "metadata": {
    "id": "OnrvCSfHUWPv",
    "papermill": {
     "duration": 0.019869,
     "end_time": "2025-02-12T04:35:33.955898",
     "exception": false,
     "start_time": "2025-02-12T04:35:33.936029",
     "status": "completed"
    },
    "tags": []
   },
   "source": [
    "<img src=\"images/Analyze.png\" width=\"100\" height=\"100\" align=left>\n",
    "\n",
    "## **PACE: Analyze**\n",
    "\n",
    "Consider the questions in your PACE Strategy Document to reflect on the Analyze stage.\n",
    "\n",
    "In this stage, consider the following question where applicable to complete your code response:\n",
    "\n",
    "* What are some purposes of EDA before constructing a logistic regression model?\n"
   ]
  },
  {
   "cell_type": "markdown",
   "id": "c74b5680",
   "metadata": {
    "id": "FZA0zpCSpYIL",
    "papermill": {
     "duration": 0.019754,
     "end_time": "2025-02-12T04:35:33.995417",
     "exception": false,
     "start_time": "2025-02-12T04:35:33.975663",
     "status": "completed"
    },
    "tags": []
   },
   "source": [
    "* to observe the dataset at hand for analysis\n",
    "* perform data cleaning and data validation to prepare the data for analysis (handle nulls, duplicates, errors and outliers)\n",
    "* to find out the nature of each variable's distribution and its relation with other variables\n",
    "* to temporarily fix the prioritized independent variables (without multi-collinearity) worthy of beginning the analysis with \n"
   ]
  },
  {
   "cell_type": "markdown",
   "id": "beb09f7c",
   "metadata": {
    "id": "rIcDG2e66wt9",
    "papermill": {
     "duration": 0.0181,
     "end_time": "2025-02-12T04:35:34.033190",
     "exception": false,
     "start_time": "2025-02-12T04:35:34.015090",
     "status": "completed"
    },
    "tags": []
   },
   "source": [
    "### **Task 2a. Explore data with EDA**\n",
    "\n",
    "Analyze the data and check for and handle missing values and duplicates."
   ]
  },
  {
   "cell_type": "markdown",
   "id": "2bd6ee60",
   "metadata": {
    "id": "JBHl90JIRuXk",
    "papermill": {
     "duration": 0.018511,
     "end_time": "2025-02-12T04:35:34.070112",
     "exception": false,
     "start_time": "2025-02-12T04:35:34.051601",
     "status": "completed"
    },
    "tags": []
   },
   "source": [
    "Inspect the first five rows of the dataframe."
   ]
  },
  {
   "cell_type": "code",
   "execution_count": 4,
   "id": "7e3573c1",
   "metadata": {
    "execution": {
     "iopub.execute_input": "2025-02-12T04:35:34.165136Z",
     "iopub.status.busy": "2025-02-12T04:35:34.164746Z",
     "iopub.status.idle": "2025-02-12T04:35:34.195276Z",
     "shell.execute_reply": "2025-02-12T04:35:34.193766Z"
    },
    "id": "2rfk95MLp4a_",
    "papermill": {
     "duration": 0.109184,
     "end_time": "2025-02-12T04:35:34.197132",
     "exception": false,
     "start_time": "2025-02-12T04:35:34.087948",
     "status": "completed"
    },
    "tags": []
   },
   "outputs": [
    {
     "data": {
      "text/html": [
       "<div>\n",
       "<style scoped>\n",
       "    .dataframe tbody tr th:only-of-type {\n",
       "        vertical-align: middle;\n",
       "    }\n",
       "\n",
       "    .dataframe tbody tr th {\n",
       "        vertical-align: top;\n",
       "    }\n",
       "\n",
       "    .dataframe thead th {\n",
       "        text-align: right;\n",
       "    }\n",
       "</style>\n",
       "<table border=\"1\" class=\"dataframe\">\n",
       "  <thead>\n",
       "    <tr style=\"text-align: right;\">\n",
       "      <th></th>\n",
       "      <th>#</th>\n",
       "      <th>claim_status</th>\n",
       "      <th>video_id</th>\n",
       "      <th>video_duration_sec</th>\n",
       "      <th>video_transcription_text</th>\n",
       "      <th>verified_status</th>\n",
       "      <th>author_ban_status</th>\n",
       "      <th>video_view_count</th>\n",
       "      <th>video_like_count</th>\n",
       "      <th>video_share_count</th>\n",
       "      <th>video_download_count</th>\n",
       "      <th>video_comment_count</th>\n",
       "    </tr>\n",
       "  </thead>\n",
       "  <tbody>\n",
       "    <tr>\n",
       "      <th>0</th>\n",
       "      <td>1</td>\n",
       "      <td>claim</td>\n",
       "      <td>7017666017</td>\n",
       "      <td>59</td>\n",
       "      <td>someone shared with me that drone deliveries a...</td>\n",
       "      <td>not verified</td>\n",
       "      <td>under review</td>\n",
       "      <td>343296.0</td>\n",
       "      <td>19425.0</td>\n",
       "      <td>241.0</td>\n",
       "      <td>1.0</td>\n",
       "      <td>0.0</td>\n",
       "    </tr>\n",
       "    <tr>\n",
       "      <th>1</th>\n",
       "      <td>2</td>\n",
       "      <td>claim</td>\n",
       "      <td>4014381136</td>\n",
       "      <td>32</td>\n",
       "      <td>someone shared with me that there are more mic...</td>\n",
       "      <td>not verified</td>\n",
       "      <td>active</td>\n",
       "      <td>140877.0</td>\n",
       "      <td>77355.0</td>\n",
       "      <td>19034.0</td>\n",
       "      <td>1161.0</td>\n",
       "      <td>684.0</td>\n",
       "    </tr>\n",
       "    <tr>\n",
       "      <th>2</th>\n",
       "      <td>3</td>\n",
       "      <td>claim</td>\n",
       "      <td>9859838091</td>\n",
       "      <td>31</td>\n",
       "      <td>someone shared with me that american industria...</td>\n",
       "      <td>not verified</td>\n",
       "      <td>active</td>\n",
       "      <td>902185.0</td>\n",
       "      <td>97690.0</td>\n",
       "      <td>2858.0</td>\n",
       "      <td>833.0</td>\n",
       "      <td>329.0</td>\n",
       "    </tr>\n",
       "    <tr>\n",
       "      <th>3</th>\n",
       "      <td>4</td>\n",
       "      <td>claim</td>\n",
       "      <td>1866847991</td>\n",
       "      <td>25</td>\n",
       "      <td>someone shared with me that the metro of st. p...</td>\n",
       "      <td>not verified</td>\n",
       "      <td>active</td>\n",
       "      <td>437506.0</td>\n",
       "      <td>239954.0</td>\n",
       "      <td>34812.0</td>\n",
       "      <td>1234.0</td>\n",
       "      <td>584.0</td>\n",
       "    </tr>\n",
       "    <tr>\n",
       "      <th>4</th>\n",
       "      <td>5</td>\n",
       "      <td>claim</td>\n",
       "      <td>7105231098</td>\n",
       "      <td>19</td>\n",
       "      <td>someone shared with me that the number of busi...</td>\n",
       "      <td>not verified</td>\n",
       "      <td>active</td>\n",
       "      <td>56167.0</td>\n",
       "      <td>34987.0</td>\n",
       "      <td>4110.0</td>\n",
       "      <td>547.0</td>\n",
       "      <td>152.0</td>\n",
       "    </tr>\n",
       "  </tbody>\n",
       "</table>\n",
       "</div>"
      ],
      "text/plain": [
       "   # claim_status    video_id  video_duration_sec  \\\n",
       "0  1        claim  7017666017                  59   \n",
       "1  2        claim  4014381136                  32   \n",
       "2  3        claim  9859838091                  31   \n",
       "3  4        claim  1866847991                  25   \n",
       "4  5        claim  7105231098                  19   \n",
       "\n",
       "                            video_transcription_text verified_status  \\\n",
       "0  someone shared with me that drone deliveries a...    not verified   \n",
       "1  someone shared with me that there are more mic...    not verified   \n",
       "2  someone shared with me that american industria...    not verified   \n",
       "3  someone shared with me that the metro of st. p...    not verified   \n",
       "4  someone shared with me that the number of busi...    not verified   \n",
       "\n",
       "  author_ban_status  video_view_count  video_like_count  video_share_count  \\\n",
       "0      under review          343296.0           19425.0              241.0   \n",
       "1            active          140877.0           77355.0            19034.0   \n",
       "2            active          902185.0           97690.0             2858.0   \n",
       "3            active          437506.0          239954.0            34812.0   \n",
       "4            active           56167.0           34987.0             4110.0   \n",
       "\n",
       "   video_download_count  video_comment_count  \n",
       "0                   1.0                  0.0  \n",
       "1                1161.0                684.0  \n",
       "2                 833.0                329.0  \n",
       "3                1234.0                584.0  \n",
       "4                 547.0                152.0  "
      ]
     },
     "execution_count": 4,
     "metadata": {},
     "output_type": "execute_result"
    }
   ],
   "source": [
    "# Display first few rows\n",
    "### YOUR CODE HERE ###\n",
    "data.head()"
   ]
  },
  {
   "cell_type": "markdown",
   "id": "7101cab6",
   "metadata": {
    "id": "66KOxKCx977b",
    "papermill": {
     "duration": 0.019156,
     "end_time": "2025-02-12T04:35:34.234728",
     "exception": false,
     "start_time": "2025-02-12T04:35:34.215572",
     "status": "completed"
    },
    "tags": []
   },
   "source": [
    "Get the number of rows and columns in the dataset."
   ]
  },
  {
   "cell_type": "code",
   "execution_count": 5,
   "id": "9d067243",
   "metadata": {
    "execution": {
     "iopub.execute_input": "2025-02-12T04:35:34.273374Z",
     "iopub.status.busy": "2025-02-12T04:35:34.273031Z",
     "iopub.status.idle": "2025-02-12T04:35:34.278658Z",
     "shell.execute_reply": "2025-02-12T04:35:34.277675Z"
    },
    "id": "kYwW-G1WqX3R",
    "papermill": {
     "duration": 0.025845,
     "end_time": "2025-02-12T04:35:34.280338",
     "exception": false,
     "start_time": "2025-02-12T04:35:34.254493",
     "status": "completed"
    },
    "tags": []
   },
   "outputs": [
    {
     "data": {
      "text/plain": [
       "(19382, 12)"
      ]
     },
     "execution_count": 5,
     "metadata": {},
     "output_type": "execute_result"
    }
   ],
   "source": [
    "# Get number of rows and columns\n",
    "### YOUR CODE HERE ###\n",
    "data.shape"
   ]
  },
  {
   "cell_type": "markdown",
   "id": "26f75e2b",
   "metadata": {
    "id": "aP-NbEGdEio8",
    "papermill": {
     "duration": 0.017691,
     "end_time": "2025-02-12T04:35:34.316499",
     "exception": false,
     "start_time": "2025-02-12T04:35:34.298808",
     "status": "completed"
    },
    "tags": []
   },
   "source": [
    "Get the data types of the columns."
   ]
  },
  {
   "cell_type": "code",
   "execution_count": 6,
   "id": "abd35d26",
   "metadata": {
    "execution": {
     "iopub.execute_input": "2025-02-12T04:35:34.353789Z",
     "iopub.status.busy": "2025-02-12T04:35:34.353158Z",
     "iopub.status.idle": "2025-02-12T04:35:34.359730Z",
     "shell.execute_reply": "2025-02-12T04:35:34.358688Z"
    },
    "id": "rbpDgrXfEoVj",
    "papermill": {
     "duration": 0.027001,
     "end_time": "2025-02-12T04:35:34.361407",
     "exception": false,
     "start_time": "2025-02-12T04:35:34.334406",
     "status": "completed"
    },
    "tags": []
   },
   "outputs": [
    {
     "data": {
      "text/plain": [
       "Index(['#', 'claim_status', 'video_id', 'video_duration_sec',\n",
       "       'video_transcription_text', 'verified_status', 'author_ban_status',\n",
       "       'video_view_count', 'video_like_count', 'video_share_count',\n",
       "       'video_download_count', 'video_comment_count'],\n",
       "      dtype='object')"
      ]
     },
     "execution_count": 6,
     "metadata": {},
     "output_type": "execute_result"
    }
   ],
   "source": [
    "# Get data types of columns\n",
    "### YOUR CODE HERE ###\n",
    "data.columns"
   ]
  },
  {
   "cell_type": "markdown",
   "id": "0a9c7086",
   "metadata": {
    "id": "URuRVjUZ_Axg",
    "papermill": {
     "duration": 0.018184,
     "end_time": "2025-02-12T04:35:34.398080",
     "exception": false,
     "start_time": "2025-02-12T04:35:34.379896",
     "status": "completed"
    },
    "tags": []
   },
   "source": [
    "Get basic information about the dataset."
   ]
  },
  {
   "cell_type": "code",
   "execution_count": 7,
   "id": "a2a5ac6b",
   "metadata": {
    "execution": {
     "iopub.execute_input": "2025-02-12T04:35:34.435677Z",
     "iopub.status.busy": "2025-02-12T04:35:34.435254Z",
     "iopub.status.idle": "2025-02-12T04:35:34.464536Z",
     "shell.execute_reply": "2025-02-12T04:35:34.463606Z"
    },
    "id": "zyyKCGzCp7SS",
    "papermill": {
     "duration": 0.050413,
     "end_time": "2025-02-12T04:35:34.466555",
     "exception": false,
     "start_time": "2025-02-12T04:35:34.416142",
     "status": "completed"
    },
    "tags": []
   },
   "outputs": [
    {
     "name": "stdout",
     "output_type": "stream",
     "text": [
      "<class 'pandas.core.frame.DataFrame'>\n",
      "RangeIndex: 19382 entries, 0 to 19381\n",
      "Data columns (total 12 columns):\n",
      " #   Column                    Non-Null Count  Dtype  \n",
      "---  ------                    --------------  -----  \n",
      " 0   #                         19382 non-null  int64  \n",
      " 1   claim_status              19084 non-null  object \n",
      " 2   video_id                  19382 non-null  int64  \n",
      " 3   video_duration_sec        19382 non-null  int64  \n",
      " 4   video_transcription_text  19084 non-null  object \n",
      " 5   verified_status           19382 non-null  object \n",
      " 6   author_ban_status         19382 non-null  object \n",
      " 7   video_view_count          19084 non-null  float64\n",
      " 8   video_like_count          19084 non-null  float64\n",
      " 9   video_share_count         19084 non-null  float64\n",
      " 10  video_download_count      19084 non-null  float64\n",
      " 11  video_comment_count       19084 non-null  float64\n",
      "dtypes: float64(5), int64(3), object(4)\n",
      "memory usage: 1.8+ MB\n"
     ]
    }
   ],
   "source": [
    "# Get basic information\n",
    "### YOUR CODE HERE ###\n",
    "data.info()"
   ]
  },
  {
   "cell_type": "markdown",
   "id": "d33f686b",
   "metadata": {
    "id": "0T5Ieb6WB61Q",
    "papermill": {
     "duration": 0.017816,
     "end_time": "2025-02-12T04:35:34.503147",
     "exception": false,
     "start_time": "2025-02-12T04:35:34.485331",
     "status": "completed"
    },
    "tags": []
   },
   "source": [
    "Generate basic descriptive statistics about the dataset."
   ]
  },
  {
   "cell_type": "code",
   "execution_count": 8,
   "id": "af7fca06",
   "metadata": {
    "execution": {
     "iopub.execute_input": "2025-02-12T04:35:34.540635Z",
     "iopub.status.busy": "2025-02-12T04:35:34.540218Z",
     "iopub.status.idle": "2025-02-12T04:35:34.576930Z",
     "shell.execute_reply": "2025-02-12T04:35:34.576071Z"
    },
    "id": "HbpuAS2UqY01",
    "papermill": {
     "duration": 0.05753,
     "end_time": "2025-02-12T04:35:34.578771",
     "exception": false,
     "start_time": "2025-02-12T04:35:34.521241",
     "status": "completed"
    },
    "tags": []
   },
   "outputs": [
    {
     "data": {
      "text/html": [
       "<div>\n",
       "<style scoped>\n",
       "    .dataframe tbody tr th:only-of-type {\n",
       "        vertical-align: middle;\n",
       "    }\n",
       "\n",
       "    .dataframe tbody tr th {\n",
       "        vertical-align: top;\n",
       "    }\n",
       "\n",
       "    .dataframe thead th {\n",
       "        text-align: right;\n",
       "    }\n",
       "</style>\n",
       "<table border=\"1\" class=\"dataframe\">\n",
       "  <thead>\n",
       "    <tr style=\"text-align: right;\">\n",
       "      <th></th>\n",
       "      <th>#</th>\n",
       "      <th>video_id</th>\n",
       "      <th>video_duration_sec</th>\n",
       "      <th>video_view_count</th>\n",
       "      <th>video_like_count</th>\n",
       "      <th>video_share_count</th>\n",
       "      <th>video_download_count</th>\n",
       "      <th>video_comment_count</th>\n",
       "    </tr>\n",
       "  </thead>\n",
       "  <tbody>\n",
       "    <tr>\n",
       "      <th>count</th>\n",
       "      <td>19382.000000</td>\n",
       "      <td>1.938200e+04</td>\n",
       "      <td>19382.000000</td>\n",
       "      <td>19084.000000</td>\n",
       "      <td>19084.000000</td>\n",
       "      <td>19084.000000</td>\n",
       "      <td>19084.000000</td>\n",
       "      <td>19084.000000</td>\n",
       "    </tr>\n",
       "    <tr>\n",
       "      <th>mean</th>\n",
       "      <td>9691.500000</td>\n",
       "      <td>5.627454e+09</td>\n",
       "      <td>32.421732</td>\n",
       "      <td>254708.558688</td>\n",
       "      <td>84304.636030</td>\n",
       "      <td>16735.248323</td>\n",
       "      <td>1049.429627</td>\n",
       "      <td>349.312146</td>\n",
       "    </tr>\n",
       "    <tr>\n",
       "      <th>std</th>\n",
       "      <td>5595.245794</td>\n",
       "      <td>2.536440e+09</td>\n",
       "      <td>16.229967</td>\n",
       "      <td>322893.280814</td>\n",
       "      <td>133420.546814</td>\n",
       "      <td>32036.174350</td>\n",
       "      <td>2004.299894</td>\n",
       "      <td>799.638865</td>\n",
       "    </tr>\n",
       "    <tr>\n",
       "      <th>min</th>\n",
       "      <td>1.000000</td>\n",
       "      <td>1.234959e+09</td>\n",
       "      <td>5.000000</td>\n",
       "      <td>20.000000</td>\n",
       "      <td>0.000000</td>\n",
       "      <td>0.000000</td>\n",
       "      <td>0.000000</td>\n",
       "      <td>0.000000</td>\n",
       "    </tr>\n",
       "    <tr>\n",
       "      <th>25%</th>\n",
       "      <td>4846.250000</td>\n",
       "      <td>3.430417e+09</td>\n",
       "      <td>18.000000</td>\n",
       "      <td>4942.500000</td>\n",
       "      <td>810.750000</td>\n",
       "      <td>115.000000</td>\n",
       "      <td>7.000000</td>\n",
       "      <td>1.000000</td>\n",
       "    </tr>\n",
       "    <tr>\n",
       "      <th>50%</th>\n",
       "      <td>9691.500000</td>\n",
       "      <td>5.618664e+09</td>\n",
       "      <td>32.000000</td>\n",
       "      <td>9954.500000</td>\n",
       "      <td>3403.500000</td>\n",
       "      <td>717.000000</td>\n",
       "      <td>46.000000</td>\n",
       "      <td>9.000000</td>\n",
       "    </tr>\n",
       "    <tr>\n",
       "      <th>75%</th>\n",
       "      <td>14536.750000</td>\n",
       "      <td>7.843960e+09</td>\n",
       "      <td>47.000000</td>\n",
       "      <td>504327.000000</td>\n",
       "      <td>125020.000000</td>\n",
       "      <td>18222.000000</td>\n",
       "      <td>1156.250000</td>\n",
       "      <td>292.000000</td>\n",
       "    </tr>\n",
       "    <tr>\n",
       "      <th>max</th>\n",
       "      <td>19382.000000</td>\n",
       "      <td>9.999873e+09</td>\n",
       "      <td>60.000000</td>\n",
       "      <td>999817.000000</td>\n",
       "      <td>657830.000000</td>\n",
       "      <td>256130.000000</td>\n",
       "      <td>14994.000000</td>\n",
       "      <td>9599.000000</td>\n",
       "    </tr>\n",
       "  </tbody>\n",
       "</table>\n",
       "</div>"
      ],
      "text/plain": [
       "                  #      video_id  video_duration_sec  video_view_count  \\\n",
       "count  19382.000000  1.938200e+04        19382.000000      19084.000000   \n",
       "mean    9691.500000  5.627454e+09           32.421732     254708.558688   \n",
       "std     5595.245794  2.536440e+09           16.229967     322893.280814   \n",
       "min        1.000000  1.234959e+09            5.000000         20.000000   \n",
       "25%     4846.250000  3.430417e+09           18.000000       4942.500000   \n",
       "50%     9691.500000  5.618664e+09           32.000000       9954.500000   \n",
       "75%    14536.750000  7.843960e+09           47.000000     504327.000000   \n",
       "max    19382.000000  9.999873e+09           60.000000     999817.000000   \n",
       "\n",
       "       video_like_count  video_share_count  video_download_count  \\\n",
       "count      19084.000000       19084.000000          19084.000000   \n",
       "mean       84304.636030       16735.248323           1049.429627   \n",
       "std       133420.546814       32036.174350           2004.299894   \n",
       "min            0.000000           0.000000              0.000000   \n",
       "25%          810.750000         115.000000              7.000000   \n",
       "50%         3403.500000         717.000000             46.000000   \n",
       "75%       125020.000000       18222.000000           1156.250000   \n",
       "max       657830.000000      256130.000000          14994.000000   \n",
       "\n",
       "       video_comment_count  \n",
       "count         19084.000000  \n",
       "mean            349.312146  \n",
       "std             799.638865  \n",
       "min               0.000000  \n",
       "25%               1.000000  \n",
       "50%               9.000000  \n",
       "75%             292.000000  \n",
       "max            9599.000000  "
      ]
     },
     "execution_count": 8,
     "metadata": {},
     "output_type": "execute_result"
    }
   ],
   "source": [
    "# Generate basic descriptive stats\n",
    "### YOUR CODE HERE ###\n",
    "data.describe()"
   ]
  },
  {
   "cell_type": "markdown",
   "id": "3be893c8",
   "metadata": {
    "id": "9OpeNQDdyIT6",
    "papermill": {
     "duration": 0.018102,
     "end_time": "2025-02-12T04:35:34.615682",
     "exception": false,
     "start_time": "2025-02-12T04:35:34.597580",
     "status": "completed"
    },
    "tags": []
   },
   "source": [
    "Check for and handle missing values."
   ]
  },
  {
   "cell_type": "code",
   "execution_count": 9,
   "id": "c0e211c6",
   "metadata": {
    "execution": {
     "iopub.execute_input": "2025-02-12T04:35:34.654652Z",
     "iopub.status.busy": "2025-02-12T04:35:34.654266Z",
     "iopub.status.idle": "2025-02-12T04:35:34.666397Z",
     "shell.execute_reply": "2025-02-12T04:35:34.665463Z"
    },
    "id": "BrunHcfa7xnT",
    "papermill": {
     "duration": 0.033671,
     "end_time": "2025-02-12T04:35:34.668214",
     "exception": false,
     "start_time": "2025-02-12T04:35:34.634543",
     "status": "completed"
    },
    "tags": []
   },
   "outputs": [
    {
     "data": {
      "text/plain": [
       "#                             0\n",
       "claim_status                298\n",
       "video_id                      0\n",
       "video_duration_sec            0\n",
       "video_transcription_text    298\n",
       "verified_status               0\n",
       "author_ban_status             0\n",
       "video_view_count            298\n",
       "video_like_count            298\n",
       "video_share_count           298\n",
       "video_download_count        298\n",
       "video_comment_count         298\n",
       "dtype: int64"
      ]
     },
     "execution_count": 9,
     "metadata": {},
     "output_type": "execute_result"
    }
   ],
   "source": [
    "# Check for missing values\n",
    "### YOUR CODE HERE ###\n",
    "data.isna().sum()"
   ]
  },
  {
   "cell_type": "code",
   "execution_count": 10,
   "id": "027bb7f3",
   "metadata": {
    "execution": {
     "iopub.execute_input": "2025-02-12T04:35:34.707971Z",
     "iopub.status.busy": "2025-02-12T04:35:34.707605Z",
     "iopub.status.idle": "2025-02-12T04:35:34.721275Z",
     "shell.execute_reply": "2025-02-12T04:35:34.719919Z"
    },
    "id": "SHSj1Hma914I",
    "papermill": {
     "duration": 0.036394,
     "end_time": "2025-02-12T04:35:34.723785",
     "exception": false,
     "start_time": "2025-02-12T04:35:34.687391",
     "status": "completed"
    },
    "tags": []
   },
   "outputs": [],
   "source": [
    "# Drop rows with missing values\n",
    "### YOUR CODE HERE ###\n",
    "data = data.dropna(axis=0)"
   ]
  },
  {
   "cell_type": "code",
   "execution_count": 11,
   "id": "f3711b7c",
   "metadata": {
    "execution": {
     "iopub.execute_input": "2025-02-12T04:35:34.776095Z",
     "iopub.status.busy": "2025-02-12T04:35:34.775753Z",
     "iopub.status.idle": "2025-02-12T04:35:34.797082Z",
     "shell.execute_reply": "2025-02-12T04:35:34.796048Z"
    },
    "id": "ZYUF3xap9_Fa",
    "papermill": {
     "duration": 0.048976,
     "end_time": "2025-02-12T04:35:34.798709",
     "exception": false,
     "start_time": "2025-02-12T04:35:34.749733",
     "status": "completed"
    },
    "tags": []
   },
   "outputs": [
    {
     "data": {
      "text/html": [
       "<div>\n",
       "<style scoped>\n",
       "    .dataframe tbody tr th:only-of-type {\n",
       "        vertical-align: middle;\n",
       "    }\n",
       "\n",
       "    .dataframe tbody tr th {\n",
       "        vertical-align: top;\n",
       "    }\n",
       "\n",
       "    .dataframe thead th {\n",
       "        text-align: right;\n",
       "    }\n",
       "</style>\n",
       "<table border=\"1\" class=\"dataframe\">\n",
       "  <thead>\n",
       "    <tr style=\"text-align: right;\">\n",
       "      <th></th>\n",
       "      <th>#</th>\n",
       "      <th>claim_status</th>\n",
       "      <th>video_id</th>\n",
       "      <th>video_duration_sec</th>\n",
       "      <th>video_transcription_text</th>\n",
       "      <th>verified_status</th>\n",
       "      <th>author_ban_status</th>\n",
       "      <th>video_view_count</th>\n",
       "      <th>video_like_count</th>\n",
       "      <th>video_share_count</th>\n",
       "      <th>video_download_count</th>\n",
       "      <th>video_comment_count</th>\n",
       "    </tr>\n",
       "  </thead>\n",
       "  <tbody>\n",
       "    <tr>\n",
       "      <th>0</th>\n",
       "      <td>1</td>\n",
       "      <td>claim</td>\n",
       "      <td>7017666017</td>\n",
       "      <td>59</td>\n",
       "      <td>someone shared with me that drone deliveries a...</td>\n",
       "      <td>not verified</td>\n",
       "      <td>under review</td>\n",
       "      <td>343296.0</td>\n",
       "      <td>19425.0</td>\n",
       "      <td>241.0</td>\n",
       "      <td>1.0</td>\n",
       "      <td>0.0</td>\n",
       "    </tr>\n",
       "    <tr>\n",
       "      <th>1</th>\n",
       "      <td>2</td>\n",
       "      <td>claim</td>\n",
       "      <td>4014381136</td>\n",
       "      <td>32</td>\n",
       "      <td>someone shared with me that there are more mic...</td>\n",
       "      <td>not verified</td>\n",
       "      <td>active</td>\n",
       "      <td>140877.0</td>\n",
       "      <td>77355.0</td>\n",
       "      <td>19034.0</td>\n",
       "      <td>1161.0</td>\n",
       "      <td>684.0</td>\n",
       "    </tr>\n",
       "    <tr>\n",
       "      <th>2</th>\n",
       "      <td>3</td>\n",
       "      <td>claim</td>\n",
       "      <td>9859838091</td>\n",
       "      <td>31</td>\n",
       "      <td>someone shared with me that american industria...</td>\n",
       "      <td>not verified</td>\n",
       "      <td>active</td>\n",
       "      <td>902185.0</td>\n",
       "      <td>97690.0</td>\n",
       "      <td>2858.0</td>\n",
       "      <td>833.0</td>\n",
       "      <td>329.0</td>\n",
       "    </tr>\n",
       "    <tr>\n",
       "      <th>3</th>\n",
       "      <td>4</td>\n",
       "      <td>claim</td>\n",
       "      <td>1866847991</td>\n",
       "      <td>25</td>\n",
       "      <td>someone shared with me that the metro of st. p...</td>\n",
       "      <td>not verified</td>\n",
       "      <td>active</td>\n",
       "      <td>437506.0</td>\n",
       "      <td>239954.0</td>\n",
       "      <td>34812.0</td>\n",
       "      <td>1234.0</td>\n",
       "      <td>584.0</td>\n",
       "    </tr>\n",
       "    <tr>\n",
       "      <th>4</th>\n",
       "      <td>5</td>\n",
       "      <td>claim</td>\n",
       "      <td>7105231098</td>\n",
       "      <td>19</td>\n",
       "      <td>someone shared with me that the number of busi...</td>\n",
       "      <td>not verified</td>\n",
       "      <td>active</td>\n",
       "      <td>56167.0</td>\n",
       "      <td>34987.0</td>\n",
       "      <td>4110.0</td>\n",
       "      <td>547.0</td>\n",
       "      <td>152.0</td>\n",
       "    </tr>\n",
       "  </tbody>\n",
       "</table>\n",
       "</div>"
      ],
      "text/plain": [
       "   # claim_status    video_id  video_duration_sec  \\\n",
       "0  1        claim  7017666017                  59   \n",
       "1  2        claim  4014381136                  32   \n",
       "2  3        claim  9859838091                  31   \n",
       "3  4        claim  1866847991                  25   \n",
       "4  5        claim  7105231098                  19   \n",
       "\n",
       "                            video_transcription_text verified_status  \\\n",
       "0  someone shared with me that drone deliveries a...    not verified   \n",
       "1  someone shared with me that there are more mic...    not verified   \n",
       "2  someone shared with me that american industria...    not verified   \n",
       "3  someone shared with me that the metro of st. p...    not verified   \n",
       "4  someone shared with me that the number of busi...    not verified   \n",
       "\n",
       "  author_ban_status  video_view_count  video_like_count  video_share_count  \\\n",
       "0      under review          343296.0           19425.0              241.0   \n",
       "1            active          140877.0           77355.0            19034.0   \n",
       "2            active          902185.0           97690.0             2858.0   \n",
       "3            active          437506.0          239954.0            34812.0   \n",
       "4            active           56167.0           34987.0             4110.0   \n",
       "\n",
       "   video_download_count  video_comment_count  \n",
       "0                   1.0                  0.0  \n",
       "1                1161.0                684.0  \n",
       "2                 833.0                329.0  \n",
       "3                1234.0                584.0  \n",
       "4                 547.0                152.0  "
      ]
     },
     "execution_count": 11,
     "metadata": {},
     "output_type": "execute_result"
    }
   ],
   "source": [
    "# Display first few rows after handling missing values\n",
    "### YOUR CODE HERE ###\n",
    "data.head()"
   ]
  },
  {
   "cell_type": "markdown",
   "id": "9d31d8e9",
   "metadata": {
    "id": "XcfffpANyNiu",
    "papermill": {
     "duration": 0.018566,
     "end_time": "2025-02-12T04:35:34.837197",
     "exception": false,
     "start_time": "2025-02-12T04:35:34.818631",
     "status": "completed"
    },
    "tags": []
   },
   "source": [
    "Check for and handle duplicates."
   ]
  },
  {
   "cell_type": "code",
   "execution_count": 12,
   "id": "25532ef0",
   "metadata": {
    "execution": {
     "iopub.execute_input": "2025-02-12T04:35:34.885377Z",
     "iopub.status.busy": "2025-02-12T04:35:34.884818Z",
     "iopub.status.idle": "2025-02-12T04:35:34.917407Z",
     "shell.execute_reply": "2025-02-12T04:35:34.916167Z"
    },
    "id": "IKaGnWIsiHpH",
    "papermill": {
     "duration": 0.063931,
     "end_time": "2025-02-12T04:35:34.920036",
     "exception": false,
     "start_time": "2025-02-12T04:35:34.856105",
     "status": "completed"
    },
    "tags": []
   },
   "outputs": [
    {
     "data": {
      "text/plain": [
       "0"
      ]
     },
     "execution_count": 12,
     "metadata": {},
     "output_type": "execute_result"
    }
   ],
   "source": [
    "# Check for duplicates\n",
    "### YOUR CODE HERE ###\n",
    "data.duplicated().sum()"
   ]
  },
  {
   "cell_type": "markdown",
   "id": "f9886db2",
   "metadata": {
    "id": "k-HcHpGc5Hn7",
    "papermill": {
     "duration": 0.02549,
     "end_time": "2025-02-12T04:35:34.981172",
     "exception": false,
     "start_time": "2025-02-12T04:35:34.955682",
     "status": "completed"
    },
    "tags": []
   },
   "source": [
    "Check for and handle outliers."
   ]
  },
  {
   "cell_type": "code",
   "execution_count": 13,
   "id": "fa31e981",
   "metadata": {
    "execution": {
     "iopub.execute_input": "2025-02-12T04:35:35.037953Z",
     "iopub.status.busy": "2025-02-12T04:35:35.037453Z",
     "iopub.status.idle": "2025-02-12T04:35:35.231767Z",
     "shell.execute_reply": "2025-02-12T04:35:35.230617Z"
    },
    "id": "Ts_lcV6qUQHq",
    "papermill": {
     "duration": 0.223595,
     "end_time": "2025-02-12T04:35:35.233335",
     "exception": false,
     "start_time": "2025-02-12T04:35:35.009740",
     "status": "completed"
    },
    "tags": []
   },
   "outputs": [
    {
     "data": {
      "image/png": "[encoded data removed]",
      "text/plain": [
       "<Figure size 700x100 with 1 Axes>"
      ]
     },
     "metadata": {},
     "output_type": "display_data"
    }
   ],
   "source": [
    "# Create a boxplot to visualize distribution of `video_duration_sec`\n",
    "### YOUR CODE HERE ###\n",
    "\n",
    "# set the plot size\n",
    "plt.figure(figsize=(7,1))\n",
    "\n",
    "# construct and display the plot\n",
    "sns.boxplot(x=data['video_duration_sec'])\n",
    "plt.show()\n"
   ]
  },
  {
   "cell_type": "code",
   "execution_count": 14,
   "id": "4b5e0468",
   "metadata": {
    "execution": {
     "iopub.execute_input": "2025-02-12T04:35:35.272852Z",
     "iopub.status.busy": "2025-02-12T04:35:35.272433Z",
     "iopub.status.idle": "2025-02-12T04:35:35.377727Z",
     "shell.execute_reply": "2025-02-12T04:35:35.376691Z"
    },
    "id": "qlUccI91a4NH",
    "papermill": {
     "duration": 0.126848,
     "end_time": "2025-02-12T04:35:35.379447",
     "exception": false,
     "start_time": "2025-02-12T04:35:35.252599",
     "status": "completed"
    },
    "tags": []
   },
   "outputs": [
    {
     "data": {
      "image/png": "[encoded data removed]",
      "text/plain": [
       "<Figure size 700x100 with 1 Axes>"
      ]
     },
     "metadata": {},
     "output_type": "display_data"
    }
   ],
   "source": [
    "# Create a boxplot to visualize distribution of `video_view_count`\n",
    "### YOUR CODE HERE ###\n",
    "\n",
    "# set the plot size\n",
    "plt.figure(figsize=(7,1))\n",
    "\n",
    "# construct and display the plot\n",
    "sns.boxplot(x=data['video_view_count'])\n",
    "plt.show()"
   ]
  },
  {
   "cell_type": "code",
   "execution_count": 15,
   "id": "c62639dd",
   "metadata": {
    "execution": {
     "iopub.execute_input": "2025-02-12T04:35:35.421229Z",
     "iopub.status.busy": "2025-02-12T04:35:35.420827Z",
     "iopub.status.idle": "2025-02-12T04:35:35.539819Z",
     "shell.execute_reply": "2025-02-12T04:35:35.538603Z"
    },
    "id": "N0UVdeRUzEEF",
    "papermill": {
     "duration": 0.142327,
     "end_time": "2025-02-12T04:35:35.542153",
     "exception": false,
     "start_time": "2025-02-12T04:35:35.399826",
     "status": "completed"
    },
    "tags": []
   },
   "outputs": [
    {
     "data": {
      "image/png": "[encoded data removed]",
      "text/plain": [
       "<Figure size 700x100 with 1 Axes>"
      ]
     },
     "metadata": {},
     "output_type": "display_data"
    }
   ],
   "source": [
    "# Create a boxplot to visualize distribution of `video_like_count`\n",
    "### YOUR CODE HERE ###\n",
    "\n",
    "# set the plot size\n",
    "plt.figure(figsize=(7,1))\n",
    "\n",
    "# construct and display the plot\n",
    "sns.boxplot(x=data['video_like_count'])\n",
    "plt.show()"
   ]
  },
  {
   "cell_type": "code",
   "execution_count": 16,
   "id": "9877abca",
   "metadata": {
    "execution": {
     "iopub.execute_input": "2025-02-12T04:35:35.584913Z",
     "iopub.status.busy": "2025-02-12T04:35:35.584393Z",
     "iopub.status.idle": "2025-02-12T04:35:35.702999Z",
     "shell.execute_reply": "2025-02-12T04:35:35.701863Z"
    },
    "id": "-gE1fkGo0eG9",
    "papermill": {
     "duration": 0.141924,
     "end_time": "2025-02-12T04:35:35.704852",
     "exception": false,
     "start_time": "2025-02-12T04:35:35.562928",
     "status": "completed"
    },
    "tags": []
   },
   "outputs": [
    {
     "data": {
      "image/png": "[encoded data removed]",
      "text/plain": [
       "<Figure size 700x100 with 1 Axes>"
      ]
     },
     "metadata": {},
     "output_type": "display_data"
    }
   ],
   "source": [
    "# Create a boxplot to visualize distribution of `video_comment_count`\n",
    "### YOUR CODE HERE ###\n",
    "\n",
    "# set the plot size\n",
    "plt.figure(figsize=(7,1))\n",
    "\n",
    "# construct and display the plot\n",
    "sns.boxplot(x=data['video_comment_count'])\n",
    "plt.show()"
   ]
  },
  {
   "cell_type": "code",
   "execution_count": 17,
   "id": "8b855e84",
   "metadata": {
    "execution": {
     "iopub.execute_input": "2025-02-12T04:35:35.747618Z",
     "iopub.status.busy": "2025-02-12T04:35:35.747189Z",
     "iopub.status.idle": "2025-02-12T04:35:35.758313Z",
     "shell.execute_reply": "2025-02-12T04:35:35.756364Z"
    },
    "id": "85JfQprd5Kn9",
    "papermill": {
     "duration": 0.034797,
     "end_time": "2025-02-12T04:35:35.760214",
     "exception": false,
     "start_time": "2025-02-12T04:35:35.725417",
     "status": "completed"
    },
    "tags": []
   },
   "outputs": [],
   "source": [
    "# Check for and handle outliers for video_like_count\n",
    "### YOUR CODE HERE ###\n",
    "\n",
    "# replacing outliers with upper and lower limits\n",
    "percentile25 = data['video_like_count'].quantile(0.25)\n",
    "percentile75 = data['video_like_count'].quantile(0.75)\n",
    "\n",
    "# calculate IQR to establish upper limit\n",
    "iqr = percentile75 - percentile25\n",
    "upper_limit = percentile75 + 1.5 * iqr\n",
    "\n",
    "# find and replace outliers with upper limit \n",
    "# (ONLY REPLACING UPPER LIMIT BC, the dist is RIGHT SKEWED, so no OUTLIERS IN THE LOWER SIDE)\n",
    "data.loc[data['video_like_count'] > upper_limit, 'video_like_count'] = upper_limit"
   ]
  },
  {
   "cell_type": "markdown",
   "id": "7f576fda",
   "metadata": {
    "id": "eDcY0ZaEJgDl",
    "papermill": {
     "duration": 0.019715,
     "end_time": "2025-02-12T04:35:35.799629",
     "exception": false,
     "start_time": "2025-02-12T04:35:35.779914",
     "status": "completed"
    },
    "tags": []
   },
   "source": [
    "Check class balance of the target variable. Remember, the goal is to predict whether the user of a given post is verified or unverified."
   ]
  },
  {
   "cell_type": "code",
   "execution_count": 18,
   "id": "411b7b31",
   "metadata": {
    "execution": {
     "iopub.execute_input": "2025-02-12T04:35:35.840453Z",
     "iopub.status.busy": "2025-02-12T04:35:35.840109Z",
     "iopub.status.idle": "2025-02-12T04:35:35.849961Z",
     "shell.execute_reply": "2025-02-12T04:35:35.848748Z"
    },
    "id": "e3klRqlsJhtp",
    "papermill": {
     "duration": 0.032144,
     "end_time": "2025-02-12T04:35:35.851444",
     "exception": false,
     "start_time": "2025-02-12T04:35:35.819300",
     "status": "completed"
    },
    "tags": []
   },
   "outputs": [
    {
     "name": "stdout",
     "output_type": "stream",
     "text": [
      "verified_status\n",
      "not verified    17884\n",
      "verified         1200\n",
      "Name: count, dtype: int64 \n",
      "\n",
      "verified_status\n",
      "not verified    0.93712\n",
      "verified        0.06288\n",
      "Name: proportion, dtype: float64\n"
     ]
    }
   ],
   "source": [
    "# Check class balance\n",
    "### YOUR CODE HERE ###\n",
    "\n",
    "# verified status is considered as the target variable\n",
    "print(data['verified_status'].value_counts(), '\\n')\n",
    "print(data['verified_status'].value_counts(normalize=True))"
   ]
  },
  {
   "cell_type": "markdown",
   "id": "3613dab6",
   "metadata": {
    "id": "ePYWt2p5LqlW",
    "papermill": {
     "duration": 0.019764,
     "end_time": "2025-02-12T04:35:35.894514",
     "exception": false,
     "start_time": "2025-02-12T04:35:35.874750",
     "status": "completed"
    },
    "tags": []
   },
   "source": [
    "Approximately 94.2% of the dataset represents videos posted by unverified accounts and 5.8% represents videos posted by verified accounts. So the outcome variable is not very balanced."
   ]
  },
  {
   "cell_type": "markdown",
   "id": "3e102a1e",
   "metadata": {
    "id": "zRDMuXjbA9KQ",
    "papermill": {
     "duration": 0.019817,
     "end_time": "2025-02-12T04:35:35.934584",
     "exception": false,
     "start_time": "2025-02-12T04:35:35.914767",
     "status": "completed"
    },
    "tags": []
   },
   "source": [
    "Use resampling to create class balance in the outcome variable, if needed."
   ]
  },
  {
   "cell_type": "code",
   "execution_count": 19,
   "id": "77170725",
   "metadata": {
    "execution": {
     "iopub.execute_input": "2025-02-12T04:35:35.976026Z",
     "iopub.status.busy": "2025-02-12T04:35:35.975664Z",
     "iopub.status.idle": "2025-02-12T04:35:36.015334Z",
     "shell.execute_reply": "2025-02-12T04:35:36.014386Z"
    },
    "id": "AWhetFT3Ggyp",
    "papermill": {
     "duration": 0.062464,
     "end_time": "2025-02-12T04:35:36.017076",
     "exception": false,
     "start_time": "2025-02-12T04:35:35.954612",
     "status": "completed"
    },
    "tags": []
   },
   "outputs": [
    {
     "data": {
      "text/plain": [
       "verified_status\n",
       "not verified    17884\n",
       "verified        17884\n",
       "Name: count, dtype: int64"
      ]
     },
     "execution_count": 19,
     "metadata": {},
     "output_type": "execute_result"
    }
   ],
   "source": [
    "# Use resampling to create class balance in the outcome variable, if needed\n",
    "\n",
    "# Identify data points from majority and minority classes\n",
    "### YOUR CODE HERE ###\n",
    "data_majority = data[data['verified_status'] == 'not verified']\n",
    "data_minority = data[data['verified_status'] == 'verified']\n",
    "\n",
    "# Upsample (with replacement) the minority class to match the count of majority class(which is 'verified')\n",
    "### YOUR CODE HERE ###\n",
    "data_minority_upsampled = resample(data_minority, replace=True, n_samples=len(data_majority), random_state=0)               \n",
    "\n",
    "# Combine majority class with upsampled minority class\n",
    "### YOUR CODE HERE ###\n",
    "data_upsampled = pd.concat([data_majority, data_minority_upsampled]).reset_index(drop=True)\n",
    "\n",
    "# Display new class counts\n",
    "### YOUR CODE HERE ###\n",
    "data_upsampled['verified_status'].value_counts()"
   ]
  },
  {
   "cell_type": "markdown",
   "id": "00d017eb",
   "metadata": {
    "id": "K2RHONw6D3R6",
    "papermill": {
     "duration": 0.01971,
     "end_time": "2025-02-12T04:35:36.057155",
     "exception": false,
     "start_time": "2025-02-12T04:35:36.037445",
     "status": "completed"
    },
    "tags": []
   },
   "source": [
    "Get the average `video_transcription_text` length for videos posted by verified accounts and the average `video_transcription_text` length for videos posted by unverified accounts.\n",
    "\n"
   ]
  },
  {
   "cell_type": "code",
   "execution_count": 20,
   "id": "b882d8c0",
   "metadata": {
    "execution": {
     "iopub.execute_input": "2025-02-12T04:35:36.098296Z",
     "iopub.status.busy": "2025-02-12T04:35:36.097932Z",
     "iopub.status.idle": "2025-02-12T04:35:36.125637Z",
     "shell.execute_reply": "2025-02-12T04:35:36.124547Z"
    },
    "id": "w-aaFCPCD88e",
    "papermill": {
     "duration": 0.05013,
     "end_time": "2025-02-12T04:35:36.127329",
     "exception": false,
     "start_time": "2025-02-12T04:35:36.077199",
     "status": "completed"
    },
    "tags": []
   },
   "outputs": [
    {
     "name": "stdout",
     "output_type": "stream",
     "text": [
      "mean length of verified_status\n"
     ]
    },
    {
     "data": {
      "text/html": [
       "<div>\n",
       "<style scoped>\n",
       "    .dataframe tbody tr th:only-of-type {\n",
       "        vertical-align: middle;\n",
       "    }\n",
       "\n",
       "    .dataframe tbody tr th {\n",
       "        vertical-align: top;\n",
       "    }\n",
       "\n",
       "    .dataframe thead th {\n",
       "        text-align: right;\n",
       "    }\n",
       "</style>\n",
       "<table border=\"1\" class=\"dataframe\">\n",
       "  <thead>\n",
       "    <tr style=\"text-align: right;\">\n",
       "      <th></th>\n",
       "      <th>video_transcription_text</th>\n",
       "    </tr>\n",
       "    <tr>\n",
       "      <th>verified_status</th>\n",
       "      <th></th>\n",
       "    </tr>\n",
       "  </thead>\n",
       "  <tbody>\n",
       "    <tr>\n",
       "      <th>not verified</th>\n",
       "      <td>89.401141</td>\n",
       "    </tr>\n",
       "    <tr>\n",
       "      <th>verified</th>\n",
       "      <td>84.569559</td>\n",
       "    </tr>\n",
       "  </tbody>\n",
       "</table>\n",
       "</div>"
      ],
      "text/plain": [
       "                 video_transcription_text\n",
       "verified_status                          \n",
       "not verified                    89.401141\n",
       "verified                        84.569559"
      ]
     },
     "execution_count": 20,
     "metadata": {},
     "output_type": "execute_result"
    }
   ],
   "source": [
    "# Get the average `video_transcription_text` length for claims and the average `video_transcription_text` length for opinions\n",
    "### YOUR CODE HERE ###\n",
    "\n",
    "print('mean length of verified_status')\n",
    "data_upsampled.groupby('verified_status')[['video_transcription_text']].agg(func= lambda col: np.mean([len(cell) for cell in col]))\n",
    "                       #groupby([['verified_status','video_transcription_text']]"
   ]
  },
  {
   "cell_type": "markdown",
   "id": "f13cd5b8",
   "metadata": {
    "id": "hb_u1c6_T1i-",
    "papermill": {
     "duration": 0.020082,
     "end_time": "2025-02-12T04:35:36.167955",
     "exception": false,
     "start_time": "2025-02-12T04:35:36.147873",
     "status": "completed"
    },
    "tags": []
   },
   "source": [
    "Extract the length of each `video_transcription_text` and add this as a column to the dataframe, so that it can be used as a potential feature in the model."
   ]
  },
  {
   "cell_type": "code",
   "execution_count": 21,
   "id": "9f642537",
   "metadata": {
    "execution": {
     "iopub.execute_input": "2025-02-12T04:35:36.209374Z",
     "iopub.status.busy": "2025-02-12T04:35:36.209050Z",
     "iopub.status.idle": "2025-02-12T04:35:36.228345Z",
     "shell.execute_reply": "2025-02-12T04:35:36.227516Z"
    },
    "id": "8Yr9hhhVHeYY",
    "papermill": {
     "duration": 0.042055,
     "end_time": "2025-02-12T04:35:36.230051",
     "exception": false,
     "start_time": "2025-02-12T04:35:36.187996",
     "status": "completed"
    },
    "tags": []
   },
   "outputs": [],
   "source": [
    "# Extract the length of each `video_transcription_text` and add this as a column to the dataframe\n",
    "### YOUR CODE HERE ###\n",
    "data_upsampled['text_length'] = data_upsampled['video_transcription_text'].apply(func=lambda text: len(text))"
   ]
  },
  {
   "cell_type": "code",
   "execution_count": 22,
   "id": "89456cd7",
   "metadata": {
    "execution": {
     "iopub.execute_input": "2025-02-12T04:35:36.271932Z",
     "iopub.status.busy": "2025-02-12T04:35:36.271545Z",
     "iopub.status.idle": "2025-02-12T04:35:36.287046Z",
     "shell.execute_reply": "2025-02-12T04:35:36.285995Z"
    },
    "id": "Vzg0J8UEJ1wx",
    "papermill": {
     "duration": 0.03834,
     "end_time": "2025-02-12T04:35:36.288665",
     "exception": false,
     "start_time": "2025-02-12T04:35:36.250325",
     "status": "completed"
    },
    "tags": []
   },
   "outputs": [
    {
     "data": {
      "text/html": [
       "<div>\n",
       "<style scoped>\n",
       "    .dataframe tbody tr th:only-of-type {\n",
       "        vertical-align: middle;\n",
       "    }\n",
       "\n",
       "    .dataframe tbody tr th {\n",
       "        vertical-align: top;\n",
       "    }\n",
       "\n",
       "    .dataframe thead th {\n",
       "        text-align: right;\n",
       "    }\n",
       "</style>\n",
       "<table border=\"1\" class=\"dataframe\">\n",
       "  <thead>\n",
       "    <tr style=\"text-align: right;\">\n",
       "      <th></th>\n",
       "      <th>#</th>\n",
       "      <th>claim_status</th>\n",
       "      <th>video_id</th>\n",
       "      <th>video_duration_sec</th>\n",
       "      <th>video_transcription_text</th>\n",
       "      <th>verified_status</th>\n",
       "      <th>author_ban_status</th>\n",
       "      <th>video_view_count</th>\n",
       "      <th>video_like_count</th>\n",
       "      <th>video_share_count</th>\n",
       "      <th>video_download_count</th>\n",
       "      <th>video_comment_count</th>\n",
       "      <th>text_length</th>\n",
       "    </tr>\n",
       "  </thead>\n",
       "  <tbody>\n",
       "    <tr>\n",
       "      <th>0</th>\n",
       "      <td>1</td>\n",
       "      <td>claim</td>\n",
       "      <td>7017666017</td>\n",
       "      <td>59</td>\n",
       "      <td>someone shared with me that drone deliveries a...</td>\n",
       "      <td>not verified</td>\n",
       "      <td>under review</td>\n",
       "      <td>343296.0</td>\n",
       "      <td>19425.0</td>\n",
       "      <td>241.0</td>\n",
       "      <td>1.0</td>\n",
       "      <td>0.0</td>\n",
       "      <td>97</td>\n",
       "    </tr>\n",
       "    <tr>\n",
       "      <th>1</th>\n",
       "      <td>2</td>\n",
       "      <td>claim</td>\n",
       "      <td>4014381136</td>\n",
       "      <td>32</td>\n",
       "      <td>someone shared with me that there are more mic...</td>\n",
       "      <td>not verified</td>\n",
       "      <td>active</td>\n",
       "      <td>140877.0</td>\n",
       "      <td>77355.0</td>\n",
       "      <td>19034.0</td>\n",
       "      <td>1161.0</td>\n",
       "      <td>684.0</td>\n",
       "      <td>107</td>\n",
       "    </tr>\n",
       "    <tr>\n",
       "      <th>2</th>\n",
       "      <td>3</td>\n",
       "      <td>claim</td>\n",
       "      <td>9859838091</td>\n",
       "      <td>31</td>\n",
       "      <td>someone shared with me that american industria...</td>\n",
       "      <td>not verified</td>\n",
       "      <td>active</td>\n",
       "      <td>902185.0</td>\n",
       "      <td>97690.0</td>\n",
       "      <td>2858.0</td>\n",
       "      <td>833.0</td>\n",
       "      <td>329.0</td>\n",
       "      <td>137</td>\n",
       "    </tr>\n",
       "    <tr>\n",
       "      <th>3</th>\n",
       "      <td>4</td>\n",
       "      <td>claim</td>\n",
       "      <td>1866847991</td>\n",
       "      <td>25</td>\n",
       "      <td>someone shared with me that the metro of st. p...</td>\n",
       "      <td>not verified</td>\n",
       "      <td>active</td>\n",
       "      <td>437506.0</td>\n",
       "      <td>239954.0</td>\n",
       "      <td>34812.0</td>\n",
       "      <td>1234.0</td>\n",
       "      <td>584.0</td>\n",
       "      <td>131</td>\n",
       "    </tr>\n",
       "    <tr>\n",
       "      <th>4</th>\n",
       "      <td>5</td>\n",
       "      <td>claim</td>\n",
       "      <td>7105231098</td>\n",
       "      <td>19</td>\n",
       "      <td>someone shared with me that the number of busi...</td>\n",
       "      <td>not verified</td>\n",
       "      <td>active</td>\n",
       "      <td>56167.0</td>\n",
       "      <td>34987.0</td>\n",
       "      <td>4110.0</td>\n",
       "      <td>547.0</td>\n",
       "      <td>152.0</td>\n",
       "      <td>128</td>\n",
       "    </tr>\n",
       "  </tbody>\n",
       "</table>\n",
       "</div>"
      ],
      "text/plain": [
       "   # claim_status    video_id  video_duration_sec  \\\n",
       "0  1        claim  7017666017                  59   \n",
       "1  2        claim  4014381136                  32   \n",
       "2  3        claim  9859838091                  31   \n",
       "3  4        claim  1866847991                  25   \n",
       "4  5        claim  7105231098                  19   \n",
       "\n",
       "                            video_transcription_text verified_status  \\\n",
       "0  someone shared with me that drone deliveries a...    not verified   \n",
       "1  someone shared with me that there are more mic...    not verified   \n",
       "2  someone shared with me that american industria...    not verified   \n",
       "3  someone shared with me that the metro of st. p...    not verified   \n",
       "4  someone shared with me that the number of busi...    not verified   \n",
       "\n",
       "  author_ban_status  video_view_count  video_like_count  video_share_count  \\\n",
       "0      under review          343296.0           19425.0              241.0   \n",
       "1            active          140877.0           77355.0            19034.0   \n",
       "2            active          902185.0           97690.0             2858.0   \n",
       "3            active          437506.0          239954.0            34812.0   \n",
       "4            active           56167.0           34987.0             4110.0   \n",
       "\n",
       "   video_download_count  video_comment_count  text_length  \n",
       "0                   1.0                  0.0           97  \n",
       "1                1161.0                684.0          107  \n",
       "2                 833.0                329.0          137  \n",
       "3                1234.0                584.0          131  \n",
       "4                 547.0                152.0          128  "
      ]
     },
     "execution_count": 22,
     "metadata": {},
     "output_type": "execute_result"
    }
   ],
   "source": [
    "# Display first few rows of dataframe after adding new column\n",
    "### YOUR CODE HERE ###\n",
    "data_upsampled.head()"
   ]
  },
  {
   "cell_type": "markdown",
   "id": "5af6bcb2",
   "metadata": {
    "id": "LGu7ipi4AJmP",
    "papermill": {
     "duration": 0.02004,
     "end_time": "2025-02-12T04:35:36.329413",
     "exception": false,
     "start_time": "2025-02-12T04:35:36.309373",
     "status": "completed"
    },
    "tags": []
   },
   "source": [
    "Visualize the distribution of `video_transcription_text` length for videos posted by verified accounts and videos posted by unverified accounts."
   ]
  },
  {
   "cell_type": "code",
   "execution_count": 23,
   "id": "d9cb53a6",
   "metadata": {
    "execution": {
     "iopub.execute_input": "2025-02-12T04:35:36.372850Z",
     "iopub.status.busy": "2025-02-12T04:35:36.372492Z",
     "iopub.status.idle": "2025-02-12T04:35:37.133294Z",
     "shell.execute_reply": "2025-02-12T04:35:37.132134Z"
    },
    "id": "MSq136S3TIYe",
    "papermill": {
     "duration": 0.784681,
     "end_time": "2025-02-12T04:35:37.135730",
     "exception": false,
     "start_time": "2025-02-12T04:35:36.351049",
     "status": "completed"
    },
    "tags": []
   },
   "outputs": [
    {
     "name": "stderr",
     "output_type": "stream",
     "text": [
      "/usr/local/lib/python3.10/dist-packages/seaborn/_oldcore.py:1119: FutureWarning: use_inf_as_na option is deprecated and will be removed in a future version. Convert inf values to NaN before operating instead.\n",
      "  with pd.option_context('mode.use_inf_as_na', True):\n",
      "/usr/local/lib/python3.10/dist-packages/seaborn/_oldcore.py:1075: FutureWarning: When grouping with a length-1 list-like, you will need to pass a length-1 tuple to get_group in a future version of pandas. Pass `(name,)` instead of `name` to silence this warning.\n",
      "  data_subset = grouped_data.get_group(pd_key)\n",
      "/usr/local/lib/python3.10/dist-packages/seaborn/_oldcore.py:1075: FutureWarning: When grouping with a length-1 list-like, you will need to pass a length-1 tuple to get_group in a future version of pandas. Pass `(name,)` instead of `name` to silence this warning.\n",
      "  data_subset = grouped_data.get_group(pd_key)\n",
      "/usr/local/lib/python3.10/dist-packages/seaborn/_oldcore.py:1075: FutureWarning: When grouping with a length-1 list-like, you will need to pass a length-1 tuple to get_group in a future version of pandas. Pass `(name,)` instead of `name` to silence this warning.\n",
      "  data_subset = grouped_data.get_group(pd_key)\n",
      "/usr/local/lib/python3.10/dist-packages/seaborn/_oldcore.py:1075: FutureWarning: When grouping with a length-1 list-like, you will need to pass a length-1 tuple to get_group in a future version of pandas. Pass `(name,)` instead of `name` to silence this warning.\n",
      "  data_subset = grouped_data.get_group(pd_key)\n"
     ]
    },
    {
     "data": {
      "image/png": "[encoded data removed]",
      "text/plain": [
       "<Figure size 1200x700 with 1 Axes>"
      ]
     },
     "metadata": {},
     "output_type": "display_data"
    }
   ],
   "source": [
    "# Visualize the distribution of `video_transcription_text` length for videos posted by verified accounts and videos posted by unverified accounts\n",
    "# Create two histograms in one plot\n",
    "### YOUR CODE HERE ###\n",
    "\n",
    "# set plot size \n",
    "plt.figure(figsize=(12,7))\n",
    "\n",
    "# construct histogram \n",
    "sns.histplot(data=data_upsampled,  x='text_length', multiple='stack', kde=False, hue='verified_status', legend=True)\n",
    "\n",
    "# plot title\n",
    "plt.title('video_transcription_text length distributions for videos by verified v/s unverified accounts')\n",
    "\n",
    "# display the plot\n",
    "plt.show()"
   ]
  },
  {
   "cell_type": "markdown",
   "id": "4e1139ad",
   "metadata": {
    "id": "KlF7ZNSyW0yV",
    "papermill": {
     "duration": 0.021917,
     "end_time": "2025-02-12T04:35:37.180014",
     "exception": false,
     "start_time": "2025-02-12T04:35:37.158097",
     "status": "completed"
    },
    "tags": []
   },
   "source": [
    "### **Task 2b. Examine correlations**"
   ]
  },
  {
   "cell_type": "markdown",
   "id": "73d2d176",
   "metadata": {
    "id": "pKkx6FvS4OpI",
    "papermill": {
     "duration": 0.022007,
     "end_time": "2025-02-12T04:35:37.224315",
     "exception": false,
     "start_time": "2025-02-12T04:35:37.202308",
     "status": "completed"
    },
    "tags": []
   },
   "source": [
    "Next, code a correlation matrix to help determine most correlated variables."
   ]
  },
  {
   "cell_type": "code",
   "execution_count": 24,
   "id": "206e57fc",
   "metadata": {
    "execution": {
     "iopub.execute_input": "2025-02-12T04:35:37.271208Z",
     "iopub.status.busy": "2025-02-12T04:35:37.270777Z",
     "iopub.status.idle": "2025-02-12T04:35:37.299020Z",
     "shell.execute_reply": "2025-02-12T04:35:37.297805Z"
    },
    "id": "KCEzE-gwL5gq",
    "papermill": {
     "duration": 0.053548,
     "end_time": "2025-02-12T04:35:37.301140",
     "exception": false,
     "start_time": "2025-02-12T04:35:37.247592",
     "status": "completed"
    },
    "tags": []
   },
   "outputs": [
    {
     "data": {
      "text/html": [
       "<div>\n",
       "<style scoped>\n",
       "    .dataframe tbody tr th:only-of-type {\n",
       "        vertical-align: middle;\n",
       "    }\n",
       "\n",
       "    .dataframe tbody tr th {\n",
       "        vertical-align: top;\n",
       "    }\n",
       "\n",
       "    .dataframe thead th {\n",
       "        text-align: right;\n",
       "    }\n",
       "</style>\n",
       "<table border=\"1\" class=\"dataframe\">\n",
       "  <thead>\n",
       "    <tr style=\"text-align: right;\">\n",
       "      <th></th>\n",
       "      <th>#</th>\n",
       "      <th>video_id</th>\n",
       "      <th>video_duration_sec</th>\n",
       "      <th>video_view_count</th>\n",
       "      <th>video_like_count</th>\n",
       "      <th>video_share_count</th>\n",
       "      <th>video_download_count</th>\n",
       "      <th>video_comment_count</th>\n",
       "      <th>text_length</th>\n",
       "    </tr>\n",
       "  </thead>\n",
       "  <tbody>\n",
       "    <tr>\n",
       "      <th>#</th>\n",
       "      <td>1.000000</td>\n",
       "      <td>-0.000853</td>\n",
       "      <td>-0.011729</td>\n",
       "      <td>-0.697007</td>\n",
       "      <td>-0.626385</td>\n",
       "      <td>-0.504015</td>\n",
       "      <td>-0.487096</td>\n",
       "      <td>-0.413799</td>\n",
       "      <td>-0.193677</td>\n",
       "    </tr>\n",
       "    <tr>\n",
       "      <th>video_id</th>\n",
       "      <td>-0.000853</td>\n",
       "      <td>1.000000</td>\n",
       "      <td>0.011859</td>\n",
       "      <td>0.002554</td>\n",
       "      <td>0.005993</td>\n",
       "      <td>0.010515</td>\n",
       "      <td>0.008753</td>\n",
       "      <td>0.013983</td>\n",
       "      <td>-0.007083</td>\n",
       "    </tr>\n",
       "    <tr>\n",
       "      <th>video_duration_sec</th>\n",
       "      <td>-0.011729</td>\n",
       "      <td>0.011859</td>\n",
       "      <td>1.000000</td>\n",
       "      <td>0.013589</td>\n",
       "      <td>0.004494</td>\n",
       "      <td>0.002206</td>\n",
       "      <td>0.003989</td>\n",
       "      <td>-0.004586</td>\n",
       "      <td>-0.002981</td>\n",
       "    </tr>\n",
       "    <tr>\n",
       "      <th>video_view_count</th>\n",
       "      <td>-0.697007</td>\n",
       "      <td>0.002554</td>\n",
       "      <td>0.013589</td>\n",
       "      <td>1.000000</td>\n",
       "      <td>0.856937</td>\n",
       "      <td>0.711313</td>\n",
       "      <td>0.690048</td>\n",
       "      <td>0.583485</td>\n",
       "      <td>0.244693</td>\n",
       "    </tr>\n",
       "    <tr>\n",
       "      <th>video_like_count</th>\n",
       "      <td>-0.626385</td>\n",
       "      <td>0.005993</td>\n",
       "      <td>0.004494</td>\n",
       "      <td>0.856937</td>\n",
       "      <td>1.000000</td>\n",
       "      <td>0.832146</td>\n",
       "      <td>0.805543</td>\n",
       "      <td>0.686647</td>\n",
       "      <td>0.216693</td>\n",
       "    </tr>\n",
       "    <tr>\n",
       "      <th>video_share_count</th>\n",
       "      <td>-0.504015</td>\n",
       "      <td>0.010515</td>\n",
       "      <td>0.002206</td>\n",
       "      <td>0.711313</td>\n",
       "      <td>0.832146</td>\n",
       "      <td>1.000000</td>\n",
       "      <td>0.710117</td>\n",
       "      <td>0.620182</td>\n",
       "      <td>0.171651</td>\n",
       "    </tr>\n",
       "    <tr>\n",
       "      <th>video_download_count</th>\n",
       "      <td>-0.487096</td>\n",
       "      <td>0.008753</td>\n",
       "      <td>0.003989</td>\n",
       "      <td>0.690048</td>\n",
       "      <td>0.805543</td>\n",
       "      <td>0.710117</td>\n",
       "      <td>1.000000</td>\n",
       "      <td>0.857679</td>\n",
       "      <td>0.173396</td>\n",
       "    </tr>\n",
       "    <tr>\n",
       "      <th>video_comment_count</th>\n",
       "      <td>-0.413799</td>\n",
       "      <td>0.013983</td>\n",
       "      <td>-0.004586</td>\n",
       "      <td>0.583485</td>\n",
       "      <td>0.686647</td>\n",
       "      <td>0.620182</td>\n",
       "      <td>0.857679</td>\n",
       "      <td>1.000000</td>\n",
       "      <td>0.149750</td>\n",
       "    </tr>\n",
       "    <tr>\n",
       "      <th>text_length</th>\n",
       "      <td>-0.193677</td>\n",
       "      <td>-0.007083</td>\n",
       "      <td>-0.002981</td>\n",
       "      <td>0.244693</td>\n",
       "      <td>0.216693</td>\n",
       "      <td>0.171651</td>\n",
       "      <td>0.173396</td>\n",
       "      <td>0.149750</td>\n",
       "      <td>1.000000</td>\n",
       "    </tr>\n",
       "  </tbody>\n",
       "</table>\n",
       "</div>"
      ],
      "text/plain": [
       "                             #  video_id  video_duration_sec  \\\n",
       "#                     1.000000 -0.000853           -0.011729   \n",
       "video_id             -0.000853  1.000000            0.011859   \n",
       "video_duration_sec   -0.011729  0.011859            1.000000   \n",
       "video_view_count     -0.697007  0.002554            0.013589   \n",
       "video_like_count     -0.626385  0.005993            0.004494   \n",
       "video_share_count    -0.504015  0.010515            0.002206   \n",
       "video_download_count -0.487096  0.008753            0.003989   \n",
       "video_comment_count  -0.413799  0.013983           -0.004586   \n",
       "text_length          -0.193677 -0.007083           -0.002981   \n",
       "\n",
       "                      video_view_count  video_like_count  video_share_count  \\\n",
       "#                            -0.697007         -0.626385          -0.504015   \n",
       "video_id                      0.002554          0.005993           0.010515   \n",
       "video_duration_sec            0.013589          0.004494           0.002206   \n",
       "video_view_count              1.000000          0.856937           0.711313   \n",
       "video_like_count              0.856937          1.000000           0.832146   \n",
       "video_share_count             0.711313          0.832146           1.000000   \n",
       "video_download_count          0.690048          0.805543           0.710117   \n",
       "video_comment_count           0.583485          0.686647           0.620182   \n",
       "text_length                   0.244693          0.216693           0.171651   \n",
       "\n",
       "                      video_download_count  video_comment_count  text_length  \n",
       "#                                -0.487096            -0.413799    -0.193677  \n",
       "video_id                          0.008753             0.013983    -0.007083  \n",
       "video_duration_sec                0.003989            -0.004586    -0.002981  \n",
       "video_view_count                  0.690048             0.583485     0.244693  \n",
       "video_like_count                  0.805543             0.686647     0.216693  \n",
       "video_share_count                 0.710117             0.620182     0.171651  \n",
       "video_download_count              1.000000             0.857679     0.173396  \n",
       "video_comment_count               0.857679             1.000000     0.149750  \n",
       "text_length                       0.173396             0.149750     1.000000  "
      ]
     },
     "execution_count": 24,
     "metadata": {},
     "output_type": "execute_result"
    }
   ],
   "source": [
    "# Code a correlation matrix to help determine most correlated variables\n",
    "### YOUR CODE HERE ###\n",
    "data_upsampled.corr(numeric_only=True)"
   ]
  },
  {
   "cell_type": "markdown",
   "id": "6d65a673",
   "metadata": {
    "id": "6Ldmks6g4ZzE",
    "papermill": {
     "duration": 0.022897,
     "end_time": "2025-02-12T04:35:37.347228",
     "exception": false,
     "start_time": "2025-02-12T04:35:37.324331",
     "status": "completed"
    },
    "tags": []
   },
   "source": [
    "Visualize a correlation heatmap of the data."
   ]
  },
  {
   "cell_type": "code",
   "execution_count": 25,
   "id": "85ff606b",
   "metadata": {
    "execution": {
     "iopub.execute_input": "2025-02-12T04:35:37.394652Z",
     "iopub.status.busy": "2025-02-12T04:35:37.394212Z",
     "iopub.status.idle": "2025-02-12T04:35:37.910702Z",
     "shell.execute_reply": "2025-02-12T04:35:37.909647Z"
    },
    "id": "8Ti_MFF7tekR",
    "papermill": {
     "duration": 0.542378,
     "end_time": "2025-02-12T04:35:37.913294",
     "exception": false,
     "start_time": "2025-02-12T04:35:37.370916",
     "status": "completed"
    },
    "tags": []
   },
   "outputs": [
    {
     "data": {
      "image/png": "[encoded data removed]",
      "text/plain": [
       "<Figure size 1000x700 with 2 Axes>"
      ]
     },
     "metadata": {},
     "output_type": "display_data"
    }
   ],
   "source": [
    "# Create a heatmap to visualize how correlated variables are\n",
    "### YOUR CODE HERE ###\n",
    "\n",
    "# set plotsize\n",
    "plt.figure(figsize=(10,7))\n",
    "\n",
    "# construct the plot\n",
    "sns.heatmap(data=data_upsampled.corr(numeric_only=True), annot=True, cmap='viridis')\n",
    "\n",
    "# set title\n",
    "plt.title('Heatmap of correlations b/w numeric variables')\n",
    "\n",
    "# display the plot\n",
    "plt.show()"
   ]
  },
  {
   "cell_type": "markdown",
   "id": "c0014dac",
   "metadata": {
    "id": "zyQgcrDI00bT",
    "papermill": {
     "duration": 0.023757,
     "end_time": "2025-02-12T04:35:37.961834",
     "exception": false,
     "start_time": "2025-02-12T04:35:37.938077",
     "status": "completed"
    },
    "tags": []
   },
   "source": [
    "One of the model assumptions for logistic regression is no severe multicollinearity among the features. Take this into consideration as you examine the heatmap and choose which features to proceed with.\n",
    "\n",
    "**Question:** What variables are shown to be correlated in the heatmap?\n",
    "\n",
    "* video_like_count is highly correlated with video_share_count, video_share_count, video_download_count & video_comment_count\n",
    "* this is multi-collinearity being exhibited in the possible independent variabled taken for logistic regression analysis\n",
    "* to avoid this, we can drop video_like_count"
   ]
  },
  {
   "cell_type": "markdown",
   "id": "b5e18953",
   "metadata": {
    "id": "lgPul2DiY6T4",
    "papermill": {
     "duration": 0.023637,
     "end_time": "2025-02-12T04:35:38.010239",
     "exception": false,
     "start_time": "2025-02-12T04:35:37.986602",
     "status": "completed"
    },
    "tags": []
   },
   "source": [
    "<img src=\"images/Construct.png\" width=\"100\" height=\"100\" align=left>\n",
    "\n",
    "## **PACE: Construct**\n",
    "\n",
    "After analysis and deriving variables with close relationships, it is time to begin constructing the model. Consider the questions in your PACE Strategy Document to reflect on the Construct stage."
   ]
  },
  {
   "cell_type": "markdown",
   "id": "f7766f53",
   "metadata": {
    "id": "07UJJm41ajgf",
    "papermill": {
     "duration": 0.023565,
     "end_time": "2025-02-12T04:35:38.058510",
     "exception": false,
     "start_time": "2025-02-12T04:35:38.034945",
     "status": "completed"
    },
    "tags": []
   },
   "source": [
    "### **Task 3a. Select variables**"
   ]
  },
  {
   "cell_type": "markdown",
   "id": "bd69bb70",
   "metadata": {
    "id": "DxCW0RH_4m3Q",
    "papermill": {
     "duration": 0.023945,
     "end_time": "2025-02-12T04:35:38.107076",
     "exception": false,
     "start_time": "2025-02-12T04:35:38.083131",
     "status": "completed"
    },
    "tags": []
   },
   "source": [
    "Set your Y and X variables."
   ]
  },
  {
   "cell_type": "markdown",
   "id": "26848305",
   "metadata": {
    "id": "WhocrccZBcwx",
    "papermill": {
     "duration": 0.02384,
     "end_time": "2025-02-12T04:35:38.155113",
     "exception": false,
     "start_time": "2025-02-12T04:35:38.131273",
     "status": "completed"
    },
    "tags": []
   },
   "source": [
    "Select the outcome variable."
   ]
  },
  {
   "cell_type": "code",
   "execution_count": 26,
   "id": "f489b9a4",
   "metadata": {
    "execution": {
     "iopub.execute_input": "2025-02-12T04:35:38.205088Z",
     "iopub.status.busy": "2025-02-12T04:35:38.204758Z",
     "iopub.status.idle": "2025-02-12T04:35:38.208662Z",
     "shell.execute_reply": "2025-02-12T04:35:38.207786Z"
    },
    "id": "uH6jiQECBgFn",
    "papermill": {
     "duration": 0.030728,
     "end_time": "2025-02-12T04:35:38.210073",
     "exception": false,
     "start_time": "2025-02-12T04:35:38.179345",
     "status": "completed"
    },
    "tags": []
   },
   "outputs": [],
   "source": [
    "# Select outcome variable\n",
    "### YOUR CODE HERE ###\n",
    "y = data_upsampled['verified_status']"
   ]
  },
  {
   "cell_type": "markdown",
   "id": "8ef3acb8",
   "metadata": {
    "id": "WPxEovpUBZfk",
    "papermill": {
     "duration": 0.023599,
     "end_time": "2025-02-12T04:35:38.257684",
     "exception": false,
     "start_time": "2025-02-12T04:35:38.234085",
     "status": "completed"
    },
    "tags": []
   },
   "source": [
    "Select the features."
   ]
  },
  {
   "cell_type": "code",
   "execution_count": 27,
   "id": "e507ffcc",
   "metadata": {
    "execution": {
     "iopub.execute_input": "2025-02-12T04:35:38.306924Z",
     "iopub.status.busy": "2025-02-12T04:35:38.306571Z",
     "iopub.status.idle": "2025-02-12T04:35:38.321910Z",
     "shell.execute_reply": "2025-02-12T04:35:38.320817Z"
    },
    "id": "iJ5C6M5zCP3k",
    "papermill": {
     "duration": 0.04209,
     "end_time": "2025-02-12T04:35:38.323692",
     "exception": false,
     "start_time": "2025-02-12T04:35:38.281602",
     "status": "completed"
    },
    "tags": []
   },
   "outputs": [
    {
     "data": {
      "text/html": [
       "<div>\n",
       "<style scoped>\n",
       "    .dataframe tbody tr th:only-of-type {\n",
       "        vertical-align: middle;\n",
       "    }\n",
       "\n",
       "    .dataframe tbody tr th {\n",
       "        vertical-align: top;\n",
       "    }\n",
       "\n",
       "    .dataframe thead th {\n",
       "        text-align: right;\n",
       "    }\n",
       "</style>\n",
       "<table border=\"1\" class=\"dataframe\">\n",
       "  <thead>\n",
       "    <tr style=\"text-align: right;\">\n",
       "      <th></th>\n",
       "      <th>video_duration_sec</th>\n",
       "      <th>claim_status</th>\n",
       "      <th>author_ban_status</th>\n",
       "      <th>video_view_count</th>\n",
       "      <th>video_share_count</th>\n",
       "      <th>video_download_count</th>\n",
       "      <th>video_comment_count</th>\n",
       "    </tr>\n",
       "  </thead>\n",
       "  <tbody>\n",
       "    <tr>\n",
       "      <th>0</th>\n",
       "      <td>59</td>\n",
       "      <td>claim</td>\n",
       "      <td>under review</td>\n",
       "      <td>343296.0</td>\n",
       "      <td>241.0</td>\n",
       "      <td>1.0</td>\n",
       "      <td>0.0</td>\n",
       "    </tr>\n",
       "    <tr>\n",
       "      <th>1</th>\n",
       "      <td>32</td>\n",
       "      <td>claim</td>\n",
       "      <td>active</td>\n",
       "      <td>140877.0</td>\n",
       "      <td>19034.0</td>\n",
       "      <td>1161.0</td>\n",
       "      <td>684.0</td>\n",
       "    </tr>\n",
       "    <tr>\n",
       "      <th>2</th>\n",
       "      <td>31</td>\n",
       "      <td>claim</td>\n",
       "      <td>active</td>\n",
       "      <td>902185.0</td>\n",
       "      <td>2858.0</td>\n",
       "      <td>833.0</td>\n",
       "      <td>329.0</td>\n",
       "    </tr>\n",
       "    <tr>\n",
       "      <th>3</th>\n",
       "      <td>25</td>\n",
       "      <td>claim</td>\n",
       "      <td>active</td>\n",
       "      <td>437506.0</td>\n",
       "      <td>34812.0</td>\n",
       "      <td>1234.0</td>\n",
       "      <td>584.0</td>\n",
       "    </tr>\n",
       "    <tr>\n",
       "      <th>4</th>\n",
       "      <td>19</td>\n",
       "      <td>claim</td>\n",
       "      <td>active</td>\n",
       "      <td>56167.0</td>\n",
       "      <td>4110.0</td>\n",
       "      <td>547.0</td>\n",
       "      <td>152.0</td>\n",
       "    </tr>\n",
       "  </tbody>\n",
       "</table>\n",
       "</div>"
      ],
      "text/plain": [
       "   video_duration_sec claim_status author_ban_status  video_view_count  \\\n",
       "0                  59        claim      under review          343296.0   \n",
       "1                  32        claim            active          140877.0   \n",
       "2                  31        claim            active          902185.0   \n",
       "3                  25        claim            active          437506.0   \n",
       "4                  19        claim            active           56167.0   \n",
       "\n",
       "   video_share_count  video_download_count  video_comment_count  \n",
       "0              241.0                   1.0                  0.0  \n",
       "1            19034.0                1161.0                684.0  \n",
       "2             2858.0                 833.0                329.0  \n",
       "3            34812.0                1234.0                584.0  \n",
       "4             4110.0                 547.0                152.0  "
      ]
     },
     "execution_count": 27,
     "metadata": {},
     "output_type": "execute_result"
    }
   ],
   "source": [
    "# Select features\n",
    "### YOUR CODE HERE ###\n",
    "\n",
    "# using boolean negation\n",
    "#X = data_upsampled.loc[:,~data_upsampled.columns.isin(['#','verified_status', 'video_id', 'video_like_count', 'video_transcription_text', 'text_length'])]\n",
    "\n",
    "# through subset filtering\n",
    "X = data_upsampled[['video_duration_sec', 'claim_status', 'author_ban_status', 'video_view_count', 'video_share_count', 'video_download_count', 'video_comment_count']]\n",
    "\n",
    "# Display first few rows of features dataframe\n",
    "### YOUR CODE HERE ###\n",
    "X.head()"
   ]
  },
  {
   "cell_type": "markdown",
   "id": "4c699b1b",
   "metadata": {
    "id": "gPIBz0-HDEqd",
    "papermill": {
     "duration": 0.023769,
     "end_time": "2025-02-12T04:35:38.371990",
     "exception": false,
     "start_time": "2025-02-12T04:35:38.348221",
     "status": "completed"
    },
    "tags": []
   },
   "source": [
    "### **Task 3b. Train-test split**"
   ]
  },
  {
   "cell_type": "markdown",
   "id": "f66a80cc",
   "metadata": {
    "id": "5tNw9_y9jmY1",
    "papermill": {
     "duration": 0.024034,
     "end_time": "2025-02-12T04:35:38.420661",
     "exception": false,
     "start_time": "2025-02-12T04:35:38.396627",
     "status": "completed"
    },
    "tags": []
   },
   "source": [
    "Split the data into training and testing sets."
   ]
  },
  {
   "cell_type": "code",
   "execution_count": 28,
   "id": "1943a1f4",
   "metadata": {
    "execution": {
     "iopub.execute_input": "2025-02-12T04:35:38.470376Z",
     "iopub.status.busy": "2025-02-12T04:35:38.470051Z",
     "iopub.status.idle": "2025-02-12T04:35:38.480093Z",
     "shell.execute_reply": "2025-02-12T04:35:38.479046Z"
    },
    "id": "jKgrew0V6o_3",
    "papermill": {
     "duration": 0.037127,
     "end_time": "2025-02-12T04:35:38.481995",
     "exception": false,
     "start_time": "2025-02-12T04:35:38.444868",
     "status": "completed"
    },
    "tags": []
   },
   "outputs": [],
   "source": [
    "# Split the data into training and testing sets\n",
    "### YOUR CODE HERE ###\n",
    "X_train, X_test, y_train, y_test = train_test_split(X, y, test_size=0.25, random_state=0)"
   ]
  },
  {
   "cell_type": "markdown",
   "id": "9348850a",
   "metadata": {
    "id": "5VlklzoujrAR",
    "papermill": {
     "duration": 0.023809,
     "end_time": "2025-02-12T04:35:38.530114",
     "exception": false,
     "start_time": "2025-02-12T04:35:38.506305",
     "status": "completed"
    },
    "tags": []
   },
   "source": [
    "Confirm that the dimensions of the training and testing sets are in alignment."
   ]
  },
  {
   "cell_type": "code",
   "execution_count": 29,
   "id": "9c2627f1",
   "metadata": {
    "execution": {
     "iopub.execute_input": "2025-02-12T04:35:38.579867Z",
     "iopub.status.busy": "2025-02-12T04:35:38.579440Z",
     "iopub.status.idle": "2025-02-12T04:35:38.585721Z",
     "shell.execute_reply": "2025-02-12T04:35:38.584605Z"
    },
    "id": "xgbB1NCtfxcc",
    "papermill": {
     "duration": 0.032974,
     "end_time": "2025-02-12T04:35:38.587210",
     "exception": false,
     "start_time": "2025-02-12T04:35:38.554236",
     "status": "completed"
    },
    "tags": []
   },
   "outputs": [
    {
     "data": {
      "text/plain": [
       "((26826, 7), (8942, 7), (26826,), (8942,))"
      ]
     },
     "execution_count": 29,
     "metadata": {},
     "output_type": "execute_result"
    }
   ],
   "source": [
    "# Get shape of each training and testing set\n",
    "### YOUR CODE HERE ###\n",
    "X_train.shape, X_test.shape, y_train.shape, y_test.shape"
   ]
  },
  {
   "cell_type": "markdown",
   "id": "1a58b73b",
   "metadata": {
    "id": "V7PjlXFuDRp_",
    "papermill": {
     "duration": 0.024512,
     "end_time": "2025-02-12T04:35:38.636367",
     "exception": false,
     "start_time": "2025-02-12T04:35:38.611855",
     "status": "completed"
    },
    "tags": []
   },
   "source": [
    "### **Task 3c. Encode variables**"
   ]
  },
  {
   "cell_type": "markdown",
   "id": "c48c0e7f",
   "metadata": {
    "id": "rbpnEjop82zL",
    "papermill": {
     "duration": 0.024228,
     "end_time": "2025-02-12T04:35:38.685101",
     "exception": false,
     "start_time": "2025-02-12T04:35:38.660873",
     "status": "completed"
    },
    "tags": []
   },
   "source": [
    "Check the data types of the features."
   ]
  },
  {
   "cell_type": "code",
   "execution_count": 30,
   "id": "1c8ee76d",
   "metadata": {
    "execution": {
     "iopub.execute_input": "2025-02-12T04:35:38.740627Z",
     "iopub.status.busy": "2025-02-12T04:35:38.740220Z",
     "iopub.status.idle": "2025-02-12T04:35:38.747665Z",
     "shell.execute_reply": "2025-02-12T04:35:38.746563Z"
    },
    "id": "TefBRXUu8zWR",
    "papermill": {
     "duration": 0.038937,
     "end_time": "2025-02-12T04:35:38.749433",
     "exception": false,
     "start_time": "2025-02-12T04:35:38.710496",
     "status": "completed"
    },
    "tags": []
   },
   "outputs": [
    {
     "data": {
      "text/plain": [
       "video_duration_sec        int64\n",
       "claim_status             object\n",
       "author_ban_status        object\n",
       "video_view_count        float64\n",
       "video_share_count       float64\n",
       "video_download_count    float64\n",
       "video_comment_count     float64\n",
       "dtype: object"
      ]
     },
     "execution_count": 30,
     "metadata": {},
     "output_type": "execute_result"
    }
   ],
   "source": [
    "# Check data types\n",
    "### YOUR CODE HERE ###\n",
    "X_train.dtypes"
   ]
  },
  {
   "cell_type": "code",
   "execution_count": 31,
   "id": "12399140",
   "metadata": {
    "execution": {
     "iopub.execute_input": "2025-02-12T04:35:38.804162Z",
     "iopub.status.busy": "2025-02-12T04:35:38.803761Z",
     "iopub.status.idle": "2025-02-12T04:35:38.812257Z",
     "shell.execute_reply": "2025-02-12T04:35:38.811051Z"
    },
    "id": "gT1YqFZc-uBF",
    "papermill": {
     "duration": 0.037765,
     "end_time": "2025-02-12T04:35:38.814325",
     "exception": false,
     "start_time": "2025-02-12T04:35:38.776560",
     "status": "completed"
    },
    "tags": []
   },
   "outputs": [
    {
     "data": {
      "text/plain": [
       "array(['opinion', 'claim'], dtype=object)"
      ]
     },
     "execution_count": 31,
     "metadata": {},
     "output_type": "execute_result"
    }
   ],
   "source": [
    "# Get unique values in `claim_status`\n",
    "### YOUR CODE HERE ###\n",
    "X_train['claim_status'].unique()"
   ]
  },
  {
   "cell_type": "code",
   "execution_count": 32,
   "id": "ad2b25ac",
   "metadata": {
    "execution": {
     "iopub.execute_input": "2025-02-12T04:35:38.866726Z",
     "iopub.status.busy": "2025-02-12T04:35:38.866323Z",
     "iopub.status.idle": "2025-02-12T04:35:38.875831Z",
     "shell.execute_reply": "2025-02-12T04:35:38.874134Z"
    },
    "id": "uSnObsvy-wpz",
    "papermill": {
     "duration": 0.039049,
     "end_time": "2025-02-12T04:35:38.878497",
     "exception": false,
     "start_time": "2025-02-12T04:35:38.839448",
     "status": "completed"
    },
    "tags": []
   },
   "outputs": [
    {
     "data": {
      "text/plain": [
       "array(['active', 'under review', 'banned'], dtype=object)"
      ]
     },
     "execution_count": 32,
     "metadata": {},
     "output_type": "execute_result"
    }
   ],
   "source": [
    "# Get unique values in `author_ban_status`\n",
    "### YOUR CODE HERE ###\n",
    "X_train['author_ban_status'].unique()"
   ]
  },
  {
   "cell_type": "markdown",
   "id": "ea031973",
   "metadata": {
    "id": "PKSSWs39xYWH",
    "papermill": {
     "duration": 0.027378,
     "end_time": "2025-02-12T04:35:38.931835",
     "exception": false,
     "start_time": "2025-02-12T04:35:38.904457",
     "status": "completed"
    },
    "tags": []
   },
   "source": [
    "As shown above, the `claim_status` and `author_ban_status` features are each of data type `object` currently. In order to work with the implementations of models through `sklearn`, these categorical features will need to be made numeric. One way to do this is through one-hot encoding.\n",
    "\n",
    "Encode categorical features in the training set using an appropriate method."
   ]
  },
  {
   "cell_type": "code",
   "execution_count": 33,
   "id": "25d74ac6",
   "metadata": {
    "execution": {
     "iopub.execute_input": "2025-02-12T04:35:38.985528Z",
     "iopub.status.busy": "2025-02-12T04:35:38.985126Z",
     "iopub.status.idle": "2025-02-12T04:35:38.998038Z",
     "shell.execute_reply": "2025-02-12T04:35:38.996817Z"
    },
    "id": "mlMTSyaTcBct",
    "papermill": {
     "duration": 0.041787,
     "end_time": "2025-02-12T04:35:38.999852",
     "exception": false,
     "start_time": "2025-02-12T04:35:38.958065",
     "status": "completed"
    },
    "tags": []
   },
   "outputs": [
    {
     "data": {
      "text/html": [
       "<div>\n",
       "<style scoped>\n",
       "    .dataframe tbody tr th:only-of-type {\n",
       "        vertical-align: middle;\n",
       "    }\n",
       "\n",
       "    .dataframe tbody tr th {\n",
       "        vertical-align: top;\n",
       "    }\n",
       "\n",
       "    .dataframe thead th {\n",
       "        text-align: right;\n",
       "    }\n",
       "</style>\n",
       "<table border=\"1\" class=\"dataframe\">\n",
       "  <thead>\n",
       "    <tr style=\"text-align: right;\">\n",
       "      <th></th>\n",
       "      <th>claim_status</th>\n",
       "      <th>author_ban_status</th>\n",
       "    </tr>\n",
       "  </thead>\n",
       "  <tbody>\n",
       "    <tr>\n",
       "      <th>33058</th>\n",
       "      <td>opinion</td>\n",
       "      <td>active</td>\n",
       "    </tr>\n",
       "    <tr>\n",
       "      <th>20491</th>\n",
       "      <td>opinion</td>\n",
       "      <td>active</td>\n",
       "    </tr>\n",
       "    <tr>\n",
       "      <th>25583</th>\n",
       "      <td>opinion</td>\n",
       "      <td>active</td>\n",
       "    </tr>\n",
       "    <tr>\n",
       "      <th>18474</th>\n",
       "      <td>opinion</td>\n",
       "      <td>active</td>\n",
       "    </tr>\n",
       "    <tr>\n",
       "      <th>27312</th>\n",
       "      <td>opinion</td>\n",
       "      <td>active</td>\n",
       "    </tr>\n",
       "  </tbody>\n",
       "</table>\n",
       "</div>"
      ],
      "text/plain": [
       "      claim_status author_ban_status\n",
       "33058      opinion            active\n",
       "20491      opinion            active\n",
       "25583      opinion            active\n",
       "18474      opinion            active\n",
       "27312      opinion            active"
      ]
     },
     "execution_count": 33,
     "metadata": {},
     "output_type": "execute_result"
    }
   ],
   "source": [
    "# Select the training features that needs to be encoded\n",
    "### YOUR CODE HERE ###\n",
    "X_train_encode_cols = X_train[['claim_status', 'author_ban_status']]\n",
    "\n",
    "# Display first few rows\n",
    "### YOUR CODE HERE ###\n",
    "X_train_encode_cols.head()"
   ]
  },
  {
   "cell_type": "code",
   "execution_count": 34,
   "id": "c372155d",
   "metadata": {
    "execution": {
     "iopub.execute_input": "2025-02-12T04:35:39.054202Z",
     "iopub.status.busy": "2025-02-12T04:35:39.053511Z",
     "iopub.status.idle": "2025-02-12T04:35:39.059082Z",
     "shell.execute_reply": "2025-02-12T04:35:39.057814Z"
    },
    "id": "lSM5lQioAjex",
    "papermill": {
     "duration": 0.034462,
     "end_time": "2025-02-12T04:35:39.061006",
     "exception": false,
     "start_time": "2025-02-12T04:35:39.026544",
     "status": "completed"
    },
    "tags": []
   },
   "outputs": [],
   "source": [
    "# Set up an encoder for one-hot encoding the categorical features\n",
    "### YOUR CODE HERE ###\n",
    "X_encoder = OneHotEncoder(drop='first', sparse_output=False)"
   ]
  },
  {
   "cell_type": "code",
   "execution_count": 35,
   "id": "75a082ed",
   "metadata": {
    "execution": {
     "iopub.execute_input": "2025-02-12T04:35:39.114292Z",
     "iopub.status.busy": "2025-02-12T04:35:39.113923Z",
     "iopub.status.idle": "2025-02-12T04:35:39.143691Z",
     "shell.execute_reply": "2025-02-12T04:35:39.141512Z"
    },
    "id": "PH_KGRJApBM_",
    "papermill": {
     "duration": 0.058915,
     "end_time": "2025-02-12T04:35:39.146566",
     "exception": false,
     "start_time": "2025-02-12T04:35:39.087651",
     "status": "completed"
    },
    "tags": []
   },
   "outputs": [],
   "source": [
    "# Fit and transform the training features using the encoder\n",
    "### YOUR CODE HERE ###\n",
    "X_train_encoded = X_encoder.fit_transform(X_train_encode_cols)"
   ]
  },
  {
   "cell_type": "code",
   "execution_count": 36,
   "id": "20614f1c",
   "metadata": {
    "execution": {
     "iopub.execute_input": "2025-02-12T04:35:39.198658Z",
     "iopub.status.busy": "2025-02-12T04:35:39.198276Z",
     "iopub.status.idle": "2025-02-12T04:35:39.204403Z",
     "shell.execute_reply": "2025-02-12T04:35:39.203107Z"
    },
    "id": "j57gJjIFpyO_",
    "papermill": {
     "duration": 0.033704,
     "end_time": "2025-02-12T04:35:39.206072",
     "exception": false,
     "start_time": "2025-02-12T04:35:39.172368",
     "status": "completed"
    },
    "tags": []
   },
   "outputs": [
    {
     "data": {
      "text/plain": [
       "array(['claim_status_opinion', 'author_ban_status_banned',\n",
       "       'author_ban_status_under review'], dtype=object)"
      ]
     },
     "execution_count": 36,
     "metadata": {},
     "output_type": "execute_result"
    }
   ],
   "source": [
    "# Get feature names from encoder\n",
    "### YOUR CODE HERE ###\n",
    "X_encoder.get_feature_names_out()"
   ]
  },
  {
   "cell_type": "code",
   "execution_count": 37,
   "id": "4619a3e8",
   "metadata": {
    "execution": {
     "iopub.execute_input": "2025-02-12T04:35:39.257882Z",
     "iopub.status.busy": "2025-02-12T04:35:39.257443Z",
     "iopub.status.idle": "2025-02-12T04:35:39.263700Z",
     "shell.execute_reply": "2025-02-12T04:35:39.262681Z"
    },
    "id": "2vSYk7n7phDI",
    "papermill": {
     "duration": 0.034146,
     "end_time": "2025-02-12T04:35:39.265803",
     "exception": false,
     "start_time": "2025-02-12T04:35:39.231657",
     "status": "completed"
    },
    "tags": []
   },
   "outputs": [
    {
     "data": {
      "text/plain": [
       "array([[1., 0., 0.],\n",
       "       [1., 0., 0.],\n",
       "       [1., 0., 0.],\n",
       "       ...,\n",
       "       [1., 0., 0.],\n",
       "       [1., 0., 0.],\n",
       "       [0., 1., 0.]])"
      ]
     },
     "execution_count": 37,
     "metadata": {},
     "output_type": "execute_result"
    }
   ],
   "source": [
    "# Display first few rows of encoded training features\n",
    "### YOUR CODE HERE ###\n",
    "X_train_encoded"
   ]
  },
  {
   "cell_type": "code",
   "execution_count": 38,
   "id": "91acbad1",
   "metadata": {
    "execution": {
     "iopub.execute_input": "2025-02-12T04:35:39.320797Z",
     "iopub.status.busy": "2025-02-12T04:35:39.320326Z",
     "iopub.status.idle": "2025-02-12T04:35:39.331951Z",
     "shell.execute_reply": "2025-02-12T04:35:39.330898Z"
    },
    "id": "jAn10kA9qcUa",
    "papermill": {
     "duration": 0.03993,
     "end_time": "2025-02-12T04:35:39.333585",
     "exception": false,
     "start_time": "2025-02-12T04:35:39.293655",
     "status": "completed"
    },
    "tags": []
   },
   "outputs": [
    {
     "data": {
      "text/html": [
       "<div>\n",
       "<style scoped>\n",
       "    .dataframe tbody tr th:only-of-type {\n",
       "        vertical-align: middle;\n",
       "    }\n",
       "\n",
       "    .dataframe tbody tr th {\n",
       "        vertical-align: top;\n",
       "    }\n",
       "\n",
       "    .dataframe thead th {\n",
       "        text-align: right;\n",
       "    }\n",
       "</style>\n",
       "<table border=\"1\" class=\"dataframe\">\n",
       "  <thead>\n",
       "    <tr style=\"text-align: right;\">\n",
       "      <th></th>\n",
       "      <th>claim_status_opinion</th>\n",
       "      <th>author_ban_status_banned</th>\n",
       "      <th>author_ban_status_under review</th>\n",
       "    </tr>\n",
       "  </thead>\n",
       "  <tbody>\n",
       "    <tr>\n",
       "      <th>0</th>\n",
       "      <td>1.0</td>\n",
       "      <td>0.0</td>\n",
       "      <td>0.0</td>\n",
       "    </tr>\n",
       "    <tr>\n",
       "      <th>1</th>\n",
       "      <td>1.0</td>\n",
       "      <td>0.0</td>\n",
       "      <td>0.0</td>\n",
       "    </tr>\n",
       "    <tr>\n",
       "      <th>2</th>\n",
       "      <td>1.0</td>\n",
       "      <td>0.0</td>\n",
       "      <td>0.0</td>\n",
       "    </tr>\n",
       "    <tr>\n",
       "      <th>3</th>\n",
       "      <td>1.0</td>\n",
       "      <td>0.0</td>\n",
       "      <td>0.0</td>\n",
       "    </tr>\n",
       "    <tr>\n",
       "      <th>4</th>\n",
       "      <td>1.0</td>\n",
       "      <td>0.0</td>\n",
       "      <td>0.0</td>\n",
       "    </tr>\n",
       "  </tbody>\n",
       "</table>\n",
       "</div>"
      ],
      "text/plain": [
       "   claim_status_opinion  author_ban_status_banned  \\\n",
       "0                   1.0                       0.0   \n",
       "1                   1.0                       0.0   \n",
       "2                   1.0                       0.0   \n",
       "3                   1.0                       0.0   \n",
       "4                   1.0                       0.0   \n",
       "\n",
       "   author_ban_status_under review  \n",
       "0                             0.0  \n",
       "1                             0.0  \n",
       "2                             0.0  \n",
       "3                             0.0  \n",
       "4                             0.0  "
      ]
     },
     "execution_count": 38,
     "metadata": {},
     "output_type": "execute_result"
    }
   ],
   "source": [
    "# Place encoded training features (which is currently an array) into a dataframe\n",
    "### YOUR CODE HERE ###\n",
    "X_train_encoded_df = pd.DataFrame(data=X_train_encoded, columns=X_encoder.get_feature_names_out())\n",
    "\n",
    "# Display first few rows\n",
    "### YOUR CODE HERE ###\n",
    "X_train_encoded_df.head()"
   ]
  },
  {
   "cell_type": "code",
   "execution_count": 39,
   "id": "5259b1cf",
   "metadata": {
    "execution": {
     "iopub.execute_input": "2025-02-12T04:35:39.386115Z",
     "iopub.status.busy": "2025-02-12T04:35:39.385787Z",
     "iopub.status.idle": "2025-02-12T04:35:39.399070Z",
     "shell.execute_reply": "2025-02-12T04:35:39.398155Z"
    },
    "id": "7pdBRVwnuwc0",
    "papermill": {
     "duration": 0.041299,
     "end_time": "2025-02-12T04:35:39.400609",
     "exception": false,
     "start_time": "2025-02-12T04:35:39.359310",
     "status": "completed"
    },
    "tags": []
   },
   "outputs": [
    {
     "data": {
      "text/html": [
       "<div>\n",
       "<style scoped>\n",
       "    .dataframe tbody tr th:only-of-type {\n",
       "        vertical-align: middle;\n",
       "    }\n",
       "\n",
       "    .dataframe tbody tr th {\n",
       "        vertical-align: top;\n",
       "    }\n",
       "\n",
       "    .dataframe thead th {\n",
       "        text-align: right;\n",
       "    }\n",
       "</style>\n",
       "<table border=\"1\" class=\"dataframe\">\n",
       "  <thead>\n",
       "    <tr style=\"text-align: right;\">\n",
       "      <th></th>\n",
       "      <th>video_duration_sec</th>\n",
       "      <th>video_view_count</th>\n",
       "      <th>video_share_count</th>\n",
       "      <th>video_download_count</th>\n",
       "      <th>video_comment_count</th>\n",
       "    </tr>\n",
       "  </thead>\n",
       "  <tbody>\n",
       "    <tr>\n",
       "      <th>33058</th>\n",
       "      <td>33</td>\n",
       "      <td>2252.0</td>\n",
       "      <td>23.0</td>\n",
       "      <td>4.0</td>\n",
       "      <td>0.0</td>\n",
       "    </tr>\n",
       "    <tr>\n",
       "      <th>20491</th>\n",
       "      <td>52</td>\n",
       "      <td>6664.0</td>\n",
       "      <td>550.0</td>\n",
       "      <td>53.0</td>\n",
       "      <td>2.0</td>\n",
       "    </tr>\n",
       "    <tr>\n",
       "      <th>25583</th>\n",
       "      <td>37</td>\n",
       "      <td>6327.0</td>\n",
       "      <td>257.0</td>\n",
       "      <td>3.0</td>\n",
       "      <td>0.0</td>\n",
       "    </tr>\n",
       "    <tr>\n",
       "      <th>18474</th>\n",
       "      <td>57</td>\n",
       "      <td>1702.0</td>\n",
       "      <td>28.0</td>\n",
       "      <td>0.0</td>\n",
       "      <td>0.0</td>\n",
       "    </tr>\n",
       "    <tr>\n",
       "      <th>27312</th>\n",
       "      <td>21</td>\n",
       "      <td>3842.0</td>\n",
       "      <td>101.0</td>\n",
       "      <td>1.0</td>\n",
       "      <td>0.0</td>\n",
       "    </tr>\n",
       "  </tbody>\n",
       "</table>\n",
       "</div>"
      ],
      "text/plain": [
       "       video_duration_sec  video_view_count  video_share_count  \\\n",
       "33058                  33            2252.0               23.0   \n",
       "20491                  52            6664.0              550.0   \n",
       "25583                  37            6327.0              257.0   \n",
       "18474                  57            1702.0               28.0   \n",
       "27312                  21            3842.0              101.0   \n",
       "\n",
       "       video_download_count  video_comment_count  \n",
       "33058                   4.0                  0.0  \n",
       "20491                  53.0                  2.0  \n",
       "25583                   3.0                  0.0  \n",
       "18474                   0.0                  0.0  \n",
       "27312                   1.0                  0.0  "
      ]
     },
     "execution_count": 39,
     "metadata": {},
     "output_type": "execute_result"
    }
   ],
   "source": [
    "# Display first few rows of `X_train` with `claim_status` and `author_ban_status` columns dropped (since these features are being transformed to numeric)\n",
    "### YOUR CODE HERE ###\n",
    "X_train.drop(columns=['claim_status', 'author_ban_status']).head()"
   ]
  },
  {
   "cell_type": "code",
   "execution_count": 40,
   "id": "eb1211f7",
   "metadata": {
    "execution": {
     "iopub.execute_input": "2025-02-12T04:35:39.454129Z",
     "iopub.status.busy": "2025-02-12T04:35:39.453776Z",
     "iopub.status.idle": "2025-02-12T04:35:39.472602Z",
     "shell.execute_reply": "2025-02-12T04:35:39.471584Z"
    },
    "id": "qKG1TK-KEfuB",
    "papermill": {
     "duration": 0.048246,
     "end_time": "2025-02-12T04:35:39.474359",
     "exception": false,
     "start_time": "2025-02-12T04:35:39.426113",
     "status": "completed"
    },
    "tags": []
   },
   "outputs": [
    {
     "data": {
      "text/html": [
       "<div>\n",
       "<style scoped>\n",
       "    .dataframe tbody tr th:only-of-type {\n",
       "        vertical-align: middle;\n",
       "    }\n",
       "\n",
       "    .dataframe tbody tr th {\n",
       "        vertical-align: top;\n",
       "    }\n",
       "\n",
       "    .dataframe thead th {\n",
       "        text-align: right;\n",
       "    }\n",
       "</style>\n",
       "<table border=\"1\" class=\"dataframe\">\n",
       "  <thead>\n",
       "    <tr style=\"text-align: right;\">\n",
       "      <th></th>\n",
       "      <th>video_duration_sec</th>\n",
       "      <th>video_view_count</th>\n",
       "      <th>video_share_count</th>\n",
       "      <th>video_download_count</th>\n",
       "      <th>video_comment_count</th>\n",
       "      <th>claim_status_opinion</th>\n",
       "      <th>author_ban_status_banned</th>\n",
       "      <th>author_ban_status_under review</th>\n",
       "    </tr>\n",
       "  </thead>\n",
       "  <tbody>\n",
       "    <tr>\n",
       "      <th>0</th>\n",
       "      <td>33</td>\n",
       "      <td>2252.0</td>\n",
       "      <td>23.0</td>\n",
       "      <td>4.0</td>\n",
       "      <td>0.0</td>\n",
       "      <td>1.0</td>\n",
       "      <td>0.0</td>\n",
       "      <td>0.0</td>\n",
       "    </tr>\n",
       "    <tr>\n",
       "      <th>1</th>\n",
       "      <td>52</td>\n",
       "      <td>6664.0</td>\n",
       "      <td>550.0</td>\n",
       "      <td>53.0</td>\n",
       "      <td>2.0</td>\n",
       "      <td>1.0</td>\n",
       "      <td>0.0</td>\n",
       "      <td>0.0</td>\n",
       "    </tr>\n",
       "    <tr>\n",
       "      <th>2</th>\n",
       "      <td>37</td>\n",
       "      <td>6327.0</td>\n",
       "      <td>257.0</td>\n",
       "      <td>3.0</td>\n",
       "      <td>0.0</td>\n",
       "      <td>1.0</td>\n",
       "      <td>0.0</td>\n",
       "      <td>0.0</td>\n",
       "    </tr>\n",
       "    <tr>\n",
       "      <th>3</th>\n",
       "      <td>57</td>\n",
       "      <td>1702.0</td>\n",
       "      <td>28.0</td>\n",
       "      <td>0.0</td>\n",
       "      <td>0.0</td>\n",
       "      <td>1.0</td>\n",
       "      <td>0.0</td>\n",
       "      <td>0.0</td>\n",
       "    </tr>\n",
       "    <tr>\n",
       "      <th>4</th>\n",
       "      <td>21</td>\n",
       "      <td>3842.0</td>\n",
       "      <td>101.0</td>\n",
       "      <td>1.0</td>\n",
       "      <td>0.0</td>\n",
       "      <td>1.0</td>\n",
       "      <td>0.0</td>\n",
       "      <td>0.0</td>\n",
       "    </tr>\n",
       "  </tbody>\n",
       "</table>\n",
       "</div>"
      ],
      "text/plain": [
       "   video_duration_sec  video_view_count  video_share_count  \\\n",
       "0                  33            2252.0               23.0   \n",
       "1                  52            6664.0              550.0   \n",
       "2                  37            6327.0              257.0   \n",
       "3                  57            1702.0               28.0   \n",
       "4                  21            3842.0              101.0   \n",
       "\n",
       "   video_download_count  video_comment_count  claim_status_opinion  \\\n",
       "0                   4.0                  0.0                   1.0   \n",
       "1                  53.0                  2.0                   1.0   \n",
       "2                   3.0                  0.0                   1.0   \n",
       "3                   0.0                  0.0                   1.0   \n",
       "4                   1.0                  0.0                   1.0   \n",
       "\n",
       "   author_ban_status_banned  author_ban_status_under review  \n",
       "0                       0.0                             0.0  \n",
       "1                       0.0                             0.0  \n",
       "2                       0.0                             0.0  \n",
       "3                       0.0                             0.0  \n",
       "4                       0.0                             0.0  "
      ]
     },
     "execution_count": 40,
     "metadata": {},
     "output_type": "execute_result"
    }
   ],
   "source": [
    "# Concatenate `X_train` and `X_train_encoded_df` to form the final dataframe for training data (`X_train_final`)\n",
    "# Note: Using `.reset_index(drop=True)` to reset the index in X_train after dropping `claim_status` and `author_ban_status`,\n",
    "# so that the indices align with those in `X_train_encoded_df` and `count_df`\n",
    "### YOUR CODE HERE ###\n",
    "X_train_final = pd.concat([X_train.drop(columns=['claim_status', 'author_ban_status']).reset_index(drop=True), X_train_encoded_df], axis=1)\n",
    "\n",
    "# Display first few rows\n",
    "### YOUR CODE HERE ###\n",
    "X_train_final.head()"
   ]
  },
  {
   "cell_type": "markdown",
   "id": "dde54c72",
   "metadata": {
    "id": "9ZHZcDR_fY-D",
    "papermill": {
     "duration": 0.025064,
     "end_time": "2025-02-12T04:35:39.525261",
     "exception": false,
     "start_time": "2025-02-12T04:35:39.500197",
     "status": "completed"
    },
    "tags": []
   },
   "source": [
    "Check the data type of the outcome variable."
   ]
  },
  {
   "cell_type": "code",
   "execution_count": 41,
   "id": "9b9696b0",
   "metadata": {
    "execution": {
     "iopub.execute_input": "2025-02-12T04:35:39.578303Z",
     "iopub.status.busy": "2025-02-12T04:35:39.577966Z",
     "iopub.status.idle": "2025-02-12T04:35:39.588681Z",
     "shell.execute_reply": "2025-02-12T04:35:39.587190Z"
    },
    "id": "QNu4ndvufeP2",
    "papermill": {
     "duration": 0.039168,
     "end_time": "2025-02-12T04:35:39.590458",
     "exception": false,
     "start_time": "2025-02-12T04:35:39.551290",
     "status": "completed"
    },
    "tags": []
   },
   "outputs": [
    {
     "name": "stdout",
     "output_type": "stream",
     "text": [
      "<class 'pandas.core.series.Series'>\n",
      "Index: 26826 entries, 33058 to 2732\n",
      "Series name: verified_status\n",
      "Non-Null Count  Dtype \n",
      "--------------  ----- \n",
      "26826 non-null  object\n",
      "dtypes: object(1)\n",
      "memory usage: 419.2+ KB\n"
     ]
    }
   ],
   "source": [
    "# Check data type of outcome variable\n",
    "### YOUR CODE HERE ###\n",
    "y_train.info()"
   ]
  },
  {
   "cell_type": "code",
   "execution_count": 42,
   "id": "2702f4e5",
   "metadata": {
    "execution": {
     "iopub.execute_input": "2025-02-12T04:35:39.644169Z",
     "iopub.status.busy": "2025-02-12T04:35:39.643843Z",
     "iopub.status.idle": "2025-02-12T04:35:39.650621Z",
     "shell.execute_reply": "2025-02-12T04:35:39.649574Z"
    },
    "id": "23VVtIeD9fet",
    "papermill": {
     "duration": 0.034879,
     "end_time": "2025-02-12T04:35:39.652049",
     "exception": false,
     "start_time": "2025-02-12T04:35:39.617170",
     "status": "completed"
    },
    "tags": []
   },
   "outputs": [
    {
     "data": {
      "text/plain": [
       "array(['verified', 'not verified'], dtype=object)"
      ]
     },
     "execution_count": 42,
     "metadata": {},
     "output_type": "execute_result"
    }
   ],
   "source": [
    "# Get unique values of outcome variable\n",
    "### YOUR CODE HERE ###\n",
    "y_train.unique()"
   ]
  },
  {
   "cell_type": "markdown",
   "id": "c365ff03",
   "metadata": {
    "id": "YBUb24WDyAiA",
    "papermill": {
     "duration": 0.025298,
     "end_time": "2025-02-12T04:35:39.703321",
     "exception": false,
     "start_time": "2025-02-12T04:35:39.678023",
     "status": "completed"
    },
    "tags": []
   },
   "source": [
    "A shown above, the outcome variable is of data type `object` currently. One-hot encoding can be used to make this variable numeric.\n",
    "\n",
    "Encode categorical values of the outcome variable the training set using an appropriate method."
   ]
  },
  {
   "cell_type": "code",
   "execution_count": 43,
   "id": "ec317837",
   "metadata": {
    "execution": {
     "iopub.execute_input": "2025-02-12T04:35:39.755800Z",
     "iopub.status.busy": "2025-02-12T04:35:39.755412Z",
     "iopub.status.idle": "2025-02-12T04:35:39.759417Z",
     "shell.execute_reply": "2025-02-12T04:35:39.758457Z"
    },
    "id": "xGeLvAbgIBGh",
    "papermill": {
     "duration": 0.032175,
     "end_time": "2025-02-12T04:35:39.761160",
     "exception": false,
     "start_time": "2025-02-12T04:35:39.728985",
     "status": "completed"
    },
    "tags": []
   },
   "outputs": [],
   "source": [
    "# Set up an encoder for one-hot encoding the categorical outcome variable\n",
    "### YOUR CODE HERE ###\n",
    "y_encoder = OneHotEncoder(drop='first', sparse_output=False)"
   ]
  },
  {
   "cell_type": "code",
   "execution_count": 44,
   "id": "62a9db29",
   "metadata": {
    "execution": {
     "iopub.execute_input": "2025-02-12T04:35:39.826434Z",
     "iopub.status.busy": "2025-02-12T04:35:39.825988Z",
     "iopub.status.idle": "2025-02-12T04:35:39.848179Z",
     "shell.execute_reply": "2025-02-12T04:35:39.846531Z"
    },
    "id": "qJKcy7sqGeSC",
    "papermill": {
     "duration": 0.055366,
     "end_time": "2025-02-12T04:35:39.850424",
     "exception": false,
     "start_time": "2025-02-12T04:35:39.795058",
     "status": "completed"
    },
    "tags": []
   },
   "outputs": [
    {
     "data": {
      "text/plain": [
       "array([1., 1., 1., ..., 1., 1., 0.])"
      ]
     },
     "execution_count": 44,
     "metadata": {},
     "output_type": "execute_result"
    }
   ],
   "source": [
    "# Encode the training outcome variable\n",
    "# Notes:\n",
    "#   - Adjusting the shape of `y_train` before passing into `.fit_transform()`, since it takes in 2D array\n",
    "#   - Using `.ravel()` to flatten the array returned by `.fit_transform()`, so that it can be used later to train the model\n",
    "### YOUR CODE HERE ###\n",
    "\n",
    "# fit transform after making the y_train into a column vector using .reshape(-1,1) and flattening using ravel()\n",
    "y_train_final = y_encoder.fit_transform(y_train.values.reshape(-1, 1)).ravel()\n",
    "\n",
    "# Display the encoded training outcome variable\n",
    "### YOUR CODE HERE ###\n",
    "y_train_final"
   ]
  },
  {
   "cell_type": "markdown",
   "id": "0e85d4c4",
   "metadata": {
    "id": "iDYyjWssbnBG",
    "papermill": {
     "duration": 0.026281,
     "end_time": "2025-02-12T04:35:39.905205",
     "exception": false,
     "start_time": "2025-02-12T04:35:39.878924",
     "status": "completed"
    },
    "tags": []
   },
   "source": [
    "### **Task 3d. Model building**"
   ]
  },
  {
   "cell_type": "markdown",
   "id": "9c4546cd",
   "metadata": {
    "id": "ty8ieBkDBH4g",
    "papermill": {
     "duration": 0.026268,
     "end_time": "2025-02-12T04:35:39.957558",
     "exception": false,
     "start_time": "2025-02-12T04:35:39.931290",
     "status": "completed"
    },
    "tags": []
   },
   "source": [
    "Construct a model and fit it to the training set."
   ]
  },
  {
   "cell_type": "code",
   "execution_count": 45,
   "id": "348a8df7",
   "metadata": {
    "execution": {
     "iopub.execute_input": "2025-02-12T04:35:40.019499Z",
     "iopub.status.busy": "2025-02-12T04:35:40.019006Z",
     "iopub.status.idle": "2025-02-12T04:35:40.160770Z",
     "shell.execute_reply": "2025-02-12T04:35:40.159619Z"
    },
    "id": "sNcke2SNvZrN",
    "papermill": {
     "duration": 0.17099,
     "end_time": "2025-02-12T04:35:40.162847",
     "exception": false,
     "start_time": "2025-02-12T04:35:39.991857",
     "status": "completed"
    },
    "tags": []
   },
   "outputs": [],
   "source": [
    "# Construct a logistic regression model and fit it to the training set\n",
    "### YOUR CODE HERE ###\n",
    "logreg_clf = LogisticRegression(random_state=0, max_iter=800).fit(X_train_final, y_train_final)"
   ]
  },
  {
   "cell_type": "markdown",
   "id": "477d72fd",
   "metadata": {
    "id": "cp7ojoBldEYy",
    "papermill": {
     "duration": 0.025715,
     "end_time": "2025-02-12T04:35:40.225031",
     "exception": false,
     "start_time": "2025-02-12T04:35:40.199316",
     "status": "completed"
    },
    "tags": []
   },
   "source": [
    "<img src=\"images/Execute.png\" width=\"100\" height=\"100\" align=left>\n",
    "\n",
    "## **PACE: Execute**\n",
    "\n",
    "Consider the questions in your PACE Strategy Document to reflect on the Execute stage."
   ]
  },
  {
   "cell_type": "markdown",
   "id": "307f1a45",
   "metadata": {
    "id": "F_l3bkxQdJ3a",
    "papermill": {
     "duration": 0.03374,
     "end_time": "2025-02-12T04:35:40.285234",
     "exception": false,
     "start_time": "2025-02-12T04:35:40.251494",
     "status": "completed"
    },
    "tags": []
   },
   "source": [
    "### **Taks 4a. Results and evaluation**\n",
    "\n",
    "Evaluate your model."
   ]
  },
  {
   "cell_type": "markdown",
   "id": "09c63696",
   "metadata": {
    "id": "bxnKPq6dIUOB",
    "papermill": {
     "duration": 0.025562,
     "end_time": "2025-02-12T04:35:40.339842",
     "exception": false,
     "start_time": "2025-02-12T04:35:40.314280",
     "status": "completed"
    },
    "tags": []
   },
   "source": [
    "Encode categorical features in the testing set using an appropriate method."
   ]
  },
  {
   "cell_type": "code",
   "execution_count": 46,
   "id": "0e9ede10",
   "metadata": {
    "execution": {
     "iopub.execute_input": "2025-02-12T04:35:40.393429Z",
     "iopub.status.busy": "2025-02-12T04:35:40.393083Z",
     "iopub.status.idle": "2025-02-12T04:35:40.402851Z",
     "shell.execute_reply": "2025-02-12T04:35:40.401771Z"
    },
    "id": "x-bNI_2_Lp_2",
    "papermill": {
     "duration": 0.038145,
     "end_time": "2025-02-12T04:35:40.404239",
     "exception": false,
     "start_time": "2025-02-12T04:35:40.366094",
     "status": "completed"
    },
    "tags": []
   },
   "outputs": [
    {
     "data": {
      "text/html": [
       "<div>\n",
       "<style scoped>\n",
       "    .dataframe tbody tr th:only-of-type {\n",
       "        vertical-align: middle;\n",
       "    }\n",
       "\n",
       "    .dataframe tbody tr th {\n",
       "        vertical-align: top;\n",
       "    }\n",
       "\n",
       "    .dataframe thead th {\n",
       "        text-align: right;\n",
       "    }\n",
       "</style>\n",
       "<table border=\"1\" class=\"dataframe\">\n",
       "  <thead>\n",
       "    <tr style=\"text-align: right;\">\n",
       "      <th></th>\n",
       "      <th>claim_status</th>\n",
       "      <th>author_ban_status</th>\n",
       "    </tr>\n",
       "  </thead>\n",
       "  <tbody>\n",
       "    <tr>\n",
       "      <th>21061</th>\n",
       "      <td>opinion</td>\n",
       "      <td>active</td>\n",
       "    </tr>\n",
       "    <tr>\n",
       "      <th>31748</th>\n",
       "      <td>opinion</td>\n",
       "      <td>active</td>\n",
       "    </tr>\n",
       "    <tr>\n",
       "      <th>20197</th>\n",
       "      <td>claim</td>\n",
       "      <td>active</td>\n",
       "    </tr>\n",
       "    <tr>\n",
       "      <th>5727</th>\n",
       "      <td>claim</td>\n",
       "      <td>active</td>\n",
       "    </tr>\n",
       "    <tr>\n",
       "      <th>11607</th>\n",
       "      <td>opinion</td>\n",
       "      <td>active</td>\n",
       "    </tr>\n",
       "  </tbody>\n",
       "</table>\n",
       "</div>"
      ],
      "text/plain": [
       "      claim_status author_ban_status\n",
       "21061      opinion            active\n",
       "31748      opinion            active\n",
       "20197        claim            active\n",
       "5727         claim            active\n",
       "11607      opinion            active"
      ]
     },
     "execution_count": 46,
     "metadata": {},
     "output_type": "execute_result"
    }
   ],
   "source": [
    "# Select the testing features that needs to be encoded\n",
    "### YOUR CODE HERE ###\n",
    "X_test_to_encode = X_test[['claim_status', 'author_ban_status']]\n",
    "\n",
    "# Display first few rows\n",
    "### YOUR CODE HERE ###\n",
    "X_test_to_encode.head()"
   ]
  },
  {
   "cell_type": "code",
   "execution_count": 47,
   "id": "910e4d70",
   "metadata": {
    "execution": {
     "iopub.execute_input": "2025-02-12T04:35:40.458059Z",
     "iopub.status.busy": "2025-02-12T04:35:40.457602Z",
     "iopub.status.idle": "2025-02-12T04:35:40.476411Z",
     "shell.execute_reply": "2025-02-12T04:35:40.475351Z"
    },
    "id": "OWa-7XD-Lp_3",
    "papermill": {
     "duration": 0.04759,
     "end_time": "2025-02-12T04:35:40.478161",
     "exception": false,
     "start_time": "2025-02-12T04:35:40.430571",
     "status": "completed"
    },
    "tags": []
   },
   "outputs": [
    {
     "data": {
      "text/plain": [
       "array([[1., 0., 0.],\n",
       "       [1., 0., 0.],\n",
       "       [0., 0., 0.],\n",
       "       ...,\n",
       "       [1., 0., 0.],\n",
       "       [0., 0., 1.],\n",
       "       [1., 0., 0.]])"
      ]
     },
     "execution_count": 47,
     "metadata": {},
     "output_type": "execute_result"
    }
   ],
   "source": [
    "# Transform the testing features using the encoder\n",
    "### YOUR CODE HERE ###\n",
    "X_test_encoded = X_encoder.transform(X_test_to_encode)\n",
    "\n",
    "# Display first few rows of encoded testing features\n",
    "### YOUR CODE HERE ###\n",
    "X_test_encoded"
   ]
  },
  {
   "cell_type": "code",
   "execution_count": 48,
   "id": "749c36d3",
   "metadata": {
    "execution": {
     "iopub.execute_input": "2025-02-12T04:35:40.539248Z",
     "iopub.status.busy": "2025-02-12T04:35:40.538916Z",
     "iopub.status.idle": "2025-02-12T04:35:40.552245Z",
     "shell.execute_reply": "2025-02-12T04:35:40.551014Z"
    },
    "id": "Nmuk2nAELp_3",
    "papermill": {
     "duration": 0.046671,
     "end_time": "2025-02-12T04:35:40.554439",
     "exception": false,
     "start_time": "2025-02-12T04:35:40.507768",
     "status": "completed"
    },
    "tags": []
   },
   "outputs": [
    {
     "data": {
      "text/html": [
       "<div>\n",
       "<style scoped>\n",
       "    .dataframe tbody tr th:only-of-type {\n",
       "        vertical-align: middle;\n",
       "    }\n",
       "\n",
       "    .dataframe tbody tr th {\n",
       "        vertical-align: top;\n",
       "    }\n",
       "\n",
       "    .dataframe thead th {\n",
       "        text-align: right;\n",
       "    }\n",
       "</style>\n",
       "<table border=\"1\" class=\"dataframe\">\n",
       "  <thead>\n",
       "    <tr style=\"text-align: right;\">\n",
       "      <th></th>\n",
       "      <th>claim_status_opinion</th>\n",
       "      <th>author_ban_status_banned</th>\n",
       "      <th>author_ban_status_under review</th>\n",
       "    </tr>\n",
       "  </thead>\n",
       "  <tbody>\n",
       "    <tr>\n",
       "      <th>0</th>\n",
       "      <td>1.0</td>\n",
       "      <td>0.0</td>\n",
       "      <td>0.0</td>\n",
       "    </tr>\n",
       "    <tr>\n",
       "      <th>1</th>\n",
       "      <td>1.0</td>\n",
       "      <td>0.0</td>\n",
       "      <td>0.0</td>\n",
       "    </tr>\n",
       "    <tr>\n",
       "      <th>2</th>\n",
       "      <td>0.0</td>\n",
       "      <td>0.0</td>\n",
       "      <td>0.0</td>\n",
       "    </tr>\n",
       "    <tr>\n",
       "      <th>3</th>\n",
       "      <td>0.0</td>\n",
       "      <td>0.0</td>\n",
       "      <td>0.0</td>\n",
       "    </tr>\n",
       "    <tr>\n",
       "      <th>4</th>\n",
       "      <td>1.0</td>\n",
       "      <td>0.0</td>\n",
       "      <td>0.0</td>\n",
       "    </tr>\n",
       "  </tbody>\n",
       "</table>\n",
       "</div>"
      ],
      "text/plain": [
       "   claim_status_opinion  author_ban_status_banned  \\\n",
       "0                   1.0                       0.0   \n",
       "1                   1.0                       0.0   \n",
       "2                   0.0                       0.0   \n",
       "3                   0.0                       0.0   \n",
       "4                   1.0                       0.0   \n",
       "\n",
       "   author_ban_status_under review  \n",
       "0                             0.0  \n",
       "1                             0.0  \n",
       "2                             0.0  \n",
       "3                             0.0  \n",
       "4                             0.0  "
      ]
     },
     "execution_count": 48,
     "metadata": {},
     "output_type": "execute_result"
    }
   ],
   "source": [
    "# Place encoded testing features (which is currently an array) into a dataframe\n",
    "### YOUR CODE HERE ###\n",
    "X_test_encoded_df = pd.DataFrame(data=X_test_encoded, columns=X_encoder.get_feature_names_out())\n",
    "\n",
    "# Display first few rows\n",
    "### YOUR CODE HERE ###\n",
    "X_test_encoded_df.head()"
   ]
  },
  {
   "cell_type": "code",
   "execution_count": 49,
   "id": "503e0837",
   "metadata": {
    "execution": {
     "iopub.execute_input": "2025-02-12T04:35:40.614883Z",
     "iopub.status.busy": "2025-02-12T04:35:40.614367Z",
     "iopub.status.idle": "2025-02-12T04:35:40.632723Z",
     "shell.execute_reply": "2025-02-12T04:35:40.631459Z"
    },
    "id": "uPkMT-n17pV5",
    "papermill": {
     "duration": 0.050585,
     "end_time": "2025-02-12T04:35:40.634617",
     "exception": false,
     "start_time": "2025-02-12T04:35:40.584032",
     "status": "completed"
    },
    "tags": []
   },
   "outputs": [
    {
     "data": {
      "text/html": [
       "<div>\n",
       "<style scoped>\n",
       "    .dataframe tbody tr th:only-of-type {\n",
       "        vertical-align: middle;\n",
       "    }\n",
       "\n",
       "    .dataframe tbody tr th {\n",
       "        vertical-align: top;\n",
       "    }\n",
       "\n",
       "    .dataframe thead th {\n",
       "        text-align: right;\n",
       "    }\n",
       "</style>\n",
       "<table border=\"1\" class=\"dataframe\">\n",
       "  <thead>\n",
       "    <tr style=\"text-align: right;\">\n",
       "      <th></th>\n",
       "      <th>video_duration_sec</th>\n",
       "      <th>video_view_count</th>\n",
       "      <th>video_share_count</th>\n",
       "      <th>video_download_count</th>\n",
       "      <th>video_comment_count</th>\n",
       "    </tr>\n",
       "  </thead>\n",
       "  <tbody>\n",
       "    <tr>\n",
       "      <th>21061</th>\n",
       "      <td>41</td>\n",
       "      <td>2118.0</td>\n",
       "      <td>57.0</td>\n",
       "      <td>5.0</td>\n",
       "      <td>2.0</td>\n",
       "    </tr>\n",
       "    <tr>\n",
       "      <th>31748</th>\n",
       "      <td>27</td>\n",
       "      <td>5701.0</td>\n",
       "      <td>157.0</td>\n",
       "      <td>1.0</td>\n",
       "      <td>0.0</td>\n",
       "    </tr>\n",
       "    <tr>\n",
       "      <th>20197</th>\n",
       "      <td>31</td>\n",
       "      <td>449767.0</td>\n",
       "      <td>75385.0</td>\n",
       "      <td>5956.0</td>\n",
       "      <td>1789.0</td>\n",
       "    </tr>\n",
       "    <tr>\n",
       "      <th>5727</th>\n",
       "      <td>19</td>\n",
       "      <td>792813.0</td>\n",
       "      <td>56597.0</td>\n",
       "      <td>5146.0</td>\n",
       "      <td>3413.0</td>\n",
       "    </tr>\n",
       "    <tr>\n",
       "      <th>11607</th>\n",
       "      <td>54</td>\n",
       "      <td>2044.0</td>\n",
       "      <td>68.0</td>\n",
       "      <td>19.0</td>\n",
       "      <td>2.0</td>\n",
       "    </tr>\n",
       "  </tbody>\n",
       "</table>\n",
       "</div>"
      ],
      "text/plain": [
       "       video_duration_sec  video_view_count  video_share_count  \\\n",
       "21061                  41            2118.0               57.0   \n",
       "31748                  27            5701.0              157.0   \n",
       "20197                  31          449767.0            75385.0   \n",
       "5727                   19          792813.0            56597.0   \n",
       "11607                  54            2044.0               68.0   \n",
       "\n",
       "       video_download_count  video_comment_count  \n",
       "21061                   5.0                  2.0  \n",
       "31748                   1.0                  0.0  \n",
       "20197                5956.0               1789.0  \n",
       "5727                 5146.0               3413.0  \n",
       "11607                  19.0                  2.0  "
      ]
     },
     "execution_count": 49,
     "metadata": {},
     "output_type": "execute_result"
    }
   ],
   "source": [
    "# Display first few rows of `X_test` with `claim_status` and `author_ban_status` columns dropped (since these features are being transformed to numeric)\n",
    "### YOUR CODE HERE ###\n",
    "X_test.drop(columns=['claim_status', 'author_ban_status']).head()"
   ]
  },
  {
   "cell_type": "code",
   "execution_count": 50,
   "id": "9042a83d",
   "metadata": {
    "execution": {
     "iopub.execute_input": "2025-02-12T04:35:40.692713Z",
     "iopub.status.busy": "2025-02-12T04:35:40.692216Z",
     "iopub.status.idle": "2025-02-12T04:35:40.717371Z",
     "shell.execute_reply": "2025-02-12T04:35:40.715981Z"
    },
    "id": "uLRVCl2yLp_4",
    "papermill": {
     "duration": 0.056925,
     "end_time": "2025-02-12T04:35:40.719633",
     "exception": false,
     "start_time": "2025-02-12T04:35:40.662708",
     "status": "completed"
    },
    "tags": []
   },
   "outputs": [
    {
     "data": {
      "text/html": [
       "<div>\n",
       "<style scoped>\n",
       "    .dataframe tbody tr th:only-of-type {\n",
       "        vertical-align: middle;\n",
       "    }\n",
       "\n",
       "    .dataframe tbody tr th {\n",
       "        vertical-align: top;\n",
       "    }\n",
       "\n",
       "    .dataframe thead th {\n",
       "        text-align: right;\n",
       "    }\n",
       "</style>\n",
       "<table border=\"1\" class=\"dataframe\">\n",
       "  <thead>\n",
       "    <tr style=\"text-align: right;\">\n",
       "      <th></th>\n",
       "      <th>video_duration_sec</th>\n",
       "      <th>video_view_count</th>\n",
       "      <th>video_share_count</th>\n",
       "      <th>video_download_count</th>\n",
       "      <th>video_comment_count</th>\n",
       "      <th>claim_status_opinion</th>\n",
       "      <th>author_ban_status_banned</th>\n",
       "      <th>author_ban_status_under review</th>\n",
       "    </tr>\n",
       "  </thead>\n",
       "  <tbody>\n",
       "    <tr>\n",
       "      <th>0</th>\n",
       "      <td>41</td>\n",
       "      <td>2118.0</td>\n",
       "      <td>57.0</td>\n",
       "      <td>5.0</td>\n",
       "      <td>2.0</td>\n",
       "      <td>1.0</td>\n",
       "      <td>0.0</td>\n",
       "      <td>0.0</td>\n",
       "    </tr>\n",
       "    <tr>\n",
       "      <th>1</th>\n",
       "      <td>27</td>\n",
       "      <td>5701.0</td>\n",
       "      <td>157.0</td>\n",
       "      <td>1.0</td>\n",
       "      <td>0.0</td>\n",
       "      <td>1.0</td>\n",
       "      <td>0.0</td>\n",
       "      <td>0.0</td>\n",
       "    </tr>\n",
       "    <tr>\n",
       "      <th>2</th>\n",
       "      <td>31</td>\n",
       "      <td>449767.0</td>\n",
       "      <td>75385.0</td>\n",
       "      <td>5956.0</td>\n",
       "      <td>1789.0</td>\n",
       "      <td>0.0</td>\n",
       "      <td>0.0</td>\n",
       "      <td>0.0</td>\n",
       "    </tr>\n",
       "    <tr>\n",
       "      <th>3</th>\n",
       "      <td>19</td>\n",
       "      <td>792813.0</td>\n",
       "      <td>56597.0</td>\n",
       "      <td>5146.0</td>\n",
       "      <td>3413.0</td>\n",
       "      <td>0.0</td>\n",
       "      <td>0.0</td>\n",
       "      <td>0.0</td>\n",
       "    </tr>\n",
       "    <tr>\n",
       "      <th>4</th>\n",
       "      <td>54</td>\n",
       "      <td>2044.0</td>\n",
       "      <td>68.0</td>\n",
       "      <td>19.0</td>\n",
       "      <td>2.0</td>\n",
       "      <td>1.0</td>\n",
       "      <td>0.0</td>\n",
       "      <td>0.0</td>\n",
       "    </tr>\n",
       "  </tbody>\n",
       "</table>\n",
       "</div>"
      ],
      "text/plain": [
       "   video_duration_sec  video_view_count  video_share_count  \\\n",
       "0                  41            2118.0               57.0   \n",
       "1                  27            5701.0              157.0   \n",
       "2                  31          449767.0            75385.0   \n",
       "3                  19          792813.0            56597.0   \n",
       "4                  54            2044.0               68.0   \n",
       "\n",
       "   video_download_count  video_comment_count  claim_status_opinion  \\\n",
       "0                   5.0                  2.0                   1.0   \n",
       "1                   1.0                  0.0                   1.0   \n",
       "2                5956.0               1789.0                   0.0   \n",
       "3                5146.0               3413.0                   0.0   \n",
       "4                  19.0                  2.0                   1.0   \n",
       "\n",
       "   author_ban_status_banned  author_ban_status_under review  \n",
       "0                       0.0                             0.0  \n",
       "1                       0.0                             0.0  \n",
       "2                       0.0                             0.0  \n",
       "3                       0.0                             0.0  \n",
       "4                       0.0                             0.0  "
      ]
     },
     "execution_count": 50,
     "metadata": {},
     "output_type": "execute_result"
    }
   ],
   "source": [
    "# Concatenate `X_test` and `X_test_encoded_df` to form the final dataframe for training data (`X_test_final`)\n",
    "# Note: Using `.reset_index(drop=True)` to reset the index in X_test after dropping `claim_status`, and `author_ban_status`,\n",
    "# so that the indices align with those in `X_test_encoded_df` and `test_count_df`\n",
    "### YOUR CODE HERE ###\n",
    "X_test_final = pd.concat([X_test.drop(columns=[\"claim_status\", \"author_ban_status\"]).reset_index(drop=True), X_test_encoded_df], axis=1)\n",
    "\n",
    "# Display first few rows\n",
    "### YOUR CODE HERE ###\n",
    "X_test_final.head()"
   ]
  },
  {
   "cell_type": "markdown",
   "id": "9081c95f",
   "metadata": {
    "id": "gM9egturW1eX",
    "papermill": {
     "duration": 0.030636,
     "end_time": "2025-02-12T04:35:40.780630",
     "exception": false,
     "start_time": "2025-02-12T04:35:40.749994",
     "status": "completed"
    },
    "tags": []
   },
   "source": [
    "Test the logistic regression model. Use the model to make predictions on the encoded testing set."
   ]
  },
  {
   "cell_type": "code",
   "execution_count": 51,
   "id": "2d2daa3d",
   "metadata": {
    "execution": {
     "iopub.execute_input": "2025-02-12T04:35:40.840963Z",
     "iopub.status.busy": "2025-02-12T04:35:40.840422Z",
     "iopub.status.idle": "2025-02-12T04:35:40.848435Z",
     "shell.execute_reply": "2025-02-12T04:35:40.847333Z"
    },
    "id": "NZQbthy93bWM",
    "papermill": {
     "duration": 0.040366,
     "end_time": "2025-02-12T04:35:40.850167",
     "exception": false,
     "start_time": "2025-02-12T04:35:40.809801",
     "status": "completed"
    },
    "tags": []
   },
   "outputs": [],
   "source": [
    "# Use the logistic regression model to get predictions on the encoded testing set\n",
    "### YOUR CODE HERE ###\n",
    "y_pred = logreg_clf.predict(X_test_final)"
   ]
  },
  {
   "cell_type": "markdown",
   "id": "1804257b",
   "metadata": {
    "id": "HNjDzuqmYU0G",
    "papermill": {
     "duration": 0.025954,
     "end_time": "2025-02-12T04:35:40.906726",
     "exception": false,
     "start_time": "2025-02-12T04:35:40.880772",
     "status": "completed"
    },
    "tags": []
   },
   "source": [
    "Display the predictions on the encoded testing set."
   ]
  },
  {
   "cell_type": "code",
   "execution_count": 52,
   "id": "821a6987",
   "metadata": {
    "execution": {
     "iopub.execute_input": "2025-02-12T04:35:40.962171Z",
     "iopub.status.busy": "2025-02-12T04:35:40.961737Z",
     "iopub.status.idle": "2025-02-12T04:35:40.968332Z",
     "shell.execute_reply": "2025-02-12T04:35:40.967313Z"
    },
    "id": "tyKjLA_gYUYZ",
    "papermill": {
     "duration": 0.036706,
     "end_time": "2025-02-12T04:35:40.969992",
     "exception": false,
     "start_time": "2025-02-12T04:35:40.933286",
     "status": "completed"
    },
    "tags": []
   },
   "outputs": [
    {
     "data": {
      "text/plain": [
       "array([1., 1., 0., ..., 1., 0., 1.])"
      ]
     },
     "execution_count": 52,
     "metadata": {},
     "output_type": "execute_result"
    }
   ],
   "source": [
    "# Display the predictions on the encoded testing set\n",
    "### YOUR CODE HERE ###\n",
    "y_pred"
   ]
  },
  {
   "cell_type": "markdown",
   "id": "467b95b5",
   "metadata": {
    "id": "iXDp4m9dYlN3",
    "papermill": {
     "duration": 0.026828,
     "end_time": "2025-02-12T04:35:41.024738",
     "exception": false,
     "start_time": "2025-02-12T04:35:40.997910",
     "status": "completed"
    },
    "tags": []
   },
   "source": [
    "Display the true labels of the testing set."
   ]
  },
  {
   "cell_type": "code",
   "execution_count": 53,
   "id": "c3735a43",
   "metadata": {
    "execution": {
     "iopub.execute_input": "2025-02-12T04:35:41.080099Z",
     "iopub.status.busy": "2025-02-12T04:35:41.079775Z",
     "iopub.status.idle": "2025-02-12T04:35:41.087024Z",
     "shell.execute_reply": "2025-02-12T04:35:41.085920Z"
    },
    "id": "JymZrHVDYdvu",
    "papermill": {
     "duration": 0.037334,
     "end_time": "2025-02-12T04:35:41.088786",
     "exception": false,
     "start_time": "2025-02-12T04:35:41.051452",
     "status": "completed"
    },
    "tags": []
   },
   "outputs": [
    {
     "data": {
      "text/plain": [
       "21061        verified\n",
       "31748        verified\n",
       "20197        verified\n",
       "5727     not verified\n",
       "11607    not verified\n",
       "             ...     \n",
       "14756    not verified\n",
       "26564        verified\n",
       "14800    not verified\n",
       "35705        verified\n",
       "31060        verified\n",
       "Name: verified_status, Length: 8942, dtype: object"
      ]
     },
     "execution_count": 53,
     "metadata": {},
     "output_type": "execute_result"
    }
   ],
   "source": [
    "# Display the true labels of the testing set\n",
    "### YOUR CODE HERE ###\n",
    "y_test"
   ]
  },
  {
   "cell_type": "markdown",
   "id": "3dac8980",
   "metadata": {
    "id": "WM-HHIInem3Z",
    "papermill": {
     "duration": 0.02691,
     "end_time": "2025-02-12T04:35:41.142804",
     "exception": false,
     "start_time": "2025-02-12T04:35:41.115894",
     "status": "completed"
    },
    "tags": []
   },
   "source": [
    "Encode the true labels of the testing set so it can be compared to the predictions."
   ]
  },
  {
   "cell_type": "code",
   "execution_count": 54,
   "id": "48b11a88",
   "metadata": {
    "execution": {
     "iopub.execute_input": "2025-02-12T04:35:41.197834Z",
     "iopub.status.busy": "2025-02-12T04:35:41.197420Z",
     "iopub.status.idle": "2025-02-12T04:35:41.207752Z",
     "shell.execute_reply": "2025-02-12T04:35:41.206604Z"
    },
    "id": "KNnYVZnjfJfz",
    "papermill": {
     "duration": 0.039391,
     "end_time": "2025-02-12T04:35:41.209071",
     "exception": false,
     "start_time": "2025-02-12T04:35:41.169680",
     "status": "completed"
    },
    "tags": []
   },
   "outputs": [
    {
     "data": {
      "text/plain": [
       "array([1., 1., 1., ..., 0., 1., 1.])"
      ]
     },
     "execution_count": 54,
     "metadata": {},
     "output_type": "execute_result"
    }
   ],
   "source": [
    "# Encode the testing outcome variable\n",
    "# Notes:\n",
    "#   - Adjusting the shape of `y_test` before passing into `.transform()`, since it takes in 2D array\n",
    "#   - Using `.ravel()` to flatten the array returned by `.transform()`, so that it can be used later to compare with predictions\n",
    "### YOUR CODE HERE ###\n",
    "\n",
    "# performing the same ops as y_train\n",
    "y_test_final = y_encoder.transform(y_test.values.reshape(-1, 1)).ravel()\n",
    "\n",
    "# Display the encoded testing outcome variable\n",
    "y_test_final"
   ]
  },
  {
   "cell_type": "markdown",
   "id": "e3aabd3f",
   "metadata": {
    "id": "IzdbI4A4mmHA",
    "papermill": {
     "duration": 0.027557,
     "end_time": "2025-02-12T04:35:41.263956",
     "exception": false,
     "start_time": "2025-02-12T04:35:41.236399",
     "status": "completed"
    },
    "tags": []
   },
   "source": [
    "Confirm again that the dimensions of the training and testing sets are in alignment since additional features were added."
   ]
  },
  {
   "cell_type": "code",
   "execution_count": 55,
   "id": "d250974b",
   "metadata": {
    "execution": {
     "iopub.execute_input": "2025-02-12T04:35:41.323082Z",
     "iopub.status.busy": "2025-02-12T04:35:41.322766Z",
     "iopub.status.idle": "2025-02-12T04:35:41.328609Z",
     "shell.execute_reply": "2025-02-12T04:35:41.327574Z"
    },
    "id": "WbbI5cSfmmHA",
    "papermill": {
     "duration": 0.038018,
     "end_time": "2025-02-12T04:35:41.330194",
     "exception": false,
     "start_time": "2025-02-12T04:35:41.292176",
     "status": "completed"
    },
    "tags": []
   },
   "outputs": [
    {
     "data": {
      "text/plain": [
       "((26826, 8), (26826,), (8942, 8), (8942,))"
      ]
     },
     "execution_count": 55,
     "metadata": {},
     "output_type": "execute_result"
    }
   ],
   "source": [
    "# Get shape of each training and testing set\n",
    "### YOUR CODE HERE ###\n",
    "X_train_final.shape, y_train_final.shape, X_test_final.shape, y_test_final.shape"
   ]
  },
  {
   "cell_type": "markdown",
   "id": "3b11c88d",
   "metadata": {
    "id": "IMQltTaQFnwv",
    "papermill": {
     "duration": 0.026424,
     "end_time": "2025-02-12T04:35:41.383697",
     "exception": false,
     "start_time": "2025-02-12T04:35:41.357273",
     "status": "completed"
    },
    "tags": []
   },
   "source": [
    "### **Task 4b. Visualize model results**"
   ]
  },
  {
   "cell_type": "markdown",
   "id": "4024fc6e",
   "metadata": {
    "id": "VVMG0ubSXQvS",
    "papermill": {
     "duration": 0.026915,
     "end_time": "2025-02-12T04:35:41.438064",
     "exception": false,
     "start_time": "2025-02-12T04:35:41.411149",
     "status": "completed"
    },
    "tags": []
   },
   "source": [
    "Create a confusion matrix to visualize the results of the logistic regression model."
   ]
  },
  {
   "cell_type": "code",
   "execution_count": 56,
   "id": "05dbe2ab",
   "metadata": {
    "execution": {
     "iopub.execute_input": "2025-02-12T04:35:41.493728Z",
     "iopub.status.busy": "2025-02-12T04:35:41.493309Z",
     "iopub.status.idle": "2025-02-12T04:35:41.700725Z",
     "shell.execute_reply": "2025-02-12T04:35:41.699615Z"
    },
    "id": "ZPgiHdlyZCTf",
    "papermill": {
     "duration": 0.237008,
     "end_time": "2025-02-12T04:35:41.702356",
     "exception": false,
     "start_time": "2025-02-12T04:35:41.465348",
     "status": "completed"
    },
    "tags": []
   },
   "outputs": [
    {
     "data": {
      "image/png": "[encoded data removed]",
      "text/plain": [
       "<Figure size 640x480 with 2 Axes>"
      ]
     },
     "metadata": {},
     "output_type": "display_data"
    }
   ],
   "source": [
    "# Compute values for confusion matrix\n",
    "### YOUR CODE HERE ###\n",
    "log_cm = confusion_matrix(y_test_final, y_pred, labels=logreg_clf.classes_)\n",
    "\n",
    "# Create display of confusion matrix\n",
    "### YOUR CODE HERE ###\n",
    "log_disp = ConfusionMatrixDisplay(confusion_matrix=log_cm, display_labels=logreg_clf.classes_)\n",
    "\n",
    "# Plot confusion matrix\n",
    "### YOUR CODE HERE ###\n",
    "log_disp.plot()\n",
    "\n",
    "# Display plot\n",
    "### YOUR CODE HERE ###\n",
    "plt.show()"
   ]
  },
  {
   "cell_type": "code",
   "execution_count": 57,
   "id": "1c8fd47d",
   "metadata": {
    "execution": {
     "iopub.execute_input": "2025-02-12T04:35:41.759454Z",
     "iopub.status.busy": "2025-02-12T04:35:41.759101Z",
     "iopub.status.idle": "2025-02-12T04:35:41.764520Z",
     "shell.execute_reply": "2025-02-12T04:35:41.763533Z"
    },
    "papermill": {
     "duration": 0.035504,
     "end_time": "2025-02-12T04:35:41.766235",
     "exception": false,
     "start_time": "2025-02-12T04:35:41.730731",
     "status": "completed"
    },
    "tags": []
   },
   "outputs": [
    {
     "name": "stdout",
     "output_type": "stream",
     "text": [
      "Accuracy of the logreg clf = 0.6480653097740997\n"
     ]
    }
   ],
   "source": [
    "# accuracy (TP + TN)/(TP+TN+FP+FN)\n",
    "print('Accuracy of the logreg clf =', (log_cm[0,0] + log_cm[1,1])/ log_cm.sum())"
   ]
  },
  {
   "cell_type": "markdown",
   "id": "5646c75e",
   "metadata": {
    "id": "I6OmnATfbtNd",
    "papermill": {
     "duration": 0.027255,
     "end_time": "2025-02-12T04:35:41.822522",
     "exception": false,
     "start_time": "2025-02-12T04:35:41.795267",
     "status": "completed"
    },
    "tags": []
   },
   "source": [
    "Create a classification report that includes precision, recall, f1-score, and accuracy metrics to evaluate the performance of the logistic regression model."
   ]
  },
  {
   "cell_type": "code",
   "execution_count": 58,
   "id": "9ef26d4a",
   "metadata": {
    "execution": {
     "iopub.execute_input": "2025-02-12T04:35:41.879683Z",
     "iopub.status.busy": "2025-02-12T04:35:41.879303Z",
     "iopub.status.idle": "2025-02-12T04:35:41.913671Z",
     "shell.execute_reply": "2025-02-12T04:35:41.912390Z"
    },
    "id": "AMxCzRa-bnUe",
    "papermill": {
     "duration": 0.06502,
     "end_time": "2025-02-12T04:35:41.915395",
     "exception": false,
     "start_time": "2025-02-12T04:35:41.850375",
     "status": "completed"
    },
    "tags": []
   },
   "outputs": [
    {
     "name": "stdout",
     "output_type": "stream",
     "text": [
      "              precision    recall  f1-score   support\n",
      "\n",
      "    verified       0.74      0.45      0.56      4459\n",
      "not verified       0.61      0.84      0.71      4483\n",
      "\n",
      "    accuracy                           0.65      8942\n",
      "   macro avg       0.67      0.65      0.63      8942\n",
      "weighted avg       0.67      0.65      0.63      8942\n",
      "\n"
     ]
    }
   ],
   "source": [
    "# Create a classification report\n",
    "### YOUR CODE HERE ###\n",
    "target_labels = ['verified', 'not verified']\n",
    "print(classification_report(y_test_final, y_pred, target_names=target_labels))"
   ]
  },
  {
   "cell_type": "markdown",
   "id": "f018aff1",
   "metadata": {
    "id": "IFY_y19EKQoO",
    "papermill": {
     "duration": 0.027545,
     "end_time": "2025-02-12T04:35:41.970807",
     "exception": false,
     "start_time": "2025-02-12T04:35:41.943262",
     "status": "completed"
    },
    "tags": []
   },
   "source": [
    "### **Task 4c. Interpret model coefficients**"
   ]
  },
  {
   "cell_type": "code",
   "execution_count": 59,
   "id": "d94e9736",
   "metadata": {
    "execution": {
     "iopub.execute_input": "2025-02-12T04:35:42.028937Z",
     "iopub.status.busy": "2025-02-12T04:35:42.028557Z",
     "iopub.status.idle": "2025-02-12T04:35:42.038515Z",
     "shell.execute_reply": "2025-02-12T04:35:42.037462Z"
    },
    "id": "6TmRk8tz4JpG",
    "papermill": {
     "duration": 0.040758,
     "end_time": "2025-02-12T04:35:42.040048",
     "exception": false,
     "start_time": "2025-02-12T04:35:41.999290",
     "status": "completed"
    },
    "tags": []
   },
   "outputs": [
    {
     "data": {
      "text/html": [
       "<div>\n",
       "<style scoped>\n",
       "    .dataframe tbody tr th:only-of-type {\n",
       "        vertical-align: middle;\n",
       "    }\n",
       "\n",
       "    .dataframe tbody tr th {\n",
       "        vertical-align: top;\n",
       "    }\n",
       "\n",
       "    .dataframe thead th {\n",
       "        text-align: right;\n",
       "    }\n",
       "</style>\n",
       "<table border=\"1\" class=\"dataframe\">\n",
       "  <thead>\n",
       "    <tr style=\"text-align: right;\">\n",
       "      <th></th>\n",
       "      <th>Feature Name</th>\n",
       "      <th>Model Coefficient</th>\n",
       "    </tr>\n",
       "  </thead>\n",
       "  <tbody>\n",
       "    <tr>\n",
       "      <th>0</th>\n",
       "      <td>video_duration_sec</td>\n",
       "      <td>8.493546e-03</td>\n",
       "    </tr>\n",
       "    <tr>\n",
       "      <th>1</th>\n",
       "      <td>video_view_count</td>\n",
       "      <td>-2.277453e-06</td>\n",
       "    </tr>\n",
       "    <tr>\n",
       "      <th>2</th>\n",
       "      <td>video_share_count</td>\n",
       "      <td>5.458611e-06</td>\n",
       "    </tr>\n",
       "    <tr>\n",
       "      <th>3</th>\n",
       "      <td>video_download_count</td>\n",
       "      <td>-2.143023e-04</td>\n",
       "    </tr>\n",
       "    <tr>\n",
       "      <th>4</th>\n",
       "      <td>video_comment_count</td>\n",
       "      <td>3.899371e-04</td>\n",
       "    </tr>\n",
       "    <tr>\n",
       "      <th>5</th>\n",
       "      <td>claim_status_opinion</td>\n",
       "      <td>3.772015e-04</td>\n",
       "    </tr>\n",
       "    <tr>\n",
       "      <th>6</th>\n",
       "      <td>author_ban_status_banned</td>\n",
       "      <td>-1.675961e-05</td>\n",
       "    </tr>\n",
       "    <tr>\n",
       "      <th>7</th>\n",
       "      <td>author_ban_status_under review</td>\n",
       "      <td>-7.084767e-07</td>\n",
       "    </tr>\n",
       "  </tbody>\n",
       "</table>\n",
       "</div>"
      ],
      "text/plain": [
       "                     Feature Name  Model Coefficient\n",
       "0              video_duration_sec       8.493546e-03\n",
       "1                video_view_count      -2.277453e-06\n",
       "2               video_share_count       5.458611e-06\n",
       "3            video_download_count      -2.143023e-04\n",
       "4             video_comment_count       3.899371e-04\n",
       "5            claim_status_opinion       3.772015e-04\n",
       "6        author_ban_status_banned      -1.675961e-05\n",
       "7  author_ban_status_under review      -7.084767e-07"
      ]
     },
     "execution_count": 59,
     "metadata": {},
     "output_type": "execute_result"
    }
   ],
   "source": [
    "# Get the feature names from the model and the model coefficients (which represent log-odds ratios)\n",
    "# Place into a DataFrame for readability\n",
    "### YOUR CODE HERE ###\n",
    "pd.DataFrame(data={'Feature Name':logreg_clf.feature_names_in_, 'Model Coefficient':logreg_clf.coef_[0]})"
   ]
  },
  {
   "cell_type": "markdown",
   "id": "3aa831f0",
   "metadata": {
    "id": "P6AlDDyhdzmG",
    "papermill": {
     "duration": 0.027508,
     "end_time": "2025-02-12T04:35:42.095695",
     "exception": false,
     "start_time": "2025-02-12T04:35:42.068187",
     "status": "completed"
    },
    "tags": []
   },
   "source": [
    "### **Task 4d. Conclusion**\n",
    "\n",
    "1. What are the key takeaways from this project?\n",
    "\n",
    "2. What results can be presented from this project?"
   ]
  },
  {
   "cell_type": "markdown",
   "id": "e8c38925",
   "metadata": {
    "id": "BzqJ13WAnt4R",
    "papermill": {
     "duration": 0.028052,
     "end_time": "2025-02-12T04:35:42.152313",
     "exception": false,
     "start_time": "2025-02-12T04:35:42.124261",
     "status": "completed"
    },
    "tags": []
   },
   "source": [
    "1)\n",
    "* end-to-end data cleaning to model evaluation of a logistic regression classifier\n",
    "* how to prepare the data before fitting and predicting results\n",
    "* how to interpret model evaluation metrics\n",
    "\n",
    "2)\n",
    "* the logistic regression model that is used to predict 'verified' or 'not verified' status based on other independent variables resulted in a model that is only 64.81% accurate\n",
    "* The positive predictive power of 'not verified' status is only 61% but\n",
    "* the Recall is quite good at 84%  for the 'not verified' status\n",
    "* Of the independent variables used, video_duration_sec impacted the most. we can convert it into video duration in minutes for better understanding\n",
    "* --> **for every 1 \"minute\" increase in video duration, we can expect odds of the user being 'not verified' increase by 67.5% (1.675 = exp(0.516) = exp(60 * 0.0086))** \n",
    "* need to consult with SMEs to find out which of the metrics matter the most for the decisions to be made later on\n",
    "* lots of improvements are yet to be made through data transmformations or feature engineering or by using different classification models or by taking into account other data"
   ]
  },
  {
   "cell_type": "markdown",
   "id": "27d19e46",
   "metadata": {
    "papermill": {
     "duration": 0.029195,
     "end_time": "2025-02-12T04:35:42.209240",
     "exception": false,
     "start_time": "2025-02-12T04:35:42.180045",
     "status": "completed"
    },
    "tags": []
   },
   "source": [
    "**Congratulations!** You've completed this lab. However, you may not notice a green check mark next to this item on Coursera's platform. Please continue your progress regardless of the check mark. Just click on the \"save\" icon at the top of this notebook to ensure your work has been logged. "
   ]
  }
 ],
 "metadata": {
  "colab": {
   "provenance": []
  },
  "kaggle": {
   "accelerator": "none",
   "dataSources": [
    {
     "datasetId": 6605782,
     "sourceId": 10666327,
     "sourceType": "datasetVersion"
    }
   ],
   "dockerImageVersionId": 30886,
   "isGpuEnabled": false,
   "isInternetEnabled": true,
   "language": "python",
   "sourceType": "notebook"
  },
  "kernelspec": {
   "display_name": "Python 3",
   "language": "python",
   "name": "python3"
  },
  "language_info": {
   "codemirror_mode": {
    "name": "ipython",
    "version": 3
   },
   "file_extension": ".py",
   "mimetype": "text/x-python",
   "name": "python",
   "nbconvert_exporter": "python",
   "pygments_lexer": "ipython3",
   "version": "3.10.12"
  },
  "papermill": {
   "default_parameters": {},
   "duration": 15.737123,
   "end_time": "2025-02-12T04:35:43.058829",
   "environment_variables": {},
   "exception": null,
   "input_path": "__notebook__.ipynb",
   "output_path": "__notebook__.ipynb",
   "parameters": {},
   "start_time": "2025-02-12T04:35:27.321706",
   "version": "2.6.0"
  }
 },
 "nbformat": 4,
 "nbformat_minor": 5
}
