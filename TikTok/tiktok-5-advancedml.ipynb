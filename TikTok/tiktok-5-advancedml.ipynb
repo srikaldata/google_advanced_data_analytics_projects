{
 "cells": [
  {
   "cell_type": "markdown",
   "id": "66b12531",
   "metadata": {
    "id": "DtNBZFHO3M7n",
    "papermill": {
     "duration": 0.015092,
     "end_time": "2025-02-16T03:37:25.909283",
     "exception": false,
     "start_time": "2025-02-16T03:37:25.894191",
     "status": "completed"
    },
    "tags": []
   },
   "source": [
    "# **TikTok Project**\n",
    "**Course 6 - The Nuts and bolts of machine learning**"
   ]
  },
  {
   "cell_type": "markdown",
   "id": "f8b9d233",
   "metadata": {
    "id": "9ttxbfHXzB4e",
    "papermill": {
     "duration": 0.012887,
     "end_time": "2025-02-16T03:37:25.935605",
     "exception": false,
     "start_time": "2025-02-16T03:37:25.922718",
     "status": "completed"
    },
    "tags": []
   },
   "source": [
    "Recall that you are a data professional at TikTok. Your supervisor was impressed with the work you have done and has requested that you build a machine learning model that can be used to determine whether a video contains a claim or whether it offers an opinion. With a successful prediction model, TikTok can reduce the backlog of user reports and prioritize them more efficiently.\n",
    "\n",
    "A notebook was structured and prepared to help you in this project. A notebook was structured and prepared to help you in this project. Please complete the following questions."
   ]
  },
  {
   "cell_type": "markdown",
   "id": "2b40e55f",
   "metadata": {
    "id": "rgSbVJvomcVa",
    "papermill": {
     "duration": 0.014352,
     "end_time": "2025-02-16T03:37:25.963626",
     "exception": false,
     "start_time": "2025-02-16T03:37:25.949274",
     "status": "completed"
    },
    "tags": []
   },
   "source": [
    "# **Course 6 End-of-course project: Classifying videos using machine learning**\n",
    "\n",
    "In this activity, you will practice using machine learning techniques to predict on a binary outcome variable.\n",
    "<br/>\n",
    "\n",
    "**The purpose** of this model is to increase response time and system efficiency by automating the initial stages of the claims process.\n",
    "\n",
    "**The goal** of this model is to predict whether a TikTok video presents a \"claim\" or presents an \"opinion\".\n",
    "<br/>\n",
    "\n",
    "*This activity has three parts:*\n",
    "\n",
    "**Part 1:** Ethical considerations\n",
    "* Consider the ethical implications of the request\n",
    "\n",
    "* Should the objective of the model be adjusted?\n",
    "\n",
    "**Part 2:** Feature engineering\n",
    "\n",
    "* Perform feature selection, extraction, and transformation to prepare the data for modeling\n",
    "\n",
    "**Part 3:** Modeling\n",
    "\n",
    "* Build the models, evaluate them, and advise on next steps\n",
    "\n",
    "Follow the instructions and answer the questions below to complete the activity. Then, you will complete an Executive Summary using the questions listed on the PACE Strategy Document.\n",
    "\n",
    "Be sure to complete this activity before moving on. The next course item will provide you with a completed exemplar to compare to your own work.\n",
    "\n"
   ]
  },
  {
   "cell_type": "markdown",
   "id": "37a2d406",
   "metadata": {
    "id": "Uj7uL90rosR4",
    "papermill": {
     "duration": 0.01305,
     "end_time": "2025-02-16T03:37:25.990114",
     "exception": false,
     "start_time": "2025-02-16T03:37:25.977064",
     "status": "completed"
    },
    "tags": []
   },
   "source": [
    "# **Classify videos using machine learning**"
   ]
  },
  {
   "cell_type": "markdown",
   "id": "c8e8f68c",
   "metadata": {
    "id": "NzDjfCSLf6Jq",
    "papermill": {
     "duration": 0.013194,
     "end_time": "2025-02-16T03:37:26.016740",
     "exception": false,
     "start_time": "2025-02-16T03:37:26.003546",
     "status": "completed"
    },
    "tags": []
   },
   "source": [
    "<img src=\"images/Pace.png\" width=\"100\" height=\"100\" align=left>\n",
    "\n",
    "# **PACE stages**\n"
   ]
  },
  {
   "cell_type": "markdown",
   "id": "b1d42edd",
   "metadata": {
    "id": "-svprBfKpAKf",
    "papermill": {
     "duration": 0.013331,
     "end_time": "2025-02-16T03:37:26.043905",
     "exception": false,
     "start_time": "2025-02-16T03:37:26.030574",
     "status": "completed"
    },
    "tags": []
   },
   "source": [
    "Throughout these project notebooks, you'll see references to the problem-solving framework PACE. The following notebook components are labeled with the respective PACE stage: Plan, Analyze, Construct, and Execute."
   ]
  },
  {
   "cell_type": "markdown",
   "id": "8a036a0a",
   "metadata": {
    "id": "E5g1A74r0ow_",
    "papermill": {
     "duration": 0.012831,
     "end_time": "2025-02-16T03:37:26.069898",
     "exception": false,
     "start_time": "2025-02-16T03:37:26.057067",
     "status": "completed"
    },
    "tags": []
   },
   "source": [
    "<img src=\"images/Plan.png\" width=\"100\" height=\"100\" align=left>\n",
    "\n",
    "\n",
    "## **PACE: Plan**\n",
    "\n",
    "Consider the questions in your PACE Strategy Document to reflect on the Plan stage.\n",
    "\n",
    "In this stage, consider the following questions:\n",
    "\n",
    "\n",
    "1.   **What are you being asked to do? What metric should I use to evaluate success of my business/organizational objective?**\n",
    "\n",
    "2.   **What are the ethical implications of the model? What are the consequences of your model making errors?**\n",
    "  *   What is the likely effect of the model when it predicts a false negative (i.e., when the model says a video does not contain a claim and it actually does)?\n",
    "\n",
    "  *   What is the likely effect of the model when it predicts a false positive (i.e., when the model says a video does contain a claim and it actually does not)?\n",
    "\n",
    "3.   **How would you proceed?**\n"
   ]
  },
  {
   "cell_type": "markdown",
   "id": "d68fb69e",
   "metadata": {
    "id": "JX669CyACLtt",
    "papermill": {
     "duration": 0.012925,
     "end_time": "2025-02-16T03:37:26.095926",
     "exception": false,
     "start_time": "2025-02-16T03:37:26.083001",
     "status": "completed"
    },
    "tags": []
   },
   "source": [
    "1)\n",
    "* TikTok videos when reported have to be reviewed if the claim is valid (it is a violation) or if it is only an opinion (not a violation)\n",
    "* since, there are many such videos reported, TikTok needs a classification system that processes the claim and indicate it to the moderator who reviews it\n",
    "* this system can be used to prioritize the claims and can be helpful to moderators to immediately focus and decide on the most important videos in quick time\n",
    "\n",
    "2)\n",
    "* False positives --> unknowingly classifying a video, which is 'actually an opinion', as a claim\n",
    "* False negatives --> unknowingly letting go of a video, which is 'actually a claim', and misclassifying it as an opinion\n",
    "* Ethical implications --> If a video which is indeed a claim, if let go, it has severe consequences, than an opinion being classified as a claim. This is the usual model in many other social media sites. Thus, the cost of False Negatives outweigh the False Positives. If, the higher management gives more weightage on NOT letting an innocent video (opinion) being punished than an actual violating video let go, we need to consider otherwise.\n",
    "* the reasoning from the above point, where the FNs are much more costlier than FPs, we can choose Recall to be more important than FPR or even precision\n",
    "\n",
    "\n",
    "3)\n",
    "* EDA\n",
    "* data cleaning and validation (handling nulls, errors, outliers, data types)\n",
    "* prepare the data for classification (encoding cat variables, separate train/test/validation sets)\n",
    "* fit the model using the preferred model\n",
    "* choose the best hyperparameters (champion model) using cross-validation\n",
    "* evaluate the model on the test set and report the findings\n",
    "\n"
   ]
  },
  {
   "cell_type": "markdown",
   "id": "f7a1b0ee",
   "metadata": {
    "papermill": {
     "duration": 0.012991,
     "end_time": "2025-02-16T03:37:26.122588",
     "exception": false,
     "start_time": "2025-02-16T03:37:26.109597",
     "status": "completed"
    },
    "tags": []
   },
   "source": [
    "**Modeling workflow and model selection process**\n",
    "\n",
    "Previous work with this data has revealed that there are ~20,000 videos in the sample. This is sufficient to conduct a rigorous model validation workflow, broken into the following steps:\n",
    "\n",
    "1. Split the data into train/validation/test sets (60/20/20)\n",
    "2. Fit models and tune hyperparameters on the training set\n",
    "3. Perform final model selection on the validation set\n",
    "4. Assess the champion model's performance on the test set\n",
    "\n",
    "![](https://raw.githubusercontent.com/adacert/tiktok/main/optimal_model_flow_numbered.svg)\n"
   ]
  },
  {
   "cell_type": "markdown",
   "id": "5b28d66e",
   "metadata": {
    "id": "e8Vm3QEfGELS",
    "papermill": {
     "duration": 0.012814,
     "end_time": "2025-02-16T03:37:26.148633",
     "exception": false,
     "start_time": "2025-02-16T03:37:26.135819",
     "status": "completed"
    },
    "tags": []
   },
   "source": [
    "### **Task 1. Imports and data loading**\n",
    "\n",
    "Start by importing packages needed to build machine learning models to achieve the goal of this project."
   ]
  },
  {
   "cell_type": "code",
   "execution_count": 1,
   "id": "71c27b94",
   "metadata": {
    "execution": {
     "iopub.execute_input": "2025-02-16T03:37:26.176340Z",
     "iopub.status.busy": "2025-02-16T03:37:26.175941Z",
     "iopub.status.idle": "2025-02-16T03:37:30.168242Z",
     "shell.execute_reply": "2025-02-16T03:37:30.166747Z"
    },
    "id": "tCni9wAGphb0",
    "papermill": {
     "duration": 4.008624,
     "end_time": "2025-02-16T03:37:30.170390",
     "exception": false,
     "start_time": "2025-02-16T03:37:26.161766",
     "status": "completed"
    },
    "tags": []
   },
   "outputs": [],
   "source": [
    "# Import packages for data manipulation\n",
    "### YOUR CODE HERE ###\n",
    "import pandas as pd\n",
    "import numpy as np\n",
    "\n",
    "# Import packages for data visualization\n",
    "### YOUR CODE HERE ###\n",
    "import matplotlib.pyplot as plt\n",
    "import seaborn as sns\n",
    "\n",
    "# Import packages for data preprocessing\n",
    "### YOUR CODE HERE ###\n",
    "from sklearn.model_selection import train_test_split, GridSearchCV\n",
    "\n",
    "# Import packages for data modeling\n",
    "### YOUR CODE HERE ###\n",
    "from sklearn.metrics import classification_report, accuracy_score, precision_score, recall_score, f1_score, confusion_matrix, ConfusionMatrixDisplay\n",
    "from sklearn.ensemble import RandomForestClassifier\n",
    "from xgboost import XGBClassifier\n",
    "from xgboost import plot_importance"
   ]
  },
  {
   "cell_type": "markdown",
   "id": "54000a05",
   "metadata": {
    "id": "IeXTZ2tdbALL",
    "papermill": {
     "duration": 0.013114,
     "end_time": "2025-02-16T03:37:30.197793",
     "exception": false,
     "start_time": "2025-02-16T03:37:30.184679",
     "status": "completed"
    },
    "tags": []
   },
   "source": [
    "Now load the data from the provided csv file into a dataframe.\n",
    "\n",
    "**Note:** As shown in this cell, the dataset has been automatically loaded in for you. You do not need to download the .csv file, or provide more code, in order to access the dataset and proceed with this lab. Please continue with this activity by completing the following instructions."
   ]
  },
  {
   "cell_type": "code",
   "execution_count": 2,
   "id": "5042d5dd",
   "metadata": {
    "execution": {
     "iopub.execute_input": "2025-02-16T03:37:30.226192Z",
     "iopub.status.busy": "2025-02-16T03:37:30.225649Z",
     "iopub.status.idle": "2025-02-16T03:37:30.374122Z",
     "shell.execute_reply": "2025-02-16T03:37:30.373066Z"
    },
    "id": "C9ODhaOppqlw",
    "papermill": {
     "duration": 0.165118,
     "end_time": "2025-02-16T03:37:30.376194",
     "exception": false,
     "start_time": "2025-02-16T03:37:30.211076",
     "status": "completed"
    },
    "tags": []
   },
   "outputs": [],
   "source": [
    "# Load dataset into dataframe\n",
    "data = pd.read_csv('/kaggle/input/tiktok-dataset-1/tiktok_dataset.csv')"
   ]
  },
  {
   "cell_type": "markdown",
   "id": "023a1e5e",
   "metadata": {
    "id": "EgPRBjizg1oo",
    "papermill": {
     "duration": 0.012922,
     "end_time": "2025-02-16T03:37:30.403274",
     "exception": false,
     "start_time": "2025-02-16T03:37:30.390352",
     "status": "completed"
    },
    "tags": []
   },
   "source": [
    "<img src=\"images/Analyze.png\" width=\"100\" height=\"100\" align=left>\n",
    "\n",
    "## **PACE: Analyze**\n",
    "\n",
    "Consider the questions in your PACE Strategy Document to reflect on the Analyze stage."
   ]
  },
  {
   "cell_type": "markdown",
   "id": "ceedb557",
   "metadata": {
    "id": "TYtBhb2zR54G",
    "papermill": {
     "duration": 0.013173,
     "end_time": "2025-02-16T03:37:30.429826",
     "exception": false,
     "start_time": "2025-02-16T03:37:30.416653",
     "status": "completed"
    },
    "tags": []
   },
   "source": [
    "### **Task 2: Examine data, summary info, and descriptive stats**"
   ]
  },
  {
   "cell_type": "markdown",
   "id": "f49a67e9",
   "metadata": {
    "id": "JBHl90JIRuXk",
    "papermill": {
     "duration": 0.012789,
     "end_time": "2025-02-16T03:37:30.456021",
     "exception": false,
     "start_time": "2025-02-16T03:37:30.443232",
     "status": "completed"
    },
    "tags": []
   },
   "source": [
    "Inspect the first five rows of the dataframe."
   ]
  },
  {
   "cell_type": "code",
   "execution_count": 3,
   "id": "f804ce9a",
   "metadata": {
    "execution": {
     "iopub.execute_input": "2025-02-16T03:37:30.484805Z",
     "iopub.status.busy": "2025-02-16T03:37:30.484382Z",
     "iopub.status.idle": "2025-02-16T03:37:30.517970Z",
     "shell.execute_reply": "2025-02-16T03:37:30.516838Z"
    },
    "id": "2rfk95MLp4a_",
    "papermill": {
     "duration": 0.049472,
     "end_time": "2025-02-16T03:37:30.519831",
     "exception": false,
     "start_time": "2025-02-16T03:37:30.470359",
     "status": "completed"
    },
    "tags": []
   },
   "outputs": [
    {
     "data": {
      "text/html": [
       "<div>\n",
       "<style scoped>\n",
       "    .dataframe tbody tr th:only-of-type {\n",
       "        vertical-align: middle;\n",
       "    }\n",
       "\n",
       "    .dataframe tbody tr th {\n",
       "        vertical-align: top;\n",
       "    }\n",
       "\n",
       "    .dataframe thead th {\n",
       "        text-align: right;\n",
       "    }\n",
       "</style>\n",
       "<table border=\"1\" class=\"dataframe\">\n",
       "  <thead>\n",
       "    <tr style=\"text-align: right;\">\n",
       "      <th></th>\n",
       "      <th>#</th>\n",
       "      <th>claim_status</th>\n",
       "      <th>video_id</th>\n",
       "      <th>video_duration_sec</th>\n",
       "      <th>video_transcription_text</th>\n",
       "      <th>verified_status</th>\n",
       "      <th>author_ban_status</th>\n",
       "      <th>video_view_count</th>\n",
       "      <th>video_like_count</th>\n",
       "      <th>video_share_count</th>\n",
       "      <th>video_download_count</th>\n",
       "      <th>video_comment_count</th>\n",
       "    </tr>\n",
       "  </thead>\n",
       "  <tbody>\n",
       "    <tr>\n",
       "      <th>0</th>\n",
       "      <td>1</td>\n",
       "      <td>claim</td>\n",
       "      <td>7017666017</td>\n",
       "      <td>59</td>\n",
       "      <td>someone shared with me that drone deliveries a...</td>\n",
       "      <td>not verified</td>\n",
       "      <td>under review</td>\n",
       "      <td>343296.0</td>\n",
       "      <td>19425.0</td>\n",
       "      <td>241.0</td>\n",
       "      <td>1.0</td>\n",
       "      <td>0.0</td>\n",
       "    </tr>\n",
       "    <tr>\n",
       "      <th>1</th>\n",
       "      <td>2</td>\n",
       "      <td>claim</td>\n",
       "      <td>4014381136</td>\n",
       "      <td>32</td>\n",
       "      <td>someone shared with me that there are more mic...</td>\n",
       "      <td>not verified</td>\n",
       "      <td>active</td>\n",
       "      <td>140877.0</td>\n",
       "      <td>77355.0</td>\n",
       "      <td>19034.0</td>\n",
       "      <td>1161.0</td>\n",
       "      <td>684.0</td>\n",
       "    </tr>\n",
       "    <tr>\n",
       "      <th>2</th>\n",
       "      <td>3</td>\n",
       "      <td>claim</td>\n",
       "      <td>9859838091</td>\n",
       "      <td>31</td>\n",
       "      <td>someone shared with me that american industria...</td>\n",
       "      <td>not verified</td>\n",
       "      <td>active</td>\n",
       "      <td>902185.0</td>\n",
       "      <td>97690.0</td>\n",
       "      <td>2858.0</td>\n",
       "      <td>833.0</td>\n",
       "      <td>329.0</td>\n",
       "    </tr>\n",
       "    <tr>\n",
       "      <th>3</th>\n",
       "      <td>4</td>\n",
       "      <td>claim</td>\n",
       "      <td>1866847991</td>\n",
       "      <td>25</td>\n",
       "      <td>someone shared with me that the metro of st. p...</td>\n",
       "      <td>not verified</td>\n",
       "      <td>active</td>\n",
       "      <td>437506.0</td>\n",
       "      <td>239954.0</td>\n",
       "      <td>34812.0</td>\n",
       "      <td>1234.0</td>\n",
       "      <td>584.0</td>\n",
       "    </tr>\n",
       "    <tr>\n",
       "      <th>4</th>\n",
       "      <td>5</td>\n",
       "      <td>claim</td>\n",
       "      <td>7105231098</td>\n",
       "      <td>19</td>\n",
       "      <td>someone shared with me that the number of busi...</td>\n",
       "      <td>not verified</td>\n",
       "      <td>active</td>\n",
       "      <td>56167.0</td>\n",
       "      <td>34987.0</td>\n",
       "      <td>4110.0</td>\n",
       "      <td>547.0</td>\n",
       "      <td>152.0</td>\n",
       "    </tr>\n",
       "  </tbody>\n",
       "</table>\n",
       "</div>"
      ],
      "text/plain": [
       "   # claim_status    video_id  video_duration_sec  \\\n",
       "0  1        claim  7017666017                  59   \n",
       "1  2        claim  4014381136                  32   \n",
       "2  3        claim  9859838091                  31   \n",
       "3  4        claim  1866847991                  25   \n",
       "4  5        claim  7105231098                  19   \n",
       "\n",
       "                            video_transcription_text verified_status  \\\n",
       "0  someone shared with me that drone deliveries a...    not verified   \n",
       "1  someone shared with me that there are more mic...    not verified   \n",
       "2  someone shared with me that american industria...    not verified   \n",
       "3  someone shared with me that the metro of st. p...    not verified   \n",
       "4  someone shared with me that the number of busi...    not verified   \n",
       "\n",
       "  author_ban_status  video_view_count  video_like_count  video_share_count  \\\n",
       "0      under review          343296.0           19425.0              241.0   \n",
       "1            active          140877.0           77355.0            19034.0   \n",
       "2            active          902185.0           97690.0             2858.0   \n",
       "3            active          437506.0          239954.0            34812.0   \n",
       "4            active           56167.0           34987.0             4110.0   \n",
       "\n",
       "   video_download_count  video_comment_count  \n",
       "0                   1.0                  0.0  \n",
       "1                1161.0                684.0  \n",
       "2                 833.0                329.0  \n",
       "3                1234.0                584.0  \n",
       "4                 547.0                152.0  "
      ]
     },
     "execution_count": 3,
     "metadata": {},
     "output_type": "execute_result"
    }
   ],
   "source": [
    "# Display first few rows\n",
    "### YOUR CODE HERE ###\n",
    "data.head()"
   ]
  },
  {
   "cell_type": "markdown",
   "id": "fbee6051",
   "metadata": {
    "id": "66KOxKCx977b",
    "papermill": {
     "duration": 0.013153,
     "end_time": "2025-02-16T03:37:30.547094",
     "exception": false,
     "start_time": "2025-02-16T03:37:30.533941",
     "status": "completed"
    },
    "tags": []
   },
   "source": [
    "Get the number of rows and columns in the dataset."
   ]
  },
  {
   "cell_type": "code",
   "execution_count": 4,
   "id": "448fdea5",
   "metadata": {
    "execution": {
     "iopub.execute_input": "2025-02-16T03:37:30.576496Z",
     "iopub.status.busy": "2025-02-16T03:37:30.576120Z",
     "iopub.status.idle": "2025-02-16T03:37:30.582075Z",
     "shell.execute_reply": "2025-02-16T03:37:30.580852Z"
    },
    "id": "kYwW-G1WqX3R",
    "papermill": {
     "duration": 0.023171,
     "end_time": "2025-02-16T03:37:30.583713",
     "exception": false,
     "start_time": "2025-02-16T03:37:30.560542",
     "status": "completed"
    },
    "tags": []
   },
   "outputs": [
    {
     "data": {
      "text/plain": [
       "(19382, 12)"
      ]
     },
     "execution_count": 4,
     "metadata": {},
     "output_type": "execute_result"
    }
   ],
   "source": [
    "# Get number of rows and columns\n",
    "### YOUR CODE HERE ###\n",
    "data.shape"
   ]
  },
  {
   "cell_type": "markdown",
   "id": "1a8e0261",
   "metadata": {
    "id": "aP-NbEGdEio8",
    "papermill": {
     "duration": 0.015239,
     "end_time": "2025-02-16T03:37:30.612960",
     "exception": false,
     "start_time": "2025-02-16T03:37:30.597721",
     "status": "completed"
    },
    "tags": []
   },
   "source": [
    "Get the data types of the columns."
   ]
  },
  {
   "cell_type": "code",
   "execution_count": 5,
   "id": "69617ef4",
   "metadata": {
    "execution": {
     "iopub.execute_input": "2025-02-16T03:37:30.641872Z",
     "iopub.status.busy": "2025-02-16T03:37:30.641403Z",
     "iopub.status.idle": "2025-02-16T03:37:30.648584Z",
     "shell.execute_reply": "2025-02-16T03:37:30.647523Z"
    },
    "id": "rbpDgrXfEoVj",
    "papermill": {
     "duration": 0.023379,
     "end_time": "2025-02-16T03:37:30.650216",
     "exception": false,
     "start_time": "2025-02-16T03:37:30.626837",
     "status": "completed"
    },
    "tags": []
   },
   "outputs": [
    {
     "data": {
      "text/plain": [
       "#                             int64\n",
       "claim_status                 object\n",
       "video_id                      int64\n",
       "video_duration_sec            int64\n",
       "video_transcription_text     object\n",
       "verified_status              object\n",
       "author_ban_status            object\n",
       "video_view_count            float64\n",
       "video_like_count            float64\n",
       "video_share_count           float64\n",
       "video_download_count        float64\n",
       "video_comment_count         float64\n",
       "dtype: object"
      ]
     },
     "execution_count": 5,
     "metadata": {},
     "output_type": "execute_result"
    }
   ],
   "source": [
    "# Get data types of columns\n",
    "### YOUR CODE HERE ###\n",
    "data.dtypes"
   ]
  },
  {
   "cell_type": "markdown",
   "id": "bf6c2716",
   "metadata": {
    "id": "URuRVjUZ_Axg",
    "papermill": {
     "duration": 0.013676,
     "end_time": "2025-02-16T03:37:30.677884",
     "exception": false,
     "start_time": "2025-02-16T03:37:30.664208",
     "status": "completed"
    },
    "tags": []
   },
   "source": [
    "Get basic information about the dataset."
   ]
  },
  {
   "cell_type": "code",
   "execution_count": 6,
   "id": "0de6ad89",
   "metadata": {
    "execution": {
     "iopub.execute_input": "2025-02-16T03:37:30.709311Z",
     "iopub.status.busy": "2025-02-16T03:37:30.708905Z",
     "iopub.status.idle": "2025-02-16T03:37:30.749832Z",
     "shell.execute_reply": "2025-02-16T03:37:30.748723Z"
    },
    "id": "zyyKCGzCp7SS",
    "papermill": {
     "duration": 0.058974,
     "end_time": "2025-02-16T03:37:30.751679",
     "exception": false,
     "start_time": "2025-02-16T03:37:30.692705",
     "status": "completed"
    },
    "tags": []
   },
   "outputs": [
    {
     "data": {
      "text/html": [
       "<div>\n",
       "<style scoped>\n",
       "    .dataframe tbody tr th:only-of-type {\n",
       "        vertical-align: middle;\n",
       "    }\n",
       "\n",
       "    .dataframe tbody tr th {\n",
       "        vertical-align: top;\n",
       "    }\n",
       "\n",
       "    .dataframe thead th {\n",
       "        text-align: right;\n",
       "    }\n",
       "</style>\n",
       "<table border=\"1\" class=\"dataframe\">\n",
       "  <thead>\n",
       "    <tr style=\"text-align: right;\">\n",
       "      <th></th>\n",
       "      <th>#</th>\n",
       "      <th>video_id</th>\n",
       "      <th>video_duration_sec</th>\n",
       "      <th>video_view_count</th>\n",
       "      <th>video_like_count</th>\n",
       "      <th>video_share_count</th>\n",
       "      <th>video_download_count</th>\n",
       "      <th>video_comment_count</th>\n",
       "    </tr>\n",
       "  </thead>\n",
       "  <tbody>\n",
       "    <tr>\n",
       "      <th>count</th>\n",
       "      <td>19382.000000</td>\n",
       "      <td>1.938200e+04</td>\n",
       "      <td>19382.000000</td>\n",
       "      <td>19084.000000</td>\n",
       "      <td>19084.000000</td>\n",
       "      <td>19084.000000</td>\n",
       "      <td>19084.000000</td>\n",
       "      <td>19084.000000</td>\n",
       "    </tr>\n",
       "    <tr>\n",
       "      <th>mean</th>\n",
       "      <td>9691.500000</td>\n",
       "      <td>5.627454e+09</td>\n",
       "      <td>32.421732</td>\n",
       "      <td>254708.558688</td>\n",
       "      <td>84304.636030</td>\n",
       "      <td>16735.248323</td>\n",
       "      <td>1049.429627</td>\n",
       "      <td>349.312146</td>\n",
       "    </tr>\n",
       "    <tr>\n",
       "      <th>std</th>\n",
       "      <td>5595.245794</td>\n",
       "      <td>2.536440e+09</td>\n",
       "      <td>16.229967</td>\n",
       "      <td>322893.280814</td>\n",
       "      <td>133420.546814</td>\n",
       "      <td>32036.174350</td>\n",
       "      <td>2004.299894</td>\n",
       "      <td>799.638865</td>\n",
       "    </tr>\n",
       "    <tr>\n",
       "      <th>min</th>\n",
       "      <td>1.000000</td>\n",
       "      <td>1.234959e+09</td>\n",
       "      <td>5.000000</td>\n",
       "      <td>20.000000</td>\n",
       "      <td>0.000000</td>\n",
       "      <td>0.000000</td>\n",
       "      <td>0.000000</td>\n",
       "      <td>0.000000</td>\n",
       "    </tr>\n",
       "    <tr>\n",
       "      <th>25%</th>\n",
       "      <td>4846.250000</td>\n",
       "      <td>3.430417e+09</td>\n",
       "      <td>18.000000</td>\n",
       "      <td>4942.500000</td>\n",
       "      <td>810.750000</td>\n",
       "      <td>115.000000</td>\n",
       "      <td>7.000000</td>\n",
       "      <td>1.000000</td>\n",
       "    </tr>\n",
       "    <tr>\n",
       "      <th>50%</th>\n",
       "      <td>9691.500000</td>\n",
       "      <td>5.618664e+09</td>\n",
       "      <td>32.000000</td>\n",
       "      <td>9954.500000</td>\n",
       "      <td>3403.500000</td>\n",
       "      <td>717.000000</td>\n",
       "      <td>46.000000</td>\n",
       "      <td>9.000000</td>\n",
       "    </tr>\n",
       "    <tr>\n",
       "      <th>75%</th>\n",
       "      <td>14536.750000</td>\n",
       "      <td>7.843960e+09</td>\n",
       "      <td>47.000000</td>\n",
       "      <td>504327.000000</td>\n",
       "      <td>125020.000000</td>\n",
       "      <td>18222.000000</td>\n",
       "      <td>1156.250000</td>\n",
       "      <td>292.000000</td>\n",
       "    </tr>\n",
       "    <tr>\n",
       "      <th>max</th>\n",
       "      <td>19382.000000</td>\n",
       "      <td>9.999873e+09</td>\n",
       "      <td>60.000000</td>\n",
       "      <td>999817.000000</td>\n",
       "      <td>657830.000000</td>\n",
       "      <td>256130.000000</td>\n",
       "      <td>14994.000000</td>\n",
       "      <td>9599.000000</td>\n",
       "    </tr>\n",
       "  </tbody>\n",
       "</table>\n",
       "</div>"
      ],
      "text/plain": [
       "                  #      video_id  video_duration_sec  video_view_count  \\\n",
       "count  19382.000000  1.938200e+04        19382.000000      19084.000000   \n",
       "mean    9691.500000  5.627454e+09           32.421732     254708.558688   \n",
       "std     5595.245794  2.536440e+09           16.229967     322893.280814   \n",
       "min        1.000000  1.234959e+09            5.000000         20.000000   \n",
       "25%     4846.250000  3.430417e+09           18.000000       4942.500000   \n",
       "50%     9691.500000  5.618664e+09           32.000000       9954.500000   \n",
       "75%    14536.750000  7.843960e+09           47.000000     504327.000000   \n",
       "max    19382.000000  9.999873e+09           60.000000     999817.000000   \n",
       "\n",
       "       video_like_count  video_share_count  video_download_count  \\\n",
       "count      19084.000000       19084.000000          19084.000000   \n",
       "mean       84304.636030       16735.248323           1049.429627   \n",
       "std       133420.546814       32036.174350           2004.299894   \n",
       "min            0.000000           0.000000              0.000000   \n",
       "25%          810.750000         115.000000              7.000000   \n",
       "50%         3403.500000         717.000000             46.000000   \n",
       "75%       125020.000000       18222.000000           1156.250000   \n",
       "max       657830.000000      256130.000000          14994.000000   \n",
       "\n",
       "       video_comment_count  \n",
       "count         19084.000000  \n",
       "mean            349.312146  \n",
       "std             799.638865  \n",
       "min               0.000000  \n",
       "25%               1.000000  \n",
       "50%               9.000000  \n",
       "75%             292.000000  \n",
       "max            9599.000000  "
      ]
     },
     "execution_count": 6,
     "metadata": {},
     "output_type": "execute_result"
    }
   ],
   "source": [
    "# Get basic information\n",
    "### YOUR CODE HERE ###\n",
    "data.describe()"
   ]
  },
  {
   "cell_type": "markdown",
   "id": "4bfe6ebe",
   "metadata": {
    "id": "0T5Ieb6WB61Q",
    "papermill": {
     "duration": 0.014084,
     "end_time": "2025-02-16T03:37:30.780191",
     "exception": false,
     "start_time": "2025-02-16T03:37:30.766107",
     "status": "completed"
    },
    "tags": []
   },
   "source": [
    "Generate basic descriptive statistics about the dataset."
   ]
  },
  {
   "cell_type": "code",
   "execution_count": 7,
   "id": "422302e9",
   "metadata": {
    "execution": {
     "iopub.execute_input": "2025-02-16T03:37:30.813244Z",
     "iopub.status.busy": "2025-02-16T03:37:30.812680Z",
     "iopub.status.idle": "2025-02-16T03:37:30.859481Z",
     "shell.execute_reply": "2025-02-16T03:37:30.858090Z"
    },
    "id": "HbpuAS2UqY01",
    "papermill": {
     "duration": 0.067656,
     "end_time": "2025-02-16T03:37:30.861979",
     "exception": false,
     "start_time": "2025-02-16T03:37:30.794323",
     "status": "completed"
    },
    "tags": []
   },
   "outputs": [
    {
     "data": {
      "text/html": [
       "<div>\n",
       "<style scoped>\n",
       "    .dataframe tbody tr th:only-of-type {\n",
       "        vertical-align: middle;\n",
       "    }\n",
       "\n",
       "    .dataframe tbody tr th {\n",
       "        vertical-align: top;\n",
       "    }\n",
       "\n",
       "    .dataframe thead th {\n",
       "        text-align: right;\n",
       "    }\n",
       "</style>\n",
       "<table border=\"1\" class=\"dataframe\">\n",
       "  <thead>\n",
       "    <tr style=\"text-align: right;\">\n",
       "      <th></th>\n",
       "      <th>#</th>\n",
       "      <th>video_id</th>\n",
       "      <th>video_duration_sec</th>\n",
       "      <th>video_view_count</th>\n",
       "      <th>video_like_count</th>\n",
       "      <th>video_share_count</th>\n",
       "      <th>video_download_count</th>\n",
       "      <th>video_comment_count</th>\n",
       "    </tr>\n",
       "  </thead>\n",
       "  <tbody>\n",
       "    <tr>\n",
       "      <th>count</th>\n",
       "      <td>19382.000000</td>\n",
       "      <td>1.938200e+04</td>\n",
       "      <td>19382.000000</td>\n",
       "      <td>19084.000000</td>\n",
       "      <td>19084.000000</td>\n",
       "      <td>19084.000000</td>\n",
       "      <td>19084.000000</td>\n",
       "      <td>19084.000000</td>\n",
       "    </tr>\n",
       "    <tr>\n",
       "      <th>mean</th>\n",
       "      <td>9691.500000</td>\n",
       "      <td>5.627454e+09</td>\n",
       "      <td>32.421732</td>\n",
       "      <td>254708.558688</td>\n",
       "      <td>84304.636030</td>\n",
       "      <td>16735.248323</td>\n",
       "      <td>1049.429627</td>\n",
       "      <td>349.312146</td>\n",
       "    </tr>\n",
       "    <tr>\n",
       "      <th>std</th>\n",
       "      <td>5595.245794</td>\n",
       "      <td>2.536440e+09</td>\n",
       "      <td>16.229967</td>\n",
       "      <td>322893.280814</td>\n",
       "      <td>133420.546814</td>\n",
       "      <td>32036.174350</td>\n",
       "      <td>2004.299894</td>\n",
       "      <td>799.638865</td>\n",
       "    </tr>\n",
       "    <tr>\n",
       "      <th>min</th>\n",
       "      <td>1.000000</td>\n",
       "      <td>1.234959e+09</td>\n",
       "      <td>5.000000</td>\n",
       "      <td>20.000000</td>\n",
       "      <td>0.000000</td>\n",
       "      <td>0.000000</td>\n",
       "      <td>0.000000</td>\n",
       "      <td>0.000000</td>\n",
       "    </tr>\n",
       "    <tr>\n",
       "      <th>25%</th>\n",
       "      <td>4846.250000</td>\n",
       "      <td>3.430417e+09</td>\n",
       "      <td>18.000000</td>\n",
       "      <td>4942.500000</td>\n",
       "      <td>810.750000</td>\n",
       "      <td>115.000000</td>\n",
       "      <td>7.000000</td>\n",
       "      <td>1.000000</td>\n",
       "    </tr>\n",
       "    <tr>\n",
       "      <th>50%</th>\n",
       "      <td>9691.500000</td>\n",
       "      <td>5.618664e+09</td>\n",
       "      <td>32.000000</td>\n",
       "      <td>9954.500000</td>\n",
       "      <td>3403.500000</td>\n",
       "      <td>717.000000</td>\n",
       "      <td>46.000000</td>\n",
       "      <td>9.000000</td>\n",
       "    </tr>\n",
       "    <tr>\n",
       "      <th>75%</th>\n",
       "      <td>14536.750000</td>\n",
       "      <td>7.843960e+09</td>\n",
       "      <td>47.000000</td>\n",
       "      <td>504327.000000</td>\n",
       "      <td>125020.000000</td>\n",
       "      <td>18222.000000</td>\n",
       "      <td>1156.250000</td>\n",
       "      <td>292.000000</td>\n",
       "    </tr>\n",
       "    <tr>\n",
       "      <th>max</th>\n",
       "      <td>19382.000000</td>\n",
       "      <td>9.999873e+09</td>\n",
       "      <td>60.000000</td>\n",
       "      <td>999817.000000</td>\n",
       "      <td>657830.000000</td>\n",
       "      <td>256130.000000</td>\n",
       "      <td>14994.000000</td>\n",
       "      <td>9599.000000</td>\n",
       "    </tr>\n",
       "  </tbody>\n",
       "</table>\n",
       "</div>"
      ],
      "text/plain": [
       "                  #      video_id  video_duration_sec  video_view_count  \\\n",
       "count  19382.000000  1.938200e+04        19382.000000      19084.000000   \n",
       "mean    9691.500000  5.627454e+09           32.421732     254708.558688   \n",
       "std     5595.245794  2.536440e+09           16.229967     322893.280814   \n",
       "min        1.000000  1.234959e+09            5.000000         20.000000   \n",
       "25%     4846.250000  3.430417e+09           18.000000       4942.500000   \n",
       "50%     9691.500000  5.618664e+09           32.000000       9954.500000   \n",
       "75%    14536.750000  7.843960e+09           47.000000     504327.000000   \n",
       "max    19382.000000  9.999873e+09           60.000000     999817.000000   \n",
       "\n",
       "       video_like_count  video_share_count  video_download_count  \\\n",
       "count      19084.000000       19084.000000          19084.000000   \n",
       "mean       84304.636030       16735.248323           1049.429627   \n",
       "std       133420.546814       32036.174350           2004.299894   \n",
       "min            0.000000           0.000000              0.000000   \n",
       "25%          810.750000         115.000000              7.000000   \n",
       "50%         3403.500000         717.000000             46.000000   \n",
       "75%       125020.000000       18222.000000           1156.250000   \n",
       "max       657830.000000      256130.000000          14994.000000   \n",
       "\n",
       "       video_comment_count  \n",
       "count         19084.000000  \n",
       "mean            349.312146  \n",
       "std             799.638865  \n",
       "min               0.000000  \n",
       "25%               1.000000  \n",
       "50%               9.000000  \n",
       "75%             292.000000  \n",
       "max            9599.000000  "
      ]
     },
     "execution_count": 7,
     "metadata": {},
     "output_type": "execute_result"
    }
   ],
   "source": [
    "# Generate basic descriptive stats\n",
    "### YOUR CODE HERE ###\n",
    "data.describe()"
   ]
  },
  {
   "cell_type": "markdown",
   "id": "cf9036ae",
   "metadata": {
    "id": "9OpeNQDdyIT6",
    "papermill": {
     "duration": 0.015274,
     "end_time": "2025-02-16T03:37:30.896677",
     "exception": false,
     "start_time": "2025-02-16T03:37:30.881403",
     "status": "completed"
    },
    "tags": []
   },
   "source": [
    "Check for and handle missing values."
   ]
  },
  {
   "cell_type": "code",
   "execution_count": 8,
   "id": "129f4452",
   "metadata": {
    "execution": {
     "iopub.execute_input": "2025-02-16T03:37:30.930255Z",
     "iopub.status.busy": "2025-02-16T03:37:30.929762Z",
     "iopub.status.idle": "2025-02-16T03:37:30.945279Z",
     "shell.execute_reply": "2025-02-16T03:37:30.944029Z"
    },
    "id": "BrunHcfa7xnT",
    "papermill": {
     "duration": 0.035102,
     "end_time": "2025-02-16T03:37:30.947709",
     "exception": false,
     "start_time": "2025-02-16T03:37:30.912607",
     "status": "completed"
    },
    "tags": []
   },
   "outputs": [
    {
     "data": {
      "text/plain": [
       "#                             0\n",
       "claim_status                298\n",
       "video_id                      0\n",
       "video_duration_sec            0\n",
       "video_transcription_text    298\n",
       "verified_status               0\n",
       "author_ban_status             0\n",
       "video_view_count            298\n",
       "video_like_count            298\n",
       "video_share_count           298\n",
       "video_download_count        298\n",
       "video_comment_count         298\n",
       "dtype: int64"
      ]
     },
     "execution_count": 8,
     "metadata": {},
     "output_type": "execute_result"
    }
   ],
   "source": [
    "# Check for missing values\n",
    "### YOUR CODE HERE ###\n",
    "data.isna().sum()"
   ]
  },
  {
   "cell_type": "code",
   "execution_count": 9,
   "id": "3386916c",
   "metadata": {
    "execution": {
     "iopub.execute_input": "2025-02-16T03:37:30.993843Z",
     "iopub.status.busy": "2025-02-16T03:37:30.993213Z",
     "iopub.status.idle": "2025-02-16T03:37:31.010637Z",
     "shell.execute_reply": "2025-02-16T03:37:31.009139Z"
    },
    "id": "SHSj1Hma914I",
    "papermill": {
     "duration": 0.047773,
     "end_time": "2025-02-16T03:37:31.013170",
     "exception": false,
     "start_time": "2025-02-16T03:37:30.965397",
     "status": "completed"
    },
    "tags": []
   },
   "outputs": [],
   "source": [
    "# Drop rows with missing values\n",
    "### YOUR CODE HERE ###\n",
    "data = data.dropna(axis=0)"
   ]
  },
  {
   "cell_type": "code",
   "execution_count": 10,
   "id": "b59740b4",
   "metadata": {
    "execution": {
     "iopub.execute_input": "2025-02-16T03:37:31.048354Z",
     "iopub.status.busy": "2025-02-16T03:37:31.048003Z",
     "iopub.status.idle": "2025-02-16T03:37:31.064327Z",
     "shell.execute_reply": "2025-02-16T03:37:31.063221Z"
    },
    "id": "ZYUF3xap9_Fa",
    "papermill": {
     "duration": 0.033664,
     "end_time": "2025-02-16T03:37:31.066217",
     "exception": false,
     "start_time": "2025-02-16T03:37:31.032553",
     "status": "completed"
    },
    "tags": []
   },
   "outputs": [
    {
     "data": {
      "text/html": [
       "<div>\n",
       "<style scoped>\n",
       "    .dataframe tbody tr th:only-of-type {\n",
       "        vertical-align: middle;\n",
       "    }\n",
       "\n",
       "    .dataframe tbody tr th {\n",
       "        vertical-align: top;\n",
       "    }\n",
       "\n",
       "    .dataframe thead th {\n",
       "        text-align: right;\n",
       "    }\n",
       "</style>\n",
       "<table border=\"1\" class=\"dataframe\">\n",
       "  <thead>\n",
       "    <tr style=\"text-align: right;\">\n",
       "      <th></th>\n",
       "      <th>#</th>\n",
       "      <th>claim_status</th>\n",
       "      <th>video_id</th>\n",
       "      <th>video_duration_sec</th>\n",
       "      <th>video_transcription_text</th>\n",
       "      <th>verified_status</th>\n",
       "      <th>author_ban_status</th>\n",
       "      <th>video_view_count</th>\n",
       "      <th>video_like_count</th>\n",
       "      <th>video_share_count</th>\n",
       "      <th>video_download_count</th>\n",
       "      <th>video_comment_count</th>\n",
       "    </tr>\n",
       "  </thead>\n",
       "  <tbody>\n",
       "    <tr>\n",
       "      <th>0</th>\n",
       "      <td>1</td>\n",
       "      <td>claim</td>\n",
       "      <td>7017666017</td>\n",
       "      <td>59</td>\n",
       "      <td>someone shared with me that drone deliveries a...</td>\n",
       "      <td>not verified</td>\n",
       "      <td>under review</td>\n",
       "      <td>343296.0</td>\n",
       "      <td>19425.0</td>\n",
       "      <td>241.0</td>\n",
       "      <td>1.0</td>\n",
       "      <td>0.0</td>\n",
       "    </tr>\n",
       "    <tr>\n",
       "      <th>1</th>\n",
       "      <td>2</td>\n",
       "      <td>claim</td>\n",
       "      <td>4014381136</td>\n",
       "      <td>32</td>\n",
       "      <td>someone shared with me that there are more mic...</td>\n",
       "      <td>not verified</td>\n",
       "      <td>active</td>\n",
       "      <td>140877.0</td>\n",
       "      <td>77355.0</td>\n",
       "      <td>19034.0</td>\n",
       "      <td>1161.0</td>\n",
       "      <td>684.0</td>\n",
       "    </tr>\n",
       "    <tr>\n",
       "      <th>2</th>\n",
       "      <td>3</td>\n",
       "      <td>claim</td>\n",
       "      <td>9859838091</td>\n",
       "      <td>31</td>\n",
       "      <td>someone shared with me that american industria...</td>\n",
       "      <td>not verified</td>\n",
       "      <td>active</td>\n",
       "      <td>902185.0</td>\n",
       "      <td>97690.0</td>\n",
       "      <td>2858.0</td>\n",
       "      <td>833.0</td>\n",
       "      <td>329.0</td>\n",
       "    </tr>\n",
       "    <tr>\n",
       "      <th>3</th>\n",
       "      <td>4</td>\n",
       "      <td>claim</td>\n",
       "      <td>1866847991</td>\n",
       "      <td>25</td>\n",
       "      <td>someone shared with me that the metro of st. p...</td>\n",
       "      <td>not verified</td>\n",
       "      <td>active</td>\n",
       "      <td>437506.0</td>\n",
       "      <td>239954.0</td>\n",
       "      <td>34812.0</td>\n",
       "      <td>1234.0</td>\n",
       "      <td>584.0</td>\n",
       "    </tr>\n",
       "    <tr>\n",
       "      <th>4</th>\n",
       "      <td>5</td>\n",
       "      <td>claim</td>\n",
       "      <td>7105231098</td>\n",
       "      <td>19</td>\n",
       "      <td>someone shared with me that the number of busi...</td>\n",
       "      <td>not verified</td>\n",
       "      <td>active</td>\n",
       "      <td>56167.0</td>\n",
       "      <td>34987.0</td>\n",
       "      <td>4110.0</td>\n",
       "      <td>547.0</td>\n",
       "      <td>152.0</td>\n",
       "    </tr>\n",
       "  </tbody>\n",
       "</table>\n",
       "</div>"
      ],
      "text/plain": [
       "   # claim_status    video_id  video_duration_sec  \\\n",
       "0  1        claim  7017666017                  59   \n",
       "1  2        claim  4014381136                  32   \n",
       "2  3        claim  9859838091                  31   \n",
       "3  4        claim  1866847991                  25   \n",
       "4  5        claim  7105231098                  19   \n",
       "\n",
       "                            video_transcription_text verified_status  \\\n",
       "0  someone shared with me that drone deliveries a...    not verified   \n",
       "1  someone shared with me that there are more mic...    not verified   \n",
       "2  someone shared with me that american industria...    not verified   \n",
       "3  someone shared with me that the metro of st. p...    not verified   \n",
       "4  someone shared with me that the number of busi...    not verified   \n",
       "\n",
       "  author_ban_status  video_view_count  video_like_count  video_share_count  \\\n",
       "0      under review          343296.0           19425.0              241.0   \n",
       "1            active          140877.0           77355.0            19034.0   \n",
       "2            active          902185.0           97690.0             2858.0   \n",
       "3            active          437506.0          239954.0            34812.0   \n",
       "4            active           56167.0           34987.0             4110.0   \n",
       "\n",
       "   video_download_count  video_comment_count  \n",
       "0                   1.0                  0.0  \n",
       "1                1161.0                684.0  \n",
       "2                 833.0                329.0  \n",
       "3                1234.0                584.0  \n",
       "4                 547.0                152.0  "
      ]
     },
     "execution_count": 10,
     "metadata": {},
     "output_type": "execute_result"
    }
   ],
   "source": [
    "# Display first few rows after handling missing values\n",
    "### YOUR CODE HERE ###\n",
    "data.head()"
   ]
  },
  {
   "cell_type": "markdown",
   "id": "e90236eb",
   "metadata": {
    "id": "XcfffpANyNiu",
    "papermill": {
     "duration": 0.015066,
     "end_time": "2025-02-16T03:37:31.096616",
     "exception": false,
     "start_time": "2025-02-16T03:37:31.081550",
     "status": "completed"
    },
    "tags": []
   },
   "source": [
    "Check for and handle duplicates."
   ]
  },
  {
   "cell_type": "code",
   "execution_count": 11,
   "id": "bc581049",
   "metadata": {
    "execution": {
     "iopub.execute_input": "2025-02-16T03:37:31.194673Z",
     "iopub.status.busy": "2025-02-16T03:37:31.194231Z",
     "iopub.status.idle": "2025-02-16T03:37:31.223990Z",
     "shell.execute_reply": "2025-02-16T03:37:31.222788Z"
    },
    "id": "IKaGnWIsiHpH",
    "papermill": {
     "duration": 0.048295,
     "end_time": "2025-02-16T03:37:31.226131",
     "exception": false,
     "start_time": "2025-02-16T03:37:31.177836",
     "status": "completed"
    },
    "tags": []
   },
   "outputs": [
    {
     "data": {
      "text/plain": [
       "0"
      ]
     },
     "execution_count": 11,
     "metadata": {},
     "output_type": "execute_result"
    }
   ],
   "source": [
    "# Check for duplicates\n",
    "### YOUR CODE HERE ###\n",
    "data.duplicated().sum()"
   ]
  },
  {
   "cell_type": "markdown",
   "id": "8e36dbee",
   "metadata": {
    "id": "k-HcHpGc5Hn7",
    "papermill": {
     "duration": 0.014675,
     "end_time": "2025-02-16T03:37:31.256026",
     "exception": false,
     "start_time": "2025-02-16T03:37:31.241351",
     "status": "completed"
    },
    "tags": []
   },
   "source": [
    "Check for and handle outliers."
   ]
  },
  {
   "cell_type": "code",
   "execution_count": 12,
   "id": "704fc200",
   "metadata": {
    "execution": {
     "iopub.execute_input": "2025-02-16T03:37:31.287687Z",
     "iopub.status.busy": "2025-02-16T03:37:31.287266Z",
     "iopub.status.idle": "2025-02-16T03:37:32.571281Z",
     "shell.execute_reply": "2025-02-16T03:37:32.570162Z"
    },
    "id": "bZS2-0qEPbN6",
    "papermill": {
     "duration": 1.30209,
     "end_time": "2025-02-16T03:37:32.573044",
     "exception": false,
     "start_time": "2025-02-16T03:37:31.270954",
     "status": "completed"
    },
    "tags": []
   },
   "outputs": [
    {
     "data": {
      "image/png": "[encoded data removed]",
      "text/plain": [
       "<Figure size 500x2000 with 8 Axes>"
      ]
     },
     "metadata": {},
     "output_type": "display_data"
    }
   ],
   "source": [
    "### YOUR CODE HERE ###\n",
    "\n",
    "# Select only numerical columns\n",
    "numerical_df = data.select_dtypes(include=['number'])\n",
    "\n",
    "# Create a figure and axes for the boxplots\n",
    "fig, axs = plt.subplots(nrows=len(numerical_df.columns), ncols=1, figsize=(5,20))\n",
    "\n",
    "# Plot horizontal boxplots for each numerical column\n",
    "for i, column in enumerate(numerical_df.columns):\n",
    "    axs[i].boxplot(numerical_df[column], vert=False)  # Set vert=False for horizontal boxplot\n",
    "    axs[i].set_title(column)\n",
    "    axs[i].set_xlabel('Value')\n",
    "\n",
    "# Adjust layout for better spacing\n",
    "plt.tight_layout()\n",
    "plt.show()\n",
    "\n",
    "\n",
    "# all the outliers are not due to errors\n",
    "# if we are building tree models, no more processing of outliers is needed, because those handles them well with the right representation"
   ]
  },
  {
   "cell_type": "markdown",
   "id": "14a87cb3",
   "metadata": {
    "id": "Ecg5b3Jwfyxa",
    "papermill": {
     "duration": 0.01654,
     "end_time": "2025-02-16T03:37:32.606398",
     "exception": false,
     "start_time": "2025-02-16T03:37:32.589858",
     "status": "completed"
    },
    "tags": []
   },
   "source": [
    "Check class balance."
   ]
  },
  {
   "cell_type": "code",
   "execution_count": 13,
   "id": "032c55dd",
   "metadata": {
    "execution": {
     "iopub.execute_input": "2025-02-16T03:37:32.642224Z",
     "iopub.status.busy": "2025-02-16T03:37:32.641863Z",
     "iopub.status.idle": "2025-02-16T03:37:32.652544Z",
     "shell.execute_reply": "2025-02-16T03:37:32.651452Z"
    },
    "id": "dQauKR11fyxb",
    "papermill": {
     "duration": 0.03028,
     "end_time": "2025-02-16T03:37:32.654271",
     "exception": false,
     "start_time": "2025-02-16T03:37:32.623991",
     "status": "completed"
    },
    "tags": []
   },
   "outputs": [
    {
     "data": {
      "text/plain": [
       "claim_status\n",
       "claim      0.503458\n",
       "opinion    0.496542\n",
       "Name: proportion, dtype: float64"
      ]
     },
     "execution_count": 13,
     "metadata": {},
     "output_type": "execute_result"
    }
   ],
   "source": [
    "# Check class balance\n",
    "### YOUR CODE HERE ###\n",
    "data[\"claim_status\"].value_counts(normalize=True)"
   ]
  },
  {
   "cell_type": "markdown",
   "id": "84386510",
   "metadata": {
    "id": "kD8TsZ8jqri0",
    "papermill": {
     "duration": 0.017144,
     "end_time": "2025-02-16T03:37:32.688378",
     "exception": false,
     "start_time": "2025-02-16T03:37:32.671234",
     "status": "completed"
    },
    "tags": []
   },
   "source": [
    "<img src=\"images/Construct.png\" width=\"100\" height=\"100\" align=left>\n",
    "\n",
    "## **PACE: Construct**\n",
    "Consider the questions in your PACE Strategy Document to reflect on the Construct stage."
   ]
  },
  {
   "cell_type": "markdown",
   "id": "28aaf4b4",
   "metadata": {
    "id": "8i0spBspquCr",
    "papermill": {
     "duration": 0.016714,
     "end_time": "2025-02-16T03:37:32.721981",
     "exception": false,
     "start_time": "2025-02-16T03:37:32.705267",
     "status": "completed"
    },
    "tags": []
   },
   "source": [
    "### **Task 3: Feature engineering**"
   ]
  },
  {
   "cell_type": "markdown",
   "id": "1df999c4",
   "metadata": {
    "id": "hb_u1c6_T1i-",
    "papermill": {
     "duration": 0.016405,
     "end_time": "2025-02-16T03:37:32.755079",
     "exception": false,
     "start_time": "2025-02-16T03:37:32.738674",
     "status": "completed"
    },
    "tags": []
   },
   "source": [
    "Extract the length of each `video_transcription_text` and add this as a column to the dataframe, so that it can be used as a potential feature in the model."
   ]
  },
  {
   "cell_type": "code",
   "execution_count": 14,
   "id": "bf581440",
   "metadata": {
    "execution": {
     "iopub.execute_input": "2025-02-16T03:37:32.789868Z",
     "iopub.status.busy": "2025-02-16T03:37:32.789373Z",
     "iopub.status.idle": "2025-02-16T03:37:32.817593Z",
     "shell.execute_reply": "2025-02-16T03:37:32.816519Z"
    },
    "id": "8Yr9hhhVHeYY",
    "papermill": {
     "duration": 0.047544,
     "end_time": "2025-02-16T03:37:32.819366",
     "exception": false,
     "start_time": "2025-02-16T03:37:32.771822",
     "status": "completed"
    },
    "tags": []
   },
   "outputs": [
    {
     "data": {
      "text/html": [
       "<div>\n",
       "<style scoped>\n",
       "    .dataframe tbody tr th:only-of-type {\n",
       "        vertical-align: middle;\n",
       "    }\n",
       "\n",
       "    .dataframe tbody tr th {\n",
       "        vertical-align: top;\n",
       "    }\n",
       "\n",
       "    .dataframe thead th {\n",
       "        text-align: right;\n",
       "    }\n",
       "</style>\n",
       "<table border=\"1\" class=\"dataframe\">\n",
       "  <thead>\n",
       "    <tr style=\"text-align: right;\">\n",
       "      <th></th>\n",
       "      <th>#</th>\n",
       "      <th>claim_status</th>\n",
       "      <th>video_id</th>\n",
       "      <th>video_duration_sec</th>\n",
       "      <th>video_transcription_text</th>\n",
       "      <th>verified_status</th>\n",
       "      <th>author_ban_status</th>\n",
       "      <th>video_view_count</th>\n",
       "      <th>video_like_count</th>\n",
       "      <th>video_share_count</th>\n",
       "      <th>video_download_count</th>\n",
       "      <th>video_comment_count</th>\n",
       "      <th>text_length</th>\n",
       "    </tr>\n",
       "  </thead>\n",
       "  <tbody>\n",
       "    <tr>\n",
       "      <th>0</th>\n",
       "      <td>1</td>\n",
       "      <td>claim</td>\n",
       "      <td>7017666017</td>\n",
       "      <td>59</td>\n",
       "      <td>someone shared with me that drone deliveries a...</td>\n",
       "      <td>not verified</td>\n",
       "      <td>under review</td>\n",
       "      <td>343296.0</td>\n",
       "      <td>19425.0</td>\n",
       "      <td>241.0</td>\n",
       "      <td>1.0</td>\n",
       "      <td>0.0</td>\n",
       "      <td>97</td>\n",
       "    </tr>\n",
       "    <tr>\n",
       "      <th>1</th>\n",
       "      <td>2</td>\n",
       "      <td>claim</td>\n",
       "      <td>4014381136</td>\n",
       "      <td>32</td>\n",
       "      <td>someone shared with me that there are more mic...</td>\n",
       "      <td>not verified</td>\n",
       "      <td>active</td>\n",
       "      <td>140877.0</td>\n",
       "      <td>77355.0</td>\n",
       "      <td>19034.0</td>\n",
       "      <td>1161.0</td>\n",
       "      <td>684.0</td>\n",
       "      <td>107</td>\n",
       "    </tr>\n",
       "    <tr>\n",
       "      <th>2</th>\n",
       "      <td>3</td>\n",
       "      <td>claim</td>\n",
       "      <td>9859838091</td>\n",
       "      <td>31</td>\n",
       "      <td>someone shared with me that american industria...</td>\n",
       "      <td>not verified</td>\n",
       "      <td>active</td>\n",
       "      <td>902185.0</td>\n",
       "      <td>97690.0</td>\n",
       "      <td>2858.0</td>\n",
       "      <td>833.0</td>\n",
       "      <td>329.0</td>\n",
       "      <td>137</td>\n",
       "    </tr>\n",
       "    <tr>\n",
       "      <th>3</th>\n",
       "      <td>4</td>\n",
       "      <td>claim</td>\n",
       "      <td>1866847991</td>\n",
       "      <td>25</td>\n",
       "      <td>someone shared with me that the metro of st. p...</td>\n",
       "      <td>not verified</td>\n",
       "      <td>active</td>\n",
       "      <td>437506.0</td>\n",
       "      <td>239954.0</td>\n",
       "      <td>34812.0</td>\n",
       "      <td>1234.0</td>\n",
       "      <td>584.0</td>\n",
       "      <td>131</td>\n",
       "    </tr>\n",
       "    <tr>\n",
       "      <th>4</th>\n",
       "      <td>5</td>\n",
       "      <td>claim</td>\n",
       "      <td>7105231098</td>\n",
       "      <td>19</td>\n",
       "      <td>someone shared with me that the number of busi...</td>\n",
       "      <td>not verified</td>\n",
       "      <td>active</td>\n",
       "      <td>56167.0</td>\n",
       "      <td>34987.0</td>\n",
       "      <td>4110.0</td>\n",
       "      <td>547.0</td>\n",
       "      <td>152.0</td>\n",
       "      <td>128</td>\n",
       "    </tr>\n",
       "    <tr>\n",
       "      <th>...</th>\n",
       "      <td>...</td>\n",
       "      <td>...</td>\n",
       "      <td>...</td>\n",
       "      <td>...</td>\n",
       "      <td>...</td>\n",
       "      <td>...</td>\n",
       "      <td>...</td>\n",
       "      <td>...</td>\n",
       "      <td>...</td>\n",
       "      <td>...</td>\n",
       "      <td>...</td>\n",
       "      <td>...</td>\n",
       "      <td>...</td>\n",
       "    </tr>\n",
       "    <tr>\n",
       "      <th>19079</th>\n",
       "      <td>19080</td>\n",
       "      <td>opinion</td>\n",
       "      <td>1492320297</td>\n",
       "      <td>49</td>\n",
       "      <td>in our opinion the earth holds about 11 quinti...</td>\n",
       "      <td>not verified</td>\n",
       "      <td>active</td>\n",
       "      <td>6067.0</td>\n",
       "      <td>423.0</td>\n",
       "      <td>81.0</td>\n",
       "      <td>8.0</td>\n",
       "      <td>2.0</td>\n",
       "      <td>65</td>\n",
       "    </tr>\n",
       "    <tr>\n",
       "      <th>19080</th>\n",
       "      <td>19081</td>\n",
       "      <td>opinion</td>\n",
       "      <td>9841347807</td>\n",
       "      <td>23</td>\n",
       "      <td>in our opinion the queens in ant colonies live...</td>\n",
       "      <td>not verified</td>\n",
       "      <td>active</td>\n",
       "      <td>2973.0</td>\n",
       "      <td>820.0</td>\n",
       "      <td>70.0</td>\n",
       "      <td>3.0</td>\n",
       "      <td>0.0</td>\n",
       "      <td>66</td>\n",
       "    </tr>\n",
       "    <tr>\n",
       "      <th>19081</th>\n",
       "      <td>19082</td>\n",
       "      <td>opinion</td>\n",
       "      <td>8024379946</td>\n",
       "      <td>50</td>\n",
       "      <td>in our opinion the moon is moving away from th...</td>\n",
       "      <td>not verified</td>\n",
       "      <td>active</td>\n",
       "      <td>734.0</td>\n",
       "      <td>102.0</td>\n",
       "      <td>7.0</td>\n",
       "      <td>2.0</td>\n",
       "      <td>1.0</td>\n",
       "      <td>53</td>\n",
       "    </tr>\n",
       "    <tr>\n",
       "      <th>19082</th>\n",
       "      <td>19083</td>\n",
       "      <td>opinion</td>\n",
       "      <td>7425795014</td>\n",
       "      <td>8</td>\n",
       "      <td>in our opinion lightning strikes somewhere on ...</td>\n",
       "      <td>not verified</td>\n",
       "      <td>active</td>\n",
       "      <td>3394.0</td>\n",
       "      <td>655.0</td>\n",
       "      <td>123.0</td>\n",
       "      <td>11.0</td>\n",
       "      <td>4.0</td>\n",
       "      <td>80</td>\n",
       "    </tr>\n",
       "    <tr>\n",
       "      <th>19083</th>\n",
       "      <td>19084</td>\n",
       "      <td>opinion</td>\n",
       "      <td>4094655375</td>\n",
       "      <td>58</td>\n",
       "      <td>in our opinion a pineapple plant can only prod...</td>\n",
       "      <td>not verified</td>\n",
       "      <td>active</td>\n",
       "      <td>5034.0</td>\n",
       "      <td>815.0</td>\n",
       "      <td>281.0</td>\n",
       "      <td>11.0</td>\n",
       "      <td>1.0</td>\n",
       "      <td>70</td>\n",
       "    </tr>\n",
       "  </tbody>\n",
       "</table>\n",
       "<p>19084 rows × 13 columns</p>\n",
       "</div>"
      ],
      "text/plain": [
       "           # claim_status    video_id  video_duration_sec  \\\n",
       "0          1        claim  7017666017                  59   \n",
       "1          2        claim  4014381136                  32   \n",
       "2          3        claim  9859838091                  31   \n",
       "3          4        claim  1866847991                  25   \n",
       "4          5        claim  7105231098                  19   \n",
       "...      ...          ...         ...                 ...   \n",
       "19079  19080      opinion  1492320297                  49   \n",
       "19080  19081      opinion  9841347807                  23   \n",
       "19081  19082      opinion  8024379946                  50   \n",
       "19082  19083      opinion  7425795014                   8   \n",
       "19083  19084      opinion  4094655375                  58   \n",
       "\n",
       "                                video_transcription_text verified_status  \\\n",
       "0      someone shared with me that drone deliveries a...    not verified   \n",
       "1      someone shared with me that there are more mic...    not verified   \n",
       "2      someone shared with me that american industria...    not verified   \n",
       "3      someone shared with me that the metro of st. p...    not verified   \n",
       "4      someone shared with me that the number of busi...    not verified   \n",
       "...                                                  ...             ...   \n",
       "19079  in our opinion the earth holds about 11 quinti...    not verified   \n",
       "19080  in our opinion the queens in ant colonies live...    not verified   \n",
       "19081  in our opinion the moon is moving away from th...    not verified   \n",
       "19082  in our opinion lightning strikes somewhere on ...    not verified   \n",
       "19083  in our opinion a pineapple plant can only prod...    not verified   \n",
       "\n",
       "      author_ban_status  video_view_count  video_like_count  \\\n",
       "0          under review          343296.0           19425.0   \n",
       "1                active          140877.0           77355.0   \n",
       "2                active          902185.0           97690.0   \n",
       "3                active          437506.0          239954.0   \n",
       "4                active           56167.0           34987.0   \n",
       "...                 ...               ...               ...   \n",
       "19079            active            6067.0             423.0   \n",
       "19080            active            2973.0             820.0   \n",
       "19081            active             734.0             102.0   \n",
       "19082            active            3394.0             655.0   \n",
       "19083            active            5034.0             815.0   \n",
       "\n",
       "       video_share_count  video_download_count  video_comment_count  \\\n",
       "0                  241.0                   1.0                  0.0   \n",
       "1                19034.0                1161.0                684.0   \n",
       "2                 2858.0                 833.0                329.0   \n",
       "3                34812.0                1234.0                584.0   \n",
       "4                 4110.0                 547.0                152.0   \n",
       "...                  ...                   ...                  ...   \n",
       "19079               81.0                   8.0                  2.0   \n",
       "19080               70.0                   3.0                  0.0   \n",
       "19081                7.0                   2.0                  1.0   \n",
       "19082              123.0                  11.0                  4.0   \n",
       "19083              281.0                  11.0                  1.0   \n",
       "\n",
       "       text_length  \n",
       "0               97  \n",
       "1              107  \n",
       "2              137  \n",
       "3              131  \n",
       "4              128  \n",
       "...            ...  \n",
       "19079           65  \n",
       "19080           66  \n",
       "19081           53  \n",
       "19082           80  \n",
       "19083           70  \n",
       "\n",
       "[19084 rows x 13 columns]"
      ]
     },
     "execution_count": 14,
     "metadata": {},
     "output_type": "execute_result"
    }
   ],
   "source": [
    "# Extract the length of each `video_transcription_text` and add this as a column to the dataframe\n",
    "### YOUR CODE HERE ###\n",
    "data['text_length'] = data['video_transcription_text'].str.len()\n",
    "data"
   ]
  },
  {
   "cell_type": "markdown",
   "id": "0572f38b",
   "metadata": {
    "id": "puP-V85lq06h",
    "papermill": {
     "duration": 0.019214,
     "end_time": "2025-02-16T03:37:32.856325",
     "exception": false,
     "start_time": "2025-02-16T03:37:32.837111",
     "status": "completed"
    },
    "tags": []
   },
   "source": [
    "Calculate the average text_length for claims and opinions."
   ]
  },
  {
   "cell_type": "code",
   "execution_count": 15,
   "id": "0b74d18b",
   "metadata": {
    "execution": {
     "iopub.execute_input": "2025-02-16T03:37:32.892748Z",
     "iopub.status.busy": "2025-02-16T03:37:32.892314Z",
     "iopub.status.idle": "2025-02-16T03:37:32.912161Z",
     "shell.execute_reply": "2025-02-16T03:37:32.911059Z"
    },
    "id": "Vzg0J8UEJ1wx",
    "papermill": {
     "duration": 0.039866,
     "end_time": "2025-02-16T03:37:32.913777",
     "exception": false,
     "start_time": "2025-02-16T03:37:32.873911",
     "status": "completed"
    },
    "tags": []
   },
   "outputs": [
    {
     "name": "stdout",
     "output_type": "stream",
     "text": [
      "Average text_length for claims and opinions:\n"
     ]
    },
    {
     "data": {
      "text/html": [
       "<div>\n",
       "<style scoped>\n",
       "    .dataframe tbody tr th:only-of-type {\n",
       "        vertical-align: middle;\n",
       "    }\n",
       "\n",
       "    .dataframe tbody tr th {\n",
       "        vertical-align: top;\n",
       "    }\n",
       "\n",
       "    .dataframe thead th {\n",
       "        text-align: right;\n",
       "    }\n",
       "</style>\n",
       "<table border=\"1\" class=\"dataframe\">\n",
       "  <thead>\n",
       "    <tr style=\"text-align: right;\">\n",
       "      <th></th>\n",
       "      <th>text_length</th>\n",
       "    </tr>\n",
       "    <tr>\n",
       "      <th>claim_status</th>\n",
       "      <th></th>\n",
       "    </tr>\n",
       "  </thead>\n",
       "  <tbody>\n",
       "    <tr>\n",
       "      <th>claim</th>\n",
       "      <td>95.376978</td>\n",
       "    </tr>\n",
       "    <tr>\n",
       "      <th>opinion</th>\n",
       "      <td>82.722562</td>\n",
       "    </tr>\n",
       "  </tbody>\n",
       "</table>\n",
       "</div>"
      ],
      "text/plain": [
       "              text_length\n",
       "claim_status             \n",
       "claim           95.376978\n",
       "opinion         82.722562"
      ]
     },
     "execution_count": 15,
     "metadata": {},
     "output_type": "execute_result"
    }
   ],
   "source": [
    "# Calculate the average text_length for claims and opinions\n",
    "### YOUR CODE HERE ###\n",
    "print('Average text_length for claims and opinions:')\n",
    "data[['claim_status', 'text_length']].groupby('claim_status').mean()"
   ]
  },
  {
   "cell_type": "markdown",
   "id": "8beab81d",
   "metadata": {
    "id": "LGu7ipi4AJmP",
    "papermill": {
     "duration": 0.017272,
     "end_time": "2025-02-16T03:37:32.948854",
     "exception": false,
     "start_time": "2025-02-16T03:37:32.931582",
     "status": "completed"
    },
    "tags": []
   },
   "source": [
    "Visualize the distribution of `text_length` for claims and opinions."
   ]
  },
  {
   "cell_type": "code",
   "execution_count": 16,
   "id": "61d5d469",
   "metadata": {
    "execution": {
     "iopub.execute_input": "2025-02-16T03:37:32.985597Z",
     "iopub.status.busy": "2025-02-16T03:37:32.985173Z",
     "iopub.status.idle": "2025-02-16T03:37:33.543980Z",
     "shell.execute_reply": "2025-02-16T03:37:33.542786Z"
    },
    "id": "MSq136S3TIYe",
    "papermill": {
     "duration": 0.579441,
     "end_time": "2025-02-16T03:37:33.546023",
     "exception": false,
     "start_time": "2025-02-16T03:37:32.966582",
     "status": "completed"
    },
    "tags": []
   },
   "outputs": [
    {
     "name": "stderr",
     "output_type": "stream",
     "text": [
      "/usr/local/lib/python3.10/dist-packages/seaborn/_oldcore.py:1119: FutureWarning: use_inf_as_na option is deprecated and will be removed in a future version. Convert inf values to NaN before operating instead.\n",
      "  with pd.option_context('mode.use_inf_as_na', True):\n",
      "/usr/local/lib/python3.10/dist-packages/seaborn/_oldcore.py:1075: FutureWarning: When grouping with a length-1 list-like, you will need to pass a length-1 tuple to get_group in a future version of pandas. Pass `(name,)` instead of `name` to silence this warning.\n",
      "  data_subset = grouped_data.get_group(pd_key)\n",
      "/usr/local/lib/python3.10/dist-packages/seaborn/_oldcore.py:1075: FutureWarning: When grouping with a length-1 list-like, you will need to pass a length-1 tuple to get_group in a future version of pandas. Pass `(name,)` instead of `name` to silence this warning.\n",
      "  data_subset = grouped_data.get_group(pd_key)\n",
      "/usr/local/lib/python3.10/dist-packages/seaborn/_oldcore.py:1075: FutureWarning: When grouping with a length-1 list-like, you will need to pass a length-1 tuple to get_group in a future version of pandas. Pass `(name,)` instead of `name` to silence this warning.\n",
      "  data_subset = grouped_data.get_group(pd_key)\n",
      "/usr/local/lib/python3.10/dist-packages/seaborn/_oldcore.py:1075: FutureWarning: When grouping with a length-1 list-like, you will need to pass a length-1 tuple to get_group in a future version of pandas. Pass `(name,)` instead of `name` to silence this warning.\n",
      "  data_subset = grouped_data.get_group(pd_key)\n"
     ]
    },
    {
     "data": {
      "image/png": "[encoded data removed]",
      "text/plain": [
       "<Figure size 640x480 with 1 Axes>"
      ]
     },
     "metadata": {},
     "output_type": "display_data"
    }
   ],
   "source": [
    "# Visualize the distribution of `text_length` for claims and opinions\n",
    "# Create two histograms in one plot\n",
    "### YOUR CODE HERE ###\n",
    "sns.histplot(data=data, multiple=\"dodge\", x=\"text_length\", hue=\"claim_status\", legend=True)\n",
    "\n",
    "# plot attributes\n",
    "plt.xlabel(\"video_transcription_text length (num of characters)\")\n",
    "plt.ylabel(\"counts\")\n",
    "plt.title(\"Distributions of video_transcription_text length for claims v/s opinions\")\n",
    "plt.show()"
   ]
  },
  {
   "cell_type": "markdown",
   "id": "64281b51",
   "metadata": {
    "papermill": {
     "duration": 0.019159,
     "end_time": "2025-02-16T03:37:33.584940",
     "exception": false,
     "start_time": "2025-02-16T03:37:33.565781",
     "status": "completed"
    },
    "tags": []
   },
   "source": [
    "**Feature selection and transformation**"
   ]
  },
  {
   "cell_type": "markdown",
   "id": "d2ffd419",
   "metadata": {
    "papermill": {
     "duration": 0.018457,
     "end_time": "2025-02-16T03:37:33.622056",
     "exception": false,
     "start_time": "2025-02-16T03:37:33.603599",
     "status": "completed"
    },
    "tags": []
   },
   "source": [
    "Encode target and catgorical variables."
   ]
  },
  {
   "cell_type": "code",
   "execution_count": 17,
   "id": "f7f0c047",
   "metadata": {
    "execution": {
     "iopub.execute_input": "2025-02-16T03:37:33.662366Z",
     "iopub.status.busy": "2025-02-16T03:37:33.661976Z",
     "iopub.status.idle": "2025-02-16T03:37:33.704356Z",
     "shell.execute_reply": "2025-02-16T03:37:33.703136Z"
    },
    "papermill": {
     "duration": 0.063958,
     "end_time": "2025-02-16T03:37:33.706258",
     "exception": false,
     "start_time": "2025-02-16T03:37:33.642300",
     "status": "completed"
    },
    "tags": []
   },
   "outputs": [
    {
     "name": "stderr",
     "output_type": "stream",
     "text": [
      "<ipython-input-17-5047f00c0b89>:11: FutureWarning: Downcasting behavior in `replace` is deprecated and will be removed in a future version. To retain the old behavior, explicitly call `result.infer_objects(copy=False)`. To opt-in to the future behavior, set `pd.set_option('future.no_silent_downcasting', True)`\n",
      "  X['claim_status'] = X['claim_status'].replace({'opinion': 0, 'claim': 1})\n"
     ]
    },
    {
     "data": {
      "text/html": [
       "<div>\n",
       "<style scoped>\n",
       "    .dataframe tbody tr th:only-of-type {\n",
       "        vertical-align: middle;\n",
       "    }\n",
       "\n",
       "    .dataframe tbody tr th {\n",
       "        vertical-align: top;\n",
       "    }\n",
       "\n",
       "    .dataframe thead th {\n",
       "        text-align: right;\n",
       "    }\n",
       "</style>\n",
       "<table border=\"1\" class=\"dataframe\">\n",
       "  <thead>\n",
       "    <tr style=\"text-align: right;\">\n",
       "      <th></th>\n",
       "      <th>claim_status</th>\n",
       "      <th>video_duration_sec</th>\n",
       "      <th>video_transcription_text</th>\n",
       "      <th>video_view_count</th>\n",
       "      <th>video_like_count</th>\n",
       "      <th>video_share_count</th>\n",
       "      <th>video_download_count</th>\n",
       "      <th>video_comment_count</th>\n",
       "      <th>text_length</th>\n",
       "      <th>verified_status_verified</th>\n",
       "      <th>author_ban_status_banned</th>\n",
       "      <th>author_ban_status_under review</th>\n",
       "    </tr>\n",
       "  </thead>\n",
       "  <tbody>\n",
       "    <tr>\n",
       "      <th>19079</th>\n",
       "      <td>0</td>\n",
       "      <td>49</td>\n",
       "      <td>in our opinion the earth holds about 11 quinti...</td>\n",
       "      <td>6067.0</td>\n",
       "      <td>423.0</td>\n",
       "      <td>81.0</td>\n",
       "      <td>8.0</td>\n",
       "      <td>2.0</td>\n",
       "      <td>65</td>\n",
       "      <td>False</td>\n",
       "      <td>False</td>\n",
       "      <td>False</td>\n",
       "    </tr>\n",
       "    <tr>\n",
       "      <th>19080</th>\n",
       "      <td>0</td>\n",
       "      <td>23</td>\n",
       "      <td>in our opinion the queens in ant colonies live...</td>\n",
       "      <td>2973.0</td>\n",
       "      <td>820.0</td>\n",
       "      <td>70.0</td>\n",
       "      <td>3.0</td>\n",
       "      <td>0.0</td>\n",
       "      <td>66</td>\n",
       "      <td>False</td>\n",
       "      <td>False</td>\n",
       "      <td>False</td>\n",
       "    </tr>\n",
       "    <tr>\n",
       "      <th>19081</th>\n",
       "      <td>0</td>\n",
       "      <td>50</td>\n",
       "      <td>in our opinion the moon is moving away from th...</td>\n",
       "      <td>734.0</td>\n",
       "      <td>102.0</td>\n",
       "      <td>7.0</td>\n",
       "      <td>2.0</td>\n",
       "      <td>1.0</td>\n",
       "      <td>53</td>\n",
       "      <td>False</td>\n",
       "      <td>False</td>\n",
       "      <td>False</td>\n",
       "    </tr>\n",
       "    <tr>\n",
       "      <th>19082</th>\n",
       "      <td>0</td>\n",
       "      <td>8</td>\n",
       "      <td>in our opinion lightning strikes somewhere on ...</td>\n",
       "      <td>3394.0</td>\n",
       "      <td>655.0</td>\n",
       "      <td>123.0</td>\n",
       "      <td>11.0</td>\n",
       "      <td>4.0</td>\n",
       "      <td>80</td>\n",
       "      <td>False</td>\n",
       "      <td>False</td>\n",
       "      <td>False</td>\n",
       "    </tr>\n",
       "    <tr>\n",
       "      <th>19083</th>\n",
       "      <td>0</td>\n",
       "      <td>58</td>\n",
       "      <td>in our opinion a pineapple plant can only prod...</td>\n",
       "      <td>5034.0</td>\n",
       "      <td>815.0</td>\n",
       "      <td>281.0</td>\n",
       "      <td>11.0</td>\n",
       "      <td>1.0</td>\n",
       "      <td>70</td>\n",
       "      <td>False</td>\n",
       "      <td>False</td>\n",
       "      <td>False</td>\n",
       "    </tr>\n",
       "  </tbody>\n",
       "</table>\n",
       "</div>"
      ],
      "text/plain": [
       "       claim_status  video_duration_sec  \\\n",
       "19079             0                  49   \n",
       "19080             0                  23   \n",
       "19081             0                  50   \n",
       "19082             0                   8   \n",
       "19083             0                  58   \n",
       "\n",
       "                                video_transcription_text  video_view_count  \\\n",
       "19079  in our opinion the earth holds about 11 quinti...            6067.0   \n",
       "19080  in our opinion the queens in ant colonies live...            2973.0   \n",
       "19081  in our opinion the moon is moving away from th...             734.0   \n",
       "19082  in our opinion lightning strikes somewhere on ...            3394.0   \n",
       "19083  in our opinion a pineapple plant can only prod...            5034.0   \n",
       "\n",
       "       video_like_count  video_share_count  video_download_count  \\\n",
       "19079             423.0               81.0                   8.0   \n",
       "19080             820.0               70.0                   3.0   \n",
       "19081             102.0                7.0                   2.0   \n",
       "19082             655.0              123.0                  11.0   \n",
       "19083             815.0              281.0                  11.0   \n",
       "\n",
       "       video_comment_count  text_length  verified_status_verified  \\\n",
       "19079                  2.0           65                     False   \n",
       "19080                  0.0           66                     False   \n",
       "19081                  1.0           53                     False   \n",
       "19082                  4.0           80                     False   \n",
       "19083                  1.0           70                     False   \n",
       "\n",
       "       author_ban_status_banned  author_ban_status_under review  \n",
       "19079                     False                           False  \n",
       "19080                     False                           False  \n",
       "19081                     False                           False  \n",
       "19082                     False                           False  \n",
       "19083                     False                           False  "
      ]
     },
     "execution_count": 17,
     "metadata": {},
     "output_type": "execute_result"
    }
   ],
   "source": [
    "# Create a copy of the X data\n",
    "### YOUR CODE HERE ###\n",
    "X = data.copy()\n",
    "\n",
    "# Drop unnecessary columns\n",
    "### YOUR CODE HERE ###\n",
    "X = X.drop(['#', 'video_id'], axis=1)\n",
    "\n",
    "# Encode target variable\n",
    "### YOUR CODE HERE ###\n",
    "X['claim_status'] = X['claim_status'].replace({'opinion': 0, 'claim': 1})\n",
    "\n",
    "# Dummy encode remaining categorical values\n",
    "### YOUR CODE HERE ###\n",
    "X = pd.get_dummies(X, columns=['verified_status', 'author_ban_status'],drop_first=True)\n",
    "\n",
    "X.tail()"
   ]
  },
  {
   "cell_type": "markdown",
   "id": "e29bbb42",
   "metadata": {
    "id": "6frX3ATWZVgL",
    "papermill": {
     "duration": 0.019035,
     "end_time": "2025-02-16T03:37:33.744651",
     "exception": false,
     "start_time": "2025-02-16T03:37:33.725616",
     "status": "completed"
    },
    "tags": []
   },
   "source": [
    "### **Task 4: Split the data**"
   ]
  },
  {
   "cell_type": "markdown",
   "id": "dff93282",
   "metadata": {
    "papermill": {
     "duration": 0.018654,
     "end_time": "2025-02-16T03:37:33.782194",
     "exception": false,
     "start_time": "2025-02-16T03:37:33.763540",
     "status": "completed"
    },
    "tags": []
   },
   "source": [
    "Assign target variable."
   ]
  },
  {
   "cell_type": "code",
   "execution_count": 18,
   "id": "4ca26c2e",
   "metadata": {
    "execution": {
     "iopub.execute_input": "2025-02-16T03:37:33.821733Z",
     "iopub.status.busy": "2025-02-16T03:37:33.821330Z",
     "iopub.status.idle": "2025-02-16T03:37:33.825625Z",
     "shell.execute_reply": "2025-02-16T03:37:33.824642Z"
    },
    "papermill": {
     "duration": 0.025957,
     "end_time": "2025-02-16T03:37:33.827268",
     "exception": false,
     "start_time": "2025-02-16T03:37:33.801311",
     "status": "completed"
    },
    "tags": []
   },
   "outputs": [],
   "source": [
    "# Isolate target variable\n",
    "### YOUR CODE HERE ###\n",
    "y = X['claim_status']"
   ]
  },
  {
   "cell_type": "markdown",
   "id": "f78a0ee8",
   "metadata": {
    "papermill": {
     "duration": 0.020292,
     "end_time": "2025-02-16T03:37:33.868671",
     "exception": false,
     "start_time": "2025-02-16T03:37:33.848379",
     "status": "completed"
    },
    "tags": []
   },
   "source": [
    "Isolate the features."
   ]
  },
  {
   "cell_type": "code",
   "execution_count": 19,
   "id": "06f73e8a",
   "metadata": {
    "execution": {
     "iopub.execute_input": "2025-02-16T03:37:33.909934Z",
     "iopub.status.busy": "2025-02-16T03:37:33.909547Z",
     "iopub.status.idle": "2025-02-16T03:37:33.926856Z",
     "shell.execute_reply": "2025-02-16T03:37:33.925567Z"
    },
    "papermill": {
     "duration": 0.04047,
     "end_time": "2025-02-16T03:37:33.928825",
     "exception": false,
     "start_time": "2025-02-16T03:37:33.888355",
     "status": "completed"
    },
    "tags": []
   },
   "outputs": [
    {
     "data": {
      "text/html": [
       "<div>\n",
       "<style scoped>\n",
       "    .dataframe tbody tr th:only-of-type {\n",
       "        vertical-align: middle;\n",
       "    }\n",
       "\n",
       "    .dataframe tbody tr th {\n",
       "        vertical-align: top;\n",
       "    }\n",
       "\n",
       "    .dataframe thead th {\n",
       "        text-align: right;\n",
       "    }\n",
       "</style>\n",
       "<table border=\"1\" class=\"dataframe\">\n",
       "  <thead>\n",
       "    <tr style=\"text-align: right;\">\n",
       "      <th></th>\n",
       "      <th>video_duration_sec</th>\n",
       "      <th>video_view_count</th>\n",
       "      <th>video_like_count</th>\n",
       "      <th>video_share_count</th>\n",
       "      <th>video_download_count</th>\n",
       "      <th>video_comment_count</th>\n",
       "      <th>text_length</th>\n",
       "      <th>verified_status_verified</th>\n",
       "      <th>author_ban_status_banned</th>\n",
       "      <th>author_ban_status_under review</th>\n",
       "    </tr>\n",
       "  </thead>\n",
       "  <tbody>\n",
       "    <tr>\n",
       "      <th>0</th>\n",
       "      <td>59</td>\n",
       "      <td>343296.0</td>\n",
       "      <td>19425.0</td>\n",
       "      <td>241.0</td>\n",
       "      <td>1.0</td>\n",
       "      <td>0.0</td>\n",
       "      <td>97</td>\n",
       "      <td>False</td>\n",
       "      <td>False</td>\n",
       "      <td>True</td>\n",
       "    </tr>\n",
       "    <tr>\n",
       "      <th>1</th>\n",
       "      <td>32</td>\n",
       "      <td>140877.0</td>\n",
       "      <td>77355.0</td>\n",
       "      <td>19034.0</td>\n",
       "      <td>1161.0</td>\n",
       "      <td>684.0</td>\n",
       "      <td>107</td>\n",
       "      <td>False</td>\n",
       "      <td>False</td>\n",
       "      <td>False</td>\n",
       "    </tr>\n",
       "    <tr>\n",
       "      <th>2</th>\n",
       "      <td>31</td>\n",
       "      <td>902185.0</td>\n",
       "      <td>97690.0</td>\n",
       "      <td>2858.0</td>\n",
       "      <td>833.0</td>\n",
       "      <td>329.0</td>\n",
       "      <td>137</td>\n",
       "      <td>False</td>\n",
       "      <td>False</td>\n",
       "      <td>False</td>\n",
       "    </tr>\n",
       "    <tr>\n",
       "      <th>3</th>\n",
       "      <td>25</td>\n",
       "      <td>437506.0</td>\n",
       "      <td>239954.0</td>\n",
       "      <td>34812.0</td>\n",
       "      <td>1234.0</td>\n",
       "      <td>584.0</td>\n",
       "      <td>131</td>\n",
       "      <td>False</td>\n",
       "      <td>False</td>\n",
       "      <td>False</td>\n",
       "    </tr>\n",
       "    <tr>\n",
       "      <th>4</th>\n",
       "      <td>19</td>\n",
       "      <td>56167.0</td>\n",
       "      <td>34987.0</td>\n",
       "      <td>4110.0</td>\n",
       "      <td>547.0</td>\n",
       "      <td>152.0</td>\n",
       "      <td>128</td>\n",
       "      <td>False</td>\n",
       "      <td>False</td>\n",
       "      <td>False</td>\n",
       "    </tr>\n",
       "  </tbody>\n",
       "</table>\n",
       "</div>"
      ],
      "text/plain": [
       "   video_duration_sec  video_view_count  video_like_count  video_share_count  \\\n",
       "0                  59          343296.0           19425.0              241.0   \n",
       "1                  32          140877.0           77355.0            19034.0   \n",
       "2                  31          902185.0           97690.0             2858.0   \n",
       "3                  25          437506.0          239954.0            34812.0   \n",
       "4                  19           56167.0           34987.0             4110.0   \n",
       "\n",
       "   video_download_count  video_comment_count  text_length  \\\n",
       "0                   1.0                  0.0           97   \n",
       "1                1161.0                684.0          107   \n",
       "2                 833.0                329.0          137   \n",
       "3                1234.0                584.0          131   \n",
       "4                 547.0                152.0          128   \n",
       "\n",
       "   verified_status_verified  author_ban_status_banned  \\\n",
       "0                     False                     False   \n",
       "1                     False                     False   \n",
       "2                     False                     False   \n",
       "3                     False                     False   \n",
       "4                     False                     False   \n",
       "\n",
       "   author_ban_status_under review  \n",
       "0                            True  \n",
       "1                           False  \n",
       "2                           False  \n",
       "3                           False  \n",
       "4                           False  "
      ]
     },
     "execution_count": 19,
     "metadata": {},
     "output_type": "execute_result"
    }
   ],
   "source": [
    "# Isolate features\n",
    "### YOUR CODE HERE ###\n",
    "X = X.drop(['claim_status', 'video_transcription_text'], axis=1)\n",
    "\n",
    "# Display first few rows of features dataframe\n",
    "### YOUR CODE HERE ###\n",
    "X.head()"
   ]
  },
  {
   "cell_type": "markdown",
   "id": "094a25d7",
   "metadata": {
    "papermill": {
     "duration": 0.018947,
     "end_time": "2025-02-16T03:37:33.967208",
     "exception": false,
     "start_time": "2025-02-16T03:37:33.948261",
     "status": "completed"
    },
    "tags": []
   },
   "source": [
    "#### **Task 5: Create train/validate/test sets**"
   ]
  },
  {
   "cell_type": "markdown",
   "id": "63de035a",
   "metadata": {
    "id": "i_3k0QfaNt1R",
    "papermill": {
     "duration": 0.019081,
     "end_time": "2025-02-16T03:37:34.005532",
     "exception": false,
     "start_time": "2025-02-16T03:37:33.986451",
     "status": "completed"
    },
    "tags": []
   },
   "source": [
    "Split data into training and testing sets, 80/20."
   ]
  },
  {
   "cell_type": "code",
   "execution_count": 20,
   "id": "652d97fc",
   "metadata": {
    "execution": {
     "iopub.execute_input": "2025-02-16T03:37:34.046084Z",
     "iopub.status.busy": "2025-02-16T03:37:34.045707Z",
     "iopub.status.idle": "2025-02-16T03:37:34.054620Z",
     "shell.execute_reply": "2025-02-16T03:37:34.053602Z"
    },
    "id": "D5OpxNZYOISV",
    "papermill": {
     "duration": 0.031371,
     "end_time": "2025-02-16T03:37:34.056552",
     "exception": false,
     "start_time": "2025-02-16T03:37:34.025181",
     "status": "completed"
    },
    "tags": []
   },
   "outputs": [],
   "source": [
    "# Split the data into training and testing sets\n",
    "### YOUR CODE HERE ###\n",
    "X_train_val, X_test, y_train_val, y_test = train_test_split(X, y, test_size=0.2, random_state=0)"
   ]
  },
  {
   "cell_type": "markdown",
   "id": "54b46b3b",
   "metadata": {
    "id": "rbpnEjop82zL",
    "papermill": {
     "duration": 0.019,
     "end_time": "2025-02-16T03:37:34.095050",
     "exception": false,
     "start_time": "2025-02-16T03:37:34.076050",
     "status": "completed"
    },
    "tags": []
   },
   "source": [
    "Split the training set into training and validation sets, 75/25, to result in a final ratio of 60/20/20 for train/validate/test sets."
   ]
  },
  {
   "cell_type": "code",
   "execution_count": 21,
   "id": "98c7d703",
   "metadata": {
    "execution": {
     "iopub.execute_input": "2025-02-16T03:37:34.135352Z",
     "iopub.status.busy": "2025-02-16T03:37:34.135003Z",
     "iopub.status.idle": "2025-02-16T03:37:34.143761Z",
     "shell.execute_reply": "2025-02-16T03:37:34.142530Z"
    },
    "id": "A9O-DjLxOJvT",
    "papermill": {
     "duration": 0.031239,
     "end_time": "2025-02-16T03:37:34.146052",
     "exception": false,
     "start_time": "2025-02-16T03:37:34.114813",
     "status": "completed"
    },
    "tags": []
   },
   "outputs": [],
   "source": [
    "# Split the training data into training and validation sets\n",
    "### YOUR CODE HERE ###\n",
    "X_train, X_val, y_train, y_val = train_test_split(X_train_val, y_train_val, test_size=0.25, random_state=0)"
   ]
  },
  {
   "cell_type": "markdown",
   "id": "70df611e",
   "metadata": {
    "id": "tJ60GPLdOMXr",
    "papermill": {
     "duration": 0.019022,
     "end_time": "2025-02-16T03:37:34.184577",
     "exception": false,
     "start_time": "2025-02-16T03:37:34.165555",
     "status": "completed"
    },
    "tags": []
   },
   "source": [
    "Confirm that the dimensions of the training, validation, and testing sets are in alignment."
   ]
  },
  {
   "cell_type": "code",
   "execution_count": 22,
   "id": "cc409368",
   "metadata": {
    "execution": {
     "iopub.execute_input": "2025-02-16T03:37:34.224813Z",
     "iopub.status.busy": "2025-02-16T03:37:34.224371Z",
     "iopub.status.idle": "2025-02-16T03:37:34.231213Z",
     "shell.execute_reply": "2025-02-16T03:37:34.230181Z"
    },
    "id": "TefBRXUu8zWR",
    "papermill": {
     "duration": 0.029213,
     "end_time": "2025-02-16T03:37:34.233156",
     "exception": false,
     "start_time": "2025-02-16T03:37:34.203943",
     "status": "completed"
    },
    "tags": []
   },
   "outputs": [
    {
     "name": "stdout",
     "output_type": "stream",
     "text": [
      "X train | val | test: (11450, 10) (3817, 10) (3817, 10)\n",
      "\n",
      "y train | val | test: (11450,) (3817,) (3817,)\n"
     ]
    }
   ],
   "source": [
    "# Get shape of each training, validation, and testing set\n",
    "### YOUR CODE HERE ###\n",
    "print('X train | val | test:', X_train.shape, X_val.shape, X_test.shape)\n",
    "print()\n",
    "print('y train | val | test:',y_train.shape, y_val.shape, y_test.shape)"
   ]
  },
  {
   "cell_type": "markdown",
   "id": "2042aad2",
   "metadata": {
    "id": "3_es-Jh1atUz",
    "papermill": {
     "duration": 0.019838,
     "end_time": "2025-02-16T03:37:34.273572",
     "exception": false,
     "start_time": "2025-02-16T03:37:34.253734",
     "status": "completed"
    },
    "tags": []
   },
   "source": [
    "### **Task 6. Build models**\n"
   ]
  },
  {
   "cell_type": "markdown",
   "id": "ece91e2c",
   "metadata": {
    "id": "HdBwwccoP0SU",
    "papermill": {
     "duration": 0.018752,
     "end_time": "2025-02-16T03:37:34.311894",
     "exception": false,
     "start_time": "2025-02-16T03:37:34.293142",
     "status": "completed"
    },
    "tags": []
   },
   "source": [
    "### **Build a random forest model**"
   ]
  },
  {
   "cell_type": "markdown",
   "id": "e1e55600",
   "metadata": {
    "id": "ty8ieBkDBH4g",
    "papermill": {
     "duration": 0.01921,
     "end_time": "2025-02-16T03:37:34.350941",
     "exception": false,
     "start_time": "2025-02-16T03:37:34.331731",
     "status": "completed"
    },
    "tags": []
   },
   "source": [
    "Fit a random forest model to the training set. Use cross-validation to tune the hyperparameters and select the model that performs best on recall."
   ]
  },
  {
   "cell_type": "code",
   "execution_count": 23,
   "id": "26adf60a",
   "metadata": {
    "execution": {
     "iopub.execute_input": "2025-02-16T03:37:34.391389Z",
     "iopub.status.busy": "2025-02-16T03:37:34.390988Z",
     "iopub.status.idle": "2025-02-16T03:37:34.397052Z",
     "shell.execute_reply": "2025-02-16T03:37:34.395816Z"
    },
    "id": "sNcke2SNvZrN",
    "papermill": {
     "duration": 0.028488,
     "end_time": "2025-02-16T03:37:34.398953",
     "exception": false,
     "start_time": "2025-02-16T03:37:34.370465",
     "status": "completed"
    },
    "tags": []
   },
   "outputs": [],
   "source": [
    "# Instantiate the random forest classifier\n",
    "### YOUR CODE HERE ###\n",
    "rf = RandomForestClassifier(random_state=0)\n",
    "\n",
    "# Create a dictionary of hyperparameters to tune\n",
    "### YOUR CODE HERE ###\n",
    "\n",
    "# commented the full validation hyperparameters after finding the best hyperparams\n",
    "#cv_params = {'max_depth': [5, 7, None],\n",
    "#             'max_features': [0.3, 0.6],\n",
    "#            #  'max_features': 'auto'\n",
    "#             'max_samples': [0.7],\n",
    "#             'min_samples_leaf': [1,2],\n",
    "#             'min_samples_split': [2,3],\n",
    "#             'n_estimators': [75,100,200],\n",
    "#             }\n",
    "\n",
    "cv_params = {'max_depth': [None],\n",
    "             'max_features': [0.6],\n",
    "            #  'max_features': 'auto'\n",
    "             'max_samples': [0.7],\n",
    "             'min_samples_leaf': [1],\n",
    "             'min_samples_split': [2],\n",
    "             'n_estimators': [200],\n",
    "             }\n",
    "\n",
    "\n",
    "# Define a list of scoring metrics to capture\n",
    "### YOUR CODE HERE ###\n",
    "scoring = ['accuracy', 'precision', 'recall', 'f1']\n",
    "\n",
    "# Instantiate the GridSearchCV object\n",
    "### YOUR CODE HERE ###\n",
    "rf_cv = GridSearchCV(rf, cv_params, scoring=scoring, cv=5, refit='recall')"
   ]
  },
  {
   "cell_type": "code",
   "execution_count": 24,
   "id": "9faf0c57",
   "metadata": {
    "execution": {
     "iopub.execute_input": "2025-02-16T03:37:34.439552Z",
     "iopub.status.busy": "2025-02-16T03:37:34.439139Z",
     "iopub.status.idle": "2025-02-16T03:37:48.150991Z",
     "shell.execute_reply": "2025-02-16T03:37:48.149781Z"
    },
    "papermill": {
     "duration": 13.734224,
     "end_time": "2025-02-16T03:37:48.152842",
     "exception": false,
     "start_time": "2025-02-16T03:37:34.418618",
     "status": "completed"
    },
    "tags": []
   },
   "outputs": [
    {
     "data": {
      "text/html": [
       "<style>#sk-container-id-1 {color: black;background-color: white;}#sk-container-id-1 pre{padding: 0;}#sk-container-id-1 div.sk-toggleable {background-color: white;}#sk-container-id-1 label.sk-toggleable__label {cursor: pointer;display: block;width: 100%;margin-bottom: 0;padding: 0.3em;box-sizing: border-box;text-align: center;}#sk-container-id-1 label.sk-toggleable__label-arrow:before {content: \"▸\";float: left;margin-right: 0.25em;color: #696969;}#sk-container-id-1 label.sk-toggleable__label-arrow:hover:before {color: black;}#sk-container-id-1 div.sk-estimator:hover label.sk-toggleable__label-arrow:before {color: black;}#sk-container-id-1 div.sk-toggleable__content {max-height: 0;max-width: 0;overflow: hidden;text-align: left;background-color: #f0f8ff;}#sk-container-id-1 div.sk-toggleable__content pre {margin: 0.2em;color: black;border-radius: 0.25em;background-color: #f0f8ff;}#sk-container-id-1 input.sk-toggleable__control:checked~div.sk-toggleable__content {max-height: 200px;max-width: 100%;overflow: auto;}#sk-container-id-1 input.sk-toggleable__control:checked~label.sk-toggleable__label-arrow:before {content: \"▾\";}#sk-container-id-1 div.sk-estimator input.sk-toggleable__control:checked~label.sk-toggleable__label {background-color: #d4ebff;}#sk-container-id-1 div.sk-label input.sk-toggleable__control:checked~label.sk-toggleable__label {background-color: #d4ebff;}#sk-container-id-1 input.sk-hidden--visually {border: 0;clip: rect(1px 1px 1px 1px);clip: rect(1px, 1px, 1px, 1px);height: 1px;margin: -1px;overflow: hidden;padding: 0;position: absolute;width: 1px;}#sk-container-id-1 div.sk-estimator {font-family: monospace;background-color: #f0f8ff;border: 1px dotted black;border-radius: 0.25em;box-sizing: border-box;margin-bottom: 0.5em;}#sk-container-id-1 div.sk-estimator:hover {background-color: #d4ebff;}#sk-container-id-1 div.sk-parallel-item::after {content: \"\";width: 100%;border-bottom: 1px solid gray;flex-grow: 1;}#sk-container-id-1 div.sk-label:hover label.sk-toggleable__label {background-color: #d4ebff;}#sk-container-id-1 div.sk-serial::before {content: \"\";position: absolute;border-left: 1px solid gray;box-sizing: border-box;top: 0;bottom: 0;left: 50%;z-index: 0;}#sk-container-id-1 div.sk-serial {display: flex;flex-direction: column;align-items: center;background-color: white;padding-right: 0.2em;padding-left: 0.2em;position: relative;}#sk-container-id-1 div.sk-item {position: relative;z-index: 1;}#sk-container-id-1 div.sk-parallel {display: flex;align-items: stretch;justify-content: center;background-color: white;position: relative;}#sk-container-id-1 div.sk-item::before, #sk-container-id-1 div.sk-parallel-item::before {content: \"\";position: absolute;border-left: 1px solid gray;box-sizing: border-box;top: 0;bottom: 0;left: 50%;z-index: -1;}#sk-container-id-1 div.sk-parallel-item {display: flex;flex-direction: column;z-index: 1;position: relative;background-color: white;}#sk-container-id-1 div.sk-parallel-item:first-child::after {align-self: flex-end;width: 50%;}#sk-container-id-1 div.sk-parallel-item:last-child::after {align-self: flex-start;width: 50%;}#sk-container-id-1 div.sk-parallel-item:only-child::after {width: 0;}#sk-container-id-1 div.sk-dashed-wrapped {border: 1px dashed gray;margin: 0 0.4em 0.5em 0.4em;box-sizing: border-box;padding-bottom: 0.4em;background-color: white;}#sk-container-id-1 div.sk-label label {font-family: monospace;font-weight: bold;display: inline-block;line-height: 1.2em;}#sk-container-id-1 div.sk-label-container {text-align: center;}#sk-container-id-1 div.sk-container {/* jupyter's `normalize.less` sets `[hidden] { display: none; }` but bootstrap.min.css set `[hidden] { display: none !important; }` so we also need the `!important` here to be able to override the default hidden behavior on the sphinx rendered scikit-learn.org. See: https://github.com/scikit-learn/scikit-learn/issues/21755 */display: inline-block !important;position: relative;}#sk-container-id-1 div.sk-text-repr-fallback {display: none;}</style><div id=\"sk-container-id-1\" class=\"sk-top-container\"><div class=\"sk-text-repr-fallback\"><pre>GridSearchCV(cv=5, estimator=RandomForestClassifier(random_state=0),\n",
       "             param_grid={&#x27;max_depth&#x27;: [None], &#x27;max_features&#x27;: [0.6],\n",
       "                         &#x27;max_samples&#x27;: [0.7], &#x27;min_samples_leaf&#x27;: [1],\n",
       "                         &#x27;min_samples_split&#x27;: [2], &#x27;n_estimators&#x27;: [200]},\n",
       "             refit=&#x27;recall&#x27;, scoring=[&#x27;accuracy&#x27;, &#x27;precision&#x27;, &#x27;recall&#x27;, &#x27;f1&#x27;])</pre><b>In a Jupyter environment, please rerun this cell to show the HTML representation or trust the notebook. <br />On GitHub, the HTML representation is unable to render, please try loading this page with nbviewer.org.</b></div><div class=\"sk-container\" hidden><div class=\"sk-item sk-dashed-wrapped\"><div class=\"sk-label-container\"><div class=\"sk-label sk-toggleable\"><input class=\"sk-toggleable__control sk-hidden--visually\" id=\"sk-estimator-id-1\" type=\"checkbox\" ><label for=\"sk-estimator-id-1\" class=\"sk-toggleable__label sk-toggleable__label-arrow\">GridSearchCV</label><div class=\"sk-toggleable__content\"><pre>GridSearchCV(cv=5, estimator=RandomForestClassifier(random_state=0),\n",
       "             param_grid={&#x27;max_depth&#x27;: [None], &#x27;max_features&#x27;: [0.6],\n",
       "                         &#x27;max_samples&#x27;: [0.7], &#x27;min_samples_leaf&#x27;: [1],\n",
       "                         &#x27;min_samples_split&#x27;: [2], &#x27;n_estimators&#x27;: [200]},\n",
       "             refit=&#x27;recall&#x27;, scoring=[&#x27;accuracy&#x27;, &#x27;precision&#x27;, &#x27;recall&#x27;, &#x27;f1&#x27;])</pre></div></div></div><div class=\"sk-parallel\"><div class=\"sk-parallel-item\"><div class=\"sk-item\"><div class=\"sk-label-container\"><div class=\"sk-label sk-toggleable\"><input class=\"sk-toggleable__control sk-hidden--visually\" id=\"sk-estimator-id-2\" type=\"checkbox\" ><label for=\"sk-estimator-id-2\" class=\"sk-toggleable__label sk-toggleable__label-arrow\">estimator: RandomForestClassifier</label><div class=\"sk-toggleable__content\"><pre>RandomForestClassifier(random_state=0)</pre></div></div></div><div class=\"sk-serial\"><div class=\"sk-item\"><div class=\"sk-estimator sk-toggleable\"><input class=\"sk-toggleable__control sk-hidden--visually\" id=\"sk-estimator-id-3\" type=\"checkbox\" ><label for=\"sk-estimator-id-3\" class=\"sk-toggleable__label sk-toggleable__label-arrow\">RandomForestClassifier</label><div class=\"sk-toggleable__content\"><pre>RandomForestClassifier(random_state=0)</pre></div></div></div></div></div></div></div></div></div></div>"
      ],
      "text/plain": [
       "GridSearchCV(cv=5, estimator=RandomForestClassifier(random_state=0),\n",
       "             param_grid={'max_depth': [None], 'max_features': [0.6],\n",
       "                         'max_samples': [0.7], 'min_samples_leaf': [1],\n",
       "                         'min_samples_split': [2], 'n_estimators': [200]},\n",
       "             refit='recall', scoring=['accuracy', 'precision', 'recall', 'f1'])"
      ]
     },
     "execution_count": 24,
     "metadata": {},
     "output_type": "execute_result"
    }
   ],
   "source": [
    "### Fit the model to the data \n",
    "### YOUR CODE HERE ###\n",
    "rf_cv.fit(X_train, y_train)"
   ]
  },
  {
   "cell_type": "code",
   "execution_count": 25,
   "id": "beb716ac",
   "metadata": {
    "execution": {
     "iopub.execute_input": "2025-02-16T03:37:48.195100Z",
     "iopub.status.busy": "2025-02-16T03:37:48.194695Z",
     "iopub.status.idle": "2025-02-16T03:37:48.200521Z",
     "shell.execute_reply": "2025-02-16T03:37:48.199487Z"
    },
    "id": "ZG3B_POzPh1s",
    "papermill": {
     "duration": 0.028901,
     "end_time": "2025-02-16T03:37:48.202272",
     "exception": false,
     "start_time": "2025-02-16T03:37:48.173371",
     "status": "completed"
    },
    "tags": []
   },
   "outputs": [
    {
     "data": {
      "text/plain": [
       "0.9908534395531852"
      ]
     },
     "execution_count": 25,
     "metadata": {},
     "output_type": "execute_result"
    }
   ],
   "source": [
    "# Examine best recall score\n",
    "### YOUR CODE HERE ###\n",
    "rf_cv.best_score_"
   ]
  },
  {
   "cell_type": "code",
   "execution_count": 26,
   "id": "1d09eebb",
   "metadata": {
    "execution": {
     "iopub.execute_input": "2025-02-16T03:37:48.244365Z",
     "iopub.status.busy": "2025-02-16T03:37:48.243983Z",
     "iopub.status.idle": "2025-02-16T03:37:48.250033Z",
     "shell.execute_reply": "2025-02-16T03:37:48.248937Z"
    },
    "id": "-qzIDhk-Pq62",
    "papermill": {
     "duration": 0.029295,
     "end_time": "2025-02-16T03:37:48.251926",
     "exception": false,
     "start_time": "2025-02-16T03:37:48.222631",
     "status": "completed"
    },
    "tags": []
   },
   "outputs": [
    {
     "data": {
      "text/plain": [
       "{'max_depth': None,\n",
       " 'max_features': 0.6,\n",
       " 'max_samples': 0.7,\n",
       " 'min_samples_leaf': 1,\n",
       " 'min_samples_split': 2,\n",
       " 'n_estimators': 200}"
      ]
     },
     "execution_count": 26,
     "metadata": {},
     "output_type": "execute_result"
    }
   ],
   "source": [
    "# Examine best parameters\n",
    "### YOUR CODE HERE ###\n",
    "rf_cv.best_params_"
   ]
  },
  {
   "cell_type": "markdown",
   "id": "755a9da9",
   "metadata": {
    "papermill": {
     "duration": 0.020389,
     "end_time": "2025-02-16T03:37:48.292709",
     "exception": false,
     "start_time": "2025-02-16T03:37:48.272320",
     "status": "completed"
    },
    "tags": []
   },
   "source": [
    "Check the precision score to make sure the model isn't labeling everything as claims. You can do this by using the `cv_results_` attribute of the fit `GridSearchCV` object, which returns a numpy array that can be converted to a pandas dataframe. Then, examine the `mean_test_precision` column of this dataframe at the index containing the results from the best model. This index can be accessed by using the `best_index_` attribute of the fit `GridSearchCV` object."
   ]
  },
  {
   "cell_type": "code",
   "execution_count": 27,
   "id": "9e8cf23e",
   "metadata": {
    "execution": {
     "iopub.execute_input": "2025-02-16T03:37:48.335728Z",
     "iopub.status.busy": "2025-02-16T03:37:48.335325Z",
     "iopub.status.idle": "2025-02-16T03:37:48.345176Z",
     "shell.execute_reply": "2025-02-16T03:37:48.344193Z"
    },
    "papermill": {
     "duration": 0.03379,
     "end_time": "2025-02-16T03:37:48.346992",
     "exception": false,
     "start_time": "2025-02-16T03:37:48.313202",
     "status": "completed"
    },
    "tags": []
   },
   "outputs": [
    {
     "name": "stdout",
     "output_type": "stream",
     "text": [
      "Mean recall of random forest:  0.9908534395531852\n",
      "Mean precision of random forest:  0.9994785483051682\n"
     ]
    }
   ],
   "source": [
    "# Access the GridSearch results and convert it to a pandas df\n",
    "### YOUR CODE HERE ###\n",
    "rf_results_df = pd.DataFrame(rf_cv.cv_results_)\n",
    "\n",
    "# Examine the GridSearch results df at column `mean_test_precision` in the best index\n",
    "### YOUR CODE HERE ###\n",
    "print('Mean recall of random forest: ',rf_results_df['mean_test_recall'][rf_cv.best_index_])\n",
    "print('Mean precision of random forest: ',rf_results_df['mean_test_precision'][rf_cv.best_index_])"
   ]
  },
  {
   "cell_type": "markdown",
   "id": "1a347b6f",
   "metadata": {
    "id": "Sk2udvx9v3wt",
    "papermill": {
     "duration": 0.020157,
     "end_time": "2025-02-16T03:37:48.387876",
     "exception": false,
     "start_time": "2025-02-16T03:37:48.367719",
     "status": "completed"
    },
    "tags": []
   },
   "source": [
    "**Question:** How well is your model performing? Consider average recall score and precision score.\n",
    "\n",
    "* The random forest model performed really well\n",
    "* Average Recall = 0.9909\n",
    "* Average Precision = 0.9995"
   ]
  },
  {
   "cell_type": "markdown",
   "id": "36a397c5",
   "metadata": {
    "id": "JbdcI-94QNYL",
    "papermill": {
     "duration": 0.02,
     "end_time": "2025-02-16T03:37:48.428291",
     "exception": false,
     "start_time": "2025-02-16T03:37:48.408291",
     "status": "completed"
    },
    "tags": []
   },
   "source": [
    "### **Build an XGBoost model**"
   ]
  },
  {
   "cell_type": "code",
   "execution_count": 28,
   "id": "7c211372",
   "metadata": {
    "execution": {
     "iopub.execute_input": "2025-02-16T03:37:48.470772Z",
     "iopub.status.busy": "2025-02-16T03:37:48.470332Z",
     "iopub.status.idle": "2025-02-16T03:37:48.476095Z",
     "shell.execute_reply": "2025-02-16T03:37:48.475014Z"
    },
    "id": "A8vLZ_x_QPpF",
    "papermill": {
     "duration": 0.02919,
     "end_time": "2025-02-16T03:37:48.477902",
     "exception": false,
     "start_time": "2025-02-16T03:37:48.448712",
     "status": "completed"
    },
    "tags": []
   },
   "outputs": [],
   "source": [
    "# Instantiate the XGBoost classifier\n",
    "### YOUR CODE HERE ###\n",
    "xgb = XGBClassifier(objective='binary:logistic', random_state=0)\n",
    "\n",
    "# Create a dictionary of hyperparameters to tune\n",
    "### YOUR CODE HERE ###\n",
    "\n",
    "# commented the full validation hyperparameters after finding the best hyperparams\n",
    "#cv_params = {'max_depth': [4,8,12],\n",
    "#             'min_child_weight': [3, 5],\n",
    "#             'learning_rate': [0.01, 0.1],\n",
    "#             'n_estimators': [300, 500]\n",
    "#             }\n",
    "\n",
    "\n",
    "cv_params = {'max_depth': [4],\n",
    "             'min_child_weight': [5],\n",
    "             'learning_rate': [0.1],\n",
    "             'n_estimators': [300]\n",
    "             }\n",
    "\n",
    "# Define a list of scoring metrics to capture\n",
    "### YOUR CODE HERE ###\n",
    "scoring = ['accuracy', 'precision', 'recall', 'f1']\n",
    "\n",
    "# Instantiate the GridSearchCV object\n",
    "### YOUR CODE HERE ###\n",
    "xgb_cv = GridSearchCV(xgb, cv_params, scoring=scoring, cv=5, refit='recall')"
   ]
  },
  {
   "cell_type": "code",
   "execution_count": 29,
   "id": "c2087378",
   "metadata": {
    "execution": {
     "iopub.execute_input": "2025-02-16T03:37:48.520451Z",
     "iopub.status.busy": "2025-02-16T03:37:48.520078Z",
     "iopub.status.idle": "2025-02-16T03:37:50.103212Z",
     "shell.execute_reply": "2025-02-16T03:37:50.102008Z"
    },
    "papermill": {
     "duration": 1.606538,
     "end_time": "2025-02-16T03:37:50.105182",
     "exception": false,
     "start_time": "2025-02-16T03:37:48.498644",
     "status": "completed"
    },
    "tags": []
   },
   "outputs": [
    {
     "data": {
      "text/html": [
       "<style>#sk-container-id-2 {color: black;background-color: white;}#sk-container-id-2 pre{padding: 0;}#sk-container-id-2 div.sk-toggleable {background-color: white;}#sk-container-id-2 label.sk-toggleable__label {cursor: pointer;display: block;width: 100%;margin-bottom: 0;padding: 0.3em;box-sizing: border-box;text-align: center;}#sk-container-id-2 label.sk-toggleable__label-arrow:before {content: \"▸\";float: left;margin-right: 0.25em;color: #696969;}#sk-container-id-2 label.sk-toggleable__label-arrow:hover:before {color: black;}#sk-container-id-2 div.sk-estimator:hover label.sk-toggleable__label-arrow:before {color: black;}#sk-container-id-2 div.sk-toggleable__content {max-height: 0;max-width: 0;overflow: hidden;text-align: left;background-color: #f0f8ff;}#sk-container-id-2 div.sk-toggleable__content pre {margin: 0.2em;color: black;border-radius: 0.25em;background-color: #f0f8ff;}#sk-container-id-2 input.sk-toggleable__control:checked~div.sk-toggleable__content {max-height: 200px;max-width: 100%;overflow: auto;}#sk-container-id-2 input.sk-toggleable__control:checked~label.sk-toggleable__label-arrow:before {content: \"▾\";}#sk-container-id-2 div.sk-estimator input.sk-toggleable__control:checked~label.sk-toggleable__label {background-color: #d4ebff;}#sk-container-id-2 div.sk-label input.sk-toggleable__control:checked~label.sk-toggleable__label {background-color: #d4ebff;}#sk-container-id-2 input.sk-hidden--visually {border: 0;clip: rect(1px 1px 1px 1px);clip: rect(1px, 1px, 1px, 1px);height: 1px;margin: -1px;overflow: hidden;padding: 0;position: absolute;width: 1px;}#sk-container-id-2 div.sk-estimator {font-family: monospace;background-color: #f0f8ff;border: 1px dotted black;border-radius: 0.25em;box-sizing: border-box;margin-bottom: 0.5em;}#sk-container-id-2 div.sk-estimator:hover {background-color: #d4ebff;}#sk-container-id-2 div.sk-parallel-item::after {content: \"\";width: 100%;border-bottom: 1px solid gray;flex-grow: 1;}#sk-container-id-2 div.sk-label:hover label.sk-toggleable__label {background-color: #d4ebff;}#sk-container-id-2 div.sk-serial::before {content: \"\";position: absolute;border-left: 1px solid gray;box-sizing: border-box;top: 0;bottom: 0;left: 50%;z-index: 0;}#sk-container-id-2 div.sk-serial {display: flex;flex-direction: column;align-items: center;background-color: white;padding-right: 0.2em;padding-left: 0.2em;position: relative;}#sk-container-id-2 div.sk-item {position: relative;z-index: 1;}#sk-container-id-2 div.sk-parallel {display: flex;align-items: stretch;justify-content: center;background-color: white;position: relative;}#sk-container-id-2 div.sk-item::before, #sk-container-id-2 div.sk-parallel-item::before {content: \"\";position: absolute;border-left: 1px solid gray;box-sizing: border-box;top: 0;bottom: 0;left: 50%;z-index: -1;}#sk-container-id-2 div.sk-parallel-item {display: flex;flex-direction: column;z-index: 1;position: relative;background-color: white;}#sk-container-id-2 div.sk-parallel-item:first-child::after {align-self: flex-end;width: 50%;}#sk-container-id-2 div.sk-parallel-item:last-child::after {align-self: flex-start;width: 50%;}#sk-container-id-2 div.sk-parallel-item:only-child::after {width: 0;}#sk-container-id-2 div.sk-dashed-wrapped {border: 1px dashed gray;margin: 0 0.4em 0.5em 0.4em;box-sizing: border-box;padding-bottom: 0.4em;background-color: white;}#sk-container-id-2 div.sk-label label {font-family: monospace;font-weight: bold;display: inline-block;line-height: 1.2em;}#sk-container-id-2 div.sk-label-container {text-align: center;}#sk-container-id-2 div.sk-container {/* jupyter's `normalize.less` sets `[hidden] { display: none; }` but bootstrap.min.css set `[hidden] { display: none !important; }` so we also need the `!important` here to be able to override the default hidden behavior on the sphinx rendered scikit-learn.org. See: https://github.com/scikit-learn/scikit-learn/issues/21755 */display: inline-block !important;position: relative;}#sk-container-id-2 div.sk-text-repr-fallback {display: none;}</style><div id=\"sk-container-id-2\" class=\"sk-top-container\"><div class=\"sk-text-repr-fallback\"><pre>GridSearchCV(cv=5,\n",
       "             estimator=XGBClassifier(base_score=None, booster=None,\n",
       "                                     callbacks=None, colsample_bylevel=None,\n",
       "                                     colsample_bynode=None,\n",
       "                                     colsample_bytree=None, device=None,\n",
       "                                     early_stopping_rounds=None,\n",
       "                                     enable_categorical=False, eval_metric=None,\n",
       "                                     feature_types=None, gamma=None,\n",
       "                                     grow_policy=None, importance_type=None,\n",
       "                                     interaction_constraints=None,\n",
       "                                     learning_rate=None,...\n",
       "                                     max_delta_step=None, max_depth=None,\n",
       "                                     max_leaves=None, min_child_weight=None,\n",
       "                                     missing=nan, monotone_constraints=None,\n",
       "                                     multi_strategy=None, n_estimators=None,\n",
       "                                     n_jobs=None, num_parallel_tree=None,\n",
       "                                     random_state=0, ...),\n",
       "             param_grid={&#x27;learning_rate&#x27;: [0.1], &#x27;max_depth&#x27;: [4],\n",
       "                         &#x27;min_child_weight&#x27;: [5], &#x27;n_estimators&#x27;: [300]},\n",
       "             refit=&#x27;recall&#x27;, scoring=[&#x27;accuracy&#x27;, &#x27;precision&#x27;, &#x27;recall&#x27;, &#x27;f1&#x27;])</pre><b>In a Jupyter environment, please rerun this cell to show the HTML representation or trust the notebook. <br />On GitHub, the HTML representation is unable to render, please try loading this page with nbviewer.org.</b></div><div class=\"sk-container\" hidden><div class=\"sk-item sk-dashed-wrapped\"><div class=\"sk-label-container\"><div class=\"sk-label sk-toggleable\"><input class=\"sk-toggleable__control sk-hidden--visually\" id=\"sk-estimator-id-4\" type=\"checkbox\" ><label for=\"sk-estimator-id-4\" class=\"sk-toggleable__label sk-toggleable__label-arrow\">GridSearchCV</label><div class=\"sk-toggleable__content\"><pre>GridSearchCV(cv=5,\n",
       "             estimator=XGBClassifier(base_score=None, booster=None,\n",
       "                                     callbacks=None, colsample_bylevel=None,\n",
       "                                     colsample_bynode=None,\n",
       "                                     colsample_bytree=None, device=None,\n",
       "                                     early_stopping_rounds=None,\n",
       "                                     enable_categorical=False, eval_metric=None,\n",
       "                                     feature_types=None, gamma=None,\n",
       "                                     grow_policy=None, importance_type=None,\n",
       "                                     interaction_constraints=None,\n",
       "                                     learning_rate=None,...\n",
       "                                     max_delta_step=None, max_depth=None,\n",
       "                                     max_leaves=None, min_child_weight=None,\n",
       "                                     missing=nan, monotone_constraints=None,\n",
       "                                     multi_strategy=None, n_estimators=None,\n",
       "                                     n_jobs=None, num_parallel_tree=None,\n",
       "                                     random_state=0, ...),\n",
       "             param_grid={&#x27;learning_rate&#x27;: [0.1], &#x27;max_depth&#x27;: [4],\n",
       "                         &#x27;min_child_weight&#x27;: [5], &#x27;n_estimators&#x27;: [300]},\n",
       "             refit=&#x27;recall&#x27;, scoring=[&#x27;accuracy&#x27;, &#x27;precision&#x27;, &#x27;recall&#x27;, &#x27;f1&#x27;])</pre></div></div></div><div class=\"sk-parallel\"><div class=\"sk-parallel-item\"><div class=\"sk-item\"><div class=\"sk-label-container\"><div class=\"sk-label sk-toggleable\"><input class=\"sk-toggleable__control sk-hidden--visually\" id=\"sk-estimator-id-5\" type=\"checkbox\" ><label for=\"sk-estimator-id-5\" class=\"sk-toggleable__label sk-toggleable__label-arrow\">estimator: XGBClassifier</label><div class=\"sk-toggleable__content\"><pre>XGBClassifier(base_score=None, booster=None, callbacks=None,\n",
       "              colsample_bylevel=None, colsample_bynode=None,\n",
       "              colsample_bytree=None, device=None, early_stopping_rounds=None,\n",
       "              enable_categorical=False, eval_metric=None, feature_types=None,\n",
       "              gamma=None, grow_policy=None, importance_type=None,\n",
       "              interaction_constraints=None, learning_rate=None, max_bin=None,\n",
       "              max_cat_threshold=None, max_cat_to_onehot=None,\n",
       "              max_delta_step=None, max_depth=None, max_leaves=None,\n",
       "              min_child_weight=None, missing=nan, monotone_constraints=None,\n",
       "              multi_strategy=None, n_estimators=None, n_jobs=None,\n",
       "              num_parallel_tree=None, random_state=0, ...)</pre></div></div></div><div class=\"sk-serial\"><div class=\"sk-item\"><div class=\"sk-estimator sk-toggleable\"><input class=\"sk-toggleable__control sk-hidden--visually\" id=\"sk-estimator-id-6\" type=\"checkbox\" ><label for=\"sk-estimator-id-6\" class=\"sk-toggleable__label sk-toggleable__label-arrow\">XGBClassifier</label><div class=\"sk-toggleable__content\"><pre>XGBClassifier(base_score=None, booster=None, callbacks=None,\n",
       "              colsample_bylevel=None, colsample_bynode=None,\n",
       "              colsample_bytree=None, device=None, early_stopping_rounds=None,\n",
       "              enable_categorical=False, eval_metric=None, feature_types=None,\n",
       "              gamma=None, grow_policy=None, importance_type=None,\n",
       "              interaction_constraints=None, learning_rate=None, max_bin=None,\n",
       "              max_cat_threshold=None, max_cat_to_onehot=None,\n",
       "              max_delta_step=None, max_depth=None, max_leaves=None,\n",
       "              min_child_weight=None, missing=nan, monotone_constraints=None,\n",
       "              multi_strategy=None, n_estimators=None, n_jobs=None,\n",
       "              num_parallel_tree=None, random_state=0, ...)</pre></div></div></div></div></div></div></div></div></div></div>"
      ],
      "text/plain": [
       "GridSearchCV(cv=5,\n",
       "             estimator=XGBClassifier(base_score=None, booster=None,\n",
       "                                     callbacks=None, colsample_bylevel=None,\n",
       "                                     colsample_bynode=None,\n",
       "                                     colsample_bytree=None, device=None,\n",
       "                                     early_stopping_rounds=None,\n",
       "                                     enable_categorical=False, eval_metric=None,\n",
       "                                     feature_types=None, gamma=None,\n",
       "                                     grow_policy=None, importance_type=None,\n",
       "                                     interaction_constraints=None,\n",
       "                                     learning_rate=None,...\n",
       "                                     max_delta_step=None, max_depth=None,\n",
       "                                     max_leaves=None, min_child_weight=None,\n",
       "                                     missing=nan, monotone_constraints=None,\n",
       "                                     multi_strategy=None, n_estimators=None,\n",
       "                                     n_jobs=None, num_parallel_tree=None,\n",
       "                                     random_state=0, ...),\n",
       "             param_grid={'learning_rate': [0.1], 'max_depth': [4],\n",
       "                         'min_child_weight': [5], 'n_estimators': [300]},\n",
       "             refit='recall', scoring=['accuracy', 'precision', 'recall', 'f1'])"
      ]
     },
     "execution_count": 29,
     "metadata": {},
     "output_type": "execute_result"
    }
   ],
   "source": [
    "# Fit the model to the data\n",
    "### YOUR CODE HERE ###\n",
    "xgb_cv.fit(X_train, y_train)"
   ]
  },
  {
   "cell_type": "code",
   "execution_count": 30,
   "id": "5850f6b0",
   "metadata": {
    "execution": {
     "iopub.execute_input": "2025-02-16T03:37:50.148279Z",
     "iopub.status.busy": "2025-02-16T03:37:50.147927Z",
     "iopub.status.idle": "2025-02-16T03:37:50.153670Z",
     "shell.execute_reply": "2025-02-16T03:37:50.152722Z"
    },
    "papermill": {
     "duration": 0.029257,
     "end_time": "2025-02-16T03:37:50.155305",
     "exception": false,
     "start_time": "2025-02-16T03:37:50.126048",
     "status": "completed"
    },
    "tags": []
   },
   "outputs": [
    {
     "data": {
      "text/plain": [
       "0.9898176171763818"
      ]
     },
     "execution_count": 30,
     "metadata": {},
     "output_type": "execute_result"
    }
   ],
   "source": [
    "# Examine best recall score\n",
    "### YOUR CODE HERE ###\n",
    "xgb_cv.best_score_"
   ]
  },
  {
   "cell_type": "code",
   "execution_count": 31,
   "id": "db96ec1a",
   "metadata": {
    "execution": {
     "iopub.execute_input": "2025-02-16T03:37:50.199008Z",
     "iopub.status.busy": "2025-02-16T03:37:50.198646Z",
     "iopub.status.idle": "2025-02-16T03:37:50.204581Z",
     "shell.execute_reply": "2025-02-16T03:37:50.203530Z"
    },
    "papermill": {
     "duration": 0.029542,
     "end_time": "2025-02-16T03:37:50.206186",
     "exception": false,
     "start_time": "2025-02-16T03:37:50.176644",
     "status": "completed"
    },
    "tags": []
   },
   "outputs": [
    {
     "data": {
      "text/plain": [
       "{'learning_rate': 0.1,\n",
       " 'max_depth': 4,\n",
       " 'min_child_weight': 5,\n",
       " 'n_estimators': 300}"
      ]
     },
     "execution_count": 31,
     "metadata": {},
     "output_type": "execute_result"
    }
   ],
   "source": [
    "# Examine best parameters\n",
    "### YOUR CODE HERE ###\n",
    "xgb_cv.best_params_"
   ]
  },
  {
   "cell_type": "markdown",
   "id": "0fe0e36b",
   "metadata": {
    "papermill": {
     "duration": 0.021806,
     "end_time": "2025-02-16T03:37:50.250147",
     "exception": false,
     "start_time": "2025-02-16T03:37:50.228341",
     "status": "completed"
    },
    "tags": []
   },
   "source": [
    "Repeat the steps used for random forest to examine the precision score of the best model identified in the grid search."
   ]
  },
  {
   "cell_type": "code",
   "execution_count": 32,
   "id": "cd7e8fa5",
   "metadata": {
    "execution": {
     "iopub.execute_input": "2025-02-16T03:37:50.308087Z",
     "iopub.status.busy": "2025-02-16T03:37:50.307487Z",
     "iopub.status.idle": "2025-02-16T03:37:50.321307Z",
     "shell.execute_reply": "2025-02-16T03:37:50.319893Z"
    },
    "id": "HKoNNFeMQViD",
    "papermill": {
     "duration": 0.043374,
     "end_time": "2025-02-16T03:37:50.323740",
     "exception": false,
     "start_time": "2025-02-16T03:37:50.280366",
     "status": "completed"
    },
    "tags": []
   },
   "outputs": [
    {
     "name": "stdout",
     "output_type": "stream",
     "text": [
      "Mean recall of XGBoost:  0.9898176171763818\n",
      "Mean precision of XGBoost:  0.9989540885869099\n"
     ]
    }
   ],
   "source": [
    "# Access the GridSearch results and convert it to a pandas df\n",
    "### YOUR CODE HERE ###\n",
    "xgb_results_df = pd.DataFrame(xgb_cv.cv_results_)\n",
    "\n",
    "# Examine the GridSearch results df at column `mean_test_precision` in the best index\n",
    "### YOUR CODE HERE ###\n",
    "print('Mean recall of XGBoost: ',xgb_results_df['mean_test_recall'][xgb_cv.best_index_])\n",
    "print('Mean precision of XGBoost: ',xgb_results_df['mean_test_precision'][xgb_cv.best_index_])"
   ]
  },
  {
   "cell_type": "markdown",
   "id": "90a6e7f9",
   "metadata": {
    "id": "XHM9FTmHwHi9",
    "papermill": {
     "duration": 0.021931,
     "end_time": "2025-02-16T03:37:50.369152",
     "exception": false,
     "start_time": "2025-02-16T03:37:50.347221",
     "status": "completed"
    },
    "tags": []
   },
   "source": [
    "**Question:** How well does your model perform? Consider recall score and precision score.\n",
    "\n",
    "* The XGBoost model performed really well\n",
    "* Average Recall = 0.9898 (NOT better than random forest)\n",
    "* Average Precision = 0.9989 (NOT better than random forest)"
   ]
  },
  {
   "cell_type": "markdown",
   "id": "3700a363",
   "metadata": {
    "id": "_HGsWfEOeWPm",
    "papermill": {
     "duration": 0.023113,
     "end_time": "2025-02-16T03:37:50.420111",
     "exception": false,
     "start_time": "2025-02-16T03:37:50.396998",
     "status": "completed"
    },
    "tags": []
   },
   "source": [
    "<img src=\"images/Execute.png\" width=\"100\" height=\"100\" align=left>\n",
    "\n",
    "## **PACE: Execute**\n",
    "Consider the questions in your PACE Strategy Document to reflect on the Execute stage."
   ]
  },
  {
   "cell_type": "markdown",
   "id": "5d70df06",
   "metadata": {
    "id": "GyepBhCTa1Yx",
    "papermill": {
     "duration": 0.021426,
     "end_time": "2025-02-16T03:37:50.464026",
     "exception": false,
     "start_time": "2025-02-16T03:37:50.442600",
     "status": "completed"
    },
    "tags": []
   },
   "source": [
    "### **Task 7. Evaluate model**\n",
    "\n",
    "Evaluate models against validation criteria."
   ]
  },
  {
   "cell_type": "markdown",
   "id": "c7c092eb",
   "metadata": {
    "id": "vlAQZSQrRg9l",
    "papermill": {
     "duration": 0.023177,
     "end_time": "2025-02-16T03:37:50.508999",
     "exception": false,
     "start_time": "2025-02-16T03:37:50.485822",
     "status": "completed"
    },
    "tags": []
   },
   "source": [
    "#### **Random forest**"
   ]
  },
  {
   "cell_type": "code",
   "execution_count": 33,
   "id": "e58e94c8",
   "metadata": {
    "execution": {
     "iopub.execute_input": "2025-02-16T03:37:50.574600Z",
     "iopub.status.busy": "2025-02-16T03:37:50.574050Z",
     "iopub.status.idle": "2025-02-16T03:37:50.661862Z",
     "shell.execute_reply": "2025-02-16T03:37:50.660570Z"
    },
    "id": "mdTCEa_cRH8f",
    "papermill": {
     "duration": 0.122831,
     "end_time": "2025-02-16T03:37:50.664288",
     "exception": false,
     "start_time": "2025-02-16T03:37:50.541457",
     "status": "completed"
    },
    "tags": []
   },
   "outputs": [],
   "source": [
    "# Use the random forest \"best estimator\" model to get predictions on the validation set\n",
    "### YOUR CODE HERE ###\n",
    "y_pred_rf = rf_cv.best_estimator_.predict(X_val)"
   ]
  },
  {
   "cell_type": "markdown",
   "id": "e813367d",
   "metadata": {
    "id": "As6nmV9xRLa-",
    "papermill": {
     "duration": 0.021641,
     "end_time": "2025-02-16T03:37:50.715724",
     "exception": false,
     "start_time": "2025-02-16T03:37:50.694083",
     "status": "completed"
    },
    "tags": []
   },
   "source": [
    "Display the predictions on the validation set."
   ]
  },
  {
   "cell_type": "code",
   "execution_count": 34,
   "id": "9af447e6",
   "metadata": {
    "execution": {
     "iopub.execute_input": "2025-02-16T03:37:50.771269Z",
     "iopub.status.busy": "2025-02-16T03:37:50.770790Z",
     "iopub.status.idle": "2025-02-16T03:37:50.777840Z",
     "shell.execute_reply": "2025-02-16T03:37:50.776654Z"
    },
    "id": "t8ppFvJXRL13",
    "papermill": {
     "duration": 0.041314,
     "end_time": "2025-02-16T03:37:50.779823",
     "exception": false,
     "start_time": "2025-02-16T03:37:50.738509",
     "status": "completed"
    },
    "tags": []
   },
   "outputs": [
    {
     "data": {
      "text/plain": [
       "array([1, 0, 1, ..., 1, 1, 1])"
      ]
     },
     "execution_count": 34,
     "metadata": {},
     "output_type": "execute_result"
    }
   ],
   "source": [
    "# Display the predictions on the validation set\n",
    "### YOUR CODE HERE ###\n",
    "y_pred_rf"
   ]
  },
  {
   "cell_type": "markdown",
   "id": "fc676b37",
   "metadata": {
    "id": "kR54Eel1RSUk",
    "papermill": {
     "duration": 0.034667,
     "end_time": "2025-02-16T03:37:50.843546",
     "exception": false,
     "start_time": "2025-02-16T03:37:50.808879",
     "status": "completed"
    },
    "tags": []
   },
   "source": [
    "Display the true labels of the validation set."
   ]
  },
  {
   "cell_type": "code",
   "execution_count": 35,
   "id": "b67edda1",
   "metadata": {
    "execution": {
     "iopub.execute_input": "2025-02-16T03:37:50.889552Z",
     "iopub.status.busy": "2025-02-16T03:37:50.889042Z",
     "iopub.status.idle": "2025-02-16T03:37:50.897829Z",
     "shell.execute_reply": "2025-02-16T03:37:50.896652Z"
    },
    "id": "7-mCyVmLRSuz",
    "papermill": {
     "duration": 0.033432,
     "end_time": "2025-02-16T03:37:50.899458",
     "exception": false,
     "start_time": "2025-02-16T03:37:50.866026",
     "status": "completed"
    },
    "tags": []
   },
   "outputs": [
    {
     "data": {
      "text/plain": [
       "5846     1\n",
       "12058    0\n",
       "2975     1\n",
       "8432     1\n",
       "6863     1\n",
       "        ..\n",
       "6036     1\n",
       "6544     1\n",
       "2781     1\n",
       "6426     1\n",
       "4450     1\n",
       "Name: claim_status, Length: 3817, dtype: int64"
      ]
     },
     "execution_count": 35,
     "metadata": {},
     "output_type": "execute_result"
    }
   ],
   "source": [
    "# Display the true labels of the validation set\n",
    "### YOUR CODE HERE ###\n",
    "y_val"
   ]
  },
  {
   "cell_type": "markdown",
   "id": "862efd86",
   "metadata": {
    "id": "rGbqgRDFRVZi",
    "papermill": {
     "duration": 0.032598,
     "end_time": "2025-02-16T03:37:50.954875",
     "exception": false,
     "start_time": "2025-02-16T03:37:50.922277",
     "status": "completed"
    },
    "tags": []
   },
   "source": [
    "Create a confusion matrix to visualize the results of the classification model."
   ]
  },
  {
   "cell_type": "code",
   "execution_count": 36,
   "id": "5140a572",
   "metadata": {
    "execution": {
     "iopub.execute_input": "2025-02-16T03:37:51.038085Z",
     "iopub.status.busy": "2025-02-16T03:37:51.037664Z",
     "iopub.status.idle": "2025-02-16T03:37:51.258969Z",
     "shell.execute_reply": "2025-02-16T03:37:51.257561Z"
    },
    "id": "_YJeJuzvRYPf",
    "papermill": {
     "duration": 0.270979,
     "end_time": "2025-02-16T03:37:51.260858",
     "exception": false,
     "start_time": "2025-02-16T03:37:50.989879",
     "status": "completed"
    },
    "tags": []
   },
   "outputs": [
    {
     "name": "stdout",
     "output_type": "stream",
     "text": [
      "[[1885    7]\n",
      " [  20 1905]]\n"
     ]
    },
    {
     "data": {
      "image/png": "[encoded data removed]",
      "text/plain": [
       "<Figure size 640x480 with 2 Axes>"
      ]
     },
     "metadata": {},
     "output_type": "display_data"
    }
   ],
   "source": [
    "# Create a confusion matrix to visualize the results of the classification model\n",
    "\n",
    "# Compute values for confusion matrix\n",
    "### YOUR CODE HERE ###\n",
    "log_cm = confusion_matrix(y_val, y_pred_rf)\n",
    "print(log_cm)\n",
    "\n",
    "# Create display of confusion matrix using ConfusionMatrixDisplay()\n",
    "### YOUR CODE HERE ###\n",
    "log_disp = ConfusionMatrixDisplay(confusion_matrix=log_cm, display_labels=None)\n",
    "\n",
    "# Plot confusion matrix\n",
    "### YOUR CODE HERE ###\n",
    "log_disp.plot()\n",
    "\n",
    "# Display plot\n",
    "### YOUR CODE HERE ###\n",
    "plt.show()"
   ]
  },
  {
   "cell_type": "markdown",
   "id": "47488a57",
   "metadata": {
    "id": "C2dugw11RiIK",
    "papermill": {
     "duration": 0.022297,
     "end_time": "2025-02-16T03:37:51.305493",
     "exception": false,
     "start_time": "2025-02-16T03:37:51.283196",
     "status": "completed"
    },
    "tags": []
   },
   "source": [
    "Create a classification report that includes precision, recall, f1-score, and accuracy metrics to evaluate the performance of the model.\n",
    "<br> </br>\n",
    "\n",
    "**Note:** In other labs there was a custom-written function to extract the accuracy, precision, recall, and F<sub>1</sub> scores from the GridSearchCV report and display them in a table. You can also use scikit-learn's built-in [`classification_report()`](https://scikit-learn.org/stable/modules/model_evaluation.html#classification-report) function to obtain a similar table of results."
   ]
  },
  {
   "cell_type": "code",
   "execution_count": 37,
   "id": "30e83df2",
   "metadata": {
    "execution": {
     "iopub.execute_input": "2025-02-16T03:37:51.351706Z",
     "iopub.status.busy": "2025-02-16T03:37:51.351182Z",
     "iopub.status.idle": "2025-02-16T03:37:51.374842Z",
     "shell.execute_reply": "2025-02-16T03:37:51.373550Z"
    },
    "id": "kB8e7wfhRrAl",
    "papermill": {
     "duration": 0.048699,
     "end_time": "2025-02-16T03:37:51.376731",
     "exception": false,
     "start_time": "2025-02-16T03:37:51.328032",
     "status": "completed"
    },
    "tags": []
   },
   "outputs": [
    {
     "name": "stdout",
     "output_type": "stream",
     "text": [
      "              precision    recall  f1-score   support\n",
      "\n",
      "     opinion       0.99      1.00      0.99      1892\n",
      "       claim       1.00      0.99      0.99      1925\n",
      "\n",
      "    accuracy                           0.99      3817\n",
      "   macro avg       0.99      0.99      0.99      3817\n",
      "weighted avg       0.99      0.99      0.99      3817\n",
      "\n"
     ]
    }
   ],
   "source": [
    "# Create a classification report\n",
    "# Create classification report for random forest model\n",
    "### YOUR CODE HERE ###\n",
    "\n",
    "target_labels = ['opinion', 'claim']\n",
    "\n",
    "print(classification_report(y_val, y_pred_rf, target_names=target_labels))"
   ]
  },
  {
   "cell_type": "markdown",
   "id": "bfa3e6b4",
   "metadata": {
    "id": "4PrZTQEXwrX6",
    "papermill": {
     "duration": 0.021814,
     "end_time": "2025-02-16T03:37:51.421466",
     "exception": false,
     "start_time": "2025-02-16T03:37:51.399652",
     "status": "completed"
    },
    "tags": []
   },
   "source": [
    "**Question:** What does your classification report show? What does the confusion matrix indicate?  \n",
    "\n",
    "\n",
    "For Random forest model:\n",
    "* TP = 1905\n",
    "* TN = 1885\n",
    "* FP = 7\n",
    "* FN = 20"
   ]
  },
  {
   "cell_type": "markdown",
   "id": "8fe9f6c9",
   "metadata": {
    "id": "hc8hASOOR0AU",
    "papermill": {
     "duration": 0.023541,
     "end_time": "2025-02-16T03:37:51.467369",
     "exception": false,
     "start_time": "2025-02-16T03:37:51.443828",
     "status": "completed"
    },
    "tags": []
   },
   "source": [
    "#### **XGBoost**\n",
    "\n",
    "Now, evaluate the XGBoost model on the validation set."
   ]
  },
  {
   "cell_type": "code",
   "execution_count": 38,
   "id": "d1e19749",
   "metadata": {
    "execution": {
     "iopub.execute_input": "2025-02-16T03:37:51.513629Z",
     "iopub.status.busy": "2025-02-16T03:37:51.513229Z",
     "iopub.status.idle": "2025-02-16T03:37:51.546784Z",
     "shell.execute_reply": "2025-02-16T03:37:51.543641Z"
    },
    "id": "fvNxCHqhR9RM",
    "papermill": {
     "duration": 0.061949,
     "end_time": "2025-02-16T03:37:51.552100",
     "exception": false,
     "start_time": "2025-02-16T03:37:51.490151",
     "status": "completed"
    },
    "tags": []
   },
   "outputs": [],
   "source": [
    "# Use the best estimator to predict on the validation data\n",
    "### YOUR CODE HERE ###\n",
    "y_pred_xgb = xgb_cv.best_estimator_.predict(X_val)"
   ]
  },
  {
   "cell_type": "code",
   "execution_count": 39,
   "id": "9556c08e",
   "metadata": {
    "execution": {
     "iopub.execute_input": "2025-02-16T03:37:51.612228Z",
     "iopub.status.busy": "2025-02-16T03:37:51.611851Z",
     "iopub.status.idle": "2025-02-16T03:37:51.820465Z",
     "shell.execute_reply": "2025-02-16T03:37:51.819271Z"
    },
    "id": "O9qpraX-SAjy",
    "papermill": {
     "duration": 0.234294,
     "end_time": "2025-02-16T03:37:51.822635",
     "exception": false,
     "start_time": "2025-02-16T03:37:51.588341",
     "status": "completed"
    },
    "tags": []
   },
   "outputs": [
    {
     "name": "stdout",
     "output_type": "stream",
     "text": [
      "[[1888    4]\n",
      " [  22 1903]]\n"
     ]
    },
    {
     "data": {
      "image/png": "[encoded data removed]",
      "text/plain": [
       "<Figure size 640x480 with 2 Axes>"
      ]
     },
     "metadata": {},
     "output_type": "display_data"
    }
   ],
   "source": [
    "# Compute values for confusion matrix\n",
    "### YOUR CODE HERE ###\n",
    "log_cm = confusion_matrix(y_val, y_pred_xgb)\n",
    "print(log_cm)\n",
    "\n",
    "# Create display of confusion matrix using ConfusionMatrixDisplay()\n",
    "### YOUR CODE HERE ###\n",
    "log_disp = ConfusionMatrixDisplay(confusion_matrix=log_cm, display_labels=None)\n",
    "\n",
    "# Plot confusion matrix\n",
    "### YOUR CODE HERE ###\n",
    "log_disp.plot()\n",
    "\n",
    "# Display plot\n",
    "### YOUR CODE HERE ###\n",
    "plt.title('Random forest - test set');\n",
    "plt.show()"
   ]
  },
  {
   "cell_type": "code",
   "execution_count": 40,
   "id": "7754006d",
   "metadata": {
    "execution": {
     "iopub.execute_input": "2025-02-16T03:37:51.881954Z",
     "iopub.status.busy": "2025-02-16T03:37:51.881554Z",
     "iopub.status.idle": "2025-02-16T03:37:51.902542Z",
     "shell.execute_reply": "2025-02-16T03:37:51.901039Z"
    },
    "id": "JcVuGMztSHx4",
    "papermill": {
     "duration": 0.049752,
     "end_time": "2025-02-16T03:37:51.904675",
     "exception": false,
     "start_time": "2025-02-16T03:37:51.854923",
     "status": "completed"
    },
    "tags": []
   },
   "outputs": [
    {
     "name": "stdout",
     "output_type": "stream",
     "text": [
      "              precision    recall  f1-score   support\n",
      "\n",
      "     opinion       0.99      1.00      0.99      1892\n",
      "       claim       1.00      0.99      0.99      1925\n",
      "\n",
      "    accuracy                           0.99      3817\n",
      "   macro avg       0.99      0.99      0.99      3817\n",
      "weighted avg       0.99      0.99      0.99      3817\n",
      "\n"
     ]
    }
   ],
   "source": [
    "# Create a classification report\n",
    "### YOUR CODE HERE ###\n",
    "target_labels = ['opinion', 'claim']\n",
    "\n",
    "print(classification_report(y_val, y_pred_xgb, target_names=target_labels))"
   ]
  },
  {
   "cell_type": "markdown",
   "id": "a5e60146",
   "metadata": {
    "id": "vvP4OljkwX0-",
    "papermill": {
     "duration": 0.022988,
     "end_time": "2025-02-16T03:37:51.951049",
     "exception": false,
     "start_time": "2025-02-16T03:37:51.928061",
     "status": "completed"
    },
    "tags": []
   },
   "source": [
    "**Question:** Describe your XGBoost model results. How does your XGBoost model compare to your random forest model?\n",
    "\n",
    "For XGBoost model:\n",
    "* TP = 1903\n",
    "* TN = 1888\n",
    "* FP = 4\n",
    "* FN = 22\n",
    "\n",
    "Since, based on the decision made earlier to prioritize FNs over FPs due to the cost associated with it, we can conclude on selecting the Random Forest classifier as the champion model because the FNs were more in XGBoost than random forest"
   ]
  },
  {
   "cell_type": "markdown",
   "id": "5767a74b",
   "metadata": {
    "id": "RhYr1O9jSN7O",
    "papermill": {
     "duration": 0.023293,
     "end_time": "2025-02-16T03:37:51.997496",
     "exception": false,
     "start_time": "2025-02-16T03:37:51.974203",
     "status": "completed"
    },
    "tags": []
   },
   "source": [
    "### **Use champion model to predict on test data**"
   ]
  },
  {
   "cell_type": "code",
   "execution_count": 41,
   "id": "38974885",
   "metadata": {
    "execution": {
     "iopub.execute_input": "2025-02-16T03:37:52.048304Z",
     "iopub.status.busy": "2025-02-16T03:37:52.047923Z",
     "iopub.status.idle": "2025-02-16T03:37:52.124194Z",
     "shell.execute_reply": "2025-02-16T03:37:52.122961Z"
    },
    "id": "VJj1uNRqSQpG",
    "papermill": {
     "duration": 0.104741,
     "end_time": "2025-02-16T03:37:52.126260",
     "exception": false,
     "start_time": "2025-02-16T03:37:52.021519",
     "status": "completed"
    },
    "tags": []
   },
   "outputs": [],
   "source": [
    "### YOUR CODE HERE ###\n",
    "y_pred_champ = rf_cv.best_estimator_.predict(X_test)"
   ]
  },
  {
   "cell_type": "code",
   "execution_count": 42,
   "id": "56179aed",
   "metadata": {
    "execution": {
     "iopub.execute_input": "2025-02-16T03:37:52.174059Z",
     "iopub.status.busy": "2025-02-16T03:37:52.173692Z",
     "iopub.status.idle": "2025-02-16T03:37:52.375508Z",
     "shell.execute_reply": "2025-02-16T03:37:52.374306Z"
    },
    "id": "5lpL5ebDSQ5d",
    "papermill": {
     "duration": 0.227736,
     "end_time": "2025-02-16T03:37:52.377267",
     "exception": false,
     "start_time": "2025-02-16T03:37:52.149531",
     "status": "completed"
    },
    "tags": []
   },
   "outputs": [
    {
     "data": {
      "image/png": "[encoded data removed]",
      "text/plain": [
       "<Figure size 640x480 with 2 Axes>"
      ]
     },
     "metadata": {},
     "output_type": "display_data"
    }
   ],
   "source": [
    "# Compute values for confusion matrix\n",
    "### YOUR CODE HERE ###\n",
    "log_cm = confusion_matrix(y_test, y_pred_champ)\n",
    "\n",
    "# Create display of confusion matrix using ConfusionMatrixDisplay()\n",
    "### YOUR CODE HERE ###\n",
    "log_disp = ConfusionMatrixDisplay(confusion_matrix=log_cm, display_labels=None)\n",
    "\n",
    "# Plot confusion matrix\n",
    "### YOUR CODE HERE ###\n",
    "log_disp.plot()\n",
    "\n",
    "# Display plot\n",
    "### YOUR CODE HERE ###\n",
    "plt.title('Random forest - test set')\n",
    "plt.show()"
   ]
  },
  {
   "cell_type": "markdown",
   "id": "38281e52",
   "metadata": {
    "id": "2vpvCa5rSVqR",
    "papermill": {
     "duration": 0.023481,
     "end_time": "2025-02-16T03:37:52.425887",
     "exception": false,
     "start_time": "2025-02-16T03:37:52.402406",
     "status": "completed"
    },
    "tags": []
   },
   "source": [
    "#### **Feature importances of champion model**\n"
   ]
  },
  {
   "cell_type": "code",
   "execution_count": 43,
   "id": "66d3493f",
   "metadata": {
    "execution": {
     "iopub.execute_input": "2025-02-16T03:37:52.475148Z",
     "iopub.status.busy": "2025-02-16T03:37:52.474778Z",
     "iopub.status.idle": "2025-02-16T03:37:52.825465Z",
     "shell.execute_reply": "2025-02-16T03:37:52.824368Z"
    },
    "id": "MNtafEjgSYYt",
    "papermill": {
     "duration": 0.377487,
     "end_time": "2025-02-16T03:37:52.827045",
     "exception": false,
     "start_time": "2025-02-16T03:37:52.449558",
     "status": "completed"
    },
    "tags": []
   },
   "outputs": [
    {
     "data": {
      "image/png": "[encoded data removed]",
      "text/plain": [
       "<Figure size 640x480 with 1 Axes>"
      ]
     },
     "metadata": {},
     "output_type": "display_data"
    }
   ],
   "source": [
    "### YOUR CODE HERE ###\n",
    "\n",
    "# extract important features from the random forest\n",
    "importances = rf_cv.best_estimator_.feature_importances_\n",
    "rf_importances = pd.Series(importances, index=X_test.columns)\n",
    "\n",
    "# plot the important features\n",
    "fig, ax = plt.subplots()\n",
    "rf_importances.plot.bar(ax=ax)\n",
    "ax.set_title('Feature importances')\n",
    "ax.set_ylabel('Mean decrease in impurity')\n",
    "fig.tight_layout()"
   ]
  },
  {
   "cell_type": "markdown",
   "id": "8ae1ee70",
   "metadata": {
    "id": "w2-2V5tAwxlz",
    "papermill": {
     "duration": 0.024699,
     "end_time": "2025-02-16T03:37:52.876641",
     "exception": false,
     "start_time": "2025-02-16T03:37:52.851942",
     "status": "completed"
    },
    "tags": []
   },
   "source": [
    "**Question:** Describe your most predictive features. Were your results surprising?\n",
    "* It is quite surprising that the most engaged (viewed,liked,shared,downloaded) videos are likely to be 'claim' (violating the terms of service) "
   ]
  },
  {
   "cell_type": "markdown",
   "id": "a8e24fe9",
   "metadata": {
    "id": "ill21hQ4ej9-",
    "papermill": {
     "duration": 0.024626,
     "end_time": "2025-02-16T03:37:52.927214",
     "exception": false,
     "start_time": "2025-02-16T03:37:52.902588",
     "status": "completed"
    },
    "tags": []
   },
   "source": [
    "### **Task 8. Conclusion**\n",
    "\n",
    "In this step use the results of the models above to formulate a conclusion. Consider the following questions:\n",
    "\n",
    "1. **Would you recommend using this model? Why or why not?**\n",
    "\n",
    "* Yes, because 1) the random forest model did well in validation data 2) RF did well on unseen test data 3) It had better evaluation metrics 4) it was the better at not letting FNs rise 5) important features from the model can also be used to understand which contributed more\n",
    "\n",
    "\n",
    "2. **What was your model doing? Can you explain how it was making predictions?**\n",
    "\n",
    "* Almost all engagement metrics had the hold in determining if a video is 'claim' or 'opinion' in the random forest model used. The higher these engagement metrics were, the higher was the chance was the video is 'claim'\n",
    "\n",
    "\n",
    "3. **Are there new features that you can engineer that might improve model performance?**\n",
    "\n",
    "* there can be new features introduced after consulting with the SMEs. But, as of now no new features needs to be added as the model performs exceptionally well\n",
    "\n",
    "4. **What features would you want to have that would likely improve the performance of your model?**\n",
    "\n",
    "* some of the more contextual features about the videos (especially info about the report) like theme of reason for the report, number of different users who reported the video, output from sentiment analysis of comments etc. can be used as features moving forward. But, this needs to be done only if the current way of classification is deemed unapplicable by the SMEs.\n",
    "\n",
    "\n",
    "Remember, sometimes your data simply will not be predictive of your chosen target. This is common. Machine learning is a powerful tool, but it is not magic. If your data does not contain predictive signal, even the most complex algorithm will not be able to deliver consistent and accurate predictions. Do not be afraid to draw this conclusion.\n"
   ]
  },
  {
   "cell_type": "markdown",
   "id": "73c86d09",
   "metadata": {
    "papermill": {
     "duration": 0.024259,
     "end_time": "2025-02-16T03:37:52.976119",
     "exception": false,
     "start_time": "2025-02-16T03:37:52.951860",
     "status": "completed"
    },
    "tags": []
   },
   "source": [
    "**Congratulations!** You've completed this lab. However, you may not notice a green check mark next to this item on Coursera's platform. Please continue your progress regardless of the check mark. Just click on the \"save\" icon at the top of this notebook to ensure your work has been logged."
   ]
  }
 ],
 "metadata": {
  "colab": {
   "provenance": [],
   "toc_visible": true
  },
  "kaggle": {
   "accelerator": "none",
   "dataSources": [
    {
     "datasetId": 6605782,
     "sourceId": 10666327,
     "sourceType": "datasetVersion"
    }
   ],
   "dockerImageVersionId": 30886,
   "isGpuEnabled": false,
   "isInternetEnabled": true,
   "language": "python",
   "sourceType": "notebook"
  },
  "kernelspec": {
   "display_name": "Python 3",
   "language": "python",
   "name": "python3"
  },
  "language_info": {
   "codemirror_mode": {
    "name": "ipython",
    "version": 3
   },
   "file_extension": ".py",
   "mimetype": "text/x-python",
   "name": "python",
   "nbconvert_exporter": "python",
   "pygments_lexer": "ipython3",
   "version": "3.10.12"
  },
  "papermill": {
   "default_parameters": {},
   "duration": 30.969273,
   "end_time": "2025-02-16T03:37:53.923607",
   "environment_variables": {},
   "exception": null,
   "input_path": "__notebook__.ipynb",
   "output_path": "__notebook__.ipynb",
   "parameters": {},
   "start_time": "2025-02-16T03:37:22.954334",
   "version": "2.6.0"
  }
 },
 "nbformat": 4,
 "nbformat_minor": 5
}
