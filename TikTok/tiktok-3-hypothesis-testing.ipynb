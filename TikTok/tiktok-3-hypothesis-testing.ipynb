{
 "cells": [
  {
   "cell_type": "markdown",
   "id": "13663e39",
   "metadata": {
    "id": "DtNBZFHO3M7n",
    "papermill": {
     "duration": 0.006942,
     "end_time": "2025-02-09T03:55:32.366895",
     "exception": false,
     "start_time": "2025-02-09T03:55:32.359953",
     "status": "completed"
    },
    "tags": []
   },
   "source": [
    "# **TikTok Project**\n",
    "**Course 4 - The Power of Statistics**"
   ]
  },
  {
   "cell_type": "markdown",
   "id": "d411aaab",
   "metadata": {
    "id": "j-u8hxWUk64w",
    "papermill": {
     "duration": 0.006332,
     "end_time": "2025-02-09T03:55:32.379752",
     "exception": false,
     "start_time": "2025-02-09T03:55:32.373420",
     "status": "completed"
    },
    "tags": []
   },
   "source": [
    "You are a data professional at TikTok. The current project is reaching its midpoint; a project proposal, Python coding work, and exploratory data analysis have all been completed.\n",
    "\n",
    "The team has reviewed the results of the exploratory data analysis and the previous executive summary the team prepared. You received an email from Orion Rainier, Data Scientist at TikTok, with your next assignment: determine and conduct the necessary hypothesis tests and statistical analysis for the TikTok classification project.\n",
    "\n",
    "A notebook was structured and prepared to help you in this project. Please complete the following questions."
   ]
  },
  {
   "cell_type": "markdown",
   "id": "aecf122e",
   "metadata": {
    "id": "rgSbVJvomcVa",
    "papermill": {
     "duration": 0.006013,
     "end_time": "2025-02-09T03:55:32.392589",
     "exception": false,
     "start_time": "2025-02-09T03:55:32.386576",
     "status": "completed"
    },
    "tags": []
   },
   "source": [
    "\n",
    "# **Course 4 End-of-course project: Data exploration and hypothesis testing**\n",
    "\n",
    "In this activity, you will explore the data provided and conduct hypothesis testing.\n",
    "<br/>\n",
    "\n",
    "**The purpose** of this project is to demostrate knowledge of how to prepare, create, and analyze hypothesis tests.\n",
    "\n",
    "**The goal** is to apply descriptive and inferential statistics, probability distributions, and hypothesis testing in Python.\n",
    "<br/>\n",
    "\n",
    "*This activity has three parts:*\n",
    "\n",
    "**Part 1:** Imports and data loading\n",
    "* What data packages will be necessary for hypothesis testing?\n",
    "\n",
    "**Part 2:** Conduct hypothesis testing\n",
    "* How will descriptive statistics help you analyze your data?\n",
    "\n",
    "* How will you formulate your null hypothesis and alternative hypothesis?\n",
    "\n",
    "**Part 3:** Communicate insights with stakeholders\n",
    "\n",
    "* What key business insight(s) emerge from your hypothesis test?\n",
    "\n",
    "* What business recommendations do you propose based on your results?\n",
    "\n",
    "<br/>\n",
    "\n",
    "Follow the instructions and answer the questions below to complete the activity. Then, complete an executive summary using the questions listed on the PACE Strategy Document.\n",
    "\n",
    "Be sure to complete this activity before moving on. The next course item will provide you with a completed exemplar to compare to your own work.\n",
    "\n"
   ]
  },
  {
   "cell_type": "markdown",
   "id": "baa5213d",
   "metadata": {
    "id": "qwXf61KLibBj",
    "papermill": {
     "duration": 0.00592,
     "end_time": "2025-02-09T03:55:32.404863",
     "exception": false,
     "start_time": "2025-02-09T03:55:32.398943",
     "status": "completed"
    },
    "tags": []
   },
   "source": [
    "# **Data exploration and hypothesis testing**"
   ]
  },
  {
   "cell_type": "markdown",
   "id": "cc41d628",
   "metadata": {
    "id": "N8qrn_UAzX6j",
    "papermill": {
     "duration": 0.005986,
     "end_time": "2025-02-09T03:55:32.417537",
     "exception": false,
     "start_time": "2025-02-09T03:55:32.411551",
     "status": "completed"
    },
    "tags": []
   },
   "source": [
    "<img src=\"images/Pace.png\" width=\"100\" height=\"100\" align=left>\n",
    "\n",
    "# **PACE stages**"
   ]
  },
  {
   "cell_type": "markdown",
   "id": "bd8d7e15",
   "metadata": {
    "id": "pGaoqOgZiiR_",
    "papermill": {
     "duration": 0.005906,
     "end_time": "2025-02-09T03:55:32.429963",
     "exception": false,
     "start_time": "2025-02-09T03:55:32.424057",
     "status": "completed"
    },
    "tags": []
   },
   "source": [
    "Throughout these project notebooks, you'll see references to the problem-solving framework PACE. The following notebook components are labeled with the respective PACE stage: Plan, Analyze, Construct, and Execute."
   ]
  },
  {
   "cell_type": "markdown",
   "id": "787f9532",
   "metadata": {
    "id": "Bb1HNu3FzX6k",
    "papermill": {
     "duration": 0.006027,
     "end_time": "2025-02-09T03:55:32.442507",
     "exception": false,
     "start_time": "2025-02-09T03:55:32.436480",
     "status": "completed"
    },
    "tags": []
   },
   "source": [
    "<img src=\"images/Plan.png\" width=\"100\" height=\"100\" align=left>\n",
    "\n",
    "\n",
    "## **PACE: Plan**\n",
    "\n",
    "Consider the questions in your PACE Strategy Document and those below to craft your response.\n",
    "\n",
    "1. What is your research question for this data project? Later on, you will need to formulate the null and alternative hypotheses as the first step of your hypothesis test. Consider your research question now, at the start of this task."
   ]
  },
  {
   "cell_type": "markdown",
   "id": "bc1f57f5",
   "metadata": {
    "id": "iHhO44UenHcC",
    "papermill": {
     "duration": 0.007003,
     "end_time": "2025-02-09T03:55:32.455949",
     "exception": false,
     "start_time": "2025-02-09T03:55:32.448946",
     "status": "completed"
    },
    "tags": []
   },
   "source": [
    "Hypothesis testing research question:\n",
    "\n",
    "* is there a significant difference between the mean view counts between videos posted by verified and unverified accounts?"
   ]
  },
  {
   "cell_type": "markdown",
   "id": "8ec2ef95",
   "metadata": {
    "id": "Kp3uDhhSg_qu",
    "papermill": {
     "duration": 0.006109,
     "end_time": "2025-02-09T03:55:32.469159",
     "exception": false,
     "start_time": "2025-02-09T03:55:32.463050",
     "status": "completed"
    },
    "tags": []
   },
   "source": [
    "*Complete the following steps to perform statistical analysis of your data:*"
   ]
  },
  {
   "cell_type": "markdown",
   "id": "5ff30b12",
   "metadata": {
    "id": "xgQEdIN7f1Jq",
    "papermill": {
     "duration": 0.006625,
     "end_time": "2025-02-09T03:55:32.482024",
     "exception": false,
     "start_time": "2025-02-09T03:55:32.475399",
     "status": "completed"
    },
    "tags": []
   },
   "source": [
    "### **Task 1. Imports and Data Loading**"
   ]
  },
  {
   "cell_type": "markdown",
   "id": "3901979c",
   "metadata": {
    "id": "ehehvUzFj0-e",
    "papermill": {
     "duration": 0.005967,
     "end_time": "2025-02-09T03:55:32.494355",
     "exception": false,
     "start_time": "2025-02-09T03:55:32.488388",
     "status": "completed"
    },
    "tags": []
   },
   "source": [
    "Import packages and libraries needed to compute descriptive statistics and conduct a hypothesis test."
   ]
  },
  {
   "cell_type": "markdown",
   "id": "6b88f03f",
   "metadata": {
    "id": "e6cryW4WgiIL",
    "papermill": {
     "duration": 0.006227,
     "end_time": "2025-02-09T03:55:32.506822",
     "exception": false,
     "start_time": "2025-02-09T03:55:32.500595",
     "status": "completed"
    },
    "tags": []
   },
   "source": [
    "<details>\n",
    "  <summary><h4><strong>Hint:</strong></h4></summary>\n",
    "\n",
    "Be sure to import `pandas`, `numpy`, `matplotlib.pyplot`, `seaborn`, and `scipy`.\n",
    "\n",
    "</details>"
   ]
  },
  {
   "cell_type": "code",
   "execution_count": 1,
   "id": "042158ea",
   "metadata": {
    "execution": {
     "iopub.execute_input": "2025-02-09T03:55:32.520977Z",
     "iopub.status.busy": "2025-02-09T03:55:32.520453Z",
     "iopub.status.idle": "2025-02-09T03:55:36.198406Z",
     "shell.execute_reply": "2025-02-09T03:55:36.197343Z"
    },
    "id": "1Q-GL2UrgWWG",
    "papermill": {
     "duration": 3.687523,
     "end_time": "2025-02-09T03:55:36.200563",
     "exception": false,
     "start_time": "2025-02-09T03:55:32.513040",
     "status": "completed"
    },
    "tags": []
   },
   "outputs": [],
   "source": [
    "# Import packages for data manipulation\n",
    "### YOUR CODE HERE ###\n",
    "\n",
    "import pandas as pd\n",
    "import numpy as np\n",
    "\n",
    "\n",
    "# Import packages for data visualization\n",
    "### YOUR CODE HERE ###\n",
    "\n",
    "import matplotlib.pyplot as plt\n",
    "import seaborn as sns\n",
    "\n",
    "\n",
    "# Import packages for statistical analysis/hypothesis testing\n",
    "### YOUR CODE HERE ###\n",
    "\n",
    "import scipy.stats as stats\n"
   ]
  },
  {
   "cell_type": "markdown",
   "id": "c283df84",
   "metadata": {
    "id": "IHSa7TiTkg78",
    "papermill": {
     "duration": 0.006046,
     "end_time": "2025-02-09T03:55:36.213351",
     "exception": false,
     "start_time": "2025-02-09T03:55:36.207305",
     "status": "completed"
    },
    "tags": []
   },
   "source": [
    "Load the dataset.\n",
    "\n",
    "**Note:** As shown in this cell, the dataset has been automatically loaded in for you. You do not need to download the .csv file, or provide more code, in order to access the dataset and proceed with this lab. Please continue with this activity by completing the following instructions."
   ]
  },
  {
   "cell_type": "code",
   "execution_count": 2,
   "id": "ed1ae97f",
   "metadata": {
    "execution": {
     "iopub.execute_input": "2025-02-09T03:55:36.227635Z",
     "iopub.status.busy": "2025-02-09T03:55:36.227004Z",
     "iopub.status.idle": "2025-02-09T03:55:36.396528Z",
     "shell.execute_reply": "2025-02-09T03:55:36.395384Z"
    },
    "id": "HLhV9YACjlC4",
    "papermill": {
     "duration": 0.178856,
     "end_time": "2025-02-09T03:55:36.398474",
     "exception": false,
     "start_time": "2025-02-09T03:55:36.219618",
     "status": "completed"
    },
    "tags": []
   },
   "outputs": [],
   "source": [
    "# Load dataset into dataframe\n",
    "data = pd.read_csv('/kaggle/input/tiktok-dataset-1/tiktok_dataset.csv')"
   ]
  },
  {
   "cell_type": "markdown",
   "id": "5b16db69",
   "metadata": {
    "id": "c8paWsdKzX6o",
    "papermill": {
     "duration": 0.006121,
     "end_time": "2025-02-09T03:55:36.411115",
     "exception": false,
     "start_time": "2025-02-09T03:55:36.404994",
     "status": "completed"
    },
    "tags": []
   },
   "source": [
    "<img src=\"images/Analyze.png\" width=\"100\" height=\"100\" align=left>\n",
    "\n",
    "<img src=\"images/Construct.png\" width=\"100\" height=\"100\" align=left>\n",
    "\n",
    "## **PACE: Analyze and Construct**\n",
    "\n",
    "Consider the questions in your PACE Strategy Document and those below to craft your response:\n",
    "1. Data professionals use descriptive statistics for Exploratory Data Analysis. How can computing descriptive statistics help you learn more about your data in this stage of your analysis?\n"
   ]
  },
  {
   "cell_type": "markdown",
   "id": "e8d6b71e",
   "metadata": {
    "id": "AKY3ms4LsEsU",
    "papermill": {
     "duration": 0.006597,
     "end_time": "2025-02-09T03:55:36.424643",
     "exception": false,
     "start_time": "2025-02-09T03:55:36.418046",
     "status": "completed"
    },
    "tags": []
   },
   "source": [
    "* descriptive stats can help in performing EDA\n",
    "* in particular, handling nulls, handling outliers, cleaning the data, validating the dataset are performed with the help of descriptive stats"
   ]
  },
  {
   "cell_type": "markdown",
   "id": "d82a91f6",
   "metadata": {
    "id": "UKhYTdVhf5B2",
    "papermill": {
     "duration": 0.006122,
     "end_time": "2025-02-09T03:55:36.437222",
     "exception": false,
     "start_time": "2025-02-09T03:55:36.431100",
     "status": "completed"
    },
    "tags": []
   },
   "source": [
    "### **Task 2. Data exploration**\n",
    "\n",
    "Use descriptive statistics to conduct Exploratory Data Analysis (EDA).\n",
    "\n"
   ]
  },
  {
   "cell_type": "markdown",
   "id": "eeb08c86",
   "metadata": {
    "id": "aBLu1iBMr6Bd",
    "papermill": {
     "duration": 0.006324,
     "end_time": "2025-02-09T03:55:36.449897",
     "exception": false,
     "start_time": "2025-02-09T03:55:36.443573",
     "status": "completed"
    },
    "tags": []
   },
   "source": [
    "<details>\n",
    "  <summary><h4><strong>Hint:</strong></h4></summary>\n",
    "\n",
    "Refer back to *Self Review Descriptive Statistics* for this step-by-step proccess.\n",
    "\n",
    "</details>"
   ]
  },
  {
   "cell_type": "markdown",
   "id": "48e10560",
   "metadata": {
    "id": "JBHl90JIRuXk",
    "papermill": {
     "duration": 0.006072,
     "end_time": "2025-02-09T03:55:36.462619",
     "exception": false,
     "start_time": "2025-02-09T03:55:36.456547",
     "status": "completed"
    },
    "tags": []
   },
   "source": [
    "Inspect the first five rows of the dataframe."
   ]
  },
  {
   "cell_type": "code",
   "execution_count": 3,
   "id": "701104e8",
   "metadata": {
    "execution": {
     "iopub.execute_input": "2025-02-09T03:55:36.477041Z",
     "iopub.status.busy": "2025-02-09T03:55:36.476619Z",
     "iopub.status.idle": "2025-02-09T03:55:36.511283Z",
     "shell.execute_reply": "2025-02-09T03:55:36.510107Z"
    },
    "id": "2rfk95MLp4a_",
    "papermill": {
     "duration": 0.044256,
     "end_time": "2025-02-09T03:55:36.513305",
     "exception": false,
     "start_time": "2025-02-09T03:55:36.469049",
     "status": "completed"
    },
    "tags": []
   },
   "outputs": [
    {
     "data": {
      "text/html": [
       "<div>\n",
       "<style scoped>\n",
       "    .dataframe tbody tr th:only-of-type {\n",
       "        vertical-align: middle;\n",
       "    }\n",
       "\n",
       "    .dataframe tbody tr th {\n",
       "        vertical-align: top;\n",
       "    }\n",
       "\n",
       "    .dataframe thead th {\n",
       "        text-align: right;\n",
       "    }\n",
       "</style>\n",
       "<table border=\"1\" class=\"dataframe\">\n",
       "  <thead>\n",
       "    <tr style=\"text-align: right;\">\n",
       "      <th></th>\n",
       "      <th>#</th>\n",
       "      <th>claim_status</th>\n",
       "      <th>video_id</th>\n",
       "      <th>video_duration_sec</th>\n",
       "      <th>video_transcription_text</th>\n",
       "      <th>verified_status</th>\n",
       "      <th>author_ban_status</th>\n",
       "      <th>video_view_count</th>\n",
       "      <th>video_like_count</th>\n",
       "      <th>video_share_count</th>\n",
       "      <th>video_download_count</th>\n",
       "      <th>video_comment_count</th>\n",
       "    </tr>\n",
       "  </thead>\n",
       "  <tbody>\n",
       "    <tr>\n",
       "      <th>0</th>\n",
       "      <td>1</td>\n",
       "      <td>claim</td>\n",
       "      <td>7017666017</td>\n",
       "      <td>59</td>\n",
       "      <td>someone shared with me that drone deliveries a...</td>\n",
       "      <td>not verified</td>\n",
       "      <td>under review</td>\n",
       "      <td>343296.0</td>\n",
       "      <td>19425.0</td>\n",
       "      <td>241.0</td>\n",
       "      <td>1.0</td>\n",
       "      <td>0.0</td>\n",
       "    </tr>\n",
       "    <tr>\n",
       "      <th>1</th>\n",
       "      <td>2</td>\n",
       "      <td>claim</td>\n",
       "      <td>4014381136</td>\n",
       "      <td>32</td>\n",
       "      <td>someone shared with me that there are more mic...</td>\n",
       "      <td>not verified</td>\n",
       "      <td>active</td>\n",
       "      <td>140877.0</td>\n",
       "      <td>77355.0</td>\n",
       "      <td>19034.0</td>\n",
       "      <td>1161.0</td>\n",
       "      <td>684.0</td>\n",
       "    </tr>\n",
       "    <tr>\n",
       "      <th>2</th>\n",
       "      <td>3</td>\n",
       "      <td>claim</td>\n",
       "      <td>9859838091</td>\n",
       "      <td>31</td>\n",
       "      <td>someone shared with me that american industria...</td>\n",
       "      <td>not verified</td>\n",
       "      <td>active</td>\n",
       "      <td>902185.0</td>\n",
       "      <td>97690.0</td>\n",
       "      <td>2858.0</td>\n",
       "      <td>833.0</td>\n",
       "      <td>329.0</td>\n",
       "    </tr>\n",
       "    <tr>\n",
       "      <th>3</th>\n",
       "      <td>4</td>\n",
       "      <td>claim</td>\n",
       "      <td>1866847991</td>\n",
       "      <td>25</td>\n",
       "      <td>someone shared with me that the metro of st. p...</td>\n",
       "      <td>not verified</td>\n",
       "      <td>active</td>\n",
       "      <td>437506.0</td>\n",
       "      <td>239954.0</td>\n",
       "      <td>34812.0</td>\n",
       "      <td>1234.0</td>\n",
       "      <td>584.0</td>\n",
       "    </tr>\n",
       "    <tr>\n",
       "      <th>4</th>\n",
       "      <td>5</td>\n",
       "      <td>claim</td>\n",
       "      <td>7105231098</td>\n",
       "      <td>19</td>\n",
       "      <td>someone shared with me that the number of busi...</td>\n",
       "      <td>not verified</td>\n",
       "      <td>active</td>\n",
       "      <td>56167.0</td>\n",
       "      <td>34987.0</td>\n",
       "      <td>4110.0</td>\n",
       "      <td>547.0</td>\n",
       "      <td>152.0</td>\n",
       "    </tr>\n",
       "  </tbody>\n",
       "</table>\n",
       "</div>"
      ],
      "text/plain": [
       "   # claim_status    video_id  video_duration_sec  \\\n",
       "0  1        claim  7017666017                  59   \n",
       "1  2        claim  4014381136                  32   \n",
       "2  3        claim  9859838091                  31   \n",
       "3  4        claim  1866847991                  25   \n",
       "4  5        claim  7105231098                  19   \n",
       "\n",
       "                            video_transcription_text verified_status  \\\n",
       "0  someone shared with me that drone deliveries a...    not verified   \n",
       "1  someone shared with me that there are more mic...    not verified   \n",
       "2  someone shared with me that american industria...    not verified   \n",
       "3  someone shared with me that the metro of st. p...    not verified   \n",
       "4  someone shared with me that the number of busi...    not verified   \n",
       "\n",
       "  author_ban_status  video_view_count  video_like_count  video_share_count  \\\n",
       "0      under review          343296.0           19425.0              241.0   \n",
       "1            active          140877.0           77355.0            19034.0   \n",
       "2            active          902185.0           97690.0             2858.0   \n",
       "3            active          437506.0          239954.0            34812.0   \n",
       "4            active           56167.0           34987.0             4110.0   \n",
       "\n",
       "   video_download_count  video_comment_count  \n",
       "0                   1.0                  0.0  \n",
       "1                1161.0                684.0  \n",
       "2                 833.0                329.0  \n",
       "3                1234.0                584.0  \n",
       "4                 547.0                152.0  "
      ]
     },
     "execution_count": 3,
     "metadata": {},
     "output_type": "execute_result"
    }
   ],
   "source": [
    "# Display first few rows\n",
    "### YOUR CODE HERE ###\n",
    "\n",
    "data.head()"
   ]
  },
  {
   "cell_type": "code",
   "execution_count": 4,
   "id": "6b4980d3",
   "metadata": {
    "execution": {
     "iopub.execute_input": "2025-02-09T03:55:36.528124Z",
     "iopub.status.busy": "2025-02-09T03:55:36.527725Z",
     "iopub.status.idle": "2025-02-09T03:55:36.569589Z",
     "shell.execute_reply": "2025-02-09T03:55:36.568104Z"
    },
    "id": "70vpvcv1gArp",
    "papermill": {
     "duration": 0.051469,
     "end_time": "2025-02-09T03:55:36.571578",
     "exception": false,
     "start_time": "2025-02-09T03:55:36.520109",
     "status": "completed"
    },
    "tags": []
   },
   "outputs": [
    {
     "data": {
      "text/html": [
       "<div>\n",
       "<style scoped>\n",
       "    .dataframe tbody tr th:only-of-type {\n",
       "        vertical-align: middle;\n",
       "    }\n",
       "\n",
       "    .dataframe tbody tr th {\n",
       "        vertical-align: top;\n",
       "    }\n",
       "\n",
       "    .dataframe thead th {\n",
       "        text-align: right;\n",
       "    }\n",
       "</style>\n",
       "<table border=\"1\" class=\"dataframe\">\n",
       "  <thead>\n",
       "    <tr style=\"text-align: right;\">\n",
       "      <th></th>\n",
       "      <th>#</th>\n",
       "      <th>video_id</th>\n",
       "      <th>video_duration_sec</th>\n",
       "      <th>video_view_count</th>\n",
       "      <th>video_like_count</th>\n",
       "      <th>video_share_count</th>\n",
       "      <th>video_download_count</th>\n",
       "      <th>video_comment_count</th>\n",
       "    </tr>\n",
       "  </thead>\n",
       "  <tbody>\n",
       "    <tr>\n",
       "      <th>count</th>\n",
       "      <td>19382.000000</td>\n",
       "      <td>1.938200e+04</td>\n",
       "      <td>19382.000000</td>\n",
       "      <td>19084.000000</td>\n",
       "      <td>19084.000000</td>\n",
       "      <td>19084.000000</td>\n",
       "      <td>19084.000000</td>\n",
       "      <td>19084.000000</td>\n",
       "    </tr>\n",
       "    <tr>\n",
       "      <th>mean</th>\n",
       "      <td>9691.500000</td>\n",
       "      <td>5.627454e+09</td>\n",
       "      <td>32.421732</td>\n",
       "      <td>254708.558688</td>\n",
       "      <td>84304.636030</td>\n",
       "      <td>16735.248323</td>\n",
       "      <td>1049.429627</td>\n",
       "      <td>349.312146</td>\n",
       "    </tr>\n",
       "    <tr>\n",
       "      <th>std</th>\n",
       "      <td>5595.245794</td>\n",
       "      <td>2.536440e+09</td>\n",
       "      <td>16.229967</td>\n",
       "      <td>322893.280814</td>\n",
       "      <td>133420.546814</td>\n",
       "      <td>32036.174350</td>\n",
       "      <td>2004.299894</td>\n",
       "      <td>799.638865</td>\n",
       "    </tr>\n",
       "    <tr>\n",
       "      <th>min</th>\n",
       "      <td>1.000000</td>\n",
       "      <td>1.234959e+09</td>\n",
       "      <td>5.000000</td>\n",
       "      <td>20.000000</td>\n",
       "      <td>0.000000</td>\n",
       "      <td>0.000000</td>\n",
       "      <td>0.000000</td>\n",
       "      <td>0.000000</td>\n",
       "    </tr>\n",
       "    <tr>\n",
       "      <th>25%</th>\n",
       "      <td>4846.250000</td>\n",
       "      <td>3.430417e+09</td>\n",
       "      <td>18.000000</td>\n",
       "      <td>4942.500000</td>\n",
       "      <td>810.750000</td>\n",
       "      <td>115.000000</td>\n",
       "      <td>7.000000</td>\n",
       "      <td>1.000000</td>\n",
       "    </tr>\n",
       "    <tr>\n",
       "      <th>50%</th>\n",
       "      <td>9691.500000</td>\n",
       "      <td>5.618664e+09</td>\n",
       "      <td>32.000000</td>\n",
       "      <td>9954.500000</td>\n",
       "      <td>3403.500000</td>\n",
       "      <td>717.000000</td>\n",
       "      <td>46.000000</td>\n",
       "      <td>9.000000</td>\n",
       "    </tr>\n",
       "    <tr>\n",
       "      <th>75%</th>\n",
       "      <td>14536.750000</td>\n",
       "      <td>7.843960e+09</td>\n",
       "      <td>47.000000</td>\n",
       "      <td>504327.000000</td>\n",
       "      <td>125020.000000</td>\n",
       "      <td>18222.000000</td>\n",
       "      <td>1156.250000</td>\n",
       "      <td>292.000000</td>\n",
       "    </tr>\n",
       "    <tr>\n",
       "      <th>max</th>\n",
       "      <td>19382.000000</td>\n",
       "      <td>9.999873e+09</td>\n",
       "      <td>60.000000</td>\n",
       "      <td>999817.000000</td>\n",
       "      <td>657830.000000</td>\n",
       "      <td>256130.000000</td>\n",
       "      <td>14994.000000</td>\n",
       "      <td>9599.000000</td>\n",
       "    </tr>\n",
       "  </tbody>\n",
       "</table>\n",
       "</div>"
      ],
      "text/plain": [
       "                  #      video_id  video_duration_sec  video_view_count  \\\n",
       "count  19382.000000  1.938200e+04        19382.000000      19084.000000   \n",
       "mean    9691.500000  5.627454e+09           32.421732     254708.558688   \n",
       "std     5595.245794  2.536440e+09           16.229967     322893.280814   \n",
       "min        1.000000  1.234959e+09            5.000000         20.000000   \n",
       "25%     4846.250000  3.430417e+09           18.000000       4942.500000   \n",
       "50%     9691.500000  5.618664e+09           32.000000       9954.500000   \n",
       "75%    14536.750000  7.843960e+09           47.000000     504327.000000   \n",
       "max    19382.000000  9.999873e+09           60.000000     999817.000000   \n",
       "\n",
       "       video_like_count  video_share_count  video_download_count  \\\n",
       "count      19084.000000       19084.000000          19084.000000   \n",
       "mean       84304.636030       16735.248323           1049.429627   \n",
       "std       133420.546814       32036.174350           2004.299894   \n",
       "min            0.000000           0.000000              0.000000   \n",
       "25%          810.750000         115.000000              7.000000   \n",
       "50%         3403.500000         717.000000             46.000000   \n",
       "75%       125020.000000       18222.000000           1156.250000   \n",
       "max       657830.000000      256130.000000          14994.000000   \n",
       "\n",
       "       video_comment_count  \n",
       "count         19084.000000  \n",
       "mean            349.312146  \n",
       "std             799.638865  \n",
       "min               0.000000  \n",
       "25%               1.000000  \n",
       "50%               9.000000  \n",
       "75%             292.000000  \n",
       "max            9599.000000  "
      ]
     },
     "execution_count": 4,
     "metadata": {},
     "output_type": "execute_result"
    }
   ],
   "source": [
    "# Generate a table of descriptive statistics about the data\n",
    "### YOUR CODE HERE ###\n",
    "\n",
    "data.describe()"
   ]
  },
  {
   "cell_type": "markdown",
   "id": "42be0d17",
   "metadata": {
    "id": "9OpeNQDdyIT6",
    "papermill": {
     "duration": 0.006634,
     "end_time": "2025-02-09T03:55:36.585296",
     "exception": false,
     "start_time": "2025-02-09T03:55:36.578662",
     "status": "completed"
    },
    "tags": []
   },
   "source": [
    "Check for and handle missing values."
   ]
  },
  {
   "cell_type": "code",
   "execution_count": 5,
   "id": "a0d5ff53",
   "metadata": {
    "execution": {
     "iopub.execute_input": "2025-02-09T03:55:36.600710Z",
     "iopub.status.busy": "2025-02-09T03:55:36.600252Z",
     "iopub.status.idle": "2025-02-09T03:55:36.614126Z",
     "shell.execute_reply": "2025-02-09T03:55:36.612853Z"
    },
    "id": "BrunHcfa7xnT",
    "papermill": {
     "duration": 0.023877,
     "end_time": "2025-02-09T03:55:36.616175",
     "exception": false,
     "start_time": "2025-02-09T03:55:36.592298",
     "status": "completed"
    },
    "tags": []
   },
   "outputs": [
    {
     "data": {
      "text/plain": [
       "#                             0\n",
       "claim_status                298\n",
       "video_id                      0\n",
       "video_duration_sec            0\n",
       "video_transcription_text    298\n",
       "verified_status               0\n",
       "author_ban_status             0\n",
       "video_view_count            298\n",
       "video_like_count            298\n",
       "video_share_count           298\n",
       "video_download_count        298\n",
       "video_comment_count         298\n",
       "dtype: int64"
      ]
     },
     "execution_count": 5,
     "metadata": {},
     "output_type": "execute_result"
    }
   ],
   "source": [
    "# Check for missing values\n",
    "### YOUR CODE HERE ###\n",
    "\n",
    "data.isnull().sum()"
   ]
  },
  {
   "cell_type": "code",
   "execution_count": 6,
   "id": "ea21d28f",
   "metadata": {
    "execution": {
     "iopub.execute_input": "2025-02-09T03:55:36.632559Z",
     "iopub.status.busy": "2025-02-09T03:55:36.632080Z",
     "iopub.status.idle": "2025-02-09T03:55:36.647520Z",
     "shell.execute_reply": "2025-02-09T03:55:36.646286Z"
    },
    "id": "SHSj1Hma914I",
    "papermill": {
     "duration": 0.026358,
     "end_time": "2025-02-09T03:55:36.649763",
     "exception": false,
     "start_time": "2025-02-09T03:55:36.623405",
     "status": "completed"
    },
    "tags": []
   },
   "outputs": [],
   "source": [
    "# Drop rows with missing values\n",
    "\n",
    "### YOUR CODE HERE ###\n",
    "\n",
    "# row means axis 0, dropping the null rows and overwriting on the existing dataframe\n",
    "\n",
    "data = data.dropna(axis=0)"
   ]
  },
  {
   "cell_type": "code",
   "execution_count": 7,
   "id": "9fba478b",
   "metadata": {
    "execution": {
     "iopub.execute_input": "2025-02-09T03:55:36.666807Z",
     "iopub.status.busy": "2025-02-09T03:55:36.666322Z",
     "iopub.status.idle": "2025-02-09T03:55:36.684394Z",
     "shell.execute_reply": "2025-02-09T03:55:36.683123Z"
    },
    "id": "ZYUF3xap9_Fa",
    "papermill": {
     "duration": 0.028515,
     "end_time": "2025-02-09T03:55:36.686233",
     "exception": false,
     "start_time": "2025-02-09T03:55:36.657718",
     "status": "completed"
    },
    "tags": []
   },
   "outputs": [
    {
     "data": {
      "text/html": [
       "<div>\n",
       "<style scoped>\n",
       "    .dataframe tbody tr th:only-of-type {\n",
       "        vertical-align: middle;\n",
       "    }\n",
       "\n",
       "    .dataframe tbody tr th {\n",
       "        vertical-align: top;\n",
       "    }\n",
       "\n",
       "    .dataframe thead th {\n",
       "        text-align: right;\n",
       "    }\n",
       "</style>\n",
       "<table border=\"1\" class=\"dataframe\">\n",
       "  <thead>\n",
       "    <tr style=\"text-align: right;\">\n",
       "      <th></th>\n",
       "      <th>#</th>\n",
       "      <th>claim_status</th>\n",
       "      <th>video_id</th>\n",
       "      <th>video_duration_sec</th>\n",
       "      <th>video_transcription_text</th>\n",
       "      <th>verified_status</th>\n",
       "      <th>author_ban_status</th>\n",
       "      <th>video_view_count</th>\n",
       "      <th>video_like_count</th>\n",
       "      <th>video_share_count</th>\n",
       "      <th>video_download_count</th>\n",
       "      <th>video_comment_count</th>\n",
       "    </tr>\n",
       "  </thead>\n",
       "  <tbody>\n",
       "    <tr>\n",
       "      <th>0</th>\n",
       "      <td>1</td>\n",
       "      <td>claim</td>\n",
       "      <td>7017666017</td>\n",
       "      <td>59</td>\n",
       "      <td>someone shared with me that drone deliveries a...</td>\n",
       "      <td>not verified</td>\n",
       "      <td>under review</td>\n",
       "      <td>343296.0</td>\n",
       "      <td>19425.0</td>\n",
       "      <td>241.0</td>\n",
       "      <td>1.0</td>\n",
       "      <td>0.0</td>\n",
       "    </tr>\n",
       "    <tr>\n",
       "      <th>1</th>\n",
       "      <td>2</td>\n",
       "      <td>claim</td>\n",
       "      <td>4014381136</td>\n",
       "      <td>32</td>\n",
       "      <td>someone shared with me that there are more mic...</td>\n",
       "      <td>not verified</td>\n",
       "      <td>active</td>\n",
       "      <td>140877.0</td>\n",
       "      <td>77355.0</td>\n",
       "      <td>19034.0</td>\n",
       "      <td>1161.0</td>\n",
       "      <td>684.0</td>\n",
       "    </tr>\n",
       "    <tr>\n",
       "      <th>2</th>\n",
       "      <td>3</td>\n",
       "      <td>claim</td>\n",
       "      <td>9859838091</td>\n",
       "      <td>31</td>\n",
       "      <td>someone shared with me that american industria...</td>\n",
       "      <td>not verified</td>\n",
       "      <td>active</td>\n",
       "      <td>902185.0</td>\n",
       "      <td>97690.0</td>\n",
       "      <td>2858.0</td>\n",
       "      <td>833.0</td>\n",
       "      <td>329.0</td>\n",
       "    </tr>\n",
       "    <tr>\n",
       "      <th>3</th>\n",
       "      <td>4</td>\n",
       "      <td>claim</td>\n",
       "      <td>1866847991</td>\n",
       "      <td>25</td>\n",
       "      <td>someone shared with me that the metro of st. p...</td>\n",
       "      <td>not verified</td>\n",
       "      <td>active</td>\n",
       "      <td>437506.0</td>\n",
       "      <td>239954.0</td>\n",
       "      <td>34812.0</td>\n",
       "      <td>1234.0</td>\n",
       "      <td>584.0</td>\n",
       "    </tr>\n",
       "    <tr>\n",
       "      <th>4</th>\n",
       "      <td>5</td>\n",
       "      <td>claim</td>\n",
       "      <td>7105231098</td>\n",
       "      <td>19</td>\n",
       "      <td>someone shared with me that the number of busi...</td>\n",
       "      <td>not verified</td>\n",
       "      <td>active</td>\n",
       "      <td>56167.0</td>\n",
       "      <td>34987.0</td>\n",
       "      <td>4110.0</td>\n",
       "      <td>547.0</td>\n",
       "      <td>152.0</td>\n",
       "    </tr>\n",
       "  </tbody>\n",
       "</table>\n",
       "</div>"
      ],
      "text/plain": [
       "   # claim_status    video_id  video_duration_sec  \\\n",
       "0  1        claim  7017666017                  59   \n",
       "1  2        claim  4014381136                  32   \n",
       "2  3        claim  9859838091                  31   \n",
       "3  4        claim  1866847991                  25   \n",
       "4  5        claim  7105231098                  19   \n",
       "\n",
       "                            video_transcription_text verified_status  \\\n",
       "0  someone shared with me that drone deliveries a...    not verified   \n",
       "1  someone shared with me that there are more mic...    not verified   \n",
       "2  someone shared with me that american industria...    not verified   \n",
       "3  someone shared with me that the metro of st. p...    not verified   \n",
       "4  someone shared with me that the number of busi...    not verified   \n",
       "\n",
       "  author_ban_status  video_view_count  video_like_count  video_share_count  \\\n",
       "0      under review          343296.0           19425.0              241.0   \n",
       "1            active          140877.0           77355.0            19034.0   \n",
       "2            active          902185.0           97690.0             2858.0   \n",
       "3            active          437506.0          239954.0            34812.0   \n",
       "4            active           56167.0           34987.0             4110.0   \n",
       "\n",
       "   video_download_count  video_comment_count  \n",
       "0                   1.0                  0.0  \n",
       "1                1161.0                684.0  \n",
       "2                 833.0                329.0  \n",
       "3                1234.0                584.0  \n",
       "4                 547.0                152.0  "
      ]
     },
     "execution_count": 7,
     "metadata": {},
     "output_type": "execute_result"
    }
   ],
   "source": [
    "# Display first few rows after handling missing values\n",
    "\n",
    "### YOUR CODE HERE ###\n",
    "\n",
    "data.head()"
   ]
  },
  {
   "cell_type": "markdown",
   "id": "592bbe91",
   "metadata": {
    "id": "-fFiNg4hdGBK",
    "papermill": {
     "duration": 0.007372,
     "end_time": "2025-02-09T03:55:36.701135",
     "exception": false,
     "start_time": "2025-02-09T03:55:36.693763",
     "status": "completed"
    },
    "tags": []
   },
   "source": [
    "You are interested in the relationship between `verified_status` and `video_view_count`. One approach is to examine the mean value of `video_view_count` for each group of `verified_status` in the sample data."
   ]
  },
  {
   "cell_type": "code",
   "execution_count": 8,
   "id": "58622ba1",
   "metadata": {
    "execution": {
     "iopub.execute_input": "2025-02-09T03:55:36.717854Z",
     "iopub.status.busy": "2025-02-09T03:55:36.717416Z",
     "iopub.status.idle": "2025-02-09T03:55:36.742073Z",
     "shell.execute_reply": "2025-02-09T03:55:36.740721Z"
    },
    "id": "2LGEWrdVXgI2",
    "papermill": {
     "duration": 0.035769,
     "end_time": "2025-02-09T03:55:36.744142",
     "exception": false,
     "start_time": "2025-02-09T03:55:36.708373",
     "status": "completed"
    },
    "tags": []
   },
   "outputs": [
    {
     "name": "stdout",
     "output_type": "stream",
     "text": [
      "Mean video counts for each verified status:\n"
     ]
    },
    {
     "data": {
      "text/html": [
       "<div>\n",
       "<style scoped>\n",
       "    .dataframe tbody tr th:only-of-type {\n",
       "        vertical-align: middle;\n",
       "    }\n",
       "\n",
       "    .dataframe tbody tr th {\n",
       "        vertical-align: top;\n",
       "    }\n",
       "\n",
       "    .dataframe thead th {\n",
       "        text-align: right;\n",
       "    }\n",
       "</style>\n",
       "<table border=\"1\" class=\"dataframe\">\n",
       "  <thead>\n",
       "    <tr style=\"text-align: right;\">\n",
       "      <th></th>\n",
       "      <th>video_view_count</th>\n",
       "    </tr>\n",
       "    <tr>\n",
       "      <th>verified_status</th>\n",
       "      <th></th>\n",
       "    </tr>\n",
       "  </thead>\n",
       "  <tbody>\n",
       "    <tr>\n",
       "      <th>not verified</th>\n",
       "      <td>265663.785339</td>\n",
       "    </tr>\n",
       "    <tr>\n",
       "      <th>verified</th>\n",
       "      <td>91439.164167</td>\n",
       "    </tr>\n",
       "  </tbody>\n",
       "</table>\n",
       "</div>"
      ],
      "text/plain": [
       "                 video_view_count\n",
       "verified_status                  \n",
       "not verified        265663.785339\n",
       "verified             91439.164167"
      ]
     },
     "execution_count": 8,
     "metadata": {},
     "output_type": "execute_result"
    }
   ],
   "source": [
    "# Compute the mean `video_view_count` for each group in `verified_status`\n",
    "### YOUR CODE HERE ###\n",
    "\n",
    "print('Mean video counts for each verified status:')\n",
    "\n",
    "data.groupby(\"verified_status\").agg({'video_view_count':'mean'})"
   ]
  },
  {
   "cell_type": "markdown",
   "id": "d6c6b034",
   "metadata": {
    "id": "QpFRQDaNzX6p",
    "papermill": {
     "duration": 0.007444,
     "end_time": "2025-02-09T03:55:36.759907",
     "exception": false,
     "start_time": "2025-02-09T03:55:36.752463",
     "status": "completed"
    },
    "tags": []
   },
   "source": [
    "### **Task 3. Hypothesis testing**\n",
    "\n",
    "Before you conduct your hypothesis test, consider the following questions where applicable to complete your code response:\n",
    "\n",
    "1. Recall the difference between the null hypothesis and the alternative hypotheses. What are your hypotheses for this data project?"
   ]
  },
  {
   "cell_type": "markdown",
   "id": "b47f0d0b",
   "metadata": {
    "id": "ViBd7pL-tYHY",
    "papermill": {
     "duration": 0.007436,
     "end_time": "2025-02-09T03:55:36.775037",
     "exception": false,
     "start_time": "2025-02-09T03:55:36.767601",
     "status": "completed"
    },
    "tags": []
   },
   "source": [
    "* H0 --> NO significant difference between the mean view counts between videos posted by verified and unverified accounts\n",
    "* Ha --> there is significant difference between the mean view counts between videos posted by verified and unverified accounts"
   ]
  },
  {
   "cell_type": "markdown",
   "id": "cb6684d7",
   "metadata": {
    "id": "7Mn5GJ460HUS",
    "papermill": {
     "duration": 0.00829,
     "end_time": "2025-02-09T03:55:36.791451",
     "exception": false,
     "start_time": "2025-02-09T03:55:36.783161",
     "status": "completed"
    },
    "tags": []
   },
   "source": [
    "\n",
    "\n",
    "Your goal in this step is to conduct a two-sample t-test. Recall the steps for conducting a hypothesis test:\n",
    "\n",
    "\n",
    "1.   State the null hypothesis and the alternative hypothesis\n",
    "2.   Choose a signficance level\n",
    "3.   Find the p-value\n",
    "4.   Reject or fail to reject the null hypothesis\n",
    "\n"
   ]
  },
  {
   "cell_type": "markdown",
   "id": "e9d42469",
   "metadata": {
    "id": "IVHpnfvNeTUA",
    "papermill": {
     "duration": 0.008185,
     "end_time": "2025-02-09T03:55:36.807271",
     "exception": false,
     "start_time": "2025-02-09T03:55:36.799086",
     "status": "completed"
    },
    "tags": []
   },
   "source": [
    "You choose 5% as the significance level and proceed with a two-sample t-test."
   ]
  },
  {
   "cell_type": "code",
   "execution_count": 9,
   "id": "f6809f82",
   "metadata": {
    "execution": {
     "iopub.execute_input": "2025-02-09T03:55:36.823653Z",
     "iopub.status.busy": "2025-02-09T03:55:36.823221Z",
     "iopub.status.idle": "2025-02-09T03:55:36.855821Z",
     "shell.execute_reply": "2025-02-09T03:55:36.854753Z"
    },
    "id": "rdlsXg7Dhbrd",
    "papermill": {
     "duration": 0.043155,
     "end_time": "2025-02-09T03:55:36.857866",
     "exception": false,
     "start_time": "2025-02-09T03:55:36.814711",
     "status": "completed"
    },
    "tags": []
   },
   "outputs": [
    {
     "data": {
      "text/plain": [
       "TtestResult(statistic=25.499441780633777, pvalue=2.6088823687177816e-120, df=1571.1630743874234)"
      ]
     },
     "execution_count": 9,
     "metadata": {},
     "output_type": "execute_result"
    }
   ],
   "source": [
    "# Conduct a two-sample t-test to compare means\n",
    "### YOUR CODE HERE ###\n",
    "\n",
    "# subsetting the dataframe into 2 new variables with not verified and verified video view counts\n",
    "\n",
    "not_verified = data[data['verified_status'] == \"not verified\"]\n",
    "\n",
    "verified = data[data['verified_status']== \"verified\"]\n",
    "\n",
    "\n",
    "# perform a t-test to compare the 2 samples, 2 tailed test, considering the sample variance are unequal\n",
    "\n",
    "stats.ttest_ind(a=not_verified['video_view_count'], b=verified['video_view_count'], equal_var=False)"
   ]
  },
  {
   "cell_type": "markdown",
   "id": "4ae7b907",
   "metadata": {
    "id": "BmCJLuE2vwpI",
    "papermill": {
     "duration": 0.007873,
     "end_time": "2025-02-09T03:55:36.873457",
     "exception": false,
     "start_time": "2025-02-09T03:55:36.865584",
     "status": "completed"
    },
    "tags": []
   },
   "source": [
    "**Question:** Based on the p-value you got above, do you reject or fail to reject the null hypothesis?\n"
   ]
  },
  {
   "cell_type": "markdown",
   "id": "5ea47ef3",
   "metadata": {
    "id": "64Wq_VSaVsNm",
    "papermill": {
     "duration": 0.007275,
     "end_time": "2025-02-09T03:55:36.888329",
     "exception": false,
     "start_time": "2025-02-09T03:55:36.881054",
     "status": "completed"
    },
    "tags": []
   },
   "source": [
    "* p value = 2.6e-120 (confidence level = 0.05)\n",
    "* p value < confidence level\n",
    "* we can reject the null hypothesis\n",
    "* so, we can conclude that there is a statistically significant difference in the video view counts between verified and unverified accounts\n"
   ]
  },
  {
   "cell_type": "markdown",
   "id": "cacdc8d6",
   "metadata": {
    "id": "Ab4e-W3mzX6r",
    "papermill": {
     "duration": 0.007943,
     "end_time": "2025-02-09T03:55:36.904862",
     "exception": false,
     "start_time": "2025-02-09T03:55:36.896919",
     "status": "completed"
    },
    "tags": []
   },
   "source": [
    "<img src=\"images/Execute.png\" width=\"100\" height=\"100\" align=left>\n",
    "\n",
    "## **PACE: Execute**\n",
    "\n",
    "Consider the questions in your PACE Strategy Documentto reflect on the Execute stage."
   ]
  },
  {
   "cell_type": "markdown",
   "id": "a5e641d8",
   "metadata": {
    "id": "h1PRfiD3hcwE",
    "papermill": {
     "duration": 0.008427,
     "end_time": "2025-02-09T03:55:36.921895",
     "exception": false,
     "start_time": "2025-02-09T03:55:36.913468",
     "status": "completed"
    },
    "tags": []
   },
   "source": [
    "## **Step 4: Communicate insights with stakeholders**"
   ]
  },
  {
   "cell_type": "markdown",
   "id": "8b497c04",
   "metadata": {
    "id": "ItreFaZKhvVw",
    "papermill": {
     "duration": 0.008033,
     "end_time": "2025-02-09T03:55:36.940019",
     "exception": false,
     "start_time": "2025-02-09T03:55:36.931986",
     "status": "completed"
    },
    "tags": []
   },
   "source": [
    "*Ask yourself the following questions:*\n",
    "\n",
    "1. What business insight(s) can you draw from the result of your hypothesis test?"
   ]
  },
  {
   "cell_type": "markdown",
   "id": "414d0d80",
   "metadata": {
    "id": "lL__ZEvhtQIH",
    "papermill": {
     "duration": 0.008945,
     "end_time": "2025-02-09T03:55:36.957436",
     "exception": false,
     "start_time": "2025-02-09T03:55:36.948491",
     "status": "completed"
    },
    "tags": []
   },
   "source": [
    "* Using a t-test between 2 samples with a significance level of 5%, we have confirmed that there is a statistically significant difference between the mean sample video view counts among the verified and unverified users\n",
    "\n",
    "* we can now further investigate which factors (features) can influence for this to happen"
   ]
  },
  {
   "cell_type": "markdown",
   "id": "604d8321",
   "metadata": {
    "papermill": {
     "duration": 0.008644,
     "end_time": "2025-02-09T03:55:36.975640",
     "exception": false,
     "start_time": "2025-02-09T03:55:36.966996",
     "status": "completed"
    },
    "tags": []
   },
   "source": [
    "**Congratulations!** You've completed this lab. However, you may not notice a green check mark next to this item on Coursera's platform. Please continue your progress regardless of the check mark. Just click on the \"save\" icon at the top of this notebook to ensure your work has been logged."
   ]
  }
 ],
 "metadata": {
  "colab": {
   "provenance": [],
   "toc_visible": true
  },
  "kaggle": {
   "accelerator": "none",
   "dataSources": [
    {
     "datasetId": 6605782,
     "sourceId": 10666327,
     "sourceType": "datasetVersion"
    }
   ],
   "dockerImageVersionId": 30886,
   "isGpuEnabled": false,
   "isInternetEnabled": true,
   "language": "python",
   "sourceType": "notebook"
  },
  "kernelspec": {
   "display_name": "Python 3",
   "language": "python",
   "name": "python3"
  },
  "language_info": {
   "codemirror_mode": {
    "name": "ipython",
    "version": 3
   },
   "file_extension": ".py",
   "mimetype": "text/x-python",
   "name": "python",
   "nbconvert_exporter": "python",
   "pygments_lexer": "ipython3",
   "version": "3.10.12"
  },
  "papermill": {
   "default_parameters": {},
   "duration": 8.576694,
   "end_time": "2025-02-09T03:55:37.811334",
   "environment_variables": {},
   "exception": null,
   "input_path": "__notebook__.ipynb",
   "output_path": "__notebook__.ipynb",
   "parameters": {},
   "start_time": "2025-02-09T03:55:29.234640",
   "version": "2.6.0"
  }
 },
 "nbformat": 4,
 "nbformat_minor": 5
}
