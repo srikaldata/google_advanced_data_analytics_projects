{
 "cells": [
  {
   "cell_type": "markdown",
   "id": "9974a672",
   "metadata": {
    "id": "DtNBZFHO3M7n",
    "papermill": {
     "duration": 0.0173,
     "end_time": "2025-02-12T04:39:44.375661",
     "exception": false,
     "start_time": "2025-02-12T04:39:44.358361",
     "status": "completed"
    },
    "tags": []
   },
   "source": [
    "# **Waze Project**\n",
    "**Course 5 - Regression analysis: Simplify complex data relationships**"
   ]
  },
  {
   "cell_type": "markdown",
   "id": "9b66b6b1",
   "metadata": {
    "id": "kaOj1equPMAb",
    "papermill": {
     "duration": 0.016376,
     "end_time": "2025-02-12T04:39:44.408079",
     "exception": false,
     "start_time": "2025-02-12T04:39:44.391703",
     "status": "completed"
    },
    "tags": []
   },
   "source": [
    "Your team is more than halfway through their user churn project. Earlier, you completed a project proposal, used Python to explore and analyze Waze’s user data, created data visualizations, and conducted a hypothesis test. Now, leadership wants your team to build a regression model to predict user churn based on a variety of variables.\n",
    "\n",
    "You check your inbox and discover a new email from Ursula Sayo, Waze's Operations Manager. Ursula asks your team about the details of the regression model. You also notice two follow-up emails from your supervisor, May Santner. The first email is a response to Ursula, and says that the team will build a binomial logistic regression model. In her second email, May asks you to help build the model and prepare an executive summary to share your results.\n",
    "\n",
    "A notebook was structured and prepared to help you in this project. Please complete the following questions and prepare an executive summary."
   ]
  },
  {
   "cell_type": "markdown",
   "id": "3f2d93f3",
   "metadata": {
    "id": "rgSbVJvomcVa",
    "papermill": {
     "duration": 0.016174,
     "end_time": "2025-02-12T04:39:44.442511",
     "exception": false,
     "start_time": "2025-02-12T04:39:44.426337",
     "status": "completed"
    },
    "tags": []
   },
   "source": [
    "# **Course 5 End-of-course project: Regression modeling**\n",
    "\n",
    "In this activity, you will build a binomial logistic regression model. As you have learned, logistic regression helps you estimate the probability of an outcome. For data science professionals, this is a useful skill because it allows you to consider more than one variable against the variable you're measuring against. This opens the door for much more thorough and flexible analysis to be completed.\n",
    "<br/>\n",
    "\n",
    "**The purpose** of this project is to demostrate knowledge of exploratory data analysis (EDA) and a binomial logistic regression model.\n",
    "\n",
    "**The goal** is to build a binomial logistic regression model and evaluate the model's performance.\n",
    "<br/>\n",
    "\n",
    "*This activity has three parts:*\n",
    "\n",
    "**Part 1:** EDA & Checking Model Assumptions\n",
    "* What are some purposes of EDA before constructing a binomial logistic regression model?\n",
    "\n",
    "**Part 2:** Model Building and Evaluation\n",
    "* What resources do you find yourself using as you complete this stage?\n",
    "\n",
    "**Part 3:** Interpreting Model Results\n",
    "\n",
    "* What key insights emerged from your model(s)?\n",
    "\n",
    "* What business recommendations do you propose based on the models built?\n",
    "\n",
    "<br/>\n",
    "\n",
    "Follow the instructions and answer the question below to complete the activity. Then, you will complete an executive summary using the questions listed on the PACE Strategy Document.\n",
    "\n",
    "Be sure to complete this activity before moving on. The next course item will provide you with a completed exemplar to compare to your own work."
   ]
  },
  {
   "cell_type": "markdown",
   "id": "7e4cb8e6",
   "metadata": {
    "id": "4L5F-G_cfLWL",
    "papermill": {
     "duration": 0.015722,
     "end_time": "2025-02-12T04:39:44.473899",
     "exception": false,
     "start_time": "2025-02-12T04:39:44.458177",
     "status": "completed"
    },
    "tags": []
   },
   "source": [
    "# **Build a regression model**"
   ]
  },
  {
   "cell_type": "markdown",
   "id": "b2f088b3",
   "metadata": {
    "id": "3UCHQclzQDUL",
    "papermill": {
     "duration": 0.01539,
     "end_time": "2025-02-12T04:39:44.505194",
     "exception": false,
     "start_time": "2025-02-12T04:39:44.489804",
     "status": "completed"
    },
    "tags": []
   },
   "source": [
    "<img src=\"images/Pace.png\" width=\"100\" height=\"100\" align=left>\n",
    "\n",
    "# **PACE stages**\n"
   ]
  },
  {
   "cell_type": "markdown",
   "id": "39cad397",
   "metadata": {
    "id": "3lzafIgkjrdR",
    "papermill": {
     "duration": 0.015058,
     "end_time": "2025-02-12T04:39:44.535794",
     "exception": false,
     "start_time": "2025-02-12T04:39:44.520736",
     "status": "completed"
    },
    "tags": []
   },
   "source": [
    "Throughout these project notebooks, you'll see references to the problem-solving framework PACE. The following notebook components are labeled with the respective PACE stage: Plan, Analyze, Construct, and Execute."
   ]
  },
  {
   "cell_type": "markdown",
   "id": "779a3de4",
   "metadata": {
    "id": "F5O5cx_qQJmX",
    "papermill": {
     "duration": 0.015317,
     "end_time": "2025-02-12T04:39:44.566883",
     "exception": false,
     "start_time": "2025-02-12T04:39:44.551566",
     "status": "completed"
    },
    "tags": []
   },
   "source": [
    "<img src=\"images/Plan.png\" width=\"100\" height=\"100\" align=left>\n",
    "\n",
    "\n",
    "## **PACE: Plan**\n",
    "Consider the questions in your PACE Strategy Document to reflect on the Plan stage."
   ]
  },
  {
   "cell_type": "markdown",
   "id": "c61e4ee6",
   "metadata": {
    "id": "D8qYlvkLQsf2",
    "papermill": {
     "duration": 0.015063,
     "end_time": "2025-02-12T04:39:44.597999",
     "exception": false,
     "start_time": "2025-02-12T04:39:44.582936",
     "status": "completed"
    },
    "tags": []
   },
   "source": [
    "### **Task 1. Imports and data loading**\n",
    "Import the data and packages that you've learned are needed for building logistic regression models."
   ]
  },
  {
   "cell_type": "code",
   "execution_count": 1,
   "id": "91f737c9",
   "metadata": {
    "execution": {
     "iopub.execute_input": "2025-02-12T04:39:44.630381Z",
     "iopub.status.busy": "2025-02-12T04:39:44.629859Z",
     "iopub.status.idle": "2025-02-12T04:39:47.694291Z",
     "shell.execute_reply": "2025-02-12T04:39:47.693062Z"
    },
    "id": "ccfeg6X6eOVZ",
    "papermill": {
     "duration": 3.08302,
     "end_time": "2025-02-12T04:39:47.696346",
     "exception": false,
     "start_time": "2025-02-12T04:39:44.613326",
     "status": "completed"
    },
    "tags": []
   },
   "outputs": [],
   "source": [
    "# Packages for numerics + dataframes\n",
    "### YOUR CODE HERE ###\n",
    "import pandas as pd\n",
    "import numpy as np\n",
    "\n",
    "# Packages for visualization\n",
    "### YOUR CODE HERE ###\n",
    "import matplotlib.pyplot as plt\n",
    "import seaborn as sns\n",
    "\n",
    "# Packages for Logistic Regression & Confusion Matrix\n",
    "### YOUR CODE HERE ###\n",
    "from sklearn.preprocessing import StandardScaler, OneHotEncoder\n",
    "from sklearn.model_selection import train_test_split\n",
    "from sklearn.metrics import classification_report, accuracy_score, precision_score, \\\n",
    "recall_score, f1_score, confusion_matrix, ConfusionMatrixDisplay\n",
    "from sklearn.linear_model import LogisticRegression"
   ]
  },
  {
   "cell_type": "markdown",
   "id": "fc33f085",
   "metadata": {
    "id": "LjljvyG32kqe",
    "papermill": {
     "duration": 0.015248,
     "end_time": "2025-02-12T04:39:47.727432",
     "exception": false,
     "start_time": "2025-02-12T04:39:47.712184",
     "status": "completed"
    },
    "tags": []
   },
   "source": [
    "Import the dataset.\n",
    "\n",
    "**Note:** As shown in this cell, the dataset has been automatically loaded in for you. You do not need to download the .csv file, or provide more code, in order to access the dataset and proceed with this lab. Please continue with this activity by completing the following instructions."
   ]
  },
  {
   "cell_type": "code",
   "execution_count": 2,
   "id": "5045e804",
   "metadata": {
    "execution": {
     "iopub.execute_input": "2025-02-12T04:39:47.759946Z",
     "iopub.status.busy": "2025-02-12T04:39:47.759451Z",
     "iopub.status.idle": "2025-02-12T04:39:47.824546Z",
     "shell.execute_reply": "2025-02-12T04:39:47.823426Z"
    },
    "id": "TyR3sBUYJBO8",
    "papermill": {
     "duration": 0.083684,
     "end_time": "2025-02-12T04:39:47.826551",
     "exception": false,
     "start_time": "2025-02-12T04:39:47.742867",
     "status": "completed"
    },
    "tags": []
   },
   "outputs": [],
   "source": [
    "# Load the dataset by running this cell\n",
    "\n",
    "df = pd.read_csv('/kaggle/input/waze-dataset-1/waze_dataset.csv')"
   ]
  },
  {
   "cell_type": "markdown",
   "id": "2dcffc92",
   "metadata": {
    "id": "OnrvCSfHUWPv",
    "papermill": {
     "duration": 0.015053,
     "end_time": "2025-02-12T04:39:47.857604",
     "exception": false,
     "start_time": "2025-02-12T04:39:47.842551",
     "status": "completed"
    },
    "tags": []
   },
   "source": [
    "<img src=\"images/Analyze.png\" width=\"100\" height=\"100\" align=left>\n",
    "\n",
    "## **PACE: Analyze**\n",
    "\n",
    "Consider the questions in your PACE Strategy Document to reflect on the Analyze stage.\n",
    "\n",
    "In this stage, consider the following question:\n",
    "\n",
    "* What are some purposes of EDA before constructing a binomial logistic regression model?"
   ]
  },
  {
   "cell_type": "markdown",
   "id": "73e78b86",
   "metadata": {
    "id": "BgK-IOSRO4Sh",
    "papermill": {
     "duration": 0.015381,
     "end_time": "2025-02-12T04:39:47.888320",
     "exception": false,
     "start_time": "2025-02-12T04:39:47.872939",
     "status": "completed"
    },
    "tags": []
   },
   "source": [
    "* observe the dataset and the range of variables present\n",
    "* perform data cleaning and validation to deal with nulls, errors and duplicates\n",
    "* find out the distribution of each variables and the relation b/w variables\n",
    "* prepare the data for building models by transforming and typecasting\n",
    "* use visualizations to understand the bigger picture"
   ]
  },
  {
   "cell_type": "markdown",
   "id": "7b61b88f",
   "metadata": {
    "id": "rIcDG2e66wt9",
    "papermill": {
     "duration": 0.015188,
     "end_time": "2025-02-12T04:39:47.918857",
     "exception": false,
     "start_time": "2025-02-12T04:39:47.903669",
     "status": "completed"
    },
    "tags": []
   },
   "source": [
    "### **Task 2a. Explore data with EDA**\n",
    "\n",
    "Analyze and discover data, looking for correlations, missing data, potential outliers, and/or duplicates.\n",
    "\n"
   ]
  },
  {
   "cell_type": "markdown",
   "id": "5051c102",
   "metadata": {
    "id": "offDH5p62x73",
    "papermill": {
     "duration": 0.015153,
     "end_time": "2025-02-12T04:39:47.949416",
     "exception": false,
     "start_time": "2025-02-12T04:39:47.934263",
     "status": "completed"
    },
    "tags": []
   },
   "source": [
    "Start with `.shape` and `info()`."
   ]
  },
  {
   "cell_type": "code",
   "execution_count": 3,
   "id": "29ee5837",
   "metadata": {
    "execution": {
     "iopub.execute_input": "2025-02-12T04:39:47.983812Z",
     "iopub.status.busy": "2025-02-12T04:39:47.983413Z",
     "iopub.status.idle": "2025-02-12T04:39:48.022104Z",
     "shell.execute_reply": "2025-02-12T04:39:48.020655Z"
    },
    "id": "T4Ag-sZhWg6K",
    "papermill": {
     "duration": 0.058864,
     "end_time": "2025-02-12T04:39:48.024342",
     "exception": false,
     "start_time": "2025-02-12T04:39:47.965478",
     "status": "completed"
    },
    "tags": []
   },
   "outputs": [
    {
     "name": "stdout",
     "output_type": "stream",
     "text": [
      "(14999, 13)\n",
      "<class 'pandas.core.frame.DataFrame'>\n",
      "RangeIndex: 14999 entries, 0 to 14998\n",
      "Data columns (total 13 columns):\n",
      " #   Column                   Non-Null Count  Dtype  \n",
      "---  ------                   --------------  -----  \n",
      " 0   ID                       14999 non-null  int64  \n",
      " 1   label                    14299 non-null  object \n",
      " 2   sessions                 14999 non-null  int64  \n",
      " 3   drives                   14999 non-null  int64  \n",
      " 4   total_sessions           14999 non-null  float64\n",
      " 5   n_days_after_onboarding  14999 non-null  int64  \n",
      " 6   total_navigations_fav1   14999 non-null  int64  \n",
      " 7   total_navigations_fav2   14999 non-null  int64  \n",
      " 8   driven_km_drives         14999 non-null  float64\n",
      " 9   duration_minutes_drives  14999 non-null  float64\n",
      " 10  activity_days            14999 non-null  int64  \n",
      " 11  driving_days             14999 non-null  int64  \n",
      " 12  device                   14999 non-null  object \n",
      "dtypes: float64(3), int64(8), object(2)\n",
      "memory usage: 1.5+ MB\n",
      "None\n"
     ]
    }
   ],
   "source": [
    "### YOUR CODE HERE ###\n",
    "print(df.shape)\n",
    "print(df.info())"
   ]
  },
  {
   "cell_type": "markdown",
   "id": "5123e25c",
   "metadata": {
    "id": "Ut0mWpGG6mkh",
    "papermill": {
     "duration": 0.017368,
     "end_time": "2025-02-12T04:39:48.058206",
     "exception": false,
     "start_time": "2025-02-12T04:39:48.040838",
     "status": "completed"
    },
    "tags": []
   },
   "source": [
    "**Question:** Are there any missing values in your data?"
   ]
  },
  {
   "cell_type": "markdown",
   "id": "26857b2a",
   "metadata": {
    "id": "fSZgL1Eseep6",
    "papermill": {
     "duration": 0.076447,
     "end_time": "2025-02-12T04:39:48.152140",
     "exception": false,
     "start_time": "2025-02-12T04:39:48.075693",
     "status": "completed"
    },
    "tags": []
   },
   "source": [
    "* YES. 700 missing values in label column"
   ]
  },
  {
   "cell_type": "markdown",
   "id": "a718dc0c",
   "metadata": {
    "id": "ZCNi5-Ur2_en",
    "papermill": {
     "duration": 0.015078,
     "end_time": "2025-02-12T04:39:48.182823",
     "exception": false,
     "start_time": "2025-02-12T04:39:48.167745",
     "status": "completed"
    },
    "tags": []
   },
   "source": [
    "Use `.head()`.\n",
    "\n"
   ]
  },
  {
   "cell_type": "code",
   "execution_count": 4,
   "id": "1d87d1d8",
   "metadata": {
    "execution": {
     "iopub.execute_input": "2025-02-12T04:39:48.215736Z",
     "iopub.status.busy": "2025-02-12T04:39:48.215338Z",
     "iopub.status.idle": "2025-02-12T04:39:48.242981Z",
     "shell.execute_reply": "2025-02-12T04:39:48.241939Z"
    },
    "id": "ll2pxoClXgmx",
    "papermill": {
     "duration": 0.046063,
     "end_time": "2025-02-12T04:39:48.245057",
     "exception": false,
     "start_time": "2025-02-12T04:39:48.198994",
     "status": "completed"
    },
    "tags": []
   },
   "outputs": [
    {
     "data": {
      "text/html": [
       "<div>\n",
       "<style scoped>\n",
       "    .dataframe tbody tr th:only-of-type {\n",
       "        vertical-align: middle;\n",
       "    }\n",
       "\n",
       "    .dataframe tbody tr th {\n",
       "        vertical-align: top;\n",
       "    }\n",
       "\n",
       "    .dataframe thead th {\n",
       "        text-align: right;\n",
       "    }\n",
       "</style>\n",
       "<table border=\"1\" class=\"dataframe\">\n",
       "  <thead>\n",
       "    <tr style=\"text-align: right;\">\n",
       "      <th></th>\n",
       "      <th>ID</th>\n",
       "      <th>label</th>\n",
       "      <th>sessions</th>\n",
       "      <th>drives</th>\n",
       "      <th>total_sessions</th>\n",
       "      <th>n_days_after_onboarding</th>\n",
       "      <th>total_navigations_fav1</th>\n",
       "      <th>total_navigations_fav2</th>\n",
       "      <th>driven_km_drives</th>\n",
       "      <th>duration_minutes_drives</th>\n",
       "      <th>activity_days</th>\n",
       "      <th>driving_days</th>\n",
       "      <th>device</th>\n",
       "    </tr>\n",
       "  </thead>\n",
       "  <tbody>\n",
       "    <tr>\n",
       "      <th>0</th>\n",
       "      <td>0</td>\n",
       "      <td>retained</td>\n",
       "      <td>283</td>\n",
       "      <td>226</td>\n",
       "      <td>296.748273</td>\n",
       "      <td>2276</td>\n",
       "      <td>208</td>\n",
       "      <td>0</td>\n",
       "      <td>2628.845068</td>\n",
       "      <td>1985.775061</td>\n",
       "      <td>28</td>\n",
       "      <td>19</td>\n",
       "      <td>Android</td>\n",
       "    </tr>\n",
       "    <tr>\n",
       "      <th>1</th>\n",
       "      <td>1</td>\n",
       "      <td>retained</td>\n",
       "      <td>133</td>\n",
       "      <td>107</td>\n",
       "      <td>326.896596</td>\n",
       "      <td>1225</td>\n",
       "      <td>19</td>\n",
       "      <td>64</td>\n",
       "      <td>13715.920550</td>\n",
       "      <td>3160.472914</td>\n",
       "      <td>13</td>\n",
       "      <td>11</td>\n",
       "      <td>iPhone</td>\n",
       "    </tr>\n",
       "    <tr>\n",
       "      <th>2</th>\n",
       "      <td>2</td>\n",
       "      <td>retained</td>\n",
       "      <td>114</td>\n",
       "      <td>95</td>\n",
       "      <td>135.522926</td>\n",
       "      <td>2651</td>\n",
       "      <td>0</td>\n",
       "      <td>0</td>\n",
       "      <td>3059.148818</td>\n",
       "      <td>1610.735904</td>\n",
       "      <td>14</td>\n",
       "      <td>8</td>\n",
       "      <td>Android</td>\n",
       "    </tr>\n",
       "    <tr>\n",
       "      <th>3</th>\n",
       "      <td>3</td>\n",
       "      <td>retained</td>\n",
       "      <td>49</td>\n",
       "      <td>40</td>\n",
       "      <td>67.589221</td>\n",
       "      <td>15</td>\n",
       "      <td>322</td>\n",
       "      <td>7</td>\n",
       "      <td>913.591123</td>\n",
       "      <td>587.196542</td>\n",
       "      <td>7</td>\n",
       "      <td>3</td>\n",
       "      <td>iPhone</td>\n",
       "    </tr>\n",
       "    <tr>\n",
       "      <th>4</th>\n",
       "      <td>4</td>\n",
       "      <td>retained</td>\n",
       "      <td>84</td>\n",
       "      <td>68</td>\n",
       "      <td>168.247020</td>\n",
       "      <td>1562</td>\n",
       "      <td>166</td>\n",
       "      <td>5</td>\n",
       "      <td>3950.202008</td>\n",
       "      <td>1219.555924</td>\n",
       "      <td>27</td>\n",
       "      <td>18</td>\n",
       "      <td>Android</td>\n",
       "    </tr>\n",
       "  </tbody>\n",
       "</table>\n",
       "</div>"
      ],
      "text/plain": [
       "   ID     label  sessions  drives  total_sessions  n_days_after_onboarding  \\\n",
       "0   0  retained       283     226      296.748273                     2276   \n",
       "1   1  retained       133     107      326.896596                     1225   \n",
       "2   2  retained       114      95      135.522926                     2651   \n",
       "3   3  retained        49      40       67.589221                       15   \n",
       "4   4  retained        84      68      168.247020                     1562   \n",
       "\n",
       "   total_navigations_fav1  total_navigations_fav2  driven_km_drives  \\\n",
       "0                     208                       0       2628.845068   \n",
       "1                      19                      64      13715.920550   \n",
       "2                       0                       0       3059.148818   \n",
       "3                     322                       7        913.591123   \n",
       "4                     166                       5       3950.202008   \n",
       "\n",
       "   duration_minutes_drives  activity_days  driving_days   device  \n",
       "0              1985.775061             28            19  Android  \n",
       "1              3160.472914             13            11   iPhone  \n",
       "2              1610.735904             14             8  Android  \n",
       "3               587.196542              7             3   iPhone  \n",
       "4              1219.555924             27            18  Android  "
      ]
     },
     "execution_count": 4,
     "metadata": {},
     "output_type": "execute_result"
    }
   ],
   "source": [
    "### YOUR CODE HERE ###\n",
    "\n",
    "df.head()\n",
    "#df.columns"
   ]
  },
  {
   "cell_type": "markdown",
   "id": "b9421cf0",
   "metadata": {
    "id": "mT1h-utWs7ow",
    "papermill": {
     "duration": 0.015725,
     "end_time": "2025-02-12T04:39:48.277155",
     "exception": false,
     "start_time": "2025-02-12T04:39:48.261430",
     "status": "completed"
    },
    "tags": []
   },
   "source": [
    "Use `.drop()` to remove the ID column since we don't need this information for your analysis."
   ]
  },
  {
   "cell_type": "code",
   "execution_count": 5,
   "id": "b362353a",
   "metadata": {
    "execution": {
     "iopub.execute_input": "2025-02-12T04:39:48.310613Z",
     "iopub.status.busy": "2025-02-12T04:39:48.310264Z",
     "iopub.status.idle": "2025-02-12T04:39:48.318972Z",
     "shell.execute_reply": "2025-02-12T04:39:48.318125Z"
    },
    "id": "CZK6D8kls9cj",
    "papermill": {
     "duration": 0.027956,
     "end_time": "2025-02-12T04:39:48.320929",
     "exception": false,
     "start_time": "2025-02-12T04:39:48.292973",
     "status": "completed"
    },
    "tags": []
   },
   "outputs": [],
   "source": [
    "### YOUR CODE HERE ###\n",
    "\n",
    "df = df.drop('ID', axis=1)"
   ]
  },
  {
   "cell_type": "markdown",
   "id": "0a90c0aa",
   "metadata": {
    "id": "eXn6VVNO7ArZ",
    "papermill": {
     "duration": 0.016306,
     "end_time": "2025-02-12T04:39:48.353208",
     "exception": false,
     "start_time": "2025-02-12T04:39:48.336902",
     "status": "completed"
    },
    "tags": []
   },
   "source": [
    "Now, check the class balance of the dependent (target) variable, `label`."
   ]
  },
  {
   "cell_type": "code",
   "execution_count": 6,
   "id": "edf3e967",
   "metadata": {
    "execution": {
     "iopub.execute_input": "2025-02-12T04:39:48.386882Z",
     "iopub.status.busy": "2025-02-12T04:39:48.386555Z",
     "iopub.status.idle": "2025-02-12T04:39:48.394705Z",
     "shell.execute_reply": "2025-02-12T04:39:48.393623Z"
    },
    "id": "UCN_-mH87DwP",
    "papermill": {
     "duration": 0.026734,
     "end_time": "2025-02-12T04:39:48.396392",
     "exception": false,
     "start_time": "2025-02-12T04:39:48.369658",
     "status": "completed"
    },
    "tags": []
   },
   "outputs": [
    {
     "data": {
      "text/plain": [
       "label\n",
       "retained    11763\n",
       "churned      2536\n",
       "Name: count, dtype: int64"
      ]
     },
     "execution_count": 6,
     "metadata": {},
     "output_type": "execute_result"
    }
   ],
   "source": [
    "### YOUR CODE HERE ###\n",
    "df['label'].value_counts()"
   ]
  },
  {
   "cell_type": "code",
   "execution_count": 7,
   "id": "c364463e",
   "metadata": {
    "execution": {
     "iopub.execute_input": "2025-02-12T04:39:48.429967Z",
     "iopub.status.busy": "2025-02-12T04:39:48.429635Z",
     "iopub.status.idle": "2025-02-12T04:39:48.439530Z",
     "shell.execute_reply": "2025-02-12T04:39:48.438371Z"
    },
    "papermill": {
     "duration": 0.028713,
     "end_time": "2025-02-12T04:39:48.441288",
     "exception": false,
     "start_time": "2025-02-12T04:39:48.412575",
     "status": "completed"
    },
    "tags": []
   },
   "outputs": [
    {
     "data": {
      "text/plain": [
       "label\n",
       "retained    0.822645\n",
       "churned     0.177355\n",
       "Name: proportion, dtype: float64"
      ]
     },
     "execution_count": 7,
     "metadata": {},
     "output_type": "execute_result"
    }
   ],
   "source": [
    "df['label'].value_counts(normalize=True)"
   ]
  },
  {
   "cell_type": "markdown",
   "id": "8905fd5b",
   "metadata": {
    "id": "pcEIBLGcIbGa",
    "papermill": {
     "duration": 0.016152,
     "end_time": "2025-02-12T04:39:48.473813",
     "exception": false,
     "start_time": "2025-02-12T04:39:48.457661",
     "status": "completed"
    },
    "tags": []
   },
   "source": [
    "Call `.describe()` on the data.\n"
   ]
  },
  {
   "cell_type": "code",
   "execution_count": 8,
   "id": "b538ed2e",
   "metadata": {
    "execution": {
     "iopub.execute_input": "2025-02-12T04:39:48.509264Z",
     "iopub.status.busy": "2025-02-12T04:39:48.508857Z",
     "iopub.status.idle": "2025-02-12T04:39:48.562434Z",
     "shell.execute_reply": "2025-02-12T04:39:48.560853Z"
    },
    "id": "AjcSoFeVIhYf",
    "papermill": {
     "duration": 0.074336,
     "end_time": "2025-02-12T04:39:48.564624",
     "exception": false,
     "start_time": "2025-02-12T04:39:48.490288",
     "status": "completed"
    },
    "tags": []
   },
   "outputs": [
    {
     "name": "stderr",
     "output_type": "stream",
     "text": [
      "/usr/local/lib/python3.10/dist-packages/pandas/io/formats/format.py:1458: RuntimeWarning: invalid value encountered in greater\n",
      "  has_large_values = (abs_vals > 1e6).any()\n",
      "/usr/local/lib/python3.10/dist-packages/pandas/io/formats/format.py:1459: RuntimeWarning: invalid value encountered in less\n",
      "  has_small_values = ((abs_vals < 10 ** (-self.digits)) & (abs_vals > 0)).any()\n",
      "/usr/local/lib/python3.10/dist-packages/pandas/io/formats/format.py:1459: RuntimeWarning: invalid value encountered in greater\n",
      "  has_small_values = ((abs_vals < 10 ** (-self.digits)) & (abs_vals > 0)).any()\n"
     ]
    },
    {
     "data": {
      "text/html": [
       "<div>\n",
       "<style scoped>\n",
       "    .dataframe tbody tr th:only-of-type {\n",
       "        vertical-align: middle;\n",
       "    }\n",
       "\n",
       "    .dataframe tbody tr th {\n",
       "        vertical-align: top;\n",
       "    }\n",
       "\n",
       "    .dataframe thead th {\n",
       "        text-align: right;\n",
       "    }\n",
       "</style>\n",
       "<table border=\"1\" class=\"dataframe\">\n",
       "  <thead>\n",
       "    <tr style=\"text-align: right;\">\n",
       "      <th></th>\n",
       "      <th>label</th>\n",
       "      <th>sessions</th>\n",
       "      <th>drives</th>\n",
       "      <th>total_sessions</th>\n",
       "      <th>n_days_after_onboarding</th>\n",
       "      <th>total_navigations_fav1</th>\n",
       "      <th>total_navigations_fav2</th>\n",
       "      <th>driven_km_drives</th>\n",
       "      <th>duration_minutes_drives</th>\n",
       "      <th>activity_days</th>\n",
       "      <th>driving_days</th>\n",
       "      <th>device</th>\n",
       "    </tr>\n",
       "  </thead>\n",
       "  <tbody>\n",
       "    <tr>\n",
       "      <th>count</th>\n",
       "      <td>14299</td>\n",
       "      <td>14999.000000</td>\n",
       "      <td>14999.000000</td>\n",
       "      <td>14999.000000</td>\n",
       "      <td>14999.000000</td>\n",
       "      <td>14999.000000</td>\n",
       "      <td>14999.000000</td>\n",
       "      <td>14999.000000</td>\n",
       "      <td>14999.000000</td>\n",
       "      <td>14999.000000</td>\n",
       "      <td>14999.000000</td>\n",
       "      <td>14999</td>\n",
       "    </tr>\n",
       "    <tr>\n",
       "      <th>unique</th>\n",
       "      <td>2</td>\n",
       "      <td>NaN</td>\n",
       "      <td>NaN</td>\n",
       "      <td>NaN</td>\n",
       "      <td>NaN</td>\n",
       "      <td>NaN</td>\n",
       "      <td>NaN</td>\n",
       "      <td>NaN</td>\n",
       "      <td>NaN</td>\n",
       "      <td>NaN</td>\n",
       "      <td>NaN</td>\n",
       "      <td>2</td>\n",
       "    </tr>\n",
       "    <tr>\n",
       "      <th>top</th>\n",
       "      <td>retained</td>\n",
       "      <td>NaN</td>\n",
       "      <td>NaN</td>\n",
       "      <td>NaN</td>\n",
       "      <td>NaN</td>\n",
       "      <td>NaN</td>\n",
       "      <td>NaN</td>\n",
       "      <td>NaN</td>\n",
       "      <td>NaN</td>\n",
       "      <td>NaN</td>\n",
       "      <td>NaN</td>\n",
       "      <td>iPhone</td>\n",
       "    </tr>\n",
       "    <tr>\n",
       "      <th>freq</th>\n",
       "      <td>11763</td>\n",
       "      <td>NaN</td>\n",
       "      <td>NaN</td>\n",
       "      <td>NaN</td>\n",
       "      <td>NaN</td>\n",
       "      <td>NaN</td>\n",
       "      <td>NaN</td>\n",
       "      <td>NaN</td>\n",
       "      <td>NaN</td>\n",
       "      <td>NaN</td>\n",
       "      <td>NaN</td>\n",
       "      <td>9672</td>\n",
       "    </tr>\n",
       "    <tr>\n",
       "      <th>mean</th>\n",
       "      <td>NaN</td>\n",
       "      <td>80.633776</td>\n",
       "      <td>67.281152</td>\n",
       "      <td>189.964447</td>\n",
       "      <td>1749.837789</td>\n",
       "      <td>121.605974</td>\n",
       "      <td>29.672512</td>\n",
       "      <td>4039.340921</td>\n",
       "      <td>1860.976012</td>\n",
       "      <td>15.537102</td>\n",
       "      <td>12.179879</td>\n",
       "      <td>NaN</td>\n",
       "    </tr>\n",
       "    <tr>\n",
       "      <th>std</th>\n",
       "      <td>NaN</td>\n",
       "      <td>80.699065</td>\n",
       "      <td>65.913872</td>\n",
       "      <td>136.405128</td>\n",
       "      <td>1008.513876</td>\n",
       "      <td>148.121544</td>\n",
       "      <td>45.394651</td>\n",
       "      <td>2502.149334</td>\n",
       "      <td>1446.702288</td>\n",
       "      <td>9.004655</td>\n",
       "      <td>7.824036</td>\n",
       "      <td>NaN</td>\n",
       "    </tr>\n",
       "    <tr>\n",
       "      <th>min</th>\n",
       "      <td>NaN</td>\n",
       "      <td>0.000000</td>\n",
       "      <td>0.000000</td>\n",
       "      <td>0.220211</td>\n",
       "      <td>4.000000</td>\n",
       "      <td>0.000000</td>\n",
       "      <td>0.000000</td>\n",
       "      <td>60.441250</td>\n",
       "      <td>18.282082</td>\n",
       "      <td>0.000000</td>\n",
       "      <td>0.000000</td>\n",
       "      <td>NaN</td>\n",
       "    </tr>\n",
       "    <tr>\n",
       "      <th>25%</th>\n",
       "      <td>NaN</td>\n",
       "      <td>23.000000</td>\n",
       "      <td>20.000000</td>\n",
       "      <td>90.661156</td>\n",
       "      <td>878.000000</td>\n",
       "      <td>9.000000</td>\n",
       "      <td>0.000000</td>\n",
       "      <td>2212.600607</td>\n",
       "      <td>835.996260</td>\n",
       "      <td>8.000000</td>\n",
       "      <td>5.000000</td>\n",
       "      <td>NaN</td>\n",
       "    </tr>\n",
       "    <tr>\n",
       "      <th>50%</th>\n",
       "      <td>NaN</td>\n",
       "      <td>56.000000</td>\n",
       "      <td>48.000000</td>\n",
       "      <td>159.568115</td>\n",
       "      <td>1741.000000</td>\n",
       "      <td>71.000000</td>\n",
       "      <td>9.000000</td>\n",
       "      <td>3493.858085</td>\n",
       "      <td>1478.249859</td>\n",
       "      <td>16.000000</td>\n",
       "      <td>12.000000</td>\n",
       "      <td>NaN</td>\n",
       "    </tr>\n",
       "    <tr>\n",
       "      <th>75%</th>\n",
       "      <td>NaN</td>\n",
       "      <td>112.000000</td>\n",
       "      <td>93.000000</td>\n",
       "      <td>254.192341</td>\n",
       "      <td>2623.500000</td>\n",
       "      <td>178.000000</td>\n",
       "      <td>43.000000</td>\n",
       "      <td>5289.861262</td>\n",
       "      <td>2464.362632</td>\n",
       "      <td>23.000000</td>\n",
       "      <td>19.000000</td>\n",
       "      <td>NaN</td>\n",
       "    </tr>\n",
       "    <tr>\n",
       "      <th>max</th>\n",
       "      <td>NaN</td>\n",
       "      <td>743.000000</td>\n",
       "      <td>596.000000</td>\n",
       "      <td>1216.154633</td>\n",
       "      <td>3500.000000</td>\n",
       "      <td>1236.000000</td>\n",
       "      <td>415.000000</td>\n",
       "      <td>21183.401890</td>\n",
       "      <td>15851.727160</td>\n",
       "      <td>31.000000</td>\n",
       "      <td>30.000000</td>\n",
       "      <td>NaN</td>\n",
       "    </tr>\n",
       "  </tbody>\n",
       "</table>\n",
       "</div>"
      ],
      "text/plain": [
       "           label      sessions        drives  total_sessions  \\\n",
       "count      14299  14999.000000  14999.000000    14999.000000   \n",
       "unique         2           NaN           NaN             NaN   \n",
       "top     retained           NaN           NaN             NaN   \n",
       "freq       11763           NaN           NaN             NaN   \n",
       "mean         NaN     80.633776     67.281152      189.964447   \n",
       "std          NaN     80.699065     65.913872      136.405128   \n",
       "min          NaN      0.000000      0.000000        0.220211   \n",
       "25%          NaN     23.000000     20.000000       90.661156   \n",
       "50%          NaN     56.000000     48.000000      159.568115   \n",
       "75%          NaN    112.000000     93.000000      254.192341   \n",
       "max          NaN    743.000000    596.000000     1216.154633   \n",
       "\n",
       "        n_days_after_onboarding  total_navigations_fav1  \\\n",
       "count              14999.000000            14999.000000   \n",
       "unique                      NaN                     NaN   \n",
       "top                         NaN                     NaN   \n",
       "freq                        NaN                     NaN   \n",
       "mean                1749.837789              121.605974   \n",
       "std                 1008.513876              148.121544   \n",
       "min                    4.000000                0.000000   \n",
       "25%                  878.000000                9.000000   \n",
       "50%                 1741.000000               71.000000   \n",
       "75%                 2623.500000              178.000000   \n",
       "max                 3500.000000             1236.000000   \n",
       "\n",
       "        total_navigations_fav2  driven_km_drives  duration_minutes_drives  \\\n",
       "count             14999.000000      14999.000000             14999.000000   \n",
       "unique                     NaN               NaN                      NaN   \n",
       "top                        NaN               NaN                      NaN   \n",
       "freq                       NaN               NaN                      NaN   \n",
       "mean                 29.672512       4039.340921              1860.976012   \n",
       "std                  45.394651       2502.149334              1446.702288   \n",
       "min                   0.000000         60.441250                18.282082   \n",
       "25%                   0.000000       2212.600607               835.996260   \n",
       "50%                   9.000000       3493.858085              1478.249859   \n",
       "75%                  43.000000       5289.861262              2464.362632   \n",
       "max                 415.000000      21183.401890             15851.727160   \n",
       "\n",
       "        activity_days  driving_days  device  \n",
       "count    14999.000000  14999.000000   14999  \n",
       "unique            NaN           NaN       2  \n",
       "top               NaN           NaN  iPhone  \n",
       "freq              NaN           NaN    9672  \n",
       "mean        15.537102     12.179879     NaN  \n",
       "std          9.004655      7.824036     NaN  \n",
       "min          0.000000      0.000000     NaN  \n",
       "25%          8.000000      5.000000     NaN  \n",
       "50%         16.000000     12.000000     NaN  \n",
       "75%         23.000000     19.000000     NaN  \n",
       "max         31.000000     30.000000     NaN  "
      ]
     },
     "execution_count": 8,
     "metadata": {},
     "output_type": "execute_result"
    }
   ],
   "source": [
    "### YOUR CODE HERE ###\n",
    "df.describe(include='all')"
   ]
  },
  {
   "cell_type": "code",
   "execution_count": 9,
   "id": "cb838388",
   "metadata": {
    "execution": {
     "iopub.execute_input": "2025-02-12T04:39:48.600521Z",
     "iopub.status.busy": "2025-02-12T04:39:48.600160Z",
     "iopub.status.idle": "2025-02-12T04:39:49.920799Z",
     "shell.execute_reply": "2025-02-12T04:39:49.919691Z"
    },
    "papermill": {
     "duration": 1.340512,
     "end_time": "2025-02-12T04:39:49.922849",
     "exception": false,
     "start_time": "2025-02-12T04:39:48.582337",
     "status": "completed"
    },
    "tags": []
   },
   "outputs": [
    {
     "data": {
      "image/png": "[encoded data removed]",
      "text/plain": [
       "<Figure size 700x100 with 1 Axes>"
      ]
     },
     "metadata": {},
     "output_type": "display_data"
    },
    {
     "data": {
      "image/png": "[encoded data removed]",
      "text/plain": [
       "<Figure size 700x100 with 1 Axes>"
      ]
     },
     "metadata": {},
     "output_type": "display_data"
    },
    {
     "data": {
      "image/png": "[encoded data removed]",
      "text/plain": [
       "<Figure size 700x100 with 1 Axes>"
      ]
     },
     "metadata": {},
     "output_type": "display_data"
    },
    {
     "data": {
      "image/png": "[encoded data removed]",
      "text/plain": [
       "<Figure size 700x100 with 1 Axes>"
      ]
     },
     "metadata": {},
     "output_type": "display_data"
    },
    {
     "data": {
      "image/png": "[encoded data removed]",
      "text/plain": [
       "<Figure size 700x100 with 1 Axes>"
      ]
     },
     "metadata": {},
     "output_type": "display_data"
    },
    {
     "data": {
      "image/png": "[encoded data removed]",
      "text/plain": [
       "<Figure size 700x100 with 1 Axes>"
      ]
     },
     "metadata": {},
     "output_type": "display_data"
    },
    {
     "data": {
      "image/png": "[encoded data removed]",
      "text/plain": [
       "<Figure size 700x100 with 1 Axes>"
      ]
     },
     "metadata": {},
     "output_type": "display_data"
    },
    {
     "data": {
      "image/png": "[encoded data removed]",
      "text/plain": [
       "<Figure size 700x100 with 1 Axes>"
      ]
     },
     "metadata": {},
     "output_type": "display_data"
    },
    {
     "data": {
      "image/png": "[encoded data removed]",
      "text/plain": [
       "<Figure size 700x100 with 1 Axes>"
      ]
     },
     "metadata": {},
     "output_type": "display_data"
    },
    {
     "data": {
      "image/png": "[encoded data removed]",
      "text/plain": [
       "<Figure size 700x100 with 1 Axes>"
      ]
     },
     "metadata": {},
     "output_type": "display_data"
    }
   ],
   "source": [
    "\n",
    "# creating boxplots for alll numeric column sin the dataframe\n",
    "for col in df.select_dtypes(include=np.number).columns:\n",
    "    \n",
    "    # set plot size\n",
    "    plt.figure(figsize=(7, 1))\n",
    "    \n",
    "    # construct box plot\n",
    "    sns.boxplot(x=df[col])\n",
    "    \n",
    "    # show the plot\n",
    "    plt.show()"
   ]
  },
  {
   "cell_type": "markdown",
   "id": "5c59ad25",
   "metadata": {
    "id": "v3EPwXZH7KnT",
    "papermill": {
     "duration": 0.019746,
     "end_time": "2025-02-12T04:39:49.962360",
     "exception": false,
     "start_time": "2025-02-12T04:39:49.942614",
     "status": "completed"
    },
    "tags": []
   },
   "source": [
    "**Question:** Are there any variables that could potentially have outliers just by assessing at the quartile values, standard deviation, and max values?"
   ]
  },
  {
   "cell_type": "markdown",
   "id": "5120560d",
   "metadata": {
    "id": "DjmTTz3YfgmA",
    "papermill": {
     "duration": 0.02078,
     "end_time": "2025-02-12T04:39:50.003084",
     "exception": false,
     "start_time": "2025-02-12T04:39:49.982304",
     "status": "completed"
    },
    "tags": []
   },
   "source": [
    "* sessions, drives, total_sessions, total_navigations_fav1, total_navigations_fav2, driven_km_drives, duration_minutes_drives\n",
    "* the abovementioned columns have outliers. \n",
    "* all outliers are to the right indicating a right skew in distributions of the abovementioned variables"
   ]
  },
  {
   "cell_type": "markdown",
   "id": "7789a8bc",
   "metadata": {
    "id": "hl8G_0FR6Rvk",
    "papermill": {
     "duration": 0.019148,
     "end_time": "2025-02-12T04:39:50.041815",
     "exception": false,
     "start_time": "2025-02-12T04:39:50.022667",
     "status": "completed"
    },
    "tags": []
   },
   "source": [
    "### **Task 2b. Create features**\n",
    "\n",
    "Create features that may be of interest to the stakeholder and/or that are needed to address the business scenario/problem."
   ]
  },
  {
   "cell_type": "markdown",
   "id": "2bfe9837",
   "metadata": {
    "id": "pKkx6FvS4OpI",
    "papermill": {
     "duration": 0.019731,
     "end_time": "2025-02-12T04:39:50.080698",
     "exception": false,
     "start_time": "2025-02-12T04:39:50.060967",
     "status": "completed"
    },
    "tags": []
   },
   "source": [
    "#### **`km_per_driving_day`**\n",
    "\n",
    "You know from earlier EDA that churn rate correlates with distance driven per driving day in the last month. It might be helpful to engineer a feature that captures this information.\n",
    "\n",
    "1. Create a new column in `df` called `km_per_driving_day`, which represents the mean distance driven per driving day for each user.\n",
    "\n",
    "2. Call the `describe()` method on the new column."
   ]
  },
  {
   "cell_type": "code",
   "execution_count": 10,
   "id": "c8707378",
   "metadata": {
    "execution": {
     "iopub.execute_input": "2025-02-12T04:39:50.122191Z",
     "iopub.status.busy": "2025-02-12T04:39:50.121781Z",
     "iopub.status.idle": "2025-02-12T04:39:50.143594Z",
     "shell.execute_reply": "2025-02-12T04:39:50.142350Z"
    },
    "id": "KCEzE-gwL5gq",
    "papermill": {
     "duration": 0.043847,
     "end_time": "2025-02-12T04:39:50.145394",
     "exception": false,
     "start_time": "2025-02-12T04:39:50.101547",
     "status": "completed"
    },
    "tags": []
   },
   "outputs": [
    {
     "name": "stderr",
     "output_type": "stream",
     "text": [
      "/usr/local/lib/python3.10/dist-packages/pandas/io/formats/format.py:1458: RuntimeWarning: invalid value encountered in greater\n",
      "  has_large_values = (abs_vals > 1e6).any()\n",
      "/usr/local/lib/python3.10/dist-packages/pandas/io/formats/format.py:1459: RuntimeWarning: invalid value encountered in less\n",
      "  has_small_values = ((abs_vals < 10 ** (-self.digits)) & (abs_vals > 0)).any()\n",
      "/usr/local/lib/python3.10/dist-packages/pandas/io/formats/format.py:1459: RuntimeWarning: invalid value encountered in greater\n",
      "  has_small_values = ((abs_vals < 10 ** (-self.digits)) & (abs_vals > 0)).any()\n"
     ]
    },
    {
     "data": {
      "text/plain": [
       "count    1.499900e+04\n",
       "mean              inf\n",
       "std               NaN\n",
       "min      3.022063e+00\n",
       "25%      1.672804e+02\n",
       "50%      3.231459e+02\n",
       "75%      7.579257e+02\n",
       "max               inf\n",
       "Name: km_per_driving_day, dtype: float64"
      ]
     },
     "execution_count": 10,
     "metadata": {},
     "output_type": "execute_result"
    }
   ],
   "source": [
    "# 1. Create `km_per_driving_day` column\n",
    "### YOUR CODE HERE ###\n",
    "df['km_per_driving_day'] = df['driven_km_drives'] / df['driving_days']\n",
    "\n",
    "# 2. Call `describe()` on the new column\n",
    "### YOUR CODE HERE ###\n",
    "df['km_per_driving_day'].describe()"
   ]
  },
  {
   "cell_type": "markdown",
   "id": "08013757",
   "metadata": {
    "id": "6Ldmks6g4ZzE",
    "papermill": {
     "duration": 0.019389,
     "end_time": "2025-02-12T04:39:50.184851",
     "exception": false,
     "start_time": "2025-02-12T04:39:50.165462",
     "status": "completed"
    },
    "tags": []
   },
   "source": [
    "Note that some values are infinite. This is the result of there being values of zero in the `driving_days` column. Pandas imputes a value of infinity in the corresponding rows of the new column because division by zero is undefined.\n",
    "\n",
    "1. Convert these values from infinity to zero. You can use `np.inf` to refer to a value of infinity.\n",
    "\n",
    "2. Call `describe()` on the `km_per_driving_day` column to verify that it worked."
   ]
  },
  {
   "cell_type": "code",
   "execution_count": 11,
   "id": "b5f72e37",
   "metadata": {
    "execution": {
     "iopub.execute_input": "2025-02-12T04:39:50.227656Z",
     "iopub.status.busy": "2025-02-12T04:39:50.227303Z",
     "iopub.status.idle": "2025-02-12T04:39:50.239362Z",
     "shell.execute_reply": "2025-02-12T04:39:50.238114Z"
    },
    "id": "FetTHatPoR6n",
    "papermill": {
     "duration": 0.036375,
     "end_time": "2025-02-12T04:39:50.241149",
     "exception": false,
     "start_time": "2025-02-12T04:39:50.204774",
     "status": "completed"
    },
    "tags": []
   },
   "outputs": [
    {
     "data": {
      "text/plain": [
       "count    14999.000000\n",
       "mean       578.963113\n",
       "std       1030.094384\n",
       "min          0.000000\n",
       "25%        136.238895\n",
       "50%        272.889272\n",
       "75%        558.686918\n",
       "max      15420.234110\n",
       "Name: km_per_driving_day, dtype: float64"
      ]
     },
     "execution_count": 11,
     "metadata": {},
     "output_type": "execute_result"
    }
   ],
   "source": [
    "# 1. Convert infinite values to zero\n",
    "### YOUR CODE HERE ###\n",
    "df.loc[df['km_per_driving_day']==np.inf, 'km_per_driving_day'] = 0\n",
    "\n",
    "# 2. Confirm that it worked\n",
    "### YOUR CODE HERE ###\n",
    "df['km_per_driving_day'].describe()"
   ]
  },
  {
   "cell_type": "markdown",
   "id": "2b9e33c1",
   "metadata": {
    "id": "ky5h_Aum3RK1",
    "papermill": {
     "duration": 0.01941,
     "end_time": "2025-02-12T04:39:50.280134",
     "exception": false,
     "start_time": "2025-02-12T04:39:50.260724",
     "status": "completed"
    },
    "tags": []
   },
   "source": [
    "#### **`professional_driver`**\n",
    "\n",
    "Create a new, binary feature called `professional_driver` that is a 1 for users who had 60 or more drives <u>**and**</u> drove on 15+ days in the last month.\n",
    "\n",
    "**Note:** The objective is to create a new feature that separates professional drivers from other drivers. In this scenario, domain knowledge and intuition are used to determine these deciding thresholds, but ultimately they are arbitrary."
   ]
  },
  {
   "cell_type": "markdown",
   "id": "97a20ff1",
   "metadata": {
    "id": "ml0Y6mb--HD5",
    "papermill": {
     "duration": 0.019646,
     "end_time": "2025-02-12T04:39:50.319842",
     "exception": false,
     "start_time": "2025-02-12T04:39:50.300196",
     "status": "completed"
    },
    "tags": []
   },
   "source": [
    "To create this column, use the [`np.where()`](https://numpy.org/doc/stable/reference/generated/numpy.where.html) function. This function accepts as arguments:\n",
    "1. A condition\n",
    "2. What to return when the condition is true\n",
    "3. What to return when the condition is false\n",
    "\n",
    "```\n",
    "Example:\n",
    "x = [1, 2, 3]\n",
    "x = np.where(x > 2, 100, 0)\n",
    "x\n",
    "array([  0,   0, 100])\n",
    "```"
   ]
  },
  {
   "cell_type": "code",
   "execution_count": 12,
   "id": "78bc02d2",
   "metadata": {
    "execution": {
     "iopub.execute_input": "2025-02-12T04:39:50.361163Z",
     "iopub.status.busy": "2025-02-12T04:39:50.360741Z",
     "iopub.status.idle": "2025-02-12T04:39:50.367348Z",
     "shell.execute_reply": "2025-02-12T04:39:50.366080Z"
    },
    "id": "huWmzNp2Xj8o",
    "papermill": {
     "duration": 0.029256,
     "end_time": "2025-02-12T04:39:50.369413",
     "exception": false,
     "start_time": "2025-02-12T04:39:50.340157",
     "status": "completed"
    },
    "tags": []
   },
   "outputs": [],
   "source": [
    "# Create `professional_driver` column\n",
    "### YOUR CODE HERE ###\n",
    "df['professional_driver'] = np.where((df['drives'] >= 60) & (df['driving_days'] >= 15), 1, 0)"
   ]
  },
  {
   "cell_type": "markdown",
   "id": "64d2ef84",
   "metadata": {
    "id": "Sq1WCqLmaHSU",
    "papermill": {
     "duration": 0.019474,
     "end_time": "2025-02-12T04:39:50.408565",
     "exception": false,
     "start_time": "2025-02-12T04:39:50.389091",
     "status": "completed"
    },
    "tags": []
   },
   "source": [
    "Perform a quick inspection of the new variable.\n",
    "\n",
    "1. Check the count of professional drivers and non-professionals\n",
    "\n",
    "2. Within each class (professional and non-professional) calculate the churn rate"
   ]
  },
  {
   "cell_type": "code",
   "execution_count": 13,
   "id": "dd97e1c0",
   "metadata": {
    "execution": {
     "iopub.execute_input": "2025-02-12T04:39:50.450461Z",
     "iopub.status.busy": "2025-02-12T04:39:50.450102Z",
     "iopub.status.idle": "2025-02-12T04:39:50.470381Z",
     "shell.execute_reply": "2025-02-12T04:39:50.469304Z"
    },
    "id": "jCAvucIVa3jE",
    "papermill": {
     "duration": 0.043441,
     "end_time": "2025-02-12T04:39:50.472118",
     "exception": false,
     "start_time": "2025-02-12T04:39:50.428677",
     "status": "completed"
    },
    "tags": []
   },
   "outputs": [
    {
     "name": "stdout",
     "output_type": "stream",
     "text": [
      "unprofessional (0) and professional (1) driver counts: \n",
      " professional_driver\n",
      "0    12405\n",
      "1     2594\n",
      "Name: count, dtype: int64\n"
     ]
    },
    {
     "data": {
      "text/plain": [
       "professional_driver  label   \n",
       "0                    retained    0.801202\n",
       "                     churned     0.198798\n",
       "1                    retained    0.924437\n",
       "                     churned     0.075563\n",
       "Name: proportion, dtype: float64"
      ]
     },
     "execution_count": 13,
     "metadata": {},
     "output_type": "execute_result"
    }
   ],
   "source": [
    "# 1. Check count of professionals and non-professionals\n",
    "### YOUR CODE HERE ###\n",
    "print('unprofessional (0) and professional (1) driver counts:', '\\n', df['professional_driver'].value_counts())\n",
    "\n",
    "# 2. Check in-class churn rate\n",
    "### YOUR CODE HERE ###\n",
    "df.groupby('professional_driver')['label'].value_counts(normalize=True)"
   ]
  },
  {
   "cell_type": "markdown",
   "id": "a0b0a904",
   "metadata": {
    "id": "P7kHbF4m-ZXA",
    "papermill": {
     "duration": 0.02044,
     "end_time": "2025-02-12T04:39:50.514221",
     "exception": false,
     "start_time": "2025-02-12T04:39:50.493781",
     "status": "completed"
    },
    "tags": []
   },
   "source": [
    "The churn rate for professional drivers is 7.6%, while the churn rate for non-professionals is 19.9%. This seems like it could add predictive signal to the model."
   ]
  },
  {
   "cell_type": "markdown",
   "id": "cf87dd65",
   "metadata": {
    "id": "lgPul2DiY6T4",
    "papermill": {
     "duration": 0.019332,
     "end_time": "2025-02-12T04:39:50.553119",
     "exception": false,
     "start_time": "2025-02-12T04:39:50.533787",
     "status": "completed"
    },
    "tags": []
   },
   "source": [
    "<img src=\"images/Construct.png\" width=\"100\" height=\"100\" align=left>\n",
    "\n",
    "## **PACE: Construct**\n",
    "\n",
    "After analysis and deriving variables with close relationships, it is time to begin constructing the model.\n",
    "\n",
    "Consider the questions in your PACE Strategy Document to reflect on the Construct stage.\n",
    "\n",
    "In this stage, consider the following question:\n",
    "\n",
    "* Why did you select the X variables you did?"
   ]
  },
  {
   "cell_type": "markdown",
   "id": "c74d0a54",
   "metadata": {
    "id": "nZi2G9pkQ_kM",
    "papermill": {
     "duration": 0.019499,
     "end_time": "2025-02-12T04:39:50.592122",
     "exception": false,
     "start_time": "2025-02-12T04:39:50.572623",
     "status": "completed"
    },
    "tags": []
   },
   "source": [
    "The following features were selected because it satisfied the logreg assumptions and were worthy to be explored:\n",
    "* drives, total_sessions,n_days_after_onboarding, total_navigations_fav1, total_navigations_fav2, driven_km_drives, duration_minutes_drives, activity_days, km_per_driving_day, professional_driver, device2\n",
    "\n",
    "The following features were excluded:\n",
    "* label (this is the target)\n",
    "* label2 (secondary target to be used later)\n",
    "* device (no significant change was observed between the categories --> **for further concrete exploration we can also perform chi-square test of independence to find the association**)\n",
    "* sessions (this had high multicollinearity --> due to high corr with drives)\n",
    "* driving_days (this had high multicollinearity -->  due to high corr with activity_days)"
   ]
  },
  {
   "cell_type": "code",
   "execution_count": 14,
   "id": "1936ec84",
   "metadata": {
    "execution": {
     "iopub.execute_input": "2025-02-12T04:39:50.633830Z",
     "iopub.status.busy": "2025-02-12T04:39:50.633495Z",
     "iopub.status.idle": "2025-02-12T04:39:50.649432Z",
     "shell.execute_reply": "2025-02-12T04:39:50.648116Z"
    },
    "papermill": {
     "duration": 0.039175,
     "end_time": "2025-02-12T04:39:50.651404",
     "exception": false,
     "start_time": "2025-02-12T04:39:50.612229",
     "status": "completed"
    },
    "tags": []
   },
   "outputs": [
    {
     "name": "stdout",
     "output_type": "stream",
     "text": [
      "device\n",
      "iPhone     0.644843\n",
      "Android    0.355157\n",
      "Name: proportion, dtype: float64\n",
      "device   label   \n",
      "Android  retained    0.824399\n",
      "         churned     0.175601\n",
      "iPhone   retained    0.821680\n",
      "         churned     0.178320\n",
      "Name: proportion, dtype: float64\n"
     ]
    }
   ],
   "source": [
    "# checking if there is a difference in churn due to OS \n",
    "# (for further concrete exploration we can also perform chi-square test of independence to find the association) \n",
    "print(df['device'].value_counts(normalize=True))\n",
    "print(df.groupby('device')['label'].value_counts(normalize=True))"
   ]
  },
  {
   "cell_type": "markdown",
   "id": "c9b0d060",
   "metadata": {
    "id": "07UJJm41ajgf",
    "papermill": {
     "duration": 0.021394,
     "end_time": "2025-02-12T04:39:50.693336",
     "exception": false,
     "start_time": "2025-02-12T04:39:50.671942",
     "status": "completed"
    },
    "tags": []
   },
   "source": [
    "### **Task 3a. Preparing variables**"
   ]
  },
  {
   "cell_type": "markdown",
   "id": "b8426921",
   "metadata": {
    "id": "aanTG0VxniQh",
    "papermill": {
     "duration": 0.019503,
     "end_time": "2025-02-12T04:39:50.734355",
     "exception": false,
     "start_time": "2025-02-12T04:39:50.714852",
     "status": "completed"
    },
    "tags": []
   },
   "source": [
    "Call `info()` on the dataframe to check the data type of the `label` variable and to verify if there are any missing values."
   ]
  },
  {
   "cell_type": "code",
   "execution_count": 15,
   "id": "893c1368",
   "metadata": {
    "execution": {
     "iopub.execute_input": "2025-02-12T04:39:50.775041Z",
     "iopub.status.busy": "2025-02-12T04:39:50.774634Z",
     "iopub.status.idle": "2025-02-12T04:39:50.789096Z",
     "shell.execute_reply": "2025-02-12T04:39:50.787551Z"
    },
    "id": "tHFNCNj3ob30",
    "papermill": {
     "duration": 0.037173,
     "end_time": "2025-02-12T04:39:50.791103",
     "exception": false,
     "start_time": "2025-02-12T04:39:50.753930",
     "status": "completed"
    },
    "tags": []
   },
   "outputs": [
    {
     "name": "stdout",
     "output_type": "stream",
     "text": [
      "<class 'pandas.core.frame.DataFrame'>\n",
      "RangeIndex: 14999 entries, 0 to 14998\n",
      "Data columns (total 14 columns):\n",
      " #   Column                   Non-Null Count  Dtype  \n",
      "---  ------                   --------------  -----  \n",
      " 0   label                    14299 non-null  object \n",
      " 1   sessions                 14999 non-null  int64  \n",
      " 2   drives                   14999 non-null  int64  \n",
      " 3   total_sessions           14999 non-null  float64\n",
      " 4   n_days_after_onboarding  14999 non-null  int64  \n",
      " 5   total_navigations_fav1   14999 non-null  int64  \n",
      " 6   total_navigations_fav2   14999 non-null  int64  \n",
      " 7   driven_km_drives         14999 non-null  float64\n",
      " 8   duration_minutes_drives  14999 non-null  float64\n",
      " 9   activity_days            14999 non-null  int64  \n",
      " 10  driving_days             14999 non-null  int64  \n",
      " 11  device                   14999 non-null  object \n",
      " 12  km_per_driving_day       14999 non-null  float64\n",
      " 13  professional_driver      14999 non-null  int64  \n",
      "dtypes: float64(4), int64(8), object(2)\n",
      "memory usage: 1.6+ MB\n"
     ]
    }
   ],
   "source": [
    "### YOUR CODE HERE ###\n",
    "df.info()"
   ]
  },
  {
   "cell_type": "markdown",
   "id": "cb96ad6c",
   "metadata": {
    "id": "J90QgkTrofOC",
    "papermill": {
     "duration": 0.019957,
     "end_time": "2025-02-12T04:39:50.830912",
     "exception": false,
     "start_time": "2025-02-12T04:39:50.810955",
     "status": "completed"
    },
    "tags": []
   },
   "source": [
    "Because you know from previous EDA that there is no evidence of a non-random cause of the 700 missing values in the `label` column, and because these observations comprise less than 5% of the data, use the `dropna()` method to drop the rows that are missing this data."
   ]
  },
  {
   "cell_type": "code",
   "execution_count": 16,
   "id": "65500be9",
   "metadata": {
    "execution": {
     "iopub.execute_input": "2025-02-12T04:39:50.871914Z",
     "iopub.status.busy": "2025-02-12T04:39:50.871578Z",
     "iopub.status.idle": "2025-02-12T04:39:50.880433Z",
     "shell.execute_reply": "2025-02-12T04:39:50.879233Z"
    },
    "id": "B34fDk52o2Uk",
    "papermill": {
     "duration": 0.031645,
     "end_time": "2025-02-12T04:39:50.882559",
     "exception": false,
     "start_time": "2025-02-12T04:39:50.850914",
     "status": "completed"
    },
    "tags": []
   },
   "outputs": [],
   "source": [
    "# Drop rows with missing data in `label` column\n",
    "### YOUR CODE HERE ###\n",
    "df = df.dropna(subset=['label'])"
   ]
  },
  {
   "cell_type": "markdown",
   "id": "6bc8dc37",
   "metadata": {
    "id": "UV3KLq7LpcWB",
    "papermill": {
     "duration": 0.01965,
     "end_time": "2025-02-12T04:39:50.923407",
     "exception": false,
     "start_time": "2025-02-12T04:39:50.903757",
     "status": "completed"
    },
    "tags": []
   },
   "source": [
    "#### **Impute outliers**\n",
    "\n",
    "You rarely want to drop outliers, and generally will not do so unless there is a clear reason for it (e.g., typographic errors).\n",
    "\n",
    "At times outliers can be changed to the **median, mean, 95th percentile, etc.**\n",
    "\n",
    "Previously, you determined that seven of the variables had clear signs of containing outliers:\n",
    "\n",
    "* `sessions`\n",
    "* `drives`\n",
    "* `total_sessions`\n",
    "* `total_navigations_fav1`\n",
    "* `total_navigations_fav2`\n",
    "* `driven_km_drives`\n",
    "* `duration_minutes_drives`\n",
    "\n",
    "For this analysis, impute the outlying values for these columns. Calculate the **95th percentile** of each column and change to this value any value in the column that exceeds it.\n"
   ]
  },
  {
   "cell_type": "code",
   "execution_count": 17,
   "id": "36022bfe",
   "metadata": {
    "execution": {
     "iopub.execute_input": "2025-02-12T04:39:50.965169Z",
     "iopub.status.busy": "2025-02-12T04:39:50.964786Z",
     "iopub.status.idle": "2025-02-12T04:39:50.979793Z",
     "shell.execute_reply": "2025-02-12T04:39:50.978783Z"
    },
    "id": "7fRaU2JKpyXg",
    "papermill": {
     "duration": 0.037899,
     "end_time": "2025-02-12T04:39:50.981930",
     "exception": false,
     "start_time": "2025-02-12T04:39:50.944031",
     "status": "completed"
    },
    "tags": []
   },
   "outputs": [],
   "source": [
    "# Impute outliers\n",
    "### YOUR CODE HERE ###\n",
    "\n",
    "# looping through thte columns with outliers\n",
    "for column in ['sessions', 'drives', 'total_sessions', 'total_navigations_fav1', 'total_navigations_fav2', 'driven_km_drives', 'duration_minutes_drives']:\n",
    "    \n",
    "    # ONLY upper threshold is enough\n",
    "    threshold = df[column].quantile(0.95)\n",
    "    \n",
    "    # imputing the outliers with max value\n",
    "    df.loc[df[column] > threshold, column] = threshold"
   ]
  },
  {
   "cell_type": "markdown",
   "id": "028603d7",
   "metadata": {
    "id": "90s91HTOAqnT",
    "papermill": {
     "duration": 0.019511,
     "end_time": "2025-02-12T04:39:51.024187",
     "exception": false,
     "start_time": "2025-02-12T04:39:51.004676",
     "status": "completed"
    },
    "tags": []
   },
   "source": [
    "Call `describe()`."
   ]
  },
  {
   "cell_type": "code",
   "execution_count": 18,
   "id": "9940a10d",
   "metadata": {
    "execution": {
     "iopub.execute_input": "2025-02-12T04:39:51.065464Z",
     "iopub.status.busy": "2025-02-12T04:39:51.065086Z",
     "iopub.status.idle": "2025-02-12T04:39:51.109506Z",
     "shell.execute_reply": "2025-02-12T04:39:51.108403Z"
    },
    "id": "aU13ZoCMAN_s",
    "papermill": {
     "duration": 0.066713,
     "end_time": "2025-02-12T04:39:51.111078",
     "exception": false,
     "start_time": "2025-02-12T04:39:51.044365",
     "status": "completed"
    },
    "tags": []
   },
   "outputs": [
    {
     "data": {
      "text/html": [
       "<div>\n",
       "<style scoped>\n",
       "    .dataframe tbody tr th:only-of-type {\n",
       "        vertical-align: middle;\n",
       "    }\n",
       "\n",
       "    .dataframe tbody tr th {\n",
       "        vertical-align: top;\n",
       "    }\n",
       "\n",
       "    .dataframe thead th {\n",
       "        text-align: right;\n",
       "    }\n",
       "</style>\n",
       "<table border=\"1\" class=\"dataframe\">\n",
       "  <thead>\n",
       "    <tr style=\"text-align: right;\">\n",
       "      <th></th>\n",
       "      <th>sessions</th>\n",
       "      <th>drives</th>\n",
       "      <th>total_sessions</th>\n",
       "      <th>n_days_after_onboarding</th>\n",
       "      <th>total_navigations_fav1</th>\n",
       "      <th>total_navigations_fav2</th>\n",
       "      <th>driven_km_drives</th>\n",
       "      <th>duration_minutes_drives</th>\n",
       "      <th>activity_days</th>\n",
       "      <th>driving_days</th>\n",
       "      <th>km_per_driving_day</th>\n",
       "      <th>professional_driver</th>\n",
       "    </tr>\n",
       "  </thead>\n",
       "  <tbody>\n",
       "    <tr>\n",
       "      <th>count</th>\n",
       "      <td>14299.000000</td>\n",
       "      <td>14299.000000</td>\n",
       "      <td>14299.000000</td>\n",
       "      <td>14299.000000</td>\n",
       "      <td>14299.000000</td>\n",
       "      <td>14299.000000</td>\n",
       "      <td>14299.000000</td>\n",
       "      <td>14299.000000</td>\n",
       "      <td>14299.000000</td>\n",
       "      <td>14299.000000</td>\n",
       "      <td>14299.000000</td>\n",
       "      <td>14299.000000</td>\n",
       "    </tr>\n",
       "    <tr>\n",
       "      <th>mean</th>\n",
       "      <td>76.539688</td>\n",
       "      <td>63.964683</td>\n",
       "      <td>183.717304</td>\n",
       "      <td>1751.822505</td>\n",
       "      <td>114.562767</td>\n",
       "      <td>27.187216</td>\n",
       "      <td>3944.558631</td>\n",
       "      <td>1792.911210</td>\n",
       "      <td>15.544653</td>\n",
       "      <td>12.182530</td>\n",
       "      <td>581.942399</td>\n",
       "      <td>0.173998</td>\n",
       "    </tr>\n",
       "    <tr>\n",
       "      <th>std</th>\n",
       "      <td>67.243178</td>\n",
       "      <td>55.127927</td>\n",
       "      <td>118.720520</td>\n",
       "      <td>1008.663834</td>\n",
       "      <td>124.378550</td>\n",
       "      <td>36.715302</td>\n",
       "      <td>2218.358258</td>\n",
       "      <td>1224.329759</td>\n",
       "      <td>9.016088</td>\n",
       "      <td>7.833835</td>\n",
       "      <td>1038.254509</td>\n",
       "      <td>0.379121</td>\n",
       "    </tr>\n",
       "    <tr>\n",
       "      <th>min</th>\n",
       "      <td>0.000000</td>\n",
       "      <td>0.000000</td>\n",
       "      <td>0.220211</td>\n",
       "      <td>4.000000</td>\n",
       "      <td>0.000000</td>\n",
       "      <td>0.000000</td>\n",
       "      <td>60.441250</td>\n",
       "      <td>18.282082</td>\n",
       "      <td>0.000000</td>\n",
       "      <td>0.000000</td>\n",
       "      <td>0.000000</td>\n",
       "      <td>0.000000</td>\n",
       "    </tr>\n",
       "    <tr>\n",
       "      <th>25%</th>\n",
       "      <td>23.000000</td>\n",
       "      <td>20.000000</td>\n",
       "      <td>90.457733</td>\n",
       "      <td>878.500000</td>\n",
       "      <td>10.000000</td>\n",
       "      <td>0.000000</td>\n",
       "      <td>2217.319909</td>\n",
       "      <td>840.181344</td>\n",
       "      <td>8.000000</td>\n",
       "      <td>5.000000</td>\n",
       "      <td>136.168003</td>\n",
       "      <td>0.000000</td>\n",
       "    </tr>\n",
       "    <tr>\n",
       "      <th>50%</th>\n",
       "      <td>56.000000</td>\n",
       "      <td>48.000000</td>\n",
       "      <td>158.718571</td>\n",
       "      <td>1749.000000</td>\n",
       "      <td>71.000000</td>\n",
       "      <td>9.000000</td>\n",
       "      <td>3496.545617</td>\n",
       "      <td>1479.394387</td>\n",
       "      <td>16.000000</td>\n",
       "      <td>12.000000</td>\n",
       "      <td>273.301012</td>\n",
       "      <td>0.000000</td>\n",
       "    </tr>\n",
       "    <tr>\n",
       "      <th>75%</th>\n",
       "      <td>111.000000</td>\n",
       "      <td>93.000000</td>\n",
       "      <td>253.540450</td>\n",
       "      <td>2627.500000</td>\n",
       "      <td>178.000000</td>\n",
       "      <td>43.000000</td>\n",
       "      <td>5299.972162</td>\n",
       "      <td>2466.928876</td>\n",
       "      <td>23.000000</td>\n",
       "      <td>19.000000</td>\n",
       "      <td>558.018761</td>\n",
       "      <td>0.000000</td>\n",
       "    </tr>\n",
       "    <tr>\n",
       "      <th>max</th>\n",
       "      <td>243.000000</td>\n",
       "      <td>200.000000</td>\n",
       "      <td>455.439492</td>\n",
       "      <td>3500.000000</td>\n",
       "      <td>422.000000</td>\n",
       "      <td>124.000000</td>\n",
       "      <td>8898.716275</td>\n",
       "      <td>4668.180092</td>\n",
       "      <td>31.000000</td>\n",
       "      <td>30.000000</td>\n",
       "      <td>15420.234110</td>\n",
       "      <td>1.000000</td>\n",
       "    </tr>\n",
       "  </tbody>\n",
       "</table>\n",
       "</div>"
      ],
      "text/plain": [
       "           sessions        drives  total_sessions  n_days_after_onboarding  \\\n",
       "count  14299.000000  14299.000000    14299.000000             14299.000000   \n",
       "mean      76.539688     63.964683      183.717304              1751.822505   \n",
       "std       67.243178     55.127927      118.720520              1008.663834   \n",
       "min        0.000000      0.000000        0.220211                 4.000000   \n",
       "25%       23.000000     20.000000       90.457733               878.500000   \n",
       "50%       56.000000     48.000000      158.718571              1749.000000   \n",
       "75%      111.000000     93.000000      253.540450              2627.500000   \n",
       "max      243.000000    200.000000      455.439492              3500.000000   \n",
       "\n",
       "       total_navigations_fav1  total_navigations_fav2  driven_km_drives  \\\n",
       "count            14299.000000            14299.000000      14299.000000   \n",
       "mean               114.562767               27.187216       3944.558631   \n",
       "std                124.378550               36.715302       2218.358258   \n",
       "min                  0.000000                0.000000         60.441250   \n",
       "25%                 10.000000                0.000000       2217.319909   \n",
       "50%                 71.000000                9.000000       3496.545617   \n",
       "75%                178.000000               43.000000       5299.972162   \n",
       "max                422.000000              124.000000       8898.716275   \n",
       "\n",
       "       duration_minutes_drives  activity_days  driving_days  \\\n",
       "count             14299.000000   14299.000000  14299.000000   \n",
       "mean               1792.911210      15.544653     12.182530   \n",
       "std                1224.329759       9.016088      7.833835   \n",
       "min                  18.282082       0.000000      0.000000   \n",
       "25%                 840.181344       8.000000      5.000000   \n",
       "50%                1479.394387      16.000000     12.000000   \n",
       "75%                2466.928876      23.000000     19.000000   \n",
       "max                4668.180092      31.000000     30.000000   \n",
       "\n",
       "       km_per_driving_day  professional_driver  \n",
       "count        14299.000000         14299.000000  \n",
       "mean           581.942399             0.173998  \n",
       "std           1038.254509             0.379121  \n",
       "min              0.000000             0.000000  \n",
       "25%            136.168003             0.000000  \n",
       "50%            273.301012             0.000000  \n",
       "75%            558.018761             0.000000  \n",
       "max          15420.234110             1.000000  "
      ]
     },
     "execution_count": 18,
     "metadata": {},
     "output_type": "execute_result"
    }
   ],
   "source": [
    "### YOUR CODE HERE ###\n",
    "df.describe()"
   ]
  },
  {
   "cell_type": "markdown",
   "id": "3f4c2786",
   "metadata": {
    "id": "E9dLJfBHAxNy",
    "papermill": {
     "duration": 0.01953,
     "end_time": "2025-02-12T04:39:51.150861",
     "exception": false,
     "start_time": "2025-02-12T04:39:51.131331",
     "status": "completed"
    },
    "tags": []
   },
   "source": [
    "#### **Encode categorical variables**"
   ]
  },
  {
   "cell_type": "markdown",
   "id": "d22ba7d9",
   "metadata": {
    "id": "RksGqJI3A7L9",
    "papermill": {
     "duration": 0.019642,
     "end_time": "2025-02-12T04:39:51.190785",
     "exception": false,
     "start_time": "2025-02-12T04:39:51.171143",
     "status": "completed"
    },
    "tags": []
   },
   "source": [
    "Change the data type of the `label` column to be binary. This change is needed to train a logistic regression model.\n",
    "\n",
    "Assign a `0` for all `retained` users.\n",
    "\n",
    "Assign a `1` for all `churned` users.\n",
    "\n",
    "Save this variable as `label2` as to not overwrite the original `label` variable.\n",
    "\n",
    "**Note:** There are many ways to do this. Consider using `np.where()` as you did earlier in this notebook."
   ]
  },
  {
   "cell_type": "code",
   "execution_count": 19,
   "id": "2d5c0056",
   "metadata": {
    "execution": {
     "iopub.execute_input": "2025-02-12T04:39:51.233409Z",
     "iopub.status.busy": "2025-02-12T04:39:51.232869Z",
     "iopub.status.idle": "2025-02-12T04:39:51.245965Z",
     "shell.execute_reply": "2025-02-12T04:39:51.244835Z"
    },
    "id": "XvcP3FxpAyws",
    "papermill": {
     "duration": 0.036919,
     "end_time": "2025-02-12T04:39:51.247967",
     "exception": false,
     "start_time": "2025-02-12T04:39:51.211048",
     "status": "completed"
    },
    "tags": []
   },
   "outputs": [
    {
     "data": {
      "text/html": [
       "<div>\n",
       "<style scoped>\n",
       "    .dataframe tbody tr th:only-of-type {\n",
       "        vertical-align: middle;\n",
       "    }\n",
       "\n",
       "    .dataframe tbody tr th {\n",
       "        vertical-align: top;\n",
       "    }\n",
       "\n",
       "    .dataframe thead th {\n",
       "        text-align: right;\n",
       "    }\n",
       "</style>\n",
       "<table border=\"1\" class=\"dataframe\">\n",
       "  <thead>\n",
       "    <tr style=\"text-align: right;\">\n",
       "      <th></th>\n",
       "      <th>label</th>\n",
       "      <th>label2</th>\n",
       "    </tr>\n",
       "  </thead>\n",
       "  <tbody>\n",
       "    <tr>\n",
       "      <th>14988</th>\n",
       "      <td>churned</td>\n",
       "      <td>1</td>\n",
       "    </tr>\n",
       "    <tr>\n",
       "      <th>14989</th>\n",
       "      <td>retained</td>\n",
       "      <td>0</td>\n",
       "    </tr>\n",
       "    <tr>\n",
       "      <th>14990</th>\n",
       "      <td>churned</td>\n",
       "      <td>1</td>\n",
       "    </tr>\n",
       "    <tr>\n",
       "      <th>14991</th>\n",
       "      <td>churned</td>\n",
       "      <td>1</td>\n",
       "    </tr>\n",
       "    <tr>\n",
       "      <th>14992</th>\n",
       "      <td>retained</td>\n",
       "      <td>0</td>\n",
       "    </tr>\n",
       "    <tr>\n",
       "      <th>14994</th>\n",
       "      <td>retained</td>\n",
       "      <td>0</td>\n",
       "    </tr>\n",
       "    <tr>\n",
       "      <th>14995</th>\n",
       "      <td>retained</td>\n",
       "      <td>0</td>\n",
       "    </tr>\n",
       "    <tr>\n",
       "      <th>14996</th>\n",
       "      <td>retained</td>\n",
       "      <td>0</td>\n",
       "    </tr>\n",
       "    <tr>\n",
       "      <th>14997</th>\n",
       "      <td>churned</td>\n",
       "      <td>1</td>\n",
       "    </tr>\n",
       "    <tr>\n",
       "      <th>14998</th>\n",
       "      <td>retained</td>\n",
       "      <td>0</td>\n",
       "    </tr>\n",
       "  </tbody>\n",
       "</table>\n",
       "</div>"
      ],
      "text/plain": [
       "          label  label2\n",
       "14988   churned       1\n",
       "14989  retained       0\n",
       "14990   churned       1\n",
       "14991   churned       1\n",
       "14992  retained       0\n",
       "14994  retained       0\n",
       "14995  retained       0\n",
       "14996  retained       0\n",
       "14997   churned       1\n",
       "14998  retained       0"
      ]
     },
     "execution_count": 19,
     "metadata": {},
     "output_type": "execute_result"
    }
   ],
   "source": [
    "# Create binary `label2` column\n",
    "### YOUR CODE HERE ###\n",
    "\n",
    "# OHE the label column\n",
    "df['label2'] = np.where(df['label']=='churned', 1, 0)\n",
    "\n",
    "# viewing the changes\n",
    "df[['label', 'label2']].tail(10)"
   ]
  },
  {
   "cell_type": "markdown",
   "id": "5c1c018f",
   "metadata": {
    "id": "HMj6QkK1cLmS",
    "papermill": {
     "duration": 0.020086,
     "end_time": "2025-02-12T04:39:51.288534",
     "exception": false,
     "start_time": "2025-02-12T04:39:51.268448",
     "status": "completed"
    },
    "tags": []
   },
   "source": [
    "### **Task 3b. Determine whether assumptions have been met**\n",
    "\n",
    "The following are the assumptions for logistic regression:\n",
    "\n",
    "* Independent observations (This refers to how the data was collected.)\n",
    "\n",
    "* No extreme outliers\n",
    "\n",
    "* Little to no multicollinearity among X predictors\n",
    "\n",
    "* Linear relationship between X and the **logit** of y\n",
    "\n",
    "For the first assumption, you can assume that observations are independent for this project.\n",
    "\n",
    "The second assumption has already been addressed.\n",
    "\n",
    "The last assumption will be verified after modeling.\n",
    "\n",
    "**Note:** In practice, modeling assumptions are often violated, and depending on the specifics of your use case and the severity of the violation, it might not affect your model much at all or it will result in a failed model."
   ]
  },
  {
   "cell_type": "markdown",
   "id": "73cf8874",
   "metadata": {
    "id": "2VByuTmwdoi_",
    "papermill": {
     "duration": 0.020766,
     "end_time": "2025-02-12T04:39:51.329572",
     "exception": false,
     "start_time": "2025-02-12T04:39:51.308806",
     "status": "completed"
    },
    "tags": []
   },
   "source": [
    "#### **Collinearity**\n",
    "\n",
    "Check the correlation among predictor variables. First, generate a correlation matrix."
   ]
  },
  {
   "cell_type": "code",
   "execution_count": 20,
   "id": "852f5691",
   "metadata": {
    "execution": {
     "iopub.execute_input": "2025-02-12T04:39:51.373194Z",
     "iopub.status.busy": "2025-02-12T04:39:51.372797Z",
     "iopub.status.idle": "2025-02-12T04:39:51.403630Z",
     "shell.execute_reply": "2025-02-12T04:39:51.402613Z"
    },
    "id": "SClNm5hWotj6",
    "papermill": {
     "duration": 0.055104,
     "end_time": "2025-02-12T04:39:51.405504",
     "exception": false,
     "start_time": "2025-02-12T04:39:51.350400",
     "status": "completed"
    },
    "tags": []
   },
   "outputs": [
    {
     "data": {
      "text/html": [
       "<div>\n",
       "<style scoped>\n",
       "    .dataframe tbody tr th:only-of-type {\n",
       "        vertical-align: middle;\n",
       "    }\n",
       "\n",
       "    .dataframe tbody tr th {\n",
       "        vertical-align: top;\n",
       "    }\n",
       "\n",
       "    .dataframe thead th {\n",
       "        text-align: right;\n",
       "    }\n",
       "</style>\n",
       "<table border=\"1\" class=\"dataframe\">\n",
       "  <thead>\n",
       "    <tr style=\"text-align: right;\">\n",
       "      <th></th>\n",
       "      <th>sessions</th>\n",
       "      <th>drives</th>\n",
       "      <th>total_sessions</th>\n",
       "      <th>n_days_after_onboarding</th>\n",
       "      <th>total_navigations_fav1</th>\n",
       "      <th>total_navigations_fav2</th>\n",
       "      <th>driven_km_drives</th>\n",
       "      <th>duration_minutes_drives</th>\n",
       "      <th>activity_days</th>\n",
       "      <th>driving_days</th>\n",
       "      <th>km_per_driving_day</th>\n",
       "      <th>professional_driver</th>\n",
       "      <th>label2</th>\n",
       "    </tr>\n",
       "  </thead>\n",
       "  <tbody>\n",
       "    <tr>\n",
       "      <th>sessions</th>\n",
       "      <td>1.000000</td>\n",
       "      <td>0.996942</td>\n",
       "      <td>0.597189</td>\n",
       "      <td>0.007101</td>\n",
       "      <td>0.001858</td>\n",
       "      <td>0.008536</td>\n",
       "      <td>0.002996</td>\n",
       "      <td>-0.004545</td>\n",
       "      <td>0.025113</td>\n",
       "      <td>0.020294</td>\n",
       "      <td>-0.011569</td>\n",
       "      <td>0.443654</td>\n",
       "      <td>0.034911</td>\n",
       "    </tr>\n",
       "    <tr>\n",
       "      <th>drives</th>\n",
       "      <td>0.996942</td>\n",
       "      <td>1.000000</td>\n",
       "      <td>0.595285</td>\n",
       "      <td>0.006940</td>\n",
       "      <td>0.001058</td>\n",
       "      <td>0.009505</td>\n",
       "      <td>0.003445</td>\n",
       "      <td>-0.003889</td>\n",
       "      <td>0.024357</td>\n",
       "      <td>0.019608</td>\n",
       "      <td>-0.010989</td>\n",
       "      <td>0.444425</td>\n",
       "      <td>0.035865</td>\n",
       "    </tr>\n",
       "    <tr>\n",
       "      <th>total_sessions</th>\n",
       "      <td>0.597189</td>\n",
       "      <td>0.595285</td>\n",
       "      <td>1.000000</td>\n",
       "      <td>0.006596</td>\n",
       "      <td>0.000187</td>\n",
       "      <td>0.010371</td>\n",
       "      <td>0.001016</td>\n",
       "      <td>-0.000338</td>\n",
       "      <td>0.015755</td>\n",
       "      <td>0.012953</td>\n",
       "      <td>-0.016167</td>\n",
       "      <td>0.254433</td>\n",
       "      <td>0.024568</td>\n",
       "    </tr>\n",
       "    <tr>\n",
       "      <th>n_days_after_onboarding</th>\n",
       "      <td>0.007101</td>\n",
       "      <td>0.006940</td>\n",
       "      <td>0.006596</td>\n",
       "      <td>1.000000</td>\n",
       "      <td>-0.002450</td>\n",
       "      <td>-0.004968</td>\n",
       "      <td>-0.004652</td>\n",
       "      <td>-0.010167</td>\n",
       "      <td>-0.009418</td>\n",
       "      <td>-0.007321</td>\n",
       "      <td>0.011764</td>\n",
       "      <td>0.003770</td>\n",
       "      <td>-0.129263</td>\n",
       "    </tr>\n",
       "    <tr>\n",
       "      <th>total_navigations_fav1</th>\n",
       "      <td>0.001858</td>\n",
       "      <td>0.001058</td>\n",
       "      <td>0.000187</td>\n",
       "      <td>-0.002450</td>\n",
       "      <td>1.000000</td>\n",
       "      <td>0.002866</td>\n",
       "      <td>-0.007368</td>\n",
       "      <td>0.005646</td>\n",
       "      <td>0.010902</td>\n",
       "      <td>0.010419</td>\n",
       "      <td>-0.000197</td>\n",
       "      <td>-0.000224</td>\n",
       "      <td>0.052322</td>\n",
       "    </tr>\n",
       "    <tr>\n",
       "      <th>total_navigations_fav2</th>\n",
       "      <td>0.008536</td>\n",
       "      <td>0.009505</td>\n",
       "      <td>0.010371</td>\n",
       "      <td>-0.004968</td>\n",
       "      <td>0.002866</td>\n",
       "      <td>1.000000</td>\n",
       "      <td>0.003559</td>\n",
       "      <td>-0.003009</td>\n",
       "      <td>-0.004425</td>\n",
       "      <td>0.002000</td>\n",
       "      <td>0.006751</td>\n",
       "      <td>0.007126</td>\n",
       "      <td>0.015032</td>\n",
       "    </tr>\n",
       "    <tr>\n",
       "      <th>driven_km_drives</th>\n",
       "      <td>0.002996</td>\n",
       "      <td>0.003445</td>\n",
       "      <td>0.001016</td>\n",
       "      <td>-0.004652</td>\n",
       "      <td>-0.007368</td>\n",
       "      <td>0.003559</td>\n",
       "      <td>1.000000</td>\n",
       "      <td>0.690515</td>\n",
       "      <td>-0.007441</td>\n",
       "      <td>-0.009549</td>\n",
       "      <td>0.344811</td>\n",
       "      <td>-0.000904</td>\n",
       "      <td>0.019767</td>\n",
       "    </tr>\n",
       "    <tr>\n",
       "      <th>duration_minutes_drives</th>\n",
       "      <td>-0.004545</td>\n",
       "      <td>-0.003889</td>\n",
       "      <td>-0.000338</td>\n",
       "      <td>-0.010167</td>\n",
       "      <td>0.005646</td>\n",
       "      <td>-0.003009</td>\n",
       "      <td>0.690515</td>\n",
       "      <td>1.000000</td>\n",
       "      <td>-0.007895</td>\n",
       "      <td>-0.009425</td>\n",
       "      <td>0.239627</td>\n",
       "      <td>-0.012128</td>\n",
       "      <td>0.040407</td>\n",
       "    </tr>\n",
       "    <tr>\n",
       "      <th>activity_days</th>\n",
       "      <td>0.025113</td>\n",
       "      <td>0.024357</td>\n",
       "      <td>0.015755</td>\n",
       "      <td>-0.009418</td>\n",
       "      <td>0.010902</td>\n",
       "      <td>-0.004425</td>\n",
       "      <td>-0.007441</td>\n",
       "      <td>-0.007895</td>\n",
       "      <td>1.000000</td>\n",
       "      <td>0.947687</td>\n",
       "      <td>-0.397433</td>\n",
       "      <td>0.453825</td>\n",
       "      <td>-0.303851</td>\n",
       "    </tr>\n",
       "    <tr>\n",
       "      <th>driving_days</th>\n",
       "      <td>0.020294</td>\n",
       "      <td>0.019608</td>\n",
       "      <td>0.012953</td>\n",
       "      <td>-0.007321</td>\n",
       "      <td>0.010419</td>\n",
       "      <td>0.002000</td>\n",
       "      <td>-0.009549</td>\n",
       "      <td>-0.009425</td>\n",
       "      <td>0.947687</td>\n",
       "      <td>1.000000</td>\n",
       "      <td>-0.407917</td>\n",
       "      <td>0.469776</td>\n",
       "      <td>-0.294259</td>\n",
       "    </tr>\n",
       "    <tr>\n",
       "      <th>km_per_driving_day</th>\n",
       "      <td>-0.011569</td>\n",
       "      <td>-0.010989</td>\n",
       "      <td>-0.016167</td>\n",
       "      <td>0.011764</td>\n",
       "      <td>-0.000197</td>\n",
       "      <td>0.006751</td>\n",
       "      <td>0.344811</td>\n",
       "      <td>0.239627</td>\n",
       "      <td>-0.397433</td>\n",
       "      <td>-0.407917</td>\n",
       "      <td>1.000000</td>\n",
       "      <td>-0.165966</td>\n",
       "      <td>0.148583</td>\n",
       "    </tr>\n",
       "    <tr>\n",
       "      <th>professional_driver</th>\n",
       "      <td>0.443654</td>\n",
       "      <td>0.444425</td>\n",
       "      <td>0.254433</td>\n",
       "      <td>0.003770</td>\n",
       "      <td>-0.000224</td>\n",
       "      <td>0.007126</td>\n",
       "      <td>-0.000904</td>\n",
       "      <td>-0.012128</td>\n",
       "      <td>0.453825</td>\n",
       "      <td>0.469776</td>\n",
       "      <td>-0.165966</td>\n",
       "      <td>1.000000</td>\n",
       "      <td>-0.122312</td>\n",
       "    </tr>\n",
       "    <tr>\n",
       "      <th>label2</th>\n",
       "      <td>0.034911</td>\n",
       "      <td>0.035865</td>\n",
       "      <td>0.024568</td>\n",
       "      <td>-0.129263</td>\n",
       "      <td>0.052322</td>\n",
       "      <td>0.015032</td>\n",
       "      <td>0.019767</td>\n",
       "      <td>0.040407</td>\n",
       "      <td>-0.303851</td>\n",
       "      <td>-0.294259</td>\n",
       "      <td>0.148583</td>\n",
       "      <td>-0.122312</td>\n",
       "      <td>1.000000</td>\n",
       "    </tr>\n",
       "  </tbody>\n",
       "</table>\n",
       "</div>"
      ],
      "text/plain": [
       "                         sessions    drives  total_sessions  \\\n",
       "sessions                 1.000000  0.996942        0.597189   \n",
       "drives                   0.996942  1.000000        0.595285   \n",
       "total_sessions           0.597189  0.595285        1.000000   \n",
       "n_days_after_onboarding  0.007101  0.006940        0.006596   \n",
       "total_navigations_fav1   0.001858  0.001058        0.000187   \n",
       "total_navigations_fav2   0.008536  0.009505        0.010371   \n",
       "driven_km_drives         0.002996  0.003445        0.001016   \n",
       "duration_minutes_drives -0.004545 -0.003889       -0.000338   \n",
       "activity_days            0.025113  0.024357        0.015755   \n",
       "driving_days             0.020294  0.019608        0.012953   \n",
       "km_per_driving_day      -0.011569 -0.010989       -0.016167   \n",
       "professional_driver      0.443654  0.444425        0.254433   \n",
       "label2                   0.034911  0.035865        0.024568   \n",
       "\n",
       "                         n_days_after_onboarding  total_navigations_fav1  \\\n",
       "sessions                                0.007101                0.001858   \n",
       "drives                                  0.006940                0.001058   \n",
       "total_sessions                          0.006596                0.000187   \n",
       "n_days_after_onboarding                 1.000000               -0.002450   \n",
       "total_navigations_fav1                 -0.002450                1.000000   \n",
       "total_navigations_fav2                 -0.004968                0.002866   \n",
       "driven_km_drives                       -0.004652               -0.007368   \n",
       "duration_minutes_drives                -0.010167                0.005646   \n",
       "activity_days                          -0.009418                0.010902   \n",
       "driving_days                           -0.007321                0.010419   \n",
       "km_per_driving_day                      0.011764               -0.000197   \n",
       "professional_driver                     0.003770               -0.000224   \n",
       "label2                                 -0.129263                0.052322   \n",
       "\n",
       "                         total_navigations_fav2  driven_km_drives  \\\n",
       "sessions                               0.008536          0.002996   \n",
       "drives                                 0.009505          0.003445   \n",
       "total_sessions                         0.010371          0.001016   \n",
       "n_days_after_onboarding               -0.004968         -0.004652   \n",
       "total_navigations_fav1                 0.002866         -0.007368   \n",
       "total_navigations_fav2                 1.000000          0.003559   \n",
       "driven_km_drives                       0.003559          1.000000   \n",
       "duration_minutes_drives               -0.003009          0.690515   \n",
       "activity_days                         -0.004425         -0.007441   \n",
       "driving_days                           0.002000         -0.009549   \n",
       "km_per_driving_day                     0.006751          0.344811   \n",
       "professional_driver                    0.007126         -0.000904   \n",
       "label2                                 0.015032          0.019767   \n",
       "\n",
       "                         duration_minutes_drives  activity_days  driving_days  \\\n",
       "sessions                               -0.004545       0.025113      0.020294   \n",
       "drives                                 -0.003889       0.024357      0.019608   \n",
       "total_sessions                         -0.000338       0.015755      0.012953   \n",
       "n_days_after_onboarding                -0.010167      -0.009418     -0.007321   \n",
       "total_navigations_fav1                  0.005646       0.010902      0.010419   \n",
       "total_navigations_fav2                 -0.003009      -0.004425      0.002000   \n",
       "driven_km_drives                        0.690515      -0.007441     -0.009549   \n",
       "duration_minutes_drives                 1.000000      -0.007895     -0.009425   \n",
       "activity_days                          -0.007895       1.000000      0.947687   \n",
       "driving_days                           -0.009425       0.947687      1.000000   \n",
       "km_per_driving_day                      0.239627      -0.397433     -0.407917   \n",
       "professional_driver                    -0.012128       0.453825      0.469776   \n",
       "label2                                  0.040407      -0.303851     -0.294259   \n",
       "\n",
       "                         km_per_driving_day  professional_driver    label2  \n",
       "sessions                          -0.011569             0.443654  0.034911  \n",
       "drives                            -0.010989             0.444425  0.035865  \n",
       "total_sessions                    -0.016167             0.254433  0.024568  \n",
       "n_days_after_onboarding            0.011764             0.003770 -0.129263  \n",
       "total_navigations_fav1            -0.000197            -0.000224  0.052322  \n",
       "total_navigations_fav2             0.006751             0.007126  0.015032  \n",
       "driven_km_drives                   0.344811            -0.000904  0.019767  \n",
       "duration_minutes_drives            0.239627            -0.012128  0.040407  \n",
       "activity_days                     -0.397433             0.453825 -0.303851  \n",
       "driving_days                      -0.407917             0.469776 -0.294259  \n",
       "km_per_driving_day                 1.000000            -0.165966  0.148583  \n",
       "professional_driver               -0.165966             1.000000 -0.122312  \n",
       "label2                             0.148583            -0.122312  1.000000  "
      ]
     },
     "execution_count": 20,
     "metadata": {},
     "output_type": "execute_result"
    }
   ],
   "source": [
    "# Generate a correlation matrix\n",
    "### YOUR CODE HERE ###\n",
    "df.select_dtypes(include=['number']).corr(method='pearson')"
   ]
  },
  {
   "cell_type": "markdown",
   "id": "c6cfa72d",
   "metadata": {
    "id": "maeFcfOMfi1V",
    "papermill": {
     "duration": 0.021454,
     "end_time": "2025-02-12T04:39:51.448600",
     "exception": false,
     "start_time": "2025-02-12T04:39:51.427146",
     "status": "completed"
    },
    "tags": []
   },
   "source": [
    "Now, plot a correlation heatmap."
   ]
  },
  {
   "cell_type": "code",
   "execution_count": 21,
   "id": "cc69eb1e",
   "metadata": {
    "execution": {
     "iopub.execute_input": "2025-02-12T04:39:51.491607Z",
     "iopub.status.busy": "2025-02-12T04:39:51.491265Z",
     "iopub.status.idle": "2025-02-12T04:39:52.312220Z",
     "shell.execute_reply": "2025-02-12T04:39:52.311114Z"
    },
    "id": "5HVnvWmXrOCO",
    "papermill": {
     "duration": 0.845713,
     "end_time": "2025-02-12T04:39:52.315417",
     "exception": false,
     "start_time": "2025-02-12T04:39:51.469704",
     "status": "completed"
    },
    "tags": []
   },
   "outputs": [
    {
     "data": {
      "image/png": "[encoded data removed]",
      "text/plain": [
       "<Figure size 1500x1000 with 2 Axes>"
      ]
     },
     "metadata": {},
     "output_type": "display_data"
    }
   ],
   "source": [
    "# Plot correlation heatmap\n",
    "### YOUR CODE HERE ###\n",
    "\n",
    "# set plot size\n",
    "plt.figure(figsize=(15,10))\n",
    "\n",
    "# construct heatmap\n",
    "sns.heatmap(df.select_dtypes(include=['number']).corr(method='pearson'), vmin=-1, vmax=1, annot=True, cmap='magma')\n",
    "\n",
    "# set title\n",
    "plt.title('Correlation heatmap of the dataset')\n",
    "\n",
    "# display the heatmap\n",
    "plt.show()"
   ]
  },
  {
   "cell_type": "markdown",
   "id": "ed734283",
   "metadata": {
    "id": "5wvq6jl6BqBX",
    "papermill": {
     "duration": 0.024829,
     "end_time": "2025-02-12T04:39:52.366264",
     "exception": false,
     "start_time": "2025-02-12T04:39:52.341435",
     "status": "completed"
    },
    "tags": []
   },
   "source": [
    "If there are predictor variables that have a Pearson correlation coefficient value greater than the **absolute value of 0.7**, these variables are strongly multicollinear. Therefore, only one of these variables should be used in your model.\n",
    "\n",
    "**Note:** 0.7 is an arbitrary threshold. Some industries may use 0.6, 0.8, etc.\n",
    "\n",
    "**Question:** Which variables are multicollinear with each other?"
   ]
  },
  {
   "cell_type": "markdown",
   "id": "3daf5d36",
   "metadata": {
    "id": "EfkKRuFSgmiI",
    "papermill": {
     "duration": 0.024649,
     "end_time": "2025-02-12T04:39:52.416388",
     "exception": false,
     "start_time": "2025-02-12T04:39:52.391739",
     "status": "completed"
    },
    "tags": []
   },
   "source": [
    "* sessions and drives have a correlation of 1\n",
    "* driving_days and activity_days have a correlation of 0.95  \n",
    "    \n",
    "    \n",
    "* in each of the 2 pairs, 1 of the 2 variables needs to be dropped to satisfy thenon-multicollinearity assumption"
   ]
  },
  {
   "cell_type": "markdown",
   "id": "93c38576",
   "metadata": {
    "id": "o3ArC_5xa7Oi",
    "papermill": {
     "duration": 0.025226,
     "end_time": "2025-02-12T04:39:52.466923",
     "exception": false,
     "start_time": "2025-02-12T04:39:52.441697",
     "status": "completed"
    },
    "tags": []
   },
   "source": [
    "### **Task 3c. Create dummies (if necessary)**\n",
    "\n",
    "If you have selected `device` as an X variable, you will need to create dummy variables since this variable is categorical.\n",
    "\n",
    "In cases with many categorical variables, you can use pandas built-in [`pd.get_dummies()`](https://pandas.pydata.org/docs/reference/api/pandas.get_dummies.html), or you can use scikit-learn's [`OneHotEncoder()`](https://scikit-learn.org/stable/modules/generated/sklearn.preprocessing.OneHotEncoder.html) function.\n",
    "\n",
    "**Note:** Variables with many categories should only be dummied if absolutely necessary. Each category will result in a coefficient for your model which can lead to overfitting.\n",
    "\n",
    "Because this dataset only has one remaining categorical feature (`device`), it's not necessary to use one of these special functions. You can just implement the transformation directly.\n",
    "\n",
    "Create a new, binary column called `device2` that encodes user devices as follows:\n",
    "\n",
    "* `Android` -> `0`\n",
    "* `iPhone` -> `1`"
   ]
  },
  {
   "cell_type": "code",
   "execution_count": 22,
   "id": "eca6c148",
   "metadata": {
    "execution": {
     "iopub.execute_input": "2025-02-12T04:39:52.518812Z",
     "iopub.status.busy": "2025-02-12T04:39:52.518387Z",
     "iopub.status.idle": "2025-02-12T04:39:52.532524Z",
     "shell.execute_reply": "2025-02-12T04:39:52.531399Z"
    },
    "id": "QvDpwcQm0f35",
    "papermill": {
     "duration": 0.042496,
     "end_time": "2025-02-12T04:39:52.534363",
     "exception": false,
     "start_time": "2025-02-12T04:39:52.491867",
     "status": "completed"
    },
    "tags": []
   },
   "outputs": [
    {
     "data": {
      "text/html": [
       "<div>\n",
       "<style scoped>\n",
       "    .dataframe tbody tr th:only-of-type {\n",
       "        vertical-align: middle;\n",
       "    }\n",
       "\n",
       "    .dataframe tbody tr th {\n",
       "        vertical-align: top;\n",
       "    }\n",
       "\n",
       "    .dataframe thead th {\n",
       "        text-align: right;\n",
       "    }\n",
       "</style>\n",
       "<table border=\"1\" class=\"dataframe\">\n",
       "  <thead>\n",
       "    <tr style=\"text-align: right;\">\n",
       "      <th></th>\n",
       "      <th>device</th>\n",
       "      <th>device2</th>\n",
       "    </tr>\n",
       "  </thead>\n",
       "  <tbody>\n",
       "    <tr>\n",
       "      <th>14994</th>\n",
       "      <td>iPhone</td>\n",
       "      <td>1</td>\n",
       "    </tr>\n",
       "    <tr>\n",
       "      <th>14995</th>\n",
       "      <td>Android</td>\n",
       "      <td>0</td>\n",
       "    </tr>\n",
       "    <tr>\n",
       "      <th>14996</th>\n",
       "      <td>iPhone</td>\n",
       "      <td>1</td>\n",
       "    </tr>\n",
       "    <tr>\n",
       "      <th>14997</th>\n",
       "      <td>iPhone</td>\n",
       "      <td>1</td>\n",
       "    </tr>\n",
       "    <tr>\n",
       "      <th>14998</th>\n",
       "      <td>iPhone</td>\n",
       "      <td>1</td>\n",
       "    </tr>\n",
       "  </tbody>\n",
       "</table>\n",
       "</div>"
      ],
      "text/plain": [
       "        device  device2\n",
       "14994   iPhone        1\n",
       "14995  Android        0\n",
       "14996   iPhone        1\n",
       "14997   iPhone        1\n",
       "14998   iPhone        1"
      ]
     },
     "execution_count": 22,
     "metadata": {},
     "output_type": "execute_result"
    }
   ],
   "source": [
    "# Create new `device2` variable\n",
    "### YOUR CODE HERE ###\n",
    "\n",
    "# OHE the device column\n",
    "df['device2'] = np.where(df['device']=='Android', 0, 1)\n",
    "\n",
    "# comparing the encoded values\n",
    "df[['device', 'device2']].tail()"
   ]
  },
  {
   "cell_type": "markdown",
   "id": "80b7a076",
   "metadata": {
    "id": "iDYyjWssbnBG",
    "papermill": {
     "duration": 0.025303,
     "end_time": "2025-02-12T04:39:52.585660",
     "exception": false,
     "start_time": "2025-02-12T04:39:52.560357",
     "status": "completed"
    },
    "tags": []
   },
   "source": [
    "### **Task 3d. Model building**"
   ]
  },
  {
   "cell_type": "markdown",
   "id": "08a7de8f",
   "metadata": {
    "id": "TvmcjB19Cpw-",
    "papermill": {
     "duration": 0.025456,
     "end_time": "2025-02-12T04:39:52.636317",
     "exception": false,
     "start_time": "2025-02-12T04:39:52.610861",
     "status": "completed"
    },
    "tags": []
   },
   "source": [
    "#### **Assign predictor variables and target**\n",
    "\n",
    "To build your model you need to determine what X variables you want to include in your model to predict your target&mdash;`label2`.\n",
    "\n",
    "Drop the following variables and assign the results to `X`:\n",
    "\n",
    "* `label` (this is the target)\n",
    "* `label2` (this is the target)\n",
    "* `device` (this is the non-binary-encoded categorical variable)\n",
    "* `sessions` (this had high multicollinearity)\n",
    "* `driving_days` (this had high multicollinearity)\n",
    "\n",
    "**Note:** Notice that `sessions` and `driving_days` were selected to be dropped, rather than `drives` and `activity_days`. The reason for this is that the features that were kept for modeling had slightly stronger correlations with the target variable than the features that were dropped."
   ]
  },
  {
   "cell_type": "code",
   "execution_count": 23,
   "id": "298282d5",
   "metadata": {
    "execution": {
     "iopub.execute_input": "2025-02-12T04:39:52.688069Z",
     "iopub.status.busy": "2025-02-12T04:39:52.687646Z",
     "iopub.status.idle": "2025-02-12T04:39:52.693582Z",
     "shell.execute_reply": "2025-02-12T04:39:52.692621Z"
    },
    "id": "AzcDgLRET4d7",
    "papermill": {
     "duration": 0.034055,
     "end_time": "2025-02-12T04:39:52.695384",
     "exception": false,
     "start_time": "2025-02-12T04:39:52.661329",
     "status": "completed"
    },
    "tags": []
   },
   "outputs": [],
   "source": [
    "# Isolate predictor variables\n",
    "### YOUR CODE HERE ###\n",
    "X = df.drop(columns = ['label', 'label2', 'device', 'sessions', 'driving_days'])"
   ]
  },
  {
   "cell_type": "markdown",
   "id": "d727cdf3",
   "metadata": {
    "id": "5c1Dzcz6C3WR",
    "papermill": {
     "duration": 0.031304,
     "end_time": "2025-02-12T04:39:52.752622",
     "exception": false,
     "start_time": "2025-02-12T04:39:52.721318",
     "status": "completed"
    },
    "tags": []
   },
   "source": [
    "Now, isolate the dependent (target) variable. Assign it to a variable called `y`."
   ]
  },
  {
   "cell_type": "code",
   "execution_count": 24,
   "id": "04df53ac",
   "metadata": {
    "execution": {
     "iopub.execute_input": "2025-02-12T04:39:52.806510Z",
     "iopub.status.busy": "2025-02-12T04:39:52.806117Z",
     "iopub.status.idle": "2025-02-12T04:39:52.810400Z",
     "shell.execute_reply": "2025-02-12T04:39:52.809228Z"
    },
    "id": "h0QFCHIJC3-I",
    "papermill": {
     "duration": 0.032254,
     "end_time": "2025-02-12T04:39:52.812063",
     "exception": false,
     "start_time": "2025-02-12T04:39:52.779809",
     "status": "completed"
    },
    "tags": []
   },
   "outputs": [],
   "source": [
    "# Isolate target variable\n",
    "### YOUR CODE HERE ###\n",
    "y = df['label2']"
   ]
  },
  {
   "cell_type": "markdown",
   "id": "2366e3e5",
   "metadata": {
    "id": "VOewKY740Beq",
    "papermill": {
     "duration": 0.025457,
     "end_time": "2025-02-12T04:39:52.862668",
     "exception": false,
     "start_time": "2025-02-12T04:39:52.837211",
     "status": "completed"
    },
    "tags": []
   },
   "source": [
    "#### **Split the data**\n",
    "\n",
    "Use scikit-learn's [`train_test_split()`](https://scikit-learn.org/stable/modules/generated/sklearn.model_selection.train_test_split.html) function to perform a train/test split on your data using the X and y variables you assigned above.\n",
    "\n",
    "**Note 1:** It is important to do a train test to obtain accurate predictions.  You always want to fit your model on your training set and evaluate your model on your test set to avoid data leakage.\n",
    "\n",
    "**Note 2:** Because the target class is imbalanced (82% retained vs. 18% churned), you want to make sure that you don't get an unlucky split that over- or under-represents the frequency of the minority class. Set the function's `stratify` parameter to `y` to ensure that the minority class appears in both train and test sets in the same proportion that it does in the overall dataset."
   ]
  },
  {
   "cell_type": "code",
   "execution_count": 25,
   "id": "402f925c",
   "metadata": {
    "execution": {
     "iopub.execute_input": "2025-02-12T04:39:52.943572Z",
     "iopub.status.busy": "2025-02-12T04:39:52.943192Z",
     "iopub.status.idle": "2025-02-12T04:39:52.961942Z",
     "shell.execute_reply": "2025-02-12T04:39:52.959277Z"
    },
    "id": "ulDZdfSS0FyD",
    "papermill": {
     "duration": 0.064584,
     "end_time": "2025-02-12T04:39:52.964320",
     "exception": false,
     "start_time": "2025-02-12T04:39:52.899736",
     "status": "completed"
    },
    "tags": []
   },
   "outputs": [],
   "source": [
    "# Perform the train-test split\n",
    "### YOUR CODE HERE ###\n",
    "X_train, X_test, y_train, y_test = train_test_split(X, y, stratify=y, random_state=42)"
   ]
  },
  {
   "cell_type": "code",
   "execution_count": 26,
   "id": "73a155f4",
   "metadata": {
    "execution": {
     "iopub.execute_input": "2025-02-12T04:39:53.037336Z",
     "iopub.status.busy": "2025-02-12T04:39:53.036762Z",
     "iopub.status.idle": "2025-02-12T04:39:53.055282Z",
     "shell.execute_reply": "2025-02-12T04:39:53.054199Z"
    },
    "id": "Q1vdmEo3mKmO",
    "papermill": {
     "duration": 0.048796,
     "end_time": "2025-02-12T04:39:53.057251",
     "exception": false,
     "start_time": "2025-02-12T04:39:53.008455",
     "status": "completed"
    },
    "tags": []
   },
   "outputs": [
    {
     "data": {
      "text/html": [
       "<div>\n",
       "<style scoped>\n",
       "    .dataframe tbody tr th:only-of-type {\n",
       "        vertical-align: middle;\n",
       "    }\n",
       "\n",
       "    .dataframe tbody tr th {\n",
       "        vertical-align: top;\n",
       "    }\n",
       "\n",
       "    .dataframe thead th {\n",
       "        text-align: right;\n",
       "    }\n",
       "</style>\n",
       "<table border=\"1\" class=\"dataframe\">\n",
       "  <thead>\n",
       "    <tr style=\"text-align: right;\">\n",
       "      <th></th>\n",
       "      <th>drives</th>\n",
       "      <th>total_sessions</th>\n",
       "      <th>n_days_after_onboarding</th>\n",
       "      <th>total_navigations_fav1</th>\n",
       "      <th>total_navigations_fav2</th>\n",
       "      <th>driven_km_drives</th>\n",
       "      <th>duration_minutes_drives</th>\n",
       "      <th>activity_days</th>\n",
       "      <th>km_per_driving_day</th>\n",
       "      <th>professional_driver</th>\n",
       "      <th>device2</th>\n",
       "    </tr>\n",
       "  </thead>\n",
       "  <tbody>\n",
       "    <tr>\n",
       "      <th>152</th>\n",
       "      <td>108</td>\n",
       "      <td>186.192746</td>\n",
       "      <td>3116</td>\n",
       "      <td>243</td>\n",
       "      <td>124</td>\n",
       "      <td>8898.716275</td>\n",
       "      <td>4668.180092</td>\n",
       "      <td>24</td>\n",
       "      <td>612.305861</td>\n",
       "      <td>1</td>\n",
       "      <td>1</td>\n",
       "    </tr>\n",
       "    <tr>\n",
       "      <th>11899</th>\n",
       "      <td>2</td>\n",
       "      <td>3.487590</td>\n",
       "      <td>794</td>\n",
       "      <td>114</td>\n",
       "      <td>18</td>\n",
       "      <td>3286.545691</td>\n",
       "      <td>1780.902733</td>\n",
       "      <td>5</td>\n",
       "      <td>3286.545691</td>\n",
       "      <td>0</td>\n",
       "      <td>1</td>\n",
       "    </tr>\n",
       "    <tr>\n",
       "      <th>10937</th>\n",
       "      <td>139</td>\n",
       "      <td>347.106403</td>\n",
       "      <td>331</td>\n",
       "      <td>4</td>\n",
       "      <td>7</td>\n",
       "      <td>7400.838975</td>\n",
       "      <td>2349.305267</td>\n",
       "      <td>15</td>\n",
       "      <td>616.736581</td>\n",
       "      <td>0</td>\n",
       "      <td>0</td>\n",
       "    </tr>\n",
       "    <tr>\n",
       "      <th>669</th>\n",
       "      <td>108</td>\n",
       "      <td>455.439492</td>\n",
       "      <td>2320</td>\n",
       "      <td>11</td>\n",
       "      <td>4</td>\n",
       "      <td>6566.424830</td>\n",
       "      <td>4558.459870</td>\n",
       "      <td>18</td>\n",
       "      <td>410.401552</td>\n",
       "      <td>1</td>\n",
       "      <td>1</td>\n",
       "    </tr>\n",
       "    <tr>\n",
       "      <th>8406</th>\n",
       "      <td>10</td>\n",
       "      <td>89.475821</td>\n",
       "      <td>2478</td>\n",
       "      <td>135</td>\n",
       "      <td>0</td>\n",
       "      <td>1271.248661</td>\n",
       "      <td>938.711572</td>\n",
       "      <td>27</td>\n",
       "      <td>74.779333</td>\n",
       "      <td>0</td>\n",
       "      <td>1</td>\n",
       "    </tr>\n",
       "  </tbody>\n",
       "</table>\n",
       "</div>"
      ],
      "text/plain": [
       "       drives  total_sessions  n_days_after_onboarding  \\\n",
       "152       108      186.192746                     3116   \n",
       "11899       2        3.487590                      794   \n",
       "10937     139      347.106403                      331   \n",
       "669       108      455.439492                     2320   \n",
       "8406       10       89.475821                     2478   \n",
       "\n",
       "       total_navigations_fav1  total_navigations_fav2  driven_km_drives  \\\n",
       "152                       243                     124       8898.716275   \n",
       "11899                     114                      18       3286.545691   \n",
       "10937                       4                       7       7400.838975   \n",
       "669                        11                       4       6566.424830   \n",
       "8406                      135                       0       1271.248661   \n",
       "\n",
       "       duration_minutes_drives  activity_days  km_per_driving_day  \\\n",
       "152                4668.180092             24          612.305861   \n",
       "11899              1780.902733              5         3286.545691   \n",
       "10937              2349.305267             15          616.736581   \n",
       "669                4558.459870             18          410.401552   \n",
       "8406                938.711572             27           74.779333   \n",
       "\n",
       "       professional_driver  device2  \n",
       "152                      1        1  \n",
       "11899                    0        1  \n",
       "10937                    0        0  \n",
       "669                      1        1  \n",
       "8406                     0        1  "
      ]
     },
     "execution_count": 26,
     "metadata": {},
     "output_type": "execute_result"
    }
   ],
   "source": [
    "# Use .head()\n",
    "### YOUR CODE HERE ###\n",
    "X_train.head()"
   ]
  },
  {
   "cell_type": "markdown",
   "id": "8cfb6a60",
   "metadata": {
    "id": "ZMUo8Ri-zK7r",
    "papermill": {
     "duration": 0.03326,
     "end_time": "2025-02-12T04:39:53.118525",
     "exception": false,
     "start_time": "2025-02-12T04:39:53.085265",
     "status": "completed"
    },
    "tags": []
   },
   "source": [
    "Use scikit-learn to instantiate a logistic regression model. Add the argument `penalty = None`.\n",
    "\n",
    "It is important to add `penalty = None` since your predictors are unscaled.\n",
    "\n",
    "Refer to scikit-learn's [logistic regression](https://scikit-learn.org/stable/modules/generated/sklearn.linear_model.LogisticRegression.html) documentation for more information.\n",
    "\n",
    "Fit the model on `X_train` and `y_train`."
   ]
  },
  {
   "cell_type": "code",
   "execution_count": 27,
   "id": "4c486fc9",
   "metadata": {
    "execution": {
     "iopub.execute_input": "2025-02-12T04:39:53.181360Z",
     "iopub.status.busy": "2025-02-12T04:39:53.180953Z",
     "iopub.status.idle": "2025-02-12T04:39:53.344677Z",
     "shell.execute_reply": "2025-02-12T04:39:53.343617Z"
    },
    "id": "zrTNaDVZheyp",
    "papermill": {
     "duration": 0.194429,
     "end_time": "2025-02-12T04:39:53.346806",
     "exception": false,
     "start_time": "2025-02-12T04:39:53.152377",
     "status": "completed"
    },
    "tags": []
   },
   "outputs": [
    {
     "name": "stderr",
     "output_type": "stream",
     "text": [
      "/usr/local/lib/python3.10/dist-packages/sklearn/linear_model/_logistic.py:1173: FutureWarning: `penalty='none'`has been deprecated in 1.2 and will be removed in 1.4. To keep the past behaviour, set `penalty=None`.\n",
      "  warnings.warn(\n"
     ]
    },
    {
     "data": {
      "text/html": [
       "<style>#sk-container-id-1 {color: black;background-color: white;}#sk-container-id-1 pre{padding: 0;}#sk-container-id-1 div.sk-toggleable {background-color: white;}#sk-container-id-1 label.sk-toggleable__label {cursor: pointer;display: block;width: 100%;margin-bottom: 0;padding: 0.3em;box-sizing: border-box;text-align: center;}#sk-container-id-1 label.sk-toggleable__label-arrow:before {content: \"▸\";float: left;margin-right: 0.25em;color: #696969;}#sk-container-id-1 label.sk-toggleable__label-arrow:hover:before {color: black;}#sk-container-id-1 div.sk-estimator:hover label.sk-toggleable__label-arrow:before {color: black;}#sk-container-id-1 div.sk-toggleable__content {max-height: 0;max-width: 0;overflow: hidden;text-align: left;background-color: #f0f8ff;}#sk-container-id-1 div.sk-toggleable__content pre {margin: 0.2em;color: black;border-radius: 0.25em;background-color: #f0f8ff;}#sk-container-id-1 input.sk-toggleable__control:checked~div.sk-toggleable__content {max-height: 200px;max-width: 100%;overflow: auto;}#sk-container-id-1 input.sk-toggleable__control:checked~label.sk-toggleable__label-arrow:before {content: \"▾\";}#sk-container-id-1 div.sk-estimator input.sk-toggleable__control:checked~label.sk-toggleable__label {background-color: #d4ebff;}#sk-container-id-1 div.sk-label input.sk-toggleable__control:checked~label.sk-toggleable__label {background-color: #d4ebff;}#sk-container-id-1 input.sk-hidden--visually {border: 0;clip: rect(1px 1px 1px 1px);clip: rect(1px, 1px, 1px, 1px);height: 1px;margin: -1px;overflow: hidden;padding: 0;position: absolute;width: 1px;}#sk-container-id-1 div.sk-estimator {font-family: monospace;background-color: #f0f8ff;border: 1px dotted black;border-radius: 0.25em;box-sizing: border-box;margin-bottom: 0.5em;}#sk-container-id-1 div.sk-estimator:hover {background-color: #d4ebff;}#sk-container-id-1 div.sk-parallel-item::after {content: \"\";width: 100%;border-bottom: 1px solid gray;flex-grow: 1;}#sk-container-id-1 div.sk-label:hover label.sk-toggleable__label {background-color: #d4ebff;}#sk-container-id-1 div.sk-serial::before {content: \"\";position: absolute;border-left: 1px solid gray;box-sizing: border-box;top: 0;bottom: 0;left: 50%;z-index: 0;}#sk-container-id-1 div.sk-serial {display: flex;flex-direction: column;align-items: center;background-color: white;padding-right: 0.2em;padding-left: 0.2em;position: relative;}#sk-container-id-1 div.sk-item {position: relative;z-index: 1;}#sk-container-id-1 div.sk-parallel {display: flex;align-items: stretch;justify-content: center;background-color: white;position: relative;}#sk-container-id-1 div.sk-item::before, #sk-container-id-1 div.sk-parallel-item::before {content: \"\";position: absolute;border-left: 1px solid gray;box-sizing: border-box;top: 0;bottom: 0;left: 50%;z-index: -1;}#sk-container-id-1 div.sk-parallel-item {display: flex;flex-direction: column;z-index: 1;position: relative;background-color: white;}#sk-container-id-1 div.sk-parallel-item:first-child::after {align-self: flex-end;width: 50%;}#sk-container-id-1 div.sk-parallel-item:last-child::after {align-self: flex-start;width: 50%;}#sk-container-id-1 div.sk-parallel-item:only-child::after {width: 0;}#sk-container-id-1 div.sk-dashed-wrapped {border: 1px dashed gray;margin: 0 0.4em 0.5em 0.4em;box-sizing: border-box;padding-bottom: 0.4em;background-color: white;}#sk-container-id-1 div.sk-label label {font-family: monospace;font-weight: bold;display: inline-block;line-height: 1.2em;}#sk-container-id-1 div.sk-label-container {text-align: center;}#sk-container-id-1 div.sk-container {/* jupyter's `normalize.less` sets `[hidden] { display: none; }` but bootstrap.min.css set `[hidden] { display: none !important; }` so we also need the `!important` here to be able to override the default hidden behavior on the sphinx rendered scikit-learn.org. See: https://github.com/scikit-learn/scikit-learn/issues/21755 */display: inline-block !important;position: relative;}#sk-container-id-1 div.sk-text-repr-fallback {display: none;}</style><div id=\"sk-container-id-1\" class=\"sk-top-container\"><div class=\"sk-text-repr-fallback\"><pre>LogisticRegression(max_iter=400, penalty=&#x27;none&#x27;)</pre><b>In a Jupyter environment, please rerun this cell to show the HTML representation or trust the notebook. <br />On GitHub, the HTML representation is unable to render, please try loading this page with nbviewer.org.</b></div><div class=\"sk-container\" hidden><div class=\"sk-item\"><div class=\"sk-estimator sk-toggleable\"><input class=\"sk-toggleable__control sk-hidden--visually\" id=\"sk-estimator-id-1\" type=\"checkbox\" checked><label for=\"sk-estimator-id-1\" class=\"sk-toggleable__label sk-toggleable__label-arrow\">LogisticRegression</label><div class=\"sk-toggleable__content\"><pre>LogisticRegression(max_iter=400, penalty=&#x27;none&#x27;)</pre></div></div></div></div></div>"
      ],
      "text/plain": [
       "LogisticRegression(max_iter=400, penalty='none')"
      ]
     },
     "execution_count": 27,
     "metadata": {},
     "output_type": "execute_result"
    }
   ],
   "source": [
    "### YOUR CODE HERE ###\n",
    "model = LogisticRegression(penalty='none', max_iter=400)\n",
    "\n",
    "# fitting the training data\n",
    "model.fit(X_train, y_train)"
   ]
  },
  {
   "cell_type": "markdown",
   "id": "59e29ea3",
   "metadata": {
    "id": "aPoDllWB6ULV",
    "papermill": {
     "duration": 0.029145,
     "end_time": "2025-02-12T04:39:53.402751",
     "exception": false,
     "start_time": "2025-02-12T04:39:53.373606",
     "status": "completed"
    },
    "tags": []
   },
   "source": [
    "Call the `.coef_` attribute on the model to get the coefficients of each variable.  The coefficients are in order of how the variables are listed in the dataset.  Remember that the coefficients represent the change in the **log odds** of the target variable for **every one unit increase in X**.\n",
    "\n",
    "If you want, create a series whose index is the column names and whose values are the coefficients in `model.coef_`."
   ]
  },
  {
   "cell_type": "code",
   "execution_count": 28,
   "id": "b518bacb",
   "metadata": {
    "execution": {
     "iopub.execute_input": "2025-02-12T04:39:53.473113Z",
     "iopub.status.busy": "2025-02-12T04:39:53.472595Z",
     "iopub.status.idle": "2025-02-12T04:39:53.481894Z",
     "shell.execute_reply": "2025-02-12T04:39:53.480759Z"
    },
    "id": "7Ri-OHrlmd8j",
    "papermill": {
     "duration": 0.0391,
     "end_time": "2025-02-12T04:39:53.483863",
     "exception": false,
     "start_time": "2025-02-12T04:39:53.444763",
     "status": "completed"
    },
    "tags": []
   },
   "outputs": [
    {
     "data": {
      "text/plain": [
       "drives                     0.001913\n",
       "total_sessions             0.000327\n",
       "n_days_after_onboarding   -0.000406\n",
       "total_navigations_fav1     0.001232\n",
       "total_navigations_fav2     0.000931\n",
       "driven_km_drives          -0.000015\n",
       "duration_minutes_drives    0.000109\n",
       "activity_days             -0.106032\n",
       "km_per_driving_day         0.000018\n",
       "professional_driver       -0.001529\n",
       "device2                   -0.001041\n",
       "dtype: float64"
      ]
     },
     "execution_count": 28,
     "metadata": {},
     "output_type": "execute_result"
    }
   ],
   "source": [
    "### YOUR CODE HERE ###\n",
    "pd.Series(model.coef_[0], index=X.columns)"
   ]
  },
  {
   "cell_type": "markdown",
   "id": "29904d30",
   "metadata": {
    "id": "_ENmLXXp8JDM",
    "papermill": {
     "duration": 0.026656,
     "end_time": "2025-02-12T04:39:53.542243",
     "exception": false,
     "start_time": "2025-02-12T04:39:53.515587",
     "status": "completed"
    },
    "tags": []
   },
   "source": [
    "Call the model's `intercept_` attribute to get the intercept of the model."
   ]
  },
  {
   "cell_type": "code",
   "execution_count": 29,
   "id": "30c7dbf6",
   "metadata": {
    "execution": {
     "iopub.execute_input": "2025-02-12T04:39:53.597726Z",
     "iopub.status.busy": "2025-02-12T04:39:53.597231Z",
     "iopub.status.idle": "2025-02-12T04:39:53.604408Z",
     "shell.execute_reply": "2025-02-12T04:39:53.603299Z"
    },
    "id": "hWeruvy1wksj",
    "papermill": {
     "duration": 0.037507,
     "end_time": "2025-02-12T04:39:53.606198",
     "exception": false,
     "start_time": "2025-02-12T04:39:53.568691",
     "status": "completed"
    },
    "tags": []
   },
   "outputs": [
    {
     "data": {
      "text/plain": [
       "array([-0.00170675])"
      ]
     },
     "execution_count": 29,
     "metadata": {},
     "output_type": "execute_result"
    }
   ],
   "source": [
    "### YOUR CODE HERE ###\n",
    "model.intercept_"
   ]
  },
  {
   "cell_type": "markdown",
   "id": "75128701",
   "metadata": {
    "id": "tdVIjKNHmlY_",
    "papermill": {
     "duration": 0.025832,
     "end_time": "2025-02-12T04:39:53.658827",
     "exception": false,
     "start_time": "2025-02-12T04:39:53.632995",
     "status": "completed"
    },
    "tags": []
   },
   "source": [
    "#### **Check final assumption**\n",
    "\n",
    "Verify the linear relationship between X and the estimated log odds (known as logits) by making a regplot.\n",
    "\n",
    "Call the model's `predict_proba()` method to generate the probability of response for each sample in the training data. (The training data is the argument to the method.) Assign the result to a variable called `training_probabilities`. This results in a 2-D array where each row represents a user in `X_train`. The first column is the probability of the user not churning, and the second column is the probability of the user churning."
   ]
  },
  {
   "cell_type": "code",
   "execution_count": 30,
   "id": "568949de",
   "metadata": {
    "execution": {
     "iopub.execute_input": "2025-02-12T04:39:53.713442Z",
     "iopub.status.busy": "2025-02-12T04:39:53.712909Z",
     "iopub.status.idle": "2025-02-12T04:39:53.724129Z",
     "shell.execute_reply": "2025-02-12T04:39:53.723126Z"
    },
    "id": "aY71xhehmo9i",
    "papermill": {
     "duration": 0.040477,
     "end_time": "2025-02-12T04:39:53.726365",
     "exception": false,
     "start_time": "2025-02-12T04:39:53.685888",
     "status": "completed"
    },
    "tags": []
   },
   "outputs": [
    {
     "data": {
      "text/plain": [
       "array([[0.93963481, 0.06036519],\n",
       "       [0.61967308, 0.38032692],\n",
       "       [0.76463187, 0.23536813],\n",
       "       ...,\n",
       "       [0.91909643, 0.08090357],\n",
       "       [0.85092108, 0.14907892],\n",
       "       [0.93516296, 0.06483704]])"
      ]
     },
     "execution_count": 30,
     "metadata": {},
     "output_type": "execute_result"
    }
   ],
   "source": [
    "# Get the predicted probabilities of the training data\n",
    "### YOUR CODE HERE ###\n",
    "training_probabilities = model.predict_proba(X_train)\n",
    "training_probabilities"
   ]
  },
  {
   "cell_type": "markdown",
   "id": "12655397",
   "metadata": {
    "id": "9AGMCvdfmpfU",
    "papermill": {
     "duration": 0.025676,
     "end_time": "2025-02-12T04:39:53.780343",
     "exception": false,
     "start_time": "2025-02-12T04:39:53.754667",
     "status": "completed"
    },
    "tags": []
   },
   "source": [
    "In logistic regression, the relationship between a predictor variable and the dependent variable does not need to be linear, however, the log-odds (a.k.a., logit) of the dependent variable with respect to the predictor variable should be linear. Here is the formula for calculating log-odds, where _p_ is the probability of response:\n",
    "<br>\n",
    "$$\n",
    "logit(p) = ln(\\frac{p}{1-p})\n",
    "$$\n",
    "<br>\n",
    "\n",
    "1. Create a dataframe called `logit_data` that is a copy of `df`.\n",
    "\n",
    "2. Create a new column called `logit` in the `logit_data` dataframe. The data in this column should represent the logit for each user.\n"
   ]
  },
  {
   "cell_type": "code",
   "execution_count": 31,
   "id": "f3863362",
   "metadata": {
    "execution": {
     "iopub.execute_input": "2025-02-12T04:39:53.833718Z",
     "iopub.status.busy": "2025-02-12T04:39:53.833268Z",
     "iopub.status.idle": "2025-02-12T04:39:53.870661Z",
     "shell.execute_reply": "2025-02-12T04:39:53.869274Z"
    },
    "id": "-tXq8gYnEw6M",
    "papermill": {
     "duration": 0.066511,
     "end_time": "2025-02-12T04:39:53.872893",
     "exception": false,
     "start_time": "2025-02-12T04:39:53.806382",
     "status": "completed"
    },
    "tags": []
   },
   "outputs": [],
   "source": [
    "# 1. Copy the `X_train` dataframe and assign to `logit_data`\n",
    "### YOUR CODE HERE ###\n",
    "logit_data = X_train.copy()\n",
    "\n",
    "# 2. Create a new `logit` column in the `logit_data` df\n",
    "### YOUR CODE HERE ###\n",
    "logit_data['logit'] = [np.log(prob[1] / prob[0]) for prob in training_probabilities]"
   ]
  },
  {
   "cell_type": "markdown",
   "id": "b332431d",
   "metadata": {
    "id": "J6oVbApcEx71",
    "papermill": {
     "duration": 0.026796,
     "end_time": "2025-02-12T04:39:53.933316",
     "exception": false,
     "start_time": "2025-02-12T04:39:53.906520",
     "status": "completed"
    },
    "tags": []
   },
   "source": [
    "Plot a regplot where the x-axis represents an independent variable and the y-axis represents the log-odds of the predicted probabilities.\n",
    "\n",
    "In an exhaustive analysis, this would be plotted for each continuous or discrete predictor variable. Here we show only `driving_days`."
   ]
  },
  {
   "cell_type": "code",
   "execution_count": 32,
   "id": "6444f586",
   "metadata": {
    "execution": {
     "iopub.execute_input": "2025-02-12T04:39:53.988075Z",
     "iopub.status.busy": "2025-02-12T04:39:53.987581Z",
     "iopub.status.idle": "2025-02-12T04:39:54.844255Z",
     "shell.execute_reply": "2025-02-12T04:39:54.843157Z"
    },
    "id": "5ix8VT0VEzQK",
    "papermill": {
     "duration": 0.886274,
     "end_time": "2025-02-12T04:39:54.846121",
     "exception": false,
     "start_time": "2025-02-12T04:39:53.959847",
     "status": "completed"
    },
    "tags": []
   },
   "outputs": [
    {
     "data": {
      "text/plain": [
       "Text(0.5, 1.0, 'Log-odds across activity_days')"
      ]
     },
     "execution_count": 32,
     "metadata": {},
     "output_type": "execute_result"
    },
    {
     "data": {
      "image/png": "[encoded data removed]",
      "text/plain": [
       "<Figure size 640x480 with 1 Axes>"
      ]
     },
     "metadata": {},
     "output_type": "display_data"
    }
   ],
   "source": [
    "# Plot regplot of `activity_days` log-odds\n",
    "### YOUR CODE HERE ###\n",
    "\n",
    "# regression plot\n",
    "sns.regplot(x='activity_days', y='logit', data=logit_data, scatter_kws={'s': 2, 'alpha': 0.5})\n",
    "\n",
    "# set title\n",
    "plt.title('Log-odds across activity_days')"
   ]
  },
  {
   "cell_type": "markdown",
   "id": "2c2cfda5",
   "metadata": {
    "id": "cp7ojoBldEYy",
    "papermill": {
     "duration": 0.027147,
     "end_time": "2025-02-12T04:39:54.901087",
     "exception": false,
     "start_time": "2025-02-12T04:39:54.873940",
     "status": "completed"
    },
    "tags": []
   },
   "source": [
    "<img src=\"images/Execute.png\" width=\"100\" height=\"100\" align=left>\n",
    "\n",
    "## **PACE: Execute**\n",
    "\n",
    "Consider the questions in your PACE Strategy Document to reflect on the Execute stage."
   ]
  },
  {
   "cell_type": "markdown",
   "id": "a782236f",
   "metadata": {
    "id": "F_l3bkxQdJ3a",
    "papermill": {
     "duration": 0.027741,
     "end_time": "2025-02-12T04:39:54.957443",
     "exception": false,
     "start_time": "2025-02-12T04:39:54.929702",
     "status": "completed"
    },
    "tags": []
   },
   "source": [
    "### **Task 4a. Results and evaluation**\n",
    "\n",
    "If the logistic assumptions are met, the model results can be appropriately interpreted.\n",
    "\n",
    "Use the code block below to make predictions on the test data.\n"
   ]
  },
  {
   "cell_type": "code",
   "execution_count": 33,
   "id": "b20a7462",
   "metadata": {
    "execution": {
     "iopub.execute_input": "2025-02-12T04:39:55.015842Z",
     "iopub.status.busy": "2025-02-12T04:39:55.015490Z",
     "iopub.status.idle": "2025-02-12T04:39:55.022266Z",
     "shell.execute_reply": "2025-02-12T04:39:55.021173Z"
    },
    "id": "cSl5gbXfBPBN",
    "papermill": {
     "duration": 0.039178,
     "end_time": "2025-02-12T04:39:55.024106",
     "exception": false,
     "start_time": "2025-02-12T04:39:54.984928",
     "status": "completed"
    },
    "tags": []
   },
   "outputs": [],
   "source": [
    "# Generate predictions on X_test\n",
    "### YOUR CODE HERE ###\n",
    "y_preds = model.predict(X_test)"
   ]
  },
  {
   "cell_type": "markdown",
   "id": "954d99fa",
   "metadata": {
    "id": "dbN_LHUb9uhp",
    "papermill": {
     "duration": 0.028298,
     "end_time": "2025-02-12T04:39:55.080884",
     "exception": false,
     "start_time": "2025-02-12T04:39:55.052586",
     "status": "completed"
    },
    "tags": []
   },
   "source": [
    "Now, use the `score()` method on the model with `X_test` and `y_test` as its two arguments. The default score in scikit-learn is **accuracy**.  What is the accuracy of your model?\n",
    "\n",
    "*Consider:  Is accuracy the best metric to use to evaluate this model?*"
   ]
  },
  {
   "cell_type": "code",
   "execution_count": 34,
   "id": "42cf2c7d",
   "metadata": {
    "execution": {
     "iopub.execute_input": "2025-02-12T04:39:55.139698Z",
     "iopub.status.busy": "2025-02-12T04:39:55.139351Z",
     "iopub.status.idle": "2025-02-12T04:39:55.148823Z",
     "shell.execute_reply": "2025-02-12T04:39:55.147882Z"
    },
    "id": "fU3v-XO49qm8",
    "papermill": {
     "duration": 0.040516,
     "end_time": "2025-02-12T04:39:55.150553",
     "exception": false,
     "start_time": "2025-02-12T04:39:55.110037",
     "status": "completed"
    },
    "tags": []
   },
   "outputs": [
    {
     "data": {
      "text/plain": [
       "0.8237762237762237"
      ]
     },
     "execution_count": 34,
     "metadata": {},
     "output_type": "execute_result"
    }
   ],
   "source": [
    "# Score the model (accuracy) on the test data\n",
    "### YOUR CODE HERE ###\n",
    "model.score(X_test, y_test)"
   ]
  },
  {
   "cell_type": "markdown",
   "id": "7f6228e1",
   "metadata": {
    "id": "mwRmSDS3eyeH",
    "papermill": {
     "duration": 0.027958,
     "end_time": "2025-02-12T04:39:55.206482",
     "exception": false,
     "start_time": "2025-02-12T04:39:55.178524",
     "status": "completed"
    },
    "tags": []
   },
   "source": [
    "### **Task 4b. Show results with a confusion matrix**"
   ]
  },
  {
   "cell_type": "markdown",
   "id": "717c45a5",
   "metadata": {
    "id": "qUKLVt50-zFE",
    "papermill": {
     "duration": 0.027541,
     "end_time": "2025-02-12T04:39:55.262240",
     "exception": false,
     "start_time": "2025-02-12T04:39:55.234699",
     "status": "completed"
    },
    "tags": []
   },
   "source": [
    "Use the `confusion_matrix` function to obtain a confusion matrix. Use `y_test` and `y_preds` as arguments."
   ]
  },
  {
   "cell_type": "code",
   "execution_count": 35,
   "id": "e577ca03",
   "metadata": {
    "execution": {
     "iopub.execute_input": "2025-02-12T04:39:55.319413Z",
     "iopub.status.busy": "2025-02-12T04:39:55.318965Z",
     "iopub.status.idle": "2025-02-12T04:39:55.325810Z",
     "shell.execute_reply": "2025-02-12T04:39:55.324724Z"
    },
    "id": "IBFU_dicBjwQ",
    "papermill": {
     "duration": 0.037733,
     "end_time": "2025-02-12T04:39:55.327721",
     "exception": false,
     "start_time": "2025-02-12T04:39:55.289988",
     "status": "completed"
    },
    "tags": []
   },
   "outputs": [],
   "source": [
    "### YOUR CODE HERE ###\n",
    "cm = confusion_matrix(y_test, y_preds)"
   ]
  },
  {
   "cell_type": "markdown",
   "id": "138892ec",
   "metadata": {
    "id": "EKS_DsNcGotN",
    "papermill": {
     "duration": 0.027289,
     "end_time": "2025-02-12T04:39:55.382658",
     "exception": false,
     "start_time": "2025-02-12T04:39:55.355369",
     "status": "completed"
    },
    "tags": []
   },
   "source": [
    "Next, use the `ConfusionMatrixDisplay()` function to display the confusion matrix from the above cell, passing the confusion matrix you just created as its argument."
   ]
  },
  {
   "cell_type": "code",
   "execution_count": 36,
   "id": "399b8c1f",
   "metadata": {
    "execution": {
     "iopub.execute_input": "2025-02-12T04:39:55.439742Z",
     "iopub.status.busy": "2025-02-12T04:39:55.439413Z",
     "iopub.status.idle": "2025-02-12T04:39:55.680185Z",
     "shell.execute_reply": "2025-02-12T04:39:55.679151Z"
    },
    "id": "BT0hOH_ZFsnx",
    "papermill": {
     "duration": 0.271823,
     "end_time": "2025-02-12T04:39:55.682121",
     "exception": false,
     "start_time": "2025-02-12T04:39:55.410298",
     "status": "completed"
    },
    "tags": []
   },
   "outputs": [
    {
     "data": {
      "text/plain": [
       "<sklearn.metrics._plot.confusion_matrix.ConfusionMatrixDisplay at 0x7a0ee13bf580>"
      ]
     },
     "execution_count": 36,
     "metadata": {},
     "output_type": "execute_result"
    },
    {
     "data": {
      "image/png": "[encoded data removed]",
      "text/plain": [
       "<Figure size 640x480 with 2 Axes>"
      ]
     },
     "metadata": {},
     "output_type": "display_data"
    }
   ],
   "source": [
    "### YOUR CODE HERE ###\n",
    "\n",
    "cm_plot = ConfusionMatrixDisplay(confusion_matrix=cm, display_labels=['retained', 'churned'])\n",
    "\n",
    "cm_plot.plot()"
   ]
  },
  {
   "cell_type": "markdown",
   "id": "ed42732d",
   "metadata": {
    "id": "tkqTjhWotVCK",
    "papermill": {
     "duration": 0.028742,
     "end_time": "2025-02-12T04:39:55.740726",
     "exception": false,
     "start_time": "2025-02-12T04:39:55.711984",
     "status": "completed"
    },
    "tags": []
   },
   "source": [
    "You can use the confusion matrix to compute precision and recall manually. You can also use scikit-learn's [`classification_report()`](https://scikit-learn.org/stable/modules/generated/sklearn.metrics.classification_report.html) function to generate a table from `y_test` and `y_preds`."
   ]
  },
  {
   "cell_type": "code",
   "execution_count": 37,
   "id": "7142ff30",
   "metadata": {
    "execution": {
     "iopub.execute_input": "2025-02-12T04:39:55.800728Z",
     "iopub.status.busy": "2025-02-12T04:39:55.800348Z",
     "iopub.status.idle": "2025-02-12T04:39:55.806481Z",
     "shell.execute_reply": "2025-02-12T04:39:55.805484Z"
    },
    "id": "39RM-g6UtbJ_",
    "papermill": {
     "duration": 0.038409,
     "end_time": "2025-02-12T04:39:55.807919",
     "exception": false,
     "start_time": "2025-02-12T04:39:55.769510",
     "status": "completed"
    },
    "tags": []
   },
   "outputs": [
    {
     "data": {
      "text/plain": [
       "0.5178571428571429"
      ]
     },
     "execution_count": 37,
     "metadata": {},
     "output_type": "execute_result"
    }
   ],
   "source": [
    "# Calculate precision manually\n",
    "### YOUR CODE HERE ###\n",
    "precision = cm[1,1] / (cm[1,1]+cm[0,1])\n",
    "precision"
   ]
  },
  {
   "cell_type": "code",
   "execution_count": 38,
   "id": "05e1894f",
   "metadata": {
    "execution": {
     "iopub.execute_input": "2025-02-12T04:39:55.867614Z",
     "iopub.status.busy": "2025-02-12T04:39:55.867246Z",
     "iopub.status.idle": "2025-02-12T04:39:55.873595Z",
     "shell.execute_reply": "2025-02-12T04:39:55.872543Z"
    },
    "id": "xUy7TDpHGlOf",
    "papermill": {
     "duration": 0.038663,
     "end_time": "2025-02-12T04:39:55.875297",
     "exception": false,
     "start_time": "2025-02-12T04:39:55.836634",
     "status": "completed"
    },
    "tags": []
   },
   "outputs": [
    {
     "data": {
      "text/plain": [
       "0.0914826498422713"
      ]
     },
     "execution_count": 38,
     "metadata": {},
     "output_type": "execute_result"
    }
   ],
   "source": [
    "# Calculate recall manually\n",
    "### YOUR CODE HERE ###\n",
    "recall = cm[1,1] / (cm[1,1]+cm[1,0])\n",
    "recall"
   ]
  },
  {
   "cell_type": "code",
   "execution_count": 39,
   "id": "86ac1d09",
   "metadata": {
    "execution": {
     "iopub.execute_input": "2025-02-12T04:39:55.934575Z",
     "iopub.status.busy": "2025-02-12T04:39:55.934204Z",
     "iopub.status.idle": "2025-02-12T04:39:55.951383Z",
     "shell.execute_reply": "2025-02-12T04:39:55.950129Z"
    },
    "id": "jTxfglLMGlr_",
    "papermill": {
     "duration": 0.0487,
     "end_time": "2025-02-12T04:39:55.953329",
     "exception": false,
     "start_time": "2025-02-12T04:39:55.904629",
     "status": "completed"
    },
    "tags": []
   },
   "outputs": [
    {
     "name": "stdout",
     "output_type": "stream",
     "text": [
      "              precision    recall  f1-score   support\n",
      "\n",
      "    retained       0.83      0.98      0.90      2941\n",
      "     churned       0.52      0.09      0.16       634\n",
      "\n",
      "    accuracy                           0.82      3575\n",
      "   macro avg       0.68      0.54      0.53      3575\n",
      "weighted avg       0.78      0.82      0.77      3575\n",
      "\n"
     ]
    }
   ],
   "source": [
    "# Create a classification report\n",
    "### YOUR CODE HERE ###\n",
    "target_labels = ['retained', 'churned']\n",
    "\n",
    "print(classification_report(y_test, y_preds, target_names=target_labels))"
   ]
  },
  {
   "cell_type": "markdown",
   "id": "abfe2e14",
   "metadata": {
    "id": "v8FQnyhnHFT7",
    "papermill": {
     "duration": 0.029779,
     "end_time": "2025-02-12T04:39:56.012732",
     "exception": false,
     "start_time": "2025-02-12T04:39:55.982953",
     "status": "completed"
    },
    "tags": []
   },
   "source": [
    "**Note:** The model has decent precision but very low recall, which means that it makes a lot of false negative predictions and fails to capture users who will churn."
   ]
  },
  {
   "cell_type": "markdown",
   "id": "0460abf4",
   "metadata": {
    "id": "uSpkqurtHJSE",
    "papermill": {
     "duration": 0.028207,
     "end_time": "2025-02-12T04:39:56.069802",
     "exception": false,
     "start_time": "2025-02-12T04:39:56.041595",
     "status": "completed"
    },
    "tags": []
   },
   "source": [
    "### **BONUS**\n",
    "\n",
    "Generate a bar graph of the model's coefficients for a visual representation of the importance of the model's features."
   ]
  },
  {
   "cell_type": "code",
   "execution_count": 40,
   "id": "f357b487",
   "metadata": {
    "execution": {
     "iopub.execute_input": "2025-02-12T04:39:56.128867Z",
     "iopub.status.busy": "2025-02-12T04:39:56.128480Z",
     "iopub.status.idle": "2025-02-12T04:39:56.135773Z",
     "shell.execute_reply": "2025-02-12T04:39:56.134731Z"
    },
    "id": "tuT0aP6FHL6B",
    "papermill": {
     "duration": 0.038667,
     "end_time": "2025-02-12T04:39:56.137490",
     "exception": false,
     "start_time": "2025-02-12T04:39:56.098823",
     "status": "completed"
    },
    "tags": []
   },
   "outputs": [
    {
     "data": {
      "text/plain": [
       "[('drives', 0.0019133723601433192),\n",
       " ('total_navigations_fav1', 0.0012317554042816578),\n",
       " ('total_navigations_fav2', 0.0009314797860225658),\n",
       " ('total_sessions', 0.00032706738031464827),\n",
       " ('duration_minutes_drives', 0.00010909332499222574),\n",
       " ('km_per_driving_day', 1.8222937187468187e-05),\n",
       " ('driven_km_drives', -1.4860291741555378e-05),\n",
       " ('n_days_after_onboarding', -0.0004064775605553305),\n",
       " ('device2', -0.0010412177744783856),\n",
       " ('professional_driver', -0.0015285045162055503),\n",
       " ('activity_days', -0.10603199034127213)]"
      ]
     },
     "execution_count": 40,
     "metadata": {},
     "output_type": "execute_result"
    }
   ],
   "source": [
    "# Create a list of (column_name, coefficient) tuples\n",
    "### YOUR CODE HERE ###\n",
    "feature_importance = list(zip(X_train.columns, model.coef_[0]))\n",
    "\n",
    "# Sort the list by coefficient value\n",
    "### YOUR CODE HERE ###\n",
    "feature_importance = sorted(feature_importance, key=lambda x: x[1], reverse=True)\n",
    "feature_importance"
   ]
  },
  {
   "cell_type": "code",
   "execution_count": 41,
   "id": "882727a9",
   "metadata": {
    "execution": {
     "iopub.execute_input": "2025-02-12T04:39:56.198603Z",
     "iopub.status.busy": "2025-02-12T04:39:56.198247Z",
     "iopub.status.idle": "2025-02-12T04:39:56.516467Z",
     "shell.execute_reply": "2025-02-12T04:39:56.515386Z"
    },
    "id": "kaam2OD8HOP5",
    "papermill": {
     "duration": 0.350978,
     "end_time": "2025-02-12T04:39:56.518819",
     "exception": false,
     "start_time": "2025-02-12T04:39:56.167841",
     "status": "completed"
    },
    "tags": []
   },
   "outputs": [
    {
     "name": "stderr",
     "output_type": "stream",
     "text": [
      "/usr/local/lib/python3.10/dist-packages/seaborn/_oldcore.py:1765: FutureWarning: unique with argument that is not not a Series, Index, ExtensionArray, or np.ndarray is deprecated and will raise in a future version.\n",
      "  order = pd.unique(vector)\n"
     ]
    },
    {
     "data": {
      "text/plain": [
       "Text(0.5, 1.0, 'Feature importance ranked from positive to negative influence to user churn')"
      ]
     },
     "execution_count": 41,
     "metadata": {},
     "output_type": "execute_result"
    },
    {
     "data": {
      "image/png": "[encoded data removed]",
      "text/plain": [
       "<Figure size 1200x700 with 1 Axes>"
      ]
     },
     "metadata": {},
     "output_type": "display_data"
    }
   ],
   "source": [
    "# Plot the feature importances\n",
    "### YOUR CODE HERE ###\n",
    "\n",
    "# set plot size\n",
    "plt.figure(figsize=(12,7))\n",
    "\n",
    "# construct the plot\n",
    "sns.barplot(x=[x[1] for x in feature_importance],\n",
    "            y=[x[0] for x in feature_importance],\n",
    "            orient='h')\n",
    "# set title\n",
    "plt.title('Feature importance ranked from positive to negative influence to user churn')"
   ]
  },
  {
   "cell_type": "markdown",
   "id": "06d4edb4",
   "metadata": {
    "id": "P6AlDDyhdzmG",
    "papermill": {
     "duration": 0.029765,
     "end_time": "2025-02-12T04:39:56.579283",
     "exception": false,
     "start_time": "2025-02-12T04:39:56.549518",
     "status": "completed"
    },
    "tags": []
   },
   "source": [
    "### **Task 4c. Conclusion**\n",
    "\n",
    "Now that you've built your regression model, the next step is to share your findings with the Waze leadership team. Consider the following questions as you prepare to write your executive summary. Think about key points you may want to share with the team, and what information is most relevant to the user churn project.\n",
    "\n",
    "**Questions:**\n",
    "\n",
    "1) What variable most influenced the model's prediction? How? Was this surprising?\n",
    "* activity days influenced the churn the most\n",
    "* it was negatively correlated with a user being churned earlier\n",
    "* using the logistic regression model we have found that, for 1 extra day the user was active, the odds of that user churning decreased by 10.058% (1-0.89942 = 1-exp^(-0.106)) \n",
    "\n",
    "2) Were there any variables that you expected to be stronger predictors than they were?\n",
    "* km_per_driving day had a correlation of 0.15 with the user being churned (it was quite high when compared with other variables)\n",
    "* but the coefficient from the logistic regression shows a log(odds) of 1.822e-05 which is quite low and surprising\n",
    "\n",
    "3) Why might a variable you thought to be important not be important in the model?\n",
    "* because of interaction effects\n",
    "* this increases with more number of independent variables (increases complexity/variance by focusing on eliminating bias) being introduced into the model building\n",
    "* selecting the features through striking a balance between, those needed by the model and those that are most useful for the use case is crucial when it comes to logistic regression (which is known for interaction effects to take over)\n",
    "* this is why, in logreg models, MARGINAL EFFECTS are focused more with some importance given to the individual co-efficients\n",
    "* if we need to monitor interaction effects, we can create new interaction variables before fitting and observe how the co-efficients differ (in those interaction terms)\n",
    "\n",
    "4) Would you recommend that Waze use this model? Why or why not?\n",
    "* Waze team's goal is to predict if a current user may churn or not and special marketing tactics can be deployed if we predict some to churn. \n",
    "* ASSUMING that the budget for targeted benefits proposal is high enough to even cover few of the non-churning users but we need to prevent the users who are about to churn, (False Negatives are costlier than False Positives) --> Recall is of high importance with satisfactory levels needed for accuracy and precision\n",
    "* But, this model has a very poor recall and a mediocre precision. The f-1 score is also very low at 0.16\n",
    "* So, this model will NOT serve the purpose of Waze's marketing team\n",
    "* Instead the findings from this model can be used to build more robust binary classifiers which can perform better in predicting the user churn\n",
    "\n",
    "5) What could you do to improve this model?\n",
    "* feature transformation and other techniques to engineer features can increase the model performance\n",
    "* using more diverse, representative data rather than simply imputing outliers to the max value can also reflect the production environment thereby increasing the model performance\n",
    "\n",
    "\n",
    "6) What additional features would you like to have to help improve the model?\n",
    "* the context of each user is still unknown. contextual data (weather, region, age, time_of_driving etc.) which are likely semi-qualitative in nature can provide meaning and can help in feature engineering.\n",
    "* before we can use the data to build basic foundational models, if the meaning behind each record can somehow be included as a new variable or combined with others or simply used to classify the existing records (grouped/consolidated using formula), the model can become robust (or even several little robust models can be formed) and inturn we can find if there are any confounders contributing to the churn \n"
   ]
  },
  {
   "cell_type": "markdown",
   "id": "dec93ab4",
   "metadata": {
    "papermill": {
     "duration": 0.031239,
     "end_time": "2025-02-12T04:39:56.641054",
     "exception": false,
     "start_time": "2025-02-12T04:39:56.609815",
     "status": "completed"
    },
    "tags": []
   },
   "source": [
    "**Congratulations!** You've completed this lab. However, you may not notice a green check mark next to this item on Coursera's platform. Please continue your progress regardless of the check mark. Just click on the \"save\" icon at the top of this notebook to ensure your work has been logged. "
   ]
  }
 ],
 "metadata": {
  "colab": {
   "provenance": [
    {
     "file_id": "10VdUGxtn9_2OaVJAptrlOkngf4ZKm52V",
     "timestamp": 1671215458572
    },
    {
     "file_id": "1Et0HEKWEY0dZ0BaNZeH189bi-PnC-iUH",
     "timestamp": 1671209438879
    },
    {
     "file_id": "16ynSVRiYFz40jV9BFaXgY62vWJWEVjFA",
     "timestamp": 1671052218770
    },
    {
     "file_id": "15PPfvGb4OuUkuQoTTpKKgSeY9o9a_XrL",
     "timestamp": 1669649625868
    },
    {
     "file_id": "1_uBujapIzHItho27E-iPg9wn3aHtsjLG",
     "timestamp": 1664565386285
    }
   ],
   "toc_visible": true
  },
  "kaggle": {
   "accelerator": "none",
   "dataSources": [
    {
     "datasetId": 6605803,
     "sourceId": 10666352,
     "sourceType": "datasetVersion"
    }
   ],
   "dockerImageVersionId": 30886,
   "isGpuEnabled": false,
   "isInternetEnabled": true,
   "language": "python",
   "sourceType": "notebook"
  },
  "kernelspec": {
   "display_name": "Python 3",
   "language": "python",
   "name": "python3"
  },
  "language_info": {
   "codemirror_mode": {
    "name": "ipython",
    "version": 3
   },
   "file_extension": ".py",
   "mimetype": "text/x-python",
   "name": "python",
   "nbconvert_exporter": "python",
   "pygments_lexer": "ipython3",
   "version": "3.10.12"
  },
  "papermill": {
   "default_parameters": {},
   "duration": 16.03443,
   "end_time": "2025-02-12T04:39:57.492850",
   "environment_variables": {},
   "exception": null,
   "input_path": "__notebook__.ipynb",
   "output_path": "__notebook__.ipynb",
   "parameters": {},
   "start_time": "2025-02-12T04:39:41.458420",
   "version": "2.6.0"
  }
 },
 "nbformat": 4,
 "nbformat_minor": 5
}
