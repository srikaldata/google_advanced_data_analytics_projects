{
 "cells": [
  {
   "cell_type": "markdown",
   "id": "4c1311b4",
   "metadata": {
    "id": "DtNBZFHO3M7n",
    "papermill": {
     "duration": 0.015299,
     "end_time": "2025-02-16T03:40:06.121938",
     "exception": false,
     "start_time": "2025-02-16T03:40:06.106639",
     "status": "completed"
    },
    "tags": []
   },
   "source": [
    "# **Waze Project**\n",
    "**Course 6 - The nuts and bolts of machine learning**"
   ]
  },
  {
   "cell_type": "markdown",
   "id": "38e6f855",
   "metadata": {
    "id": "XfCZ5KuI_2lT",
    "papermill": {
     "duration": 0.014019,
     "end_time": "2025-02-16T03:40:06.150539",
     "exception": false,
     "start_time": "2025-02-16T03:40:06.136520",
     "status": "completed"
    },
    "tags": []
   },
   "source": [
    "Your team is close to completing their user churn project. Previously, you completed a project proposal, and used Python to explore and analyze Waze’s user data, create data visualizations, and conduct a hypothesis test. Most recently, you built a binomial logistic regression model based on multiple variables.\n",
    "\n",
    "Leadership appreciates all your hard work. Now, they want your team to build a machine learning model to predict user churn. To get the best results, your team decides to build and test two tree-based models: random forest and XGBoost.\n",
    "\n",
    "Your work will help leadership make informed business decisions to prevent user churn, improve user retention, and grow Waze’s business.\n"
   ]
  },
  {
   "cell_type": "markdown",
   "id": "102e822a",
   "metadata": {
    "id": "rgSbVJvomcVa",
    "papermill": {
     "duration": 0.014028,
     "end_time": "2025-02-16T03:40:06.179274",
     "exception": false,
     "start_time": "2025-02-16T03:40:06.165246",
     "status": "completed"
    },
    "tags": []
   },
   "source": [
    "# **Course 6 End-of-Course Project: Build a machine learning model**\n",
    "\n",
    "In this activity, you will practice using tree-based modeling techniques to predict on a binary target class.\n",
    "<br/>\n",
    "\n",
    "**The purpose** of this model is to find factors that drive user churn.\n",
    "\n",
    "**The goal** of this model is to predict whether or not a Waze user is retained or churned.\n",
    "<br/>\n",
    "\n",
    "*This activity has three parts:*\n",
    "\n",
    "**Part 1:** Ethical considerations\n",
    "* Consider the ethical implications of the request\n",
    "\n",
    "* Should the objective of the model be adjusted?\n",
    "\n",
    "**Part 2:** Feature engineering\n",
    "\n",
    "* Perform feature selection, extraction, and transformation to prepare the data for modeling\n",
    "\n",
    "**Part 3:** Modeling\n",
    "\n",
    "* Build the models, evaluate them, and advise on next steps\n",
    "\n",
    "Follow the instructions and answer the questions below to complete the activity. Then, you will complete an Executive Summary using the questions listed on the PACE Strategy Document.\n",
    "\n",
    "Be sure to complete this activity before moving on. The next course item will provide you with a completed exemplar to compare to your own work.\n",
    "\n"
   ]
  },
  {
   "cell_type": "markdown",
   "id": "f3559ea7",
   "metadata": {
    "id": "SsrI9g32nrAs",
    "papermill": {
     "duration": 0.014015,
     "end_time": "2025-02-16T03:40:06.207787",
     "exception": false,
     "start_time": "2025-02-16T03:40:06.193772",
     "status": "completed"
    },
    "tags": []
   },
   "source": [
    "# **Build a machine learning model**\n"
   ]
  },
  {
   "cell_type": "markdown",
   "id": "558d9b0e",
   "metadata": {
    "id": "NzDjfCSLf6Jq",
    "papermill": {
     "duration": 0.013857,
     "end_time": "2025-02-16T03:40:06.235772",
     "exception": false,
     "start_time": "2025-02-16T03:40:06.221915",
     "status": "completed"
    },
    "tags": []
   },
   "source": [
    "<img src=\"images/Pace.png\" width=\"100\" height=\"100\" align=left>\n",
    "\n",
    "# **PACE stages**\n"
   ]
  },
  {
   "cell_type": "markdown",
   "id": "ad1719b5",
   "metadata": {
    "id": "R8kJRDEKn4A-",
    "papermill": {
     "duration": 0.01393,
     "end_time": "2025-02-16T03:40:06.263937",
     "exception": false,
     "start_time": "2025-02-16T03:40:06.250007",
     "status": "completed"
    },
    "tags": []
   },
   "source": [
    "Throughout these project notebooks, you'll see references to the problem-solving framework PACE. The following notebook components are labeled with the respective PACE stage: Plan, Analyze, Construct, and Execute."
   ]
  },
  {
   "cell_type": "markdown",
   "id": "84f0cb7a",
   "metadata": {
    "id": "E5g1A74r0ow_",
    "papermill": {
     "duration": 0.013844,
     "end_time": "2025-02-16T03:40:06.292499",
     "exception": false,
     "start_time": "2025-02-16T03:40:06.278655",
     "status": "completed"
    },
    "tags": []
   },
   "source": [
    "<img src=\"images/Plan.png\" width=\"100\" height=\"100\" align=left>\n",
    "\n",
    "\n",
    "## **PACE: Plan**\n",
    "\n",
    "Consider the questions in your PACE Strategy Document to reflect on the Plan stage.\n",
    "\n",
    "In this stage, consider the following questions:\n",
    "\n",
    "1.   What are you being asked to do?\n",
    "\n",
    "\n",
    "2.   What are the ethical implications of the model? What are the consequences of your model making errors?\n",
    "  *   What is the likely effect of the model when it predicts a false negative (i.e., when the model says a Waze user won't churn, but they actually will)?\n",
    "  *   What is the likely effect of the model when it predicts a false positive (i.e., when the model says a Waze user will churn, but they actually won't)?\n",
    "\n",
    "3.  Do the benefits of such a model outweigh the potential problems?\n",
    "4.  Would you proceed with the request to build this model? Why or why not?\n",
    "\n"
   ]
  },
  {
   "cell_type": "markdown",
   "id": "c8833b56",
   "metadata": {
    "id": "y755T4Q18iwC",
    "papermill": {
     "duration": 0.013927,
     "end_time": "2025-02-16T03:40:06.320930",
     "exception": false,
     "start_time": "2025-02-16T03:40:06.307003",
     "status": "completed"
    },
    "tags": []
   },
   "source": [
    "1)\n",
    "* based on a set of feature variables find if a Waze customer will churn or not\n",
    "\n",
    "2)\n",
    "* Waze has proposed one of the use cases of the results from the model where they focus on taking targeted discounts / offers towards users who are about to be churned and prevent them from doing so\n",
    "* The model can help in predicting the users who may churn in advance and those users can be targeted with offers\n",
    "* False negative --> when a Waze user who will actually churn is predicted to NOT churn\n",
    "* False positive --> when a Waze user who will actually retain is predicted to churn\n",
    "* The FNs outweigh FPs because what Waze needs to to exactly identify users who are about to churn correctly to retain them\n",
    "* So, recall which is directly impacted by FNs is more important\n",
    "\n",
    "3)\n",
    "* Yes, if Waze has enough resources allocated to target customers and offer them with the perspective to retain, the benefits of offered towards user will not be problematic from the user perspective\n",
    "\n",
    "4)\n",
    "* YES, there are no striking concerns that can be problematic "
   ]
  },
  {
   "cell_type": "markdown",
   "id": "17b3940c",
   "metadata": {
    "id": "e8Vm3QEfGELS",
    "papermill": {
     "duration": 0.014399,
     "end_time": "2025-02-16T03:40:06.349639",
     "exception": false,
     "start_time": "2025-02-16T03:40:06.335240",
     "status": "completed"
    },
    "tags": []
   },
   "source": [
    "### **Task 1. Imports and data loading**\n",
    "\n",
    "Import packages and libraries needed to build and evaluate random forest and XGBoost classification models."
   ]
  },
  {
   "cell_type": "code",
   "execution_count": 1,
   "id": "7341ee79",
   "metadata": {
    "execution": {
     "iopub.execute_input": "2025-02-16T03:40:06.379569Z",
     "iopub.status.busy": "2025-02-16T03:40:06.379175Z",
     "iopub.status.idle": "2025-02-16T03:40:09.978127Z",
     "shell.execute_reply": "2025-02-16T03:40:09.977102Z"
    },
    "id": "fKhnX2Puf4Bt",
    "papermill": {
     "duration": 3.616318,
     "end_time": "2025-02-16T03:40:09.980048",
     "exception": false,
     "start_time": "2025-02-16T03:40:06.363730",
     "status": "completed"
    },
    "tags": []
   },
   "outputs": [],
   "source": [
    "# Import packages for data manipulation\n",
    "### YOUR CODE HERE ###\n",
    "import numpy as np\n",
    "import pandas as pd\n",
    "\n",
    "# Import packages for data visualization\n",
    "### YOUR CODE HERE ###\n",
    "import matplotlib.pyplot as plt\n",
    "import seaborn as sns\n",
    "\n",
    "# This lets us see all of the columns, preventing Juptyer from redacting them.\n",
    "pd.set_option('display.max_columns', None)\n",
    "\n",
    "# Import packages for data modeling\n",
    "### YOUR CODE HERE ###\n",
    "from sklearn.model_selection import GridSearchCV, train_test_split\n",
    "from sklearn.metrics import roc_auc_score, roc_curve, auc\n",
    "from sklearn.metrics import accuracy_score, precision_score, recall_score, f1_score, confusion_matrix, ConfusionMatrixDisplay, RocCurveDisplay, PrecisionRecallDisplay\n",
    "from sklearn.ensemble import RandomForestClassifier\n",
    "from xgboost import XGBClassifier\n",
    "\n",
    "# This is the function that helps plot feature importance\n",
    "from xgboost import plot_importance\n",
    "\n",
    "# # This module lets us save our models once we fit them.\n",
    "import pickle"
   ]
  },
  {
   "cell_type": "markdown",
   "id": "8bc53afb",
   "metadata": {
    "id": "IeXTZ2tdbALL",
    "papermill": {
     "duration": 0.013943,
     "end_time": "2025-02-16T03:40:10.008648",
     "exception": false,
     "start_time": "2025-02-16T03:40:09.994705",
     "status": "completed"
    },
    "tags": []
   },
   "source": [
    "Now read in the dataset as `df0` and inspect the first five rows.\n",
    "\n",
    "**Note:** As shown in this cell, the dataset has been automatically loaded in for you. You do not need to download the .csv file, or provide more code, in order to access the dataset and proceed with this lab. Please continue with this activity by completing the following instructions."
   ]
  },
  {
   "cell_type": "code",
   "execution_count": 2,
   "id": "128c86f5",
   "metadata": {
    "execution": {
     "iopub.execute_input": "2025-02-16T03:40:10.038951Z",
     "iopub.status.busy": "2025-02-16T03:40:10.038438Z",
     "iopub.status.idle": "2025-02-16T03:40:10.099305Z",
     "shell.execute_reply": "2025-02-16T03:40:10.098288Z"
    },
    "id": "5weTXGKqa_iG",
    "papermill": {
     "duration": 0.077814,
     "end_time": "2025-02-16T03:40:10.101136",
     "exception": false,
     "start_time": "2025-02-16T03:40:10.023322",
     "status": "completed"
    },
    "tags": []
   },
   "outputs": [],
   "source": [
    "# Import dataset\n",
    "df0 = pd.read_csv('/kaggle/input/waze-dataset-1/waze_dataset.csv')"
   ]
  },
  {
   "cell_type": "code",
   "execution_count": 3,
   "id": "8bffa307",
   "metadata": {
    "execution": {
     "iopub.execute_input": "2025-02-16T03:40:10.133537Z",
     "iopub.status.busy": "2025-02-16T03:40:10.133156Z",
     "iopub.status.idle": "2025-02-16T03:40:10.160492Z",
     "shell.execute_reply": "2025-02-16T03:40:10.159501Z"
    },
    "id": "1HyORSaQo_LU",
    "papermill": {
     "duration": 0.044611,
     "end_time": "2025-02-16T03:40:10.162271",
     "exception": false,
     "start_time": "2025-02-16T03:40:10.117660",
     "status": "completed"
    },
    "tags": []
   },
   "outputs": [
    {
     "data": {
      "text/html": [
       "<div>\n",
       "<style scoped>\n",
       "    .dataframe tbody tr th:only-of-type {\n",
       "        vertical-align: middle;\n",
       "    }\n",
       "\n",
       "    .dataframe tbody tr th {\n",
       "        vertical-align: top;\n",
       "    }\n",
       "\n",
       "    .dataframe thead th {\n",
       "        text-align: right;\n",
       "    }\n",
       "</style>\n",
       "<table border=\"1\" class=\"dataframe\">\n",
       "  <thead>\n",
       "    <tr style=\"text-align: right;\">\n",
       "      <th></th>\n",
       "      <th>ID</th>\n",
       "      <th>label</th>\n",
       "      <th>sessions</th>\n",
       "      <th>drives</th>\n",
       "      <th>total_sessions</th>\n",
       "      <th>n_days_after_onboarding</th>\n",
       "      <th>total_navigations_fav1</th>\n",
       "      <th>total_navigations_fav2</th>\n",
       "      <th>driven_km_drives</th>\n",
       "      <th>duration_minutes_drives</th>\n",
       "      <th>activity_days</th>\n",
       "      <th>driving_days</th>\n",
       "      <th>device</th>\n",
       "    </tr>\n",
       "  </thead>\n",
       "  <tbody>\n",
       "    <tr>\n",
       "      <th>0</th>\n",
       "      <td>0</td>\n",
       "      <td>retained</td>\n",
       "      <td>283</td>\n",
       "      <td>226</td>\n",
       "      <td>296.748273</td>\n",
       "      <td>2276</td>\n",
       "      <td>208</td>\n",
       "      <td>0</td>\n",
       "      <td>2628.845068</td>\n",
       "      <td>1985.775061</td>\n",
       "      <td>28</td>\n",
       "      <td>19</td>\n",
       "      <td>Android</td>\n",
       "    </tr>\n",
       "    <tr>\n",
       "      <th>1</th>\n",
       "      <td>1</td>\n",
       "      <td>retained</td>\n",
       "      <td>133</td>\n",
       "      <td>107</td>\n",
       "      <td>326.896596</td>\n",
       "      <td>1225</td>\n",
       "      <td>19</td>\n",
       "      <td>64</td>\n",
       "      <td>13715.920550</td>\n",
       "      <td>3160.472914</td>\n",
       "      <td>13</td>\n",
       "      <td>11</td>\n",
       "      <td>iPhone</td>\n",
       "    </tr>\n",
       "    <tr>\n",
       "      <th>2</th>\n",
       "      <td>2</td>\n",
       "      <td>retained</td>\n",
       "      <td>114</td>\n",
       "      <td>95</td>\n",
       "      <td>135.522926</td>\n",
       "      <td>2651</td>\n",
       "      <td>0</td>\n",
       "      <td>0</td>\n",
       "      <td>3059.148818</td>\n",
       "      <td>1610.735904</td>\n",
       "      <td>14</td>\n",
       "      <td>8</td>\n",
       "      <td>Android</td>\n",
       "    </tr>\n",
       "    <tr>\n",
       "      <th>3</th>\n",
       "      <td>3</td>\n",
       "      <td>retained</td>\n",
       "      <td>49</td>\n",
       "      <td>40</td>\n",
       "      <td>67.589221</td>\n",
       "      <td>15</td>\n",
       "      <td>322</td>\n",
       "      <td>7</td>\n",
       "      <td>913.591123</td>\n",
       "      <td>587.196542</td>\n",
       "      <td>7</td>\n",
       "      <td>3</td>\n",
       "      <td>iPhone</td>\n",
       "    </tr>\n",
       "    <tr>\n",
       "      <th>4</th>\n",
       "      <td>4</td>\n",
       "      <td>retained</td>\n",
       "      <td>84</td>\n",
       "      <td>68</td>\n",
       "      <td>168.247020</td>\n",
       "      <td>1562</td>\n",
       "      <td>166</td>\n",
       "      <td>5</td>\n",
       "      <td>3950.202008</td>\n",
       "      <td>1219.555924</td>\n",
       "      <td>27</td>\n",
       "      <td>18</td>\n",
       "      <td>Android</td>\n",
       "    </tr>\n",
       "  </tbody>\n",
       "</table>\n",
       "</div>"
      ],
      "text/plain": [
       "   ID     label  sessions  drives  total_sessions  n_days_after_onboarding  \\\n",
       "0   0  retained       283     226      296.748273                     2276   \n",
       "1   1  retained       133     107      326.896596                     1225   \n",
       "2   2  retained       114      95      135.522926                     2651   \n",
       "3   3  retained        49      40       67.589221                       15   \n",
       "4   4  retained        84      68      168.247020                     1562   \n",
       "\n",
       "   total_navigations_fav1  total_navigations_fav2  driven_km_drives  \\\n",
       "0                     208                       0       2628.845068   \n",
       "1                      19                      64      13715.920550   \n",
       "2                       0                       0       3059.148818   \n",
       "3                     322                       7        913.591123   \n",
       "4                     166                       5       3950.202008   \n",
       "\n",
       "   duration_minutes_drives  activity_days  driving_days   device  \n",
       "0              1985.775061             28            19  Android  \n",
       "1              3160.472914             13            11   iPhone  \n",
       "2              1610.735904             14             8  Android  \n",
       "3               587.196542              7             3   iPhone  \n",
       "4              1219.555924             27            18  Android  "
      ]
     },
     "execution_count": 3,
     "metadata": {},
     "output_type": "execute_result"
    }
   ],
   "source": [
    "# Inspect the first five rows\n",
    "### YOUR CODE HERE ###\n",
    "df0.head()"
   ]
  },
  {
   "cell_type": "markdown",
   "id": "609a5201",
   "metadata": {
    "id": "EgPRBjizg1oo",
    "papermill": {
     "duration": 0.014312,
     "end_time": "2025-02-16T03:40:10.192450",
     "exception": false,
     "start_time": "2025-02-16T03:40:10.178138",
     "status": "completed"
    },
    "tags": []
   },
   "source": [
    "<img src=\"images/Analyze.png\" width=\"100\" height=\"100\" align=left>\n",
    "\n",
    "## **PACE: Analyze**\n",
    "Consider the questions in your PACE Strategy Document to reflect on the Analyze stage."
   ]
  },
  {
   "cell_type": "markdown",
   "id": "2a6b8aeb",
   "metadata": {
    "id": "5VZowX9rhU1o",
    "papermill": {
     "duration": 0.014186,
     "end_time": "2025-02-16T03:40:10.221156",
     "exception": false,
     "start_time": "2025-02-16T03:40:10.206970",
     "status": "completed"
    },
    "tags": []
   },
   "source": [
    "### **Task 2. Feature engineering**\n",
    "\n",
    "You have already prepared much of this data and performed exploratory data analysis (EDA) in previous courses. You know that some features had stronger correlations with churn than others, and you also created some features that may be useful.\n",
    "\n",
    "In this part of the project, you'll engineer these features and some new features to use for modeling.\n",
    "\n",
    "To begin, create a copy of `df0` to preserve the original dataframe. Call the copy `df`."
   ]
  },
  {
   "cell_type": "code",
   "execution_count": 4,
   "id": "030a07aa",
   "metadata": {
    "execution": {
     "iopub.execute_input": "2025-02-16T03:40:10.251461Z",
     "iopub.status.busy": "2025-02-16T03:40:10.251083Z",
     "iopub.status.idle": "2025-02-16T03:40:10.255606Z",
     "shell.execute_reply": "2025-02-16T03:40:10.254745Z"
    },
    "id": "mBOSW8IDbO_d",
    "papermill": {
     "duration": 0.021588,
     "end_time": "2025-02-16T03:40:10.257290",
     "exception": false,
     "start_time": "2025-02-16T03:40:10.235702",
     "status": "completed"
    },
    "tags": []
   },
   "outputs": [],
   "source": [
    "# Copy the df0 dataframe\n",
    "### YOUR CODE HERE ###\n",
    "df = df0.copy()"
   ]
  },
  {
   "cell_type": "markdown",
   "id": "57e3a78f",
   "metadata": {
    "id": "fTgC9H_tt-G2",
    "papermill": {
     "duration": 0.014234,
     "end_time": "2025-02-16T03:40:10.286229",
     "exception": false,
     "start_time": "2025-02-16T03:40:10.271995",
     "status": "completed"
    },
    "tags": []
   },
   "source": [
    "Call `info()` on the new dataframe so the existing columns can be easily referenced."
   ]
  },
  {
   "cell_type": "code",
   "execution_count": 5,
   "id": "32c38079",
   "metadata": {
    "execution": {
     "iopub.execute_input": "2025-02-16T03:40:10.316455Z",
     "iopub.status.busy": "2025-02-16T03:40:10.316097Z",
     "iopub.status.idle": "2025-02-16T03:40:10.344885Z",
     "shell.execute_reply": "2025-02-16T03:40:10.343636Z"
    },
    "id": "teUeCF-yf_6o",
    "papermill": {
     "duration": 0.045713,
     "end_time": "2025-02-16T03:40:10.346428",
     "exception": false,
     "start_time": "2025-02-16T03:40:10.300715",
     "status": "completed"
    },
    "tags": []
   },
   "outputs": [
    {
     "name": "stdout",
     "output_type": "stream",
     "text": [
      "<class 'pandas.core.frame.DataFrame'>\n",
      "RangeIndex: 14999 entries, 0 to 14998\n",
      "Data columns (total 13 columns):\n",
      " #   Column                   Non-Null Count  Dtype  \n",
      "---  ------                   --------------  -----  \n",
      " 0   ID                       14999 non-null  int64  \n",
      " 1   label                    14299 non-null  object \n",
      " 2   sessions                 14999 non-null  int64  \n",
      " 3   drives                   14999 non-null  int64  \n",
      " 4   total_sessions           14999 non-null  float64\n",
      " 5   n_days_after_onboarding  14999 non-null  int64  \n",
      " 6   total_navigations_fav1   14999 non-null  int64  \n",
      " 7   total_navigations_fav2   14999 non-null  int64  \n",
      " 8   driven_km_drives         14999 non-null  float64\n",
      " 9   duration_minutes_drives  14999 non-null  float64\n",
      " 10  activity_days            14999 non-null  int64  \n",
      " 11  driving_days             14999 non-null  int64  \n",
      " 12  device                   14999 non-null  object \n",
      "dtypes: float64(3), int64(8), object(2)\n",
      "memory usage: 1.5+ MB\n"
     ]
    }
   ],
   "source": [
    "### YOUR CODE HERE ###\n",
    "df.info()"
   ]
  },
  {
   "cell_type": "markdown",
   "id": "ebfc1ae0",
   "metadata": {
    "id": "BPtJEHjcuepR",
    "papermill": {
     "duration": 0.015349,
     "end_time": "2025-02-16T03:40:10.377022",
     "exception": false,
     "start_time": "2025-02-16T03:40:10.361673",
     "status": "completed"
    },
    "tags": []
   },
   "source": [
    "#### **`km_per_driving_day`**\n",
    "\n",
    "1. Create a feature representing the mean number of kilometers driven on each driving day in the last month for each user. Add this feature as a column to `df`.\n",
    "\n",
    "2. Get descriptive statistics for this new feature\n",
    "\n"
   ]
  },
  {
   "cell_type": "code",
   "execution_count": 6,
   "id": "0267ba9c",
   "metadata": {
    "execution": {
     "iopub.execute_input": "2025-02-16T03:40:10.407807Z",
     "iopub.status.busy": "2025-02-16T03:40:10.407473Z",
     "iopub.status.idle": "2025-02-16T03:40:10.437454Z",
     "shell.execute_reply": "2025-02-16T03:40:10.436454Z"
    },
    "id": "vAB6cv6xfvZn",
    "papermill": {
     "duration": 0.04727,
     "end_time": "2025-02-16T03:40:10.439097",
     "exception": false,
     "start_time": "2025-02-16T03:40:10.391827",
     "status": "completed"
    },
    "tags": []
   },
   "outputs": [
    {
     "name": "stderr",
     "output_type": "stream",
     "text": [
      "/usr/local/lib/python3.10/dist-packages/pandas/io/formats/format.py:1458: RuntimeWarning: invalid value encountered in greater\n",
      "  has_large_values = (abs_vals > 1e6).any()\n",
      "/usr/local/lib/python3.10/dist-packages/pandas/io/formats/format.py:1459: RuntimeWarning: invalid value encountered in less\n",
      "  has_small_values = ((abs_vals < 10 ** (-self.digits)) & (abs_vals > 0)).any()\n",
      "/usr/local/lib/python3.10/dist-packages/pandas/io/formats/format.py:1459: RuntimeWarning: invalid value encountered in greater\n",
      "  has_small_values = ((abs_vals < 10 ** (-self.digits)) & (abs_vals > 0)).any()\n"
     ]
    },
    {
     "data": {
      "text/plain": [
       "count    1.499900e+04\n",
       "mean              inf\n",
       "std               NaN\n",
       "min      3.022063e+00\n",
       "25%      1.672804e+02\n",
       "50%      3.231459e+02\n",
       "75%      7.579257e+02\n",
       "max               inf\n",
       "Name: km_per_driving_day, dtype: float64"
      ]
     },
     "execution_count": 6,
     "metadata": {},
     "output_type": "execute_result"
    }
   ],
   "source": [
    "# 1. Create `km_per_driving_day` feature\n",
    "### YOUR CODE HERE ###\n",
    "df['km_per_driving_day'] = df['driven_km_drives'] / df['driving_days']\n",
    "\n",
    "# 2. Get descriptive stats\n",
    "### YOUR CODE HERE ###\n",
    "df['km_per_driving_day'].describe()"
   ]
  },
  {
   "cell_type": "markdown",
   "id": "25ac743b",
   "metadata": {
    "id": "MSqM4oiyuuzw",
    "papermill": {
     "duration": 0.01575,
     "end_time": "2025-02-16T03:40:10.469926",
     "exception": false,
     "start_time": "2025-02-16T03:40:10.454176",
     "status": "completed"
    },
    "tags": []
   },
   "source": [
    "Notice that some values are infinite. This is the result of there being values of zero in the `driving_days` column. Pandas imputes a value of infinity in the corresponding rows of the new column because division by zero is undefined.\n",
    "\n",
    "1. Convert these values from infinity to zero. You can use `np.inf` to refer to a value of infinity.\n",
    "\n",
    "2. Call `describe()` on the `km_per_driving_day` column to verify that it worked."
   ]
  },
  {
   "cell_type": "code",
   "execution_count": 7,
   "id": "ca8265cf",
   "metadata": {
    "execution": {
     "iopub.execute_input": "2025-02-16T03:40:10.501847Z",
     "iopub.status.busy": "2025-02-16T03:40:10.501475Z",
     "iopub.status.idle": "2025-02-16T03:40:10.512160Z",
     "shell.execute_reply": "2025-02-16T03:40:10.511234Z"
    },
    "id": "vv3owriWuuDQ",
    "papermill": {
     "duration": 0.02854,
     "end_time": "2025-02-16T03:40:10.513837",
     "exception": false,
     "start_time": "2025-02-16T03:40:10.485297",
     "status": "completed"
    },
    "tags": []
   },
   "outputs": [
    {
     "data": {
      "text/plain": [
       "count    14999.000000\n",
       "mean       578.963113\n",
       "std       1030.094384\n",
       "min          0.000000\n",
       "25%        136.238895\n",
       "50%        272.889272\n",
       "75%        558.686918\n",
       "max      15420.234110\n",
       "Name: km_per_driving_day, dtype: float64"
      ]
     },
     "execution_count": 7,
     "metadata": {},
     "output_type": "execute_result"
    }
   ],
   "source": [
    "# 1. Convert infinite values to zero\n",
    "### YOUR CODE HERE ###\n",
    "df.loc[df['km_per_driving_day']==np.inf, 'km_per_driving_day'] = 0\n",
    "\n",
    "# 2. Confirm that it worked\n",
    "### YOUR CODE HERE ###\n",
    "df['km_per_driving_day'].describe()"
   ]
  },
  {
   "cell_type": "markdown",
   "id": "8183f8dc",
   "metadata": {
    "id": "nZfNE37b-LlJ",
    "papermill": {
     "duration": 0.018808,
     "end_time": "2025-02-16T03:40:10.600340",
     "exception": false,
     "start_time": "2025-02-16T03:40:10.581532",
     "status": "completed"
    },
    "tags": []
   },
   "source": [
    "#### **`percent_sessions_in_last_month`**\n",
    "\n",
    "1. Create a new column `percent_sessions_in_last_month` that represents the percentage of each user's total sessions that were logged in their last month of use.\n",
    "\n",
    "2. Get descriptive statistics for this new feature"
   ]
  },
  {
   "cell_type": "code",
   "execution_count": 8,
   "id": "4003c452",
   "metadata": {
    "execution": {
     "iopub.execute_input": "2025-02-16T03:40:10.642580Z",
     "iopub.status.busy": "2025-02-16T03:40:10.642215Z",
     "iopub.status.idle": "2025-02-16T03:40:10.656453Z",
     "shell.execute_reply": "2025-02-16T03:40:10.655123Z"
    },
    "id": "4mRefXCF-K_c",
    "papermill": {
     "duration": 0.03781,
     "end_time": "2025-02-16T03:40:10.658191",
     "exception": false,
     "start_time": "2025-02-16T03:40:10.620381",
     "status": "completed"
    },
    "tags": []
   },
   "outputs": [
    {
     "data": {
      "text/plain": [
       "count    14999.000000\n",
       "mean         0.449255\n",
       "std          0.286919\n",
       "min          0.000000\n",
       "25%          0.196221\n",
       "50%          0.423097\n",
       "75%          0.687216\n",
       "max          1.530637\n",
       "Name: percent_sessions_in_last_month, dtype: float64"
      ]
     },
     "execution_count": 8,
     "metadata": {},
     "output_type": "execute_result"
    }
   ],
   "source": [
    "# 1. Create `percent_sessions_in_last_month` feature\n",
    "### YOUR CODE HERE ###\n",
    "df['percent_sessions_in_last_month'] = df['sessions'] / df['total_sessions']\n",
    "\n",
    "# 1. Get descriptive stats\n",
    "### YOUR CODE HERE ###\n",
    "df['percent_sessions_in_last_month'].describe()"
   ]
  },
  {
   "cell_type": "markdown",
   "id": "59d0370a",
   "metadata": {
    "id": "TjgkLrOf_OrE",
    "papermill": {
     "duration": 0.015122,
     "end_time": "2025-02-16T03:40:10.689212",
     "exception": false,
     "start_time": "2025-02-16T03:40:10.674090",
     "status": "completed"
    },
    "tags": []
   },
   "source": [
    "#### **`professional_driver`**\n",
    "\n",
    "Create a new, binary feature called `professional_driver` that is a 1 for users who had 60 or more drives <u>**and**</u> drove on 15+ days in the last month.\n",
    "\n",
    "**Note:** The objective is to create a new feature that separates professional drivers from other drivers. In this scenario, domain knowledge and intuition are used to determine these deciding thresholds, but ultimately they are arbitrary."
   ]
  },
  {
   "cell_type": "markdown",
   "id": "b88fa647",
   "metadata": {
    "id": "L5UK5jR6U9t1",
    "papermill": {
     "duration": 0.015198,
     "end_time": "2025-02-16T03:40:10.719792",
     "exception": false,
     "start_time": "2025-02-16T03:40:10.704594",
     "status": "completed"
    },
    "tags": []
   },
   "source": [
    "To create this column, use the [`np.where()`](https://numpy.org/doc/stable/reference/generated/numpy.where.html) function. This function accepts as arguments:\n",
    "1. A condition\n",
    "2. What to return when the condition is true\n",
    "3. What to return when the condition is false\n",
    "\n",
    "```\n",
    "Example:\n",
    "x = [1, 2, 3]\n",
    "x = np.where(x > 2, 100, 0)\n",
    "x\n",
    "array([  0,   0, 100])\n",
    "```"
   ]
  },
  {
   "cell_type": "code",
   "execution_count": 9,
   "id": "94594298",
   "metadata": {
    "execution": {
     "iopub.execute_input": "2025-02-16T03:40:10.760545Z",
     "iopub.status.busy": "2025-02-16T03:40:10.760053Z",
     "iopub.status.idle": "2025-02-16T03:40:10.767507Z",
     "shell.execute_reply": "2025-02-16T03:40:10.766148Z"
    },
    "id": "dQdMgikKU-5T",
    "papermill": {
     "duration": 0.033896,
     "end_time": "2025-02-16T03:40:10.769512",
     "exception": false,
     "start_time": "2025-02-16T03:40:10.735616",
     "status": "completed"
    },
    "tags": []
   },
   "outputs": [],
   "source": [
    "# Create `professional_driver` feature\n",
    "### YOUR CODE HERE ###\n",
    "df['professional_driver'] = np.where((df['drives'] >= 60) & (df['driving_days'] >= 15), 1, 0)"
   ]
  },
  {
   "cell_type": "markdown",
   "id": "7a23b6ec",
   "metadata": {
    "id": "J3bWzofHVIuC",
    "papermill": {
     "duration": 0.024962,
     "end_time": "2025-02-16T03:40:10.816742",
     "exception": false,
     "start_time": "2025-02-16T03:40:10.791780",
     "status": "completed"
    },
    "tags": []
   },
   "source": [
    "#### **`total_sessions_per_day`**\n",
    "\n",
    "Now, create a new column that represents the mean number of sessions per day _since onboarding_."
   ]
  },
  {
   "cell_type": "code",
   "execution_count": 10,
   "id": "ea0be05a",
   "metadata": {
    "execution": {
     "iopub.execute_input": "2025-02-16T03:40:10.858737Z",
     "iopub.status.busy": "2025-02-16T03:40:10.858324Z",
     "iopub.status.idle": "2025-02-16T03:40:10.863834Z",
     "shell.execute_reply": "2025-02-16T03:40:10.862795Z"
    },
    "id": "bWXPMPHSVJQd",
    "papermill": {
     "duration": 0.029023,
     "end_time": "2025-02-16T03:40:10.865482",
     "exception": false,
     "start_time": "2025-02-16T03:40:10.836459",
     "status": "completed"
    },
    "tags": []
   },
   "outputs": [],
   "source": [
    "# Create `total_sessions_per_day` feature\n",
    "### YOUR CODE HERE ###\n",
    "df['total_sessions_per_day'] = df['total_sessions'] / df['n_days_after_onboarding']"
   ]
  },
  {
   "cell_type": "markdown",
   "id": "bac2fe3d",
   "metadata": {
    "id": "8HLX7SwJVJlO",
    "papermill": {
     "duration": 0.018167,
     "end_time": "2025-02-16T03:40:10.901919",
     "exception": false,
     "start_time": "2025-02-16T03:40:10.883752",
     "status": "completed"
    },
    "tags": []
   },
   "source": [
    "As with other features, get descriptive statistics for this new feature."
   ]
  },
  {
   "cell_type": "code",
   "execution_count": 11,
   "id": "80aacdb9",
   "metadata": {
    "execution": {
     "iopub.execute_input": "2025-02-16T03:40:10.937421Z",
     "iopub.status.busy": "2025-02-16T03:40:10.937058Z",
     "iopub.status.idle": "2025-02-16T03:40:10.946938Z",
     "shell.execute_reply": "2025-02-16T03:40:10.945733Z"
    },
    "id": "h1DFSMNSVKEg",
    "papermill": {
     "duration": 0.029446,
     "end_time": "2025-02-16T03:40:10.948641",
     "exception": false,
     "start_time": "2025-02-16T03:40:10.919195",
     "status": "completed"
    },
    "tags": []
   },
   "outputs": [
    {
     "data": {
      "text/plain": [
       "count    14999.000000\n",
       "mean         0.338698\n",
       "std          1.314333\n",
       "min          0.000298\n",
       "25%          0.051037\n",
       "50%          0.100775\n",
       "75%          0.216269\n",
       "max         39.763874\n",
       "Name: total_sessions_per_day, dtype: float64"
      ]
     },
     "execution_count": 11,
     "metadata": {},
     "output_type": "execute_result"
    }
   ],
   "source": [
    "# Get descriptive stats\n",
    "### YOUR CODE HERE ###\n",
    "df['total_sessions_per_day'].describe()"
   ]
  },
  {
   "cell_type": "markdown",
   "id": "1069ba5e",
   "metadata": {
    "id": "c6sCAgOoVZM7",
    "papermill": {
     "duration": 0.015648,
     "end_time": "2025-02-16T03:40:10.980560",
     "exception": false,
     "start_time": "2025-02-16T03:40:10.964912",
     "status": "completed"
    },
    "tags": []
   },
   "source": [
    "#### **`km_per_hour`**\n",
    "\n",
    "Create a column representing the mean kilometers per hour driven in the last month."
   ]
  },
  {
   "cell_type": "code",
   "execution_count": 12,
   "id": "fd500d33",
   "metadata": {
    "execution": {
     "iopub.execute_input": "2025-02-16T03:40:11.013094Z",
     "iopub.status.busy": "2025-02-16T03:40:11.012710Z",
     "iopub.status.idle": "2025-02-16T03:40:11.023562Z",
     "shell.execute_reply": "2025-02-16T03:40:11.022612Z"
    },
    "id": "Zu142H3aVc3o",
    "papermill": {
     "duration": 0.028878,
     "end_time": "2025-02-16T03:40:11.025060",
     "exception": false,
     "start_time": "2025-02-16T03:40:10.996182",
     "status": "completed"
    },
    "tags": []
   },
   "outputs": [
    {
     "data": {
      "text/plain": [
       "count    14999.000000\n",
       "mean       190.394608\n",
       "std        334.674026\n",
       "min         72.013095\n",
       "25%         90.706222\n",
       "50%        122.382022\n",
       "75%        193.130119\n",
       "max      23642.920871\n",
       "Name: km_per_hour, dtype: float64"
      ]
     },
     "execution_count": 12,
     "metadata": {},
     "output_type": "execute_result"
    }
   ],
   "source": [
    "# Create `km_per_hour` feature\n",
    "### YOUR CODE HERE ###\n",
    "df['km_per_hour'] = df['driven_km_drives'] / (df['duration_minutes_drives'] / 60)\n",
    "df['km_per_hour'].describe()"
   ]
  },
  {
   "cell_type": "markdown",
   "id": "1969d20c",
   "metadata": {
    "id": "8d6N9jf8ViW-",
    "papermill": {
     "duration": 0.016164,
     "end_time": "2025-02-16T03:40:11.057259",
     "exception": false,
     "start_time": "2025-02-16T03:40:11.041095",
     "status": "completed"
    },
    "tags": []
   },
   "source": [
    "#### **`km_per_drive`**\n",
    "\n",
    "Create a column representing the mean number of kilometers per drive made in the last month for each user. Then, print descriptive statistics for the feature."
   ]
  },
  {
   "cell_type": "code",
   "execution_count": 13,
   "id": "e0050af9",
   "metadata": {
    "execution": {
     "iopub.execute_input": "2025-02-16T03:40:11.090192Z",
     "iopub.status.busy": "2025-02-16T03:40:11.089850Z",
     "iopub.status.idle": "2025-02-16T03:40:11.101579Z",
     "shell.execute_reply": "2025-02-16T03:40:11.100514Z"
    },
    "id": "v5R5-MteVlMB",
    "papermill": {
     "duration": 0.030209,
     "end_time": "2025-02-16T03:40:11.103281",
     "exception": false,
     "start_time": "2025-02-16T03:40:11.073072",
     "status": "completed"
    },
    "tags": []
   },
   "outputs": [
    {
     "name": "stderr",
     "output_type": "stream",
     "text": [
      "/usr/local/lib/python3.10/dist-packages/pandas/io/formats/format.py:1458: RuntimeWarning: invalid value encountered in greater\n",
      "  has_large_values = (abs_vals > 1e6).any()\n",
      "/usr/local/lib/python3.10/dist-packages/pandas/io/formats/format.py:1459: RuntimeWarning: invalid value encountered in less\n",
      "  has_small_values = ((abs_vals < 10 ** (-self.digits)) & (abs_vals > 0)).any()\n",
      "/usr/local/lib/python3.10/dist-packages/pandas/io/formats/format.py:1459: RuntimeWarning: invalid value encountered in greater\n",
      "  has_small_values = ((abs_vals < 10 ** (-self.digits)) & (abs_vals > 0)).any()\n"
     ]
    },
    {
     "data": {
      "text/plain": [
       "count    1.499900e+04\n",
       "mean              inf\n",
       "std               NaN\n",
       "min      1.008775e+00\n",
       "25%      3.323065e+01\n",
       "50%      7.488006e+01\n",
       "75%      1.854667e+02\n",
       "max               inf\n",
       "Name: km_per_drive, dtype: float64"
      ]
     },
     "execution_count": 13,
     "metadata": {},
     "output_type": "execute_result"
    }
   ],
   "source": [
    "# Create `km_per_drive` feature\n",
    "### YOUR CODE HERE ###\n",
    "df['km_per_drive'] = df['driven_km_drives'] / df['drives']\n",
    "df['km_per_drive'].describe()"
   ]
  },
  {
   "cell_type": "markdown",
   "id": "60ec700b",
   "metadata": {
    "id": "txY8qR1LVlq1",
    "papermill": {
     "duration": 0.015479,
     "end_time": "2025-02-16T03:40:11.134759",
     "exception": false,
     "start_time": "2025-02-16T03:40:11.119280",
     "status": "completed"
    },
    "tags": []
   },
   "source": [
    "This feature has infinite values too. Convert the infinite values to zero, then confirm that it worked."
   ]
  },
  {
   "cell_type": "code",
   "execution_count": 14,
   "id": "ee31f35d",
   "metadata": {
    "execution": {
     "iopub.execute_input": "2025-02-16T03:40:11.167772Z",
     "iopub.status.busy": "2025-02-16T03:40:11.167344Z",
     "iopub.status.idle": "2025-02-16T03:40:11.178531Z",
     "shell.execute_reply": "2025-02-16T03:40:11.177434Z"
    },
    "id": "PZrHMuPuVmIt",
    "papermill": {
     "duration": 0.02959,
     "end_time": "2025-02-16T03:40:11.180129",
     "exception": false,
     "start_time": "2025-02-16T03:40:11.150539",
     "status": "completed"
    },
    "tags": []
   },
   "outputs": [
    {
     "data": {
      "text/plain": [
       "count    14999.000000\n",
       "mean       232.817946\n",
       "std        620.622351\n",
       "min          0.000000\n",
       "25%         32.424301\n",
       "50%         72.854343\n",
       "75%        179.347527\n",
       "max      15777.426560\n",
       "Name: km_per_drive, dtype: float64"
      ]
     },
     "execution_count": 14,
     "metadata": {},
     "output_type": "execute_result"
    }
   ],
   "source": [
    "# 1. Convert infinite values to zero\n",
    "### YOUR CODE HERE ###\n",
    "df.loc[df['km_per_drive']==np.inf, 'km_per_drive'] = 0\n",
    "\n",
    "# 2. Confirm that it worked\n",
    "### YOUR CODE HERE ###\n",
    "df['km_per_drive'].describe()"
   ]
  },
  {
   "cell_type": "markdown",
   "id": "e0a23cf2",
   "metadata": {
    "id": "O5Sxs6agVunA",
    "papermill": {
     "duration": 0.015816,
     "end_time": "2025-02-16T03:40:11.212043",
     "exception": false,
     "start_time": "2025-02-16T03:40:11.196227",
     "status": "completed"
    },
    "tags": []
   },
   "source": [
    "#### **`percent_of_sessions_to_favorite`**\n",
    "\n",
    "Finally, create a new column that represents the percentage of total sessions that were used to navigate to one of the users' favorite places. Then, print descriptive statistics for the new column.\n",
    "\n",
    "This is a proxy representation for the percent of overall drives that are to a favorite place. Since total drives since onboarding are not contained in this dataset, total sessions must serve as a reasonable approximation.\n",
    "\n",
    "People whose drives to non-favorite places make up a higher percentage of their total drives might be less likely to churn, since they're making more drives to less familiar places."
   ]
  },
  {
   "cell_type": "code",
   "execution_count": 15,
   "id": "683ea075",
   "metadata": {
    "execution": {
     "iopub.execute_input": "2025-02-16T03:40:11.245477Z",
     "iopub.status.busy": "2025-02-16T03:40:11.245083Z",
     "iopub.status.idle": "2025-02-16T03:40:11.256049Z",
     "shell.execute_reply": "2025-02-16T03:40:11.255021Z"
    },
    "id": "vh22o46AVxd_",
    "papermill": {
     "duration": 0.02977,
     "end_time": "2025-02-16T03:40:11.257767",
     "exception": false,
     "start_time": "2025-02-16T03:40:11.227997",
     "status": "completed"
    },
    "tags": []
   },
   "outputs": [
    {
     "data": {
      "text/plain": [
       "count    14999.000000\n",
       "mean         1.665439\n",
       "std          8.865666\n",
       "min          0.000000\n",
       "25%          0.203471\n",
       "50%          0.649818\n",
       "75%          1.638526\n",
       "max        777.563629\n",
       "Name: percent_of_drives_to_favorite, dtype: float64"
      ]
     },
     "execution_count": 15,
     "metadata": {},
     "output_type": "execute_result"
    }
   ],
   "source": [
    "# Create `percent_of_sessions_to_favorite` feature\n",
    "### YOUR CODE HERE ###\n",
    "df['percent_of_drives_to_favorite'] = (df['total_navigations_fav1'] + df['total_navigations_fav2']) / df['total_sessions']\n",
    "\n",
    "# Get descriptive stats\n",
    "### YOUR CODE HERE ###\n",
    "df['percent_of_drives_to_favorite'].describe()"
   ]
  },
  {
   "cell_type": "markdown",
   "id": "cf562a25",
   "metadata": {
    "id": "IZO0mvHRWGmF",
    "papermill": {
     "duration": 0.015833,
     "end_time": "2025-02-16T03:40:11.289943",
     "exception": false,
     "start_time": "2025-02-16T03:40:11.274110",
     "status": "completed"
    },
    "tags": []
   },
   "source": [
    "### **Task 3. Drop missing values**\n",
    "\n",
    "Because you know from previous EDA that there is no evidence of a non-random cause of the 700 missing values in the `label` column, and because these observations comprise less than 5% of the data, use the `dropna()` method to drop the rows that are missing this data."
   ]
  },
  {
   "cell_type": "code",
   "execution_count": 16,
   "id": "c2c95700",
   "metadata": {
    "execution": {
     "iopub.execute_input": "2025-02-16T03:40:11.323473Z",
     "iopub.status.busy": "2025-02-16T03:40:11.323096Z",
     "iopub.status.idle": "2025-02-16T03:40:11.334681Z",
     "shell.execute_reply": "2025-02-16T03:40:11.333750Z"
    },
    "id": "2TdA6SnGWJY-",
    "papermill": {
     "duration": 0.030228,
     "end_time": "2025-02-16T03:40:11.336396",
     "exception": false,
     "start_time": "2025-02-16T03:40:11.306168",
     "status": "completed"
    },
    "tags": []
   },
   "outputs": [],
   "source": [
    "# Drop rows with missing values\n",
    "### YOUR CODE HERE ###\n",
    "df = df.dropna(subset=['label'])"
   ]
  },
  {
   "cell_type": "markdown",
   "id": "caa6df12",
   "metadata": {
    "id": "Du5kGt5CWJ4J",
    "papermill": {
     "duration": 0.016084,
     "end_time": "2025-02-16T03:40:11.368956",
     "exception": false,
     "start_time": "2025-02-16T03:40:11.352872",
     "status": "completed"
    },
    "tags": []
   },
   "source": [
    "### **Task 4. Outliers**\n",
    "\n",
    "You know from previous EDA that many of these columns have outliers. However, tree-based models are resilient to outliers, so there is no need to make any imputations."
   ]
  },
  {
   "cell_type": "markdown",
   "id": "b60d49b7",
   "metadata": {
    "id": "kxBYyXDSWPkw",
    "papermill": {
     "duration": 0.016059,
     "end_time": "2025-02-16T03:40:11.401168",
     "exception": false,
     "start_time": "2025-02-16T03:40:11.385109",
     "status": "completed"
    },
    "tags": []
   },
   "source": [
    "### **Task 5. Variable encoding**"
   ]
  },
  {
   "cell_type": "markdown",
   "id": "b363456a",
   "metadata": {
    "id": "57psLWIeaTk2",
    "papermill": {
     "duration": 0.016005,
     "end_time": "2025-02-16T03:40:11.433458",
     "exception": false,
     "start_time": "2025-02-16T03:40:11.417453",
     "status": "completed"
    },
    "tags": []
   },
   "source": [
    "#### **Dummying features**\n",
    "\n",
    "In order to use `device` as an X variable, you will need to convert it to binary, since this variable is categorical.\n",
    "\n",
    "In cases where the data contains many categorical variables, you can use pandas built-in [`pd.get_dummies()`](https://pandas.pydata.org/docs/reference/api/pandas.get_dummies.html), or you can use scikit-learn's [`OneHotEncoder()`](https://scikit-learn.org/stable/modules/generated/sklearn.preprocessing.OneHotEncoder.html) function.\n",
    "\n",
    "**Note:** Each possible category of each feature will result in a feature for your model, which could lead to an inadequate ratio of features to observations and/or difficulty understanding your model's predictions.\n",
    "\n",
    "Because this dataset only has one remaining categorical feature (`device`), it's not necessary to use one of these special functions. You can just implement the transformation directly.\n",
    "\n",
    "Create a new, binary column called `device2` that encodes user devices as follows:\n",
    "\n",
    "* `Android` -> `0`\n",
    "* `iPhone` -> `1`"
   ]
  },
  {
   "cell_type": "code",
   "execution_count": 17,
   "id": "81b906f6",
   "metadata": {
    "execution": {
     "iopub.execute_input": "2025-02-16T03:40:11.467580Z",
     "iopub.status.busy": "2025-02-16T03:40:11.467203Z",
     "iopub.status.idle": "2025-02-16T03:40:11.478943Z",
     "shell.execute_reply": "2025-02-16T03:40:11.478044Z"
    },
    "id": "fntUcR4-aUfH",
    "papermill": {
     "duration": 0.03078,
     "end_time": "2025-02-16T03:40:11.480568",
     "exception": false,
     "start_time": "2025-02-16T03:40:11.449788",
     "status": "completed"
    },
    "tags": []
   },
   "outputs": [
    {
     "data": {
      "text/html": [
       "<div>\n",
       "<style scoped>\n",
       "    .dataframe tbody tr th:only-of-type {\n",
       "        vertical-align: middle;\n",
       "    }\n",
       "\n",
       "    .dataframe tbody tr th {\n",
       "        vertical-align: top;\n",
       "    }\n",
       "\n",
       "    .dataframe thead th {\n",
       "        text-align: right;\n",
       "    }\n",
       "</style>\n",
       "<table border=\"1\" class=\"dataframe\">\n",
       "  <thead>\n",
       "    <tr style=\"text-align: right;\">\n",
       "      <th></th>\n",
       "      <th>device</th>\n",
       "      <th>device2</th>\n",
       "    </tr>\n",
       "  </thead>\n",
       "  <tbody>\n",
       "    <tr>\n",
       "      <th>14994</th>\n",
       "      <td>iPhone</td>\n",
       "      <td>1</td>\n",
       "    </tr>\n",
       "    <tr>\n",
       "      <th>14995</th>\n",
       "      <td>Android</td>\n",
       "      <td>0</td>\n",
       "    </tr>\n",
       "    <tr>\n",
       "      <th>14996</th>\n",
       "      <td>iPhone</td>\n",
       "      <td>1</td>\n",
       "    </tr>\n",
       "    <tr>\n",
       "      <th>14997</th>\n",
       "      <td>iPhone</td>\n",
       "      <td>1</td>\n",
       "    </tr>\n",
       "    <tr>\n",
       "      <th>14998</th>\n",
       "      <td>iPhone</td>\n",
       "      <td>1</td>\n",
       "    </tr>\n",
       "  </tbody>\n",
       "</table>\n",
       "</div>"
      ],
      "text/plain": [
       "        device  device2\n",
       "14994   iPhone        1\n",
       "14995  Android        0\n",
       "14996   iPhone        1\n",
       "14997   iPhone        1\n",
       "14998   iPhone        1"
      ]
     },
     "execution_count": 17,
     "metadata": {},
     "output_type": "execute_result"
    }
   ],
   "source": [
    "# Create new `device2` variable\n",
    "### YOUR CODE HERE ###\n",
    "df['device2'] = np.where(df['device']=='Android', 0, 1)\n",
    "\n",
    "# check if the encoding is done right\n",
    "df[['device', 'device2']].tail()"
   ]
  },
  {
   "cell_type": "markdown",
   "id": "ac426ee0",
   "metadata": {
    "id": "LgbEm7cOb6t8",
    "papermill": {
     "duration": 0.016057,
     "end_time": "2025-02-16T03:40:11.513398",
     "exception": false,
     "start_time": "2025-02-16T03:40:11.497341",
     "status": "completed"
    },
    "tags": []
   },
   "source": [
    "#### **Target encoding**\n",
    "\n",
    "The target variable is also categorical, since a user is labeled as either \"churned\" or \"retained.\" Change the data type of the `label` column to be binary. This change is needed to train the models.\n",
    "\n",
    "Assign a `0` for all `retained` users.\n",
    "\n",
    "Assign a `1` for all `churned` users.\n",
    "\n",
    "Save this variable as `label2` so as not to overwrite the original `label` variable.\n",
    "\n",
    "**Note:** There are many ways to do this. Consider using `np.where()` as you did earlier in this notebook."
   ]
  },
  {
   "cell_type": "code",
   "execution_count": 18,
   "id": "0ee5b076",
   "metadata": {
    "execution": {
     "iopub.execute_input": "2025-02-16T03:40:11.547107Z",
     "iopub.status.busy": "2025-02-16T03:40:11.546760Z",
     "iopub.status.idle": "2025-02-16T03:40:11.558339Z",
     "shell.execute_reply": "2025-02-16T03:40:11.557462Z"
    },
    "id": "0jiVjplLb8W-",
    "papermill": {
     "duration": 0.030291,
     "end_time": "2025-02-16T03:40:11.559984",
     "exception": false,
     "start_time": "2025-02-16T03:40:11.529693",
     "status": "completed"
    },
    "tags": []
   },
   "outputs": [
    {
     "data": {
      "text/html": [
       "<div>\n",
       "<style scoped>\n",
       "    .dataframe tbody tr th:only-of-type {\n",
       "        vertical-align: middle;\n",
       "    }\n",
       "\n",
       "    .dataframe tbody tr th {\n",
       "        vertical-align: top;\n",
       "    }\n",
       "\n",
       "    .dataframe thead th {\n",
       "        text-align: right;\n",
       "    }\n",
       "</style>\n",
       "<table border=\"1\" class=\"dataframe\">\n",
       "  <thead>\n",
       "    <tr style=\"text-align: right;\">\n",
       "      <th></th>\n",
       "      <th>label</th>\n",
       "      <th>label2</th>\n",
       "    </tr>\n",
       "  </thead>\n",
       "  <tbody>\n",
       "    <tr>\n",
       "      <th>14994</th>\n",
       "      <td>retained</td>\n",
       "      <td>0</td>\n",
       "    </tr>\n",
       "    <tr>\n",
       "      <th>14995</th>\n",
       "      <td>retained</td>\n",
       "      <td>0</td>\n",
       "    </tr>\n",
       "    <tr>\n",
       "      <th>14996</th>\n",
       "      <td>retained</td>\n",
       "      <td>0</td>\n",
       "    </tr>\n",
       "    <tr>\n",
       "      <th>14997</th>\n",
       "      <td>churned</td>\n",
       "      <td>1</td>\n",
       "    </tr>\n",
       "    <tr>\n",
       "      <th>14998</th>\n",
       "      <td>retained</td>\n",
       "      <td>0</td>\n",
       "    </tr>\n",
       "  </tbody>\n",
       "</table>\n",
       "</div>"
      ],
      "text/plain": [
       "          label  label2\n",
       "14994  retained       0\n",
       "14995  retained       0\n",
       "14996  retained       0\n",
       "14997   churned       1\n",
       "14998  retained       0"
      ]
     },
     "execution_count": 18,
     "metadata": {},
     "output_type": "execute_result"
    }
   ],
   "source": [
    "# Create binary `label2` column\n",
    "### YOUR CODE HERE ###\n",
    "df['label2'] = np.where(df['label']=='churned', 1, 0)\n",
    "\n",
    "# check if the encoding is done right\n",
    "df[['label', 'label2']].tail()"
   ]
  },
  {
   "cell_type": "markdown",
   "id": "c1d98ed7",
   "metadata": {
    "id": "fD_zG59eaV2c",
    "papermill": {
     "duration": 0.016315,
     "end_time": "2025-02-16T03:40:11.593168",
     "exception": false,
     "start_time": "2025-02-16T03:40:11.576853",
     "status": "completed"
    },
    "tags": []
   },
   "source": [
    "### **Task 6. Feature selection**\n",
    "\n",
    "Tree-based models can handle multicollinearity, so the only feature that can be cut is `ID`, since it doesn't contain any information relevant to churn.\n",
    "\n",
    "Note, however, that `device` won't be used simply because it's a copy of `device2`.\n",
    "\n",
    "Drop `ID` from the `df` dataframe."
   ]
  },
  {
   "cell_type": "code",
   "execution_count": 19,
   "id": "994efdc9",
   "metadata": {
    "execution": {
     "iopub.execute_input": "2025-02-16T03:40:11.628324Z",
     "iopub.status.busy": "2025-02-16T03:40:11.627982Z",
     "iopub.status.idle": "2025-02-16T03:40:11.634566Z",
     "shell.execute_reply": "2025-02-16T03:40:11.633767Z"
    },
    "id": "kf3uGtUQaWSL",
    "papermill": {
     "duration": 0.026446,
     "end_time": "2025-02-16T03:40:11.636114",
     "exception": false,
     "start_time": "2025-02-16T03:40:11.609668",
     "status": "completed"
    },
    "tags": []
   },
   "outputs": [],
   "source": [
    "# Drop `ID` column\n",
    "### YOUR CODE HERE ###\n",
    "df = df.drop(['ID'], axis=1)"
   ]
  },
  {
   "cell_type": "markdown",
   "id": "6fe33c84",
   "metadata": {
    "id": "ajj50RCCaXrF",
    "papermill": {
     "duration": 0.016527,
     "end_time": "2025-02-16T03:40:11.670234",
     "exception": false,
     "start_time": "2025-02-16T03:40:11.653707",
     "status": "completed"
    },
    "tags": []
   },
   "source": [
    "### **Task 7. Evaluation metric**\n",
    "\n",
    "Before modeling, you must decide on an evaluation metric. This will depend on the class balance of the target variable and the use case of the model.\n",
    "\n",
    "First, examine the class balance of your target variable."
   ]
  },
  {
   "cell_type": "code",
   "execution_count": 20,
   "id": "5e4eed7f",
   "metadata": {
    "execution": {
     "iopub.execute_input": "2025-02-16T03:40:11.704620Z",
     "iopub.status.busy": "2025-02-16T03:40:11.704258Z",
     "iopub.status.idle": "2025-02-16T03:40:11.712566Z",
     "shell.execute_reply": "2025-02-16T03:40:11.711584Z"
    },
    "id": "3JkjEYByaYbr",
    "papermill": {
     "duration": 0.027333,
     "end_time": "2025-02-16T03:40:11.714211",
     "exception": false,
     "start_time": "2025-02-16T03:40:11.686878",
     "status": "completed"
    },
    "tags": []
   },
   "outputs": [
    {
     "data": {
      "text/plain": [
       "label\n",
       "retained    0.822645\n",
       "churned     0.177355\n",
       "Name: proportion, dtype: float64"
      ]
     },
     "execution_count": 20,
     "metadata": {},
     "output_type": "execute_result"
    }
   ],
   "source": [
    "# Get class balance of 'label' col\n",
    "### YOUR CODE HERE ###\n",
    "df['label'].value_counts(normalize=True)"
   ]
  },
  {
   "cell_type": "markdown",
   "id": "6785677e",
   "metadata": {
    "id": "w9vnV1wtaZWJ",
    "papermill": {
     "duration": 0.016326,
     "end_time": "2025-02-16T03:40:11.747355",
     "exception": false,
     "start_time": "2025-02-16T03:40:11.731029",
     "status": "completed"
    },
    "tags": []
   },
   "source": [
    "Approximately 18% of the users in this dataset churned. This is an unbalanced dataset, but not extremely so. It can be modeled without any class rebalancing.\n",
    "\n",
    "Now, consider which evaluation metric is best. Remember, accuracy might not be the best gauge of performance because a model can have high accuracy on an imbalanced dataset and still fail to predict the minority class.\n",
    "\n",
    "It was already determined that the risks involved in making a false positive prediction are minimal. No one stands to get hurt, lose money, or suffer any other significant consequence if they are predicted to churn. Therefore, select the model based on the recall score."
   ]
  },
  {
   "cell_type": "markdown",
   "id": "9675c834",
   "metadata": {
    "id": "3n1eikFh8akS",
    "papermill": {
     "duration": 0.016875,
     "end_time": "2025-02-16T03:40:11.780808",
     "exception": false,
     "start_time": "2025-02-16T03:40:11.763933",
     "status": "completed"
    },
    "tags": []
   },
   "source": [
    "<img src=\"images/Construct.png\" width=\"100\" height=\"100\" align=left>\n",
    "\n",
    "## **PACE: Construct**\n",
    "Consider the questions in your PACE Strategy Document to reflect on the Construct stage."
   ]
  },
  {
   "cell_type": "markdown",
   "id": "234bee9b",
   "metadata": {
    "id": "G5jzGjOS8iiv",
    "papermill": {
     "duration": 0.01675,
     "end_time": "2025-02-16T03:40:11.814458",
     "exception": false,
     "start_time": "2025-02-16T03:40:11.797708",
     "status": "completed"
    },
    "tags": []
   },
   "source": [
    "### **Task 8. Modeling workflow and model selection process**\n",
    "\n",
    "The final modeling dataset contains 14,299 samples. This is towards the lower end of what might be considered sufficient to conduct a robust model selection process, but still doable.\n",
    "\n",
    "1. Split the data into train/validation/test sets (60/20/20)\n",
    "\n",
    "Note that, when deciding the split ratio and whether or not to use a validation set to select a champion model, consider both how many samples will be in each data partition, and how many examples of the minority class each would therefore contain. In this case, a 60/20/20 split would result in \\~2,860 samples in the validation set and the same number in the test set, of which \\~18%&mdash;or 515 samples&mdash;would represent users who churn.\n",
    "2. Fit models and tune hyperparameters on the training set\n",
    "3. Perform final model selection on the validation set\n",
    "4. Assess the champion model's performance on the test set\n",
    "\n",
    "![](https://raw.githubusercontent.com/adacert/tiktok/main/optimal_model_flow_numbered.svg)"
   ]
  },
  {
   "cell_type": "markdown",
   "id": "2cb3c81b",
   "metadata": {
    "id": "Nx41bVxX89Fe",
    "papermill": {
     "duration": 0.016439,
     "end_time": "2025-02-16T03:40:11.847517",
     "exception": false,
     "start_time": "2025-02-16T03:40:11.831078",
     "status": "completed"
    },
    "tags": []
   },
   "source": [
    "### **Task 9. Split the data**\n",
    "\n",
    "Now you're ready to model. The only remaining step is to split the data into features/target variable and training/validation/test sets.\n",
    "\n",
    "1. Define a variable `X` that isolates the features. Remember not to use `device`.\n",
    "\n",
    "2. Define a variable `y` that isolates the target variable (`label2`).\n",
    "\n",
    "3. Split the data 80/20 into an interim training set and a test set. Don't forget to stratify the splits, and set the random state to 42.\n",
    "\n",
    "4. Split the interim training set 75/25 into a training set and a validation set, yielding a final ratio of 60/20/20 for training/validation/test sets. Again, don't forget to stratify the splits and set the random state."
   ]
  },
  {
   "cell_type": "code",
   "execution_count": 21,
   "id": "ab237697",
   "metadata": {
    "execution": {
     "iopub.execute_input": "2025-02-16T03:40:11.882180Z",
     "iopub.status.busy": "2025-02-16T03:40:11.881825Z",
     "iopub.status.idle": "2025-02-16T03:40:11.908369Z",
     "shell.execute_reply": "2025-02-16T03:40:11.907207Z"
    },
    "id": "qLbapbSWDUL-",
    "papermill": {
     "duration": 0.046084,
     "end_time": "2025-02-16T03:40:11.910381",
     "exception": false,
     "start_time": "2025-02-16T03:40:11.864297",
     "status": "completed"
    },
    "tags": []
   },
   "outputs": [],
   "source": [
    "# 1. Isolate X variables\n",
    "### YOUR CODE HERE ###\n",
    "X = df.drop(columns=['label', 'label2', 'device'])\n",
    "\n",
    "# 2. Isolate y variable\n",
    "### YOUR CODE HERE ###\n",
    "y = df['label2']\n",
    "\n",
    "# 3. Split into train and test sets\n",
    "### YOUR CODE HERE ###\n",
    "X_train_val, X_test, y_train_val, y_test = train_test_split(X, y, stratify=y, test_size=0.2, random_state=42)\n",
    "\n",
    "# 4. Split into train and validate sets\n",
    "### YOUR CODE HERE ###\n",
    "X_train, X_val, y_train, y_val = train_test_split(X_train_val, y_train_val, stratify=y_train_val, test_size=0.25, random_state=42)"
   ]
  },
  {
   "cell_type": "markdown",
   "id": "0e1c49f8",
   "metadata": {
    "id": "moLls6Lech47",
    "papermill": {
     "duration": 0.016576,
     "end_time": "2025-02-16T03:40:11.944398",
     "exception": false,
     "start_time": "2025-02-16T03:40:11.927822",
     "status": "completed"
    },
    "tags": []
   },
   "source": [
    "Verify the number of samples in the partitioned data."
   ]
  },
  {
   "cell_type": "code",
   "execution_count": 22,
   "id": "707ac259",
   "metadata": {
    "execution": {
     "iopub.execute_input": "2025-02-16T03:40:11.982850Z",
     "iopub.status.busy": "2025-02-16T03:40:11.982475Z",
     "iopub.status.idle": "2025-02-16T03:40:11.988242Z",
     "shell.execute_reply": "2025-02-16T03:40:11.987192Z"
    },
    "id": "qWIog8v_ckIg",
    "papermill": {
     "duration": 0.028562,
     "end_time": "2025-02-16T03:40:11.989744",
     "exception": false,
     "start_time": "2025-02-16T03:40:11.961182",
     "status": "completed"
    },
    "tags": []
   },
   "outputs": [
    {
     "data": {
      "text/plain": [
       "((8579, 18), (2860, 18), (2860, 18))"
      ]
     },
     "execution_count": 22,
     "metadata": {},
     "output_type": "execute_result"
    }
   ],
   "source": [
    "### YOUR CODE HERE ###\n",
    "\n",
    "X_train.shape, X_val.shape, X_test.shape"
   ]
  },
  {
   "cell_type": "markdown",
   "id": "55fc04b0",
   "metadata": {
    "id": "0x-4vGANcki4",
    "papermill": {
     "duration": 0.016716,
     "end_time": "2025-02-16T03:40:12.023794",
     "exception": false,
     "start_time": "2025-02-16T03:40:12.007078",
     "status": "completed"
    },
    "tags": []
   },
   "source": [
    "This aligns with expectations."
   ]
  },
  {
   "cell_type": "markdown",
   "id": "f795eb87",
   "metadata": {
    "id": "4vSaa0-xcu4Q",
    "papermill": {
     "duration": 0.016721,
     "end_time": "2025-02-16T03:40:12.057641",
     "exception": false,
     "start_time": "2025-02-16T03:40:12.040920",
     "status": "completed"
    },
    "tags": []
   },
   "source": [
    "### **Task 10. Modeling**"
   ]
  },
  {
   "cell_type": "markdown",
   "id": "ef6d51e3",
   "metadata": {
    "id": "vynZs5het1b_",
    "papermill": {
     "duration": 0.016776,
     "end_time": "2025-02-16T03:40:12.091387",
     "exception": false,
     "start_time": "2025-02-16T03:40:12.074611",
     "status": "completed"
    },
    "tags": []
   },
   "source": [
    "#### **Random forest**\n",
    "\n",
    "Begin with using `GridSearchCV` to tune a random forest model.\n",
    "\n",
    "1. Instantiate the random forest classifier `rf` and set the random state.\n",
    "\n",
    "2. Create a dictionary `cv_params` of any of the following hyperparameters and their corresponding values to tune. The more you tune, the better your model will fit the data, but the longer it will take.\n",
    " - `max_depth`\n",
    " - `max_features`\n",
    " - `max_samples`\n",
    " - `min_samples_leaf`\n",
    " - `min_samples_split`\n",
    " - `n_estimators`\n",
    "\n",
    "3. Define a list `scoring` of scoring metrics for GridSearch to capture (precision, recall, F1 score, and accuracy).\n",
    "\n",
    "4. Instantiate the `GridSearchCV` object `rf_cv`. Pass to it as arguments:\n",
    " - estimator=`rf`\n",
    " - param_grid=`cv_params`\n",
    " - scoring=`scoring`\n",
    " - cv: define the number of cross-validation folds you want (`cv=_`)\n",
    " - refit: indicate which evaluation metric you want to use to select the model (`refit=_`)\n",
    "\n",
    " `refit` should be set to `'recall'`.<font/>\n"
   ]
  },
  {
   "cell_type": "markdown",
   "id": "d1510778",
   "metadata": {
    "id": "vvpX9RDFc2MD",
    "papermill": {
     "duration": 0.016517,
     "end_time": "2025-02-16T03:40:12.125114",
     "exception": false,
     "start_time": "2025-02-16T03:40:12.108597",
     "status": "completed"
    },
    "tags": []
   },
   "source": [
    "**Note:** If your model fitting takes too long, try reducing the number of options to search over in the grid search."
   ]
  },
  {
   "cell_type": "code",
   "execution_count": 23,
   "id": "14af219b",
   "metadata": {
    "execution": {
     "iopub.execute_input": "2025-02-16T03:40:12.160393Z",
     "iopub.status.busy": "2025-02-16T03:40:12.160029Z",
     "iopub.status.idle": "2025-02-16T03:40:12.165259Z",
     "shell.execute_reply": "2025-02-16T03:40:12.164298Z"
    },
    "id": "Vj5rJWOv5O3d",
    "papermill": {
     "duration": 0.024977,
     "end_time": "2025-02-16T03:40:12.167188",
     "exception": false,
     "start_time": "2025-02-16T03:40:12.142211",
     "status": "completed"
    },
    "tags": []
   },
   "outputs": [],
   "source": [
    "# 1. Instantiate the random forest classifier\n",
    "### YOUR CODE HERE ###\n",
    "rf = RandomForestClassifier(random_state=42)\n",
    "\n",
    "# 2. Create a dictionary of hyperparameters to tune\n",
    "### YOUR CODE HERE ###\n",
    "cv_params = {'max_depth': [None],\n",
    "             'max_features': [1.0],\n",
    "             'max_samples': [1.0],\n",
    "             'min_samples_leaf': [2],\n",
    "             'min_samples_split': [2],\n",
    "             'n_estimators': [300]}\n",
    "\n",
    "\n",
    "# 3. Define a list of scoring metrics to capture\n",
    "### YOUR CODE HERE ###\n",
    "scoring = ['accuracy', 'precision', 'recall', 'f1']\n",
    "\n",
    "# 4. Instantiate the GridSearchCV object\n",
    "### YOUR CODE HERE ###\n",
    "rf_cv = GridSearchCV(rf, cv_params, scoring=scoring, cv=4, refit='recall')"
   ]
  },
  {
   "cell_type": "markdown",
   "id": "35acf33d",
   "metadata": {
    "id": "Wv_WvRA1RqTl",
    "papermill": {
     "duration": 0.016803,
     "end_time": "2025-02-16T03:40:12.201089",
     "exception": false,
     "start_time": "2025-02-16T03:40:12.184286",
     "status": "completed"
    },
    "tags": []
   },
   "source": [
    "Now fit the model to the training data."
   ]
  },
  {
   "cell_type": "code",
   "execution_count": 24,
   "id": "3cee44ed",
   "metadata": {
    "execution": {
     "iopub.execute_input": "2025-02-16T03:40:12.236776Z",
     "iopub.status.busy": "2025-02-16T03:40:12.236387Z",
     "iopub.status.idle": "2025-02-16T03:42:32.526018Z",
     "shell.execute_reply": "2025-02-16T03:42:32.524960Z"
    },
    "id": "OXuBiTGi5ZHn",
    "papermill": {
     "duration": 140.325724,
     "end_time": "2025-02-16T03:42:32.544220",
     "exception": false,
     "start_time": "2025-02-16T03:40:12.218496",
     "status": "completed"
    },
    "tags": []
   },
   "outputs": [
    {
     "data": {
      "text/html": [
       "<style>#sk-container-id-1 {color: black;background-color: white;}#sk-container-id-1 pre{padding: 0;}#sk-container-id-1 div.sk-toggleable {background-color: white;}#sk-container-id-1 label.sk-toggleable__label {cursor: pointer;display: block;width: 100%;margin-bottom: 0;padding: 0.3em;box-sizing: border-box;text-align: center;}#sk-container-id-1 label.sk-toggleable__label-arrow:before {content: \"▸\";float: left;margin-right: 0.25em;color: #696969;}#sk-container-id-1 label.sk-toggleable__label-arrow:hover:before {color: black;}#sk-container-id-1 div.sk-estimator:hover label.sk-toggleable__label-arrow:before {color: black;}#sk-container-id-1 div.sk-toggleable__content {max-height: 0;max-width: 0;overflow: hidden;text-align: left;background-color: #f0f8ff;}#sk-container-id-1 div.sk-toggleable__content pre {margin: 0.2em;color: black;border-radius: 0.25em;background-color: #f0f8ff;}#sk-container-id-1 input.sk-toggleable__control:checked~div.sk-toggleable__content {max-height: 200px;max-width: 100%;overflow: auto;}#sk-container-id-1 input.sk-toggleable__control:checked~label.sk-toggleable__label-arrow:before {content: \"▾\";}#sk-container-id-1 div.sk-estimator input.sk-toggleable__control:checked~label.sk-toggleable__label {background-color: #d4ebff;}#sk-container-id-1 div.sk-label input.sk-toggleable__control:checked~label.sk-toggleable__label {background-color: #d4ebff;}#sk-container-id-1 input.sk-hidden--visually {border: 0;clip: rect(1px 1px 1px 1px);clip: rect(1px, 1px, 1px, 1px);height: 1px;margin: -1px;overflow: hidden;padding: 0;position: absolute;width: 1px;}#sk-container-id-1 div.sk-estimator {font-family: monospace;background-color: #f0f8ff;border: 1px dotted black;border-radius: 0.25em;box-sizing: border-box;margin-bottom: 0.5em;}#sk-container-id-1 div.sk-estimator:hover {background-color: #d4ebff;}#sk-container-id-1 div.sk-parallel-item::after {content: \"\";width: 100%;border-bottom: 1px solid gray;flex-grow: 1;}#sk-container-id-1 div.sk-label:hover label.sk-toggleable__label {background-color: #d4ebff;}#sk-container-id-1 div.sk-serial::before {content: \"\";position: absolute;border-left: 1px solid gray;box-sizing: border-box;top: 0;bottom: 0;left: 50%;z-index: 0;}#sk-container-id-1 div.sk-serial {display: flex;flex-direction: column;align-items: center;background-color: white;padding-right: 0.2em;padding-left: 0.2em;position: relative;}#sk-container-id-1 div.sk-item {position: relative;z-index: 1;}#sk-container-id-1 div.sk-parallel {display: flex;align-items: stretch;justify-content: center;background-color: white;position: relative;}#sk-container-id-1 div.sk-item::before, #sk-container-id-1 div.sk-parallel-item::before {content: \"\";position: absolute;border-left: 1px solid gray;box-sizing: border-box;top: 0;bottom: 0;left: 50%;z-index: -1;}#sk-container-id-1 div.sk-parallel-item {display: flex;flex-direction: column;z-index: 1;position: relative;background-color: white;}#sk-container-id-1 div.sk-parallel-item:first-child::after {align-self: flex-end;width: 50%;}#sk-container-id-1 div.sk-parallel-item:last-child::after {align-self: flex-start;width: 50%;}#sk-container-id-1 div.sk-parallel-item:only-child::after {width: 0;}#sk-container-id-1 div.sk-dashed-wrapped {border: 1px dashed gray;margin: 0 0.4em 0.5em 0.4em;box-sizing: border-box;padding-bottom: 0.4em;background-color: white;}#sk-container-id-1 div.sk-label label {font-family: monospace;font-weight: bold;display: inline-block;line-height: 1.2em;}#sk-container-id-1 div.sk-label-container {text-align: center;}#sk-container-id-1 div.sk-container {/* jupyter's `normalize.less` sets `[hidden] { display: none; }` but bootstrap.min.css set `[hidden] { display: none !important; }` so we also need the `!important` here to be able to override the default hidden behavior on the sphinx rendered scikit-learn.org. See: https://github.com/scikit-learn/scikit-learn/issues/21755 */display: inline-block !important;position: relative;}#sk-container-id-1 div.sk-text-repr-fallback {display: none;}</style><div id=\"sk-container-id-1\" class=\"sk-top-container\"><div class=\"sk-text-repr-fallback\"><pre>GridSearchCV(cv=4, estimator=RandomForestClassifier(random_state=42),\n",
       "             param_grid={&#x27;max_depth&#x27;: [None], &#x27;max_features&#x27;: [1.0],\n",
       "                         &#x27;max_samples&#x27;: [1.0], &#x27;min_samples_leaf&#x27;: [2],\n",
       "                         &#x27;min_samples_split&#x27;: [2], &#x27;n_estimators&#x27;: [300]},\n",
       "             refit=&#x27;recall&#x27;, scoring=[&#x27;accuracy&#x27;, &#x27;precision&#x27;, &#x27;recall&#x27;, &#x27;f1&#x27;])</pre><b>In a Jupyter environment, please rerun this cell to show the HTML representation or trust the notebook. <br />On GitHub, the HTML representation is unable to render, please try loading this page with nbviewer.org.</b></div><div class=\"sk-container\" hidden><div class=\"sk-item sk-dashed-wrapped\"><div class=\"sk-label-container\"><div class=\"sk-label sk-toggleable\"><input class=\"sk-toggleable__control sk-hidden--visually\" id=\"sk-estimator-id-1\" type=\"checkbox\" ><label for=\"sk-estimator-id-1\" class=\"sk-toggleable__label sk-toggleable__label-arrow\">GridSearchCV</label><div class=\"sk-toggleable__content\"><pre>GridSearchCV(cv=4, estimator=RandomForestClassifier(random_state=42),\n",
       "             param_grid={&#x27;max_depth&#x27;: [None], &#x27;max_features&#x27;: [1.0],\n",
       "                         &#x27;max_samples&#x27;: [1.0], &#x27;min_samples_leaf&#x27;: [2],\n",
       "                         &#x27;min_samples_split&#x27;: [2], &#x27;n_estimators&#x27;: [300]},\n",
       "             refit=&#x27;recall&#x27;, scoring=[&#x27;accuracy&#x27;, &#x27;precision&#x27;, &#x27;recall&#x27;, &#x27;f1&#x27;])</pre></div></div></div><div class=\"sk-parallel\"><div class=\"sk-parallel-item\"><div class=\"sk-item\"><div class=\"sk-label-container\"><div class=\"sk-label sk-toggleable\"><input class=\"sk-toggleable__control sk-hidden--visually\" id=\"sk-estimator-id-2\" type=\"checkbox\" ><label for=\"sk-estimator-id-2\" class=\"sk-toggleable__label sk-toggleable__label-arrow\">estimator: RandomForestClassifier</label><div class=\"sk-toggleable__content\"><pre>RandomForestClassifier(random_state=42)</pre></div></div></div><div class=\"sk-serial\"><div class=\"sk-item\"><div class=\"sk-estimator sk-toggleable\"><input class=\"sk-toggleable__control sk-hidden--visually\" id=\"sk-estimator-id-3\" type=\"checkbox\" ><label for=\"sk-estimator-id-3\" class=\"sk-toggleable__label sk-toggleable__label-arrow\">RandomForestClassifier</label><div class=\"sk-toggleable__content\"><pre>RandomForestClassifier(random_state=42)</pre></div></div></div></div></div></div></div></div></div></div>"
      ],
      "text/plain": [
       "GridSearchCV(cv=4, estimator=RandomForestClassifier(random_state=42),\n",
       "             param_grid={'max_depth': [None], 'max_features': [1.0],\n",
       "                         'max_samples': [1.0], 'min_samples_leaf': [2],\n",
       "                         'min_samples_split': [2], 'n_estimators': [300]},\n",
       "             refit='recall', scoring=['accuracy', 'precision', 'recall', 'f1'])"
      ]
     },
     "execution_count": 24,
     "metadata": {},
     "output_type": "execute_result"
    }
   ],
   "source": [
    "### YOUR CODE HERE ###\n",
    "rf_cv.fit(X_train, y_train)"
   ]
  },
  {
   "cell_type": "markdown",
   "id": "6bb82575",
   "metadata": {
    "id": "5wHi_YJduQOH",
    "papermill": {
     "duration": 0.017004,
     "end_time": "2025-02-16T03:42:32.578532",
     "exception": false,
     "start_time": "2025-02-16T03:42:32.561528",
     "status": "completed"
    },
    "tags": []
   },
   "source": [
    "Examine the best average score across all the validation folds."
   ]
  },
  {
   "cell_type": "code",
   "execution_count": 25,
   "id": "64bb7ce7",
   "metadata": {
    "execution": {
     "iopub.execute_input": "2025-02-16T03:42:32.614706Z",
     "iopub.status.busy": "2025-02-16T03:42:32.614295Z",
     "iopub.status.idle": "2025-02-16T03:42:32.619671Z",
     "shell.execute_reply": "2025-02-16T03:42:32.618712Z"
    },
    "id": "YtAgrH0zy4CE",
    "papermill": {
     "duration": 0.025391,
     "end_time": "2025-02-16T03:42:32.621201",
     "exception": false,
     "start_time": "2025-02-16T03:42:32.595810",
     "status": "completed"
    },
    "tags": []
   },
   "outputs": [
    {
     "data": {
      "text/plain": [
       "0.12678201409034398"
      ]
     },
     "execution_count": 25,
     "metadata": {},
     "output_type": "execute_result"
    }
   ],
   "source": [
    "# Examine best score\n",
    "### YOUR CODE HERE ###\n",
    "rf_cv.best_score_"
   ]
  },
  {
   "cell_type": "markdown",
   "id": "72f8d9c0",
   "metadata": {
    "id": "heGb51fHh3E5",
    "papermill": {
     "duration": 0.01723,
     "end_time": "2025-02-16T03:42:32.656101",
     "exception": false,
     "start_time": "2025-02-16T03:42:32.638871",
     "status": "completed"
    },
    "tags": []
   },
   "source": [
    "Examine the best combination of hyperparameters."
   ]
  },
  {
   "cell_type": "code",
   "execution_count": 26,
   "id": "dbfcf75c",
   "metadata": {
    "execution": {
     "iopub.execute_input": "2025-02-16T03:42:32.692785Z",
     "iopub.status.busy": "2025-02-16T03:42:32.692381Z",
     "iopub.status.idle": "2025-02-16T03:42:32.697688Z",
     "shell.execute_reply": "2025-02-16T03:42:32.696769Z"
    },
    "id": "kazNtYG4fQOI",
    "papermill": {
     "duration": 0.025569,
     "end_time": "2025-02-16T03:42:32.699432",
     "exception": false,
     "start_time": "2025-02-16T03:42:32.673863",
     "status": "completed"
    },
    "tags": []
   },
   "outputs": [
    {
     "data": {
      "text/plain": [
       "{'max_depth': None,\n",
       " 'max_features': 1.0,\n",
       " 'max_samples': 1.0,\n",
       " 'min_samples_leaf': 2,\n",
       " 'min_samples_split': 2,\n",
       " 'n_estimators': 300}"
      ]
     },
     "execution_count": 26,
     "metadata": {},
     "output_type": "execute_result"
    }
   ],
   "source": [
    "# Examine best hyperparameter combo\n",
    "### YOUR CODE HERE ###\n",
    "rf_cv.best_params_"
   ]
  },
  {
   "cell_type": "markdown",
   "id": "b60bbc26",
   "metadata": {
    "id": "qZZnem5yiAau",
    "papermill": {
     "duration": 0.017723,
     "end_time": "2025-02-16T03:42:32.735222",
     "exception": false,
     "start_time": "2025-02-16T03:42:32.717499",
     "status": "completed"
    },
    "tags": []
   },
   "source": [
    "Use the `make_results()` function to output all of the scores of your model. Note that the function accepts three arguments.\n",
    "\n",
    "This function is provided for you, but if you'd like to challenge yourself, try writing your own function!"
   ]
  },
  {
   "cell_type": "markdown",
   "id": "a28ad10b",
   "metadata": {
    "id": "GeW48TS742jN",
    "papermill": {
     "duration": 0.017764,
     "end_time": "2025-02-16T03:42:32.770825",
     "exception": false,
     "start_time": "2025-02-16T03:42:32.753061",
     "status": "completed"
    },
    "tags": []
   },
   "source": [
    "<details>\n",
    "  <summary><h5>HINT</h5></summary>\n",
    "\n",
    "To learn more about how this function accesses the cross-validation results, refer to the [`GridSearchCV` scikit-learn documentation](https://scikit-learn.org/stable/modules/generated/sklearn.model_selection.GridSearchCV.html?highlight=gridsearchcv#sklearn.model_selection.GridSearchCV) for the `cv_results_` attribute.\n",
    "\n",
    "</details>"
   ]
  },
  {
   "cell_type": "code",
   "execution_count": 27,
   "id": "f684ae23",
   "metadata": {
    "execution": {
     "iopub.execute_input": "2025-02-16T03:42:32.808216Z",
     "iopub.status.busy": "2025-02-16T03:42:32.807808Z",
     "iopub.status.idle": "2025-02-16T03:42:32.813925Z",
     "shell.execute_reply": "2025-02-16T03:42:32.812957Z"
    },
    "id": "u-UodWEOedxz",
    "papermill": {
     "duration": 0.026925,
     "end_time": "2025-02-16T03:42:32.815637",
     "exception": false,
     "start_time": "2025-02-16T03:42:32.788712",
     "status": "completed"
    },
    "tags": []
   },
   "outputs": [],
   "source": [
    "def make_results(model_name:str, model_object, metric:str):\n",
    "    '''\n",
    "    Arguments:\n",
    "        model_name (string): what you want the model to be called in the output table\n",
    "        model_object: a fit GridSearchCV object\n",
    "        metric (string): precision, recall, f1, or accuracy\n",
    "\n",
    "    Returns a pandas df with the F1, recall, precision, and accuracy scores\n",
    "    for the model with the best mean 'metric' score across all validation folds.\n",
    "    '''\n",
    "\n",
    "    # Create dictionary that maps input metric to actual metric name in GridSearchCV\n",
    "    metric_dict = {'precision': 'mean_test_precision',\n",
    "                   'recall': 'mean_test_recall',\n",
    "                   'f1': 'mean_test_f1',\n",
    "                   'accuracy': 'mean_test_accuracy',\n",
    "                   }\n",
    "\n",
    "    # Get all the results from the CV and put them in a df\n",
    "    cv_results = pd.DataFrame(model_object.cv_results_)\n",
    "\n",
    "    # Isolate the row of the df with the max(metric) score\n",
    "    best_estimator_results = cv_results.iloc[cv_results[metric_dict[metric]].idxmax(), :]\n",
    "\n",
    "    # Extract accuracy, precision, recall, and f1 score from that row\n",
    "    f1 = best_estimator_results.mean_test_f1\n",
    "    recall = best_estimator_results.mean_test_recall\n",
    "    precision = best_estimator_results.mean_test_precision\n",
    "    accuracy = best_estimator_results.mean_test_accuracy\n",
    "\n",
    "    # Create table of results\n",
    "    table = pd.DataFrame({'model': [model_name],\n",
    "                          'precision': [precision],\n",
    "                          'recall': [recall],\n",
    "                          'F1': [f1],\n",
    "                          'accuracy': [accuracy],\n",
    "                          },\n",
    "                         )\n",
    "\n",
    "    return table"
   ]
  },
  {
   "cell_type": "markdown",
   "id": "da77cc8f",
   "metadata": {
    "id": "diQezudIfzHn",
    "papermill": {
     "duration": 0.018117,
     "end_time": "2025-02-16T03:42:32.851500",
     "exception": false,
     "start_time": "2025-02-16T03:42:32.833383",
     "status": "completed"
    },
    "tags": []
   },
   "source": [
    "Pass the `GridSearch` object to the `make_results()` function."
   ]
  },
  {
   "cell_type": "code",
   "execution_count": 28,
   "id": "7d08f2bd",
   "metadata": {
    "execution": {
     "iopub.execute_input": "2025-02-16T03:42:32.888076Z",
     "iopub.status.busy": "2025-02-16T03:42:32.887737Z",
     "iopub.status.idle": "2025-02-16T03:42:32.900352Z",
     "shell.execute_reply": "2025-02-16T03:42:32.899281Z"
    },
    "id": "qAYb2QigiT_h",
    "papermill": {
     "duration": 0.03305,
     "end_time": "2025-02-16T03:42:32.902174",
     "exception": false,
     "start_time": "2025-02-16T03:42:32.869124",
     "status": "completed"
    },
    "tags": []
   },
   "outputs": [
    {
     "data": {
      "text/html": [
       "<div>\n",
       "<style scoped>\n",
       "    .dataframe tbody tr th:only-of-type {\n",
       "        vertical-align: middle;\n",
       "    }\n",
       "\n",
       "    .dataframe tbody tr th {\n",
       "        vertical-align: top;\n",
       "    }\n",
       "\n",
       "    .dataframe thead th {\n",
       "        text-align: right;\n",
       "    }\n",
       "</style>\n",
       "<table border=\"1\" class=\"dataframe\">\n",
       "  <thead>\n",
       "    <tr style=\"text-align: right;\">\n",
       "      <th></th>\n",
       "      <th>model</th>\n",
       "      <th>precision</th>\n",
       "      <th>recall</th>\n",
       "      <th>F1</th>\n",
       "      <th>accuracy</th>\n",
       "    </tr>\n",
       "  </thead>\n",
       "  <tbody>\n",
       "    <tr>\n",
       "      <th>0</th>\n",
       "      <td>RF cv</td>\n",
       "      <td>0.457163</td>\n",
       "      <td>0.126782</td>\n",
       "      <td>0.198445</td>\n",
       "      <td>0.81851</td>\n",
       "    </tr>\n",
       "  </tbody>\n",
       "</table>\n",
       "</div>"
      ],
      "text/plain": [
       "   model  precision    recall        F1  accuracy\n",
       "0  RF cv   0.457163  0.126782  0.198445   0.81851"
      ]
     },
     "execution_count": 28,
     "metadata": {},
     "output_type": "execute_result"
    }
   ],
   "source": [
    "### YOUR CODE HERE ###\n",
    "results = make_results('RF cv', rf_cv, 'recall')\n",
    "results"
   ]
  },
  {
   "cell_type": "markdown",
   "id": "3bf6d52f",
   "metadata": {
    "id": "SB-yhW9uu7dO",
    "papermill": {
     "duration": 0.017599,
     "end_time": "2025-02-16T03:42:32.937706",
     "exception": false,
     "start_time": "2025-02-16T03:42:32.920107",
     "status": "completed"
    },
    "tags": []
   },
   "source": [
    "Asside from the accuracy, the scores aren't that good. However, recall that when you built the logistic regression model in the last course the recall was \\~0.09, which means that this model has 33% better recall and about the same accuracy, and it was trained on less data.\n",
    "\n",
    "If you want, feel free to try retuning your hyperparameters to try to get a better score. You might be able to marginally improve the model."
   ]
  },
  {
   "cell_type": "markdown",
   "id": "62ad0553",
   "metadata": {
    "id": "DOlktJ6l4Tgt",
    "papermill": {
     "duration": 0.018236,
     "end_time": "2025-02-16T03:42:32.973622",
     "exception": false,
     "start_time": "2025-02-16T03:42:32.955386",
     "status": "completed"
    },
    "tags": []
   },
   "source": [
    "#### **XGBoost**\n",
    "\n",
    " Try to improve your scores using an XGBoost model.\n",
    "\n",
    "1. Instantiate the XGBoost classifier `xgb` and set `objective='binary:logistic'`. Also set the random state.\n",
    "\n",
    "2. Create a dictionary `cv_params` of the following hyperparameters and their corresponding values to tune:\n",
    " - `max_depth`\n",
    " - `min_child_weight`\n",
    " - `learning_rate`\n",
    " - `n_estimators`\n",
    "\n",
    "3. Define a list `scoring` of scoring metrics for grid search to capture (precision, recall, F1 score, and accuracy).\n",
    "\n",
    "4. Instantiate the `GridSearchCV` object `xgb_cv`. Pass to it as arguments:\n",
    " - estimator=`xgb`\n",
    " - param_grid=`cv_params`\n",
    " - scoring=`scoring`\n",
    " - cv: define the number of cross-validation folds you want (`cv=_`)\n",
    " - refit: indicate which evaluation metric you want to use to select the model (`refit='recall'`)"
   ]
  },
  {
   "cell_type": "code",
   "execution_count": 29,
   "id": "cffad7f4",
   "metadata": {
    "execution": {
     "iopub.execute_input": "2025-02-16T03:42:33.013580Z",
     "iopub.status.busy": "2025-02-16T03:42:33.013217Z",
     "iopub.status.idle": "2025-02-16T03:42:33.018497Z",
     "shell.execute_reply": "2025-02-16T03:42:33.017475Z"
    },
    "id": "0ciO48nhiTqO",
    "papermill": {
     "duration": 0.028377,
     "end_time": "2025-02-16T03:42:33.020346",
     "exception": false,
     "start_time": "2025-02-16T03:42:32.991969",
     "status": "completed"
    },
    "tags": []
   },
   "outputs": [],
   "source": [
    "# 1. Instantiate the XGBoost classifier\n",
    "### YOUR CODE HERE ###\n",
    "xgb = XGBClassifier(objective='binary:logistic', random_state=42)\n",
    "\n",
    "# 2. Create a dictionary of hyperparameters to tune\n",
    "### YOUR CODE HERE ###\n",
    "\n",
    "# commenting out the hyperparameter grid after the best hyperparams were found to save time\n",
    "#cv_params = {'max_depth': [6, 12],\n",
    "#             'min_child_weight': [3, 5],\n",
    "#             'learning_rate': [0.01, 0.1],\n",
    "#             'n_estimators': [300]}\n",
    "\n",
    "cv_params = {'max_depth': [6],\n",
    "             'min_child_weight': [5],\n",
    "             'learning_rate': [0.1],\n",
    "             'n_estimators': [300]}\n",
    "\n",
    "# 3. Define a list of scoring metrics to capture\n",
    "### YOUR CODE HERE ###\n",
    "scoring = ['accuracy', 'precision', 'recall', 'f1']\n",
    "\n",
    "# 4. Instantiate the GridSearchCV object\n",
    "### YOUR CODE HERE ###\n",
    "xgb_cv = GridSearchCV(xgb, cv_params, scoring=scoring, cv=4, refit='recall')"
   ]
  },
  {
   "cell_type": "markdown",
   "id": "ada8372b",
   "metadata": {
    "id": "Y78-hQF9680x",
    "papermill": {
     "duration": 0.017868,
     "end_time": "2025-02-16T03:42:33.057209",
     "exception": false,
     "start_time": "2025-02-16T03:42:33.039341",
     "status": "completed"
    },
    "tags": []
   },
   "source": [
    "Now fit the model to the `X_train` and `y_train` data.\n",
    "\n",
    "Note this cell might take several minutes to run."
   ]
  },
  {
   "cell_type": "code",
   "execution_count": 30,
   "id": "0d6c1fab",
   "metadata": {
    "execution": {
     "iopub.execute_input": "2025-02-16T03:42:33.096008Z",
     "iopub.status.busy": "2025-02-16T03:42:33.095646Z",
     "iopub.status.idle": "2025-02-16T03:42:36.252816Z",
     "shell.execute_reply": "2025-02-16T03:42:36.251676Z"
    },
    "id": "dYCWs_HX6804",
    "papermill": {
     "duration": 3.178327,
     "end_time": "2025-02-16T03:42:36.254513",
     "exception": false,
     "start_time": "2025-02-16T03:42:33.076186",
     "status": "completed"
    },
    "tags": []
   },
   "outputs": [
    {
     "data": {
      "text/html": [
       "<style>#sk-container-id-2 {color: black;background-color: white;}#sk-container-id-2 pre{padding: 0;}#sk-container-id-2 div.sk-toggleable {background-color: white;}#sk-container-id-2 label.sk-toggleable__label {cursor: pointer;display: block;width: 100%;margin-bottom: 0;padding: 0.3em;box-sizing: border-box;text-align: center;}#sk-container-id-2 label.sk-toggleable__label-arrow:before {content: \"▸\";float: left;margin-right: 0.25em;color: #696969;}#sk-container-id-2 label.sk-toggleable__label-arrow:hover:before {color: black;}#sk-container-id-2 div.sk-estimator:hover label.sk-toggleable__label-arrow:before {color: black;}#sk-container-id-2 div.sk-toggleable__content {max-height: 0;max-width: 0;overflow: hidden;text-align: left;background-color: #f0f8ff;}#sk-container-id-2 div.sk-toggleable__content pre {margin: 0.2em;color: black;border-radius: 0.25em;background-color: #f0f8ff;}#sk-container-id-2 input.sk-toggleable__control:checked~div.sk-toggleable__content {max-height: 200px;max-width: 100%;overflow: auto;}#sk-container-id-2 input.sk-toggleable__control:checked~label.sk-toggleable__label-arrow:before {content: \"▾\";}#sk-container-id-2 div.sk-estimator input.sk-toggleable__control:checked~label.sk-toggleable__label {background-color: #d4ebff;}#sk-container-id-2 div.sk-label input.sk-toggleable__control:checked~label.sk-toggleable__label {background-color: #d4ebff;}#sk-container-id-2 input.sk-hidden--visually {border: 0;clip: rect(1px 1px 1px 1px);clip: rect(1px, 1px, 1px, 1px);height: 1px;margin: -1px;overflow: hidden;padding: 0;position: absolute;width: 1px;}#sk-container-id-2 div.sk-estimator {font-family: monospace;background-color: #f0f8ff;border: 1px dotted black;border-radius: 0.25em;box-sizing: border-box;margin-bottom: 0.5em;}#sk-container-id-2 div.sk-estimator:hover {background-color: #d4ebff;}#sk-container-id-2 div.sk-parallel-item::after {content: \"\";width: 100%;border-bottom: 1px solid gray;flex-grow: 1;}#sk-container-id-2 div.sk-label:hover label.sk-toggleable__label {background-color: #d4ebff;}#sk-container-id-2 div.sk-serial::before {content: \"\";position: absolute;border-left: 1px solid gray;box-sizing: border-box;top: 0;bottom: 0;left: 50%;z-index: 0;}#sk-container-id-2 div.sk-serial {display: flex;flex-direction: column;align-items: center;background-color: white;padding-right: 0.2em;padding-left: 0.2em;position: relative;}#sk-container-id-2 div.sk-item {position: relative;z-index: 1;}#sk-container-id-2 div.sk-parallel {display: flex;align-items: stretch;justify-content: center;background-color: white;position: relative;}#sk-container-id-2 div.sk-item::before, #sk-container-id-2 div.sk-parallel-item::before {content: \"\";position: absolute;border-left: 1px solid gray;box-sizing: border-box;top: 0;bottom: 0;left: 50%;z-index: -1;}#sk-container-id-2 div.sk-parallel-item {display: flex;flex-direction: column;z-index: 1;position: relative;background-color: white;}#sk-container-id-2 div.sk-parallel-item:first-child::after {align-self: flex-end;width: 50%;}#sk-container-id-2 div.sk-parallel-item:last-child::after {align-self: flex-start;width: 50%;}#sk-container-id-2 div.sk-parallel-item:only-child::after {width: 0;}#sk-container-id-2 div.sk-dashed-wrapped {border: 1px dashed gray;margin: 0 0.4em 0.5em 0.4em;box-sizing: border-box;padding-bottom: 0.4em;background-color: white;}#sk-container-id-2 div.sk-label label {font-family: monospace;font-weight: bold;display: inline-block;line-height: 1.2em;}#sk-container-id-2 div.sk-label-container {text-align: center;}#sk-container-id-2 div.sk-container {/* jupyter's `normalize.less` sets `[hidden] { display: none; }` but bootstrap.min.css set `[hidden] { display: none !important; }` so we also need the `!important` here to be able to override the default hidden behavior on the sphinx rendered scikit-learn.org. See: https://github.com/scikit-learn/scikit-learn/issues/21755 */display: inline-block !important;position: relative;}#sk-container-id-2 div.sk-text-repr-fallback {display: none;}</style><div id=\"sk-container-id-2\" class=\"sk-top-container\"><div class=\"sk-text-repr-fallback\"><pre>GridSearchCV(cv=4,\n",
       "             estimator=XGBClassifier(base_score=None, booster=None,\n",
       "                                     callbacks=None, colsample_bylevel=None,\n",
       "                                     colsample_bynode=None,\n",
       "                                     colsample_bytree=None, device=None,\n",
       "                                     early_stopping_rounds=None,\n",
       "                                     enable_categorical=False, eval_metric=None,\n",
       "                                     feature_types=None, gamma=None,\n",
       "                                     grow_policy=None, importance_type=None,\n",
       "                                     interaction_constraints=None,\n",
       "                                     learning_rate=None,...\n",
       "                                     max_delta_step=None, max_depth=None,\n",
       "                                     max_leaves=None, min_child_weight=None,\n",
       "                                     missing=nan, monotone_constraints=None,\n",
       "                                     multi_strategy=None, n_estimators=None,\n",
       "                                     n_jobs=None, num_parallel_tree=None,\n",
       "                                     random_state=42, ...),\n",
       "             param_grid={&#x27;learning_rate&#x27;: [0.1], &#x27;max_depth&#x27;: [6],\n",
       "                         &#x27;min_child_weight&#x27;: [5], &#x27;n_estimators&#x27;: [300]},\n",
       "             refit=&#x27;recall&#x27;, scoring=[&#x27;accuracy&#x27;, &#x27;precision&#x27;, &#x27;recall&#x27;, &#x27;f1&#x27;])</pre><b>In a Jupyter environment, please rerun this cell to show the HTML representation or trust the notebook. <br />On GitHub, the HTML representation is unable to render, please try loading this page with nbviewer.org.</b></div><div class=\"sk-container\" hidden><div class=\"sk-item sk-dashed-wrapped\"><div class=\"sk-label-container\"><div class=\"sk-label sk-toggleable\"><input class=\"sk-toggleable__control sk-hidden--visually\" id=\"sk-estimator-id-4\" type=\"checkbox\" ><label for=\"sk-estimator-id-4\" class=\"sk-toggleable__label sk-toggleable__label-arrow\">GridSearchCV</label><div class=\"sk-toggleable__content\"><pre>GridSearchCV(cv=4,\n",
       "             estimator=XGBClassifier(base_score=None, booster=None,\n",
       "                                     callbacks=None, colsample_bylevel=None,\n",
       "                                     colsample_bynode=None,\n",
       "                                     colsample_bytree=None, device=None,\n",
       "                                     early_stopping_rounds=None,\n",
       "                                     enable_categorical=False, eval_metric=None,\n",
       "                                     feature_types=None, gamma=None,\n",
       "                                     grow_policy=None, importance_type=None,\n",
       "                                     interaction_constraints=None,\n",
       "                                     learning_rate=None,...\n",
       "                                     max_delta_step=None, max_depth=None,\n",
       "                                     max_leaves=None, min_child_weight=None,\n",
       "                                     missing=nan, monotone_constraints=None,\n",
       "                                     multi_strategy=None, n_estimators=None,\n",
       "                                     n_jobs=None, num_parallel_tree=None,\n",
       "                                     random_state=42, ...),\n",
       "             param_grid={&#x27;learning_rate&#x27;: [0.1], &#x27;max_depth&#x27;: [6],\n",
       "                         &#x27;min_child_weight&#x27;: [5], &#x27;n_estimators&#x27;: [300]},\n",
       "             refit=&#x27;recall&#x27;, scoring=[&#x27;accuracy&#x27;, &#x27;precision&#x27;, &#x27;recall&#x27;, &#x27;f1&#x27;])</pre></div></div></div><div class=\"sk-parallel\"><div class=\"sk-parallel-item\"><div class=\"sk-item\"><div class=\"sk-label-container\"><div class=\"sk-label sk-toggleable\"><input class=\"sk-toggleable__control sk-hidden--visually\" id=\"sk-estimator-id-5\" type=\"checkbox\" ><label for=\"sk-estimator-id-5\" class=\"sk-toggleable__label sk-toggleable__label-arrow\">estimator: XGBClassifier</label><div class=\"sk-toggleable__content\"><pre>XGBClassifier(base_score=None, booster=None, callbacks=None,\n",
       "              colsample_bylevel=None, colsample_bynode=None,\n",
       "              colsample_bytree=None, device=None, early_stopping_rounds=None,\n",
       "              enable_categorical=False, eval_metric=None, feature_types=None,\n",
       "              gamma=None, grow_policy=None, importance_type=None,\n",
       "              interaction_constraints=None, learning_rate=None, max_bin=None,\n",
       "              max_cat_threshold=None, max_cat_to_onehot=None,\n",
       "              max_delta_step=None, max_depth=None, max_leaves=None,\n",
       "              min_child_weight=None, missing=nan, monotone_constraints=None,\n",
       "              multi_strategy=None, n_estimators=None, n_jobs=None,\n",
       "              num_parallel_tree=None, random_state=42, ...)</pre></div></div></div><div class=\"sk-serial\"><div class=\"sk-item\"><div class=\"sk-estimator sk-toggleable\"><input class=\"sk-toggleable__control sk-hidden--visually\" id=\"sk-estimator-id-6\" type=\"checkbox\" ><label for=\"sk-estimator-id-6\" class=\"sk-toggleable__label sk-toggleable__label-arrow\">XGBClassifier</label><div class=\"sk-toggleable__content\"><pre>XGBClassifier(base_score=None, booster=None, callbacks=None,\n",
       "              colsample_bylevel=None, colsample_bynode=None,\n",
       "              colsample_bytree=None, device=None, early_stopping_rounds=None,\n",
       "              enable_categorical=False, eval_metric=None, feature_types=None,\n",
       "              gamma=None, grow_policy=None, importance_type=None,\n",
       "              interaction_constraints=None, learning_rate=None, max_bin=None,\n",
       "              max_cat_threshold=None, max_cat_to_onehot=None,\n",
       "              max_delta_step=None, max_depth=None, max_leaves=None,\n",
       "              min_child_weight=None, missing=nan, monotone_constraints=None,\n",
       "              multi_strategy=None, n_estimators=None, n_jobs=None,\n",
       "              num_parallel_tree=None, random_state=42, ...)</pre></div></div></div></div></div></div></div></div></div></div>"
      ],
      "text/plain": [
       "GridSearchCV(cv=4,\n",
       "             estimator=XGBClassifier(base_score=None, booster=None,\n",
       "                                     callbacks=None, colsample_bylevel=None,\n",
       "                                     colsample_bynode=None,\n",
       "                                     colsample_bytree=None, device=None,\n",
       "                                     early_stopping_rounds=None,\n",
       "                                     enable_categorical=False, eval_metric=None,\n",
       "                                     feature_types=None, gamma=None,\n",
       "                                     grow_policy=None, importance_type=None,\n",
       "                                     interaction_constraints=None,\n",
       "                                     learning_rate=None,...\n",
       "                                     max_delta_step=None, max_depth=None,\n",
       "                                     max_leaves=None, min_child_weight=None,\n",
       "                                     missing=nan, monotone_constraints=None,\n",
       "                                     multi_strategy=None, n_estimators=None,\n",
       "                                     n_jobs=None, num_parallel_tree=None,\n",
       "                                     random_state=42, ...),\n",
       "             param_grid={'learning_rate': [0.1], 'max_depth': [6],\n",
       "                         'min_child_weight': [5], 'n_estimators': [300]},\n",
       "             refit='recall', scoring=['accuracy', 'precision', 'recall', 'f1'])"
      ]
     },
     "execution_count": 30,
     "metadata": {},
     "output_type": "execute_result"
    }
   ],
   "source": [
    "### YOUR CODE HERE ###\n",
    "xgb_cv.fit(X_train, y_train)"
   ]
  },
  {
   "cell_type": "markdown",
   "id": "d2d0bb0c",
   "metadata": {
    "id": "ruQISDB76805",
    "papermill": {
     "duration": 0.018369,
     "end_time": "2025-02-16T03:42:36.291952",
     "exception": false,
     "start_time": "2025-02-16T03:42:36.273583",
     "status": "completed"
    },
    "tags": []
   },
   "source": [
    "Get the best score from this model."
   ]
  },
  {
   "cell_type": "code",
   "execution_count": 31,
   "id": "62214540",
   "metadata": {
    "execution": {
     "iopub.execute_input": "2025-02-16T03:42:36.330034Z",
     "iopub.status.busy": "2025-02-16T03:42:36.329689Z",
     "iopub.status.idle": "2025-02-16T03:42:36.335337Z",
     "shell.execute_reply": "2025-02-16T03:42:36.334428Z"
    },
    "id": "UFLTmIDm6805",
    "papermill": {
     "duration": 0.026849,
     "end_time": "2025-02-16T03:42:36.336996",
     "exception": false,
     "start_time": "2025-02-16T03:42:36.310147",
     "status": "completed"
    },
    "tags": []
   },
   "outputs": [
    {
     "data": {
      "text/plain": [
       "0.1708264263019754"
      ]
     },
     "execution_count": 31,
     "metadata": {},
     "output_type": "execute_result"
    }
   ],
   "source": [
    "# Examine best score\n",
    "### YOUR CODE HERE ###\n",
    "xgb_cv.best_score_"
   ]
  },
  {
   "cell_type": "markdown",
   "id": "bf7d0c2d",
   "metadata": {
    "id": "fwmWDuXZ6805",
    "papermill": {
     "duration": 0.018265,
     "end_time": "2025-02-16T03:42:36.374501",
     "exception": false,
     "start_time": "2025-02-16T03:42:36.356236",
     "status": "completed"
    },
    "tags": []
   },
   "source": [
    "And the best parameters."
   ]
  },
  {
   "cell_type": "code",
   "execution_count": 32,
   "id": "bece5ad3",
   "metadata": {
    "execution": {
     "iopub.execute_input": "2025-02-16T03:42:36.412374Z",
     "iopub.status.busy": "2025-02-16T03:42:36.412025Z",
     "iopub.status.idle": "2025-02-16T03:42:36.417429Z",
     "shell.execute_reply": "2025-02-16T03:42:36.416476Z"
    },
    "id": "cdPUCuND6805",
    "papermill": {
     "duration": 0.026178,
     "end_time": "2025-02-16T03:42:36.419020",
     "exception": false,
     "start_time": "2025-02-16T03:42:36.392842",
     "status": "completed"
    },
    "tags": []
   },
   "outputs": [
    {
     "data": {
      "text/plain": [
       "{'learning_rate': 0.1,\n",
       " 'max_depth': 6,\n",
       " 'min_child_weight': 5,\n",
       " 'n_estimators': 300}"
      ]
     },
     "execution_count": 32,
     "metadata": {},
     "output_type": "execute_result"
    }
   ],
   "source": [
    "# Examine best parameters\n",
    "### YOUR CODE HERE ###\n",
    "xgb_cv.best_params_"
   ]
  },
  {
   "cell_type": "markdown",
   "id": "22086a17",
   "metadata": {
    "id": "X8v8HTmQ7KdC",
    "papermill": {
     "duration": 0.018191,
     "end_time": "2025-02-16T03:42:36.455861",
     "exception": false,
     "start_time": "2025-02-16T03:42:36.437670",
     "status": "completed"
    },
    "tags": []
   },
   "source": [
    "Use the `make_results()` function to output all of the scores of your model. Note that the function accepts three arguments."
   ]
  },
  {
   "cell_type": "code",
   "execution_count": 33,
   "id": "9b252d73",
   "metadata": {
    "execution": {
     "iopub.execute_input": "2025-02-16T03:42:36.494452Z",
     "iopub.status.busy": "2025-02-16T03:42:36.494053Z",
     "iopub.status.idle": "2025-02-16T03:42:36.507566Z",
     "shell.execute_reply": "2025-02-16T03:42:36.506533Z"
    },
    "id": "QL19dH2h7KdD",
    "papermill": {
     "duration": 0.034705,
     "end_time": "2025-02-16T03:42:36.509179",
     "exception": false,
     "start_time": "2025-02-16T03:42:36.474474",
     "status": "completed"
    },
    "tags": []
   },
   "outputs": [
    {
     "data": {
      "text/html": [
       "<div>\n",
       "<style scoped>\n",
       "    .dataframe tbody tr th:only-of-type {\n",
       "        vertical-align: middle;\n",
       "    }\n",
       "\n",
       "    .dataframe tbody tr th {\n",
       "        vertical-align: top;\n",
       "    }\n",
       "\n",
       "    .dataframe thead th {\n",
       "        text-align: right;\n",
       "    }\n",
       "</style>\n",
       "<table border=\"1\" class=\"dataframe\">\n",
       "  <thead>\n",
       "    <tr style=\"text-align: right;\">\n",
       "      <th></th>\n",
       "      <th>model</th>\n",
       "      <th>precision</th>\n",
       "      <th>recall</th>\n",
       "      <th>F1</th>\n",
       "      <th>accuracy</th>\n",
       "    </tr>\n",
       "  </thead>\n",
       "  <tbody>\n",
       "    <tr>\n",
       "      <th>0</th>\n",
       "      <td>RF cv</td>\n",
       "      <td>0.457163</td>\n",
       "      <td>0.126782</td>\n",
       "      <td>0.198445</td>\n",
       "      <td>0.818510</td>\n",
       "    </tr>\n",
       "    <tr>\n",
       "      <th>0</th>\n",
       "      <td>XGB cv</td>\n",
       "      <td>0.425932</td>\n",
       "      <td>0.170826</td>\n",
       "      <td>0.243736</td>\n",
       "      <td>0.811866</td>\n",
       "    </tr>\n",
       "  </tbody>\n",
       "</table>\n",
       "</div>"
      ],
      "text/plain": [
       "    model  precision    recall        F1  accuracy\n",
       "0   RF cv   0.457163  0.126782  0.198445  0.818510\n",
       "0  XGB cv   0.425932  0.170826  0.243736  0.811866"
      ]
     },
     "execution_count": 33,
     "metadata": {},
     "output_type": "execute_result"
    }
   ],
   "source": [
    "# Call 'make_results()' on the GridSearch object\n",
    "### YOUR CODE HERE ###\n",
    "xgb_cv_results = make_results('XGB cv', xgb_cv, 'recall')\n",
    "\n",
    "# joining the xgb results with random forest results\n",
    "results = pd.concat([results, xgb_cv_results], axis=0)\n",
    "results"
   ]
  },
  {
   "cell_type": "markdown",
   "id": "d90b948a",
   "metadata": {
    "id": "c5IRnMO27KdD",
    "papermill": {
     "duration": 0.018805,
     "end_time": "2025-02-16T03:42:36.547035",
     "exception": false,
     "start_time": "2025-02-16T03:42:36.528230",
     "status": "completed"
    },
    "tags": []
   },
   "source": [
    "This model fit the data even better than the random forest model. The recall score is nearly double the recall score from the logistic regression model from the previous course, and it's almost 50% better than the random forest model's recall score, while maintaining a similar accuracy and precision score."
   ]
  },
  {
   "cell_type": "markdown",
   "id": "01950765",
   "metadata": {
    "id": "NfX0SjJffkh1",
    "papermill": {
     "duration": 0.018336,
     "end_time": "2025-02-16T03:42:36.584133",
     "exception": false,
     "start_time": "2025-02-16T03:42:36.565797",
     "status": "completed"
    },
    "tags": []
   },
   "source": [
    "### **Task 11. Model selection**\n",
    "\n",
    "Now, use the best random forest model and the best XGBoost model to predict on the validation data. Whichever performs better will be selected as the champion model."
   ]
  },
  {
   "cell_type": "markdown",
   "id": "c4901707",
   "metadata": {
    "id": "chgR3Tx8fn1s",
    "papermill": {
     "duration": 0.018516,
     "end_time": "2025-02-16T03:42:36.621357",
     "exception": false,
     "start_time": "2025-02-16T03:42:36.602841",
     "status": "completed"
    },
    "tags": []
   },
   "source": [
    "#### **Random forest**"
   ]
  },
  {
   "cell_type": "code",
   "execution_count": 34,
   "id": "5cd25709",
   "metadata": {
    "execution": {
     "iopub.execute_input": "2025-02-16T03:42:36.660722Z",
     "iopub.status.busy": "2025-02-16T03:42:36.660333Z",
     "iopub.status.idle": "2025-02-16T03:42:36.821889Z",
     "shell.execute_reply": "2025-02-16T03:42:36.821032Z"
    },
    "id": "DUswawM2fyAf",
    "papermill": {
     "duration": 0.18322,
     "end_time": "2025-02-16T03:42:36.823778",
     "exception": false,
     "start_time": "2025-02-16T03:42:36.640558",
     "status": "completed"
    },
    "tags": []
   },
   "outputs": [],
   "source": [
    "# Use random forest model to predict on validation data\n",
    "### YOUR CODE HERE ###\n",
    "rf_val_preds = rf_cv.best_estimator_.predict(X_val)"
   ]
  },
  {
   "cell_type": "markdown",
   "id": "f4deeab2",
   "metadata": {
    "id": "uz1eb4rqf11Z",
    "papermill": {
     "duration": 0.018958,
     "end_time": "2025-02-16T03:42:36.861715",
     "exception": false,
     "start_time": "2025-02-16T03:42:36.842757",
     "status": "completed"
    },
    "tags": []
   },
   "source": [
    "Use the `get_test_scores()` function to generate a table of scores from the predictions on the validation data."
   ]
  },
  {
   "cell_type": "code",
   "execution_count": 35,
   "id": "c0652bd1",
   "metadata": {
    "execution": {
     "iopub.execute_input": "2025-02-16T03:42:36.901461Z",
     "iopub.status.busy": "2025-02-16T03:42:36.901093Z",
     "iopub.status.idle": "2025-02-16T03:42:36.906561Z",
     "shell.execute_reply": "2025-02-16T03:42:36.905371Z"
    },
    "id": "AJ9mCl0Uf4P4",
    "papermill": {
     "duration": 0.027706,
     "end_time": "2025-02-16T03:42:36.908386",
     "exception": false,
     "start_time": "2025-02-16T03:42:36.880680",
     "status": "completed"
    },
    "tags": []
   },
   "outputs": [],
   "source": [
    "def get_test_scores(model_name:str, preds, y_test_data):\n",
    "    '''\n",
    "    Generate a table of test scores.\n",
    "\n",
    "    In:\n",
    "        model_name (string): Your choice: how the model will be named in the output table\n",
    "        preds: numpy array of test predictions\n",
    "        y_test_data: numpy array of y_test data\n",
    "\n",
    "    Out:\n",
    "        table: a pandas df of precision, recall, f1, and accuracy scores for your model\n",
    "    '''\n",
    "    accuracy = accuracy_score(y_test_data, preds)\n",
    "    precision = precision_score(y_test_data, preds)\n",
    "    recall = recall_score(y_test_data, preds)\n",
    "    f1 = f1_score(y_test_data, preds)\n",
    "\n",
    "    table = pd.DataFrame({'model': [model_name],\n",
    "                          'precision': [precision],\n",
    "                          'recall': [recall],\n",
    "                          'F1': [f1],\n",
    "                          'accuracy': [accuracy]\n",
    "                          })\n",
    "\n",
    "    return table"
   ]
  },
  {
   "cell_type": "code",
   "execution_count": 36,
   "id": "83552c77",
   "metadata": {
    "execution": {
     "iopub.execute_input": "2025-02-16T03:42:36.947967Z",
     "iopub.status.busy": "2025-02-16T03:42:36.947621Z",
     "iopub.status.idle": "2025-02-16T03:42:36.969019Z",
     "shell.execute_reply": "2025-02-16T03:42:36.967938Z"
    },
    "id": "22ANR4ZHf5NK",
    "papermill": {
     "duration": 0.043232,
     "end_time": "2025-02-16T03:42:36.970880",
     "exception": false,
     "start_time": "2025-02-16T03:42:36.927648",
     "status": "completed"
    },
    "tags": []
   },
   "outputs": [
    {
     "data": {
      "text/html": [
       "<div>\n",
       "<style scoped>\n",
       "    .dataframe tbody tr th:only-of-type {\n",
       "        vertical-align: middle;\n",
       "    }\n",
       "\n",
       "    .dataframe tbody tr th {\n",
       "        vertical-align: top;\n",
       "    }\n",
       "\n",
       "    .dataframe thead th {\n",
       "        text-align: right;\n",
       "    }\n",
       "</style>\n",
       "<table border=\"1\" class=\"dataframe\">\n",
       "  <thead>\n",
       "    <tr style=\"text-align: right;\">\n",
       "      <th></th>\n",
       "      <th>model</th>\n",
       "      <th>precision</th>\n",
       "      <th>recall</th>\n",
       "      <th>F1</th>\n",
       "      <th>accuracy</th>\n",
       "    </tr>\n",
       "  </thead>\n",
       "  <tbody>\n",
       "    <tr>\n",
       "      <th>0</th>\n",
       "      <td>RF cv</td>\n",
       "      <td>0.457163</td>\n",
       "      <td>0.126782</td>\n",
       "      <td>0.198445</td>\n",
       "      <td>0.818510</td>\n",
       "    </tr>\n",
       "    <tr>\n",
       "      <th>0</th>\n",
       "      <td>XGB cv</td>\n",
       "      <td>0.425932</td>\n",
       "      <td>0.170826</td>\n",
       "      <td>0.243736</td>\n",
       "      <td>0.811866</td>\n",
       "    </tr>\n",
       "    <tr>\n",
       "      <th>0</th>\n",
       "      <td>RF val</td>\n",
       "      <td>0.445255</td>\n",
       "      <td>0.120316</td>\n",
       "      <td>0.189441</td>\n",
       "      <td>0.817483</td>\n",
       "    </tr>\n",
       "  </tbody>\n",
       "</table>\n",
       "</div>"
      ],
      "text/plain": [
       "    model  precision    recall        F1  accuracy\n",
       "0   RF cv   0.457163  0.126782  0.198445  0.818510\n",
       "0  XGB cv   0.425932  0.170826  0.243736  0.811866\n",
       "0  RF val   0.445255  0.120316  0.189441  0.817483"
      ]
     },
     "execution_count": 36,
     "metadata": {},
     "output_type": "execute_result"
    }
   ],
   "source": [
    "# Get validation scores for RF model\n",
    "### YOUR CODE HERE ###\n",
    "rf_val_scores = get_test_scores('RF val', rf_val_preds, y_val)\n",
    "\n",
    "# Append to the results table\n",
    "### YOUR CODE HERE ###\n",
    "results = pd.concat([results, rf_val_scores], axis=0)\n",
    "results"
   ]
  },
  {
   "cell_type": "markdown",
   "id": "362a3af4",
   "metadata": {
    "id": "yDeuk16igBD0",
    "papermill": {
     "duration": 0.019354,
     "end_time": "2025-02-16T03:42:37.010654",
     "exception": false,
     "start_time": "2025-02-16T03:42:36.991300",
     "status": "completed"
    },
    "tags": []
   },
   "source": [
    "Notice that the scores went down from the training scores across all metrics, but only by very little. This means that the model did not overfit the training data."
   ]
  },
  {
   "cell_type": "markdown",
   "id": "580ee617",
   "metadata": {
    "id": "D8h2s5RpgEER",
    "papermill": {
     "duration": 0.018829,
     "end_time": "2025-02-16T03:42:37.050767",
     "exception": false,
     "start_time": "2025-02-16T03:42:37.031938",
     "status": "completed"
    },
    "tags": []
   },
   "source": [
    "#### **XGBoost**\n",
    "\n",
    "Now, do the same thing to get the performance scores of the XGBoost model on the validation data."
   ]
  },
  {
   "cell_type": "code",
   "execution_count": 37,
   "id": "9772820d",
   "metadata": {
    "execution": {
     "iopub.execute_input": "2025-02-16T03:42:37.091046Z",
     "iopub.status.busy": "2025-02-16T03:42:37.090695Z",
     "iopub.status.idle": "2025-02-16T03:42:37.213733Z",
     "shell.execute_reply": "2025-02-16T03:42:37.212691Z"
    },
    "id": "mQoTuRkngHjp",
    "papermill": {
     "duration": 0.144943,
     "end_time": "2025-02-16T03:42:37.215530",
     "exception": false,
     "start_time": "2025-02-16T03:42:37.070587",
     "status": "completed"
    },
    "tags": []
   },
   "outputs": [
    {
     "data": {
      "text/html": [
       "<div>\n",
       "<style scoped>\n",
       "    .dataframe tbody tr th:only-of-type {\n",
       "        vertical-align: middle;\n",
       "    }\n",
       "\n",
       "    .dataframe tbody tr th {\n",
       "        vertical-align: top;\n",
       "    }\n",
       "\n",
       "    .dataframe thead th {\n",
       "        text-align: right;\n",
       "    }\n",
       "</style>\n",
       "<table border=\"1\" class=\"dataframe\">\n",
       "  <thead>\n",
       "    <tr style=\"text-align: right;\">\n",
       "      <th></th>\n",
       "      <th>model</th>\n",
       "      <th>precision</th>\n",
       "      <th>recall</th>\n",
       "      <th>F1</th>\n",
       "      <th>accuracy</th>\n",
       "    </tr>\n",
       "  </thead>\n",
       "  <tbody>\n",
       "    <tr>\n",
       "      <th>0</th>\n",
       "      <td>RF cv</td>\n",
       "      <td>0.457163</td>\n",
       "      <td>0.126782</td>\n",
       "      <td>0.198445</td>\n",
       "      <td>0.818510</td>\n",
       "    </tr>\n",
       "    <tr>\n",
       "      <th>0</th>\n",
       "      <td>XGB cv</td>\n",
       "      <td>0.425932</td>\n",
       "      <td>0.170826</td>\n",
       "      <td>0.243736</td>\n",
       "      <td>0.811866</td>\n",
       "    </tr>\n",
       "    <tr>\n",
       "      <th>0</th>\n",
       "      <td>RF val</td>\n",
       "      <td>0.445255</td>\n",
       "      <td>0.120316</td>\n",
       "      <td>0.189441</td>\n",
       "      <td>0.817483</td>\n",
       "    </tr>\n",
       "    <tr>\n",
       "      <th>0</th>\n",
       "      <td>XGB val</td>\n",
       "      <td>0.422680</td>\n",
       "      <td>0.161736</td>\n",
       "      <td>0.233951</td>\n",
       "      <td>0.812238</td>\n",
       "    </tr>\n",
       "  </tbody>\n",
       "</table>\n",
       "</div>"
      ],
      "text/plain": [
       "     model  precision    recall        F1  accuracy\n",
       "0    RF cv   0.457163  0.126782  0.198445  0.818510\n",
       "0   XGB cv   0.425932  0.170826  0.243736  0.811866\n",
       "0   RF val   0.445255  0.120316  0.189441  0.817483\n",
       "0  XGB val   0.422680  0.161736  0.233951  0.812238"
      ]
     },
     "execution_count": 37,
     "metadata": {},
     "output_type": "execute_result"
    }
   ],
   "source": [
    "# Use XGBoost model to predict on validation data\n",
    "### YOUR CODE HERE ###\n",
    "xgb_val_preds = xgb_cv.best_estimator_.predict(X_val)\n",
    "\n",
    "# Get validation scores for XGBoost model\n",
    "### YOUR CODE HERE ###\n",
    "xgb_val_scores = get_test_scores('XGB val', xgb_val_preds, y_val)\n",
    "\n",
    "# Append to the results table\n",
    "### YOUR CODE HERE ###\n",
    "results = pd.concat([results, xgb_val_scores], axis=0)\n",
    "results"
   ]
  },
  {
   "cell_type": "markdown",
   "id": "8083224b",
   "metadata": {
    "id": "GspkQqUNgIm3",
    "papermill": {
     "duration": 0.019025,
     "end_time": "2025-02-16T03:42:37.253862",
     "exception": false,
     "start_time": "2025-02-16T03:42:37.234837",
     "status": "completed"
    },
    "tags": []
   },
   "source": [
    "Just like with the random forest model, the XGBoost model's validation scores were lower, but only very slightly. It is still the clear champion."
   ]
  },
  {
   "cell_type": "markdown",
   "id": "91cf5210",
   "metadata": {
    "id": "_HGsWfEOeWPm",
    "papermill": {
     "duration": 0.018945,
     "end_time": "2025-02-16T03:42:37.292067",
     "exception": false,
     "start_time": "2025-02-16T03:42:37.273122",
     "status": "completed"
    },
    "tags": []
   },
   "source": [
    "<img src=\"images/Execute.png\" width=\"100\" height=\"100\" align=left>\n",
    "\n",
    "## **PACE: Execute**\n",
    "Consider the questions in your PACE Strategy Document to reflect on the Execute stage."
   ]
  },
  {
   "cell_type": "markdown",
   "id": "aa80760c",
   "metadata": {
    "id": "iOm4n_1OgUND",
    "papermill": {
     "duration": 0.018904,
     "end_time": "2025-02-16T03:42:37.330207",
     "exception": false,
     "start_time": "2025-02-16T03:42:37.311303",
     "status": "completed"
    },
    "tags": []
   },
   "source": [
    "### **Task 12. Use champion model to predict on test data**\n",
    "\n",
    "Now, use the champion model to predict on the test dataset. This is to give a final indication of how you should expect the model to perform on new future data, should you decide to use the model."
   ]
  },
  {
   "cell_type": "code",
   "execution_count": 38,
   "id": "16279d95",
   "metadata": {
    "execution": {
     "iopub.execute_input": "2025-02-16T03:42:37.370155Z",
     "iopub.status.busy": "2025-02-16T03:42:37.369798Z",
     "iopub.status.idle": "2025-02-16T03:42:37.404197Z",
     "shell.execute_reply": "2025-02-16T03:42:37.403218Z"
    },
    "id": "7BkheTIsgU2b",
    "papermill": {
     "duration": 0.056309,
     "end_time": "2025-02-16T03:42:37.405858",
     "exception": false,
     "start_time": "2025-02-16T03:42:37.349549",
     "status": "completed"
    },
    "tags": []
   },
   "outputs": [
    {
     "data": {
      "text/html": [
       "<div>\n",
       "<style scoped>\n",
       "    .dataframe tbody tr th:only-of-type {\n",
       "        vertical-align: middle;\n",
       "    }\n",
       "\n",
       "    .dataframe tbody tr th {\n",
       "        vertical-align: top;\n",
       "    }\n",
       "\n",
       "    .dataframe thead th {\n",
       "        text-align: right;\n",
       "    }\n",
       "</style>\n",
       "<table border=\"1\" class=\"dataframe\">\n",
       "  <thead>\n",
       "    <tr style=\"text-align: right;\">\n",
       "      <th></th>\n",
       "      <th>model</th>\n",
       "      <th>precision</th>\n",
       "      <th>recall</th>\n",
       "      <th>F1</th>\n",
       "      <th>accuracy</th>\n",
       "    </tr>\n",
       "  </thead>\n",
       "  <tbody>\n",
       "    <tr>\n",
       "      <th>0</th>\n",
       "      <td>RF cv</td>\n",
       "      <td>0.457163</td>\n",
       "      <td>0.126782</td>\n",
       "      <td>0.198445</td>\n",
       "      <td>0.818510</td>\n",
       "    </tr>\n",
       "    <tr>\n",
       "      <th>0</th>\n",
       "      <td>XGB cv</td>\n",
       "      <td>0.425932</td>\n",
       "      <td>0.170826</td>\n",
       "      <td>0.243736</td>\n",
       "      <td>0.811866</td>\n",
       "    </tr>\n",
       "    <tr>\n",
       "      <th>0</th>\n",
       "      <td>RF val</td>\n",
       "      <td>0.445255</td>\n",
       "      <td>0.120316</td>\n",
       "      <td>0.189441</td>\n",
       "      <td>0.817483</td>\n",
       "    </tr>\n",
       "    <tr>\n",
       "      <th>0</th>\n",
       "      <td>XGB val</td>\n",
       "      <td>0.422680</td>\n",
       "      <td>0.161736</td>\n",
       "      <td>0.233951</td>\n",
       "      <td>0.812238</td>\n",
       "    </tr>\n",
       "    <tr>\n",
       "      <th>0</th>\n",
       "      <td>XGB test</td>\n",
       "      <td>0.423963</td>\n",
       "      <td>0.181460</td>\n",
       "      <td>0.254144</td>\n",
       "      <td>0.811189</td>\n",
       "    </tr>\n",
       "  </tbody>\n",
       "</table>\n",
       "</div>"
      ],
      "text/plain": [
       "      model  precision    recall        F1  accuracy\n",
       "0     RF cv   0.457163  0.126782  0.198445  0.818510\n",
       "0    XGB cv   0.425932  0.170826  0.243736  0.811866\n",
       "0    RF val   0.445255  0.120316  0.189441  0.817483\n",
       "0   XGB val   0.422680  0.161736  0.233951  0.812238\n",
       "0  XGB test   0.423963  0.181460  0.254144  0.811189"
      ]
     },
     "execution_count": 38,
     "metadata": {},
     "output_type": "execute_result"
    }
   ],
   "source": [
    "# Use XGBoost model to predict on test data\n",
    "### YOUR CODE HERE ###\n",
    "xgb_test_preds = xgb_cv.best_estimator_.predict(X_test)\n",
    "\n",
    "# Get test scores for XGBoost model\n",
    "### YOUR CODE HERE ###\n",
    "xgb_test_scores = get_test_scores('XGB test', xgb_test_preds, y_test)\n",
    "\n",
    "# Append to the results table\n",
    "### YOUR CODE HERE ###\n",
    "results = pd.concat([results, xgb_test_scores], axis=0)\n",
    "results"
   ]
  },
  {
   "cell_type": "markdown",
   "id": "c51a583a",
   "metadata": {
    "id": "F8L_LyIbgV1I",
    "papermill": {
     "duration": 0.01927,
     "end_time": "2025-02-16T03:42:37.444739",
     "exception": false,
     "start_time": "2025-02-16T03:42:37.425469",
     "status": "completed"
    },
    "tags": []
   },
   "source": [
    "The recall was exactly the same as it was on the validation data, but the precision declined notably, which caused all of the other scores to drop slightly. Nonetheless, this is stil within the acceptable range for performance discrepancy between validation and test scores."
   ]
  },
  {
   "cell_type": "markdown",
   "id": "8c3dd586",
   "metadata": {
    "id": "S5GNoz_QgWug",
    "papermill": {
     "duration": 0.019372,
     "end_time": "2025-02-16T03:42:37.483560",
     "exception": false,
     "start_time": "2025-02-16T03:42:37.464188",
     "status": "completed"
    },
    "tags": []
   },
   "source": [
    "### **Task 13. Confusion matrix**\n",
    "\n",
    "Plot a confusion matrix of the champion model's predictions on the test data."
   ]
  },
  {
   "cell_type": "code",
   "execution_count": 39,
   "id": "3d70ff7b",
   "metadata": {
    "execution": {
     "iopub.execute_input": "2025-02-16T03:42:37.524130Z",
     "iopub.status.busy": "2025-02-16T03:42:37.523758Z",
     "iopub.status.idle": "2025-02-16T03:42:37.852322Z",
     "shell.execute_reply": "2025-02-16T03:42:37.851060Z"
    },
    "id": "WF3KErX8gXPc",
    "papermill": {
     "duration": 0.350975,
     "end_time": "2025-02-16T03:42:37.854090",
     "exception": false,
     "start_time": "2025-02-16T03:42:37.503115",
     "status": "completed"
    },
    "tags": []
   },
   "outputs": [
    {
     "name": "stdout",
     "output_type": "stream",
     "text": [
      "[[2228  125]\n",
      " [ 415   92]]\n"
     ]
    },
    {
     "data": {
      "text/plain": [
       "<sklearn.metrics._plot.confusion_matrix.ConfusionMatrixDisplay at 0x7e882f7552a0>"
      ]
     },
     "execution_count": 39,
     "metadata": {},
     "output_type": "execute_result"
    },
    {
     "data": {
      "image/png": "[encoded data removed]",
      "text/plain": [
       "<Figure size 640x480 with 2 Axes>"
      ]
     },
     "metadata": {},
     "output_type": "display_data"
    }
   ],
   "source": [
    "# Generate array of values for confusion matrix\n",
    "### YOUR CODE HERE ###\n",
    "cm = confusion_matrix(y_test, xgb_test_preds, labels=xgb_cv.classes_)\n",
    "print(cm)\n",
    "\n",
    "# Plot confusion matrix\n",
    "### YOUR CODE HERE ###\n",
    "disp = ConfusionMatrixDisplay(confusion_matrix=cm, display_labels=['retained','churned'])\n",
    "disp.plot()"
   ]
  },
  {
   "cell_type": "markdown",
   "id": "3438a103",
   "metadata": {
    "id": "6xL4OujkgYC3",
    "papermill": {
     "duration": 0.023496,
     "end_time": "2025-02-16T03:42:37.899091",
     "exception": false,
     "start_time": "2025-02-16T03:42:37.875595",
     "status": "completed"
    },
    "tags": []
   },
   "source": [
    "The model predicted three times as many false negatives than it did false positives, and it correctly identified only 16.6% of the users who actually churned."
   ]
  },
  {
   "cell_type": "markdown",
   "id": "3a52133f",
   "metadata": {
    "id": "P33INGPmgY1o",
    "papermill": {
     "duration": 0.019894,
     "end_time": "2025-02-16T03:42:37.939605",
     "exception": false,
     "start_time": "2025-02-16T03:42:37.919711",
     "status": "completed"
    },
    "tags": []
   },
   "source": [
    "### **Task 14. Feature importance**\n",
    "\n",
    "Use the `plot_importance` function to inspect the most important features of your final model."
   ]
  },
  {
   "cell_type": "code",
   "execution_count": 40,
   "id": "cf1e6249",
   "metadata": {
    "execution": {
     "iopub.execute_input": "2025-02-16T03:42:37.981843Z",
     "iopub.status.busy": "2025-02-16T03:42:37.981476Z",
     "iopub.status.idle": "2025-02-16T03:42:38.390026Z",
     "shell.execute_reply": "2025-02-16T03:42:38.388968Z"
    },
    "id": "N4fc2i8XgZoE",
    "papermill": {
     "duration": 0.431595,
     "end_time": "2025-02-16T03:42:38.391767",
     "exception": false,
     "start_time": "2025-02-16T03:42:37.960172",
     "status": "completed"
    },
    "tags": []
   },
   "outputs": [
    {
     "data": {
      "text/plain": [
       "<Axes: title={'center': 'Feature importance'}, xlabel='F score', ylabel='Features'>"
      ]
     },
     "execution_count": 40,
     "metadata": {},
     "output_type": "execute_result"
    },
    {
     "data": {
      "image/png": "[encoded data removed]",
      "text/plain": [
       "<Figure size 640x480 with 1 Axes>"
      ]
     },
     "metadata": {},
     "output_type": "display_data"
    }
   ],
   "source": [
    "### YOUR CODE HERE ###\n",
    "plot_importance(xgb_cv.best_estimator_)"
   ]
  },
  {
   "cell_type": "markdown",
   "id": "39145970",
   "metadata": {
    "id": "EU3GIZNrga5z",
    "papermill": {
     "duration": 0.021746,
     "end_time": "2025-02-16T03:42:38.436452",
     "exception": false,
     "start_time": "2025-02-16T03:42:38.414706",
     "status": "completed"
    },
    "tags": []
   },
   "source": [
    "The XGBoost model made more use of many of the features than did the logistic regression model from the previous course, which weighted a single feature (`activity_days`) very heavily in its final prediction.\n",
    "\n",
    "If anything, this underscores the importance of feature engineering. Notice that engineered features accounted for six of the top 10 features (and three of the top five). Feature engineering is often one of the best and easiest ways to boost model performance.\n",
    "\n",
    "Also, note that the important features in one model might not be the same as the important features in another model. That's why you shouldn't discount features as unimportant without thoroughly examining them and understanding their relationship with the dependent variable, if possible. These discrepancies between features selected by models are typically caused by complex feature interactions.\n",
    "\n",
    "Remember, sometimes your data simply will not be predictive of your chosen target. This is common. Machine learning is a powerful tool, but it is not magic. If your data does not contain predictive signal, even the most complex algorithm will not be able to deliver consistent and accurate predictions. Do not be afraid to draw this conclusion.\n",
    "\n",
    "Even if you cannot use the model to make strong predictions, was the work done in vain? What insights can you report back to stakeholders?"
   ]
  },
  {
   "cell_type": "markdown",
   "id": "01d6178b",
   "metadata": {
    "id": "ill21hQ4ej9-",
    "papermill": {
     "duration": 0.02194,
     "end_time": "2025-02-16T03:42:38.480844",
     "exception": false,
     "start_time": "2025-02-16T03:42:38.458904",
     "status": "completed"
    },
    "tags": []
   },
   "source": [
    "### **Task 15. Conclusion**\n",
    "\n",
    "Now that you've built and tested your machine learning models, the next step is to share your findings with the Waze leadership team. Consider the following questions as you prepare to write your executive summary. Think about key points you may want to share with the team, and what information is most relevant to the user churn project.\n",
    "\n",
    "**Questions:**\n",
    "\n",
    "1. Would you recommend using this model for churn prediction? Why or why not?\n",
    "* The model did not provide very promising results but still it has its worth. \n",
    "* So, with the only available data, this model can be a base exploratory model. \n",
    "* This can be only used to focus on few of Waze's customer attributes those that contribute the most to customer churn and address them\n",
    "\n",
    "2. What tradeoff was made by splitting the data into training, validation, and test sets as opposed to just training and test sets?\n",
    "* by giving up on the amount of data available to train, a validation set was created. This serves in evaluating the models and having an idea on how the champion model functions in production (in unseen data)\n",
    "* the risk of the training data not being truly representative of the world is also a crucial problem  \n",
    "\n",
    "3. What is the benefit of using a logistic regression model over an ensemble of tree-based models (like random forest or XGBoost) for classification tasks?\n",
    "* Logistic regression has co-efficients for each feature that is used to train the model. These co-efficients are meaningful and can explained\n",
    "* Apart from the magnitude of the features' importance, the direction in which a target variable changes based on a feature's change can also be found\n",
    "* While ensemble of tree-based models are partially black box models, because only the important features that impact a target variable can be found\n",
    "* The linearity or non-linearity or any relation between target and each individual feature cannot be explained \n",
    "\n",
    "4. What is the benefit of using an ensemble of tree-based models like random forest or XGBoost over a logistic regression model for classification tasks?\n",
    "* tree based ensembles are better classifiers when compared to logistic regression model\n",
    "* they accommodate non-linear feature variables\n",
    "* the underlying distribution of the feature variables does NOT really matter\n",
    "* low amount of data pre-processing is required (scaling or standaradizing is not mandatory)\n",
    "* outliers doesn't influence the tree based ensemble models\n",
    "\n",
    "5. What could you do to improve this model?\n",
    "* when new and relevant data is available a new model can be built using it\n",
    "* SMEs can be consulted to check if there are any features that could be engineered which already have a record on being used to predict the customer churn\n",
    "\n",
    "6. What additional features would you like to have to help improve the model?\n",
    "* other contextual information containing features about the drive: weather, location, time of the day etc., for the driver: member since, membership type, type of vehicle etc. are few of the new features that can be included when developing a new model\n",
    "* eitherways, SMEs needs to be consulted before confirming on the new set of features "
   ]
  },
  {
   "cell_type": "markdown",
   "id": "85a874b0",
   "metadata": {
    "papermill": {
     "duration": 0.021552,
     "end_time": "2025-02-16T03:42:38.524559",
     "exception": false,
     "start_time": "2025-02-16T03:42:38.503007",
     "status": "completed"
    },
    "tags": []
   },
   "source": [
    "**Congratulations!** You've completed this lab. However, you may not notice a green check mark next to this item on Coursera's platform. Please continue your progress regardless of the check mark. Just click on the \"save\" icon at the top of this notebook to ensure your work has been logged."
   ]
  }
 ],
 "metadata": {
  "colab": {
   "provenance": [
    {
     "file_id": "1DHsmIEwaXUmfVT4tFzyOwyyfXAX0v6IF",
     "timestamp": 1675262571681
    },
    {
     "file_id": "1oNheYh5WbljxkvoK_BMkQTey2DWnFXMs",
     "timestamp": 1674856595373
    }
   ]
  },
  "kaggle": {
   "accelerator": "none",
   "dataSources": [
    {
     "datasetId": 6605803,
     "sourceId": 10666352,
     "sourceType": "datasetVersion"
    }
   ],
   "dockerImageVersionId": 30886,
   "isGpuEnabled": false,
   "isInternetEnabled": true,
   "language": "python",
   "sourceType": "notebook"
  },
  "kernelspec": {
   "display_name": "Python 3",
   "language": "python",
   "name": "python3"
  },
  "language_info": {
   "codemirror_mode": {
    "name": "ipython",
    "version": 3
   },
   "file_extension": ".py",
   "mimetype": "text/x-python",
   "name": "python",
   "nbconvert_exporter": "python",
   "pygments_lexer": "ipython3",
   "version": "3.10.12"
  },
  "papermill": {
   "default_parameters": {},
   "duration": 156.105702,
   "end_time": "2025-02-16T03:42:39.368681",
   "environment_variables": {},
   "exception": null,
   "input_path": "__notebook__.ipynb",
   "output_path": "__notebook__.ipynb",
   "parameters": {},
   "start_time": "2025-02-16T03:40:03.262979",
   "version": "2.6.0"
  }
 },
 "nbformat": 4,
 "nbformat_minor": 5
}
