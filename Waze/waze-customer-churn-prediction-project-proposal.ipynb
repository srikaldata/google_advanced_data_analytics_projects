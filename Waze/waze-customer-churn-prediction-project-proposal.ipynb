{
 "cells": [
  {
   "cell_type": "markdown",
   "id": "30ac204f",
   "metadata": {
    "papermill": {
     "duration": 0.002279,
     "end_time": "2025-02-03T01:23:47.718293",
     "exception": false,
     "start_time": "2025-02-03T01:23:47.716014",
     "status": "completed"
    },
    "tags": []
   },
   "source": [
    "# Waze customer churn prediction project proposal"
   ]
  },
  {
   "cell_type": "markdown",
   "id": "d44a5924",
   "metadata": {
    "papermill": {
     "duration": 0.001473,
     "end_time": "2025-02-03T01:23:47.721945",
     "exception": false,
     "start_time": "2025-02-03T01:23:47.720472",
     "status": "completed"
    },
    "tags": []
   },
   "source": [
    "# **Plan (1-2 days)**\n",
    "1. Understand which users churn\n",
    "2. Understand why users churn at Waze\n",
    "3. Find out when users churn (contextual)\n",
    "* Identify existing KPIs and their performance\n",
    "* Identify relevant datasets and sources\n",
    "## Project scope:\n",
    "* Churn prediction (classify cx who may churn)\n",
    "* Primary tool: python\n",
    "> **Approximately ~ 10-12 days**\n",
    "## Stakeholder needs:\n",
    "* **Users**: solve pain points (OR targeted incentives) \n",
    "* **Data team**: EDA with visuals\n",
    "* **Sr. PM**: Project plan, deliverables list, milestones, regular updates\n",
    "* **Data analysis director**: Model evaluation findings\n",
    "* **Finance head**: Budgetary info, cost saving info\n",
    "* **Ops lead**: Smooth integration of model into production\n",
    "* Clear and direct communication\n"
   ]
  },
  {
   "cell_type": "markdown",
   "id": "ac516778",
   "metadata": {
    "papermill": {
     "duration": 0.001409,
     "end_time": "2025-02-03T01:23:47.725091",
     "exception": false,
     "start_time": "2025-02-03T01:23:47.723682",
     "status": "completed"
    },
    "tags": []
   },
   "source": [
    "# **Analyze (2-4 days)**\n",
    "* Prepare analysis setup using existing data\n",
    "* Perform EDA \n",
    "* Find churning users\n",
    "* Find out important features (consult with SMEs to confirm)\n",
    "* Prepare data for the ML model \n"
   ]
  },
  {
   "cell_type": "markdown",
   "id": "6d774905",
   "metadata": {
    "papermill": {
     "duration": 0.001414,
     "end_time": "2025-02-03T01:23:47.728176",
     "exception": false,
     "start_time": "2025-02-03T01:23:47.726762",
     "status": "completed"
    },
    "tags": []
   },
   "source": [
    "# **Construct (2-3 days)**\n",
    "* Classification models w threshold (OR prediction models w probability outcome)\n",
    "* Evaluate models → CV, Precision, Recall, Accuracy, F1 score\n",
    "* Compare performances\n"
   ]
  },
  {
   "cell_type": "markdown",
   "id": "8cc3f3bc",
   "metadata": {
    "papermill": {
     "duration": 0.001433,
     "end_time": "2025-02-03T01:23:47.731218",
     "exception": false,
     "start_time": "2025-02-03T01:23:47.729785",
     "status": "completed"
    },
    "tags": []
   },
   "source": [
    "# **Execute (1-2 days)**\n",
    "* Determine whether the constructed model meets project requirements\n",
    "* Executive reports, visualizations → (EDA to Model evaluation journey)\n",
    "* Feedback and make changes throughout the PACE pipeline"
   ]
  }
 ],
 "metadata": {
  "kaggle": {
   "accelerator": "none",
   "dataSources": [],
   "isGpuEnabled": false,
   "isInternetEnabled": true,
   "language": "python",
   "sourceType": "notebook"
  },
  "kernelspec": {
   "display_name": "Python 3",
   "language": "python",
   "name": "python3"
  },
  "language_info": {
   "codemirror_mode": {
    "name": "ipython",
    "version": 3
   },
   "file_extension": ".py",
   "mimetype": "text/x-python",
   "name": "python",
   "nbconvert_exporter": "python",
   "pygments_lexer": "ipython3",
   "version": "3.10.12"
  },
  "papermill": {
   "default_parameters": {},
   "duration": 3.266003,
   "end_time": "2025-02-03T01:23:48.153252",
   "environment_variables": {},
   "exception": null,
   "input_path": "__notebook__.ipynb",
   "output_path": "__notebook__.ipynb",
   "parameters": {},
   "start_time": "2025-02-03T01:23:44.887249",
   "version": "2.6.0"
  }
 },
 "nbformat": 4,
 "nbformat_minor": 5
}
