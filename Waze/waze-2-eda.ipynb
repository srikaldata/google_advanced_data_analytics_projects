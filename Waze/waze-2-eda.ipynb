{
 "cells": [
  {
   "cell_type": "markdown",
   "id": "6686d87c",
   "metadata": {
    "id": "DtNBZFHO3M7n",
    "papermill": {
     "duration": 0.018366,
     "end_time": "2025-02-07T06:11:35.738720",
     "exception": false,
     "start_time": "2025-02-07T06:11:35.720354",
     "status": "completed"
    },
    "tags": []
   },
   "source": [
    "# **Waze Project**\n",
    "**Course 3 - Go Beyond the Numbers: Translate Data into Insights**"
   ]
  },
  {
   "cell_type": "markdown",
   "id": "e0b2cfb0",
   "metadata": {
    "id": "g-E8SNtmRUkN",
    "papermill": {
     "duration": 0.016973,
     "end_time": "2025-02-07T06:11:35.773583",
     "exception": false,
     "start_time": "2025-02-07T06:11:35.756610",
     "status": "completed"
    },
    "tags": []
   },
   "source": [
    "Your team is still in the early stages of their user churn project. So far, you’ve completed a project proposal and used Python to inspect and organize Waze’s user data.\n",
    "\n",
    "You check your inbox and notice a new message from Chidi Ga, your team’s Senior Data Analyst. Chidi is pleased with the work you have already completed and requests your assistance with exploratory data analysis (EDA) and further data visualization. Harriet Hadzic, Waze's Director of Data Analysis, will want to review a Python notebook that shows your data exploration and visualization.\n",
    "\n",
    "A notebook was structured and prepared to help you in this project. Please complete the following questions and prepare an executive summary."
   ]
  },
  {
   "cell_type": "markdown",
   "id": "a1a47f31",
   "metadata": {
    "id": "rgSbVJvomcVa",
    "papermill": {
     "duration": 0.0168,
     "end_time": "2025-02-07T06:11:35.808541",
     "exception": false,
     "start_time": "2025-02-07T06:11:35.791741",
     "status": "completed"
    },
    "tags": []
   },
   "source": [
    "# **Course 3 End-of-course project: Exploratory data analysis**\n",
    "\n",
    "In this activity, you will examine data provided and prepare it for analysis.\n",
    "<br/>\n",
    "\n",
    "**The purpose** of this project is to conduct exploratory data analysis (EDA) on a provided dataset.\n",
    "\n",
    "**The goal** is to continue the examination of the data that you began in the previous Course, adding relevant visualizations that help communicate the story that the data tells.\n",
    "<br/>\n",
    "\n",
    "\n",
    "*This activity has 4 parts:*\n",
    "\n",
    "**Part 1:** Imports, links, and loading\n",
    "\n",
    "**Part 2:** Data Exploration\n",
    "*   Data cleaning\n",
    "\n",
    "\n",
    "**Part 3:** Building visualizations\n",
    "\n",
    "**Part 4:** Evaluating and sharing results\n",
    "\n",
    "<br/>\n",
    "\n",
    "\n",
    "Follow the instructions and answer the question below to complete the activity. Then, you will complete an executive summary using the questions listed on the [PACE Strategy Document ](https://docs.google.com/document/d/1iSHdbfQR6w8RClJNWai8oJXn9tQmYoTKn6QohuaK4-s/template/preview?resourcekey=0-ZIHnbxL1dd2u9A47iEVXvg).\n",
    "\n",
    "Be sure to complete this activity before moving on. The next course item will provide you with a completed exemplar to compare to your own work."
   ]
  },
  {
   "cell_type": "markdown",
   "id": "794ef150",
   "metadata": {
    "id": "9D43bTW0zOlX",
    "papermill": {
     "duration": 0.016716,
     "end_time": "2025-02-07T06:11:35.843094",
     "exception": false,
     "start_time": "2025-02-07T06:11:35.826378",
     "status": "completed"
    },
    "tags": []
   },
   "source": [
    "# **Visualize a story in Python**"
   ]
  },
  {
   "cell_type": "markdown",
   "id": "a61399c1",
   "metadata": {
    "id": "rdR5eWbYx8GE",
    "papermill": {
     "duration": 0.0165,
     "end_time": "2025-02-07T06:11:35.876892",
     "exception": false,
     "start_time": "2025-02-07T06:11:35.860392",
     "status": "completed"
    },
    "tags": []
   },
   "source": [
    "<img src=\"images/Pace.png\" width=\"100\" height=\"100\" align=left>\n",
    "\n",
    "# **PACE stages**\n"
   ]
  },
  {
   "cell_type": "markdown",
   "id": "6602d3f1",
   "metadata": {
    "id": "diPme_MzeshF",
    "papermill": {
     "duration": 0.016176,
     "end_time": "2025-02-07T06:11:35.909615",
     "exception": false,
     "start_time": "2025-02-07T06:11:35.893439",
     "status": "completed"
    },
    "tags": []
   },
   "source": [
    "Throughout these project notebooks, you'll see references to the problem-solving framework PACE. The following notebook components are labeled with the respective PACE stage: Plan, Analyze, Construct, and Execute."
   ]
  },
  {
   "cell_type": "markdown",
   "id": "c1d0c83a",
   "metadata": {
    "id": "xKLZJUqMx8GE",
    "papermill": {
     "duration": 0.016792,
     "end_time": "2025-02-07T06:11:35.943335",
     "exception": false,
     "start_time": "2025-02-07T06:11:35.926543",
     "status": "completed"
    },
    "tags": []
   },
   "source": [
    "<img src=\"images/Plan.png\" width=\"100\" height=\"100\" align=left>\n",
    "\n",
    "\n",
    "## **PACE: Plan**\n",
    "\n",
    "Consider the questions in your PACE Strategy Document to reflect on the Plan stage.\n",
    "\n"
   ]
  },
  {
   "cell_type": "markdown",
   "id": "e5083522",
   "metadata": {
    "id": "SKur6gTPRcvy",
    "papermill": {
     "duration": 0.016888,
     "end_time": "2025-02-07T06:11:35.976738",
     "exception": false,
     "start_time": "2025-02-07T06:11:35.959850",
     "status": "completed"
    },
    "tags": []
   },
   "source": [
    "### **Task 1. Imports and data loading**\n",
    "\n",
    "For EDA of the data, import the data and packages that will be most helpful, such as pandas, numpy, and matplotlib.\n",
    "\n",
    "\n"
   ]
  },
  {
   "cell_type": "code",
   "execution_count": 1,
   "id": "08511ccc",
   "metadata": {
    "execution": {
     "iopub.execute_input": "2025-02-07T06:11:36.011417Z",
     "iopub.status.busy": "2025-02-07T06:11:36.011006Z",
     "iopub.status.idle": "2025-02-07T06:11:39.052469Z",
     "shell.execute_reply": "2025-02-07T06:11:39.051403Z"
    },
    "id": "EO8vKZI8x8GF",
    "papermill": {
     "duration": 3.06189,
     "end_time": "2025-02-07T06:11:39.055354",
     "exception": false,
     "start_time": "2025-02-07T06:11:35.993464",
     "status": "completed"
    },
    "tags": []
   },
   "outputs": [],
   "source": [
    "### YOUR CODE HERE ###\n",
    "import numpy as np\n",
    "import pandas as pd\n",
    "import matplotlib.pyplot as plt\n",
    "import seaborn as sns\n"
   ]
  },
  {
   "cell_type": "markdown",
   "id": "89658fc1",
   "metadata": {
    "id": "Rf1WWIBW48QC",
    "papermill": {
     "duration": 0.020334,
     "end_time": "2025-02-07T06:11:39.094247",
     "exception": false,
     "start_time": "2025-02-07T06:11:39.073913",
     "status": "completed"
    },
    "tags": []
   },
   "source": [
    "Read in the data and store it as a dataframe object called df.\n",
    "\n",
    "**Note:** As shown in this cell, the dataset has been automatically loaded in for you. You do not need to download the .csv file, or provide more code, in order to access the dataset and proceed with this lab. Please continue with this activity by completing the following instructions."
   ]
  },
  {
   "cell_type": "code",
   "execution_count": 2,
   "id": "be0ff690",
   "metadata": {
    "execution": {
     "iopub.execute_input": "2025-02-07T06:11:39.133149Z",
     "iopub.status.busy": "2025-02-07T06:11:39.132603Z",
     "iopub.status.idle": "2025-02-07T06:11:39.194982Z",
     "shell.execute_reply": "2025-02-07T06:11:39.193569Z"
    },
    "id": "w7XSDxoqyF9D",
    "papermill": {
     "duration": 0.082596,
     "end_time": "2025-02-07T06:11:39.197436",
     "exception": false,
     "start_time": "2025-02-07T06:11:39.114840",
     "status": "completed"
    },
    "scrolled": true,
    "tags": []
   },
   "outputs": [],
   "source": [
    "# Load the dataset into a dataframe\n",
    "df = pd.read_csv('/kaggle/input/waze-dataset-1/waze_dataset.csv')"
   ]
  },
  {
   "cell_type": "markdown",
   "id": "df82c834",
   "metadata": {
    "id": "3mipEiyZx8GI",
    "papermill": {
     "duration": 0.016335,
     "end_time": "2025-02-07T06:11:39.230585",
     "exception": false,
     "start_time": "2025-02-07T06:11:39.214250",
     "status": "completed"
    },
    "tags": []
   },
   "source": [
    "<img src=\"images/Analyze.png\" width=\"100\" height=\"100\" align=left>\n",
    "\n",
    "## **PACE: Analyze**\n",
    "\n",
    "Consider the questions in your PACE Strategy Document and those below where applicable to complete your code:\n",
    "1. Does the data need to be restructured or converted into usable formats?\n",
    "\n",
    "2. Are there any variables that have missing data?\n"
   ]
  },
  {
   "cell_type": "markdown",
   "id": "dd8d73eb",
   "metadata": {
    "id": "VZiH_pEMNm_M",
    "papermill": {
     "duration": 0.016819,
     "end_time": "2025-02-07T06:11:39.264579",
     "exception": false,
     "start_time": "2025-02-07T06:11:39.247760",
     "status": "completed"
    },
    "tags": []
   },
   "source": [
    "1. the dataset is structured. each record is a user using Waze\n",
    "2. YES. 700 rows in the 'label' column is missing"
   ]
  },
  {
   "cell_type": "markdown",
   "id": "f1910ee9",
   "metadata": {
    "id": "n09krlKWRw_2",
    "papermill": {
     "duration": 0.016154,
     "end_time": "2025-02-07T06:11:39.298979",
     "exception": false,
     "start_time": "2025-02-07T06:11:39.282825",
     "status": "completed"
    },
    "tags": []
   },
   "source": [
    "### **Task 2. Data exploration and cleaning**\n",
    "\n",
    "Consider the following questions:\n",
    "\n",
    "\n",
    "\n",
    "1.  Given the scenario, which data columns are most applicable?\n",
    "\n",
    "2.  Which data columns can you eliminate, knowing they won’t solve your problem scenario?\n",
    "\n",
    "3.  How would you check for missing data? And how would you handle missing data (if any)?\n",
    "\n",
    "4.  How would you check for outliers? And how would handle outliers (if any)?\n",
    "\n",
    "\n",
    "\n",
    "\n",
    "\n"
   ]
  },
  {
   "cell_type": "markdown",
   "id": "0af1bed7",
   "metadata": {
    "id": "WQDcGzfANuSe",
    "papermill": {
     "duration": 0.016891,
     "end_time": "2025-02-07T06:11:39.333400",
     "exception": false,
     "start_time": "2025-02-07T06:11:39.316509",
     "status": "completed"
    },
    "tags": []
   },
   "source": [
    "* label is the dependendent / target variable. Apart from ID all other features are applicable to solve the problem at stake. All features needs to be investigated to determine its importance.\n",
    "* ID can be removed after checking for duplicates\n",
    "* we can use isnull() isna() methods to create a boolean mask and determine missing (NULL/NA) data \n",
    "* median + or - IQR will provide the upper and lower thresholds for outliers. Any point outside the threshold can be examined and decided whether if those outliers are natural or are a product of errors"
   ]
  },
  {
   "cell_type": "markdown",
   "id": "012e0490",
   "metadata": {
    "id": "uk6zuv_mUU2k",
    "papermill": {
     "duration": 0.016764,
     "end_time": "2025-02-07T06:11:39.367354",
     "exception": false,
     "start_time": "2025-02-07T06:11:39.350590",
     "status": "completed"
    },
    "tags": []
   },
   "source": [
    "#### **Data overview and summary statistics**\n",
    "\n",
    "Use the following methods and attributes on the dataframe:\n",
    "\n",
    "* `head()`\n",
    "* `size`\n",
    "* `describe()`\n",
    "* `info()`\n",
    "\n",
    "It's always helpful to have this information at the beginning of a project, where you can always refer back to if needed."
   ]
  },
  {
   "cell_type": "code",
   "execution_count": 3,
   "id": "06726544",
   "metadata": {
    "execution": {
     "iopub.execute_input": "2025-02-07T06:11:39.403934Z",
     "iopub.status.busy": "2025-02-07T06:11:39.403507Z",
     "iopub.status.idle": "2025-02-07T06:11:39.433809Z",
     "shell.execute_reply": "2025-02-07T06:11:39.432619Z"
    },
    "id": "cBOUo5p-tbib",
    "papermill": {
     "duration": 0.049851,
     "end_time": "2025-02-07T06:11:39.435757",
     "exception": false,
     "start_time": "2025-02-07T06:11:39.385906",
     "status": "completed"
    },
    "tags": []
   },
   "outputs": [
    {
     "data": {
      "text/html": [
       "<div>\n",
       "<style scoped>\n",
       "    .dataframe tbody tr th:only-of-type {\n",
       "        vertical-align: middle;\n",
       "    }\n",
       "\n",
       "    .dataframe tbody tr th {\n",
       "        vertical-align: top;\n",
       "    }\n",
       "\n",
       "    .dataframe thead th {\n",
       "        text-align: right;\n",
       "    }\n",
       "</style>\n",
       "<table border=\"1\" class=\"dataframe\">\n",
       "  <thead>\n",
       "    <tr style=\"text-align: right;\">\n",
       "      <th></th>\n",
       "      <th>ID</th>\n",
       "      <th>label</th>\n",
       "      <th>sessions</th>\n",
       "      <th>drives</th>\n",
       "      <th>total_sessions</th>\n",
       "      <th>n_days_after_onboarding</th>\n",
       "      <th>total_navigations_fav1</th>\n",
       "      <th>total_navigations_fav2</th>\n",
       "      <th>driven_km_drives</th>\n",
       "      <th>duration_minutes_drives</th>\n",
       "      <th>activity_days</th>\n",
       "      <th>driving_days</th>\n",
       "      <th>device</th>\n",
       "    </tr>\n",
       "  </thead>\n",
       "  <tbody>\n",
       "    <tr>\n",
       "      <th>0</th>\n",
       "      <td>0</td>\n",
       "      <td>retained</td>\n",
       "      <td>283</td>\n",
       "      <td>226</td>\n",
       "      <td>296.748273</td>\n",
       "      <td>2276</td>\n",
       "      <td>208</td>\n",
       "      <td>0</td>\n",
       "      <td>2628.845068</td>\n",
       "      <td>1985.775061</td>\n",
       "      <td>28</td>\n",
       "      <td>19</td>\n",
       "      <td>Android</td>\n",
       "    </tr>\n",
       "    <tr>\n",
       "      <th>1</th>\n",
       "      <td>1</td>\n",
       "      <td>retained</td>\n",
       "      <td>133</td>\n",
       "      <td>107</td>\n",
       "      <td>326.896596</td>\n",
       "      <td>1225</td>\n",
       "      <td>19</td>\n",
       "      <td>64</td>\n",
       "      <td>13715.920550</td>\n",
       "      <td>3160.472914</td>\n",
       "      <td>13</td>\n",
       "      <td>11</td>\n",
       "      <td>iPhone</td>\n",
       "    </tr>\n",
       "    <tr>\n",
       "      <th>2</th>\n",
       "      <td>2</td>\n",
       "      <td>retained</td>\n",
       "      <td>114</td>\n",
       "      <td>95</td>\n",
       "      <td>135.522926</td>\n",
       "      <td>2651</td>\n",
       "      <td>0</td>\n",
       "      <td>0</td>\n",
       "      <td>3059.148818</td>\n",
       "      <td>1610.735904</td>\n",
       "      <td>14</td>\n",
       "      <td>8</td>\n",
       "      <td>Android</td>\n",
       "    </tr>\n",
       "    <tr>\n",
       "      <th>3</th>\n",
       "      <td>3</td>\n",
       "      <td>retained</td>\n",
       "      <td>49</td>\n",
       "      <td>40</td>\n",
       "      <td>67.589221</td>\n",
       "      <td>15</td>\n",
       "      <td>322</td>\n",
       "      <td>7</td>\n",
       "      <td>913.591123</td>\n",
       "      <td>587.196542</td>\n",
       "      <td>7</td>\n",
       "      <td>3</td>\n",
       "      <td>iPhone</td>\n",
       "    </tr>\n",
       "    <tr>\n",
       "      <th>4</th>\n",
       "      <td>4</td>\n",
       "      <td>retained</td>\n",
       "      <td>84</td>\n",
       "      <td>68</td>\n",
       "      <td>168.247020</td>\n",
       "      <td>1562</td>\n",
       "      <td>166</td>\n",
       "      <td>5</td>\n",
       "      <td>3950.202008</td>\n",
       "      <td>1219.555924</td>\n",
       "      <td>27</td>\n",
       "      <td>18</td>\n",
       "      <td>Android</td>\n",
       "    </tr>\n",
       "  </tbody>\n",
       "</table>\n",
       "</div>"
      ],
      "text/plain": [
       "   ID     label  sessions  drives  total_sessions  n_days_after_onboarding  \\\n",
       "0   0  retained       283     226      296.748273                     2276   \n",
       "1   1  retained       133     107      326.896596                     1225   \n",
       "2   2  retained       114      95      135.522926                     2651   \n",
       "3   3  retained        49      40       67.589221                       15   \n",
       "4   4  retained        84      68      168.247020                     1562   \n",
       "\n",
       "   total_navigations_fav1  total_navigations_fav2  driven_km_drives  \\\n",
       "0                     208                       0       2628.845068   \n",
       "1                      19                      64      13715.920550   \n",
       "2                       0                       0       3059.148818   \n",
       "3                     322                       7        913.591123   \n",
       "4                     166                       5       3950.202008   \n",
       "\n",
       "   duration_minutes_drives  activity_days  driving_days   device  \n",
       "0              1985.775061             28            19  Android  \n",
       "1              3160.472914             13            11   iPhone  \n",
       "2              1610.735904             14             8  Android  \n",
       "3               587.196542              7             3   iPhone  \n",
       "4              1219.555924             27            18  Android  "
      ]
     },
     "execution_count": 3,
     "metadata": {},
     "output_type": "execute_result"
    }
   ],
   "source": [
    "### YOUR CODE HERE ###\n",
    "# viewing the first 5 rows\n",
    "df.head()"
   ]
  },
  {
   "cell_type": "code",
   "execution_count": 4,
   "id": "08daadb4",
   "metadata": {
    "execution": {
     "iopub.execute_input": "2025-02-07T06:11:39.529360Z",
     "iopub.status.busy": "2025-02-07T06:11:39.528902Z",
     "iopub.status.idle": "2025-02-07T06:11:39.536353Z",
     "shell.execute_reply": "2025-02-07T06:11:39.535269Z"
    },
    "id": "S3tza5fNfIMo",
    "papermill": {
     "duration": 0.085136,
     "end_time": "2025-02-07T06:11:39.538083",
     "exception": false,
     "start_time": "2025-02-07T06:11:39.452947",
     "status": "completed"
    },
    "tags": []
   },
   "outputs": [
    {
     "data": {
      "text/plain": [
       "194987"
      ]
     },
     "execution_count": 4,
     "metadata": {},
     "output_type": "execute_result"
    }
   ],
   "source": [
    "### YOUR CODE HERE ###\n",
    "\n",
    "# size of the df (rows multiplies by columns)\n",
    "df.size"
   ]
  },
  {
   "cell_type": "markdown",
   "id": "cc154a07",
   "metadata": {
    "id": "WulP4lZ9UVgy",
    "papermill": {
     "duration": 0.017362,
     "end_time": "2025-02-07T06:11:39.572501",
     "exception": false,
     "start_time": "2025-02-07T06:11:39.555139",
     "status": "completed"
    },
    "tags": []
   },
   "source": [
    "Generate summary statistics using the `describe()` method."
   ]
  },
  {
   "cell_type": "code",
   "execution_count": 5,
   "id": "d1a0ebde",
   "metadata": {
    "execution": {
     "iopub.execute_input": "2025-02-07T06:11:39.608435Z",
     "iopub.status.busy": "2025-02-07T06:11:39.608043Z",
     "iopub.status.idle": "2025-02-07T06:11:39.654100Z",
     "shell.execute_reply": "2025-02-07T06:11:39.653033Z"
    },
    "id": "fhPkaaqDR99b",
    "papermill": {
     "duration": 0.066302,
     "end_time": "2025-02-07T06:11:39.655907",
     "exception": false,
     "start_time": "2025-02-07T06:11:39.589605",
     "status": "completed"
    },
    "tags": []
   },
   "outputs": [
    {
     "data": {
      "text/html": [
       "<div>\n",
       "<style scoped>\n",
       "    .dataframe tbody tr th:only-of-type {\n",
       "        vertical-align: middle;\n",
       "    }\n",
       "\n",
       "    .dataframe tbody tr th {\n",
       "        vertical-align: top;\n",
       "    }\n",
       "\n",
       "    .dataframe thead th {\n",
       "        text-align: right;\n",
       "    }\n",
       "</style>\n",
       "<table border=\"1\" class=\"dataframe\">\n",
       "  <thead>\n",
       "    <tr style=\"text-align: right;\">\n",
       "      <th></th>\n",
       "      <th>ID</th>\n",
       "      <th>sessions</th>\n",
       "      <th>drives</th>\n",
       "      <th>total_sessions</th>\n",
       "      <th>n_days_after_onboarding</th>\n",
       "      <th>total_navigations_fav1</th>\n",
       "      <th>total_navigations_fav2</th>\n",
       "      <th>driven_km_drives</th>\n",
       "      <th>duration_minutes_drives</th>\n",
       "      <th>activity_days</th>\n",
       "      <th>driving_days</th>\n",
       "    </tr>\n",
       "  </thead>\n",
       "  <tbody>\n",
       "    <tr>\n",
       "      <th>count</th>\n",
       "      <td>14999.000000</td>\n",
       "      <td>14999.000000</td>\n",
       "      <td>14999.000000</td>\n",
       "      <td>14999.000000</td>\n",
       "      <td>14999.000000</td>\n",
       "      <td>14999.000000</td>\n",
       "      <td>14999.000000</td>\n",
       "      <td>14999.000000</td>\n",
       "      <td>14999.000000</td>\n",
       "      <td>14999.000000</td>\n",
       "      <td>14999.000000</td>\n",
       "    </tr>\n",
       "    <tr>\n",
       "      <th>mean</th>\n",
       "      <td>7499.000000</td>\n",
       "      <td>80.633776</td>\n",
       "      <td>67.281152</td>\n",
       "      <td>189.964447</td>\n",
       "      <td>1749.837789</td>\n",
       "      <td>121.605974</td>\n",
       "      <td>29.672512</td>\n",
       "      <td>4039.340921</td>\n",
       "      <td>1860.976012</td>\n",
       "      <td>15.537102</td>\n",
       "      <td>12.179879</td>\n",
       "    </tr>\n",
       "    <tr>\n",
       "      <th>std</th>\n",
       "      <td>4329.982679</td>\n",
       "      <td>80.699065</td>\n",
       "      <td>65.913872</td>\n",
       "      <td>136.405128</td>\n",
       "      <td>1008.513876</td>\n",
       "      <td>148.121544</td>\n",
       "      <td>45.394651</td>\n",
       "      <td>2502.149334</td>\n",
       "      <td>1446.702288</td>\n",
       "      <td>9.004655</td>\n",
       "      <td>7.824036</td>\n",
       "    </tr>\n",
       "    <tr>\n",
       "      <th>min</th>\n",
       "      <td>0.000000</td>\n",
       "      <td>0.000000</td>\n",
       "      <td>0.000000</td>\n",
       "      <td>0.220211</td>\n",
       "      <td>4.000000</td>\n",
       "      <td>0.000000</td>\n",
       "      <td>0.000000</td>\n",
       "      <td>60.441250</td>\n",
       "      <td>18.282082</td>\n",
       "      <td>0.000000</td>\n",
       "      <td>0.000000</td>\n",
       "    </tr>\n",
       "    <tr>\n",
       "      <th>25%</th>\n",
       "      <td>3749.500000</td>\n",
       "      <td>23.000000</td>\n",
       "      <td>20.000000</td>\n",
       "      <td>90.661156</td>\n",
       "      <td>878.000000</td>\n",
       "      <td>9.000000</td>\n",
       "      <td>0.000000</td>\n",
       "      <td>2212.600607</td>\n",
       "      <td>835.996260</td>\n",
       "      <td>8.000000</td>\n",
       "      <td>5.000000</td>\n",
       "    </tr>\n",
       "    <tr>\n",
       "      <th>50%</th>\n",
       "      <td>7499.000000</td>\n",
       "      <td>56.000000</td>\n",
       "      <td>48.000000</td>\n",
       "      <td>159.568115</td>\n",
       "      <td>1741.000000</td>\n",
       "      <td>71.000000</td>\n",
       "      <td>9.000000</td>\n",
       "      <td>3493.858085</td>\n",
       "      <td>1478.249859</td>\n",
       "      <td>16.000000</td>\n",
       "      <td>12.000000</td>\n",
       "    </tr>\n",
       "    <tr>\n",
       "      <th>75%</th>\n",
       "      <td>11248.500000</td>\n",
       "      <td>112.000000</td>\n",
       "      <td>93.000000</td>\n",
       "      <td>254.192341</td>\n",
       "      <td>2623.500000</td>\n",
       "      <td>178.000000</td>\n",
       "      <td>43.000000</td>\n",
       "      <td>5289.861262</td>\n",
       "      <td>2464.362632</td>\n",
       "      <td>23.000000</td>\n",
       "      <td>19.000000</td>\n",
       "    </tr>\n",
       "    <tr>\n",
       "      <th>max</th>\n",
       "      <td>14998.000000</td>\n",
       "      <td>743.000000</td>\n",
       "      <td>596.000000</td>\n",
       "      <td>1216.154633</td>\n",
       "      <td>3500.000000</td>\n",
       "      <td>1236.000000</td>\n",
       "      <td>415.000000</td>\n",
       "      <td>21183.401890</td>\n",
       "      <td>15851.727160</td>\n",
       "      <td>31.000000</td>\n",
       "      <td>30.000000</td>\n",
       "    </tr>\n",
       "  </tbody>\n",
       "</table>\n",
       "</div>"
      ],
      "text/plain": [
       "                 ID      sessions        drives  total_sessions  \\\n",
       "count  14999.000000  14999.000000  14999.000000    14999.000000   \n",
       "mean    7499.000000     80.633776     67.281152      189.964447   \n",
       "std     4329.982679     80.699065     65.913872      136.405128   \n",
       "min        0.000000      0.000000      0.000000        0.220211   \n",
       "25%     3749.500000     23.000000     20.000000       90.661156   \n",
       "50%     7499.000000     56.000000     48.000000      159.568115   \n",
       "75%    11248.500000    112.000000     93.000000      254.192341   \n",
       "max    14998.000000    743.000000    596.000000     1216.154633   \n",
       "\n",
       "       n_days_after_onboarding  total_navigations_fav1  \\\n",
       "count             14999.000000            14999.000000   \n",
       "mean               1749.837789              121.605974   \n",
       "std                1008.513876              148.121544   \n",
       "min                   4.000000                0.000000   \n",
       "25%                 878.000000                9.000000   \n",
       "50%                1741.000000               71.000000   \n",
       "75%                2623.500000              178.000000   \n",
       "max                3500.000000             1236.000000   \n",
       "\n",
       "       total_navigations_fav2  driven_km_drives  duration_minutes_drives  \\\n",
       "count            14999.000000      14999.000000             14999.000000   \n",
       "mean                29.672512       4039.340921              1860.976012   \n",
       "std                 45.394651       2502.149334              1446.702288   \n",
       "min                  0.000000         60.441250                18.282082   \n",
       "25%                  0.000000       2212.600607               835.996260   \n",
       "50%                  9.000000       3493.858085              1478.249859   \n",
       "75%                 43.000000       5289.861262              2464.362632   \n",
       "max                415.000000      21183.401890             15851.727160   \n",
       "\n",
       "       activity_days  driving_days  \n",
       "count   14999.000000  14999.000000  \n",
       "mean       15.537102     12.179879  \n",
       "std         9.004655      7.824036  \n",
       "min         0.000000      0.000000  \n",
       "25%         8.000000      5.000000  \n",
       "50%        16.000000     12.000000  \n",
       "75%        23.000000     19.000000  \n",
       "max        31.000000     30.000000  "
      ]
     },
     "execution_count": 5,
     "metadata": {},
     "output_type": "execute_result"
    }
   ],
   "source": [
    "### YOUR CODE HERE ###\n",
    "\n",
    "# summary stats of the df\n",
    "df.describe()"
   ]
  },
  {
   "cell_type": "markdown",
   "id": "3efb29fa",
   "metadata": {
    "id": "psmn0VD0UWBk",
    "papermill": {
     "duration": 0.017315,
     "end_time": "2025-02-07T06:11:39.690657",
     "exception": false,
     "start_time": "2025-02-07T06:11:39.673342",
     "status": "completed"
    },
    "tags": []
   },
   "source": [
    "And summary information using the `info()` method."
   ]
  },
  {
   "cell_type": "code",
   "execution_count": 6,
   "id": "53393bac",
   "metadata": {
    "execution": {
     "iopub.execute_input": "2025-02-07T06:11:39.727493Z",
     "iopub.status.busy": "2025-02-07T06:11:39.727047Z",
     "iopub.status.idle": "2025-02-07T06:11:39.754441Z",
     "shell.execute_reply": "2025-02-07T06:11:39.753165Z"
    },
    "id": "Thlb8oiyUPwe",
    "papermill": {
     "duration": 0.047964,
     "end_time": "2025-02-07T06:11:39.756135",
     "exception": false,
     "start_time": "2025-02-07T06:11:39.708171",
     "status": "completed"
    },
    "tags": []
   },
   "outputs": [
    {
     "name": "stdout",
     "output_type": "stream",
     "text": [
      "<class 'pandas.core.frame.DataFrame'>\n",
      "RangeIndex: 14999 entries, 0 to 14998\n",
      "Data columns (total 13 columns):\n",
      " #   Column                   Non-Null Count  Dtype  \n",
      "---  ------                   --------------  -----  \n",
      " 0   ID                       14999 non-null  int64  \n",
      " 1   label                    14299 non-null  object \n",
      " 2   sessions                 14999 non-null  int64  \n",
      " 3   drives                   14999 non-null  int64  \n",
      " 4   total_sessions           14999 non-null  float64\n",
      " 5   n_days_after_onboarding  14999 non-null  int64  \n",
      " 6   total_navigations_fav1   14999 non-null  int64  \n",
      " 7   total_navigations_fav2   14999 non-null  int64  \n",
      " 8   driven_km_drives         14999 non-null  float64\n",
      " 9   duration_minutes_drives  14999 non-null  float64\n",
      " 10  activity_days            14999 non-null  int64  \n",
      " 11  driving_days             14999 non-null  int64  \n",
      " 12  device                   14999 non-null  object \n",
      "dtypes: float64(3), int64(8), object(2)\n",
      "memory usage: 1.5+ MB\n"
     ]
    }
   ],
   "source": [
    "### YOUR CODE HERE ###\n",
    "\n",
    "# information about each column of the df\n",
    "df.info()"
   ]
  },
  {
   "cell_type": "markdown",
   "id": "b19e5a38",
   "metadata": {
    "id": "f0sHpfkhx8GM",
    "papermill": {
     "duration": 0.01704,
     "end_time": "2025-02-07T06:11:39.791154",
     "exception": false,
     "start_time": "2025-02-07T06:11:39.774114",
     "status": "completed"
    },
    "tags": []
   },
   "source": [
    "<img src=\"images/Construct.png\" width=\"100\" height=\"100\" align=left>\n",
    "\n",
    "## **PACE: Construct**\n",
    "\n",
    "Consider the questions in your PACE Strategy Document to reflect on the Construct stage."
   ]
  },
  {
   "cell_type": "markdown",
   "id": "2e680077",
   "metadata": {
    "id": "zXjMMPoARVPm",
    "papermill": {
     "duration": 0.018537,
     "end_time": "2025-02-07T06:11:39.828093",
     "exception": false,
     "start_time": "2025-02-07T06:11:39.809556",
     "status": "completed"
    },
    "tags": []
   },
   "source": [
    "Consider the following questions as you prepare to deal with outliers:\n",
    "\n",
    "1.   What are some ways to identify outliers?\n",
    "2.   How do you make the decision to keep or exclude outliers from any future models?"
   ]
  },
  {
   "cell_type": "markdown",
   "id": "23363886",
   "metadata": {
    "id": "AHln5I2ERjAn",
    "papermill": {
     "duration": 0.017106,
     "end_time": "2025-02-07T06:11:39.862561",
     "exception": false,
     "start_time": "2025-02-07T06:11:39.845455",
     "status": "completed"
    },
    "tags": []
   },
   "source": [
    "1) What are some ways to identify outliers?\n",
    "* visualize the distributions using boxplot or histograms\n",
    "* calculate mean and median to observe the skewness using central tendencies\n",
    "* use Q1 or Q3 + or - 1.5 IQR to determine outlier thresholds. anything data point which falls outside the thresholds are  outliers\n",
    "\n",
    "\n",
    "2) How do you make the decision to keep or exclude outliers from any future models?  \n",
    "* determine the nature and type of the outlier --> Global, contextual or collective\n",
    "* if global --> remove the outlier records\n",
    "* if contextual --> find if it can filled in (imputed or extrapolated)\n",
    "* if collective --> find the nature of the cause, if it is not a derivative of an error in the data collection pipeline leave it\n",
    "\n"
   ]
  },
  {
   "cell_type": "markdown",
   "id": "a14caafc",
   "metadata": {
    "id": "BYWkZ4i3wgv4",
    "papermill": {
     "duration": 0.018721,
     "end_time": "2025-02-07T06:11:39.899251",
     "exception": false,
     "start_time": "2025-02-07T06:11:39.880530",
     "status": "completed"
    },
    "tags": []
   },
   "source": [
    "### **Task 3a. Visualizations**\n",
    "\n",
    "Select data visualization types that will help you understand and explain the data.\n",
    "\n",
    "Now that you know which data columns you’ll use, it is time to decide which data visualization makes the most sense for EDA of the Waze dataset.\n",
    "\n",
    "**Question:** What type of data visualization(s) will be most helpful?\n",
    "\n",
    "* Line graph\n",
    "* Bar chart\n",
    "* Box plot\n",
    "* Histogram\n",
    "* Heat map\n",
    "* Scatter plot\n",
    "* A geographic map\n",
    "\n"
   ]
  },
  {
   "cell_type": "markdown",
   "id": "2e0a6343",
   "metadata": {
    "id": "rYYgT9kMQiNF",
    "papermill": {
     "duration": 0.018248,
     "end_time": "2025-02-07T06:11:39.936096",
     "exception": false,
     "start_time": "2025-02-07T06:11:39.917848",
     "status": "completed"
    },
    "tags": []
   },
   "source": [
    "To understand more about the data, its distributions needs to be examined\n",
    "* boxplot --> to get a general understanding of the distribution, skew, outliers \n",
    "* histogram --> to visualize distribution and skewness "
   ]
  },
  {
   "cell_type": "markdown",
   "id": "2dfbf02a",
   "metadata": {
    "id": "TuWr3WWPQsi0",
    "papermill": {
     "duration": 0.021986,
     "end_time": "2025-02-07T06:11:39.988631",
     "exception": false,
     "start_time": "2025-02-07T06:11:39.966645",
     "status": "completed"
    },
    "tags": []
   },
   "source": [
    "Begin by examining the spread and distribution of important variables using box plots and histograms."
   ]
  },
  {
   "cell_type": "markdown",
   "id": "1b76f05a",
   "metadata": {
    "id": "5-vBw2wpSn0g",
    "papermill": {
     "duration": 0.019575,
     "end_time": "2025-02-07T06:11:40.026802",
     "exception": false,
     "start_time": "2025-02-07T06:11:40.007227",
     "status": "completed"
    },
    "tags": []
   },
   "source": [
    "#### **`sessions`**\n",
    "\n",
    "_The number of occurrence of a user opening the app during the month_"
   ]
  },
  {
   "cell_type": "code",
   "execution_count": 7,
   "id": "dccc3edf",
   "metadata": {
    "execution": {
     "iopub.execute_input": "2025-02-07T06:11:40.076267Z",
     "iopub.status.busy": "2025-02-07T06:11:40.075677Z",
     "iopub.status.idle": "2025-02-07T06:11:40.351829Z",
     "shell.execute_reply": "2025-02-07T06:11:40.350600Z"
    },
    "id": "9K6Alb7uc9my",
    "papermill": {
     "duration": 0.308811,
     "end_time": "2025-02-07T06:11:40.353857",
     "exception": false,
     "start_time": "2025-02-07T06:11:40.045046",
     "status": "completed"
    },
    "tags": []
   },
   "outputs": [
    {
     "data": {
      "image/png": "[encoded data removed]",
      "text/plain": [
       "<Figure size 1000x200 with 1 Axes>"
      ]
     },
     "metadata": {},
     "output_type": "display_data"
    }
   ],
   "source": [
    "# Box plot\n",
    "### YOUR CODE HERE ###\n",
    "\n",
    "# set the plot size\n",
    "plt.figure(figsize=(10,2))\n",
    "\n",
    "# construct the boxplot\n",
    "sns.boxplot(data=df, x='sessions')\n",
    "\n",
    "# set the title\n",
    "plt.title('sessions box plot')\n",
    "\n",
    "# display the plot\n",
    "plt.show()"
   ]
  },
  {
   "cell_type": "code",
   "execution_count": 8,
   "id": "b09c440e",
   "metadata": {
    "execution": {
     "iopub.execute_input": "2025-02-07T06:11:40.402516Z",
     "iopub.status.busy": "2025-02-07T06:11:40.402089Z",
     "iopub.status.idle": "2025-02-07T06:11:40.911217Z",
     "shell.execute_reply": "2025-02-07T06:11:40.909961Z"
    },
    "id": "1YC9xCrrcvw-",
    "papermill": {
     "duration": 0.533659,
     "end_time": "2025-02-07T06:11:40.913246",
     "exception": false,
     "start_time": "2025-02-07T06:11:40.379587",
     "status": "completed"
    },
    "tags": []
   },
   "outputs": [
    {
     "name": "stdout",
     "output_type": "stream",
     "text": [
      "mean: 80.633775585039\n",
      "median: 56.0\n"
     ]
    },
    {
     "name": "stderr",
     "output_type": "stream",
     "text": [
      "/usr/local/lib/python3.10/dist-packages/seaborn/_oldcore.py:1119: FutureWarning: use_inf_as_na option is deprecated and will be removed in a future version. Convert inf values to NaN before operating instead.\n",
      "  with pd.option_context('mode.use_inf_as_na', True):\n"
     ]
    },
    {
     "data": {
      "image/png": "[encoded data removed]",
      "text/plain": [
       "<Figure size 1000x500 with 1 Axes>"
      ]
     },
     "metadata": {},
     "output_type": "display_data"
    }
   ],
   "source": [
    "# Histogram\n",
    "### YOUR CODE HERE ###\n",
    "\n",
    "# print\n",
    "print('mean:', df['sessions'].mean())\n",
    "print('median:', df['sessions'].median())\n",
    "\n",
    "# set the plot size\n",
    "plt.figure(figsize=(10,5))\n",
    "\n",
    "# construct the boxplot\n",
    "sns.histplot(data=df, x='sessions')\n",
    "\n",
    "# plot mean and median\n",
    "plt.axvline(df['sessions'].mean(), color='red', linestyle='-')\n",
    "plt.axvline(df['sessions'].median(), color='red', linestyle='--')\n",
    "\n",
    "# title the plot\n",
    "plt.title('sessions histogram')\n",
    "\n",
    "# view\n",
    "plt.show()"
   ]
  },
  {
   "cell_type": "markdown",
   "id": "0d628162",
   "metadata": {
    "id": "PKnZDIgDS2gV",
    "papermill": {
     "duration": 0.026477,
     "end_time": "2025-02-07T06:11:40.959256",
     "exception": false,
     "start_time": "2025-02-07T06:11:40.932779",
     "status": "completed"
    },
    "tags": []
   },
   "source": [
    "The `sessions` variable is a right-skewed distribution with half of the observations having 56 or fewer sessions. However, as indicated by the boxplot, some users have more than 700."
   ]
  },
  {
   "cell_type": "markdown",
   "id": "17085d06",
   "metadata": {
    "id": "VSBCTrrjdpnn",
    "papermill": {
     "duration": 0.028462,
     "end_time": "2025-02-07T06:11:41.021359",
     "exception": false,
     "start_time": "2025-02-07T06:11:40.992897",
     "status": "completed"
    },
    "tags": []
   },
   "source": [
    "#### **`drives`**\n",
    "\n",
    "_An occurrence of driving at least 1 km during the month_"
   ]
  },
  {
   "cell_type": "code",
   "execution_count": 9,
   "id": "fc16bb08",
   "metadata": {
    "execution": {
     "iopub.execute_input": "2025-02-07T06:11:41.062923Z",
     "iopub.status.busy": "2025-02-07T06:11:41.062490Z",
     "iopub.status.idle": "2025-02-07T06:11:41.067832Z",
     "shell.execute_reply": "2025-02-07T06:11:41.066629Z"
    },
    "id": "WKEGh-a3yF9K",
    "papermill": {
     "duration": 0.027852,
     "end_time": "2025-02-07T06:11:41.069653",
     "exception": false,
     "start_time": "2025-02-07T06:11:41.041801",
     "status": "completed"
    },
    "tags": []
   },
   "outputs": [],
   "source": [
    "# Box plot\n",
    "### YOUR CODE HERE ###\n",
    "\n",
    "def plot_sns_boxplot(df, col_name_str):\n",
    "    \n",
    "    # set the plot size\n",
    "    plt.figure(figsize=(10,2))\n",
    "\n",
    "    # construct the boxplot\n",
    "    sns.boxplot(data=df, x=col_name_str)\n",
    "\n",
    "    # set the title\n",
    "    plt.title(f'{col_name_str} box plot')\n",
    "\n",
    "    # display the plot\n",
    "    plt.show()"
   ]
  },
  {
   "cell_type": "code",
   "execution_count": 10,
   "id": "bb8abb54",
   "metadata": {
    "execution": {
     "iopub.execute_input": "2025-02-07T06:11:41.111696Z",
     "iopub.status.busy": "2025-02-07T06:11:41.111341Z",
     "iopub.status.idle": "2025-02-07T06:11:41.244533Z",
     "shell.execute_reply": "2025-02-07T06:11:41.243364Z"
    },
    "id": "WKEGh-a3yF9K",
    "papermill": {
     "duration": 0.155513,
     "end_time": "2025-02-07T06:11:41.246324",
     "exception": false,
     "start_time": "2025-02-07T06:11:41.090811",
     "status": "completed"
    },
    "tags": []
   },
   "outputs": [
    {
     "data": {
      "image/png": "[encoded data removed]",
      "text/plain": [
       "<Figure size 1000x200 with 1 Axes>"
      ]
     },
     "metadata": {},
     "output_type": "display_data"
    }
   ],
   "source": [
    "# Box plot\n",
    "### YOUR CODE HERE ###\n",
    "\n",
    "# use the custom boxplot function\n",
    "plot_sns_boxplot(df, 'drives')"
   ]
  },
  {
   "cell_type": "code",
   "execution_count": 11,
   "id": "50f3ebc3",
   "metadata": {
    "execution": {
     "iopub.execute_input": "2025-02-07T06:11:41.310390Z",
     "iopub.status.busy": "2025-02-07T06:11:41.309754Z",
     "iopub.status.idle": "2025-02-07T06:11:41.318287Z",
     "shell.execute_reply": "2025-02-07T06:11:41.316938Z"
    },
    "id": "NtpxgGQpQ7g9",
    "papermill": {
     "duration": 0.051829,
     "end_time": "2025-02-07T06:11:41.320628",
     "exception": false,
     "start_time": "2025-02-07T06:11:41.268799",
     "status": "completed"
    },
    "scrolled": true,
    "tags": []
   },
   "outputs": [],
   "source": [
    "# Histogram\n",
    "### YOUR CODE HERE ###\n",
    "\n",
    "\n",
    "def plot_sns_histplot(df, col_name_str, bins=100, **kwargs):\n",
    "    \n",
    "    # print\n",
    "    print('mean:', df[col_name_str].mean())\n",
    "    print('median:', df[col_name_str].median())\n",
    "    \n",
    "    # set the plot size\n",
    "    plt.figure(figsize=(10,5))\n",
    "\n",
    "    # construct the boxplot\n",
    "    sns.histplot(data=df, x=col_name_str, bins=bins)\n",
    "\n",
    "    # plot mean and median\n",
    "    plt.axvline(df[col_name_str].mean(), color='red', linestyle='-')\n",
    "    plt.axvline(df[col_name_str].median(), color='red', linestyle='--')\n",
    "\n",
    "    # title the plot\n",
    "    plt.title(f'{col_name_str} histogram')\n",
    "\n",
    "    # view\n",
    "    plt.show()\n",
    "    \n",
    "    "
   ]
  },
  {
   "cell_type": "code",
   "execution_count": 12,
   "id": "f16f2e41",
   "metadata": {
    "execution": {
     "iopub.execute_input": "2025-02-07T06:11:41.362425Z",
     "iopub.status.busy": "2025-02-07T06:11:41.362021Z",
     "iopub.status.idle": "2025-02-07T06:11:41.730843Z",
     "shell.execute_reply": "2025-02-07T06:11:41.729633Z"
    },
    "id": "NtpxgGQpQ7g9",
    "papermill": {
     "duration": 0.391228,
     "end_time": "2025-02-07T06:11:41.733125",
     "exception": false,
     "start_time": "2025-02-07T06:11:41.341897",
     "status": "completed"
    },
    "scrolled": true,
    "tags": []
   },
   "outputs": [
    {
     "name": "stdout",
     "output_type": "stream",
     "text": [
      "mean: 67.28115207680511\n",
      "median: 48.0\n"
     ]
    },
    {
     "name": "stderr",
     "output_type": "stream",
     "text": [
      "/usr/local/lib/python3.10/dist-packages/seaborn/_oldcore.py:1119: FutureWarning: use_inf_as_na option is deprecated and will be removed in a future version. Convert inf values to NaN before operating instead.\n",
      "  with pd.option_context('mode.use_inf_as_na', True):\n"
     ]
    },
    {
     "data": {
      "image/png": "[encoded data removed]",
      "text/plain": [
       "<Figure size 1000x500 with 1 Axes>"
      ]
     },
     "metadata": {},
     "output_type": "display_data"
    }
   ],
   "source": [
    "# Histogram\n",
    "### YOUR CODE HERE ###\n",
    "\n",
    "# use the custom histplot fn\n",
    "plot_sns_histplot(df, 'drives')"
   ]
  },
  {
   "cell_type": "markdown",
   "id": "675401c4",
   "metadata": {
    "id": "SVhzvyNCedL8",
    "papermill": {
     "duration": 0.019859,
     "end_time": "2025-02-07T06:11:41.772647",
     "exception": false,
     "start_time": "2025-02-07T06:11:41.752788",
     "status": "completed"
    },
    "tags": []
   },
   "source": [
    "The `drives` information follows a distribution similar to the `sessions` variable. It is right-skewed, approximately log-normal, with a median of 48. However, some drivers had over 400 drives in the last month."
   ]
  },
  {
   "cell_type": "markdown",
   "id": "dd9457b4",
   "metadata": {
    "id": "M-RvjOHhehOI",
    "papermill": {
     "duration": 0.019188,
     "end_time": "2025-02-07T06:11:41.811315",
     "exception": false,
     "start_time": "2025-02-07T06:11:41.792127",
     "status": "completed"
    },
    "tags": []
   },
   "source": [
    "#### **`total_sessions`**\n",
    "\n",
    "_A model estimate of the total number of sessions since a user has onboarded_"
   ]
  },
  {
   "cell_type": "code",
   "execution_count": 13,
   "id": "5c757bda",
   "metadata": {
    "execution": {
     "iopub.execute_input": "2025-02-07T06:11:41.852870Z",
     "iopub.status.busy": "2025-02-07T06:11:41.852450Z",
     "iopub.status.idle": "2025-02-07T06:11:41.977917Z",
     "shell.execute_reply": "2025-02-07T06:11:41.976785Z"
    },
    "id": "ZCC9MHhOQ7Sc",
    "papermill": {
     "duration": 0.148672,
     "end_time": "2025-02-07T06:11:41.979896",
     "exception": false,
     "start_time": "2025-02-07T06:11:41.831224",
     "status": "completed"
    },
    "tags": []
   },
   "outputs": [
    {
     "data": {
      "image/png": "[encoded data removed]",
      "text/plain": [
       "<Figure size 1000x200 with 1 Axes>"
      ]
     },
     "metadata": {},
     "output_type": "display_data"
    }
   ],
   "source": [
    "# Box plot\n",
    "### YOUR CODE HERE ###\n",
    "\n",
    "plot_sns_boxplot(df, 'total_sessions')"
   ]
  },
  {
   "cell_type": "code",
   "execution_count": 14,
   "id": "1c0562bc",
   "metadata": {
    "execution": {
     "iopub.execute_input": "2025-02-07T06:11:42.023336Z",
     "iopub.status.busy": "2025-02-07T06:11:42.022921Z",
     "iopub.status.idle": "2025-02-07T06:11:42.490013Z",
     "shell.execute_reply": "2025-02-07T06:11:42.488813Z"
    },
    "id": "p5-UmoBzdrTW",
    "papermill": {
     "duration": 0.490962,
     "end_time": "2025-02-07T06:11:42.491878",
     "exception": false,
     "start_time": "2025-02-07T06:11:42.000916",
     "status": "completed"
    },
    "tags": []
   },
   "outputs": [
    {
     "name": "stdout",
     "output_type": "stream",
     "text": [
      "mean: 189.96444682404677\n",
      "median: 159.5681147\n"
     ]
    },
    {
     "name": "stderr",
     "output_type": "stream",
     "text": [
      "/usr/local/lib/python3.10/dist-packages/seaborn/_oldcore.py:1119: FutureWarning: use_inf_as_na option is deprecated and will be removed in a future version. Convert inf values to NaN before operating instead.\n",
      "  with pd.option_context('mode.use_inf_as_na', True):\n"
     ]
    },
    {
     "data": {
      "image/png": "[encoded data removed]",
      "text/plain": [
       "<Figure size 1000x500 with 1 Axes>"
      ]
     },
     "metadata": {},
     "output_type": "display_data"
    }
   ],
   "source": [
    "# Histogram\n",
    "### YOUR CODE HERE ###\n",
    "\n",
    "plot_sns_histplot(df, 'total_sessions')"
   ]
  },
  {
   "cell_type": "markdown",
   "id": "b8026958",
   "metadata": {
    "id": "3i77iZf_etQd",
    "papermill": {
     "duration": 0.021886,
     "end_time": "2025-02-07T06:11:42.535146",
     "exception": false,
     "start_time": "2025-02-07T06:11:42.513260",
     "status": "completed"
    },
    "tags": []
   },
   "source": [
    "The `total_sessions` is a right-skewed distribution. The median total number of sessions is 159.6. This is interesting information because, if the median number of sessions in the last month was 48 and the median total sessions was ~160, then it seems that a large proportion of a user's total drives might have taken place in the last month. This is something you can examine more closely later."
   ]
  },
  {
   "cell_type": "markdown",
   "id": "2c1f2111",
   "metadata": {
    "id": "0sfXzD_eexBm",
    "papermill": {
     "duration": 0.021404,
     "end_time": "2025-02-07T06:11:42.577423",
     "exception": false,
     "start_time": "2025-02-07T06:11:42.556019",
     "status": "completed"
    },
    "tags": []
   },
   "source": [
    "#### **`n_days_after_onboarding`**\n",
    "\n",
    "_The number of days since a user signed up for the app_"
   ]
  },
  {
   "cell_type": "code",
   "execution_count": 15,
   "id": "bef88234",
   "metadata": {
    "execution": {
     "iopub.execute_input": "2025-02-07T06:11:42.620065Z",
     "iopub.status.busy": "2025-02-07T06:11:42.619667Z",
     "iopub.status.idle": "2025-02-07T06:11:42.753764Z",
     "shell.execute_reply": "2025-02-07T06:11:42.752582Z"
    },
    "id": "PGfs6rpEdq-R",
    "papermill": {
     "duration": 0.157759,
     "end_time": "2025-02-07T06:11:42.755716",
     "exception": false,
     "start_time": "2025-02-07T06:11:42.597957",
     "status": "completed"
    },
    "tags": []
   },
   "outputs": [
    {
     "data": {
      "image/png": "[encoded data removed]",
      "text/plain": [
       "<Figure size 1000x200 with 1 Axes>"
      ]
     },
     "metadata": {},
     "output_type": "display_data"
    }
   ],
   "source": [
    "# Box plot\n",
    "### YOUR CODE HERE ###\n",
    "\n",
    "plot_sns_boxplot(df, 'n_days_after_onboarding')"
   ]
  },
  {
   "cell_type": "code",
   "execution_count": 16,
   "id": "8bb3e7d4",
   "metadata": {
    "execution": {
     "iopub.execute_input": "2025-02-07T06:11:42.799922Z",
     "iopub.status.busy": "2025-02-07T06:11:42.799517Z",
     "iopub.status.idle": "2025-02-07T06:11:43.188984Z",
     "shell.execute_reply": "2025-02-07T06:11:43.187747Z"
    },
    "id": "oqzA9IxRdqr1",
    "papermill": {
     "duration": 0.413486,
     "end_time": "2025-02-07T06:11:43.190903",
     "exception": false,
     "start_time": "2025-02-07T06:11:42.777417",
     "status": "completed"
    },
    "tags": []
   },
   "outputs": [
    {
     "name": "stdout",
     "output_type": "stream",
     "text": [
      "mean: 1749.8377891859457\n",
      "median: 1741.0\n"
     ]
    },
    {
     "name": "stderr",
     "output_type": "stream",
     "text": [
      "/usr/local/lib/python3.10/dist-packages/seaborn/_oldcore.py:1119: FutureWarning: use_inf_as_na option is deprecated and will be removed in a future version. Convert inf values to NaN before operating instead.\n",
      "  with pd.option_context('mode.use_inf_as_na', True):\n"
     ]
    },
    {
     "data": {
      "image/png": "[encoded data removed]",
      "text/plain": [
       "<Figure size 1000x500 with 1 Axes>"
      ]
     },
     "metadata": {},
     "output_type": "display_data"
    }
   ],
   "source": [
    "# Histogram\n",
    "### YOUR CODE HERE ###\n",
    "\n",
    "plot_sns_histplot(df, 'n_days_after_onboarding')"
   ]
  },
  {
   "cell_type": "markdown",
   "id": "b8a59f0e",
   "metadata": {
    "id": "wFNDAX4_e6aT",
    "papermill": {
     "duration": 0.021685,
     "end_time": "2025-02-07T06:11:43.235323",
     "exception": false,
     "start_time": "2025-02-07T06:11:43.213638",
     "status": "completed"
    },
    "tags": []
   },
   "source": [
    "The total user tenure (i.e., number of days since\n",
    "onboarding) is a uniform distribution with values ranging from near-zero to \\~3,500 (\\~9.5 years)."
   ]
  },
  {
   "cell_type": "markdown",
   "id": "b5c6c1d9",
   "metadata": {
    "id": "x1QO1Id8e7Oj",
    "papermill": {
     "duration": 0.023301,
     "end_time": "2025-02-07T06:11:43.281277",
     "exception": false,
     "start_time": "2025-02-07T06:11:43.257976",
     "status": "completed"
    },
    "tags": []
   },
   "source": [
    "#### **`driven_km_drives`**\n",
    "\n",
    "_Total kilometers driven during the month_"
   ]
  },
  {
   "cell_type": "code",
   "execution_count": 17,
   "id": "1a137268",
   "metadata": {
    "execution": {
     "iopub.execute_input": "2025-02-07T06:11:43.326985Z",
     "iopub.status.busy": "2025-02-07T06:11:43.326606Z",
     "iopub.status.idle": "2025-02-07T06:11:43.443500Z",
     "shell.execute_reply": "2025-02-07T06:11:43.442361Z"
    },
    "id": "JytUB830dv61",
    "papermill": {
     "duration": 0.14234,
     "end_time": "2025-02-07T06:11:43.445311",
     "exception": false,
     "start_time": "2025-02-07T06:11:43.302971",
     "status": "completed"
    },
    "tags": []
   },
   "outputs": [
    {
     "data": {
      "image/png": "[encoded data removed]",
      "text/plain": [
       "<Figure size 1000x200 with 1 Axes>"
      ]
     },
     "metadata": {},
     "output_type": "display_data"
    }
   ],
   "source": [
    "# Box plot\n",
    "### YOUR CODE HERE ###\n",
    "\n",
    "plot_sns_boxplot(df, 'driven_km_drives')"
   ]
  },
  {
   "cell_type": "code",
   "execution_count": 18,
   "id": "da6fbbaf",
   "metadata": {
    "execution": {
     "iopub.execute_input": "2025-02-07T06:11:43.491335Z",
     "iopub.status.busy": "2025-02-07T06:11:43.490967Z",
     "iopub.status.idle": "2025-02-07T06:11:43.849707Z",
     "shell.execute_reply": "2025-02-07T06:11:43.848616Z"
    },
    "id": "X3tD7KmhfBz8",
    "papermill": {
     "duration": 0.383981,
     "end_time": "2025-02-07T06:11:43.851608",
     "exception": false,
     "start_time": "2025-02-07T06:11:43.467627",
     "status": "completed"
    },
    "tags": []
   },
   "outputs": [
    {
     "name": "stdout",
     "output_type": "stream",
     "text": [
      "mean: 4039.3409208164917\n",
      "median: 3493.858085\n"
     ]
    },
    {
     "name": "stderr",
     "output_type": "stream",
     "text": [
      "/usr/local/lib/python3.10/dist-packages/seaborn/_oldcore.py:1119: FutureWarning: use_inf_as_na option is deprecated and will be removed in a future version. Convert inf values to NaN before operating instead.\n",
      "  with pd.option_context('mode.use_inf_as_na', True):\n"
     ]
    },
    {
     "data": {
      "image/png": "[encoded data removed]",
      "text/plain": [
       "<Figure size 1000x500 with 1 Axes>"
      ]
     },
     "metadata": {},
     "output_type": "display_data"
    }
   ],
   "source": [
    "# Histogram\n",
    "### YOUR CODE HERE ###\n",
    "\n",
    "plot_sns_histplot(df, 'driven_km_drives')"
   ]
  },
  {
   "cell_type": "markdown",
   "id": "8749bc0b",
   "metadata": {
    "id": "qmj8rhs1fFsD",
    "papermill": {
     "duration": 0.022271,
     "end_time": "2025-02-07T06:11:43.896631",
     "exception": false,
     "start_time": "2025-02-07T06:11:43.874360",
     "status": "completed"
    },
    "tags": []
   },
   "source": [
    "The number of drives driven in the last month per user is a right-skewed distribution with half the users driving under 3,495 kilometers. As you discovered in the analysis from the previous course, the users in this dataset drive _a lot_. The longest distance driven in the month was over half the circumferene of the earth."
   ]
  },
  {
   "cell_type": "markdown",
   "id": "cbad245e",
   "metadata": {
    "id": "UUAqCCtTfGbJ",
    "papermill": {
     "duration": 0.022178,
     "end_time": "2025-02-07T06:11:43.941351",
     "exception": false,
     "start_time": "2025-02-07T06:11:43.919173",
     "status": "completed"
    },
    "tags": []
   },
   "source": [
    "#### **`duration_minutes_drives`**\n",
    "\n",
    "_Total duration driven in minutes during the month_"
   ]
  },
  {
   "cell_type": "code",
   "execution_count": 19,
   "id": "b7d2537e",
   "metadata": {
    "execution": {
     "iopub.execute_input": "2025-02-07T06:11:43.988092Z",
     "iopub.status.busy": "2025-02-07T06:11:43.987752Z",
     "iopub.status.idle": "2025-02-07T06:11:44.124756Z",
     "shell.execute_reply": "2025-02-07T06:11:44.123453Z"
    },
    "id": "ElNBoyu9fG8z",
    "papermill": {
     "duration": 0.162608,
     "end_time": "2025-02-07T06:11:44.126633",
     "exception": false,
     "start_time": "2025-02-07T06:11:43.964025",
     "status": "completed"
    },
    "tags": []
   },
   "outputs": [
    {
     "data": {
      "image/png": "[encoded data removed]",
      "text/plain": [
       "<Figure size 1000x200 with 1 Axes>"
      ]
     },
     "metadata": {},
     "output_type": "display_data"
    }
   ],
   "source": [
    "# Box plot\n",
    "### YOUR CODE HERE ###\n",
    "\n",
    "plot_sns_boxplot(df, 'duration_minutes_drives')"
   ]
  },
  {
   "cell_type": "code",
   "execution_count": 20,
   "id": "d788ba53",
   "metadata": {
    "execution": {
     "iopub.execute_input": "2025-02-07T06:11:44.178510Z",
     "iopub.status.busy": "2025-02-07T06:11:44.178098Z",
     "iopub.status.idle": "2025-02-07T06:11:44.547213Z",
     "shell.execute_reply": "2025-02-07T06:11:44.545948Z"
    },
    "id": "7z4ajJJFfHoN",
    "papermill": {
     "duration": 0.398347,
     "end_time": "2025-02-07T06:11:44.548872",
     "exception": false,
     "start_time": "2025-02-07T06:11:44.150525",
     "status": "completed"
    },
    "tags": []
   },
   "outputs": [
    {
     "name": "stdout",
     "output_type": "stream",
     "text": [
      "mean: 1860.976012129396\n",
      "median: 1478.249859\n"
     ]
    },
    {
     "name": "stderr",
     "output_type": "stream",
     "text": [
      "/usr/local/lib/python3.10/dist-packages/seaborn/_oldcore.py:1119: FutureWarning: use_inf_as_na option is deprecated and will be removed in a future version. Convert inf values to NaN before operating instead.\n",
      "  with pd.option_context('mode.use_inf_as_na', True):\n"
     ]
    },
    {
     "data": {
      "image/png": "[encoded data removed]",
      "text/plain": [
       "<Figure size 1000x500 with 1 Axes>"
      ]
     },
     "metadata": {},
     "output_type": "display_data"
    }
   ],
   "source": [
    "# Histogram\n",
    "### YOUR CODE HERE ###\n",
    "\n",
    "plot_sns_histplot(df, 'duration_minutes_drives')"
   ]
  },
  {
   "cell_type": "markdown",
   "id": "c9222883",
   "metadata": {
    "id": "lXRWnXA5fcmn",
    "papermill": {
     "duration": 0.023593,
     "end_time": "2025-02-07T06:11:44.596867",
     "exception": false,
     "start_time": "2025-02-07T06:11:44.573274",
     "status": "completed"
    },
    "tags": []
   },
   "source": [
    "The `duration_minutes_drives` variable has a heavily skewed right tail. Half of the users drove less than \\~1,478 minutes (\\~25 hours), but some users clocked over 250 hours over the month."
   ]
  },
  {
   "cell_type": "markdown",
   "id": "4553f6df",
   "metadata": {
    "id": "sJ-5zhujfcXb",
    "papermill": {
     "duration": 0.023789,
     "end_time": "2025-02-07T06:11:44.644447",
     "exception": false,
     "start_time": "2025-02-07T06:11:44.620658",
     "status": "completed"
    },
    "tags": []
   },
   "source": [
    "#### **`activity_days`**\n",
    "\n",
    "_Number of days the user opens the app during the month_"
   ]
  },
  {
   "cell_type": "code",
   "execution_count": 21,
   "id": "0dc64a52",
   "metadata": {
    "execution": {
     "iopub.execute_input": "2025-02-07T06:11:44.696524Z",
     "iopub.status.busy": "2025-02-07T06:11:44.696103Z",
     "iopub.status.idle": "2025-02-07T06:11:44.817153Z",
     "shell.execute_reply": "2025-02-07T06:11:44.816003Z"
    },
    "id": "rpy9NzemfkDz",
    "papermill": {
     "duration": 0.148485,
     "end_time": "2025-02-07T06:11:44.819057",
     "exception": false,
     "start_time": "2025-02-07T06:11:44.670572",
     "status": "completed"
    },
    "tags": []
   },
   "outputs": [
    {
     "data": {
      "image/png": "[encoded data removed]",
      "text/plain": [
       "<Figure size 1000x200 with 1 Axes>"
      ]
     },
     "metadata": {},
     "output_type": "display_data"
    }
   ],
   "source": [
    "# Box plot\n",
    "### YOUR CODE HERE ###\n",
    "\n",
    "plot_sns_boxplot(df, 'activity_days')"
   ]
  },
  {
   "cell_type": "code",
   "execution_count": 22,
   "id": "34b83d21",
   "metadata": {
    "execution": {
     "iopub.execute_input": "2025-02-07T06:11:44.869480Z",
     "iopub.status.busy": "2025-02-07T06:11:44.869082Z",
     "iopub.status.idle": "2025-02-07T06:11:45.111534Z",
     "shell.execute_reply": "2025-02-07T06:11:45.110380Z"
    },
    "id": "JTdGJbmffqNK",
    "papermill": {
     "duration": 0.269852,
     "end_time": "2025-02-07T06:11:45.113403",
     "exception": false,
     "start_time": "2025-02-07T06:11:44.843551",
     "status": "completed"
    },
    "tags": []
   },
   "outputs": [
    {
     "name": "stdout",
     "output_type": "stream",
     "text": [
      "mean: 15.537102473498233\n",
      "median: 16.0\n"
     ]
    },
    {
     "name": "stderr",
     "output_type": "stream",
     "text": [
      "/usr/local/lib/python3.10/dist-packages/seaborn/_oldcore.py:1119: FutureWarning: use_inf_as_na option is deprecated and will be removed in a future version. Convert inf values to NaN before operating instead.\n",
      "  with pd.option_context('mode.use_inf_as_na', True):\n"
     ]
    },
    {
     "data": {
      "image/png": "[encoded data removed]",
      "text/plain": [
       "<Figure size 1000x500 with 1 Axes>"
      ]
     },
     "metadata": {},
     "output_type": "display_data"
    }
   ],
   "source": [
    "# Histogram\n",
    "### YOUR CODE HERE ###\n",
    "\n",
    "plot_sns_histplot(df, 'activity_days',bins=16, discrete=True)"
   ]
  },
  {
   "cell_type": "markdown",
   "id": "d502b110",
   "metadata": {
    "id": "eRkkqv1xfrPN",
    "papermill": {
     "duration": 0.024657,
     "end_time": "2025-02-07T06:11:45.163041",
     "exception": false,
     "start_time": "2025-02-07T06:11:45.138384",
     "status": "completed"
    },
    "tags": []
   },
   "source": [
    "Within the last month, users opened the app a median of 16 times. The box plot reveals a centered distribution. The histogram shows a nearly uniform distribution of ~500 people opening the app on each count of days. However, there are ~250 people who didn't open the app at all and ~250 people who opened the app every day of the month.\n",
    "\n",
    "This distribution is noteworthy because it does not mirror the `sessions` distribution, which you might think would be closely correlated with `activity_days`."
   ]
  },
  {
   "cell_type": "markdown",
   "id": "d05b3ee6",
   "metadata": {
    "id": "fbbqVbBFfrBP",
    "papermill": {
     "duration": 0.025158,
     "end_time": "2025-02-07T06:11:45.214182",
     "exception": false,
     "start_time": "2025-02-07T06:11:45.189024",
     "status": "completed"
    },
    "tags": []
   },
   "source": [
    "#### **`driving_days`**\n",
    "\n",
    "_Number of days the user drives (at least 1 km) during the month_"
   ]
  },
  {
   "cell_type": "code",
   "execution_count": 23,
   "id": "df3a1e66",
   "metadata": {
    "execution": {
     "iopub.execute_input": "2025-02-07T06:11:45.266625Z",
     "iopub.status.busy": "2025-02-07T06:11:45.266269Z",
     "iopub.status.idle": "2025-02-07T06:11:45.390396Z",
     "shell.execute_reply": "2025-02-07T06:11:45.389286Z"
    },
    "id": "hhn-402gf3ff",
    "papermill": {
     "duration": 0.152564,
     "end_time": "2025-02-07T06:11:45.392179",
     "exception": false,
     "start_time": "2025-02-07T06:11:45.239615",
     "status": "completed"
    },
    "tags": []
   },
   "outputs": [
    {
     "data": {
      "image/png": "[encoded data removed]",
      "text/plain": [
       "<Figure size 1000x200 with 1 Axes>"
      ]
     },
     "metadata": {},
     "output_type": "display_data"
    }
   ],
   "source": [
    "# Box plot\n",
    "### YOUR CODE HERE ###\n",
    "\n",
    "plot_sns_boxplot(df, 'driving_days')"
   ]
  },
  {
   "cell_type": "code",
   "execution_count": 24,
   "id": "3883c2a1",
   "metadata": {
    "execution": {
     "iopub.execute_input": "2025-02-07T06:11:45.446031Z",
     "iopub.status.busy": "2025-02-07T06:11:45.445620Z",
     "iopub.status.idle": "2025-02-07T06:11:45.707272Z",
     "shell.execute_reply": "2025-02-07T06:11:45.706001Z"
    },
    "id": "Yi9bkUS2f37N",
    "papermill": {
     "duration": 0.29015,
     "end_time": "2025-02-07T06:11:45.709015",
     "exception": false,
     "start_time": "2025-02-07T06:11:45.418865",
     "status": "completed"
    },
    "tags": []
   },
   "outputs": [
    {
     "name": "stdout",
     "output_type": "stream",
     "text": [
      "mean: 12.179878658577238\n",
      "median: 12.0\n"
     ]
    },
    {
     "name": "stderr",
     "output_type": "stream",
     "text": [
      "/usr/local/lib/python3.10/dist-packages/seaborn/_oldcore.py:1119: FutureWarning: use_inf_as_na option is deprecated and will be removed in a future version. Convert inf values to NaN before operating instead.\n",
      "  with pd.option_context('mode.use_inf_as_na', True):\n"
     ]
    },
    {
     "data": {
      "image/png": "[encoded data removed]",
      "text/plain": [
       "<Figure size 1000x500 with 1 Axes>"
      ]
     },
     "metadata": {},
     "output_type": "display_data"
    }
   ],
   "source": [
    "# Histogram\n",
    "### YOUR CODE HERE ###\n",
    "\n",
    "plot_sns_histplot(df, 'driving_days', bins=30, discrete=True)"
   ]
  },
  {
   "cell_type": "markdown",
   "id": "8ac039fe",
   "metadata": {
    "id": "I2p_HuzRf4Xo",
    "papermill": {
     "duration": 0.026101,
     "end_time": "2025-02-07T06:11:45.762060",
     "exception": false,
     "start_time": "2025-02-07T06:11:45.735959",
     "status": "completed"
    },
    "tags": []
   },
   "source": [
    "The number of days users drove each month is almost uniform, and it largely correlates with the number of days they opened the app that month, except the `driving_days` distribution tails off on the right.\n",
    "\n",
    "However, there were almost twice as many users (\\~1,000 vs. \\~550) who did not drive at all during the month. This might seem counterintuitive when considered together with the information from `activity_days`. That variable had \\~500 users opening the app on each of most of the day counts, but there were only \\~250 users who did not open the app at all during the month and ~250 users who opened the app every day. Flag this for further investigation later."
   ]
  },
  {
   "cell_type": "markdown",
   "id": "738401d1",
   "metadata": {
    "id": "-TmcckFcgDLK",
    "papermill": {
     "duration": 0.026614,
     "end_time": "2025-02-07T06:11:45.815104",
     "exception": false,
     "start_time": "2025-02-07T06:11:45.788490",
     "status": "completed"
    },
    "tags": []
   },
   "source": [
    "#### **`device`**\n",
    "\n",
    "_The type of device a user starts a session with_\n",
    "\n",
    "This is a categorical variable, so you do not plot a box plot for it. A good plot for a binary categorical variable is a pie chart."
   ]
  },
  {
   "cell_type": "code",
   "execution_count": 25,
   "id": "f5fa7a55",
   "metadata": {
    "execution": {
     "iopub.execute_input": "2025-02-07T06:11:45.869111Z",
     "iopub.status.busy": "2025-02-07T06:11:45.868714Z",
     "iopub.status.idle": "2025-02-07T06:11:45.994523Z",
     "shell.execute_reply": "2025-02-07T06:11:45.993334Z"
    },
    "id": "evNrxWWQgDuN",
    "papermill": {
     "duration": 0.155258,
     "end_time": "2025-02-07T06:11:45.996675",
     "exception": false,
     "start_time": "2025-02-07T06:11:45.841417",
     "status": "completed"
    },
    "tags": []
   },
   "outputs": [
    {
     "data": {
      "text/plain": [
       "Text(0.5, 1.0, 'Users by device')"
      ]
     },
     "execution_count": 25,
     "metadata": {},
     "output_type": "execute_result"
    },
    {
     "data": {
      "image/png": "[encoded data removed]",
      "text/plain": [
       "<Figure size 500x500 with 1 Axes>"
      ]
     },
     "metadata": {},
     "output_type": "display_data"
    }
   ],
   "source": [
    "# Pie chart\n",
    "### YOUR CODE HERE ###\n",
    "\n",
    "# specify a chart size\n",
    "plt.figure(figsize=(5,5))\n",
    "\n",
    "# constructing pie chart\n",
    "plt.pie(x=df['device'].value_counts(),\n",
    "        labels=[f\"{df['device'].value_counts().index[0]}: {df['device'].value_counts().values[0]}\",\n",
    "                f\"{df['device'].value_counts().index[1]}: {df['device'].value_counts().values[1]}\"],\n",
    "        autopct='%1.1f%%')\n",
    "\n",
    "# set a title\n",
    "plt.title('Users by device')"
   ]
  },
  {
   "cell_type": "markdown",
   "id": "4a2ae094",
   "metadata": {
    "id": "m7NuKItJgEh2",
    "papermill": {
     "duration": 0.027106,
     "end_time": "2025-02-07T06:11:46.051341",
     "exception": false,
     "start_time": "2025-02-07T06:11:46.024235",
     "status": "completed"
    },
    "tags": []
   },
   "source": [
    "There are nearly twice as many iPhone users as Android users represented in this data."
   ]
  },
  {
   "cell_type": "markdown",
   "id": "9d6e44fa",
   "metadata": {
    "id": "VJH5j71RgViQ",
    "papermill": {
     "duration": 0.026528,
     "end_time": "2025-02-07T06:11:46.105174",
     "exception": false,
     "start_time": "2025-02-07T06:11:46.078646",
     "status": "completed"
    },
    "tags": []
   },
   "source": [
    "#### **`label`**\n",
    "\n",
    "_Binary target variable (“retained” vs “churned”) for if a user has churned anytime during the course of the month_\n",
    "\n",
    "This is also a categorical variable, and as such would not be plotted as a box plot. Plot a pie chart instead."
   ]
  },
  {
   "cell_type": "code",
   "execution_count": 26,
   "id": "cc317557",
   "metadata": {
    "execution": {
     "iopub.execute_input": "2025-02-07T06:11:46.162228Z",
     "iopub.status.busy": "2025-02-07T06:11:46.161795Z",
     "iopub.status.idle": "2025-02-07T06:11:46.290132Z",
     "shell.execute_reply": "2025-02-07T06:11:46.288854Z"
    },
    "id": "MQ1nVQIBgWOv",
    "papermill": {
     "duration": 0.158279,
     "end_time": "2025-02-07T06:11:46.292047",
     "exception": false,
     "start_time": "2025-02-07T06:11:46.133768",
     "status": "completed"
    },
    "tags": []
   },
   "outputs": [
    {
     "data": {
      "text/plain": [
       "Text(0.5, 1.0, 'Count of retained vs. churned')"
      ]
     },
     "execution_count": 26,
     "metadata": {},
     "output_type": "execute_result"
    },
    {
     "data": {
      "image/png": "[encoded data removed]",
      "text/plain": [
       "<Figure size 500x500 with 1 Axes>"
      ]
     },
     "metadata": {},
     "output_type": "display_data"
    }
   ],
   "source": [
    "# Pie chart\n",
    "### YOUR CODE HERE ###\n",
    "\n",
    "# specify a chart size\n",
    "plt.figure(figsize=(5,5))\n",
    "\n",
    "# constructing pie chart\n",
    "plt.pie(x=df['label'].value_counts(),\n",
    "        labels=[f\"{df['label'].value_counts().index[0]}: {df['label'].value_counts().values[0]}\",\n",
    "                f\"{df['label'].value_counts().index[1]}: {df['label'].value_counts().values[1]}\"],\n",
    "        autopct='%1.1f%%')\n",
    "\n",
    "# set a title\n",
    "plt.title('Count of retained vs. churned')"
   ]
  },
  {
   "cell_type": "markdown",
   "id": "65299b71",
   "metadata": {
    "id": "cmM8NrSYghlg",
    "papermill": {
     "duration": 0.027171,
     "end_time": "2025-02-07T06:11:46.347351",
     "exception": false,
     "start_time": "2025-02-07T06:11:46.320180",
     "status": "completed"
    },
    "tags": []
   },
   "source": [
    "Less than 18% of the users churned."
   ]
  },
  {
   "cell_type": "markdown",
   "id": "ba6f17fd",
   "metadata": {
    "id": "cRsY_TYPgik5",
    "papermill": {
     "duration": 0.02707,
     "end_time": "2025-02-07T06:11:46.401883",
     "exception": false,
     "start_time": "2025-02-07T06:11:46.374813",
     "status": "completed"
    },
    "tags": []
   },
   "source": [
    "#### **`driving_days` vs. `activity_days`**\n",
    "\n",
    "Because both `driving_days` and `activity_days` represent counts of days over a month and they're also closely related, you can plot them together on a single histogram. This will help to better understand how they relate to each other without having to scroll back and forth comparing histograms in two different places.\n",
    "\n",
    "Plot a histogram that, for each day, has a bar representing the counts of `driving_days` and `activity_days`."
   ]
  },
  {
   "cell_type": "code",
   "execution_count": 27,
   "id": "9c5a608b",
   "metadata": {
    "execution": {
     "iopub.execute_input": "2025-02-07T06:11:46.459747Z",
     "iopub.status.busy": "2025-02-07T06:11:46.459341Z",
     "iopub.status.idle": "2025-02-07T06:11:46.939139Z",
     "shell.execute_reply": "2025-02-07T06:11:46.937956Z"
    },
    "id": "Ly1sNysEgjFc",
    "papermill": {
     "duration": 0.510654,
     "end_time": "2025-02-07T06:11:46.941094",
     "exception": false,
     "start_time": "2025-02-07T06:11:46.430440",
     "status": "completed"
    },
    "tags": []
   },
   "outputs": [
    {
     "data": {
      "image/png": "[encoded data removed]",
      "text/plain": [
       "<Figure size 1200x800 with 1 Axes>"
      ]
     },
     "metadata": {},
     "output_type": "display_data"
    }
   ],
   "source": [
    "# Histogram\n",
    "### YOUR CODE HERE ###\n",
    "\n",
    "# set a plot size\n",
    "plt.figure(figsize=(12,8))\n",
    "\n",
    "# legend labels\n",
    "plt.hist([df['driving_days'], df['activity_days']],\n",
    "         bins=range(0,33),\n",
    "         label=['driving days', 'activity days'])\n",
    "\n",
    "# setting x and y labels\n",
    "plt.xlabel('days')\n",
    "plt.ylabel('count')\n",
    "\n",
    "# creating a legend\n",
    "plt.legend()\n",
    "\n",
    "# set a title\n",
    "plt.title('driving_days vs. activity_days')\n",
    "\n",
    "# show\n",
    "plt.show()"
   ]
  },
  {
   "cell_type": "markdown",
   "id": "583145c2",
   "metadata": {
    "id": "8kQS1OzIgzhF",
    "papermill": {
     "duration": 0.027981,
     "end_time": "2025-02-07T06:11:46.997805",
     "exception": false,
     "start_time": "2025-02-07T06:11:46.969824",
     "status": "completed"
    },
    "tags": []
   },
   "source": [
    "As observed previously, this might seem counterintuitive. After all, why are there _fewer_ people who didn't use the app at all during the month and _more_ people who didn't drive at all during the month?\n",
    "\n",
    "On the other hand, it could just be illustrative of the fact that, while these variables are related to each other, they're not the same. People probably just open the app more than they use the app to drive&mdash;perhaps to check drive times or route information, to update settings, or even just by mistake.\n",
    "\n",
    "Nonetheless, it might be worthwile to contact the data team at Waze to get more information about this, especially because it seems that the number of days in the month is not the same between variables.\n",
    "\n",
    "Confirm the maximum number of days for each variable&mdash;`driving_days` and `activity_days`."
   ]
  },
  {
   "cell_type": "code",
   "execution_count": 28,
   "id": "f4209c06",
   "metadata": {
    "execution": {
     "iopub.execute_input": "2025-02-07T06:11:47.055855Z",
     "iopub.status.busy": "2025-02-07T06:11:47.055451Z",
     "iopub.status.idle": "2025-02-07T06:11:47.062193Z",
     "shell.execute_reply": "2025-02-07T06:11:47.061084Z"
    },
    "id": "ZY266xXxg-rO",
    "papermill": {
     "duration": 0.037913,
     "end_time": "2025-02-07T06:11:47.064089",
     "exception": false,
     "start_time": "2025-02-07T06:11:47.026176",
     "status": "completed"
    },
    "tags": []
   },
   "outputs": [
    {
     "name": "stdout",
     "output_type": "stream",
     "text": [
      "Max driving days: 30\n",
      "Max activity days: 31\n"
     ]
    }
   ],
   "source": [
    "### YOUR CODE HERE ###\n",
    "print('Max driving days:',df['driving_days'].max())\n",
    "print('Max activity days:',df['activity_days'].max())"
   ]
  },
  {
   "cell_type": "markdown",
   "id": "a2661d53",
   "metadata": {
    "id": "oBEq9YwChEGx",
    "papermill": {
     "duration": 0.028679,
     "end_time": "2025-02-07T06:11:47.122071",
     "exception": false,
     "start_time": "2025-02-07T06:11:47.093392",
     "status": "completed"
    },
    "tags": []
   },
   "source": [
    "It's true. Although it's possible that not a single user drove all 31 days of the month, it's highly unlikely, considering there are 15,000 people represented in the dataset.\n",
    "\n",
    "One other way to check the validity of these variables is to plot a simple scatter plot with the x-axis representing one variable and the y-axis representing the other."
   ]
  },
  {
   "cell_type": "code",
   "execution_count": 29,
   "id": "7899fb84",
   "metadata": {
    "execution": {
     "iopub.execute_input": "2025-02-07T06:11:47.182085Z",
     "iopub.status.busy": "2025-02-07T06:11:47.181560Z",
     "iopub.status.idle": "2025-02-07T06:11:47.445760Z",
     "shell.execute_reply": "2025-02-07T06:11:47.444311Z"
    },
    "id": "I4VMyxguhFBV",
    "papermill": {
     "duration": 0.29687,
     "end_time": "2025-02-07T06:11:47.447743",
     "exception": false,
     "start_time": "2025-02-07T06:11:47.150873",
     "status": "completed"
    },
    "tags": []
   },
   "outputs": [
    {
     "data": {
      "image/png": "[encoded data removed]",
      "text/plain": [
       "<Figure size 800x800 with 1 Axes>"
      ]
     },
     "metadata": {},
     "output_type": "display_data"
    }
   ],
   "source": [
    "# Scatter plot\n",
    "### YOUR CODE HERE ###\n",
    "\n",
    "# set the plot size\n",
    "plt.figure(figsize=(8,8))\n",
    "\n",
    "# create a scatter plot\n",
    "sns.scatterplot(data=df, x='driving_days', y='activity_days')\n",
    "\n",
    "# create a title for the plot\n",
    "plt.title('driving_days vs. activity_days')\n",
    "\n",
    "# show the plot\n",
    "plt.show()"
   ]
  },
  {
   "cell_type": "markdown",
   "id": "33a1a256",
   "metadata": {
    "id": "DWO3ljhFhG-e",
    "papermill": {
     "duration": 0.028745,
     "end_time": "2025-02-07T06:11:47.507481",
     "exception": false,
     "start_time": "2025-02-07T06:11:47.478736",
     "status": "completed"
    },
    "tags": []
   },
   "source": [
    "Notice that there is a theoretical limit. If you use the app to drive, then by definition it must count as a day-use as well. In other words, you cannot have more drive-days than activity-days. None of the samples in this data violate this rule, which is good."
   ]
  },
  {
   "cell_type": "markdown",
   "id": "43ee2801",
   "metadata": {
    "id": "bcZkCH5WhVfE",
    "papermill": {
     "duration": 0.028678,
     "end_time": "2025-02-07T06:11:47.566176",
     "exception": false,
     "start_time": "2025-02-07T06:11:47.537498",
     "status": "completed"
    },
    "tags": []
   },
   "source": [
    "#### **Retention by device**\n",
    "\n",
    "Plot a histogram that has four bars&mdash;one for each device-label combination&mdash;to show how many iPhone users were retained/churned and how many Android users were retained/churned."
   ]
  },
  {
   "cell_type": "code",
   "execution_count": 30,
   "id": "d6cd7b0a",
   "metadata": {
    "execution": {
     "iopub.execute_input": "2025-02-07T06:11:47.625978Z",
     "iopub.status.busy": "2025-02-07T06:11:47.625545Z",
     "iopub.status.idle": "2025-02-07T06:11:47.968051Z",
     "shell.execute_reply": "2025-02-07T06:11:47.966748Z"
    },
    "id": "75uHBjB1hZIl",
    "papermill": {
     "duration": 0.374507,
     "end_time": "2025-02-07T06:11:47.969963",
     "exception": false,
     "start_time": "2025-02-07T06:11:47.595456",
     "status": "completed"
    },
    "tags": []
   },
   "outputs": [
    {
     "name": "stderr",
     "output_type": "stream",
     "text": [
      "/usr/local/lib/python3.10/dist-packages/seaborn/_oldcore.py:1119: FutureWarning: use_inf_as_na option is deprecated and will be removed in a future version. Convert inf values to NaN before operating instead.\n",
      "  with pd.option_context('mode.use_inf_as_na', True):\n",
      "/usr/local/lib/python3.10/dist-packages/seaborn/_oldcore.py:1075: FutureWarning: When grouping with a length-1 list-like, you will need to pass a length-1 tuple to get_group in a future version of pandas. Pass `(name,)` instead of `name` to silence this warning.\n",
      "  data_subset = grouped_data.get_group(pd_key)\n",
      "/usr/local/lib/python3.10/dist-packages/seaborn/_oldcore.py:1075: FutureWarning: When grouping with a length-1 list-like, you will need to pass a length-1 tuple to get_group in a future version of pandas. Pass `(name,)` instead of `name` to silence this warning.\n",
      "  data_subset = grouped_data.get_group(pd_key)\n",
      "/usr/local/lib/python3.10/dist-packages/seaborn/_oldcore.py:1075: FutureWarning: When grouping with a length-1 list-like, you will need to pass a length-1 tuple to get_group in a future version of pandas. Pass `(name,)` instead of `name` to silence this warning.\n",
      "  data_subset = grouped_data.get_group(pd_key)\n",
      "/usr/local/lib/python3.10/dist-packages/seaborn/_oldcore.py:1075: FutureWarning: When grouping with a length-1 list-like, you will need to pass a length-1 tuple to get_group in a future version of pandas. Pass `(name,)` instead of `name` to silence this warning.\n",
      "  data_subset = grouped_data.get_group(pd_key)\n"
     ]
    },
    {
     "data": {
      "text/plain": [
       "Text(0.5, 1.0, 'Retention by device histogram')"
      ]
     },
     "execution_count": 30,
     "metadata": {},
     "output_type": "execute_result"
    },
    {
     "data": {
      "image/png": "[encoded data removed]",
      "text/plain": [
       "<Figure size 1200x600 with 1 Axes>"
      ]
     },
     "metadata": {},
     "output_type": "display_data"
    }
   ],
   "source": [
    "# Histogram\n",
    "### YOUR CODE HERE ###\n",
    "\n",
    "# set a plot size\n",
    "plt.figure(figsize=(12,6))\n",
    "\n",
    "# construct the histogram plot\n",
    "sns.histplot(data=df,\n",
    "             x='device',\n",
    "             hue='label',\n",
    "             multiple='dodge',\n",
    "             shrink=0.75)\n",
    "\n",
    "# create a plot title\n",
    "plt.title('Retention by device histogram')"
   ]
  },
  {
   "cell_type": "markdown",
   "id": "cfc2effe",
   "metadata": {
    "id": "sVOvIbG-hZg-",
    "papermill": {
     "duration": 0.02953,
     "end_time": "2025-02-07T06:11:48.030066",
     "exception": false,
     "start_time": "2025-02-07T06:11:48.000536",
     "status": "completed"
    },
    "tags": []
   },
   "source": [
    "The proportion of churned users to retained users is consistent between device types."
   ]
  },
  {
   "cell_type": "markdown",
   "id": "dc526a29",
   "metadata": {
    "id": "TMYRLh8EhhuK",
    "papermill": {
     "duration": 0.031412,
     "end_time": "2025-02-07T06:11:48.091085",
     "exception": false,
     "start_time": "2025-02-07T06:11:48.059673",
     "status": "completed"
    },
    "tags": []
   },
   "source": [
    "#### **Retention by kilometers driven per driving day**\n",
    "\n",
    "In the previous course, you discovered that the median distance driven per driving day last month for users who churned was 697.54 km, versus 289.55 km for people who did not churn. Examine this further.\n",
    "\n",
    "1. Create a new column in `df` called `km_per_driving_day`, which represents the mean distance driven per driving day for each user.\n",
    "\n",
    "2. Call the `describe()` method on the new column."
   ]
  },
  {
   "cell_type": "code",
   "execution_count": 31,
   "id": "0de2e3fa",
   "metadata": {
    "execution": {
     "iopub.execute_input": "2025-02-07T06:11:48.154704Z",
     "iopub.status.busy": "2025-02-07T06:11:48.154321Z",
     "iopub.status.idle": "2025-02-07T06:11:48.180918Z",
     "shell.execute_reply": "2025-02-07T06:11:48.179841Z"
    },
    "id": "6IONTyaHhipo",
    "papermill": {
     "duration": 0.059555,
     "end_time": "2025-02-07T06:11:48.182703",
     "exception": false,
     "start_time": "2025-02-07T06:11:48.123148",
     "status": "completed"
    },
    "tags": []
   },
   "outputs": [
    {
     "name": "stderr",
     "output_type": "stream",
     "text": [
      "/usr/local/lib/python3.10/dist-packages/pandas/io/formats/format.py:1458: RuntimeWarning: invalid value encountered in greater\n",
      "  has_large_values = (abs_vals > 1e6).any()\n",
      "/usr/local/lib/python3.10/dist-packages/pandas/io/formats/format.py:1459: RuntimeWarning: invalid value encountered in less\n",
      "  has_small_values = ((abs_vals < 10 ** (-self.digits)) & (abs_vals > 0)).any()\n",
      "/usr/local/lib/python3.10/dist-packages/pandas/io/formats/format.py:1459: RuntimeWarning: invalid value encountered in greater\n",
      "  has_small_values = ((abs_vals < 10 ** (-self.digits)) & (abs_vals > 0)).any()\n"
     ]
    },
    {
     "data": {
      "text/plain": [
       "count    1.499900e+04\n",
       "mean              inf\n",
       "std               NaN\n",
       "min      3.022063e+00\n",
       "25%      1.672804e+02\n",
       "50%      3.231459e+02\n",
       "75%      7.579257e+02\n",
       "max               inf\n",
       "Name: km_per_driving_day, dtype: float64"
      ]
     },
     "execution_count": 31,
     "metadata": {},
     "output_type": "execute_result"
    }
   ],
   "source": [
    "# 1. Create `km_per_driving_day` column\n",
    "### YOUR CODE HERE ###\n",
    "\n",
    "df['km_per_driving_day'] = df['driven_km_drives'] / df['driving_days']\n",
    "\n",
    "\n",
    "# 2. Call `describe()` on the new column\n",
    "### YOUR CODE HERE ###\n",
    "\n",
    "df['km_per_driving_day'].describe()"
   ]
  },
  {
   "cell_type": "markdown",
   "id": "2dc53218",
   "metadata": {
    "papermill": {
     "duration": 0.031595,
     "end_time": "2025-02-07T06:11:48.245234",
     "exception": false,
     "start_time": "2025-02-07T06:11:48.213639",
     "status": "completed"
    },
    "tags": []
   },
   "source": [
    "What do you notice? The mean value is infinity, the standard deviation is NaN, and the max value is infinity. Why do you think this is?\n",
    "\n",
    "This is the result of there being values of zero in the `driving_days` column. Pandas imputes a value of infinity in the corresponding rows of the new column because division by zero is undefined.\n",
    "\n",
    "1. Convert these values from infinity to zero. You can use `np.inf` to refer to a value of infinity.\n",
    "\n",
    "2. Call `describe()` on the `km_per_driving_day` column to verify that it worked."
   ]
  },
  {
   "cell_type": "code",
   "execution_count": 32,
   "id": "d87c425c",
   "metadata": {
    "execution": {
     "iopub.execute_input": "2025-02-07T06:11:48.309017Z",
     "iopub.status.busy": "2025-02-07T06:11:48.308621Z",
     "iopub.status.idle": "2025-02-07T06:11:48.321773Z",
     "shell.execute_reply": "2025-02-07T06:11:48.320421Z"
    },
    "papermill": {
     "duration": 0.047804,
     "end_time": "2025-02-07T06:11:48.323861",
     "exception": false,
     "start_time": "2025-02-07T06:11:48.276057",
     "status": "completed"
    },
    "tags": []
   },
   "outputs": [
    {
     "data": {
      "text/plain": [
       "count    14999.000000\n",
       "mean       578.963113\n",
       "std       1030.094384\n",
       "min          0.000000\n",
       "25%        136.238895\n",
       "50%        272.889272\n",
       "75%        558.686918\n",
       "max      15420.234110\n",
       "Name: km_per_driving_day, dtype: float64"
      ]
     },
     "execution_count": 32,
     "metadata": {},
     "output_type": "execute_result"
    }
   ],
   "source": [
    "# 1. Convert infinite values to zero\n",
    "### YOUR CODE HERE ###\n",
    "\n",
    "df.loc[df['km_per_driving_day']==np.inf, 'km_per_driving_day'] = 0\n",
    "\n",
    "\n",
    "# 2. Confirm that it worked\n",
    "### YOUR CODE HERE ###\n",
    "\n",
    "df['km_per_driving_day'].describe()"
   ]
  },
  {
   "cell_type": "markdown",
   "id": "36688d20",
   "metadata": {
    "id": "DVCP1F9thspa",
    "papermill": {
     "duration": 0.032361,
     "end_time": "2025-02-07T06:11:48.386961",
     "exception": false,
     "start_time": "2025-02-07T06:11:48.354600",
     "status": "completed"
    },
    "tags": []
   },
   "source": [
    "The maximum value is 15,420 kilometers _per drive day_. This is physically impossible. Driving 100 km/hour for 12 hours is 1,200 km. It's unlikely many people averaged more than this each day they drove, so, for now, disregard rows where the distance in this column is greater than 1,200 km.\n",
    "\n",
    "Plot a histogram of the new `km_per_driving_day` column, disregarding those users with values greater than 1,200 km. Each bar should be the same length and have two colors, one color representing the percent of the users in that bar that churned and the other representing the percent that were retained. This can be done by setting the `multiple` parameter of seaborn's [`histplot()`](https://seaborn.pydata.org/generated/seaborn.histplot.html) function to `fill`."
   ]
  },
  {
   "cell_type": "code",
   "execution_count": 33,
   "id": "257b5003",
   "metadata": {
    "execution": {
     "iopub.execute_input": "2025-02-07T06:11:48.451861Z",
     "iopub.status.busy": "2025-02-07T06:11:48.451499Z",
     "iopub.status.idle": "2025-02-07T06:11:48.979387Z",
     "shell.execute_reply": "2025-02-07T06:11:48.977967Z"
    },
    "id": "8ntKu1bAhxhA",
    "papermill": {
     "duration": 0.563261,
     "end_time": "2025-02-07T06:11:48.981332",
     "exception": false,
     "start_time": "2025-02-07T06:11:48.418071",
     "status": "completed"
    },
    "tags": []
   },
   "outputs": [
    {
     "name": "stderr",
     "output_type": "stream",
     "text": [
      "/usr/local/lib/python3.10/dist-packages/seaborn/_oldcore.py:1119: FutureWarning: use_inf_as_na option is deprecated and will be removed in a future version. Convert inf values to NaN before operating instead.\n",
      "  with pd.option_context('mode.use_inf_as_na', True):\n",
      "/usr/local/lib/python3.10/dist-packages/seaborn/_oldcore.py:1075: FutureWarning: When grouping with a length-1 list-like, you will need to pass a length-1 tuple to get_group in a future version of pandas. Pass `(name,)` instead of `name` to silence this warning.\n",
      "  data_subset = grouped_data.get_group(pd_key)\n",
      "/usr/local/lib/python3.10/dist-packages/seaborn/_oldcore.py:1075: FutureWarning: When grouping with a length-1 list-like, you will need to pass a length-1 tuple to get_group in a future version of pandas. Pass `(name,)` instead of `name` to silence this warning.\n",
      "  data_subset = grouped_data.get_group(pd_key)\n",
      "/usr/local/lib/python3.10/dist-packages/seaborn/_oldcore.py:1075: FutureWarning: When grouping with a length-1 list-like, you will need to pass a length-1 tuple to get_group in a future version of pandas. Pass `(name,)` instead of `name` to silence this warning.\n",
      "  data_subset = grouped_data.get_group(pd_key)\n",
      "/usr/local/lib/python3.10/dist-packages/seaborn/_oldcore.py:1075: FutureWarning: When grouping with a length-1 list-like, you will need to pass a length-1 tuple to get_group in a future version of pandas. Pass `(name,)` instead of `name` to silence this warning.\n",
      "  data_subset = grouped_data.get_group(pd_key)\n"
     ]
    },
    {
     "data": {
      "image/png": "[encoded data removed]",
      "text/plain": [
       "<Figure size 1200x600 with 1 Axes>"
      ]
     },
     "metadata": {},
     "output_type": "display_data"
    }
   ],
   "source": [
    "# Histogram\n",
    "### YOUR CODE HERE ###\n",
    "\n",
    "\n",
    "# set plot size\n",
    "plt.figure(figsize=(12,6))\n",
    "\n",
    "# construct the histogram\n",
    "sns.histplot(data=df,\n",
    "             x='km_per_driving_day',\n",
    "             bins=range(0,1201,20),\n",
    "             hue='label',\n",
    "             multiple='fill')\n",
    "\n",
    "# set y label\n",
    "plt.ylabel('proportion', rotation=0)\n",
    "\n",
    "# set plot title\n",
    "plt.title('Churn rate proportions over mean km per driving day')\n",
    "\n",
    "# show the plot\n",
    "plt.show()"
   ]
  },
  {
   "cell_type": "markdown",
   "id": "e9f867fd",
   "metadata": {
    "id": "cD8icOhNh9zD",
    "papermill": {
     "duration": 0.031601,
     "end_time": "2025-02-07T06:11:49.044621",
     "exception": false,
     "start_time": "2025-02-07T06:11:49.013020",
     "status": "completed"
    },
    "tags": []
   },
   "source": [
    "The churn rate tends to increase as the mean daily distance driven increases, confirming what was found in the previous course. It would be worth investigating further the reasons for long-distance users to discontinue using the app."
   ]
  },
  {
   "cell_type": "markdown",
   "id": "b5d8c023",
   "metadata": {
    "id": "bKK1y7xTh-xY",
    "papermill": {
     "duration": 0.034151,
     "end_time": "2025-02-07T06:11:49.111002",
     "exception": false,
     "start_time": "2025-02-07T06:11:49.076851",
     "status": "completed"
    },
    "tags": []
   },
   "source": [
    "#### **Churn rate per number of driving days**\n",
    "\n",
    "Create another histogram just like the previous one, only this time it should represent the churn rate for each number of driving days."
   ]
  },
  {
   "cell_type": "code",
   "execution_count": 34,
   "id": "1bc9a414",
   "metadata": {
    "execution": {
     "iopub.execute_input": "2025-02-07T06:11:49.181144Z",
     "iopub.status.busy": "2025-02-07T06:11:49.180349Z",
     "iopub.status.idle": "2025-02-07T06:11:49.637965Z",
     "shell.execute_reply": "2025-02-07T06:11:49.636521Z"
    },
    "id": "GPc4nj-7iDPB",
    "papermill": {
     "duration": 0.494563,
     "end_time": "2025-02-07T06:11:49.640152",
     "exception": false,
     "start_time": "2025-02-07T06:11:49.145589",
     "status": "completed"
    },
    "tags": []
   },
   "outputs": [
    {
     "name": "stderr",
     "output_type": "stream",
     "text": [
      "/usr/local/lib/python3.10/dist-packages/seaborn/_oldcore.py:1119: FutureWarning: use_inf_as_na option is deprecated and will be removed in a future version. Convert inf values to NaN before operating instead.\n",
      "  with pd.option_context('mode.use_inf_as_na', True):\n",
      "/usr/local/lib/python3.10/dist-packages/seaborn/_oldcore.py:1075: FutureWarning: When grouping with a length-1 list-like, you will need to pass a length-1 tuple to get_group in a future version of pandas. Pass `(name,)` instead of `name` to silence this warning.\n",
      "  data_subset = grouped_data.get_group(pd_key)\n",
      "/usr/local/lib/python3.10/dist-packages/seaborn/_oldcore.py:1075: FutureWarning: When grouping with a length-1 list-like, you will need to pass a length-1 tuple to get_group in a future version of pandas. Pass `(name,)` instead of `name` to silence this warning.\n",
      "  data_subset = grouped_data.get_group(pd_key)\n",
      "/usr/local/lib/python3.10/dist-packages/seaborn/_oldcore.py:1075: FutureWarning: When grouping with a length-1 list-like, you will need to pass a length-1 tuple to get_group in a future version of pandas. Pass `(name,)` instead of `name` to silence this warning.\n",
      "  data_subset = grouped_data.get_group(pd_key)\n",
      "/usr/local/lib/python3.10/dist-packages/seaborn/_oldcore.py:1075: FutureWarning: When grouping with a length-1 list-like, you will need to pass a length-1 tuple to get_group in a future version of pandas. Pass `(name,)` instead of `name` to silence this warning.\n",
      "  data_subset = grouped_data.get_group(pd_key)\n"
     ]
    },
    {
     "data": {
      "image/png": "[encoded data removed]",
      "text/plain": [
       "<Figure size 1200x600 with 1 Axes>"
      ]
     },
     "metadata": {},
     "output_type": "display_data"
    }
   ],
   "source": [
    "# Histogram\n",
    "### YOUR CODE HERE ###\n",
    "\n",
    "# set plot size\n",
    "plt.figure(figsize=(12,6))\n",
    "\n",
    "# construct the histogram\n",
    "sns.histplot(data=df,\n",
    "             x='driving_days',\n",
    "             bins=range(1,32),\n",
    "             hue='label',\n",
    "             multiple='fill',\n",
    "             discrete=True)\n",
    "\n",
    "# set y label\n",
    "plt.ylabel('proportion', rotation=0)\n",
    "\n",
    "# set plot title\n",
    "plt.title('Churn rate proportions over driving days')\n",
    "\n",
    "# show the plot\n",
    "plt.show()"
   ]
  },
  {
   "cell_type": "markdown",
   "id": "d83bef14",
   "metadata": {
    "id": "RUD5Bf6yiDoa",
    "papermill": {
     "duration": 0.033564,
     "end_time": "2025-02-07T06:11:49.709259",
     "exception": false,
     "start_time": "2025-02-07T06:11:49.675695",
     "status": "completed"
    },
    "tags": []
   },
   "source": [
    "The churn rate is highest for people who didn't use Waze much during the last month. The more times they used the app, the less likely they were to churn. While 40% of the users who didn't use the app at all last month churned, nobody who used the app 30 days churned.\n",
    "\n",
    "This isn't surprising. If people who used the app a lot churned, it would likely indicate dissatisfaction. When people who don't use the app churn, it might be the result of dissatisfaction in the past, or it might be indicative of a lesser need for a navigational app. Maybe they moved to a city with good public transportation and don't need to drive anymore."
   ]
  },
  {
   "cell_type": "markdown",
   "id": "0446502b",
   "metadata": {
    "id": "75ncCHO7iEFi",
    "papermill": {
     "duration": 0.03266,
     "end_time": "2025-02-07T06:11:49.775057",
     "exception": false,
     "start_time": "2025-02-07T06:11:49.742397",
     "status": "completed"
    },
    "tags": []
   },
   "source": [
    "#### **Proportion of sessions that occurred in the last month**\n",
    "\n",
    "Create a new column `percent_sessions_in_last_month` that represents the percentage of each user's total sessions that were logged in their last month of use."
   ]
  },
  {
   "cell_type": "code",
   "execution_count": 35,
   "id": "db5c5fbb",
   "metadata": {
    "execution": {
     "iopub.execute_input": "2025-02-07T06:11:49.841992Z",
     "iopub.status.busy": "2025-02-07T06:11:49.841608Z",
     "iopub.status.idle": "2025-02-07T06:11:49.847292Z",
     "shell.execute_reply": "2025-02-07T06:11:49.846283Z"
    },
    "id": "NyXwJMJTiSdK",
    "papermill": {
     "duration": 0.041079,
     "end_time": "2025-02-07T06:11:49.849133",
     "exception": false,
     "start_time": "2025-02-07T06:11:49.808054",
     "status": "completed"
    },
    "tags": []
   },
   "outputs": [],
   "source": [
    "### YOUR CODE HERE ###\n",
    "df['percent_sessions_in_last_month'] = df['sessions'] / df['total_sessions'] *100"
   ]
  },
  {
   "cell_type": "markdown",
   "id": "3dcdc3ff",
   "metadata": {
    "id": "w30I7A3UiWQD",
    "papermill": {
     "duration": 0.03208,
     "end_time": "2025-02-07T06:11:49.913993",
     "exception": false,
     "start_time": "2025-02-07T06:11:49.881913",
     "status": "completed"
    },
    "tags": []
   },
   "source": [
    "What is the median value of the new column?"
   ]
  },
  {
   "cell_type": "code",
   "execution_count": 36,
   "id": "a145696a",
   "metadata": {
    "execution": {
     "iopub.execute_input": "2025-02-07T06:11:49.981183Z",
     "iopub.status.busy": "2025-02-07T06:11:49.980807Z",
     "iopub.status.idle": "2025-02-07T06:11:49.987051Z",
     "shell.execute_reply": "2025-02-07T06:11:49.986058Z"
    },
    "id": "3wa8IZ7UiS5l",
    "papermill": {
     "duration": 0.041695,
     "end_time": "2025-02-07T06:11:49.988736",
     "exception": false,
     "start_time": "2025-02-07T06:11:49.947041",
     "status": "completed"
    },
    "tags": []
   },
   "outputs": [
    {
     "data": {
      "text/plain": [
       "42.30970299276318"
      ]
     },
     "execution_count": 36,
     "metadata": {},
     "output_type": "execute_result"
    }
   ],
   "source": [
    "### YOUR CODE HERE ###\n",
    "df['percent_sessions_in_last_month'].median()"
   ]
  },
  {
   "cell_type": "markdown",
   "id": "e13841ec",
   "metadata": {
    "id": "8EKHSAnXiaIY",
    "papermill": {
     "duration": 0.032101,
     "end_time": "2025-02-07T06:11:50.053140",
     "exception": false,
     "start_time": "2025-02-07T06:11:50.021039",
     "status": "completed"
    },
    "tags": []
   },
   "source": [
    "Now, create a histogram depicting the distribution of values in this new column."
   ]
  },
  {
   "cell_type": "code",
   "execution_count": 37,
   "id": "c90b4705",
   "metadata": {
    "execution": {
     "iopub.execute_input": "2025-02-07T06:11:50.124023Z",
     "iopub.status.busy": "2025-02-07T06:11:50.123640Z",
     "iopub.status.idle": "2025-02-07T06:11:51.000685Z",
     "shell.execute_reply": "2025-02-07T06:11:50.999331Z"
    },
    "id": "9NtRmPHpieC3",
    "papermill": {
     "duration": 0.915576,
     "end_time": "2025-02-07T06:11:51.002716",
     "exception": false,
     "start_time": "2025-02-07T06:11:50.087140",
     "status": "completed"
    },
    "tags": []
   },
   "outputs": [
    {
     "name": "stdout",
     "output_type": "stream",
     "text": [
      "mean: 44.92553378171563\n",
      "median: 42.30970299276318\n"
     ]
    },
    {
     "name": "stderr",
     "output_type": "stream",
     "text": [
      "/usr/local/lib/python3.10/dist-packages/seaborn/_oldcore.py:1119: FutureWarning: use_inf_as_na option is deprecated and will be removed in a future version. Convert inf values to NaN before operating instead.\n",
      "  with pd.option_context('mode.use_inf_as_na', True):\n",
      "/usr/local/lib/python3.10/dist-packages/seaborn/_oldcore.py:1075: FutureWarning: When grouping with a length-1 list-like, you will need to pass a length-1 tuple to get_group in a future version of pandas. Pass `(name,)` instead of `name` to silence this warning.\n",
      "  data_subset = grouped_data.get_group(pd_key)\n",
      "/usr/local/lib/python3.10/dist-packages/seaborn/_oldcore.py:1075: FutureWarning: When grouping with a length-1 list-like, you will need to pass a length-1 tuple to get_group in a future version of pandas. Pass `(name,)` instead of `name` to silence this warning.\n",
      "  data_subset = grouped_data.get_group(pd_key)\n",
      "/usr/local/lib/python3.10/dist-packages/seaborn/_oldcore.py:1075: FutureWarning: When grouping with a length-1 list-like, you will need to pass a length-1 tuple to get_group in a future version of pandas. Pass `(name,)` instead of `name` to silence this warning.\n",
      "  data_subset = grouped_data.get_group(pd_key)\n"
     ]
    },
    {
     "data": {
      "image/png": "[encoded data removed]",
      "text/plain": [
       "<Figure size 1200x600 with 1 Axes>"
      ]
     },
     "metadata": {},
     "output_type": "display_data"
    }
   ],
   "source": [
    "# Histogram\n",
    "### YOUR CODE HERE ###\n",
    "\n",
    "# set plot size\n",
    "plt.figure(figsize=(12,6))\n",
    "\n",
    "# printing mean and media\n",
    "print('mean:', df['percent_sessions_in_last_month'].mean())\n",
    "print('median:', df['percent_sessions_in_last_month'].median())\n",
    "\n",
    "# construct the histogram\n",
    "sns.histplot(data=df,\n",
    "             x='percent_sessions_in_last_month',\n",
    "             hue='label',\n",
    "             multiple='layer',\n",
    "             discrete=True)\n",
    "\n",
    "# set plot title\n",
    "plt.title('Histogram of percent sessions in last month')\n",
    "\n",
    "\n",
    "# plot mean and median\n",
    "plt.axvline(df['percent_sessions_in_last_month'].mean(), color='red', linestyle='-')\n",
    "plt.axvline(df['percent_sessions_in_last_month'].median(), color='red', linestyle='--')\n",
    "\n",
    "# show the plot\n",
    "plt.show()"
   ]
  },
  {
   "cell_type": "markdown",
   "id": "6d2e33db",
   "metadata": {
    "id": "_oSkxrx2iehb",
    "papermill": {
     "duration": 0.032774,
     "end_time": "2025-02-07T06:11:51.071371",
     "exception": false,
     "start_time": "2025-02-07T06:11:51.038597",
     "status": "completed"
    },
    "tags": []
   },
   "source": [
    "Check the median value of the `n_days_after_onboarding` variable."
   ]
  },
  {
   "cell_type": "code",
   "execution_count": 38,
   "id": "256fe150",
   "metadata": {
    "execution": {
     "iopub.execute_input": "2025-02-07T06:11:51.142128Z",
     "iopub.status.busy": "2025-02-07T06:11:51.141742Z",
     "iopub.status.idle": "2025-02-07T06:11:51.149479Z",
     "shell.execute_reply": "2025-02-07T06:11:51.148141Z"
    },
    "id": "pHJADu8Mi0u2",
    "papermill": {
     "duration": 0.045558,
     "end_time": "2025-02-07T06:11:51.152805",
     "exception": false,
     "start_time": "2025-02-07T06:11:51.107247",
     "status": "completed"
    },
    "tags": []
   },
   "outputs": [
    {
     "data": {
      "text/plain": [
       "1741.0"
      ]
     },
     "execution_count": 38,
     "metadata": {},
     "output_type": "execute_result"
    }
   ],
   "source": [
    "### YOUR CODE HERE ###\n",
    "df['n_days_after_onboarding'].median()"
   ]
  },
  {
   "cell_type": "markdown",
   "id": "9b5da7bc",
   "metadata": {
    "id": "4IFsNT-9izvT",
    "papermill": {
     "duration": 0.035427,
     "end_time": "2025-02-07T06:11:51.225730",
     "exception": false,
     "start_time": "2025-02-07T06:11:51.190303",
     "status": "completed"
    },
    "tags": []
   },
   "source": [
    "Half of the people in the dataset had 40% or more of their sessions in just the last month, yet the overall median time since onboarding is almost five years.\n",
    "\n",
    "Make a histogram of `n_days_after_onboarding` for just the people who had 40% or more of their total sessions in the last month."
   ]
  },
  {
   "cell_type": "code",
   "execution_count": 39,
   "id": "b1665ddb",
   "metadata": {
    "execution": {
     "iopub.execute_input": "2025-02-07T06:11:51.298333Z",
     "iopub.status.busy": "2025-02-07T06:11:51.297958Z",
     "iopub.status.idle": "2025-02-07T06:11:51.554590Z",
     "shell.execute_reply": "2025-02-07T06:11:51.553177Z"
    },
    "id": "AsycVhNdi-Va",
    "papermill": {
     "duration": 0.295685,
     "end_time": "2025-02-07T06:11:51.557062",
     "exception": false,
     "start_time": "2025-02-07T06:11:51.261377",
     "status": "completed"
    },
    "tags": []
   },
   "outputs": [
    {
     "name": "stderr",
     "output_type": "stream",
     "text": [
      "/usr/local/lib/python3.10/dist-packages/seaborn/_oldcore.py:1119: FutureWarning: use_inf_as_na option is deprecated and will be removed in a future version. Convert inf values to NaN before operating instead.\n",
      "  with pd.option_context('mode.use_inf_as_na', True):\n"
     ]
    },
    {
     "data": {
      "image/png": "[encoded data removed]",
      "text/plain": [
       "<Figure size 1200x600 with 1 Axes>"
      ]
     },
     "metadata": {},
     "output_type": "display_data"
    }
   ],
   "source": [
    "# Histogram\n",
    "### YOUR CODE HERE ###\n",
    "\n",
    "# set plot size\n",
    "plt.figure(figsize=(12,6))\n",
    "\n",
    "# construct the histogram\n",
    "sns.histplot(data=df[df['percent_sessions_in_last_month'] >= 40],\n",
    "             x='n_days_after_onboarding')\n",
    "\n",
    "# set y label\n",
    "plt.ylabel('proportion', rotation=0)\n",
    "\n",
    "# set plot title\n",
    "plt.title('# of days AFTER onboarding (ONLY for users with \" >= 40% sessions \" in previous month)')\n",
    "\n",
    "# show the plot\n",
    "plt.show()"
   ]
  },
  {
   "cell_type": "markdown",
   "id": "c37c5fe4",
   "metadata": {
    "id": "flcUGkjUjAqW",
    "papermill": {
     "duration": 0.034676,
     "end_time": "2025-02-07T06:11:51.629139",
     "exception": false,
     "start_time": "2025-02-07T06:11:51.594463",
     "status": "completed"
    },
    "tags": []
   },
   "source": [
    "The number of days since onboarding for users with 40% or more of their total sessions occurring in just the last month is a uniform distribution. This is very strange. It's worth asking Waze why so many long-time users suddenly used the app so much in the last month."
   ]
  },
  {
   "cell_type": "markdown",
   "id": "8d4b20a7",
   "metadata": {
    "id": "O0zL7Nd0jMYS",
    "papermill": {
     "duration": 0.034879,
     "end_time": "2025-02-07T06:11:51.698781",
     "exception": false,
     "start_time": "2025-02-07T06:11:51.663902",
     "status": "completed"
    },
    "tags": []
   },
   "source": [
    "### **Task 3b. Handling outliers**\n",
    "\n",
    "The box plots from the previous section indicated that many of these variables have outliers. These outliers do not seem to be data entry errors; they are present because of the right-skewed distributions.\n",
    "\n",
    "Depending on what you'll be doing with this data, it may be useful to impute outlying data with more reasonable values. One way of performing this imputation is to set a threshold based on a percentile of the distribution.\n",
    "\n",
    "To practice this technique, write a function that calculates the 95th percentile of a given column, then imputes values > the 95th percentile with the value at the 95th percentile.  such as the 95th percentile of the distribution.\n",
    "\n"
   ]
  },
  {
   "cell_type": "code",
   "execution_count": 40,
   "id": "523ac3da",
   "metadata": {
    "execution": {
     "iopub.execute_input": "2025-02-07T06:11:51.768537Z",
     "iopub.status.busy": "2025-02-07T06:11:51.768141Z",
     "iopub.status.idle": "2025-02-07T06:11:51.773442Z",
     "shell.execute_reply": "2025-02-07T06:11:51.772384Z"
    },
    "id": "4Ki9T-m7jsGy",
    "papermill": {
     "duration": 0.042585,
     "end_time": "2025-02-07T06:11:51.775268",
     "exception": false,
     "start_time": "2025-02-07T06:11:51.732683",
     "status": "completed"
    },
    "tags": []
   },
   "outputs": [],
   "source": [
    "### YOUR CODE HERE ###\n",
    "\n",
    "# function to replace the outliers with a particular percentile values\n",
    "def outlier_imputer(column_name, percentile):\n",
    "    \n",
    "    # Calculate threshold\n",
    "    threshold = df[column_name].quantile(percentile)\n",
    "    \n",
    "    # fill in the values \n",
    "    df.loc[df[column_name] > threshold, column_name] = threshold\n",
    "    \n",
    "    # printing hte values of the percentiles replaced\n",
    "    print('{:>25} | percentile: {} | threshold: {}'.format(column_name, percentile, threshold))"
   ]
  },
  {
   "cell_type": "markdown",
   "id": "489823cb",
   "metadata": {
    "id": "nsdi-4dSkmMF",
    "papermill": {
     "duration": 0.033623,
     "end_time": "2025-02-07T06:11:51.844369",
     "exception": false,
     "start_time": "2025-02-07T06:11:51.810746",
     "status": "completed"
    },
    "tags": []
   },
   "source": [
    "Next, apply that function to the following columns:\n",
    "* `sessions`\n",
    "* `drives`\n",
    "* `total_sessions`\n",
    "* `driven_km_drives`\n",
    "* `duration_minutes_drives`"
   ]
  },
  {
   "cell_type": "code",
   "execution_count": 41,
   "id": "0d0607ad",
   "metadata": {
    "execution": {
     "iopub.execute_input": "2025-02-07T06:11:51.914039Z",
     "iopub.status.busy": "2025-02-07T06:11:51.913679Z",
     "iopub.status.idle": "2025-02-07T06:11:51.929874Z",
     "shell.execute_reply": "2025-02-07T06:11:51.928696Z"
    },
    "id": "f6_TKdIHjtS9",
    "papermill": {
     "duration": 0.053631,
     "end_time": "2025-02-07T06:11:51.931769",
     "exception": false,
     "start_time": "2025-02-07T06:11:51.878138",
     "status": "completed"
    },
    "tags": []
   },
   "outputs": [
    {
     "name": "stdout",
     "output_type": "stream",
     "text": [
      "                 sessions | percentile: 0.95 | threshold: 243.0\n",
      "                   drives | percentile: 0.95 | threshold: 201.0\n",
      "           total_sessions | percentile: 0.95 | threshold: 454.3632037399997\n",
      "         driven_km_drives | percentile: 0.95 | threshold: 8889.7942356\n",
      "  duration_minutes_drives | percentile: 0.95 | threshold: 4668.899348999998\n"
     ]
    }
   ],
   "source": [
    "### YOUR CODE HERE ###\n",
    "col_list = ['sessions','drives','total_sessions','driven_km_drives','duration_minutes_drives']\n",
    "\n",
    "\n",
    "\n",
    "for col in col_list:\n",
    "    \n",
    "    # printing the replaced outliers --> threshold\n",
    "    outlier_imputer(col, 0.95)\n"
   ]
  },
  {
   "cell_type": "markdown",
   "id": "8fbbcaa9",
   "metadata": {
    "id": "_Az4Ma-xj3K4",
    "papermill": {
     "duration": 0.033523,
     "end_time": "2025-02-07T06:11:52.000598",
     "exception": false,
     "start_time": "2025-02-07T06:11:51.967075",
     "status": "completed"
    },
    "tags": []
   },
   "source": [
    "Call `describe()` to see if your change worked."
   ]
  },
  {
   "cell_type": "code",
   "execution_count": 42,
   "id": "8b776967",
   "metadata": {
    "execution": {
     "iopub.execute_input": "2025-02-07T06:11:52.070277Z",
     "iopub.status.busy": "2025-02-07T06:11:52.069884Z",
     "iopub.status.idle": "2025-02-07T06:11:52.120771Z",
     "shell.execute_reply": "2025-02-07T06:11:52.119561Z"
    },
    "id": "IXQkG9RekP85",
    "papermill": {
     "duration": 0.087735,
     "end_time": "2025-02-07T06:11:52.122919",
     "exception": false,
     "start_time": "2025-02-07T06:11:52.035184",
     "status": "completed"
    },
    "tags": []
   },
   "outputs": [
    {
     "data": {
      "text/html": [
       "<div>\n",
       "<style scoped>\n",
       "    .dataframe tbody tr th:only-of-type {\n",
       "        vertical-align: middle;\n",
       "    }\n",
       "\n",
       "    .dataframe tbody tr th {\n",
       "        vertical-align: top;\n",
       "    }\n",
       "\n",
       "    .dataframe thead th {\n",
       "        text-align: right;\n",
       "    }\n",
       "</style>\n",
       "<table border=\"1\" class=\"dataframe\">\n",
       "  <thead>\n",
       "    <tr style=\"text-align: right;\">\n",
       "      <th></th>\n",
       "      <th>ID</th>\n",
       "      <th>sessions</th>\n",
       "      <th>drives</th>\n",
       "      <th>total_sessions</th>\n",
       "      <th>n_days_after_onboarding</th>\n",
       "      <th>total_navigations_fav1</th>\n",
       "      <th>total_navigations_fav2</th>\n",
       "      <th>driven_km_drives</th>\n",
       "      <th>duration_minutes_drives</th>\n",
       "      <th>activity_days</th>\n",
       "      <th>driving_days</th>\n",
       "      <th>km_per_driving_day</th>\n",
       "      <th>percent_sessions_in_last_month</th>\n",
       "    </tr>\n",
       "  </thead>\n",
       "  <tbody>\n",
       "    <tr>\n",
       "      <th>count</th>\n",
       "      <td>14999.000000</td>\n",
       "      <td>14999.000000</td>\n",
       "      <td>14999.000000</td>\n",
       "      <td>14999.000000</td>\n",
       "      <td>14999.000000</td>\n",
       "      <td>14999.000000</td>\n",
       "      <td>14999.000000</td>\n",
       "      <td>14999.000000</td>\n",
       "      <td>14999.000000</td>\n",
       "      <td>14999.000000</td>\n",
       "      <td>14999.000000</td>\n",
       "      <td>14999.000000</td>\n",
       "      <td>14999.000000</td>\n",
       "    </tr>\n",
       "    <tr>\n",
       "      <th>mean</th>\n",
       "      <td>7499.000000</td>\n",
       "      <td>76.568705</td>\n",
       "      <td>64.058204</td>\n",
       "      <td>184.031320</td>\n",
       "      <td>1749.837789</td>\n",
       "      <td>121.605974</td>\n",
       "      <td>29.672512</td>\n",
       "      <td>3939.632764</td>\n",
       "      <td>1789.647426</td>\n",
       "      <td>15.537102</td>\n",
       "      <td>12.179879</td>\n",
       "      <td>578.963113</td>\n",
       "      <td>44.925534</td>\n",
       "    </tr>\n",
       "    <tr>\n",
       "      <th>std</th>\n",
       "      <td>4329.982679</td>\n",
       "      <td>67.297958</td>\n",
       "      <td>55.306924</td>\n",
       "      <td>118.600463</td>\n",
       "      <td>1008.513876</td>\n",
       "      <td>148.121544</td>\n",
       "      <td>45.394651</td>\n",
       "      <td>2216.041510</td>\n",
       "      <td>1222.705167</td>\n",
       "      <td>9.004655</td>\n",
       "      <td>7.824036</td>\n",
       "      <td>1030.094384</td>\n",
       "      <td>28.691863</td>\n",
       "    </tr>\n",
       "    <tr>\n",
       "      <th>min</th>\n",
       "      <td>0.000000</td>\n",
       "      <td>0.000000</td>\n",
       "      <td>0.000000</td>\n",
       "      <td>0.220211</td>\n",
       "      <td>4.000000</td>\n",
       "      <td>0.000000</td>\n",
       "      <td>0.000000</td>\n",
       "      <td>60.441250</td>\n",
       "      <td>18.282082</td>\n",
       "      <td>0.000000</td>\n",
       "      <td>0.000000</td>\n",
       "      <td>0.000000</td>\n",
       "      <td>0.000000</td>\n",
       "    </tr>\n",
       "    <tr>\n",
       "      <th>25%</th>\n",
       "      <td>3749.500000</td>\n",
       "      <td>23.000000</td>\n",
       "      <td>20.000000</td>\n",
       "      <td>90.661156</td>\n",
       "      <td>878.000000</td>\n",
       "      <td>9.000000</td>\n",
       "      <td>0.000000</td>\n",
       "      <td>2212.600607</td>\n",
       "      <td>835.996260</td>\n",
       "      <td>8.000000</td>\n",
       "      <td>5.000000</td>\n",
       "      <td>136.238895</td>\n",
       "      <td>19.622145</td>\n",
       "    </tr>\n",
       "    <tr>\n",
       "      <th>50%</th>\n",
       "      <td>7499.000000</td>\n",
       "      <td>56.000000</td>\n",
       "      <td>48.000000</td>\n",
       "      <td>159.568115</td>\n",
       "      <td>1741.000000</td>\n",
       "      <td>71.000000</td>\n",
       "      <td>9.000000</td>\n",
       "      <td>3493.858085</td>\n",
       "      <td>1478.249859</td>\n",
       "      <td>16.000000</td>\n",
       "      <td>12.000000</td>\n",
       "      <td>272.889272</td>\n",
       "      <td>42.309703</td>\n",
       "    </tr>\n",
       "    <tr>\n",
       "      <th>75%</th>\n",
       "      <td>11248.500000</td>\n",
       "      <td>112.000000</td>\n",
       "      <td>93.000000</td>\n",
       "      <td>254.192341</td>\n",
       "      <td>2623.500000</td>\n",
       "      <td>178.000000</td>\n",
       "      <td>43.000000</td>\n",
       "      <td>5289.861262</td>\n",
       "      <td>2464.362632</td>\n",
       "      <td>23.000000</td>\n",
       "      <td>19.000000</td>\n",
       "      <td>558.686918</td>\n",
       "      <td>68.721626</td>\n",
       "    </tr>\n",
       "    <tr>\n",
       "      <th>max</th>\n",
       "      <td>14998.000000</td>\n",
       "      <td>243.000000</td>\n",
       "      <td>201.000000</td>\n",
       "      <td>454.363204</td>\n",
       "      <td>3500.000000</td>\n",
       "      <td>1236.000000</td>\n",
       "      <td>415.000000</td>\n",
       "      <td>8889.794236</td>\n",
       "      <td>4668.899349</td>\n",
       "      <td>31.000000</td>\n",
       "      <td>30.000000</td>\n",
       "      <td>15420.234110</td>\n",
       "      <td>153.063707</td>\n",
       "    </tr>\n",
       "  </tbody>\n",
       "</table>\n",
       "</div>"
      ],
      "text/plain": [
       "                 ID      sessions        drives  total_sessions  \\\n",
       "count  14999.000000  14999.000000  14999.000000    14999.000000   \n",
       "mean    7499.000000     76.568705     64.058204      184.031320   \n",
       "std     4329.982679     67.297958     55.306924      118.600463   \n",
       "min        0.000000      0.000000      0.000000        0.220211   \n",
       "25%     3749.500000     23.000000     20.000000       90.661156   \n",
       "50%     7499.000000     56.000000     48.000000      159.568115   \n",
       "75%    11248.500000    112.000000     93.000000      254.192341   \n",
       "max    14998.000000    243.000000    201.000000      454.363204   \n",
       "\n",
       "       n_days_after_onboarding  total_navigations_fav1  \\\n",
       "count             14999.000000            14999.000000   \n",
       "mean               1749.837789              121.605974   \n",
       "std                1008.513876              148.121544   \n",
       "min                   4.000000                0.000000   \n",
       "25%                 878.000000                9.000000   \n",
       "50%                1741.000000               71.000000   \n",
       "75%                2623.500000              178.000000   \n",
       "max                3500.000000             1236.000000   \n",
       "\n",
       "       total_navigations_fav2  driven_km_drives  duration_minutes_drives  \\\n",
       "count            14999.000000      14999.000000             14999.000000   \n",
       "mean                29.672512       3939.632764              1789.647426   \n",
       "std                 45.394651       2216.041510              1222.705167   \n",
       "min                  0.000000         60.441250                18.282082   \n",
       "25%                  0.000000       2212.600607               835.996260   \n",
       "50%                  9.000000       3493.858085              1478.249859   \n",
       "75%                 43.000000       5289.861262              2464.362632   \n",
       "max                415.000000       8889.794236              4668.899349   \n",
       "\n",
       "       activity_days  driving_days  km_per_driving_day  \\\n",
       "count   14999.000000  14999.000000        14999.000000   \n",
       "mean       15.537102     12.179879          578.963113   \n",
       "std         9.004655      7.824036         1030.094384   \n",
       "min         0.000000      0.000000            0.000000   \n",
       "25%         8.000000      5.000000          136.238895   \n",
       "50%        16.000000     12.000000          272.889272   \n",
       "75%        23.000000     19.000000          558.686918   \n",
       "max        31.000000     30.000000        15420.234110   \n",
       "\n",
       "       percent_sessions_in_last_month  \n",
       "count                    14999.000000  \n",
       "mean                        44.925534  \n",
       "std                         28.691863  \n",
       "min                          0.000000  \n",
       "25%                         19.622145  \n",
       "50%                         42.309703  \n",
       "75%                         68.721626  \n",
       "max                        153.063707  "
      ]
     },
     "execution_count": 42,
     "metadata": {},
     "output_type": "execute_result"
    }
   ],
   "source": [
    "### YOUR CODE HERE ###\n",
    "df.describe()"
   ]
  },
  {
   "cell_type": "markdown",
   "id": "255f0ca2",
   "metadata": {
    "id": "DHwqofOJkQcl",
    "papermill": {
     "duration": 0.03623,
     "end_time": "2025-02-07T06:11:52.193665",
     "exception": false,
     "start_time": "2025-02-07T06:11:52.157435",
     "status": "completed"
    },
    "tags": []
   },
   "source": [
    "#### **Conclusion**\n",
    "\n",
    "Analysis revealed that the overall churn rate is \\~17%, and that this rate is consistent between iPhone users and Android users.\n",
    "\n",
    "Perhaps you feel that the more deeply you explore the data, the more questions arise. This is not uncommon! In this case, it's worth asking the Waze data team why so many users used the app so much in just the last month.\n",
    "\n",
    "Also, EDA has revealed that users who drive very long distances on their driving days are _more_ likely to churn, but users who drive more often are _less_ likely to churn. The reason for this discrepancy is an opportunity for further investigation, and it would be something else to ask the Waze data team about."
   ]
  },
  {
   "cell_type": "markdown",
   "id": "09084cd8",
   "metadata": {
    "id": "NsvBtco1x8GN",
    "papermill": {
     "duration": 0.035139,
     "end_time": "2025-02-07T06:11:52.264607",
     "exception": false,
     "start_time": "2025-02-07T06:11:52.229468",
     "status": "completed"
    },
    "tags": []
   },
   "source": [
    "<img src=\"images/Execute.png\" width=\"100\" height=\"100\" align=left>\n",
    "\n",
    "## **PACE: Execute**\n",
    "\n",
    "Consider the questions in your PACE Strategy Document to reflect on the Execute stage."
   ]
  },
  {
   "cell_type": "markdown",
   "id": "9d3ff281",
   "metadata": {
    "id": "csHAfM-RSO7l",
    "papermill": {
     "duration": 0.035097,
     "end_time": "2025-02-07T06:11:52.334343",
     "exception": false,
     "start_time": "2025-02-07T06:11:52.299246",
     "status": "completed"
    },
    "tags": []
   },
   "source": [
    "### **Task 4a. Results and evaluation**\n",
    "\n",
    "Having built visualizations in Python, what have you learned about the dataset? What other questions have your visualizations uncovered that you should pursue?\n",
    "\n",
    "**Pro tip:** Put yourself in your client's perspective. What would they want to know?\n",
    "\n",
    "Use the following code fields to pursue any additional EDA based on the visualizations you've already plotted. Also use the space to make sure your visualizations are clean, easily understandable, and accessible.\n",
    "\n",
    "**Ask yourself:** Did you consider color, contrast, emphasis, and labeling?\n",
    "\n"
   ]
  },
  {
   "cell_type": "markdown",
   "id": "5f926175",
   "metadata": {
    "id": "pOp0vmf1zOHO",
    "papermill": {
     "duration": 0.03464,
     "end_time": "2025-02-07T06:11:52.403163",
     "exception": false,
     "start_time": "2025-02-07T06:11:52.368523",
     "status": "completed"
    },
    "tags": []
   },
   "source": [
    "\n",
    "I have learned ....\n",
    "\n",
    "* n_days_after_onboarding, activity_days are uniformally distributed\n",
    "* sessions, drives, total_sessions, driven_km_drives, duration_minutes_drives have distributions with right skew\n",
    "* about ~65% of the users in the sample use iphone\n",
    "* almost ~82% of the users in the sample are retained\n",
    "* almost all distributions are skewed to the right\n",
    "* the target column has null values, since target column cannot be directly imputed neither can it be dropped because of the value of sample size, further exploration is needed\n",
    "* outliers have been imputed, need to re-examine if the changes made will influence the models about to be built. If it takes us haywire, we need to reassess the way to handle the outliers based on each variable\n",
    "\n",
    "My other questions are ....\n",
    "* ask the data engineer or the data source, how the nulls in the label column come up?\n",
    "* retained users all have fewer drives than churned users, is this a sampling observation or it represents the population's behavior?\n",
    "* contextual (qualitative) information about the sample dataset?\n",
    "\n",
    "\n",
    "My client would likely want to know ...\n",
    "* any interventions or promos that can be offered targeted to users who are about to be churned?\n",
    "* improvements in observing the reasons behind user churn in contextual factors (we only have android and iphone here)\n",
    "\n"
   ]
  },
  {
   "cell_type": "markdown",
   "id": "1d753d66",
   "metadata": {
    "id": "8DPt8f6Pa2hg",
    "papermill": {
     "duration": 0.034977,
     "end_time": "2025-02-07T06:11:52.472323",
     "exception": false,
     "start_time": "2025-02-07T06:11:52.437346",
     "status": "completed"
    },
    "tags": []
   },
   "source": [
    "Use the following two code blocks (add more blocks if you like) to do additional EDA you feel is important based on the given scenario."
   ]
  },
  {
   "cell_type": "code",
   "execution_count": 43,
   "id": "99ffbef9",
   "metadata": {
    "execution": {
     "iopub.execute_input": "2025-02-07T06:11:52.545031Z",
     "iopub.status.busy": "2025-02-07T06:11:52.544666Z",
     "iopub.status.idle": "2025-02-07T06:11:52.550539Z",
     "shell.execute_reply": "2025-02-07T06:11:52.549528Z"
    },
    "id": "puYiPmvGdTJH",
    "papermill": {
     "duration": 0.045529,
     "end_time": "2025-02-07T06:11:52.552173",
     "exception": false,
     "start_time": "2025-02-07T06:11:52.506644",
     "status": "completed"
    },
    "tags": []
   },
   "outputs": [],
   "source": [
    "### YOUR CODE HERE ###\n",
    "\n",
    "# monthly km drives per session\n",
    "df['monthly_km_per_session'] = (df['driven_km_drives']/(df['sessions']))"
   ]
  },
  {
   "cell_type": "code",
   "execution_count": 44,
   "id": "ffee3eab",
   "metadata": {
    "execution": {
     "iopub.execute_input": "2025-02-07T06:11:52.622466Z",
     "iopub.status.busy": "2025-02-07T06:11:52.622054Z",
     "iopub.status.idle": "2025-02-07T06:11:52.637489Z",
     "shell.execute_reply": "2025-02-07T06:11:52.636323Z"
    },
    "id": "iEv7pHw-dTRP",
    "papermill": {
     "duration": 0.052704,
     "end_time": "2025-02-07T06:11:52.639265",
     "exception": false,
     "start_time": "2025-02-07T06:11:52.586561",
     "status": "completed"
    },
    "tags": []
   },
   "outputs": [
    {
     "data": {
      "text/html": [
       "<div>\n",
       "<style scoped>\n",
       "    .dataframe tbody tr th:only-of-type {\n",
       "        vertical-align: middle;\n",
       "    }\n",
       "\n",
       "    .dataframe tbody tr th {\n",
       "        vertical-align: top;\n",
       "    }\n",
       "\n",
       "    .dataframe thead th {\n",
       "        text-align: right;\n",
       "    }\n",
       "</style>\n",
       "<table border=\"1\" class=\"dataframe\">\n",
       "  <thead>\n",
       "    <tr style=\"text-align: right;\">\n",
       "      <th></th>\n",
       "      <th>ID</th>\n",
       "      <th>label</th>\n",
       "      <th>sessions</th>\n",
       "      <th>drives</th>\n",
       "      <th>total_sessions</th>\n",
       "      <th>n_days_after_onboarding</th>\n",
       "      <th>total_navigations_fav1</th>\n",
       "      <th>total_navigations_fav2</th>\n",
       "      <th>driven_km_drives</th>\n",
       "      <th>duration_minutes_drives</th>\n",
       "      <th>activity_days</th>\n",
       "      <th>driving_days</th>\n",
       "      <th>device</th>\n",
       "      <th>km_per_driving_day</th>\n",
       "      <th>percent_sessions_in_last_month</th>\n",
       "      <th>monthly_km_per_session</th>\n",
       "    </tr>\n",
       "  </thead>\n",
       "  <tbody>\n",
       "    <tr>\n",
       "      <th>0</th>\n",
       "      <td>0</td>\n",
       "      <td>retained</td>\n",
       "      <td>243</td>\n",
       "      <td>201</td>\n",
       "      <td>296.748273</td>\n",
       "      <td>2276</td>\n",
       "      <td>208</td>\n",
       "      <td>0</td>\n",
       "      <td>2628.845068</td>\n",
       "      <td>1985.775061</td>\n",
       "      <td>28</td>\n",
       "      <td>19</td>\n",
       "      <td>Android</td>\n",
       "      <td>138.360267</td>\n",
       "      <td>95.367025</td>\n",
       "      <td>10.818292</td>\n",
       "    </tr>\n",
       "    <tr>\n",
       "      <th>1</th>\n",
       "      <td>1</td>\n",
       "      <td>retained</td>\n",
       "      <td>133</td>\n",
       "      <td>107</td>\n",
       "      <td>326.896596</td>\n",
       "      <td>1225</td>\n",
       "      <td>19</td>\n",
       "      <td>64</td>\n",
       "      <td>8889.794236</td>\n",
       "      <td>3160.472914</td>\n",
       "      <td>13</td>\n",
       "      <td>11</td>\n",
       "      <td>iPhone</td>\n",
       "      <td>1246.901868</td>\n",
       "      <td>40.685648</td>\n",
       "      <td>66.840558</td>\n",
       "    </tr>\n",
       "    <tr>\n",
       "      <th>2</th>\n",
       "      <td>2</td>\n",
       "      <td>retained</td>\n",
       "      <td>114</td>\n",
       "      <td>95</td>\n",
       "      <td>135.522926</td>\n",
       "      <td>2651</td>\n",
       "      <td>0</td>\n",
       "      <td>0</td>\n",
       "      <td>3059.148818</td>\n",
       "      <td>1610.735904</td>\n",
       "      <td>14</td>\n",
       "      <td>8</td>\n",
       "      <td>Android</td>\n",
       "      <td>382.393602</td>\n",
       "      <td>84.118609</td>\n",
       "      <td>26.834639</td>\n",
       "    </tr>\n",
       "    <tr>\n",
       "      <th>3</th>\n",
       "      <td>3</td>\n",
       "      <td>retained</td>\n",
       "      <td>49</td>\n",
       "      <td>40</td>\n",
       "      <td>67.589221</td>\n",
       "      <td>15</td>\n",
       "      <td>322</td>\n",
       "      <td>7</td>\n",
       "      <td>913.591123</td>\n",
       "      <td>587.196542</td>\n",
       "      <td>7</td>\n",
       "      <td>3</td>\n",
       "      <td>iPhone</td>\n",
       "      <td>304.530374</td>\n",
       "      <td>72.496767</td>\n",
       "      <td>18.644717</td>\n",
       "    </tr>\n",
       "    <tr>\n",
       "      <th>4</th>\n",
       "      <td>4</td>\n",
       "      <td>retained</td>\n",
       "      <td>84</td>\n",
       "      <td>68</td>\n",
       "      <td>168.247020</td>\n",
       "      <td>1562</td>\n",
       "      <td>166</td>\n",
       "      <td>5</td>\n",
       "      <td>3950.202008</td>\n",
       "      <td>1219.555924</td>\n",
       "      <td>27</td>\n",
       "      <td>18</td>\n",
       "      <td>Android</td>\n",
       "      <td>219.455667</td>\n",
       "      <td>49.926590</td>\n",
       "      <td>47.026214</td>\n",
       "    </tr>\n",
       "  </tbody>\n",
       "</table>\n",
       "</div>"
      ],
      "text/plain": [
       "   ID     label  sessions  drives  total_sessions  n_days_after_onboarding  \\\n",
       "0   0  retained       243     201      296.748273                     2276   \n",
       "1   1  retained       133     107      326.896596                     1225   \n",
       "2   2  retained       114      95      135.522926                     2651   \n",
       "3   3  retained        49      40       67.589221                       15   \n",
       "4   4  retained        84      68      168.247020                     1562   \n",
       "\n",
       "   total_navigations_fav1  total_navigations_fav2  driven_km_drives  \\\n",
       "0                     208                       0       2628.845068   \n",
       "1                      19                      64       8889.794236   \n",
       "2                       0                       0       3059.148818   \n",
       "3                     322                       7        913.591123   \n",
       "4                     166                       5       3950.202008   \n",
       "\n",
       "   duration_minutes_drives  activity_days  driving_days   device  \\\n",
       "0              1985.775061             28            19  Android   \n",
       "1              3160.472914             13            11   iPhone   \n",
       "2              1610.735904             14             8  Android   \n",
       "3               587.196542              7             3   iPhone   \n",
       "4              1219.555924             27            18  Android   \n",
       "\n",
       "   km_per_driving_day  percent_sessions_in_last_month  monthly_km_per_session  \n",
       "0          138.360267                       95.367025               10.818292  \n",
       "1         1246.901868                       40.685648               66.840558  \n",
       "2          382.393602                       84.118609               26.834639  \n",
       "3          304.530374                       72.496767               18.644717  \n",
       "4          219.455667                       49.926590               47.026214  "
      ]
     },
     "execution_count": 44,
     "metadata": {},
     "output_type": "execute_result"
    }
   ],
   "source": [
    "### YOUR CODE HERE ###\n",
    "df.head()"
   ]
  },
  {
   "cell_type": "markdown",
   "id": "2c295a5d",
   "metadata": {
    "id": "U4HeITeOwXfo",
    "papermill": {
     "duration": 0.03513,
     "end_time": "2025-02-07T06:11:52.710793",
     "exception": false,
     "start_time": "2025-02-07T06:11:52.675663",
     "status": "completed"
    },
    "tags": []
   },
   "source": [
    "### **Task 4b. Conclusion**\n",
    "\n",
    "Now that you've explored and visualized your data, the next step is to share your findings with Harriet Hadzic, Waze's Director of Data Analysis. Consider the following questions as you prepare to write your executive summary. Think about key points you may want to share with the team, and what information is most relevant to the user churn project.\n",
    "\n",
    "**Questions:**\n",
    "\n",
    "1) What types of distributions did you notice in the variables? What did this tell you about the data?\n",
    "* right skewed distributions and uniform distributions\n",
    "* there are naturally many variables that has a right skew because it indicates that there are many people who use Waze for a short time and only a handful few use it for longer periods that directly increases these metrics. \n",
    "* Also, most of the variables(features) that have a right skew have ONLY positive values\n",
    "\n",
    "2) Was there anything that led you to believe the data was erroneous or problematic in any way?\n",
    "* there were few variables (driven_km_drives and the variables which recorded days) that had unreasonable outliers. \n",
    "* Outliers of numerical continuous variables were imputed with 95th percentile values was used. Discrete variables could be imputed with with the max possible value it could get. But, this needs to be done after consulting with the data owner.\n",
    "\n",
    "\n",
    "3) Did your investigation give rise to further questions that you would like to explore or ask the Waze team about?\n",
    "* there are many questions regarding the sample and the data collection mechanisms. those needs to be clarified after discussing with the data owner as well as the SME (product owner/product analyst).\n",
    "\n",
    "\n",
    "4) What percentage of users churned and what percentage were retained?\n",
    "* in the sample given, almost ~82% of the users are retained and ~18% churned  \n",
    "\n",
    "\n",
    "5) What factors correlated with user churn? How?\n",
    "* distance driven (mean km) per day, number of driving days were positively correlated. Also, the proportion of the sample users churning increased as the percent of session in last month increased. \n",
    "* These factors indicate that the users using the Waze app for longer periods or high repeat has churned in the last month. We can check if there was any hurdles that these set of users were facing from further analysis  \n",
    "\n",
    "6) Did newer users have greater representation in this dataset than users with longer tenure? How do you know?\n",
    "* NO. The n_days_after_onboarding feature's distribution was approximately uniformly distributed. So, the sample had a balance in representing users using from recent past to long ago\n"
   ]
  },
  {
   "cell_type": "markdown",
   "id": "4c93f726",
   "metadata": {
    "papermill": {
     "duration": 0.035145,
     "end_time": "2025-02-07T06:11:52.780773",
     "exception": false,
     "start_time": "2025-02-07T06:11:52.745628",
     "status": "completed"
    },
    "tags": []
   },
   "source": [
    "**Congratulations!** You've completed this lab. However, you may not notice a green check mark next to this item on Coursera's platform. Please continue your progress regardless of the check mark. Just click on the \"save\" icon at the top of this notebook to ensure your work has been logged."
   ]
  }
 ],
 "metadata": {
  "colab": {
   "provenance": [
    {
     "file_id": "1DQhamPzI3QON4eTBzHHk4F0UnN9eILCd",
     "timestamp": 1671052108573
    },
    {
     "file_id": "1y_9vAHPuwnA8Kmbw8rzKTHoWxLUcyJM-",
     "timestamp": 1668985233529
    }
   ],
   "toc_visible": true
  },
  "kaggle": {
   "accelerator": "none",
   "dataSources": [
    {
     "datasetId": 6605803,
     "sourceId": 10666352,
     "sourceType": "datasetVersion"
    }
   ],
   "dockerImageVersionId": 30886,
   "isGpuEnabled": false,
   "isInternetEnabled": true,
   "language": "python",
   "sourceType": "notebook"
  },
  "kernelspec": {
   "display_name": "Python 3",
   "language": "python",
   "name": "python3"
  },
  "language_info": {
   "codemirror_mode": {
    "name": "ipython",
    "version": 3
   },
   "file_extension": ".py",
   "mimetype": "text/x-python",
   "name": "python",
   "nbconvert_exporter": "python",
   "pygments_lexer": "ipython3",
   "version": "3.10.12"
  },
  "papermill": {
   "default_parameters": {},
   "duration": 21.025256,
   "end_time": "2025-02-07T06:11:53.737947",
   "environment_variables": {},
   "exception": null,
   "input_path": "__notebook__.ipynb",
   "output_path": "__notebook__.ipynb",
   "parameters": {},
   "start_time": "2025-02-07T06:11:32.712691",
   "version": "2.6.0"
  }
 },
 "nbformat": 4,
 "nbformat_minor": 5
}
