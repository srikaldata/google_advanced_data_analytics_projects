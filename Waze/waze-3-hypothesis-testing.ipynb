{
 "cells": [
  {
   "cell_type": "markdown",
   "id": "d4906426",
   "metadata": {
    "id": "DtNBZFHO3M7n",
    "papermill": {
     "duration": 0.006856,
     "end_time": "2025-02-09T03:56:30.647917",
     "exception": false,
     "start_time": "2025-02-09T03:56:30.641061",
     "status": "completed"
    },
    "tags": []
   },
   "source": [
    "# **Waze Project**\n",
    "**Course 4 - The Power of Statistics**"
   ]
  },
  {
   "cell_type": "markdown",
   "id": "90eb495c",
   "metadata": {
    "id": "WVeXS7BNzX6e",
    "papermill": {
     "duration": 0.005835,
     "end_time": "2025-02-09T03:56:30.660226",
     "exception": false,
     "start_time": "2025-02-09T03:56:30.654391",
     "status": "completed"
    },
    "tags": []
   },
   "source": [
    "Your team is nearing the midpoint of their user churn project. So far, you’ve completed a project proposal, and used Python to explore and analyze Waze’s user data. You’ve also used Python to create data visualizations. The next step is to use statistical methods to analyze and interpret your data.\n",
    "\n",
    "You receive a new email from Sylvester Esperanza, your project manager. Sylvester tells your team about a new request from leadership: to analyze the relationship between mean amount of rides and device type. You also discover follow-up emails from three other team members: May Santner, Chidi Ga, and Harriet Hadzic. These emails discuss the details of the analysis. They would like a statistical analysis of ride data based on device type. In particular, leadership wants to know if there is a statistically significant difference in mean amount of rides between iPhone® users and Android™ users. A final email from Chidi includes your specific assignment: to conduct a two-sample hypothesis test (t-test) to analyze the difference in the mean amount of rides between iPhone users and Android users.\n",
    "\n",
    "A notebook was structured and prepared to help you in this project. Please complete the following questions and prepare an executive summary."
   ]
  },
  {
   "cell_type": "markdown",
   "id": "a28b9cfa",
   "metadata": {
    "id": "rgSbVJvomcVa",
    "papermill": {
     "duration": 0.005791,
     "end_time": "2025-02-09T03:56:30.672224",
     "exception": false,
     "start_time": "2025-02-09T03:56:30.666433",
     "status": "completed"
    },
    "tags": []
   },
   "source": [
    "# **Course 4 End-of-course project: Data exploration and hypothesis testing**\n",
    "\n",
    "In this activity, you will explore the data provided and conduct a hypothesis test.\n",
    "<br/>\n",
    "\n",
    "**The purpose** of this project is to demostrate knowledge of how to conduct a two-sample hypothesis test.\n",
    "\n",
    "**The goal** is to apply descriptive statistics and hypothesis testing in Python.\n",
    "<br/>\n",
    "\n",
    "*This activity has three parts:*\n",
    "\n",
    "**Part 1:** Imports and data loading\n",
    "* What data packages will be necessary for hypothesis testing?\n",
    "\n",
    "**Part 2:** Conduct hypothesis testing\n",
    "* How did computing descriptive statistics help you analyze your data?\n",
    "\n",
    "* How did you formulate your null hypothesis and alternative hypothesis?\n",
    "\n",
    "**Part 3:** Communicate insights with stakeholders\n",
    "\n",
    "* What key business insight(s) emerged from your hypothesis test?\n",
    "\n",
    "* What business recommendations do you propose based on your results?\n",
    "\n",
    "<br/>\n",
    "\n",
    "\n",
    "Follow the instructions and answer the questions below to complete the activity. Then, you will complete an Executive Summary using the questions listed on the PACE Strategy Document.\n",
    "\n",
    "Be sure to complete this activity before moving on. The next course item will provide you with a completed exemplar to compare to your own work.\n"
   ]
  },
  {
   "cell_type": "markdown",
   "id": "100830ad",
   "metadata": {
    "id": "9GHVSxqehVpv",
    "papermill": {
     "duration": 0.005844,
     "end_time": "2025-02-09T03:56:30.684254",
     "exception": false,
     "start_time": "2025-02-09T03:56:30.678410",
     "status": "completed"
    },
    "tags": []
   },
   "source": [
    "# **Data exploration and hypothesis testing**"
   ]
  },
  {
   "cell_type": "markdown",
   "id": "d87d91df",
   "metadata": {
    "id": "N8qrn_UAzX6j",
    "papermill": {
     "duration": 0.005674,
     "end_time": "2025-02-09T03:56:30.696040",
     "exception": false,
     "start_time": "2025-02-09T03:56:30.690366",
     "status": "completed"
    },
    "tags": []
   },
   "source": [
    "<img src=\"images/Pace.png\" width=\"100\" height=\"100\" align=left>\n",
    "\n",
    "# **PACE stages**\n"
   ]
  },
  {
   "cell_type": "markdown",
   "id": "870e7130",
   "metadata": {
    "id": "WQ1oMthKhfzP",
    "papermill": {
     "duration": 0.00644,
     "end_time": "2025-02-09T03:56:30.710403",
     "exception": false,
     "start_time": "2025-02-09T03:56:30.703963",
     "status": "completed"
    },
    "tags": []
   },
   "source": [
    "Throughout these project notebooks, you'll see references to the problem-solving framework PACE. The following notebook components are labeled with the respective PACE stage: Plan, Analyze, Construct, and Execute."
   ]
  },
  {
   "cell_type": "markdown",
   "id": "f9d95a80",
   "metadata": {
    "id": "Bb1HNu3FzX6k",
    "papermill": {
     "duration": 0.006342,
     "end_time": "2025-02-09T03:56:30.723574",
     "exception": false,
     "start_time": "2025-02-09T03:56:30.717232",
     "status": "completed"
    },
    "tags": []
   },
   "source": [
    "<img src=\"images/Plan.png\" width=\"100\" height=\"100\" align=left>\n",
    "\n",
    "\n",
    "## **PACE: Plan**\n",
    "\n",
    "Consider the questions in your PACE Strategy Document and those below to craft your response:\n",
    "1. What is your research question for this data project? Later on, you will need to formulate the null and alternative hypotheses as the first step of your hypothesis test. Consider your research question now, at the start of this task.\n"
   ]
  },
  {
   "cell_type": "markdown",
   "id": "2a46c42a",
   "metadata": {
    "id": "F6_h60RuXQIz",
    "papermill": {
     "duration": 0.005877,
     "end_time": "2025-02-09T03:56:30.736057",
     "exception": false,
     "start_time": "2025-02-09T03:56:30.730180",
     "status": "completed"
    },
    "tags": []
   },
   "source": [
    "* is there a difference between the mean number of drives between iPhone and Android users of Waze app? "
   ]
  },
  {
   "cell_type": "markdown",
   "id": "f41accab",
   "metadata": {
    "id": "Kp3uDhhSg_qu",
    "papermill": {
     "duration": 0.006355,
     "end_time": "2025-02-09T03:56:30.748590",
     "exception": false,
     "start_time": "2025-02-09T03:56:30.742235",
     "status": "completed"
    },
    "tags": []
   },
   "source": [
    "*Complete the following tasks to perform statistical analysis of your data:*"
   ]
  },
  {
   "cell_type": "markdown",
   "id": "9ec82f86",
   "metadata": {
    "id": "xgQEdIN7f1Jq",
    "papermill": {
     "duration": 0.00617,
     "end_time": "2025-02-09T03:56:30.761427",
     "exception": false,
     "start_time": "2025-02-09T03:56:30.755257",
     "status": "completed"
    },
    "tags": []
   },
   "source": [
    "### **Task 1. Imports and data loading**\n",
    "\n",
    "\n"
   ]
  },
  {
   "cell_type": "markdown",
   "id": "d257d658",
   "metadata": {
    "id": "ehehvUzFj0-e",
    "papermill": {
     "duration": 0.006436,
     "end_time": "2025-02-09T03:56:30.774400",
     "exception": false,
     "start_time": "2025-02-09T03:56:30.767964",
     "status": "completed"
    },
    "tags": []
   },
   "source": [
    "Import packages and libraries needed to compute descriptive statistics and conduct a hypothesis test."
   ]
  },
  {
   "cell_type": "markdown",
   "id": "5b11d7a9",
   "metadata": {
    "id": "e6cryW4WgiIL",
    "papermill": {
     "duration": 0.00676,
     "end_time": "2025-02-09T03:56:30.787727",
     "exception": false,
     "start_time": "2025-02-09T03:56:30.780967",
     "status": "completed"
    },
    "tags": []
   },
   "source": [
    "<details>\n",
    "  <summary><h4><strong>Hint:</strong></h4></summary>\n",
    "\n",
    "Before you begin, recall the following Python packages and functions:\n",
    "\n",
    "*Main functions*: stats.ttest_ind(a, b, equal_var)\n",
    "\n",
    "*Other functions*: mean()\n",
    "\n",
    "*Packages*: pandas, stats.scipy\n",
    "\n",
    "</details>"
   ]
  },
  {
   "cell_type": "code",
   "execution_count": 1,
   "id": "aed2339f",
   "metadata": {
    "execution": {
     "iopub.execute_input": "2025-02-09T03:56:30.802486Z",
     "iopub.status.busy": "2025-02-09T03:56:30.802068Z",
     "iopub.status.idle": "2025-02-09T03:56:33.188254Z",
     "shell.execute_reply": "2025-02-09T03:56:33.187090Z"
    },
    "id": "1Q-GL2UrgWWG",
    "papermill": {
     "duration": 2.395907,
     "end_time": "2025-02-09T03:56:33.190345",
     "exception": false,
     "start_time": "2025-02-09T03:56:30.794438",
     "status": "completed"
    },
    "tags": []
   },
   "outputs": [],
   "source": [
    "# Import any relevant packages or libraries\n",
    "### YOUR CODE HERE ###\n",
    "\n",
    "import numpy as np\n",
    "import pandas as pd\n",
    "import matplotlib.pyplot as plt\n",
    "from scipy import stats"
   ]
  },
  {
   "cell_type": "markdown",
   "id": "8b0b4249",
   "metadata": {
    "id": "stMe9uT3kOmF",
    "papermill": {
     "duration": 0.005904,
     "end_time": "2025-02-09T03:56:33.203169",
     "exception": false,
     "start_time": "2025-02-09T03:56:33.197265",
     "status": "completed"
    },
    "tags": []
   },
   "source": [
    "Import the dataset.\n",
    "\n",
    "**Note:** As shown in this cell, the dataset has been automatically loaded in for you. You do not need to download the .csv file, or provide more code, in order to access the dataset and proceed with this lab. Please continue with this activity by completing the following instructions."
   ]
  },
  {
   "cell_type": "code",
   "execution_count": 2,
   "id": "4599c593",
   "metadata": {
    "execution": {
     "iopub.execute_input": "2025-02-09T03:56:33.217965Z",
     "iopub.status.busy": "2025-02-09T03:56:33.217411Z",
     "iopub.status.idle": "2025-02-09T03:56:33.286017Z",
     "shell.execute_reply": "2025-02-09T03:56:33.284824Z"
    },
    "id": "2qAt6Upaeg6U",
    "papermill": {
     "duration": 0.078759,
     "end_time": "2025-02-09T03:56:33.288482",
     "exception": false,
     "start_time": "2025-02-09T03:56:33.209723",
     "status": "completed"
    },
    "tags": []
   },
   "outputs": [],
   "source": [
    "# Load dataset into dataframe\n",
    "df = pd.read_csv('/kaggle/input/waze-dataset-1/waze_dataset.csv')"
   ]
  },
  {
   "cell_type": "code",
   "execution_count": 3,
   "id": "5669970c",
   "metadata": {
    "execution": {
     "iopub.execute_input": "2025-02-09T03:56:33.302996Z",
     "iopub.status.busy": "2025-02-09T03:56:33.302654Z",
     "iopub.status.idle": "2025-02-09T03:56:33.333819Z",
     "shell.execute_reply": "2025-02-09T03:56:33.332549Z"
    },
    "papermill": {
     "duration": 0.040968,
     "end_time": "2025-02-09T03:56:33.335856",
     "exception": false,
     "start_time": "2025-02-09T03:56:33.294888",
     "status": "completed"
    },
    "tags": []
   },
   "outputs": [
    {
     "data": {
      "text/html": [
       "<div>\n",
       "<style scoped>\n",
       "    .dataframe tbody tr th:only-of-type {\n",
       "        vertical-align: middle;\n",
       "    }\n",
       "\n",
       "    .dataframe tbody tr th {\n",
       "        vertical-align: top;\n",
       "    }\n",
       "\n",
       "    .dataframe thead th {\n",
       "        text-align: right;\n",
       "    }\n",
       "</style>\n",
       "<table border=\"1\" class=\"dataframe\">\n",
       "  <thead>\n",
       "    <tr style=\"text-align: right;\">\n",
       "      <th></th>\n",
       "      <th>ID</th>\n",
       "      <th>label</th>\n",
       "      <th>sessions</th>\n",
       "      <th>drives</th>\n",
       "      <th>total_sessions</th>\n",
       "      <th>n_days_after_onboarding</th>\n",
       "      <th>total_navigations_fav1</th>\n",
       "      <th>total_navigations_fav2</th>\n",
       "      <th>driven_km_drives</th>\n",
       "      <th>duration_minutes_drives</th>\n",
       "      <th>activity_days</th>\n",
       "      <th>driving_days</th>\n",
       "      <th>device</th>\n",
       "    </tr>\n",
       "  </thead>\n",
       "  <tbody>\n",
       "    <tr>\n",
       "      <th>0</th>\n",
       "      <td>0</td>\n",
       "      <td>retained</td>\n",
       "      <td>283</td>\n",
       "      <td>226</td>\n",
       "      <td>296.748273</td>\n",
       "      <td>2276</td>\n",
       "      <td>208</td>\n",
       "      <td>0</td>\n",
       "      <td>2628.845068</td>\n",
       "      <td>1985.775061</td>\n",
       "      <td>28</td>\n",
       "      <td>19</td>\n",
       "      <td>Android</td>\n",
       "    </tr>\n",
       "    <tr>\n",
       "      <th>1</th>\n",
       "      <td>1</td>\n",
       "      <td>retained</td>\n",
       "      <td>133</td>\n",
       "      <td>107</td>\n",
       "      <td>326.896596</td>\n",
       "      <td>1225</td>\n",
       "      <td>19</td>\n",
       "      <td>64</td>\n",
       "      <td>13715.920550</td>\n",
       "      <td>3160.472914</td>\n",
       "      <td>13</td>\n",
       "      <td>11</td>\n",
       "      <td>iPhone</td>\n",
       "    </tr>\n",
       "    <tr>\n",
       "      <th>2</th>\n",
       "      <td>2</td>\n",
       "      <td>retained</td>\n",
       "      <td>114</td>\n",
       "      <td>95</td>\n",
       "      <td>135.522926</td>\n",
       "      <td>2651</td>\n",
       "      <td>0</td>\n",
       "      <td>0</td>\n",
       "      <td>3059.148818</td>\n",
       "      <td>1610.735904</td>\n",
       "      <td>14</td>\n",
       "      <td>8</td>\n",
       "      <td>Android</td>\n",
       "    </tr>\n",
       "    <tr>\n",
       "      <th>3</th>\n",
       "      <td>3</td>\n",
       "      <td>retained</td>\n",
       "      <td>49</td>\n",
       "      <td>40</td>\n",
       "      <td>67.589221</td>\n",
       "      <td>15</td>\n",
       "      <td>322</td>\n",
       "      <td>7</td>\n",
       "      <td>913.591123</td>\n",
       "      <td>587.196542</td>\n",
       "      <td>7</td>\n",
       "      <td>3</td>\n",
       "      <td>iPhone</td>\n",
       "    </tr>\n",
       "    <tr>\n",
       "      <th>4</th>\n",
       "      <td>4</td>\n",
       "      <td>retained</td>\n",
       "      <td>84</td>\n",
       "      <td>68</td>\n",
       "      <td>168.247020</td>\n",
       "      <td>1562</td>\n",
       "      <td>166</td>\n",
       "      <td>5</td>\n",
       "      <td>3950.202008</td>\n",
       "      <td>1219.555924</td>\n",
       "      <td>27</td>\n",
       "      <td>18</td>\n",
       "      <td>Android</td>\n",
       "    </tr>\n",
       "  </tbody>\n",
       "</table>\n",
       "</div>"
      ],
      "text/plain": [
       "   ID     label  sessions  drives  total_sessions  n_days_after_onboarding  \\\n",
       "0   0  retained       283     226      296.748273                     2276   \n",
       "1   1  retained       133     107      326.896596                     1225   \n",
       "2   2  retained       114      95      135.522926                     2651   \n",
       "3   3  retained        49      40       67.589221                       15   \n",
       "4   4  retained        84      68      168.247020                     1562   \n",
       "\n",
       "   total_navigations_fav1  total_navigations_fav2  driven_km_drives  \\\n",
       "0                     208                       0       2628.845068   \n",
       "1                      19                      64      13715.920550   \n",
       "2                       0                       0       3059.148818   \n",
       "3                     322                       7        913.591123   \n",
       "4                     166                       5       3950.202008   \n",
       "\n",
       "   duration_minutes_drives  activity_days  driving_days   device  \n",
       "0              1985.775061             28            19  Android  \n",
       "1              3160.472914             13            11   iPhone  \n",
       "2              1610.735904             14             8  Android  \n",
       "3               587.196542              7             3   iPhone  \n",
       "4              1219.555924             27            18  Android  "
      ]
     },
     "execution_count": 3,
     "metadata": {},
     "output_type": "execute_result"
    }
   ],
   "source": [
    "df.head()"
   ]
  },
  {
   "cell_type": "markdown",
   "id": "db3f0d46",
   "metadata": {
    "id": "c8paWsdKzX6o",
    "papermill": {
     "duration": 0.006084,
     "end_time": "2025-02-09T03:56:33.349118",
     "exception": false,
     "start_time": "2025-02-09T03:56:33.343034",
     "status": "completed"
    },
    "tags": []
   },
   "source": [
    "<img src=\"images/Analyze.png\" width=\"100\" height=\"100\" align=left>\n",
    "\n",
    "<img src=\"images/Construct.png\" width=\"100\" height=\"100\" align=left>\n",
    "\n",
    "## **PACE: Analyze and Construct**\n",
    "\n",
    "Consider the questions in your PACE Strategy Document and those below to craft your response:\n",
    "1. Data professionals use descriptive statistics for exploratory data analysis (EDA). How can computing descriptive statistics help you learn more about your data in this stage of your analysis?\n"
   ]
  },
  {
   "cell_type": "markdown",
   "id": "9fb41a99",
   "metadata": {
    "id": "rX5xJnWUXxsW",
    "papermill": {
     "duration": 0.006932,
     "end_time": "2025-02-09T03:56:33.362530",
     "exception": false,
     "start_time": "2025-02-09T03:56:33.355598",
     "status": "completed"
    },
    "tags": []
   },
   "source": [
    "* descriptive stats can help in the data cleaning and data validation phase\n",
    "* this ensures erroneous data, null data or outliers are handled after thorough investigation"
   ]
  },
  {
   "cell_type": "markdown",
   "id": "6fce89ad",
   "metadata": {
    "id": "UKhYTdVhf5B2",
    "papermill": {
     "duration": 0.006168,
     "end_time": "2025-02-09T03:56:33.375117",
     "exception": false,
     "start_time": "2025-02-09T03:56:33.368949",
     "status": "completed"
    },
    "tags": []
   },
   "source": [
    "### **Task 2. Data exploration**\n",
    "\n",
    "Use descriptive statistics to conduct exploratory data analysis (EDA)."
   ]
  },
  {
   "cell_type": "markdown",
   "id": "27444fa1",
   "metadata": {
    "id": "AzYm91yQrS9s",
    "papermill": {
     "duration": 0.006206,
     "end_time": "2025-02-09T03:56:33.388458",
     "exception": false,
     "start_time": "2025-02-09T03:56:33.382252",
     "status": "completed"
    },
    "tags": []
   },
   "source": [
    "<details>\n",
    "  <summary><h4><strong>Hint:</strong></h4></summary>\n",
    "\n",
    "Refer back to *Self Review Descriptive Statistics* for this step-by-step proccess.\n",
    "\n",
    "</details>"
   ]
  },
  {
   "cell_type": "markdown",
   "id": "fa6e162a",
   "metadata": {
    "id": "JAq7ag0pTNgl",
    "papermill": {
     "duration": 0.006638,
     "end_time": "2025-02-09T03:56:33.401498",
     "exception": false,
     "start_time": "2025-02-09T03:56:33.394860",
     "status": "completed"
    },
    "tags": []
   },
   "source": [
    "**Note:** In the dataset, `device` is a categorical variable with the labels `iPhone` and `Android`.\n",
    "\n",
    "In order to perform this analysis, you must turn each label into an integer.  The following code assigns a `1` for an `iPhone` user and a `2` for `Android`.  It assigns this label back to the variable `device_new`.\n",
    "\n",
    "**Note:** Creating a new variable is ideal so that you don't overwrite original data.\n",
    "\n"
   ]
  },
  {
   "cell_type": "markdown",
   "id": "c50f7e97",
   "metadata": {
    "id": "GaJ4golwD8et",
    "papermill": {
     "duration": 0.006628,
     "end_time": "2025-02-09T03:56:33.414693",
     "exception": false,
     "start_time": "2025-02-09T03:56:33.408065",
     "status": "completed"
    },
    "tags": []
   },
   "source": [
    "1. Create a dictionary called `map_dictionary` that contains the class labels (`'Android'` and `'iPhone'`) for keys and the values you want to convert them to (`2` and `1`) as values.\n",
    "\n",
    "2. Create a new column called `device_type` that is a copy of the `device` column.\n",
    "\n",
    "3. Use the [`map()`](https://pandas.pydata.org/docs/reference/api/pandas.Series.map.html#pandas-series-map) method on the `device_type` series. Pass `map_dictionary` as its argument. Reassign the result back to the `device_type` series.\n",
    "</br></br>\n",
    "When you pass a dictionary to the `Series.map()` method, it will replace the data in the series where that data matches the dictionary's keys. The values that get imputed are the values of the dictionary.\n",
    "\n",
    "```\n",
    "Example:\n",
    "df['column']\n",
    "```\n",
    "\n",
    "|column |\n",
    "|  :-:       |\n",
    "| A     |\n",
    "| B     |\n",
    "| A     |\n",
    "| B     |\n",
    "\n",
    "```\n",
    "map_dictionary = {'A': 2, 'B': 1}\n",
    "df['column'] = df['column'].map(map_dictionary)\n",
    "df['column']\n",
    "```\n",
    "\n",
    "|column |\n",
    "|  :-: |\n",
    "| 2    |\n",
    "| 1    |\n",
    "| 2    |\n",
    "| 1    |\n"
   ]
  },
  {
   "cell_type": "code",
   "execution_count": 4,
   "id": "f184e75f",
   "metadata": {
    "execution": {
     "iopub.execute_input": "2025-02-09T03:56:33.429534Z",
     "iopub.status.busy": "2025-02-09T03:56:33.429147Z",
     "iopub.status.idle": "2025-02-09T03:56:33.450133Z",
     "shell.execute_reply": "2025-02-09T03:56:33.449085Z"
    },
    "id": "piHSZbnjEXw-",
    "papermill": {
     "duration": 0.030353,
     "end_time": "2025-02-09T03:56:33.452057",
     "exception": false,
     "start_time": "2025-02-09T03:56:33.421704",
     "status": "completed"
    },
    "tags": []
   },
   "outputs": [
    {
     "data": {
      "text/html": [
       "<div>\n",
       "<style scoped>\n",
       "    .dataframe tbody tr th:only-of-type {\n",
       "        vertical-align: middle;\n",
       "    }\n",
       "\n",
       "    .dataframe tbody tr th {\n",
       "        vertical-align: top;\n",
       "    }\n",
       "\n",
       "    .dataframe thead th {\n",
       "        text-align: right;\n",
       "    }\n",
       "</style>\n",
       "<table border=\"1\" class=\"dataframe\">\n",
       "  <thead>\n",
       "    <tr style=\"text-align: right;\">\n",
       "      <th></th>\n",
       "      <th>ID</th>\n",
       "      <th>label</th>\n",
       "      <th>sessions</th>\n",
       "      <th>drives</th>\n",
       "      <th>total_sessions</th>\n",
       "      <th>n_days_after_onboarding</th>\n",
       "      <th>total_navigations_fav1</th>\n",
       "      <th>total_navigations_fav2</th>\n",
       "      <th>driven_km_drives</th>\n",
       "      <th>duration_minutes_drives</th>\n",
       "      <th>activity_days</th>\n",
       "      <th>driving_days</th>\n",
       "      <th>device</th>\n",
       "      <th>device_type</th>\n",
       "    </tr>\n",
       "  </thead>\n",
       "  <tbody>\n",
       "    <tr>\n",
       "      <th>0</th>\n",
       "      <td>0</td>\n",
       "      <td>retained</td>\n",
       "      <td>283</td>\n",
       "      <td>226</td>\n",
       "      <td>296.748273</td>\n",
       "      <td>2276</td>\n",
       "      <td>208</td>\n",
       "      <td>0</td>\n",
       "      <td>2628.845068</td>\n",
       "      <td>1985.775061</td>\n",
       "      <td>28</td>\n",
       "      <td>19</td>\n",
       "      <td>Android</td>\n",
       "      <td>2</td>\n",
       "    </tr>\n",
       "    <tr>\n",
       "      <th>1</th>\n",
       "      <td>1</td>\n",
       "      <td>retained</td>\n",
       "      <td>133</td>\n",
       "      <td>107</td>\n",
       "      <td>326.896596</td>\n",
       "      <td>1225</td>\n",
       "      <td>19</td>\n",
       "      <td>64</td>\n",
       "      <td>13715.920550</td>\n",
       "      <td>3160.472914</td>\n",
       "      <td>13</td>\n",
       "      <td>11</td>\n",
       "      <td>iPhone</td>\n",
       "      <td>1</td>\n",
       "    </tr>\n",
       "    <tr>\n",
       "      <th>2</th>\n",
       "      <td>2</td>\n",
       "      <td>retained</td>\n",
       "      <td>114</td>\n",
       "      <td>95</td>\n",
       "      <td>135.522926</td>\n",
       "      <td>2651</td>\n",
       "      <td>0</td>\n",
       "      <td>0</td>\n",
       "      <td>3059.148818</td>\n",
       "      <td>1610.735904</td>\n",
       "      <td>14</td>\n",
       "      <td>8</td>\n",
       "      <td>Android</td>\n",
       "      <td>2</td>\n",
       "    </tr>\n",
       "    <tr>\n",
       "      <th>3</th>\n",
       "      <td>3</td>\n",
       "      <td>retained</td>\n",
       "      <td>49</td>\n",
       "      <td>40</td>\n",
       "      <td>67.589221</td>\n",
       "      <td>15</td>\n",
       "      <td>322</td>\n",
       "      <td>7</td>\n",
       "      <td>913.591123</td>\n",
       "      <td>587.196542</td>\n",
       "      <td>7</td>\n",
       "      <td>3</td>\n",
       "      <td>iPhone</td>\n",
       "      <td>1</td>\n",
       "    </tr>\n",
       "    <tr>\n",
       "      <th>4</th>\n",
       "      <td>4</td>\n",
       "      <td>retained</td>\n",
       "      <td>84</td>\n",
       "      <td>68</td>\n",
       "      <td>168.247020</td>\n",
       "      <td>1562</td>\n",
       "      <td>166</td>\n",
       "      <td>5</td>\n",
       "      <td>3950.202008</td>\n",
       "      <td>1219.555924</td>\n",
       "      <td>27</td>\n",
       "      <td>18</td>\n",
       "      <td>Android</td>\n",
       "      <td>2</td>\n",
       "    </tr>\n",
       "  </tbody>\n",
       "</table>\n",
       "</div>"
      ],
      "text/plain": [
       "   ID     label  sessions  drives  total_sessions  n_days_after_onboarding  \\\n",
       "0   0  retained       283     226      296.748273                     2276   \n",
       "1   1  retained       133     107      326.896596                     1225   \n",
       "2   2  retained       114      95      135.522926                     2651   \n",
       "3   3  retained        49      40       67.589221                       15   \n",
       "4   4  retained        84      68      168.247020                     1562   \n",
       "\n",
       "   total_navigations_fav1  total_navigations_fav2  driven_km_drives  \\\n",
       "0                     208                       0       2628.845068   \n",
       "1                      19                      64      13715.920550   \n",
       "2                       0                       0       3059.148818   \n",
       "3                     322                       7        913.591123   \n",
       "4                     166                       5       3950.202008   \n",
       "\n",
       "   duration_minutes_drives  activity_days  driving_days   device  device_type  \n",
       "0              1985.775061             28            19  Android            2  \n",
       "1              3160.472914             13            11   iPhone            1  \n",
       "2              1610.735904             14             8  Android            2  \n",
       "3               587.196542              7             3   iPhone            1  \n",
       "4              1219.555924             27            18  Android            2  "
      ]
     },
     "execution_count": 4,
     "metadata": {},
     "output_type": "execute_result"
    }
   ],
   "source": [
    "# 1. Create `map_dictionary`\n",
    "### YOUR CODE HERE ###\n",
    "\n",
    "# label encoding \n",
    "\n",
    "map_dictionary = {'iPhone': 1, 'Android': 2}\n",
    "\n",
    "\n",
    "# 2. Create new `device_type` column and map the new column to the dictionary\n",
    "### YOUR CODE HERE ###\n",
    "\n",
    "df['device_type'] = df['device'].map(map_dictionary)\n",
    "\n",
    "\n",
    "df.head()"
   ]
  },
  {
   "cell_type": "markdown",
   "id": "f6c94666",
   "metadata": {
    "id": "-fFiNg4hdGBK",
    "papermill": {
     "duration": 0.006747,
     "end_time": "2025-02-09T03:56:33.465786",
     "exception": false,
     "start_time": "2025-02-09T03:56:33.459039",
     "status": "completed"
    },
    "tags": []
   },
   "source": [
    "You are interested in the relationship between device type and the number of drives. One approach is to look at the average number of drives for each device type. Calculate these averages."
   ]
  },
  {
   "cell_type": "code",
   "execution_count": 5,
   "id": "ab60c2e7",
   "metadata": {
    "execution": {
     "iopub.execute_input": "2025-02-09T03:56:33.480675Z",
     "iopub.status.busy": "2025-02-09T03:56:33.480253Z",
     "iopub.status.idle": "2025-02-09T03:56:33.500200Z",
     "shell.execute_reply": "2025-02-09T03:56:33.499138Z"
    },
    "id": "2LGEWrdVXgI2",
    "papermill": {
     "duration": 0.029471,
     "end_time": "2025-02-09T03:56:33.501974",
     "exception": false,
     "start_time": "2025-02-09T03:56:33.472503",
     "status": "completed"
    },
    "tags": []
   },
   "outputs": [
    {
     "name": "stdout",
     "output_type": "stream",
     "text": [
      "Mean number of drives for iPhone and Android users:\n"
     ]
    },
    {
     "data": {
      "text/html": [
       "<div>\n",
       "<style scoped>\n",
       "    .dataframe tbody tr th:only-of-type {\n",
       "        vertical-align: middle;\n",
       "    }\n",
       "\n",
       "    .dataframe tbody tr th {\n",
       "        vertical-align: top;\n",
       "    }\n",
       "\n",
       "    .dataframe thead th {\n",
       "        text-align: right;\n",
       "    }\n",
       "</style>\n",
       "<table border=\"1\" class=\"dataframe\">\n",
       "  <thead>\n",
       "    <tr style=\"text-align: right;\">\n",
       "      <th></th>\n",
       "      <th>drives</th>\n",
       "    </tr>\n",
       "    <tr>\n",
       "      <th>device</th>\n",
       "      <th></th>\n",
       "    </tr>\n",
       "  </thead>\n",
       "  <tbody>\n",
       "    <tr>\n",
       "      <th>Android</th>\n",
       "      <td>66.231838</td>\n",
       "    </tr>\n",
       "    <tr>\n",
       "      <th>iPhone</th>\n",
       "      <td>67.859078</td>\n",
       "    </tr>\n",
       "  </tbody>\n",
       "</table>\n",
       "</div>"
      ],
      "text/plain": [
       "            drives\n",
       "device            \n",
       "Android  66.231838\n",
       "iPhone   67.859078"
      ]
     },
     "execution_count": 5,
     "metadata": {},
     "output_type": "execute_result"
    }
   ],
   "source": [
    "### YOUR CODE HERE ###\n",
    "\n",
    "print('Mean number of drives for iPhone and Android users:')\n",
    "\n",
    "df.groupby('device').agg({'drives':'mean'})"
   ]
  },
  {
   "cell_type": "markdown",
   "id": "f031d311",
   "metadata": {
    "id": "Z_u-zWvGdfII",
    "papermill": {
     "duration": 0.006714,
     "end_time": "2025-02-09T03:56:33.515875",
     "exception": false,
     "start_time": "2025-02-09T03:56:33.509161",
     "status": "completed"
    },
    "tags": []
   },
   "source": [
    "Based on the averages shown, it appears that drivers who use an iPhone device to interact with the application have a higher number of drives on average. However, this difference might arise from random sampling, rather than being a true difference in the number of drives. To assess whether the difference is statistically significant, you can conduct a hypothesis test."
   ]
  },
  {
   "cell_type": "markdown",
   "id": "e64036c0",
   "metadata": {
    "id": "QpFRQDaNzX6p",
    "papermill": {
     "duration": 0.007211,
     "end_time": "2025-02-09T03:56:33.530112",
     "exception": false,
     "start_time": "2025-02-09T03:56:33.522901",
     "status": "completed"
    },
    "tags": []
   },
   "source": [
    "\n",
    "### **Task 3. Hypothesis testing**\n",
    "\n",
    "Your goal is to conduct a two-sample t-test. Recall the steps for conducting a hypothesis test:\n",
    "\n",
    "\n",
    "1.   State the null hypothesis and the alternative hypothesis\n",
    "2.   Choose a signficance level\n",
    "3.   Find the p-value\n",
    "4.   Reject or fail to reject the null hypothesis\n",
    "\n",
    "**Note:** This is a t-test for two independent samples. This is the appropriate test since the two groups are independent (Android users vs. iPhone users)."
   ]
  },
  {
   "cell_type": "markdown",
   "id": "2954ede4",
   "metadata": {
    "id": "phXxr74vVPrs",
    "papermill": {
     "duration": 0.007573,
     "end_time": "2025-02-09T03:56:33.544888",
     "exception": false,
     "start_time": "2025-02-09T03:56:33.537315",
     "status": "completed"
    },
    "tags": []
   },
   "source": [
    "Recall the difference between the null hypothesis ($H_0$) and the alternative hypothesis ($H_A$).\n",
    "\n",
    "**Question:** What are your hypotheses for this data project?"
   ]
  },
  {
   "cell_type": "markdown",
   "id": "a0696be4",
   "metadata": {
    "id": "SkDeGggZYM84",
    "papermill": {
     "duration": 0.006688,
     "end_time": "2025-02-09T03:56:33.558625",
     "exception": false,
     "start_time": "2025-02-09T03:56:33.551937",
     "status": "completed"
    },
    "tags": []
   },
   "source": [
    "* H0 --> there is NO difference between the mean number of drives between iPhone and Android users of Waze app\n",
    "* Ha --> thereis a difference between the mean number of drives between iPhone and Android users of Waze app"
   ]
  },
  {
   "cell_type": "markdown",
   "id": "d7992b9a",
   "metadata": {
    "id": "IVHpnfvNeTUA",
    "papermill": {
     "duration": 0.006905,
     "end_time": "2025-02-09T03:56:33.572517",
     "exception": false,
     "start_time": "2025-02-09T03:56:33.565612",
     "status": "completed"
    },
    "tags": []
   },
   "source": [
    "Next, choose 5% as the significance level and proceed with a two-sample t-test.\n",
    "\n",
    "You can use the `stats.ttest_ind()` function to perform the test.\n",
    "\n",
    "\n",
    "**Technical note**: The default for the argument `equal_var` in `stats.ttest_ind()` is `True`, which assumes population variances are equal. This equal variance assumption might not hold in practice (that is, there is no strong reason to assume that the two groups have the same variance); you can relax this assumption by setting `equal_var` to `False`, and `stats.ttest_ind()` will perform the unequal variances $t$-test (known as Welch's `t`-test). Refer to the [scipy t-test documentation](https://docs.scipy.org/doc/scipy/reference/generated/scipy.stats.ttest_ind.html) for more information.\n",
    "\n",
    "\n",
    "1. Isolate the `drives` column for iPhone users.\n",
    "2. Isolate the `drives` column for Android users.\n",
    "3. Perform the t-test"
   ]
  },
  {
   "cell_type": "code",
   "execution_count": 6,
   "id": "70ef63a3",
   "metadata": {
    "execution": {
     "iopub.execute_input": "2025-02-09T03:56:33.587728Z",
     "iopub.status.busy": "2025-02-09T03:56:33.587382Z",
     "iopub.status.idle": "2025-02-09T03:56:33.618032Z",
     "shell.execute_reply": "2025-02-09T03:56:33.616848Z"
    },
    "id": "rdlsXg7Dhbrd",
    "papermill": {
     "duration": 0.040828,
     "end_time": "2025-02-09T03:56:33.620226",
     "exception": false,
     "start_time": "2025-02-09T03:56:33.579398",
     "status": "completed"
    },
    "tags": []
   },
   "outputs": [
    {
     "data": {
      "text/plain": [
       "TtestResult(statistic=1.463523206885235, pvalue=0.143351972680206, df=11345.066049381952)"
      ]
     },
     "execution_count": 6,
     "metadata": {},
     "output_type": "execute_result"
    }
   ],
   "source": [
    "# 1. Isolate the `drives` column for iPhone users.\n",
    "### YOUR CODE HERE ###\n",
    "\n",
    "iPhone = df[df['device_type'] == 1]\n",
    "\n",
    "# 2. Isolate the `drives` column for Android users.\n",
    "### YOUR CODE HERE ###\n",
    "\n",
    "Android = df[df['device_type'] == 2]\n",
    "\n",
    "\n",
    "# 3. Perform the t-test\n",
    "### YOUR CODE HERE ###\n",
    "\n",
    "stats.ttest_ind(a=iPhone['drives'], b=Android['drives'], equal_var=False)"
   ]
  },
  {
   "cell_type": "markdown",
   "id": "ece5f554",
   "metadata": {
    "id": "64Wq_VSaVsNm",
    "papermill": {
     "duration": 0.009216,
     "end_time": "2025-02-09T03:56:33.637005",
     "exception": false,
     "start_time": "2025-02-09T03:56:33.627789",
     "status": "completed"
    },
    "tags": []
   },
   "source": [
    "**Question:** Based on the p-value you got above, do you reject or fail to reject the null hypothesis?"
   ]
  },
  {
   "cell_type": "markdown",
   "id": "2a7d1660",
   "metadata": {
    "id": "SGLHv2FY1P2-",
    "papermill": {
     "duration": 0.006982,
     "end_time": "2025-02-09T03:56:33.651843",
     "exception": false,
     "start_time": "2025-02-09T03:56:33.644861",
     "status": "completed"
    },
    "tags": []
   },
   "source": [
    "* p value = 0.143 (significance level = 0.05)\n",
    "* p value > significance level\n",
    "* failed to reject null hypothesis\n",
    "* there is NO statistically significant difference b/w the mean number of drives between iPhone and Android users using Waze app"
   ]
  },
  {
   "cell_type": "markdown",
   "id": "aae620a5",
   "metadata": {
    "id": "Ab4e-W3mzX6r",
    "papermill": {
     "duration": 0.006833,
     "end_time": "2025-02-09T03:56:33.666097",
     "exception": false,
     "start_time": "2025-02-09T03:56:33.659264",
     "status": "completed"
    },
    "tags": []
   },
   "source": [
    "<img src=\"images/Execute.png\" width=\"100\" height=\"100\" align=left>\n",
    "\n",
    "## **PACE: Execute**\n",
    "\n",
    "Consider the questions in your PACE Strategy Document to reflect on the Execute stage."
   ]
  },
  {
   "cell_type": "markdown",
   "id": "730193bf",
   "metadata": {
    "id": "h1PRfiD3hcwE",
    "papermill": {
     "duration": 0.007202,
     "end_time": "2025-02-09T03:56:33.681683",
     "exception": false,
     "start_time": "2025-02-09T03:56:33.674481",
     "status": "completed"
    },
    "tags": []
   },
   "source": [
    "### **Task 4. Communicate insights with stakeholders**"
   ]
  },
  {
   "cell_type": "markdown",
   "id": "93f56e0c",
   "metadata": {
    "id": "ItreFaZKhvVw",
    "papermill": {
     "duration": 0.007912,
     "end_time": "2025-02-09T03:56:33.697825",
     "exception": false,
     "start_time": "2025-02-09T03:56:33.689913",
     "status": "completed"
    },
    "tags": []
   },
   "source": [
    "Now that you've completed your hypothesis test, the next step is to share your findings with the Waze leadership team. Consider the following question as you prepare to write your executive summary:\n",
    "\n",
    "* What business insight(s) can you draw from the result of your hypothesis test?"
   ]
  },
  {
   "cell_type": "markdown",
   "id": "51a152c4",
   "metadata": {
    "id": "-CgNingVY4Bw",
    "papermill": {
     "duration": 0.006643,
     "end_time": "2025-02-09T03:56:33.712173",
     "exception": false,
     "start_time": "2025-02-09T03:56:33.705530",
     "status": "completed"
    },
    "tags": []
   },
   "source": [
    "* by performing a t-test with 5% significance level, we have found that there is NO statistically significant difference b/w the mean number of drives between iPhone and Android users using Waze app\n",
    "* In short, the number of drives by Waze users using iPhone or Android apps had no significant difference  \n",
    "\n",
    "\n",
    "* we can further investigate the influence of other features in the dataset that causes the users to churn\n"
   ]
  },
  {
   "cell_type": "markdown",
   "id": "c9b52348",
   "metadata": {
    "papermill": {
     "duration": 0.007237,
     "end_time": "2025-02-09T03:56:33.726542",
     "exception": false,
     "start_time": "2025-02-09T03:56:33.719305",
     "status": "completed"
    },
    "tags": []
   },
   "source": [
    "**Congratulations!** You've completed this lab. However, you may not notice a green check mark next to this item on Coursera's platform. Please continue your progress regardless of the check mark. Just click on the \"save\" icon at the top of this notebook to ensure your work has been logged."
   ]
  }
 ],
 "metadata": {
  "colab": {
   "provenance": [
    {
     "file_id": "1VMShPM3amGvcOZx0J5yHz1kb04rzCFvN",
     "timestamp": 1671052168408
    },
    {
     "file_id": "1su07KaK4RI6MI85tMf2H19qop9LcqqDy",
     "timestamp": 1669648371757
    },
    {
     "file_id": "1f5FzGbEQi1DvhHY8u-K32sklfpgir_pK",
     "timestamp": 1669589913543
    }
   ]
  },
  "kaggle": {
   "accelerator": "none",
   "dataSources": [
    {
     "datasetId": 6605803,
     "sourceId": 10666352,
     "sourceType": "datasetVersion"
    }
   ],
   "dockerImageVersionId": 30886,
   "isGpuEnabled": false,
   "isInternetEnabled": true,
   "language": "python",
   "sourceType": "notebook"
  },
  "kernelspec": {
   "display_name": "Python 3",
   "language": "python",
   "name": "python3"
  },
  "language_info": {
   "codemirror_mode": {
    "name": "ipython",
    "version": 3
   },
   "file_extension": ".py",
   "mimetype": "text/x-python",
   "name": "python",
   "nbconvert_exporter": "python",
   "pygments_lexer": "ipython3",
   "version": "3.10.12"
  },
  "papermill": {
   "default_parameters": {},
   "duration": 6.95191,
   "end_time": "2025-02-09T03:56:34.460345",
   "environment_variables": {},
   "exception": null,
   "input_path": "__notebook__.ipynb",
   "output_path": "__notebook__.ipynb",
   "parameters": {},
   "start_time": "2025-02-09T03:56:27.508435",
   "version": "2.6.0"
  }
 },
 "nbformat": 4,
 "nbformat_minor": 5
}
