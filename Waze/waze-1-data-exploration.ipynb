{
 "cells": [
  {
   "cell_type": "markdown",
   "id": "016c1484",
   "metadata": {
    "id": "DtNBZFHO3M7n",
    "papermill": {
     "duration": 0.00941,
     "end_time": "2025-02-05T04:54:55.795888",
     "exception": false,
     "start_time": "2025-02-05T04:54:55.786478",
     "status": "completed"
    },
    "tags": []
   },
   "source": [
    "# **Waze Project**\n",
    "**Course 2 - Get Started with Python**"
   ]
  },
  {
   "cell_type": "markdown",
   "id": "ccdc5cd5",
   "metadata": {
    "id": "zJCatj3xzrQZ",
    "papermill": {
     "duration": 0.008429,
     "end_time": "2025-02-05T04:54:55.813218",
     "exception": false,
     "start_time": "2025-02-05T04:54:55.804789",
     "status": "completed"
    },
    "tags": []
   },
   "source": [
    "Welcome to the Waze Project!\n",
    "\n",
    "Your Waze data analytics team is still in the early stages of their user churn project. Previously, you were asked to complete a project proposal by your supervisor, May Santner. You have received notice that your project proposal has been approved and that your team has been given access to Waze's user data. To get clear insights, the user data must be inspected and prepared for the upcoming process of exploratory data analysis (EDA).\n",
    "\n",
    "A Python notebook has been prepared to guide you through this project. Answer the questions and create an executive summary for the Waze data team."
   ]
  },
  {
   "cell_type": "markdown",
   "id": "7bcb57ce",
   "metadata": {
    "id": "rgSbVJvomcVa",
    "papermill": {
     "duration": 0.008203,
     "end_time": "2025-02-05T04:54:55.830108",
     "exception": false,
     "start_time": "2025-02-05T04:54:55.821905",
     "status": "completed"
    },
    "tags": []
   },
   "source": [
    "# **Course 2 End-of-course project: Inspect and analyze data**\n",
    "\n",
    "In this activity, you will examine data provided and prepare it for analysis. This activity will help ensure the information is,\n",
    "\n",
    "1.   Ready to answer questions and yield insights\n",
    "\n",
    "2.   Ready for visualizations\n",
    "\n",
    "3.   Ready for future hypothesis testing and statistical methods\n",
    "<br/>\n",
    "\n",
    "**The purpose** of this project is to investigate and understand the data provided.\n",
    "\n",
    "**The goal** is to use a dataframe contructed within Python, perform a cursory inspection of the provided dataset, and inform team members of your findings.\n",
    "<br/>\n",
    "\n",
    "*This activity has three parts:*\n",
    "\n",
    "**Part 1:** Understand the situation\n",
    "* How can you best prepare to understand and organize the provided information?\n",
    "\n",
    "**Part 2:** Understand the data\n",
    "\n",
    "* Create a pandas dataframe for data learning, future exploratory data analysis (EDA), and statistical activities\n",
    "\n",
    "* Compile summary information about the data to inform next steps\n",
    "\n",
    "**Part 3:** Understand the variables\n",
    "\n",
    "* Use insights from your examination of the summary data to guide deeper investigation into variables\n",
    "\n",
    "\n",
    "<br/>\n",
    "\n",
    "Follow the instructions and answer the following questions to complete the activity. Then, you will complete an Executive Summary using the questions listed on the PACE Strategy Document.\n",
    "\n",
    "Be sure to complete this activity before moving on. The next course item will provide you with a completed exemplar to compare to your own work.\n",
    "\n"
   ]
  },
  {
   "cell_type": "markdown",
   "id": "ef157a6c",
   "metadata": {
    "id": "HjFGokxv2pc5",
    "papermill": {
     "duration": 0.008384,
     "end_time": "2025-02-05T04:54:55.847011",
     "exception": false,
     "start_time": "2025-02-05T04:54:55.838627",
     "status": "completed"
    },
    "tags": []
   },
   "source": [
    "# **Identify data types and compile summary information**\n"
   ]
  },
  {
   "cell_type": "markdown",
   "id": "643856e7",
   "metadata": {
    "id": "MRUYfzCb4vop",
    "papermill": {
     "duration": 0.0082,
     "end_time": "2025-02-05T04:54:55.863891",
     "exception": false,
     "start_time": "2025-02-05T04:54:55.855691",
     "status": "completed"
    },
    "tags": []
   },
   "source": [
    "<img src=\"images/Pace.png\" width=\"100\" height=\"100\" align=left>\n",
    "\n",
    "# **PACE stages**"
   ]
  },
  {
   "cell_type": "markdown",
   "id": "0b067ea5",
   "metadata": {
    "id": "b4B47DQPcSQu",
    "papermill": {
     "duration": 0.008355,
     "end_time": "2025-02-05T04:54:55.880882",
     "exception": false,
     "start_time": "2025-02-05T04:54:55.872527",
     "status": "completed"
    },
    "tags": []
   },
   "source": [
    "Throughout these project notebooks, you'll see references to the problem-solving framework, PACE. The following notebook components are labeled with the respective PACE stages: Plan, Analyze, Construct, and Execute."
   ]
  },
  {
   "cell_type": "markdown",
   "id": "d98ce83d",
   "metadata": {
    "id": "zRHb2QQWj99m",
    "papermill": {
     "duration": 0.008234,
     "end_time": "2025-02-05T04:54:55.897838",
     "exception": false,
     "start_time": "2025-02-05T04:54:55.889604",
     "status": "completed"
    },
    "tags": []
   },
   "source": [
    "<img src=\"images/Plan.png\" width=\"100\" height=\"100\" align=left>\n",
    "\n",
    "\n",
    "## **PACE: Plan**\n",
    "\n",
    "Consider the questions in your PACE Strategy Document and those below to craft your response:"
   ]
  },
  {
   "cell_type": "markdown",
   "id": "17866331",
   "metadata": {
    "id": "pWEfG5zJV5oG",
    "papermill": {
     "duration": 0.008215,
     "end_time": "2025-02-05T04:54:55.914709",
     "exception": false,
     "start_time": "2025-02-05T04:54:55.906494",
     "status": "completed"
    },
    "tags": []
   },
   "source": [
    "### **Task 1. Understand the situation**\n",
    "\n",
    "*   How can you best prepare to understand and organize the provided driver data?\n",
    "\n",
    "\n",
    "*Begin by exploring your dataset and consider reviewing the Data Dictionary.*"
   ]
  },
  {
   "cell_type": "markdown",
   "id": "060c03a9",
   "metadata": {
    "id": "irvqnKSe6Z80",
    "papermill": {
     "duration": 0.00815,
     "end_time": "2025-02-05T04:54:55.931409",
     "exception": false,
     "start_time": "2025-02-05T04:54:55.923259",
     "status": "completed"
    },
    "tags": []
   },
   "source": [
    "* explore the data dictionary\n",
    "* identify the feature set in hand"
   ]
  },
  {
   "cell_type": "markdown",
   "id": "aeffce56",
   "metadata": {
    "id": "1E9Y5aC0IAA-",
    "papermill": {
     "duration": 0.008194,
     "end_time": "2025-02-05T04:54:55.948096",
     "exception": false,
     "start_time": "2025-02-05T04:54:55.939902",
     "status": "completed"
    },
    "tags": []
   },
   "source": [
    "<img src=\"images/Analyze.png\" width=\"100\" height=\"100\" align=left>\n",
    "\n",
    "## **PACE: Analyze**\n",
    "\n",
    "Consider the questions in your PACE Strategy Document to reflect on the Analyze stage."
   ]
  },
  {
   "cell_type": "markdown",
   "id": "e87ef5c8",
   "metadata": {
    "id": "D4WK_AxP_S__",
    "papermill": {
     "duration": 0.008208,
     "end_time": "2025-02-05T04:54:55.964714",
     "exception": false,
     "start_time": "2025-02-05T04:54:55.956506",
     "status": "completed"
    },
    "tags": []
   },
   "source": [
    "### **Task 2a. Imports and data loading**\n",
    "\n",
    "Start by importing the packages that you will need to load and explore the dataset. Make sure to use the following import statements:\n",
    "\n",
    "*   `import pandas as pd`\n",
    "\n",
    "*   `import numpy as np`\n"
   ]
  },
  {
   "cell_type": "code",
   "execution_count": 1,
   "id": "243c5515",
   "metadata": {
    "execution": {
     "iopub.execute_input": "2025-02-05T04:54:55.983251Z",
     "iopub.status.busy": "2025-02-05T04:54:55.982725Z",
     "iopub.status.idle": "2025-02-05T04:54:57.059891Z",
     "shell.execute_reply": "2025-02-05T04:54:57.058936Z"
    },
    "id": "OZSXM4q5zrQh",
    "papermill": {
     "duration": 1.088597,
     "end_time": "2025-02-05T04:54:57.061842",
     "exception": false,
     "start_time": "2025-02-05T04:54:55.973245",
     "status": "completed"
    },
    "tags": []
   },
   "outputs": [],
   "source": [
    "# Import packages for data manipulation\n",
    "### YOUR CODE HERE ###\n",
    "import pandas as pd\n",
    "import numpy as np"
   ]
  },
  {
   "cell_type": "markdown",
   "id": "8c164f35",
   "metadata": {
    "id": "2-hT-EQA67v3",
    "papermill": {
     "duration": 0.008148,
     "end_time": "2025-02-05T04:54:57.078607",
     "exception": false,
     "start_time": "2025-02-05T04:54:57.070459",
     "status": "completed"
    },
    "tags": []
   },
   "source": [
    "Then, load the dataset into a dataframe. Creating a dataframe will help you conduct data manipulation, exploratory data analysis (EDA), and statistical activities.\n",
    "\n",
    "**Note:** As shown in this cell, the dataset has been automatically loaded in for you. You do not need to download the .csv file, or provide more code, in order to access the dataset and proceed with this lab. Please continue with this activity by completing the following instructions."
   ]
  },
  {
   "cell_type": "code",
   "execution_count": 2,
   "id": "5e3bc6d4",
   "metadata": {
    "execution": {
     "iopub.execute_input": "2025-02-05T04:54:57.096775Z",
     "iopub.status.busy": "2025-02-05T04:54:57.096281Z",
     "iopub.status.idle": "2025-02-05T04:54:57.167401Z",
     "shell.execute_reply": "2025-02-05T04:54:57.166145Z"
    },
    "papermill": {
     "duration": 0.08243,
     "end_time": "2025-02-05T04:54:57.169427",
     "exception": false,
     "start_time": "2025-02-05T04:54:57.086997",
     "status": "completed"
    },
    "tags": []
   },
   "outputs": [],
   "source": [
    "# Load dataset into dataframe\n",
    "df = pd.read_csv('/kaggle/input/waze-dataset-1/waze_dataset.csv')"
   ]
  },
  {
   "cell_type": "markdown",
   "id": "09651caa",
   "metadata": {
    "id": "gYx1emvno7U_",
    "papermill": {
     "duration": 0.008033,
     "end_time": "2025-02-05T04:54:57.186182",
     "exception": false,
     "start_time": "2025-02-05T04:54:57.178149",
     "status": "completed"
    },
    "tags": []
   },
   "source": [
    "### **Task 2b. Summary information**\n",
    "\n",
    "View and inspect summary information about the dataframe by **coding the following:**\n",
    " "
   ]
  },
  {
   "cell_type": "code",
   "execution_count": 3,
   "id": "efd65434",
   "metadata": {
    "execution": {
     "iopub.execute_input": "2025-02-05T04:54:57.204573Z",
     "iopub.status.busy": "2025-02-05T04:54:57.204189Z",
     "iopub.status.idle": "2025-02-05T04:54:57.234123Z",
     "shell.execute_reply": "2025-02-05T04:54:57.233013Z"
    },
    "id": "t7Nck2hh4R6J",
    "papermill": {
     "duration": 0.041439,
     "end_time": "2025-02-05T04:54:57.235992",
     "exception": false,
     "start_time": "2025-02-05T04:54:57.194553",
     "status": "completed"
    },
    "tags": []
   },
   "outputs": [
    {
     "data": {
      "text/html": [
       "<div>\n",
       "<style scoped>\n",
       "    .dataframe tbody tr th:only-of-type {\n",
       "        vertical-align: middle;\n",
       "    }\n",
       "\n",
       "    .dataframe tbody tr th {\n",
       "        vertical-align: top;\n",
       "    }\n",
       "\n",
       "    .dataframe thead th {\n",
       "        text-align: right;\n",
       "    }\n",
       "</style>\n",
       "<table border=\"1\" class=\"dataframe\">\n",
       "  <thead>\n",
       "    <tr style=\"text-align: right;\">\n",
       "      <th></th>\n",
       "      <th>ID</th>\n",
       "      <th>label</th>\n",
       "      <th>sessions</th>\n",
       "      <th>drives</th>\n",
       "      <th>total_sessions</th>\n",
       "      <th>n_days_after_onboarding</th>\n",
       "      <th>total_navigations_fav1</th>\n",
       "      <th>total_navigations_fav2</th>\n",
       "      <th>driven_km_drives</th>\n",
       "      <th>duration_minutes_drives</th>\n",
       "      <th>activity_days</th>\n",
       "      <th>driving_days</th>\n",
       "      <th>device</th>\n",
       "    </tr>\n",
       "  </thead>\n",
       "  <tbody>\n",
       "    <tr>\n",
       "      <th>0</th>\n",
       "      <td>0</td>\n",
       "      <td>retained</td>\n",
       "      <td>283</td>\n",
       "      <td>226</td>\n",
       "      <td>296.748273</td>\n",
       "      <td>2276</td>\n",
       "      <td>208</td>\n",
       "      <td>0</td>\n",
       "      <td>2628.845068</td>\n",
       "      <td>1985.775061</td>\n",
       "      <td>28</td>\n",
       "      <td>19</td>\n",
       "      <td>Android</td>\n",
       "    </tr>\n",
       "    <tr>\n",
       "      <th>1</th>\n",
       "      <td>1</td>\n",
       "      <td>retained</td>\n",
       "      <td>133</td>\n",
       "      <td>107</td>\n",
       "      <td>326.896596</td>\n",
       "      <td>1225</td>\n",
       "      <td>19</td>\n",
       "      <td>64</td>\n",
       "      <td>13715.920550</td>\n",
       "      <td>3160.472914</td>\n",
       "      <td>13</td>\n",
       "      <td>11</td>\n",
       "      <td>iPhone</td>\n",
       "    </tr>\n",
       "    <tr>\n",
       "      <th>2</th>\n",
       "      <td>2</td>\n",
       "      <td>retained</td>\n",
       "      <td>114</td>\n",
       "      <td>95</td>\n",
       "      <td>135.522926</td>\n",
       "      <td>2651</td>\n",
       "      <td>0</td>\n",
       "      <td>0</td>\n",
       "      <td>3059.148818</td>\n",
       "      <td>1610.735904</td>\n",
       "      <td>14</td>\n",
       "      <td>8</td>\n",
       "      <td>Android</td>\n",
       "    </tr>\n",
       "    <tr>\n",
       "      <th>3</th>\n",
       "      <td>3</td>\n",
       "      <td>retained</td>\n",
       "      <td>49</td>\n",
       "      <td>40</td>\n",
       "      <td>67.589221</td>\n",
       "      <td>15</td>\n",
       "      <td>322</td>\n",
       "      <td>7</td>\n",
       "      <td>913.591123</td>\n",
       "      <td>587.196542</td>\n",
       "      <td>7</td>\n",
       "      <td>3</td>\n",
       "      <td>iPhone</td>\n",
       "    </tr>\n",
       "    <tr>\n",
       "      <th>4</th>\n",
       "      <td>4</td>\n",
       "      <td>retained</td>\n",
       "      <td>84</td>\n",
       "      <td>68</td>\n",
       "      <td>168.247020</td>\n",
       "      <td>1562</td>\n",
       "      <td>166</td>\n",
       "      <td>5</td>\n",
       "      <td>3950.202008</td>\n",
       "      <td>1219.555924</td>\n",
       "      <td>27</td>\n",
       "      <td>18</td>\n",
       "      <td>Android</td>\n",
       "    </tr>\n",
       "    <tr>\n",
       "      <th>5</th>\n",
       "      <td>5</td>\n",
       "      <td>retained</td>\n",
       "      <td>113</td>\n",
       "      <td>103</td>\n",
       "      <td>279.544437</td>\n",
       "      <td>2637</td>\n",
       "      <td>0</td>\n",
       "      <td>0</td>\n",
       "      <td>901.238699</td>\n",
       "      <td>439.101397</td>\n",
       "      <td>15</td>\n",
       "      <td>11</td>\n",
       "      <td>iPhone</td>\n",
       "    </tr>\n",
       "    <tr>\n",
       "      <th>6</th>\n",
       "      <td>6</td>\n",
       "      <td>retained</td>\n",
       "      <td>3</td>\n",
       "      <td>2</td>\n",
       "      <td>236.725314</td>\n",
       "      <td>360</td>\n",
       "      <td>185</td>\n",
       "      <td>18</td>\n",
       "      <td>5249.172828</td>\n",
       "      <td>726.577205</td>\n",
       "      <td>28</td>\n",
       "      <td>23</td>\n",
       "      <td>iPhone</td>\n",
       "    </tr>\n",
       "    <tr>\n",
       "      <th>7</th>\n",
       "      <td>7</td>\n",
       "      <td>retained</td>\n",
       "      <td>39</td>\n",
       "      <td>35</td>\n",
       "      <td>176.072845</td>\n",
       "      <td>2999</td>\n",
       "      <td>0</td>\n",
       "      <td>0</td>\n",
       "      <td>7892.052468</td>\n",
       "      <td>2466.981741</td>\n",
       "      <td>22</td>\n",
       "      <td>20</td>\n",
       "      <td>iPhone</td>\n",
       "    </tr>\n",
       "    <tr>\n",
       "      <th>8</th>\n",
       "      <td>8</td>\n",
       "      <td>retained</td>\n",
       "      <td>57</td>\n",
       "      <td>46</td>\n",
       "      <td>183.532018</td>\n",
       "      <td>424</td>\n",
       "      <td>0</td>\n",
       "      <td>26</td>\n",
       "      <td>2651.709764</td>\n",
       "      <td>1594.342984</td>\n",
       "      <td>25</td>\n",
       "      <td>20</td>\n",
       "      <td>Android</td>\n",
       "    </tr>\n",
       "    <tr>\n",
       "      <th>9</th>\n",
       "      <td>9</td>\n",
       "      <td>churned</td>\n",
       "      <td>84</td>\n",
       "      <td>68</td>\n",
       "      <td>244.802115</td>\n",
       "      <td>2997</td>\n",
       "      <td>72</td>\n",
       "      <td>0</td>\n",
       "      <td>6043.460295</td>\n",
       "      <td>2341.838528</td>\n",
       "      <td>7</td>\n",
       "      <td>3</td>\n",
       "      <td>iPhone</td>\n",
       "    </tr>\n",
       "  </tbody>\n",
       "</table>\n",
       "</div>"
      ],
      "text/plain": [
       "   ID     label  sessions  drives  total_sessions  n_days_after_onboarding  \\\n",
       "0   0  retained       283     226      296.748273                     2276   \n",
       "1   1  retained       133     107      326.896596                     1225   \n",
       "2   2  retained       114      95      135.522926                     2651   \n",
       "3   3  retained        49      40       67.589221                       15   \n",
       "4   4  retained        84      68      168.247020                     1562   \n",
       "5   5  retained       113     103      279.544437                     2637   \n",
       "6   6  retained         3       2      236.725314                      360   \n",
       "7   7  retained        39      35      176.072845                     2999   \n",
       "8   8  retained        57      46      183.532018                      424   \n",
       "9   9   churned        84      68      244.802115                     2997   \n",
       "\n",
       "   total_navigations_fav1  total_navigations_fav2  driven_km_drives  \\\n",
       "0                     208                       0       2628.845068   \n",
       "1                      19                      64      13715.920550   \n",
       "2                       0                       0       3059.148818   \n",
       "3                     322                       7        913.591123   \n",
       "4                     166                       5       3950.202008   \n",
       "5                       0                       0        901.238699   \n",
       "6                     185                      18       5249.172828   \n",
       "7                       0                       0       7892.052468   \n",
       "8                       0                      26       2651.709764   \n",
       "9                      72                       0       6043.460295   \n",
       "\n",
       "   duration_minutes_drives  activity_days  driving_days   device  \n",
       "0              1985.775061             28            19  Android  \n",
       "1              3160.472914             13            11   iPhone  \n",
       "2              1610.735904             14             8  Android  \n",
       "3               587.196542              7             3   iPhone  \n",
       "4              1219.555924             27            18  Android  \n",
       "5               439.101397             15            11   iPhone  \n",
       "6               726.577205             28            23   iPhone  \n",
       "7              2466.981741             22            20   iPhone  \n",
       "8              1594.342984             25            20  Android  \n",
       "9              2341.838528              7             3   iPhone  "
      ]
     },
     "execution_count": 3,
     "metadata": {},
     "output_type": "execute_result"
    }
   ],
   "source": [
    "### YOUR CODE HERE ###\n",
    "df.head(10)"
   ]
  },
  {
   "cell_type": "code",
   "execution_count": 4,
   "id": "df778cfd",
   "metadata": {
    "execution": {
     "iopub.execute_input": "2025-02-05T04:54:57.255577Z",
     "iopub.status.busy": "2025-02-05T04:54:57.255204Z",
     "iopub.status.idle": "2025-02-05T04:54:57.287527Z",
     "shell.execute_reply": "2025-02-05T04:54:57.286174Z"
    },
    "id": "3NctoTSAvGGD",
    "papermill": {
     "duration": 0.04416,
     "end_time": "2025-02-05T04:54:57.289262",
     "exception": false,
     "start_time": "2025-02-05T04:54:57.245102",
     "status": "completed"
    },
    "tags": []
   },
   "outputs": [
    {
     "name": "stdout",
     "output_type": "stream",
     "text": [
      "<class 'pandas.core.frame.DataFrame'>\n",
      "RangeIndex: 14999 entries, 0 to 14998\n",
      "Data columns (total 13 columns):\n",
      " #   Column                   Non-Null Count  Dtype  \n",
      "---  ------                   --------------  -----  \n",
      " 0   ID                       14999 non-null  int64  \n",
      " 1   label                    14299 non-null  object \n",
      " 2   sessions                 14999 non-null  int64  \n",
      " 3   drives                   14999 non-null  int64  \n",
      " 4   total_sessions           14999 non-null  float64\n",
      " 5   n_days_after_onboarding  14999 non-null  int64  \n",
      " 6   total_navigations_fav1   14999 non-null  int64  \n",
      " 7   total_navigations_fav2   14999 non-null  int64  \n",
      " 8   driven_km_drives         14999 non-null  float64\n",
      " 9   duration_minutes_drives  14999 non-null  float64\n",
      " 10  activity_days            14999 non-null  int64  \n",
      " 11  driving_days             14999 non-null  int64  \n",
      " 12  device                   14999 non-null  object \n",
      "dtypes: float64(3), int64(8), object(2)\n",
      "memory usage: 1.5+ MB\n"
     ]
    }
   ],
   "source": [
    "### YOUR CODE HERE ###\n",
    "df.info()"
   ]
  },
  {
   "cell_type": "markdown",
   "id": "f6071540",
   "metadata": {
    "id": "JscqNfr6ZVsE",
    "papermill": {
     "duration": 0.008523,
     "end_time": "2025-02-05T04:54:57.306977",
     "exception": false,
     "start_time": "2025-02-05T04:54:57.298454",
     "status": "completed"
    },
    "tags": []
   },
   "source": [
    "\n",
    "1. When reviewing the `df.head()` output, are there any variables that have missing values?  \n",
    "**--> NO missing values in the first 10 rows**  \n",
    "\n",
    "2. When reviewing the `df.info()` output, what are the data types? How many rows and columns do you have?  \n",
    "**--> 'int', 'float' for numerical columns and 'object' for the categorical columns**  \n",
    "\n",
    "3. Does the dataset have any missing values?  \n",
    "**--> there are 700 missing values in 'label' feature**"
   ]
  },
  {
   "cell_type": "markdown",
   "id": "51450499",
   "metadata": {
    "id": "BMNnIoc51_1N",
    "papermill": {
     "duration": 0.008447,
     "end_time": "2025-02-05T04:54:57.324231",
     "exception": false,
     "start_time": "2025-02-05T04:54:57.315784",
     "status": "completed"
    },
    "tags": []
   },
   "source": [
    "### **Task 2c. Null values and summary statistics**\n",
    "\n",
    "Compare the summary statistics of the 700 rows that are missing labels with summary statistics of the rows that are not missing any values.\n"
   ]
  },
  {
   "cell_type": "code",
   "execution_count": 5,
   "id": "aef7fc8e",
   "metadata": {
    "execution": {
     "iopub.execute_input": "2025-02-05T04:54:57.342965Z",
     "iopub.status.busy": "2025-02-05T04:54:57.342589Z",
     "iopub.status.idle": "2025-02-05T04:54:57.382610Z",
     "shell.execute_reply": "2025-02-05T04:54:57.381496Z"
    },
    "id": "bAQeHW-d2S1-",
    "papermill": {
     "duration": 0.05163,
     "end_time": "2025-02-05T04:54:57.384577",
     "exception": false,
     "start_time": "2025-02-05T04:54:57.332947",
     "status": "completed"
    },
    "tags": []
   },
   "outputs": [
    {
     "data": {
      "text/html": [
       "<div>\n",
       "<style scoped>\n",
       "    .dataframe tbody tr th:only-of-type {\n",
       "        vertical-align: middle;\n",
       "    }\n",
       "\n",
       "    .dataframe tbody tr th {\n",
       "        vertical-align: top;\n",
       "    }\n",
       "\n",
       "    .dataframe thead th {\n",
       "        text-align: right;\n",
       "    }\n",
       "</style>\n",
       "<table border=\"1\" class=\"dataframe\">\n",
       "  <thead>\n",
       "    <tr style=\"text-align: right;\">\n",
       "      <th></th>\n",
       "      <th>ID</th>\n",
       "      <th>sessions</th>\n",
       "      <th>drives</th>\n",
       "      <th>total_sessions</th>\n",
       "      <th>n_days_after_onboarding</th>\n",
       "      <th>total_navigations_fav1</th>\n",
       "      <th>total_navigations_fav2</th>\n",
       "      <th>driven_km_drives</th>\n",
       "      <th>duration_minutes_drives</th>\n",
       "      <th>activity_days</th>\n",
       "      <th>driving_days</th>\n",
       "    </tr>\n",
       "  </thead>\n",
       "  <tbody>\n",
       "    <tr>\n",
       "      <th>count</th>\n",
       "      <td>700.000000</td>\n",
       "      <td>700.000000</td>\n",
       "      <td>700.000000</td>\n",
       "      <td>700.000000</td>\n",
       "      <td>700.000000</td>\n",
       "      <td>700.000000</td>\n",
       "      <td>700.000000</td>\n",
       "      <td>700.000000</td>\n",
       "      <td>700.000000</td>\n",
       "      <td>700.000000</td>\n",
       "      <td>700.000000</td>\n",
       "    </tr>\n",
       "    <tr>\n",
       "      <th>mean</th>\n",
       "      <td>7405.584286</td>\n",
       "      <td>80.837143</td>\n",
       "      <td>67.798571</td>\n",
       "      <td>198.483348</td>\n",
       "      <td>1709.295714</td>\n",
       "      <td>118.717143</td>\n",
       "      <td>30.371429</td>\n",
       "      <td>3935.967029</td>\n",
       "      <td>1795.123358</td>\n",
       "      <td>15.382857</td>\n",
       "      <td>12.125714</td>\n",
       "    </tr>\n",
       "    <tr>\n",
       "      <th>std</th>\n",
       "      <td>4306.900234</td>\n",
       "      <td>79.987440</td>\n",
       "      <td>65.271926</td>\n",
       "      <td>140.561715</td>\n",
       "      <td>1005.306562</td>\n",
       "      <td>156.308140</td>\n",
       "      <td>46.306984</td>\n",
       "      <td>2443.107121</td>\n",
       "      <td>1419.242246</td>\n",
       "      <td>8.772714</td>\n",
       "      <td>7.626373</td>\n",
       "    </tr>\n",
       "    <tr>\n",
       "      <th>min</th>\n",
       "      <td>77.000000</td>\n",
       "      <td>0.000000</td>\n",
       "      <td>0.000000</td>\n",
       "      <td>5.582648</td>\n",
       "      <td>16.000000</td>\n",
       "      <td>0.000000</td>\n",
       "      <td>0.000000</td>\n",
       "      <td>290.119811</td>\n",
       "      <td>66.588493</td>\n",
       "      <td>0.000000</td>\n",
       "      <td>0.000000</td>\n",
       "    </tr>\n",
       "    <tr>\n",
       "      <th>25%</th>\n",
       "      <td>3744.500000</td>\n",
       "      <td>23.000000</td>\n",
       "      <td>20.000000</td>\n",
       "      <td>94.056340</td>\n",
       "      <td>869.000000</td>\n",
       "      <td>4.000000</td>\n",
       "      <td>0.000000</td>\n",
       "      <td>2119.344818</td>\n",
       "      <td>779.009271</td>\n",
       "      <td>8.000000</td>\n",
       "      <td>6.000000</td>\n",
       "    </tr>\n",
       "    <tr>\n",
       "      <th>50%</th>\n",
       "      <td>7443.000000</td>\n",
       "      <td>56.000000</td>\n",
       "      <td>47.500000</td>\n",
       "      <td>177.255925</td>\n",
       "      <td>1650.500000</td>\n",
       "      <td>62.500000</td>\n",
       "      <td>10.000000</td>\n",
       "      <td>3421.156721</td>\n",
       "      <td>1414.966279</td>\n",
       "      <td>15.000000</td>\n",
       "      <td>12.000000</td>\n",
       "    </tr>\n",
       "    <tr>\n",
       "      <th>75%</th>\n",
       "      <td>11007.000000</td>\n",
       "      <td>112.250000</td>\n",
       "      <td>94.000000</td>\n",
       "      <td>266.058022</td>\n",
       "      <td>2508.750000</td>\n",
       "      <td>169.250000</td>\n",
       "      <td>43.000000</td>\n",
       "      <td>5166.097373</td>\n",
       "      <td>2443.955404</td>\n",
       "      <td>23.000000</td>\n",
       "      <td>18.000000</td>\n",
       "    </tr>\n",
       "    <tr>\n",
       "      <th>max</th>\n",
       "      <td>14993.000000</td>\n",
       "      <td>556.000000</td>\n",
       "      <td>445.000000</td>\n",
       "      <td>1076.879741</td>\n",
       "      <td>3498.000000</td>\n",
       "      <td>1096.000000</td>\n",
       "      <td>352.000000</td>\n",
       "      <td>15135.391280</td>\n",
       "      <td>9746.253023</td>\n",
       "      <td>31.000000</td>\n",
       "      <td>30.000000</td>\n",
       "    </tr>\n",
       "  </tbody>\n",
       "</table>\n",
       "</div>"
      ],
      "text/plain": [
       "                 ID    sessions      drives  total_sessions  \\\n",
       "count    700.000000  700.000000  700.000000      700.000000   \n",
       "mean    7405.584286   80.837143   67.798571      198.483348   \n",
       "std     4306.900234   79.987440   65.271926      140.561715   \n",
       "min       77.000000    0.000000    0.000000        5.582648   \n",
       "25%     3744.500000   23.000000   20.000000       94.056340   \n",
       "50%     7443.000000   56.000000   47.500000      177.255925   \n",
       "75%    11007.000000  112.250000   94.000000      266.058022   \n",
       "max    14993.000000  556.000000  445.000000     1076.879741   \n",
       "\n",
       "       n_days_after_onboarding  total_navigations_fav1  \\\n",
       "count               700.000000              700.000000   \n",
       "mean               1709.295714              118.717143   \n",
       "std                1005.306562              156.308140   \n",
       "min                  16.000000                0.000000   \n",
       "25%                 869.000000                4.000000   \n",
       "50%                1650.500000               62.500000   \n",
       "75%                2508.750000              169.250000   \n",
       "max                3498.000000             1096.000000   \n",
       "\n",
       "       total_navigations_fav2  driven_km_drives  duration_minutes_drives  \\\n",
       "count              700.000000        700.000000               700.000000   \n",
       "mean                30.371429       3935.967029              1795.123358   \n",
       "std                 46.306984       2443.107121              1419.242246   \n",
       "min                  0.000000        290.119811                66.588493   \n",
       "25%                  0.000000       2119.344818               779.009271   \n",
       "50%                 10.000000       3421.156721              1414.966279   \n",
       "75%                 43.000000       5166.097373              2443.955404   \n",
       "max                352.000000      15135.391280              9746.253023   \n",
       "\n",
       "       activity_days  driving_days  \n",
       "count     700.000000    700.000000  \n",
       "mean       15.382857     12.125714  \n",
       "std         8.772714      7.626373  \n",
       "min         0.000000      0.000000  \n",
       "25%         8.000000      6.000000  \n",
       "50%        15.000000     12.000000  \n",
       "75%        23.000000     18.000000  \n",
       "max        31.000000     30.000000  "
      ]
     },
     "execution_count": 5,
     "metadata": {},
     "output_type": "execute_result"
    }
   ],
   "source": [
    "# Isolate rows with null values\n",
    "### YOUR CODE HERE ###\n",
    "df_null = df[df['label'].isna()]\n",
    "\n",
    "# Display summary stats of rows with null values\n",
    "### YOUR CODE HERE ###\n",
    "df_null.describe()"
   ]
  },
  {
   "cell_type": "code",
   "execution_count": 6,
   "id": "e8ef608e",
   "metadata": {
    "execution": {
     "iopub.execute_input": "2025-02-05T04:54:57.405005Z",
     "iopub.status.busy": "2025-02-05T04:54:57.404575Z",
     "iopub.status.idle": "2025-02-05T04:54:57.444304Z",
     "shell.execute_reply": "2025-02-05T04:54:57.443234Z"
    },
    "id": "W77hp8q3w-zi",
    "papermill": {
     "duration": 0.051971,
     "end_time": "2025-02-05T04:54:57.446000",
     "exception": false,
     "start_time": "2025-02-05T04:54:57.394029",
     "status": "completed"
    },
    "scrolled": true,
    "tags": []
   },
   "outputs": [
    {
     "data": {
      "text/html": [
       "<div>\n",
       "<style scoped>\n",
       "    .dataframe tbody tr th:only-of-type {\n",
       "        vertical-align: middle;\n",
       "    }\n",
       "\n",
       "    .dataframe tbody tr th {\n",
       "        vertical-align: top;\n",
       "    }\n",
       "\n",
       "    .dataframe thead th {\n",
       "        text-align: right;\n",
       "    }\n",
       "</style>\n",
       "<table border=\"1\" class=\"dataframe\">\n",
       "  <thead>\n",
       "    <tr style=\"text-align: right;\">\n",
       "      <th></th>\n",
       "      <th>ID</th>\n",
       "      <th>sessions</th>\n",
       "      <th>drives</th>\n",
       "      <th>total_sessions</th>\n",
       "      <th>n_days_after_onboarding</th>\n",
       "      <th>total_navigations_fav1</th>\n",
       "      <th>total_navigations_fav2</th>\n",
       "      <th>driven_km_drives</th>\n",
       "      <th>duration_minutes_drives</th>\n",
       "      <th>activity_days</th>\n",
       "      <th>driving_days</th>\n",
       "    </tr>\n",
       "  </thead>\n",
       "  <tbody>\n",
       "    <tr>\n",
       "      <th>count</th>\n",
       "      <td>14299.000000</td>\n",
       "      <td>14299.000000</td>\n",
       "      <td>14299.000000</td>\n",
       "      <td>14299.000000</td>\n",
       "      <td>14299.000000</td>\n",
       "      <td>14299.000000</td>\n",
       "      <td>14299.000000</td>\n",
       "      <td>14299.000000</td>\n",
       "      <td>14299.000000</td>\n",
       "      <td>14299.000000</td>\n",
       "      <td>14299.000000</td>\n",
       "    </tr>\n",
       "    <tr>\n",
       "      <th>mean</th>\n",
       "      <td>7503.573117</td>\n",
       "      <td>80.623820</td>\n",
       "      <td>67.255822</td>\n",
       "      <td>189.547409</td>\n",
       "      <td>1751.822505</td>\n",
       "      <td>121.747395</td>\n",
       "      <td>29.638296</td>\n",
       "      <td>4044.401535</td>\n",
       "      <td>1864.199794</td>\n",
       "      <td>15.544653</td>\n",
       "      <td>12.182530</td>\n",
       "    </tr>\n",
       "    <tr>\n",
       "      <th>std</th>\n",
       "      <td>4331.207621</td>\n",
       "      <td>80.736502</td>\n",
       "      <td>65.947295</td>\n",
       "      <td>136.189764</td>\n",
       "      <td>1008.663834</td>\n",
       "      <td>147.713428</td>\n",
       "      <td>45.350890</td>\n",
       "      <td>2504.977970</td>\n",
       "      <td>1448.005047</td>\n",
       "      <td>9.016088</td>\n",
       "      <td>7.833835</td>\n",
       "    </tr>\n",
       "    <tr>\n",
       "      <th>min</th>\n",
       "      <td>0.000000</td>\n",
       "      <td>0.000000</td>\n",
       "      <td>0.000000</td>\n",
       "      <td>0.220211</td>\n",
       "      <td>4.000000</td>\n",
       "      <td>0.000000</td>\n",
       "      <td>0.000000</td>\n",
       "      <td>60.441250</td>\n",
       "      <td>18.282082</td>\n",
       "      <td>0.000000</td>\n",
       "      <td>0.000000</td>\n",
       "    </tr>\n",
       "    <tr>\n",
       "      <th>25%</th>\n",
       "      <td>3749.500000</td>\n",
       "      <td>23.000000</td>\n",
       "      <td>20.000000</td>\n",
       "      <td>90.457733</td>\n",
       "      <td>878.500000</td>\n",
       "      <td>10.000000</td>\n",
       "      <td>0.000000</td>\n",
       "      <td>2217.319909</td>\n",
       "      <td>840.181344</td>\n",
       "      <td>8.000000</td>\n",
       "      <td>5.000000</td>\n",
       "    </tr>\n",
       "    <tr>\n",
       "      <th>50%</th>\n",
       "      <td>7504.000000</td>\n",
       "      <td>56.000000</td>\n",
       "      <td>48.000000</td>\n",
       "      <td>158.718571</td>\n",
       "      <td>1749.000000</td>\n",
       "      <td>71.000000</td>\n",
       "      <td>9.000000</td>\n",
       "      <td>3496.545617</td>\n",
       "      <td>1479.394387</td>\n",
       "      <td>16.000000</td>\n",
       "      <td>12.000000</td>\n",
       "    </tr>\n",
       "    <tr>\n",
       "      <th>75%</th>\n",
       "      <td>11257.500000</td>\n",
       "      <td>111.000000</td>\n",
       "      <td>93.000000</td>\n",
       "      <td>253.540450</td>\n",
       "      <td>2627.500000</td>\n",
       "      <td>178.000000</td>\n",
       "      <td>43.000000</td>\n",
       "      <td>5299.972162</td>\n",
       "      <td>2466.928876</td>\n",
       "      <td>23.000000</td>\n",
       "      <td>19.000000</td>\n",
       "    </tr>\n",
       "    <tr>\n",
       "      <th>max</th>\n",
       "      <td>14998.000000</td>\n",
       "      <td>743.000000</td>\n",
       "      <td>596.000000</td>\n",
       "      <td>1216.154633</td>\n",
       "      <td>3500.000000</td>\n",
       "      <td>1236.000000</td>\n",
       "      <td>415.000000</td>\n",
       "      <td>21183.401890</td>\n",
       "      <td>15851.727160</td>\n",
       "      <td>31.000000</td>\n",
       "      <td>30.000000</td>\n",
       "    </tr>\n",
       "  </tbody>\n",
       "</table>\n",
       "</div>"
      ],
      "text/plain": [
       "                 ID      sessions        drives  total_sessions  \\\n",
       "count  14299.000000  14299.000000  14299.000000    14299.000000   \n",
       "mean    7503.573117     80.623820     67.255822      189.547409   \n",
       "std     4331.207621     80.736502     65.947295      136.189764   \n",
       "min        0.000000      0.000000      0.000000        0.220211   \n",
       "25%     3749.500000     23.000000     20.000000       90.457733   \n",
       "50%     7504.000000     56.000000     48.000000      158.718571   \n",
       "75%    11257.500000    111.000000     93.000000      253.540450   \n",
       "max    14998.000000    743.000000    596.000000     1216.154633   \n",
       "\n",
       "       n_days_after_onboarding  total_navigations_fav1  \\\n",
       "count             14299.000000            14299.000000   \n",
       "mean               1751.822505              121.747395   \n",
       "std                1008.663834              147.713428   \n",
       "min                   4.000000                0.000000   \n",
       "25%                 878.500000               10.000000   \n",
       "50%                1749.000000               71.000000   \n",
       "75%                2627.500000              178.000000   \n",
       "max                3500.000000             1236.000000   \n",
       "\n",
       "       total_navigations_fav2  driven_km_drives  duration_minutes_drives  \\\n",
       "count            14299.000000      14299.000000             14299.000000   \n",
       "mean                29.638296       4044.401535              1864.199794   \n",
       "std                 45.350890       2504.977970              1448.005047   \n",
       "min                  0.000000         60.441250                18.282082   \n",
       "25%                  0.000000       2217.319909               840.181344   \n",
       "50%                  9.000000       3496.545617              1479.394387   \n",
       "75%                 43.000000       5299.972162              2466.928876   \n",
       "max                415.000000      21183.401890             15851.727160   \n",
       "\n",
       "       activity_days  driving_days  \n",
       "count   14299.000000  14299.000000  \n",
       "mean       15.544653     12.182530  \n",
       "std         9.016088      7.833835  \n",
       "min         0.000000      0.000000  \n",
       "25%         8.000000      5.000000  \n",
       "50%        16.000000     12.000000  \n",
       "75%        23.000000     19.000000  \n",
       "max        31.000000     30.000000  "
      ]
     },
     "execution_count": 6,
     "metadata": {},
     "output_type": "execute_result"
    }
   ],
   "source": [
    "# Isolate rows without null values\n",
    "### YOUR CODE HERE ###\n",
    "df_non_null = df[~df['label'].isna()]\n",
    "\n",
    "# Display summary stats of rows without null values\n",
    "### YOUR CODE HERE ###\n",
    "df_non_null.describe()"
   ]
  },
  {
   "cell_type": "markdown",
   "id": "ef4dc54a",
   "metadata": {
    "papermill": {
     "duration": 0.010609,
     "end_time": "2025-02-05T04:54:57.466320",
     "exception": false,
     "start_time": "2025-02-05T04:54:57.455711",
     "status": "completed"
    },
    "tags": []
   },
   "source": [
    "**Question:** Is there a discernible difference between the two populations?  \n",
    "* the rows with null values in the label column doesn't interact with other \n",
    "* So, there is no significant difference between populations with/without null values"
   ]
  },
  {
   "cell_type": "markdown",
   "id": "4f42bd96",
   "metadata": {
    "id": "S2CupDgSlpm4",
    "papermill": {
     "duration": 0.009217,
     "end_time": "2025-02-05T04:54:57.485203",
     "exception": false,
     "start_time": "2025-02-05T04:54:57.475986",
     "status": "completed"
    },
    "tags": []
   },
   "source": [
    "### **Task 2d. Null values - device counts**\n",
    "\n",
    "Next, check the two populations with respect to the `device` variable.\n",
    "\n"
   ]
  },
  {
   "cell_type": "code",
   "execution_count": 7,
   "id": "6f0eca99",
   "metadata": {
    "execution": {
     "iopub.execute_input": "2025-02-05T04:54:57.505624Z",
     "iopub.status.busy": "2025-02-05T04:54:57.505279Z",
     "iopub.status.idle": "2025-02-05T04:54:57.514451Z",
     "shell.execute_reply": "2025-02-05T04:54:57.513414Z"
    },
    "id": "IbCnokO8lsq3",
    "papermill": {
     "duration": 0.021069,
     "end_time": "2025-02-05T04:54:57.516148",
     "exception": false,
     "start_time": "2025-02-05T04:54:57.495079",
     "status": "completed"
    },
    "tags": []
   },
   "outputs": [
    {
     "data": {
      "text/plain": [
       "device\n",
       "Android    253\n",
       "iPhone     447\n",
       "Name: ID, dtype: int64"
      ]
     },
     "execution_count": 7,
     "metadata": {},
     "output_type": "execute_result"
    }
   ],
   "source": [
    "# Get count of null values by device\n",
    "### YOUR CODE HERE ###\n",
    "df_null.groupby('device').count()['ID']"
   ]
  },
  {
   "cell_type": "code",
   "execution_count": 8,
   "id": "f7264ba7",
   "metadata": {
    "execution": {
     "iopub.execute_input": "2025-02-05T04:54:57.537383Z",
     "iopub.status.busy": "2025-02-05T04:54:57.537017Z",
     "iopub.status.idle": "2025-02-05T04:54:57.547280Z",
     "shell.execute_reply": "2025-02-05T04:54:57.546298Z"
    },
    "papermill": {
     "duration": 0.023323,
     "end_time": "2025-02-05T04:54:57.549041",
     "exception": false,
     "start_time": "2025-02-05T04:54:57.525718",
     "status": "completed"
    },
    "tags": []
   },
   "outputs": [
    {
     "data": {
      "text/plain": [
       "device\n",
       "Android    5327\n",
       "iPhone     9672\n",
       "Name: ID, dtype: int64"
      ]
     },
     "execution_count": 8,
     "metadata": {},
     "output_type": "execute_result"
    }
   ],
   "source": [
    "df.groupby('device').count()['ID']"
   ]
  },
  {
   "cell_type": "markdown",
   "id": "5395242b",
   "metadata": {
    "id": "JKfLfQQUltQk",
    "papermill": {
     "duration": 0.00931,
     "end_time": "2025-02-05T04:54:57.568353",
     "exception": false,
     "start_time": "2025-02-05T04:54:57.559043",
     "status": "completed"
    },
    "tags": []
   },
   "source": [
    "**Question:** How many iPhone users had null values and how many Android users had null values?\n",
    "* **253** out of **5327 Android** users had null values \n",
    "* **447** out of **9672 iPhone** users had null values"
   ]
  },
  {
   "cell_type": "markdown",
   "id": "a82e0c47",
   "metadata": {
    "id": "xodMNO1Ql5PZ",
    "papermill": {
     "duration": 0.009307,
     "end_time": "2025-02-05T04:54:57.587149",
     "exception": false,
     "start_time": "2025-02-05T04:54:57.577842",
     "status": "completed"
    },
    "tags": []
   },
   "source": [
    "Now, of the rows with null values, calculate the percentage with each device&mdash;Android and iPhone. You can do this directly with the [`value_counts()`](https://pandas.pydata.org/docs/reference/api/pandas.Series.value_counts.html) function."
   ]
  },
  {
   "cell_type": "code",
   "execution_count": 9,
   "id": "8e8d1a9b",
   "metadata": {
    "execution": {
     "iopub.execute_input": "2025-02-05T04:54:57.607581Z",
     "iopub.status.busy": "2025-02-05T04:54:57.607197Z",
     "iopub.status.idle": "2025-02-05T04:54:57.615497Z",
     "shell.execute_reply": "2025-02-05T04:54:57.614436Z"
    },
    "id": "ajlCljYHmCTa",
    "papermill": {
     "duration": 0.020412,
     "end_time": "2025-02-05T04:54:57.617185",
     "exception": false,
     "start_time": "2025-02-05T04:54:57.596773",
     "status": "completed"
    },
    "tags": []
   },
   "outputs": [
    {
     "data": {
      "text/plain": [
       "device\n",
       "iPhone     0.638571\n",
       "Android    0.361429\n",
       "Name: proportion, dtype: float64"
      ]
     },
     "execution_count": 9,
     "metadata": {},
     "output_type": "execute_result"
    }
   ],
   "source": [
    "# Calculate % of iPhone nulls and Android nulls\n",
    "### YOUR CODE HERE ###\n",
    "df_null['device'].value_counts(normalize=True)"
   ]
  },
  {
   "cell_type": "markdown",
   "id": "56fa4998",
   "metadata": {
    "id": "dA_ps_fA3xn9",
    "papermill": {
     "duration": 0.009428,
     "end_time": "2025-02-05T04:54:57.636576",
     "exception": false,
     "start_time": "2025-02-05T04:54:57.627148",
     "status": "completed"
    },
    "tags": []
   },
   "source": [
    "How does this compare to the device ratio in the full dataset?"
   ]
  },
  {
   "cell_type": "code",
   "execution_count": 10,
   "id": "28d86a2f",
   "metadata": {
    "execution": {
     "iopub.execute_input": "2025-02-05T04:54:57.657452Z",
     "iopub.status.busy": "2025-02-05T04:54:57.657069Z",
     "iopub.status.idle": "2025-02-05T04:54:57.669491Z",
     "shell.execute_reply": "2025-02-05T04:54:57.668227Z"
    },
    "id": "Dm-qKyQNmCsQ",
    "papermill": {
     "duration": 0.024927,
     "end_time": "2025-02-05T04:54:57.671374",
     "exception": false,
     "start_time": "2025-02-05T04:54:57.646447",
     "status": "completed"
    },
    "tags": []
   },
   "outputs": [
    {
     "name": "stdout",
     "output_type": "stream",
     "text": [
      "proportion of iPhone users: 64.48\n",
      "proportion of Android users: 35.52\n"
     ]
    },
    {
     "name": "stderr",
     "output_type": "stream",
     "text": [
      "<ipython-input-10-6cc2e0385c03>:4: FutureWarning: Series.__getitem__ treating keys as positions is deprecated. In a future version, integer keys will always be treated as labels (consistent with DataFrame behavior). To access a value by position, use `ser.iloc[pos]`\n",
      "  print('proportion of iPhone users:', round(df['device'].value_counts(normalize=True)[0], 4)*100)\n",
      "<ipython-input-10-6cc2e0385c03>:5: FutureWarning: Series.__getitem__ treating keys as positions is deprecated. In a future version, integer keys will always be treated as labels (consistent with DataFrame behavior). To access a value by position, use `ser.iloc[pos]`\n",
      "  print('proportion of Android users:', round(df['device'].value_counts(normalize=True)[1], 4)*100)\n"
     ]
    }
   ],
   "source": [
    "# Calculate % of iPhone users and Android users in full dataset\n",
    "### YOUR CODE HERE ###\n",
    "df['device'].value_counts(normalize=True)\n",
    "print('proportion of iPhone users:', round(df['device'].value_counts(normalize=True)[0], 4)*100)\n",
    "print('proportion of Android users:', round(df['device'].value_counts(normalize=True)[1], 4)*100)"
   ]
  },
  {
   "cell_type": "code",
   "execution_count": 11,
   "id": "76de9238",
   "metadata": {
    "execution": {
     "iopub.execute_input": "2025-02-05T04:54:57.693198Z",
     "iopub.status.busy": "2025-02-05T04:54:57.692741Z",
     "iopub.status.idle": "2025-02-05T04:54:57.704062Z",
     "shell.execute_reply": "2025-02-05T04:54:57.702864Z"
    },
    "papermill": {
     "duration": 0.024232,
     "end_time": "2025-02-05T04:54:57.705758",
     "exception": false,
     "start_time": "2025-02-05T04:54:57.681526",
     "status": "completed"
    },
    "tags": []
   },
   "outputs": [
    {
     "name": "stdout",
     "output_type": "stream",
     "text": [
      "proportion of iphone nulls: 0.04621588089330025\n",
      "proportion of android nulls: 0.04749389900506852\n"
     ]
    },
    {
     "name": "stderr",
     "output_type": "stream",
     "text": [
      "<ipython-input-11-d4b81faf3cd0>:1: FutureWarning: Series.__getitem__ treating keys as positions is deprecated. In a future version, integer keys will always be treated as labels (consistent with DataFrame behavior). To access a value by position, use `ser.iloc[pos]`\n",
      "  print('proportion of iphone nulls:', df_null['device'].value_counts()[0]/df['device'].value_counts()[0])\n",
      "<ipython-input-11-d4b81faf3cd0>:1: FutureWarning: Series.__getitem__ treating keys as positions is deprecated. In a future version, integer keys will always be treated as labels (consistent with DataFrame behavior). To access a value by position, use `ser.iloc[pos]`\n",
      "  print('proportion of iphone nulls:', df_null['device'].value_counts()[0]/df['device'].value_counts()[0])\n",
      "<ipython-input-11-d4b81faf3cd0>:2: FutureWarning: Series.__getitem__ treating keys as positions is deprecated. In a future version, integer keys will always be treated as labels (consistent with DataFrame behavior). To access a value by position, use `ser.iloc[pos]`\n",
      "  print('proportion of android nulls:', df_null['device'].value_counts()[1]/df['device'].value_counts()[1])\n",
      "<ipython-input-11-d4b81faf3cd0>:2: FutureWarning: Series.__getitem__ treating keys as positions is deprecated. In a future version, integer keys will always be treated as labels (consistent with DataFrame behavior). To access a value by position, use `ser.iloc[pos]`\n",
      "  print('proportion of android nulls:', df_null['device'].value_counts()[1]/df['device'].value_counts()[1])\n"
     ]
    }
   ],
   "source": [
    "print('proportion of iphone nulls:', df_null['device'].value_counts()[0]/df['device'].value_counts()[0])\n",
    "print('proportion of android nulls:', df_null['device'].value_counts()[1]/df['device'].value_counts()[1])"
   ]
  },
  {
   "cell_type": "markdown",
   "id": "11300a56",
   "metadata": {
    "id": "eEIeGZdgmRh9",
    "papermill": {
     "duration": 0.009772,
     "end_time": "2025-02-05T04:54:57.725627",
     "exception": false,
     "start_time": "2025-02-05T04:54:57.715855",
     "status": "completed"
    },
    "tags": []
   },
   "source": [
    "The percentage of missing values by each device is consistent with their representation in the data overall.\n",
    "\n",
    "There is nothing to suggest a non-random cause of the missing data."
   ]
  },
  {
   "cell_type": "markdown",
   "id": "b8faf064",
   "metadata": {
    "id": "uIzg4fXtmSTe",
    "papermill": {
     "duration": 0.009528,
     "end_time": "2025-02-05T04:54:57.745090",
     "exception": false,
     "start_time": "2025-02-05T04:54:57.735562",
     "status": "completed"
    },
    "tags": []
   },
   "source": [
    "Examine the counts and percentages of users who churned vs. those who were retained. How many of each group are represented in the data?"
   ]
  },
  {
   "cell_type": "code",
   "execution_count": 12,
   "id": "6aabe2b9",
   "metadata": {
    "execution": {
     "iopub.execute_input": "2025-02-05T04:54:57.766135Z",
     "iopub.status.busy": "2025-02-05T04:54:57.765535Z",
     "iopub.status.idle": "2025-02-05T04:54:57.776304Z",
     "shell.execute_reply": "2025-02-05T04:54:57.775060Z"
    },
    "id": "zQ1mu8g9maYX",
    "papermill": {
     "duration": 0.023187,
     "end_time": "2025-02-05T04:54:57.778022",
     "exception": false,
     "start_time": "2025-02-05T04:54:57.754835",
     "status": "completed"
    },
    "tags": []
   },
   "outputs": [
    {
     "name": "stdout",
     "output_type": "stream",
     "text": [
      "label\n",
      "retained    11763\n",
      "churned      2536\n",
      "Name: count, dtype: int64 \n",
      "\n",
      "label\n",
      "retained    82.264494\n",
      "churned     17.735506\n",
      "Name: proportion, dtype: float64\n"
     ]
    }
   ],
   "source": [
    "# Calculate counts of churned vs. retained\n",
    "### YOUR CODE HERE ###\n",
    "print(df['label'].value_counts(), '\\n')\n",
    "\n",
    "print(df['label'].value_counts(normalize=True)*100)"
   ]
  },
  {
   "cell_type": "markdown",
   "id": "6e3775d7",
   "metadata": {
    "id": "VYTZIIOKmfIz",
    "papermill": {
     "duration": 0.009602,
     "end_time": "2025-02-05T04:54:57.798141",
     "exception": false,
     "start_time": "2025-02-05T04:54:57.788539",
     "status": "completed"
    },
    "tags": []
   },
   "source": [
    "This dataset contains 82% retained users and 18% churned users.\n",
    "\n",
    "Next, compare the medians of each variable for churned and retained users. The reason for calculating the median and not the mean is that you don't want outliers to unduly affect the portrayal of a typical user. Notice, for example, that the maximum value in the `driven_km_drives` column is 21,183 km. That's more than half the circumference of the earth!"
   ]
  },
  {
   "cell_type": "code",
   "execution_count": 13,
   "id": "bba41d29",
   "metadata": {
    "execution": {
     "iopub.execute_input": "2025-02-05T04:54:57.819102Z",
     "iopub.status.busy": "2025-02-05T04:54:57.818693Z",
     "iopub.status.idle": "2025-02-05T04:54:57.843356Z",
     "shell.execute_reply": "2025-02-05T04:54:57.842231Z"
    },
    "id": "jzngebHRmmFA",
    "papermill": {
     "duration": 0.037208,
     "end_time": "2025-02-05T04:54:57.845233",
     "exception": false,
     "start_time": "2025-02-05T04:54:57.808025",
     "status": "completed"
    },
    "tags": []
   },
   "outputs": [
    {
     "data": {
      "text/html": [
       "<div>\n",
       "<style scoped>\n",
       "    .dataframe tbody tr th:only-of-type {\n",
       "        vertical-align: middle;\n",
       "    }\n",
       "\n",
       "    .dataframe tbody tr th {\n",
       "        vertical-align: top;\n",
       "    }\n",
       "\n",
       "    .dataframe thead th {\n",
       "        text-align: right;\n",
       "    }\n",
       "</style>\n",
       "<table border=\"1\" class=\"dataframe\">\n",
       "  <thead>\n",
       "    <tr style=\"text-align: right;\">\n",
       "      <th></th>\n",
       "      <th>ID</th>\n",
       "      <th>sessions</th>\n",
       "      <th>drives</th>\n",
       "      <th>total_sessions</th>\n",
       "      <th>n_days_after_onboarding</th>\n",
       "      <th>total_navigations_fav1</th>\n",
       "      <th>total_navigations_fav2</th>\n",
       "      <th>driven_km_drives</th>\n",
       "      <th>duration_minutes_drives</th>\n",
       "      <th>activity_days</th>\n",
       "      <th>driving_days</th>\n",
       "    </tr>\n",
       "    <tr>\n",
       "      <th>label</th>\n",
       "      <th></th>\n",
       "      <th></th>\n",
       "      <th></th>\n",
       "      <th></th>\n",
       "      <th></th>\n",
       "      <th></th>\n",
       "      <th></th>\n",
       "      <th></th>\n",
       "      <th></th>\n",
       "      <th></th>\n",
       "      <th></th>\n",
       "    </tr>\n",
       "  </thead>\n",
       "  <tbody>\n",
       "    <tr>\n",
       "      <th>churned</th>\n",
       "      <td>7477.5</td>\n",
       "      <td>59.0</td>\n",
       "      <td>50.0</td>\n",
       "      <td>164.339042</td>\n",
       "      <td>1321.0</td>\n",
       "      <td>84.5</td>\n",
       "      <td>11.0</td>\n",
       "      <td>3652.655666</td>\n",
       "      <td>1607.183785</td>\n",
       "      <td>8.0</td>\n",
       "      <td>6.0</td>\n",
       "    </tr>\n",
       "    <tr>\n",
       "      <th>retained</th>\n",
       "      <td>7509.0</td>\n",
       "      <td>56.0</td>\n",
       "      <td>47.0</td>\n",
       "      <td>157.586756</td>\n",
       "      <td>1843.0</td>\n",
       "      <td>68.0</td>\n",
       "      <td>9.0</td>\n",
       "      <td>3464.684614</td>\n",
       "      <td>1458.046141</td>\n",
       "      <td>17.0</td>\n",
       "      <td>14.0</td>\n",
       "    </tr>\n",
       "  </tbody>\n",
       "</table>\n",
       "</div>"
      ],
      "text/plain": [
       "              ID  sessions  drives  total_sessions  n_days_after_onboarding  \\\n",
       "label                                                                         \n",
       "churned   7477.5      59.0    50.0      164.339042                   1321.0   \n",
       "retained  7509.0      56.0    47.0      157.586756                   1843.0   \n",
       "\n",
       "          total_navigations_fav1  total_navigations_fav2  driven_km_drives  \\\n",
       "label                                                                        \n",
       "churned                     84.5                    11.0       3652.655666   \n",
       "retained                    68.0                     9.0       3464.684614   \n",
       "\n",
       "          duration_minutes_drives  activity_days  driving_days  \n",
       "label                                                           \n",
       "churned               1607.183785            8.0           6.0  \n",
       "retained              1458.046141           17.0          14.0  "
      ]
     },
     "execution_count": 13,
     "metadata": {},
     "output_type": "execute_result"
    }
   ],
   "source": [
    "# Calculate median values of all columns for churned and retained users\n",
    "### YOUR CODE HERE ###\n",
    "df.groupby('label').median(numeric_only=True)"
   ]
  },
  {
   "cell_type": "markdown",
   "id": "e645f39a",
   "metadata": {
    "id": "NvnPFKS3mm71",
    "papermill": {
     "duration": 0.010137,
     "end_time": "2025-02-05T04:54:57.866419",
     "exception": false,
     "start_time": "2025-02-05T04:54:57.856282",
     "status": "completed"
    },
    "tags": []
   },
   "source": [
    "This offers an interesting snapshot of the two groups, churned vs. retained:\n",
    "\n",
    "Users who churned averaged ~3 more drives in the last month than retained users, but retained users used the app on over twice as many days as churned users in the same time period.\n",
    "\n",
    "The median churned user drove ~200 more kilometers and 2.5 more hours during the last month than the median retained user.\n",
    "\n",
    "It seems that churned users had more drives in fewer days, and their trips were farther and longer in duration. Perhaps this is suggestive of a user profile. Continue exploring!"
   ]
  },
  {
   "cell_type": "markdown",
   "id": "8e9bb0d7",
   "metadata": {
    "id": "cUAkU-JInALK",
    "papermill": {
     "duration": 0.009986,
     "end_time": "2025-02-05T04:54:57.886848",
     "exception": false,
     "start_time": "2025-02-05T04:54:57.876862",
     "status": "completed"
    },
    "tags": []
   },
   "source": [
    "Calculate the median kilometers per drive in the last month for both retained and churned users.\n",
    "\n",
    "Begin by dividing the `driven_km_drives` column by the `drives` column. Then, group the results by churned/retained and calculate the median km/drive of each group."
   ]
  },
  {
   "cell_type": "code",
   "execution_count": 14,
   "id": "6617e856",
   "metadata": {
    "execution": {
     "iopub.execute_input": "2025-02-05T04:54:57.908938Z",
     "iopub.status.busy": "2025-02-05T04:54:57.908570Z",
     "iopub.status.idle": "2025-02-05T04:54:57.935389Z",
     "shell.execute_reply": "2025-02-05T04:54:57.934322Z"
    },
    "id": "TVcP2PPhnBMZ",
    "papermill": {
     "duration": 0.039956,
     "end_time": "2025-02-05T04:54:57.937156",
     "exception": false,
     "start_time": "2025-02-05T04:54:57.897200",
     "status": "completed"
    },
    "tags": []
   },
   "outputs": [
    {
     "data": {
      "text/html": [
       "<div>\n",
       "<style scoped>\n",
       "    .dataframe tbody tr th:only-of-type {\n",
       "        vertical-align: middle;\n",
       "    }\n",
       "\n",
       "    .dataframe tbody tr th {\n",
       "        vertical-align: top;\n",
       "    }\n",
       "\n",
       "    .dataframe thead tr th {\n",
       "        text-align: left;\n",
       "    }\n",
       "\n",
       "    .dataframe thead tr:last-of-type th {\n",
       "        text-align: right;\n",
       "    }\n",
       "</style>\n",
       "<table border=\"1\" class=\"dataframe\">\n",
       "  <thead>\n",
       "    <tr>\n",
       "      <th></th>\n",
       "      <th>km_per_drive</th>\n",
       "    </tr>\n",
       "    <tr>\n",
       "      <th></th>\n",
       "      <th>median</th>\n",
       "    </tr>\n",
       "    <tr>\n",
       "      <th>label</th>\n",
       "      <th></th>\n",
       "    </tr>\n",
       "  </thead>\n",
       "  <tbody>\n",
       "    <tr>\n",
       "      <th>churned</th>\n",
       "      <td>74.109416</td>\n",
       "    </tr>\n",
       "    <tr>\n",
       "      <th>retained</th>\n",
       "      <td>75.014702</td>\n",
       "    </tr>\n",
       "  </tbody>\n",
       "</table>\n",
       "</div>"
      ],
      "text/plain": [
       "         km_per_drive\n",
       "               median\n",
       "label                \n",
       "churned     74.109416\n",
       "retained    75.014702"
      ]
     },
     "execution_count": 14,
     "metadata": {},
     "output_type": "execute_result"
    }
   ],
   "source": [
    "# Add a column to df called `km_per_drive`\n",
    "### YOUR CODE HERE ###\n",
    "df['km_per_drive']= df['driven_km_drives'] / df['drives']\n",
    "\n",
    "# Group by `label`, calculate the median, and isolate for km per drive\n",
    "### YOUR CODE HERE ###\n",
    "df.groupby('label').agg({'km_per_drive':['median']})"
   ]
  },
  {
   "cell_type": "markdown",
   "id": "f086b515",
   "metadata": {
    "id": "C6VicaRVnFzq",
    "papermill": {
     "duration": 0.010113,
     "end_time": "2025-02-05T04:54:57.957738",
     "exception": false,
     "start_time": "2025-02-05T04:54:57.947625",
     "status": "completed"
    },
    "tags": []
   },
   "source": [
    "The median retained user drove about one more kilometer per drive MORE than the median churned user. How many kilometers per driving day was this?\n",
    "\n",
    "To calculate this statistic, repeat the steps above using `driving_days` instead of `drives`."
   ]
  },
  {
   "cell_type": "code",
   "execution_count": 15,
   "id": "0cbe39b6",
   "metadata": {
    "execution": {
     "iopub.execute_input": "2025-02-05T04:54:57.979879Z",
     "iopub.status.busy": "2025-02-05T04:54:57.979539Z",
     "iopub.status.idle": "2025-02-05T04:54:57.994153Z",
     "shell.execute_reply": "2025-02-05T04:54:57.993116Z"
    },
    "id": "I6lD33kfnGQb",
    "papermill": {
     "duration": 0.027768,
     "end_time": "2025-02-05T04:54:57.995895",
     "exception": false,
     "start_time": "2025-02-05T04:54:57.968127",
     "status": "completed"
    },
    "tags": []
   },
   "outputs": [
    {
     "data": {
      "text/html": [
       "<div>\n",
       "<style scoped>\n",
       "    .dataframe tbody tr th:only-of-type {\n",
       "        vertical-align: middle;\n",
       "    }\n",
       "\n",
       "    .dataframe tbody tr th {\n",
       "        vertical-align: top;\n",
       "    }\n",
       "\n",
       "    .dataframe thead tr th {\n",
       "        text-align: left;\n",
       "    }\n",
       "\n",
       "    .dataframe thead tr:last-of-type th {\n",
       "        text-align: right;\n",
       "    }\n",
       "</style>\n",
       "<table border=\"1\" class=\"dataframe\">\n",
       "  <thead>\n",
       "    <tr>\n",
       "      <th></th>\n",
       "      <th>km_per_driving_day</th>\n",
       "    </tr>\n",
       "    <tr>\n",
       "      <th></th>\n",
       "      <th>median</th>\n",
       "    </tr>\n",
       "    <tr>\n",
       "      <th>label</th>\n",
       "      <th></th>\n",
       "    </tr>\n",
       "  </thead>\n",
       "  <tbody>\n",
       "    <tr>\n",
       "      <th>churned</th>\n",
       "      <td>697.541999</td>\n",
       "    </tr>\n",
       "    <tr>\n",
       "      <th>retained</th>\n",
       "      <td>289.549333</td>\n",
       "    </tr>\n",
       "  </tbody>\n",
       "</table>\n",
       "</div>"
      ],
      "text/plain": [
       "         km_per_driving_day\n",
       "                     median\n",
       "label                      \n",
       "churned          697.541999\n",
       "retained         289.549333"
      ]
     },
     "execution_count": 15,
     "metadata": {},
     "output_type": "execute_result"
    }
   ],
   "source": [
    "# Add a column to df called `km_per_driving_day`\n",
    "### YOUR CODE HERE ###\n",
    "df['km_per_driving_day']= df['driven_km_drives'] / df['driving_days']\n",
    "\n",
    "# Group by `label`, calculate the median, and isolate for km per driving day\n",
    "### YOUR CODE HERE ###\n",
    "df.groupby('label').agg({'km_per_driving_day':['median']})"
   ]
  },
  {
   "cell_type": "markdown",
   "id": "90a726b9",
   "metadata": {
    "id": "kIfSmukAnVSs",
    "papermill": {
     "duration": 0.010144,
     "end_time": "2025-02-05T04:54:58.017301",
     "exception": false,
     "start_time": "2025-02-05T04:54:58.007157",
     "status": "completed"
    },
    "tags": []
   },
   "source": [
    "Now, calculate the median number of drives per driving day for each group."
   ]
  },
  {
   "cell_type": "code",
   "execution_count": 16,
   "id": "66221282",
   "metadata": {
    "execution": {
     "iopub.execute_input": "2025-02-05T04:54:58.039861Z",
     "iopub.status.busy": "2025-02-05T04:54:58.039482Z",
     "iopub.status.idle": "2025-02-05T04:54:58.054364Z",
     "shell.execute_reply": "2025-02-05T04:54:58.053259Z"
    },
    "id": "VAHqOO8endWX",
    "papermill": {
     "duration": 0.028016,
     "end_time": "2025-02-05T04:54:58.056092",
     "exception": false,
     "start_time": "2025-02-05T04:54:58.028076",
     "status": "completed"
    },
    "tags": []
   },
   "outputs": [
    {
     "data": {
      "text/html": [
       "<div>\n",
       "<style scoped>\n",
       "    .dataframe tbody tr th:only-of-type {\n",
       "        vertical-align: middle;\n",
       "    }\n",
       "\n",
       "    .dataframe tbody tr th {\n",
       "        vertical-align: top;\n",
       "    }\n",
       "\n",
       "    .dataframe thead tr th {\n",
       "        text-align: left;\n",
       "    }\n",
       "\n",
       "    .dataframe thead tr:last-of-type th {\n",
       "        text-align: right;\n",
       "    }\n",
       "</style>\n",
       "<table border=\"1\" class=\"dataframe\">\n",
       "  <thead>\n",
       "    <tr>\n",
       "      <th></th>\n",
       "      <th>drives_per_driving_day</th>\n",
       "    </tr>\n",
       "    <tr>\n",
       "      <th></th>\n",
       "      <th>median</th>\n",
       "    </tr>\n",
       "    <tr>\n",
       "      <th>label</th>\n",
       "      <th></th>\n",
       "    </tr>\n",
       "  </thead>\n",
       "  <tbody>\n",
       "    <tr>\n",
       "      <th>churned</th>\n",
       "      <td>10.0000</td>\n",
       "    </tr>\n",
       "    <tr>\n",
       "      <th>retained</th>\n",
       "      <td>4.0625</td>\n",
       "    </tr>\n",
       "  </tbody>\n",
       "</table>\n",
       "</div>"
      ],
      "text/plain": [
       "         drives_per_driving_day\n",
       "                         median\n",
       "label                          \n",
       "churned                 10.0000\n",
       "retained                 4.0625"
      ]
     },
     "execution_count": 16,
     "metadata": {},
     "output_type": "execute_result"
    }
   ],
   "source": [
    "# Add a column to df called `drives_per_driving_day`\n",
    "### YOUR CODE HERE ###\n",
    "df['drives_per_driving_day']= df['drives'] / df['driving_days']\n",
    "\n",
    "\n",
    "# Group by `label`, calculate the median, and isolate for drives per driving day\n",
    "### YOUR CODE HERE ###\n",
    "df.groupby('label').agg({'drives_per_driving_day':['median']})"
   ]
  },
  {
   "cell_type": "markdown",
   "id": "536a479c",
   "metadata": {
    "id": "LVRAwsb1nv2L",
    "papermill": {
     "duration": 0.01021,
     "end_time": "2025-02-05T04:54:58.077010",
     "exception": false,
     "start_time": "2025-02-05T04:54:58.066800",
     "status": "completed"
    },
    "tags": []
   },
   "source": [
    "* **The median user who churned drove 698 kilometers each day they drove last month,  \n",
    "-->which is almost ~240% the per-drive-day distance of retained users**. \n",
    "\n",
    "* The median churned user had a similarly disproporionate number of drives per drive day compared to retained users.  \n",
    "--> **median churned user drove 6 drives more than a retained median user. which is 150% more than retained users** \n",
    "\n",
    "It is clear from these figures that, regardless of whether a user churned or not, the users represented in this data are serious drivers! It would probably be safe to assume that this data does not represent typical drivers at large. \n",
    "\n",
    "* Perhaps the data&mdash;and **in particular the sample of churned users&mdash;contains a high proportion of long-haul truckers.**\n",
    "\n",
    "In consideration of how much these users drive, it would be worthwhile to recommend to Waze that they gather more data on these super-drivers. It's possible that the reason for their driving so much is also the reason why the Waze app does not meet their specific set of needs, which may differ from the needs of a more typical driver, such as a commuter."
   ]
  },
  {
   "cell_type": "markdown",
   "id": "1d3139a2",
   "metadata": {
    "id": "xc7Q6elLoD1R",
    "papermill": {
     "duration": 0.01026,
     "end_time": "2025-02-05T04:54:58.097903",
     "exception": false,
     "start_time": "2025-02-05T04:54:58.087643",
     "status": "completed"
    },
    "tags": []
   },
   "source": [
    "Finally, examine whether there is an imbalance in how many users churned by device type.\n",
    "\n",
    "Begin by getting the overall counts of each device type for each group, churned and retained."
   ]
  },
  {
   "cell_type": "code",
   "execution_count": 17,
   "id": "1981768f",
   "metadata": {
    "execution": {
     "iopub.execute_input": "2025-02-05T04:54:58.120266Z",
     "iopub.status.busy": "2025-02-05T04:54:58.119819Z",
     "iopub.status.idle": "2025-02-05T04:54:58.136772Z",
     "shell.execute_reply": "2025-02-05T04:54:58.135686Z"
    },
    "id": "LGkODIILoEp-",
    "papermill": {
     "duration": 0.030055,
     "end_time": "2025-02-05T04:54:58.138476",
     "exception": false,
     "start_time": "2025-02-05T04:54:58.108421",
     "status": "completed"
    },
    "tags": []
   },
   "outputs": [
    {
     "data": {
      "text/html": [
       "<div>\n",
       "<style scoped>\n",
       "    .dataframe tbody tr th:only-of-type {\n",
       "        vertical-align: middle;\n",
       "    }\n",
       "\n",
       "    .dataframe tbody tr th {\n",
       "        vertical-align: top;\n",
       "    }\n",
       "\n",
       "    .dataframe thead tr th {\n",
       "        text-align: left;\n",
       "    }\n",
       "\n",
       "    .dataframe thead tr:last-of-type th {\n",
       "        text-align: right;\n",
       "    }\n",
       "</style>\n",
       "<table border=\"1\" class=\"dataframe\">\n",
       "  <thead>\n",
       "    <tr>\n",
       "      <th></th>\n",
       "      <th></th>\n",
       "      <th>device</th>\n",
       "    </tr>\n",
       "    <tr>\n",
       "      <th></th>\n",
       "      <th></th>\n",
       "      <th>count</th>\n",
       "    </tr>\n",
       "    <tr>\n",
       "      <th>label</th>\n",
       "      <th>device</th>\n",
       "      <th></th>\n",
       "    </tr>\n",
       "  </thead>\n",
       "  <tbody>\n",
       "    <tr>\n",
       "      <th rowspan=\"2\" valign=\"top\">churned</th>\n",
       "      <th>Android</th>\n",
       "      <td>891</td>\n",
       "    </tr>\n",
       "    <tr>\n",
       "      <th>iPhone</th>\n",
       "      <td>1645</td>\n",
       "    </tr>\n",
       "    <tr>\n",
       "      <th rowspan=\"2\" valign=\"top\">retained</th>\n",
       "      <th>Android</th>\n",
       "      <td>4183</td>\n",
       "    </tr>\n",
       "    <tr>\n",
       "      <th>iPhone</th>\n",
       "      <td>7580</td>\n",
       "    </tr>\n",
       "  </tbody>\n",
       "</table>\n",
       "</div>"
      ],
      "text/plain": [
       "                 device\n",
       "                  count\n",
       "label    device        \n",
       "churned  Android    891\n",
       "         iPhone    1645\n",
       "retained Android   4183\n",
       "         iPhone    7580"
      ]
     },
     "execution_count": 17,
     "metadata": {},
     "output_type": "execute_result"
    }
   ],
   "source": [
    "# For each label, calculate the number of Android users and iPhone users\n",
    "### YOUR CODE HERE ###\n",
    "df.groupby(['label', 'device']).agg({'device':['count']})"
   ]
  },
  {
   "cell_type": "markdown",
   "id": "60d9f5c8",
   "metadata": {
    "id": "yTVM6qFkoJs4",
    "papermill": {
     "duration": 0.010653,
     "end_time": "2025-02-05T04:54:58.160152",
     "exception": false,
     "start_time": "2025-02-05T04:54:58.149499",
     "status": "completed"
    },
    "tags": []
   },
   "source": [
    "Now, within each group, churned and retained, calculate what percent was Android and what percent was iPhone."
   ]
  },
  {
   "cell_type": "code",
   "execution_count": 18,
   "id": "f0d08eda",
   "metadata": {
    "execution": {
     "iopub.execute_input": "2025-02-05T04:54:58.183086Z",
     "iopub.status.busy": "2025-02-05T04:54:58.182681Z",
     "iopub.status.idle": "2025-02-05T04:54:58.201238Z",
     "shell.execute_reply": "2025-02-05T04:54:58.200151Z"
    },
    "id": "rx0ElsS6oO7y",
    "papermill": {
     "duration": 0.03191,
     "end_time": "2025-02-05T04:54:58.202949",
     "exception": false,
     "start_time": "2025-02-05T04:54:58.171039",
     "status": "completed"
    },
    "tags": []
   },
   "outputs": [
    {
     "data": {
      "text/plain": [
       "label     device \n",
       "churned   iPhone     0.648659\n",
       "          Android    0.351341\n",
       "retained  iPhone     0.644393\n",
       "          Android    0.355607\n",
       "Name: proportion, dtype: float64"
      ]
     },
     "execution_count": 18,
     "metadata": {},
     "output_type": "execute_result"
    }
   ],
   "source": [
    "# For each label, calculate the percentage of Android users and iPhone users\n",
    "### YOUR CODE HERE ###\n",
    "df.groupby('label')['device'].value_counts(normalize=True)"
   ]
  },
  {
   "cell_type": "markdown",
   "id": "e111a1ee",
   "metadata": {
    "id": "DQVIMPzroavO",
    "papermill": {
     "duration": 0.011543,
     "end_time": "2025-02-05T04:54:58.225390",
     "exception": false,
     "start_time": "2025-02-05T04:54:58.213847",
     "status": "completed"
    },
    "tags": []
   },
   "source": [
    "* The ratio of iPhone users and Android users is consistent between the churned group and the retained group, and those ratios are both consistent with the ratio found in the overall dataset."
   ]
  },
  {
   "cell_type": "markdown",
   "id": "ef81e67b",
   "metadata": {
    "id": "tF_82VLgzrQm",
    "papermill": {
     "duration": 0.010665,
     "end_time": "2025-02-05T04:54:58.247739",
     "exception": false,
     "start_time": "2025-02-05T04:54:58.237074",
     "status": "completed"
    },
    "tags": []
   },
   "source": [
    "<img src=\"images/Construct.png\" width=\"100\" height=\"100\" align=left>\n",
    "\n",
    "## **PACE: Construct**\n",
    "\n",
    "**Note**: The Construct stage does not apply to this workflow. The PACE framework can be adapted to fit the specific requirements of any project.\n",
    "\n"
   ]
  },
  {
   "cell_type": "markdown",
   "id": "9df8b1ad",
   "metadata": {
    "id": "BMHV86A6zrQo",
    "papermill": {
     "duration": 0.010595,
     "end_time": "2025-02-05T04:54:58.269227",
     "exception": false,
     "start_time": "2025-02-05T04:54:58.258632",
     "status": "completed"
    },
    "tags": []
   },
   "source": [
    "<img src=\"images/Execute.png\" width=\"100\" height=\"100\" align=left>\n",
    "\n",
    "## **PACE: Execute**\n",
    "\n",
    "Consider the questions in your PACE Strategy Document and those below to craft your response:"
   ]
  },
  {
   "cell_type": "markdown",
   "id": "9cb966a6",
   "metadata": {
    "id": "u3HxcMZgz6iW",
    "papermill": {
     "duration": 0.010284,
     "end_time": "2025-02-05T04:54:58.290313",
     "exception": false,
     "start_time": "2025-02-05T04:54:58.280029",
     "status": "completed"
    },
    "tags": []
   },
   "source": [
    "### **Task 3. Conclusion**\n",
    "\n",
    "Recall that your supervisor, May Santer, asked you to share your findings with the data team in an executive summary. Consider the following questions as you prepare to write your summary. Think about key points you may want to share with the team, and what information is most relevant to the user churn project.\n",
    "\n",
    "**Questions:**\n",
    "\n",
    "1. Did the data contain any missing values? How many, and which variables were affected? Was there a pattern to the missing data?  \n",
    "**700 missing values in the label column. There were NO observed patterns caused by the missing data**    \n",
    "**** \n",
    "2. What is a benefit of using the median value of a sample instead of the mean?  \n",
    "**median is more robust to outliers than mean**    \n",
    "****  \n",
    "3. Did your investigation give rise to further questions that you would like to explore or ask the Waze team about?   \n",
    "we need to identify dataset that truly represent the population.   \n",
    "this sample data contained more details about users who makes \"more drives\", covers more distance\" than an average user.  \n",
    "**Simply put, the sample was representative of super-users. Waze team needs to provide more representative sample.**  \n",
    "**** \n",
    "4. What percentage of the users in the dataset were Android users and what percentage were iPhone users?  \n",
    "**Percentage of iPhone users: 64.48\n",
    "Percentage of Android users: 35.52**  \n",
    "**** \n",
    "5. What were some distinguishing characteristics of users who churned vs. users who were retained?  \n",
    "**median churned user drove   \n",
    "\" 3 kms more per drive \"  \n",
    "\" 240% more kms per day \"  \n",
    "\" 150% more drives per day \"  \n",
    "than a median retained user**  \n",
    "**** \n",
    "6. Was there an appreciable difference in churn rate between iPhone users vs. Android users?  \n",
    "**NO. the proportion of iphone-android users between churned and retained remained the same at approximately ***65% iphone - 35% android***.**  \n",
    "**** \n",
    "\n",
    "\n"
   ]
  },
  {
   "cell_type": "markdown",
   "id": "e36c0def",
   "metadata": {
    "papermill": {
     "duration": 0.010774,
     "end_time": "2025-02-05T04:54:58.312228",
     "exception": false,
     "start_time": "2025-02-05T04:54:58.301454",
     "status": "completed"
    },
    "tags": []
   },
   "source": [
    "**Congratulations!** You've completed this lab. However, you may not notice a green check mark next to this item on Coursera's platform. Please continue your progress regardless of the check mark. Just click on the \"save\" icon at the top of this notebook to ensure your work has been logged."
   ]
  }
 ],
 "metadata": {
  "colab": {
   "provenance": [
    {
     "file_id": "11e8ZirEhEEhZj7pNZmB8r_dPDEwRnfPR",
     "timestamp": 1671051831339
    },
    {
     "file_id": "1SoZM3Yq8C8BdYu-st3_BAlhze2_Z6Ilb",
     "timestamp": 1668798742100
    },
    {
     "file_id": "1U6q6WFOo7_Ka_C9cdq49KwAsI_lFX86-",
     "timestamp": 1668698832849
    },
    {
     "file_id": "1h6rKqbyzegmvnh5T6X1MhTFOXE6VUciq",
     "timestamp": 1666209449412
    },
    {
     "file_id": "1Vz66UR_ImIhJ4HEkCzdY_9E9QLKiboV1",
     "timestamp": 1663780048645
    }
   ],
   "toc_visible": true
  },
  "kaggle": {
   "accelerator": "none",
   "dataSources": [
    {
     "datasetId": 6605803,
     "sourceId": 10666352,
     "sourceType": "datasetVersion"
    }
   ],
   "dockerImageVersionId": 30839,
   "isGpuEnabled": false,
   "isInternetEnabled": true,
   "language": "python",
   "sourceType": "notebook"
  },
  "kernelspec": {
   "display_name": "Python 3",
   "language": "python",
   "name": "python3"
  },
  "language_info": {
   "codemirror_mode": {
    "name": "ipython",
    "version": 3
   },
   "file_extension": ".py",
   "mimetype": "text/x-python",
   "name": "python",
   "nbconvert_exporter": "python",
   "pygments_lexer": "ipython3",
   "version": "3.10.12"
  },
  "papermill": {
   "default_parameters": {},
   "duration": 6.032791,
   "end_time": "2025-02-05T04:54:58.942484",
   "environment_variables": {},
   "exception": null,
   "input_path": "__notebook__.ipynb",
   "output_path": "__notebook__.ipynb",
   "parameters": {},
   "start_time": "2025-02-05T04:54:52.909693",
   "version": "2.6.0"
  }
 },
 "nbformat": 4,
 "nbformat_minor": 5
}
